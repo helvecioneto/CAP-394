{
 "cells": [
  {
   "cell_type": "code",
   "execution_count": 1,
   "metadata": {},
   "outputs": [],
   "source": [
    "import datetime\n",
    "import os\n",
    "import xarray as xr\n",
    "import numpy as np\n",
    "import matplotlib.pyplot as plt\n",
    "import matplotlib.colors as mcolors\n",
    "from mpl_toolkits.basemap import Basemap\n",
    "\n",
    "from matplotlib import animation\n",
    "\n",
    "#%matplotlib\n",
    "%matplotlib inline"
   ]
  },
  {
   "cell_type": "code",
   "execution_count": 14,
   "metadata": {},
   "outputs": [],
   "source": [
    "## Set data dir\n",
    "datadir = 'data/radar/'\n",
    "ddate = 20140201\n",
    "interval = 20\n",
    "\n",
    "# Original grid dimensions\n",
    "nx = 241\n",
    "ny = 241\n",
    "\n",
    "# pixel size (in meters)\n",
    "dx = 1000.\n",
    "dy = 1000.\n",
    "\n",
    "downsizeby = 1\n",
    "\n",
    "# Compute grid dimensions and grid coordinates after resampling\n",
    "dx2, dy2 = dx*downsizeby, dy*downsizeby\n",
    "nx2, ny2 = int(nx/downsizeby), int(ny/downsizeby)\n",
    "\n",
    "X2, Y2 = np.meshgrid( np.arange(0,nx2*dx2, dx2), np.arange(0,ny2*dy2, dy2) )\n",
    "\n",
    "\n",
    "# Define container\n",
    "frames = np.zeros( (interval, nx2, ny2 ) )\n",
    "\n",
    "\n",
    "### Reading files to numpy array (time,x,y)\n",
    "for i in range(interval):\n",
    "    d = str(datadir)+str(ddate)+'/'\n",
    "    file = (sorted(os.listdir(datadir+str(ddate)))[i])\n",
    "    xds = xr.open_dataset(d+file)\n",
    "    rr = xds.rain_rate\n",
    "    frames[i] =  rr\n",
    "    \n",
    "# Lat Lon coordinates\n",
    "lon = xds.lon0.data\n",
    "lat = xds.lat0.data\n",
    "rkm = xds.rain_rate.height_km\n",
    "runit = xds.rain_rate.units"
   ]
  },
  {
   "cell_type": "code",
   "execution_count": 3,
   "metadata": {},
   "outputs": [
    {
     "data": {
      "text/plain": [
       "<matplotlib.collections.PathCollection at 0x7f8aeb838b38>"
      ]
     },
     "execution_count": 3,
     "metadata": {},
     "output_type": "execute_result"
    },
    {
     "data": {
      "image/png": "[encoded data removed]",
      "text/plain": [
       "<Figure size 576x576 with 1 Axes>"
      ]
     },
     "metadata": {
      "needs_background": "light"
     },
     "output_type": "display_data"
    }
   ],
   "source": [
    "## Plot simple figure from dataset\n",
    "\n",
    "figtime = 1\n",
    "\n",
    "plt.figure(figsize=(8,8))\n",
    "plt.title(os.listdir(datadir+str(ddate))[figtime])\n",
    "plt.scatter(lon,lat,frames[figtime])\n",
    "#plt.pcolormesh(lon,lat,frames[figtime])"
   ]
  },
  {
   "cell_type": "code",
   "execution_count": 4,
   "metadata": {},
   "outputs": [],
   "source": [
    "### Without Radar range\n",
    "frame = np.nan_to_num(frames[0])"
   ]
  },
  {
   "cell_type": "code",
   "execution_count": null,
   "metadata": {},
   "outputs": [
    {
     "name": "stderr",
     "output_type": "stream",
     "text": [
      "/ssd/miniconda3/envs/cap394/lib/python3.6/site-packages/ipykernel_launcher.py:44: MatplotlibDeprecationWarning: \n",
      "The dedent function was deprecated in Matplotlib 3.1 and will be removed in 3.3. Use inspect.cleandoc instead.\n",
      "/ssd/miniconda3/envs/cap394/lib/python3.6/site-packages/ipykernel_launcher.py:56: MatplotlibDeprecationWarning: \n",
      "The dedent function was deprecated in Matplotlib 3.1 and will be removed in 3.3. Use inspect.cleandoc instead.\n",
      "/ssd/miniconda3/envs/cap394/lib/python3.6/site-packages/ipykernel_launcher.py:57: MatplotlibDeprecationWarning: \n",
      "The dedent function was deprecated in Matplotlib 3.1 and will be removed in 3.3. Use inspect.cleandoc instead.\n",
      "/ssd/miniconda3/envs/cap394/lib/python3.6/site-packages/ipykernel_launcher.py:58: MatplotlibDeprecationWarning: \n",
      "The dedent function was deprecated in Matplotlib 3.1 and will be removed in 3.3. Use inspect.cleandoc instead.\n",
      "MovieWriter imagemagick unavailable; trying to use <class 'matplotlib.animation.PillowWriter'> instead.\n"
     ]
    }
   ],
   "source": [
    "my_coords = [-3.148556, -59.992000]     ## RADAR T1 SIPAM COORDS\n",
    "zoom_scale = 2.2                        ## ZOOM SCALE\n",
    "\n",
    "fig, axes = plt.subplots(nrows=1,ncols=1,figsize=(10,10),dpi=100)\n",
    "\n",
    "# draw filled contours.\n",
    "clevs = [0, 1, 2.5, 5, 7.5, 10, 15, 20, 30, 40,\n",
    "             50, 70, 100]\n",
    "\n",
    "cmap_data = [(1.0, 1.0, 1.0),\n",
    "                 (0.3137255012989044, 0.8156862854957581, 0.8156862854957581),\n",
    "                 (0.0, 1.0, 1.0),\n",
    "                 (0.0, 0.8784313797950745, 0.501960813999176),\n",
    "                 (0.0, 0.7529411911964417, 0.0),\n",
    "                 (0.501960813999176, 0.8784313797950745, 0.0),\n",
    "                 (1.0, 1.0, 0.0),\n",
    "                 (1.0, 0.6274510025978088, 0.0),\n",
    "                 (1.0, 0.0, 0.0),\n",
    "                 (1.0, 0.125490203499794, 0.501960813999176),\n",
    "                 (0.9411764740943909, 0.250980406999588, 1.0),\n",
    "                 (0.501960813999176, 0.125490203499794, 1.0),\n",
    "                 (0.250980406999588, 0.250980406999588, 1.0),\n",
    "                 (0.125490203499794, 0.125490203499794, 0.501960813999176),\n",
    "                 (0.125490203499794, 0.125490203499794, 0.125490203499794),\n",
    "                 (0.501960813999176, 0.501960813999176, 0.501960813999176),\n",
    "                 (0.8784313797950745, 0.8784313797950745, 0.8784313797950745),\n",
    "                 (0.9333333373069763, 0.8313725590705872, 0.7372549176216125),\n",
    "                 (0.8549019694328308, 0.6509804129600525, 0.47058823704719543),\n",
    "                 (0.6274510025978088, 0.42352941632270813, 0.23529411852359772),\n",
    "                 (0.4000000059604645, 0.20000000298023224, 0.0)]\n",
    "cmap = mcolors.ListedColormap(cmap_data, 'precipitation')\n",
    "norm = mcolors.BoundaryNorm(clevs, cmap.N)\n",
    "ax = axes\n",
    "\n",
    "label = 'Rain rate in ' + runit\n",
    "title = os.listdir(datadir+str(ddate))[0]\n",
    "\n",
    "\n",
    "## BASEMAP\n",
    "bbox = [my_coords[0]-zoom_scale,my_coords[0]+zoom_scale,\\\n",
    "        my_coords[1]-zoom_scale,my_coords[1]+zoom_scale]\n",
    "\n",
    "m = Basemap(projection='merc',llcrnrlat=bbox[0],urcrnrlat=bbox[1],\\\n",
    "            llcrnrlon=bbox[2],urcrnrlon=bbox[3],lat_ts=10,resolution='i')\n",
    "\n",
    "## SIPAM RADAR\n",
    "xm, ym = m(my_coords[1],my_coords[0])\n",
    "radar = m.plot(xm,ym, marker='^',color='r', label='RADAR')\n",
    "\n",
    "# # # # Add Grid Lines\n",
    "m.drawparallels(np.arange(bbox[0],bbox[1],(bbox[1]-bbox[0])/5),labels=[1,0,0,0],rotation=45, size=(7))\n",
    "m.drawmeridians(np.arange(bbox[2],bbox[3],(bbox[3]-bbox[2])/5),labels=[0,0,0,1],rotation=45, size=(7))\n",
    "m.drawmapboundary(fill_color='gray')\n",
    "\n",
    "m.drawcoastlines()\n",
    "m.drawstates()\n",
    "m.drawcountries()\n",
    "m.drawrivers(color = '#0043CB', linewidth=1)\n",
    "\n",
    "# # # # # Add Title\n",
    "plt.title(title)\n",
    "plt.legend()\n",
    "plt.ylabel('Longitude', labelpad=40)\n",
    "plt.xlabel('Latitude', labelpad=60)\n",
    "\n",
    "#CLOUDS\n",
    "xi, yi = m(lon, lat)\n",
    "cs = m.pcolormesh(xi,yi,frames[0],cmap = cmap, norm = norm, ax=ax)\n",
    "\n",
    "def init():\n",
    "    return cs,\n",
    "\n",
    "def animate(i):\n",
    "    plt.title('Tempo: ' + str(i) + ' File: '+sorted(os.listdir(datadir+str(ddate)))[i])#)\n",
    "    m.pcolormesh(xi,yi,frames[i],cmap = cmap, norm = norm, ax=ax)\n",
    "    return cs,\n",
    "\n",
    "# # # # # Add Colorbar\n",
    "cbar = m.colorbar(cs, location='bottom', pad=\"10%\")\n",
    "cbar.set_label(label)\n",
    "\n",
    "anim = animation.FuncAnimation(fig, animate, init_func=init, frames=interval,  blit=True, repeat=True, save_count=interval)\n",
    "anim.save(os.listdir(datadir+str(ddate))[0]+'.gif', writer='imagemagick', fps=1)"
   ]
  },
  {
   "cell_type": "code",
   "execution_count": null,
   "metadata": {},
   "outputs": [],
   "source": []
  }
 ],
 "metadata": {
  "kernelspec": {
   "display_name": "Python 3",
   "language": "python",
   "name": "python3"
  },
  "language_info": {
   "codemirror_mode": {
    "name": "ipython",
    "version": 3
   },
   "file_extension": ".py",
   "mimetype": "text/x-python",
   "name": "python",
   "nbconvert_exporter": "python",
   "pygments_lexer": "ipython3",
   "version": "3.6.7"
  }
 },
 "nbformat": 4,
 "nbformat_minor": 2
}
