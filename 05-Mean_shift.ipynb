{
 "cells": [
  {
   "cell_type": "code",
   "execution_count": 2,
   "metadata": {},
   "outputs": [],
   "source": [
    "import xarray as xr\n",
    "import numpy as np\n",
    "import os\n",
    "import cv2"
   ]
  },
  {
   "cell_type": "code",
   "execution_count": 4,
   "metadata": {},
   "outputs": [],
   "source": [
    "## Set data dir\n",
    "datadir = 'data/radar/'\n",
    "ddate = 20140801\n",
    "interval = 10\n",
    "\n",
    "# Original grid dimensions\n",
    "nx = 241\n",
    "ny = 241\n",
    "\n",
    "# pixel size (in meters)\n",
    "dx = 1000.\n",
    "dy = 1000.\n",
    "\n",
    "downsizeby = 1\n",
    "\n",
    "# Compute grid dimensions and grid coordinates after resampling\n",
    "dx2, dy2 = dx*downsizeby, dy*downsizeby\n",
    "nx2, ny2 = int(nx/downsizeby), int(ny/downsizeby)\n",
    "\n",
    "X2, Y2 = np.meshgrid( np.arange(0,nx2*dx2, dx2), np.arange(0,ny2*dy2, dy2) )\n",
    "\n",
    "# Define container\n",
    "frames = np.zeros( (interval, nx2, ny2 ) )\n",
    "\n",
    "\n",
    "### Reading files to numpy array (time,x,y)\n",
    "for i in range(interval):\n",
    "    d = str(datadir)+str(ddate)+'/'\n",
    "    file = (sorted(os.listdir(datadir+str(ddate)))[i])\n",
    "    xds = xr.open_dataset(d+file)\n",
    "    rr = xds.rain_rate\n",
    "    data = xds.to_dataframe()\n",
    "    frames[i] =  rr"
   ]
  },
  {
   "cell_type": "code",
   "execution_count": null,
   "metadata": {},
   "outputs": [],
   "source": []
  }
 ],
 "metadata": {
  "kernelspec": {
   "display_name": "Python 3",
   "language": "python",
   "name": "python3"
  },
  "language_info": {
   "codemirror_mode": {
    "name": "ipython",
    "version": 3
   },
   "file_extension": ".py",
   "mimetype": "text/x-python",
   "name": "python",
   "nbconvert_exporter": "python",
   "pygments_lexer": "ipython3",
   "version": "3.6.7"
  }
 },
 "nbformat": 4,
 "nbformat_minor": 2
}
