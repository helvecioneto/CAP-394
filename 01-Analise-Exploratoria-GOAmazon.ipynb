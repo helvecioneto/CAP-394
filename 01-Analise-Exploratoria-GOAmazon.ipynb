{
 "cells": [
  {
   "cell_type": "code",
   "execution_count": 2,
   "metadata": {},
   "outputs": [],
   "source": [
    "from netCDF4 import Dataset\n",
    "import numpy as np"
   ]
  },
  {
   "cell_type": "markdown",
   "metadata": {},
   "source": []
  },
  {
   "cell_type": "code",
   "execution_count": 3,
   "metadata": {},
   "outputs": [],
   "source": [
    "data = 'data/sbmn_cappi_20140103_031208.nc'\n",
    "fh= Dataset(data,mode='r')"
   ]
  },
  {
   "cell_type": "markdown",
   "metadata": {},
   "source": [
    "Extracting and plotting point Data"
   ]
  },
  {
   "cell_type": "code",
   "execution_count": 4,
   "metadata": {},
   "outputs": [
    {
     "data": {
      "text/plain": [
       "odict_keys(['time', 'bounds', 'x0', 'y0', 'z0'])"
      ]
     },
     "execution_count": 4,
     "metadata": {},
     "output_type": "execute_result"
    }
   ],
   "source": [
    "fh.dimensions.keys()"
   ]
  },
  {
   "cell_type": "code",
   "execution_count": 5,
   "metadata": {},
   "outputs": [
    {
     "data": {
      "text/plain": [
       "odict_keys(['time', 'start_time', 'stop_time', 'time_bounds', 'x0', 'y0', 'lat0', 'lon0', 'z0', 'grid_mapping_0', 'VEL', 'DBZc', 'range', 'Coverage'])"
      ]
     },
     "execution_count": 5,
     "metadata": {},
     "output_type": "execute_result"
    }
   ],
   "source": [
    "fh.variables.keys()"
   ]
  },
  {
   "cell_type": "code",
   "execution_count": 6,
   "metadata": {},
   "outputs": [
    {
     "data": {
      "text/plain": [
       "<class 'netCDF4._netCDF4.Variable'>\n",
       "float32 DBZc(time, z0, y0, x0)\n",
       "    valid_min: -21.54068\n",
       "    valid_max: 49.67983\n",
       "    _FillValue: -9999.0\n",
       "    standard_name: DBZc\n",
       "    long_name: CZ\n",
       "    units: dBZ\n",
       "    coordinates: lon0 lat0\n",
       "    grid_mapping: grid_mapping_0\n",
       "unlimited dimensions: \n",
       "current shape = (1, 40, 241, 241)\n",
       "filling on"
      ]
     },
     "execution_count": 6,
     "metadata": {},
     "output_type": "execute_result"
    }
   ],
   "source": [
    "fh.variables['DBZc']"
   ]
  },
  {
   "cell_type": "code",
   "execution_count": 7,
   "metadata": {},
   "outputs": [],
   "source": [
    "lons = fh.variables['lon0'][:]\n",
    "lats = fh.variables['lat0'][:]\n",
    "dbz = fh.variables['DBZc'][:][0][0:240]\n",
    "\n",
    "dbz_units = fh.variables['DBZc'].units"
   ]
  },
  {
   "cell_type": "markdown",
   "metadata": {},
   "source": [
    "## Ploting georefeced data"
   ]
  },
  {
   "cell_type": "code",
   "execution_count": 8,
   "metadata": {},
   "outputs": [],
   "source": [
    "import matplotlib.pyplot as plt\n",
    "from mpl_toolkits.basemap import Basemap"
   ]
  },
  {
   "cell_type": "code",
   "execution_count": 9,
   "metadata": {},
   "outputs": [
    {
     "name": "stderr",
     "output_type": "stream",
     "text": [
      "/home/mastercontrol/miniconda3/envs/cap394/lib/python3.6/site-packages/ipykernel_launcher.py:6: MatplotlibDeprecationWarning: \n",
      "The dedent function was deprecated in Matplotlib 3.1 and will be removed in 3.3. Use inspect.cleandoc instead.\n",
      "  \n"
     ]
    }
   ],
   "source": [
    "lat_0 = lats.mean()\n",
    "lon_0 = lons.mean()\n",
    "\n",
    "m = Basemap(width=5000000,height=3500000,\n",
    "            resolution='l',projection='stere',\\\n",
    "            lat_ts=40,lat_0=lat_0,lon_0=lon_0,)"
   ]
  },
  {
   "cell_type": "code",
   "execution_count": null,
   "metadata": {},
   "outputs": [],
   "source": [
    "# Because our lon and lat variables are 1D,\n",
    "# use meshgrid to create 2D arrays\n",
    "# Not necessary if coordinates are already in 2D arrays.\n",
    "lon , lat = np.meshgrid(lons[0][:], lats[0][:])\n",
    "xi, yi = m(lon, lat)"
   ]
  },
  {
   "cell_type": "code",
   "execution_count": null,
   "metadata": {},
   "outputs": [],
   "source": [
    "# Plot Data\n",
    "cs = m.pcolor(xi,yi,np.squeeze(dbz.data[0]))\n",
    "\n",
    "# # Add Grid Lines\n",
    "m.drawparallels(np.arange(-80., 81., 10.), labels=[1,0,0,0], fontsize=10)\n",
    "m.drawmeridians(np.arange(-180., 181., 10.), labels=[0,0,0,1], fontsize=10)\n",
    "\n",
    "\n",
    "# # Add Coastlines, States, and Country Boundaries\n",
    "m.drawcoastlines()\n",
    "m.drawstates()\n",
    "m.drawcountries()\n",
    "\n",
    "# # Add Colorbar\n",
    "cbar = m.colorbar(cs, location='bottom', pad=\"10%\", size='10%')\n",
    "cbar.set_label(dbz_units)\n",
    "\n",
    "# # Add Title\n",
    "plt.title('DBZ Max')\n",
    "plt.show()"
   ]
  },
  {
   "cell_type": "code",
   "execution_count": null,
   "metadata": {},
   "outputs": [],
   "source": [
    "dbz = fh.variables['DBZc'][:][0][0:240]\n",
    "dados = dbz.data"
   ]
  },
  {
   "cell_type": "code",
   "execution_count": null,
   "metadata": {},
   "outputs": [],
   "source": [
    "count = 0\n",
    "for i in dados:\n",
    "    print(i)\n",
    "    count = count + 1"
   ]
  },
  {
   "cell_type": "code",
   "execution_count": null,
   "metadata": {},
   "outputs": [],
   "source": []
  },
  {
   "cell_type": "code",
   "execution_count": null,
   "metadata": {},
   "outputs": [],
   "source": [
    "from netCDF4 import Dataset\n",
    "import matplotlib.pyplot as plt\n",
    "from matplotlib.cm import get_cmap\n",
    "import cartopy.crs as crs\n",
    "from cartopy.feature import NaturalEarthFeature"
   ]
  },
  {
   "cell_type": "code",
   "execution_count": null,
   "metadata": {},
   "outputs": [],
   "source": [
    "from wrf import (to_np, getvar, smooth2d, get_cartopy, cartopy_xlim,\n",
    "                 cartopy_ylim, latlon_coords)"
   ]
  },
  {
   "cell_type": "code",
   "execution_count": null,
   "metadata": {},
   "outputs": [],
   "source": [
    "# Open the NetCDF file\n",
    "ncfile = Dataset(\"data/sbmn_cappi_20140103_031208.nc\")"
   ]
  },
  {
   "cell_type": "code",
   "execution_count": null,
   "metadata": {},
   "outputs": [],
   "source": [
    "ncfile.variables.keys()"
   ]
  }
 ],
 "metadata": {
  "kernelspec": {
   "display_name": "Python 3",
   "language": "python",
   "name": "python3"
  },
  "language_info": {
   "codemirror_mode": {
    "name": "ipython",
    "version": 3
   },
   "file_extension": ".py",
   "mimetype": "text/x-python",
   "name": "python",
   "nbconvert_exporter": "python",
   "pygments_lexer": "ipython3",
   "version": "3.6.8"
  }
 },
 "nbformat": 4,
 "nbformat_minor": 2
}
