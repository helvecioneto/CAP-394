{
 "cells": [
  {
   "cell_type": "code",
   "execution_count": 919,
   "metadata": {
    "ExecuteTime": {
     "end_time": "2019-09-10T15:44:18.117504Z",
     "start_time": "2019-09-10T15:44:18.114807Z"
    }
   },
   "outputs": [],
   "source": [
    "import os\n",
    "import xarray as xr\n",
    "import numpy as np\n",
    "import pandas as pd\n",
    "from sklearn.cluster import MeanShift, estimate_bandwidth\n",
    "from shapely.geometry import Polygon\n",
    "from shapely.geometry import Point\n",
    "import geopandas as gpd"
   ]
  },
  {
   "cell_type": "markdown",
   "metadata": {},
   "source": [
    "#### DEFINE VARIABLES"
   ]
  },
  {
   "cell_type": "code",
   "execution_count": 23,
   "metadata": {
    "ExecuteTime": {
     "end_time": "2019-09-10T11:39:18.692252Z",
     "start_time": "2019-09-10T11:39:18.689936Z"
    }
   },
   "outputs": [],
   "source": [
    "PATH = 'data/radar/'\n",
    "DAY = os.listdir(PATH)[0]"
   ]
  },
  {
   "cell_type": "markdown",
   "metadata": {},
   "source": [
    "#### READ FIRST FILES TO LOAD GLOBAL VARIABLES"
   ]
  },
  {
   "cell_type": "code",
   "execution_count": 112,
   "metadata": {
    "ExecuteTime": {
     "end_time": "2019-09-10T12:00:04.497584Z",
     "start_time": "2019-09-10T12:00:04.485370Z"
    }
   },
   "outputs": [],
   "source": [
    "first_file = PATH+str(DAY)+'/'+str(os.listdir(PATH+str(DAY))[0])\n",
    "try:\n",
    "    xds = xr.open_dataset(first_file)   \n",
    "except Exception as e:\n",
    "    print('File not found')\n",
    "    \n",
    "RUNIT = xds.rain_rate.units\n",
    "RKM = xds.rain_rate.height_km\n",
    "LON = xds.lon0.data                 ### Coordinate Longitude Matrix\n",
    "LAT = xds.lat0.data                 ### Corrdinate Latitude Matrix\n",
    "X0 = xds.x0                         ### Matrix of points\n",
    "Y0 = xds.y0\n",
    "RADAR = (np.median(LON),np.median(LAT))"
   ]
  },
  {
   "cell_type": "markdown",
   "metadata": {},
   "source": [
    "#### READ TIMES"
   ]
  },
  {
   "cell_type": "code",
   "execution_count": 126,
   "metadata": {
    "ExecuteTime": {
     "end_time": "2019-09-10T12:04:08.582423Z",
     "start_time": "2019-09-10T12:04:08.577653Z"
    }
   },
   "outputs": [],
   "source": [
    "def read_data(date):\n",
    "    \n",
    "    path = 'data/radar/'\n",
    "    dataset = []\n",
    "    interval = len(os.listdir(path+str(date)))    \n",
    "    \n",
    "    # Original grid dimensions\n",
    "    nx = 241\n",
    "    ny = 241\n",
    "\n",
    "    # Define container\n",
    "    frames = np.zeros( (interval, nx, ny ) )    \n",
    "    \n",
    "    for i in range(interval):\n",
    "        d = str(path)+str(date)+'/'\n",
    "        file = (sorted(os.listdir(path+str(date)))[i])\n",
    "        xds = xr.open_dataset(d+file)\n",
    "        rr = xds.rain_rate\n",
    "        frames[i] =  rr\n",
    "            \n",
    "    return frames"
   ]
  },
  {
   "cell_type": "code",
   "execution_count": 1068,
   "metadata": {
    "ExecuteTime": {
     "end_time": "2019-09-10T16:30:12.347961Z",
     "start_time": "2019-09-10T16:30:12.342909Z"
    }
   },
   "outputs": [],
   "source": [
    "def pre_processing(time):\n",
    "    np.warnings.filterwarnings('ignore')\n",
    "    \n",
    "    ## thereshold value to track\n",
    "    threshold = 21.8\n",
    "    \n",
    "    rs =  (np.where(time != np.nan) and np.where(time > threshold))\n",
    "    rs = np.asanyarray(rs)\n",
    "    pe = pd.DataFrame({'x1':rs[0],'y1':rs[1]})\n",
    "        \n",
    "    return pe"
   ]
  },
  {
   "cell_type": "code",
   "execution_count": 1069,
   "metadata": {
    "ExecuteTime": {
     "end_time": "2019-09-10T16:30:13.799757Z",
     "start_time": "2019-09-10T16:30:13.795225Z"
    }
   },
   "outputs": [],
   "source": [
    "def clusterization(time):\n",
    "    te = time\n",
    "    \n",
    "    if len(te) < 10:\n",
    "        return None\n",
    "    \n",
    "    bandwidth = estimate_bandwidth(te, quantile=0.3, n_samples=None, random_state=0, n_jobs=None)\n",
    "    \n",
    "    if bandwidth > 0:\n",
    "        ms = MeanShift(bandwidth=5, bin_seeding=None, cluster_all=True, min_bin_freq=1,\n",
    "    n_jobs=None, seeds=None)\n",
    "    else:\n",
    "        ms = MeanShift(bandwidth=10, bin_seeding=None, cluster_all=True, min_bin_freq=1,\n",
    "    n_jobs=None, seeds=None)\n",
    "\n",
    "    ms.fit(te)\n",
    "    labels = ms.labels_\n",
    "    cluster_centers = ms.cluster_centers_\n",
    "    n_clusters_ = len(np.unique(labels))\n",
    "    te['cluster']=labels\n",
    "    \n",
    "    return te"
   ]
  },
  {
   "cell_type": "code",
   "execution_count": 1070,
   "metadata": {
    "ExecuteTime": {
     "end_time": "2019-09-10T16:30:15.266847Z",
     "start_time": "2019-09-10T16:30:15.250810Z"
    }
   },
   "outputs": [],
   "source": [
    "def create_data(day,time,frames,clusters):\n",
    "    \n",
    "    data = pd.DataFrame(columns=['DATETIME', 'N_CLUSTER','ID_CLUST','LON','LAT','R_FALL','DBZ'])\n",
    "\n",
    "    # get values datetime\n",
    "    dtime = xr.open_dataset(str(PATH)+str(day)+'/'+str(sorted(os.listdir(PATH+str(day)))[time])).start_time.values\n",
    "    \n",
    "    lat = (LAT[clusters['x1'],clusters['y1']])\n",
    "    lon = (LON[clusters['x1'],clusters['y1']])\n",
    "    \n",
    "    # get values from RAIN_FALL\n",
    "    rfall = (frames[clusters['x1'],clusters['y1']])\n",
    "    \n",
    "    data['LON'] = lon\n",
    "    data['LAT'] = lat\n",
    "    data['N_CLUSTER'] = len(clusters['cluster'].unique())\n",
    "    data['ID_CLUST'] = clusters['cluster']\n",
    "    data['R_FALL'] = rfall\n",
    "    data['DBZ'] = 10 * np.log10(200*data['R_FALL']**1.6)\n",
    "    data['DATETIME'] = pd.to_datetime(dtime)\n",
    "    data = data.set_index('DATETIME')\n",
    "    \n",
    "    # get 5 largest values from DBZ\n",
    "    largest = 5\n",
    "    cdata = pd.DataFrame()\n",
    "    for i in range(data['N_CLUSTER'].max()):\n",
    "        ct = data.loc[data['ID_CLUST'] == i]\n",
    "        ct = ct.nlargest(largest,'DBZ')\n",
    "        cdata = cdata.append(ct)\n",
    "            \n",
    "    tdata = pd.DataFrame()\n",
    "    for i in range(cdata['N_CLUSTER'].max()):\n",
    "        if len(cdata.loc[cdata['ID_CLUST'] == i]) == 5:\n",
    "            tdata = tdata.append((cdata.loc[cdata['ID_CLUST'] == i]))\n",
    "            \n",
    "    tdata['N_CLUSTER'] = len(tdata['ID_CLUST'].unique())\n",
    "    \n",
    "    # clear memory\n",
    "    del data,dtime,lat,lon,rfall,largest,cdata,ct\n",
    "    \n",
    "    return tdata"
   ]
  },
  {
   "cell_type": "code",
   "execution_count": 1071,
   "metadata": {
    "ExecuteTime": {
     "end_time": "2019-09-10T16:30:17.893694Z",
     "start_time": "2019-09-10T16:30:17.715152Z"
    }
   },
   "outputs": [],
   "source": [
    "day = DAY\n",
    "time = 11\n",
    "frames = read_data(day)\n",
    "clusters = clusterization(pre_processing(frames[time]))"
   ]
  },
  {
   "cell_type": "code",
   "execution_count": 1073,
   "metadata": {
    "ExecuteTime": {
     "end_time": "2019-09-10T16:30:24.775961Z",
     "start_time": "2019-09-10T16:30:24.708111Z"
    }
   },
   "outputs": [
    {
     "data": {
      "text/html": [
       "<div>\n",
       "<style scoped>\n",
       "    .dataframe tbody tr th:only-of-type {\n",
       "        vertical-align: middle;\n",
       "    }\n",
       "\n",
       "    .dataframe tbody tr th {\n",
       "        vertical-align: top;\n",
       "    }\n",
       "\n",
       "    .dataframe thead th {\n",
       "        text-align: right;\n",
       "    }\n",
       "</style>\n",
       "<table border=\"1\" class=\"dataframe\">\n",
       "  <thead>\n",
       "    <tr style=\"text-align: right;\">\n",
       "      <th></th>\n",
       "      <th>N_CLUSTER</th>\n",
       "      <th>ID_CLUST</th>\n",
       "      <th>LON</th>\n",
       "      <th>LAT</th>\n",
       "      <th>R_FALL</th>\n",
       "      <th>DBZ</th>\n",
       "    </tr>\n",
       "    <tr>\n",
       "      <th>DATETIME</th>\n",
       "      <th></th>\n",
       "      <th></th>\n",
       "      <th></th>\n",
       "      <th></th>\n",
       "      <th></th>\n",
       "      <th></th>\n",
       "    </tr>\n",
       "  </thead>\n",
       "  <tbody>\n",
       "    <tr>\n",
       "      <td>2014-02-24 12:36:06</td>\n",
       "      <td>7</td>\n",
       "      <td>0</td>\n",
       "      <td>-59.524212</td>\n",
       "      <td>-3.059365</td>\n",
       "      <td>34.287148</td>\n",
       "      <td>47.572402</td>\n",
       "    </tr>\n",
       "    <tr>\n",
       "      <td>2014-02-24 12:36:06</td>\n",
       "      <td>7</td>\n",
       "      <td>0</td>\n",
       "      <td>-59.470253</td>\n",
       "      <td>-3.023407</td>\n",
       "      <td>30.686066</td>\n",
       "      <td>46.801359</td>\n",
       "    </tr>\n",
       "    <tr>\n",
       "      <td>2014-02-24 12:36:06</td>\n",
       "      <td>7</td>\n",
       "      <td>0</td>\n",
       "      <td>-59.542194</td>\n",
       "      <td>-3.077339</td>\n",
       "      <td>26.701881</td>\n",
       "      <td>45.834970</td>\n",
       "    </tr>\n",
       "    <tr>\n",
       "      <td>2014-02-24 12:36:06</td>\n",
       "      <td>7</td>\n",
       "      <td>0</td>\n",
       "      <td>-59.506203</td>\n",
       "      <td>-3.095289</td>\n",
       "      <td>26.643475</td>\n",
       "      <td>45.819754</td>\n",
       "    </tr>\n",
       "    <tr>\n",
       "      <td>2014-02-24 12:36:06</td>\n",
       "      <td>7</td>\n",
       "      <td>0</td>\n",
       "      <td>-59.416279</td>\n",
       "      <td>-3.023379</td>\n",
       "      <td>26.488224</td>\n",
       "      <td>45.779145</td>\n",
       "    </tr>\n",
       "  </tbody>\n",
       "</table>\n",
       "</div>"
      ],
      "text/plain": [
       "                     N_CLUSTER  ID_CLUST        LON       LAT     R_FALL  \\\n",
       "DATETIME                                                                   \n",
       "2014-02-24 12:36:06          7         0 -59.524212 -3.059365  34.287148   \n",
       "2014-02-24 12:36:06          7         0 -59.470253 -3.023407  30.686066   \n",
       "2014-02-24 12:36:06          7         0 -59.542194 -3.077339  26.701881   \n",
       "2014-02-24 12:36:06          7         0 -59.506203 -3.095289  26.643475   \n",
       "2014-02-24 12:36:06          7         0 -59.416279 -3.023379  26.488224   \n",
       "\n",
       "                           DBZ  \n",
       "DATETIME                        \n",
       "2014-02-24 12:36:06  47.572402  \n",
       "2014-02-24 12:36:06  46.801359  \n",
       "2014-02-24 12:36:06  45.834970  \n",
       "2014-02-24 12:36:06  45.819754  \n",
       "2014-02-24 12:36:06  45.779145  "
      ]
     },
     "execution_count": 1073,
     "metadata": {},
     "output_type": "execute_result"
    }
   ],
   "source": [
    "data = create_data(day,time,frames[time],clusters)\n",
    "data.head()"
   ]
  },
  {
   "cell_type": "code",
   "execution_count": 1066,
   "metadata": {
    "ExecuteTime": {
     "end_time": "2019-09-10T16:28:19.513189Z",
     "start_time": "2019-09-10T16:28:19.504045Z"
    }
   },
   "outputs": [],
   "source": [
    "from shapely import wkt\n",
    "def geo_data(cdata):\n",
    " \n",
    "    cdata['geometry'] = list(zip(cdata.LON,cdata.LAT))\n",
    "    cdata.geometry = cdata.geometry.apply(Point)\n",
    "    cdata['geometry'] = cdata['geometry'].apply(lambda x: x.coords[0])\n",
    "    cdata = cdata.groupby('ID_CLUST')['geometry'].apply(lambda x: Polygon(x.tolist())).reset_index()\n",
    "    cdata = gp.GeoDataFrame(cdata, geometry = 'geometry')\n",
    "    cdata.crs = {'init' :'epsg:4326'}\n",
    "    return cdata"
   ]
  },
  {
   "cell_type": "code",
   "execution_count": 1067,
   "metadata": {
    "ExecuteTime": {
     "end_time": "2019-09-10T16:28:27.414310Z",
     "start_time": "2019-09-10T16:28:27.315093Z"
    }
   },
   "outputs": [],
   "source": [
    "geo_data(data).geometry.convex_hull.to_file('no_lim.shp')"
   ]
  },
  {
   "cell_type": "code",
   "execution_count": 1050,
   "metadata": {
    "ExecuteTime": {
     "end_time": "2019-09-10T16:18:11.822469Z",
     "start_time": "2019-09-10T16:18:11.811095Z"
    }
   },
   "outputs": [],
   "source": [
    "geo_data(data).to_file('teste.shp')"
   ]
  },
  {
   "cell_type": "code",
   "execution_count": 849,
   "metadata": {
    "ExecuteTime": {
     "end_time": "2019-09-10T15:22:13.948722Z",
     "start_time": "2019-09-10T15:22:13.939119Z"
    }
   },
   "outputs": [
    {
     "data": {
      "text/html": [
       "<div>\n",
       "<style scoped>\n",
       "    .dataframe tbody tr th:only-of-type {\n",
       "        vertical-align: middle;\n",
       "    }\n",
       "\n",
       "    .dataframe tbody tr th {\n",
       "        vertical-align: top;\n",
       "    }\n",
       "\n",
       "    .dataframe thead th {\n",
       "        text-align: right;\n",
       "    }\n",
       "</style>\n",
       "<table border=\"1\" class=\"dataframe\">\n",
       "  <thead>\n",
       "    <tr style=\"text-align: right;\">\n",
       "      <th></th>\n",
       "      <th>N_CLUSTER</th>\n",
       "      <th>ID_CLUST</th>\n",
       "      <th>LON</th>\n",
       "      <th>LAT</th>\n",
       "      <th>R_FALL</th>\n",
       "      <th>DBZ</th>\n",
       "    </tr>\n",
       "    <tr>\n",
       "      <th>DATETIME</th>\n",
       "      <th></th>\n",
       "      <th></th>\n",
       "      <th></th>\n",
       "      <th></th>\n",
       "      <th></th>\n",
       "      <th></th>\n",
       "    </tr>\n",
       "  </thead>\n",
       "  <tbody>\n",
       "    <tr>\n",
       "      <td>2014-02-24 12:24:04</td>\n",
       "      <td>4</td>\n",
       "      <td>0</td>\n",
       "      <td>-59.956028</td>\n",
       "      <td>-2.682176</td>\n",
       "      <td>50.618385</td>\n",
       "      <td>50.279233</td>\n",
       "    </tr>\n",
       "    <tr>\n",
       "      <td>2014-02-24 12:24:04</td>\n",
       "      <td>4</td>\n",
       "      <td>0</td>\n",
       "      <td>-59.974014</td>\n",
       "      <td>-2.664210</td>\n",
       "      <td>35.563751</td>\n",
       "      <td>47.826421</td>\n",
       "    </tr>\n",
       "    <tr>\n",
       "      <td>2014-02-24 12:24:04</td>\n",
       "      <td>4</td>\n",
       "      <td>0</td>\n",
       "      <td>-59.920052</td>\n",
       "      <td>-2.754039</td>\n",
       "      <td>35.314507</td>\n",
       "      <td>47.777550</td>\n",
       "    </tr>\n",
       "    <tr>\n",
       "      <td>2014-02-24 12:24:04</td>\n",
       "      <td>4</td>\n",
       "      <td>0</td>\n",
       "      <td>-59.956028</td>\n",
       "      <td>-2.700142</td>\n",
       "      <td>32.902802</td>\n",
       "      <td>47.286026</td>\n",
       "    </tr>\n",
       "    <tr>\n",
       "      <td>2014-02-24 12:24:04</td>\n",
       "      <td>4</td>\n",
       "      <td>0</td>\n",
       "      <td>-59.974014</td>\n",
       "      <td>-2.682176</td>\n",
       "      <td>31.535984</td>\n",
       "      <td>46.991202</td>\n",
       "    </tr>\n",
       "  </tbody>\n",
       "</table>\n",
       "</div>"
      ],
      "text/plain": [
       "                     N_CLUSTER  ID_CLUST        LON       LAT     R_FALL  \\\n",
       "DATETIME                                                                   \n",
       "2014-02-24 12:24:04          4         0 -59.956028 -2.682176  50.618385   \n",
       "2014-02-24 12:24:04          4         0 -59.974014 -2.664210  35.563751   \n",
       "2014-02-24 12:24:04          4         0 -59.920052 -2.754039  35.314507   \n",
       "2014-02-24 12:24:04          4         0 -59.956028 -2.700142  32.902802   \n",
       "2014-02-24 12:24:04          4         0 -59.974014 -2.682176  31.535984   \n",
       "\n",
       "                           DBZ  \n",
       "DATETIME                        \n",
       "2014-02-24 12:24:04  50.279233  \n",
       "2014-02-24 12:24:04  47.826421  \n",
       "2014-02-24 12:24:04  47.777550  \n",
       "2014-02-24 12:24:04  47.286026  \n",
       "2014-02-24 12:24:04  46.991202  "
      ]
     },
     "execution_count": 849,
     "metadata": {},
     "output_type": "execute_result"
    }
   ],
   "source": [
    "data.loc[data['ID_CLUST'] == 0]"
   ]
  },
  {
   "cell_type": "code",
   "execution_count": 874,
   "metadata": {
    "ExecuteTime": {
     "end_time": "2019-09-10T15:28:58.929807Z",
     "start_time": "2019-09-10T15:28:58.926330Z"
    }
   },
   "outputs": [],
   "source": [
    "poly0 = gpd.GeoSeries([Polygon([(-59.956028,-2.682176), (-59.974014,-2.664210),(-59.920052,-2.754039),(-59.956028,-2.700142),\n",
    "                                (-59.974014,-2.682176)])])"
   ]
  },
  {
   "cell_type": "code",
   "execution_count": 877,
   "metadata": {
    "ExecuteTime": {
     "end_time": "2019-09-10T15:29:21.930576Z",
     "start_time": "2019-09-10T15:29:21.810011Z"
    }
   },
   "outputs": [
    {
     "data": {
      "text/plain": [
       "<matplotlib.axes._subplots.AxesSubplot at 0x7f62777e0160>"
      ]
     },
     "execution_count": 877,
     "metadata": {},
     "output_type": "execute_result"
    },
    {
     "data": {
      "image/png": "[encoded data removed]",
      "text/plain": [
       "<Figure size 432x288 with 1 Axes>"
      ]
     },
     "metadata": {
      "needs_background": "light"
     },
     "output_type": "display_data"
    }
   ],
   "source": [
    "poly0.convex_hull.plot()"
   ]
  },
  {
   "cell_type": "code",
   "execution_count": 972,
   "metadata": {
    "ExecuteTime": {
     "end_time": "2019-09-10T15:58:09.256326Z",
     "start_time": "2019-09-10T15:58:09.251057Z"
    }
   },
   "outputs": [],
   "source": [
    "import pandas as pd\n",
    "import geopandas as gp\n",
    "from shapely.geometry import Point, Polygon\n",
    "\n",
    "# Initialize a test GeoDataFrame where geometry is a list of points\n",
    "df = gp.GeoDataFrame( [['box', Point(1, 0)], \n",
    "                       ['box', Point(1, 1)], \n",
    "                       ['box', Point(2,2)], \n",
    "                       ['box', Point(1,2)]],  \n",
    "                     columns = ['shape_id', 'geometry'], \n",
    "                     geometry='geometry')\n",
    "\n",
    "# # Extract the coordinates from the Point object\n",
    "df['geometry'] = df['geometry'].apply(lambda x: x.coords[0])\n",
    "\n",
    "# # Group by shape ID \n",
    "# #  1. Get all of the coordinates for that ID as a list\n",
    "# #  2. Convert that list to a Polygon\n",
    "# df = df.groupby('shape_id')['geometry'].apply(lambda x: Polygon(x.tolist())).reset_index()\n",
    "\n",
    "# # Declare the result as a new a GeoDataFrame\n",
    "# df = gp.GeoDataFrame(df, geometry = 'geometry')\n",
    "\n",
    "# df.plot()"
   ]
  },
  {
   "cell_type": "code",
   "execution_count": 973,
   "metadata": {
    "ExecuteTime": {
     "end_time": "2019-09-10T15:58:10.652167Z",
     "start_time": "2019-09-10T15:58:10.643818Z"
    }
   },
   "outputs": [
    {
     "data": {
      "text/html": [
       "<div>\n",
       "<style scoped>\n",
       "    .dataframe tbody tr th:only-of-type {\n",
       "        vertical-align: middle;\n",
       "    }\n",
       "\n",
       "    .dataframe tbody tr th {\n",
       "        vertical-align: top;\n",
       "    }\n",
       "\n",
       "    .dataframe thead th {\n",
       "        text-align: right;\n",
       "    }\n",
       "</style>\n",
       "<table border=\"1\" class=\"dataframe\">\n",
       "  <thead>\n",
       "    <tr style=\"text-align: right;\">\n",
       "      <th></th>\n",
       "      <th>shape_id</th>\n",
       "      <th>geometry</th>\n",
       "    </tr>\n",
       "  </thead>\n",
       "  <tbody>\n",
       "    <tr>\n",
       "      <td>0</td>\n",
       "      <td>box</td>\n",
       "      <td>(1.0, 0.0)</td>\n",
       "    </tr>\n",
       "    <tr>\n",
       "      <td>1</td>\n",
       "      <td>box</td>\n",
       "      <td>(1.0, 1.0)</td>\n",
       "    </tr>\n",
       "    <tr>\n",
       "      <td>2</td>\n",
       "      <td>box</td>\n",
       "      <td>(2.0, 2.0)</td>\n",
       "    </tr>\n",
       "    <tr>\n",
       "      <td>3</td>\n",
       "      <td>box</td>\n",
       "      <td>(1.0, 2.0)</td>\n",
       "    </tr>\n",
       "  </tbody>\n",
       "</table>\n",
       "</div>"
      ],
      "text/plain": [
       "  shape_id    geometry\n",
       "0      box  (1.0, 0.0)\n",
       "1      box  (1.0, 1.0)\n",
       "2      box  (2.0, 2.0)\n",
       "3      box  (1.0, 2.0)"
      ]
     },
     "execution_count": 973,
     "metadata": {},
     "output_type": "execute_result"
    }
   ],
   "source": [
    "df"
   ]
  },
  {
   "cell_type": "code",
   "execution_count": 1074,
   "metadata": {
    "ExecuteTime": {
     "end_time": "2019-09-10T16:48:18.092416Z",
     "start_time": "2019-09-10T16:48:18.072146Z"
    }
   },
   "outputs": [],
   "source": [
    "from PIL import Image\n",
    "import numpy as np\n",
    "\n",
    "# create data\n",
    "d = np.ndarray(shape=(10,20), dtype=np.float32)\n",
    "d[()] = np.arange(200).reshape(10, 20)\n",
    "\n",
    "im = Image.fromarray(d, mode='F') # float32\n",
    "im.save(\"test2.tiff\", \"TIFF\")"
   ]
  }
 ],
 "metadata": {
  "kernelspec": {
   "display_name": "Python 3",
   "language": "python",
   "name": "python3"
  },
  "language_info": {
   "codemirror_mode": {
    "name": "ipython",
    "version": 3
   },
   "file_extension": ".py",
   "mimetype": "text/x-python",
   "name": "python",
   "nbconvert_exporter": "python",
   "pygments_lexer": "ipython3",
   "version": "3.6.7"
  },
  "toc": {
   "base_numbering": 1,
   "nav_menu": {},
   "number_sections": true,
   "sideBar": true,
   "skip_h1_title": false,
   "title_cell": "Table of Contents",
   "title_sidebar": "Contents",
   "toc_cell": false,
   "toc_position": {},
   "toc_section_display": true,
   "toc_window_display": false
  }
 },
 "nbformat": 4,
 "nbformat_minor": 2
}
