{
 "cells": [
  {
   "cell_type": "code",
   "execution_count": 3,
   "metadata": {
    "ExecuteTime": {
     "end_time": "2019-09-12T19:30:32.001312Z",
     "start_time": "2019-09-12T19:30:31.035380Z"
    }
   },
   "outputs": [],
   "source": [
    "import os\n",
    "import xarray as xr\n",
    "import numpy as np\n",
    "import pandas as pd\n",
    "from sklearn.cluster import MeanShift, estimate_bandwidth\n",
    "from shapely.geometry import Polygon\n",
    "from shapely.geometry import Point\n",
    "import geopandas as gpd\n",
    "import matplotlib.pyplot as plt"
   ]
  },
  {
   "cell_type": "markdown",
   "metadata": {},
   "source": [
    "#### DEFINE VARIABLES"
   ]
  },
  {
   "cell_type": "code",
   "execution_count": 4,
   "metadata": {
    "ExecuteTime": {
     "end_time": "2019-09-12T19:30:32.005129Z",
     "start_time": "2019-09-12T19:30:32.002848Z"
    }
   },
   "outputs": [],
   "source": [
    "PATH = 'data/radar/'\n",
    "DAY = sorted(os.listdir(PATH))[0]"
   ]
  },
  {
   "cell_type": "markdown",
   "metadata": {},
   "source": [
    "#### READ FIRST FILES TO LOAD GLOBAL VARIABLES"
   ]
  },
  {
   "cell_type": "code",
   "execution_count": 5,
   "metadata": {
    "ExecuteTime": {
     "end_time": "2019-09-12T19:30:32.534011Z",
     "start_time": "2019-09-12T19:30:32.458854Z"
    }
   },
   "outputs": [],
   "source": [
    "first_file = PATH+str(DAY)+'/'+str(sorted(os.listdir(PATH+str(DAY)))[0])\n",
    "try:\n",
    "    xds = xr.open_dataset(first_file)   \n",
    "except Exception as e:\n",
    "    print('File not found')\n",
    "    \n",
    "RUNIT = xds.rain_rate.units\n",
    "RKM = xds.rain_rate.height_km\n",
    "LON = xds.lon0.data                 ### Coordinate Longitude Matrix\n",
    "LAT = xds.lat0.data                 ### Corrdinate Latitude Matrix\n",
    "X0 = xds.x0                         ### Matrix of points\n",
    "Y0 = xds.y0\n",
    "RADAR = (np.median(LON),np.median(LAT))"
   ]
  },
  {
   "cell_type": "markdown",
   "metadata": {},
   "source": [
    "#### READ TIMES"
   ]
  },
  {
   "cell_type": "code",
   "execution_count": 6,
   "metadata": {
    "ExecuteTime": {
     "end_time": "2019-09-12T19:30:33.045030Z",
     "start_time": "2019-09-12T19:30:33.031848Z"
    }
   },
   "outputs": [],
   "source": [
    "def read_data(date):\n",
    "    \n",
    "    path = 'data/radar/'\n",
    "    dataset = []\n",
    "    interval = len(os.listdir(path+str(date)))    \n",
    "    \n",
    "    # Original grid dimensions\n",
    "    nx = 241\n",
    "    ny = 241\n",
    "\n",
    "    # Define container\n",
    "    frames = np.zeros( (interval, nx, ny ) )    \n",
    "    \n",
    "    for i in range(interval):\n",
    "        d = str(path)+str(date)+'/'\n",
    "        file = (sorted(os.listdir(path+str(date)))[i])\n",
    "        xds = xr.open_dataset(d+file)\n",
    "        rr = xds.rain_rate\n",
    "        frames[i] =  rr\n",
    "            \n",
    "    return frames"
   ]
  },
  {
   "cell_type": "code",
   "execution_count": 7,
   "metadata": {
    "ExecuteTime": {
     "end_time": "2019-09-12T19:30:34.187848Z",
     "start_time": "2019-09-12T19:30:33.423331Z"
    }
   },
   "outputs": [
    {
     "data": {
      "image/png": "[encoded data removed]",
      "text/plain": [
       "<Figure size 576x288 with 1 Axes>"
      ]
     },
     "metadata": {
      "needs_background": "light"
     },
     "output_type": "display_data"
    }
   ],
   "source": [
    "DAY = 20140224\n",
    "figtime = 0\n",
    "frames = read_data(DAY)\n",
    "\n",
    "filename = sorted(os.listdir(PATH+str(DAY)))[figtime]\n",
    "plt.figure(figsize=(8,4))\n",
    "plt.title(filename)\n",
    "plt.scatter(LON,LAT,frames[figtime])\n",
    "plt.show();"
   ]
  },
  {
   "cell_type": "code",
   "execution_count": 140,
   "metadata": {
    "ExecuteTime": {
     "end_time": "2019-09-12T19:58:12.199204Z",
     "start_time": "2019-09-12T19:58:12.196136Z"
    }
   },
   "outputs": [],
   "source": [
    "def pre_processing(time):\n",
    "    np.warnings.filterwarnings('ignore')\n",
    "    \n",
    "    ## thereshold value to track  2.85\n",
    "    threshold = 9.96\n",
    "    \n",
    "    rs =  (np.where(time != np.nan) and np.where(time > threshold))\n",
    "    rs = np.asanyarray(rs)\n",
    "    pe = pd.DataFrame({'x1':rs[0],'y1':rs[1]})\n",
    "        \n",
    "    return pe"
   ]
  },
  {
   "cell_type": "code",
   "execution_count": 141,
   "metadata": {
    "ExecuteTime": {
     "end_time": "2019-09-12T19:58:13.833243Z",
     "start_time": "2019-09-12T19:58:13.817475Z"
    }
   },
   "outputs": [],
   "source": [
    "def clusterization(time):\n",
    "    te = time\n",
    "    \n",
    "    if len(te) < 10:\n",
    "        return None\n",
    "    \n",
    "    bandwidth = estimate_bandwidth(te, quantile=0.1, n_samples=None, random_state=0, n_jobs=None)\n",
    "    \n",
    "    if bandwidth > 0:\n",
    "        ms = MeanShift(bandwidth=bandwidth, bin_seeding=None, cluster_all=True, min_bin_freq=1,\n",
    "    n_jobs=None, seeds=None)\n",
    "    else:\n",
    "        ms = MeanShift(bandwidth=10, bin_seeding=None, cluster_all=True, min_bin_freq=1,\n",
    "    n_jobs=None, seeds=None)\n",
    "\n",
    "    ms.fit(te)\n",
    "    labels = ms.labels_\n",
    "    cluster_centers = ms.cluster_centers_\n",
    "    n_clusters_ = len(np.unique(labels))\n",
    "    te['cluster']=labels\n",
    "    \n",
    "    return te"
   ]
  },
  {
   "cell_type": "code",
   "execution_count": 142,
   "metadata": {
    "ExecuteTime": {
     "end_time": "2019-09-12T19:58:15.285788Z",
     "start_time": "2019-09-12T19:58:15.242940Z"
    }
   },
   "outputs": [],
   "source": [
    "def create_data(day,time,frames,clusters):\n",
    "    \n",
    "    data = pd.DataFrame(columns=['DATETIME', 'N_CLUSTER','ID_CLUST','LON','LAT','R_FALL','DBZ'])\n",
    "\n",
    "    # get values datetime\n",
    "    dtime = xr.open_dataset(str(PATH)+str(day)+'/'+str(sorted(os.listdir(PATH+str(day)))[time])).start_time.values\n",
    "    \n",
    "    lat = (LAT[clusters['x1'],clusters['y1']])\n",
    "    lon = (LON[clusters['x1'],clusters['y1']])\n",
    "    \n",
    "    # get values from RAIN_FALL\n",
    "    rfall = (frames[clusters['x1'],clusters['y1']])\n",
    "    \n",
    "    data['LON'] = lon\n",
    "    data['LAT'] = lat\n",
    "    data['N_CLUSTER'] = len(clusters['cluster'].unique())\n",
    "    data['ID_CLUST'] = clusters['cluster']\n",
    "    data['R_FALL'] = rfall\n",
    "    data['DBZ'] = 10 * np.log10(200*data['R_FALL']**1.6)\n",
    "    data['DATETIME'] = pd.to_datetime(dtime)\n",
    "    data = data.set_index('DATETIME')\n",
    "    \n",
    "    # get 5 largest values from DBZ\n",
    "    largest = 3\n",
    "    cdata = pd.DataFrame()\n",
    "    for i in range(data['N_CLUSTER'].max()):\n",
    "        ct = data.loc[data['ID_CLUST'] == i]\n",
    "        ct = ct.nlargest(largest,'DBZ')\n",
    "        cdata = cdata.append(ct)\n",
    "            \n",
    "    tdata = pd.DataFrame()\n",
    "    for i in range(cdata['N_CLUSTER'].max()):\n",
    "        if len(cdata.loc[cdata['ID_CLUST'] == i]) >= 3:\n",
    "            tdata = tdata.append((cdata.loc[cdata['ID_CLUST'] == i]))\n",
    "            \n",
    "    tdata['N_CLUSTER'] = len(tdata['ID_CLUST'].unique())\n",
    "    \n",
    "    del data,dtime,lat,lon,rfall,largest,cdata,ct\n",
    "    \n",
    "    return tdata"
   ]
  },
  {
   "cell_type": "code",
   "execution_count": 143,
   "metadata": {
    "ExecuteTime": {
     "end_time": "2019-09-12T19:58:17.926861Z",
     "start_time": "2019-09-12T19:58:17.094807Z"
    }
   },
   "outputs": [],
   "source": [
    "day = DAY\n",
    "time = 15\n",
    "frames = read_data(day)\n",
    "clusters = clusterization(pre_processing(frames[time]))"
   ]
  },
  {
   "cell_type": "code",
   "execution_count": 145,
   "metadata": {
    "ExecuteTime": {
     "end_time": "2019-09-12T19:58:22.208370Z",
     "start_time": "2019-09-12T19:58:22.132690Z"
    }
   },
   "outputs": [
    {
     "data": {
      "text/html": [
       "<div>\n",
       "<style scoped>\n",
       "    .dataframe tbody tr th:only-of-type {\n",
       "        vertical-align: middle;\n",
       "    }\n",
       "\n",
       "    .dataframe tbody tr th {\n",
       "        vertical-align: top;\n",
       "    }\n",
       "\n",
       "    .dataframe thead th {\n",
       "        text-align: right;\n",
       "    }\n",
       "</style>\n",
       "<table border=\"1\" class=\"dataframe\">\n",
       "  <thead>\n",
       "    <tr style=\"text-align: right;\">\n",
       "      <th></th>\n",
       "      <th>N_CLUSTER</th>\n",
       "      <th>ID_CLUST</th>\n",
       "      <th>LON</th>\n",
       "      <th>LAT</th>\n",
       "      <th>R_FALL</th>\n",
       "      <th>DBZ</th>\n",
       "    </tr>\n",
       "    <tr>\n",
       "      <th>DATETIME</th>\n",
       "      <th></th>\n",
       "      <th></th>\n",
       "      <th></th>\n",
       "      <th></th>\n",
       "      <th></th>\n",
       "      <th></th>\n",
       "    </tr>\n",
       "  </thead>\n",
       "  <tbody>\n",
       "    <tr>\n",
       "      <td>2014-02-24 13:24:05</td>\n",
       "      <td>10</td>\n",
       "      <td>0</td>\n",
       "      <td>-59.848209</td>\n",
       "      <td>-1.837751</td>\n",
       "      <td>21.620676</td>\n",
       "      <td>44.368208</td>\n",
       "    </tr>\n",
       "    <tr>\n",
       "      <td>2014-02-24 13:24:05</td>\n",
       "      <td>10</td>\n",
       "      <td>0</td>\n",
       "      <td>-60.009975</td>\n",
       "      <td>-1.819793</td>\n",
       "      <td>20.265070</td>\n",
       "      <td>43.918270</td>\n",
       "    </tr>\n",
       "    <tr>\n",
       "      <td>2014-02-24 13:24:05</td>\n",
       "      <td>10</td>\n",
       "      <td>0</td>\n",
       "      <td>-59.992001</td>\n",
       "      <td>-1.819793</td>\n",
       "      <td>19.644730</td>\n",
       "      <td>43.702237</td>\n",
       "    </tr>\n",
       "    <tr>\n",
       "      <td>2014-02-24 13:24:05</td>\n",
       "      <td>10</td>\n",
       "      <td>1</td>\n",
       "      <td>-60.027954</td>\n",
       "      <td>-2.053355</td>\n",
       "      <td>26.223869</td>\n",
       "      <td>45.709448</td>\n",
       "    </tr>\n",
       "    <tr>\n",
       "      <td>2014-02-24 13:24:05</td>\n",
       "      <td>10</td>\n",
       "      <td>1</td>\n",
       "      <td>-60.135826</td>\n",
       "      <td>-2.143178</td>\n",
       "      <td>24.718960</td>\n",
       "      <td>45.298783</td>\n",
       "    </tr>\n",
       "  </tbody>\n",
       "</table>\n",
       "</div>"
      ],
      "text/plain": [
       "                     N_CLUSTER  ID_CLUST        LON       LAT     R_FALL  \\\n",
       "DATETIME                                                                   \n",
       "2014-02-24 13:24:05         10         0 -59.848209 -1.837751  21.620676   \n",
       "2014-02-24 13:24:05         10         0 -60.009975 -1.819793  20.265070   \n",
       "2014-02-24 13:24:05         10         0 -59.992001 -1.819793  19.644730   \n",
       "2014-02-24 13:24:05         10         1 -60.027954 -2.053355  26.223869   \n",
       "2014-02-24 13:24:05         10         1 -60.135826 -2.143178  24.718960   \n",
       "\n",
       "                           DBZ  \n",
       "DATETIME                        \n",
       "2014-02-24 13:24:05  44.368208  \n",
       "2014-02-24 13:24:05  43.918270  \n",
       "2014-02-24 13:24:05  43.702237  \n",
       "2014-02-24 13:24:05  45.709448  \n",
       "2014-02-24 13:24:05  45.298783  "
      ]
     },
     "execution_count": 145,
     "metadata": {},
     "output_type": "execute_result"
    }
   ],
   "source": [
    "data = create_data(day,time,frames[time],clusters)\n",
    "data.head()"
   ]
  },
  {
   "cell_type": "code",
   "execution_count": 146,
   "metadata": {
    "ExecuteTime": {
     "end_time": "2019-09-12T19:58:23.689557Z",
     "start_time": "2019-09-12T19:58:23.656361Z"
    }
   },
   "outputs": [
    {
     "data": {
      "text/html": [
       "<div>\n",
       "<style scoped>\n",
       "    .dataframe tbody tr th:only-of-type {\n",
       "        vertical-align: middle;\n",
       "    }\n",
       "\n",
       "    .dataframe tbody tr th {\n",
       "        vertical-align: top;\n",
       "    }\n",
       "\n",
       "    .dataframe thead th {\n",
       "        text-align: right;\n",
       "    }\n",
       "</style>\n",
       "<table border=\"1\" class=\"dataframe\">\n",
       "  <thead>\n",
       "    <tr style=\"text-align: right;\">\n",
       "      <th></th>\n",
       "      <th>ID_CLUST</th>\n",
       "      <th>geometry</th>\n",
       "    </tr>\n",
       "  </thead>\n",
       "  <tbody>\n",
       "    <tr>\n",
       "      <td>0</td>\n",
       "      <td>0</td>\n",
       "      <td>POLYGON ((-59.84820938110352 -1.83775126934051...</td>\n",
       "    </tr>\n",
       "    <tr>\n",
       "      <td>1</td>\n",
       "      <td>1</td>\n",
       "      <td>POLYGON ((-60.0279541015625 -2.053354978561401...</td>\n",
       "    </tr>\n",
       "    <tr>\n",
       "      <td>2</td>\n",
       "      <td>2</td>\n",
       "      <td>POLYGON ((-59.4342041015625 -3.149151086807251...</td>\n",
       "    </tr>\n",
       "    <tr>\n",
       "      <td>3</td>\n",
       "      <td>3</td>\n",
       "      <td>POLYGON ((-59.79406356811523 -3.20318007469177...</td>\n",
       "    </tr>\n",
       "    <tr>\n",
       "      <td>4</td>\n",
       "      <td>4</td>\n",
       "      <td>POLYGON ((-60.31569671630859 -2.50246644020080...</td>\n",
       "    </tr>\n",
       "    <tr>\n",
       "      <td>5</td>\n",
       "      <td>5</td>\n",
       "      <td>POLYGON ((-60.15392303466797 -3.02352356910705...</td>\n",
       "    </tr>\n",
       "    <tr>\n",
       "      <td>6</td>\n",
       "      <td>6</td>\n",
       "      <td>POLYGON ((-59.20007705688477 -3.41848611831665...</td>\n",
       "    </tr>\n",
       "    <tr>\n",
       "      <td>7</td>\n",
       "      <td>7</td>\n",
       "      <td>POLYGON ((-59.05646514892578 -3.00515699386596...</td>\n",
       "    </tr>\n",
       "    <tr>\n",
       "      <td>8</td>\n",
       "      <td>8</td>\n",
       "      <td>POLYGON ((-58.82277679443359 -2.82527446746826...</td>\n",
       "    </tr>\n",
       "    <tr>\n",
       "      <td>9</td>\n",
       "      <td>9</td>\n",
       "      <td>POLYGON ((-59.27248764038086 -2.80770134925842...</td>\n",
       "    </tr>\n",
       "  </tbody>\n",
       "</table>\n",
       "</div>"
      ],
      "text/plain": [
       "   ID_CLUST                                           geometry\n",
       "0         0  POLYGON ((-59.84820938110352 -1.83775126934051...\n",
       "1         1  POLYGON ((-60.0279541015625 -2.053354978561401...\n",
       "2         2  POLYGON ((-59.4342041015625 -3.149151086807251...\n",
       "3         3  POLYGON ((-59.79406356811523 -3.20318007469177...\n",
       "4         4  POLYGON ((-60.31569671630859 -2.50246644020080...\n",
       "5         5  POLYGON ((-60.15392303466797 -3.02352356910705...\n",
       "6         6  POLYGON ((-59.20007705688477 -3.41848611831665...\n",
       "7         7  POLYGON ((-59.05646514892578 -3.00515699386596...\n",
       "8         8  POLYGON ((-58.82277679443359 -2.82527446746826...\n",
       "9         9  POLYGON ((-59.27248764038086 -2.80770134925842..."
      ]
     },
     "execution_count": 146,
     "metadata": {},
     "output_type": "execute_result"
    }
   ],
   "source": [
    "from shapely import wkt\n",
    "def geo_data(cdata):\n",
    " \n",
    "    cdata['geometry'] = list(zip(cdata.LON,cdata.LAT))\n",
    "    cdata.geometry = cdata.geometry.apply(Point)\n",
    "    cdata['geometry'] = cdata['geometry'].apply(lambda x: x.coords[0])\n",
    "    cdata = cdata.groupby('ID_CLUST')['geometry'].apply(lambda x: Polygon(x.tolist())).reset_index()\n",
    "    cdata = gpd.GeoDataFrame(cdata, geometry = 'geometry')\n",
    "    cdata.crs = {'init' :'epsg:4326'}\n",
    "    return cdata\n",
    "geo_data(data).geometry.convex_hull.to_file('shapefiles/centroids.shp')\n",
    "geo_data(data)"
   ]
  },
  {
   "cell_type": "code",
   "execution_count": 147,
   "metadata": {
    "ExecuteTime": {
     "end_time": "2019-09-12T19:58:25.163610Z",
     "start_time": "2019-09-12T19:58:25.128895Z"
    }
   },
   "outputs": [
    {
     "data": {
      "text/html": [
       "<div>\n",
       "<style scoped>\n",
       "    .dataframe tbody tr th:only-of-type {\n",
       "        vertical-align: middle;\n",
       "    }\n",
       "\n",
       "    .dataframe tbody tr th {\n",
       "        vertical-align: top;\n",
       "    }\n",
       "\n",
       "    .dataframe thead th {\n",
       "        text-align: right;\n",
       "    }\n",
       "</style>\n",
       "<table border=\"1\" class=\"dataframe\">\n",
       "  <thead>\n",
       "    <tr style=\"text-align: right;\">\n",
       "      <th></th>\n",
       "      <th>N_CLUSTER</th>\n",
       "      <th>ID_CLUST</th>\n",
       "      <th>LON</th>\n",
       "      <th>LAT</th>\n",
       "      <th>R_FALL</th>\n",
       "      <th>DBZ</th>\n",
       "      <th>geometry</th>\n",
       "    </tr>\n",
       "    <tr>\n",
       "      <th>DATETIME</th>\n",
       "      <th></th>\n",
       "      <th></th>\n",
       "      <th></th>\n",
       "      <th></th>\n",
       "      <th></th>\n",
       "      <th></th>\n",
       "      <th></th>\n",
       "    </tr>\n",
       "  </thead>\n",
       "  <tbody>\n",
       "    <tr>\n",
       "      <td>2014-02-24 13:24:05</td>\n",
       "      <td>10</td>\n",
       "      <td>0</td>\n",
       "      <td>-59.848209</td>\n",
       "      <td>-1.837751</td>\n",
       "      <td>21.620676</td>\n",
       "      <td>44.368208</td>\n",
       "      <td>POINT (-59.84820938110352 -1.837751269340515)</td>\n",
       "    </tr>\n",
       "    <tr>\n",
       "      <td>2014-02-24 13:24:05</td>\n",
       "      <td>10</td>\n",
       "      <td>0</td>\n",
       "      <td>-60.009975</td>\n",
       "      <td>-1.819793</td>\n",
       "      <td>20.265070</td>\n",
       "      <td>43.918270</td>\n",
       "      <td>POINT (-60.00997543334961 -1.819793343544006)</td>\n",
       "    </tr>\n",
       "    <tr>\n",
       "      <td>2014-02-24 13:24:05</td>\n",
       "      <td>10</td>\n",
       "      <td>0</td>\n",
       "      <td>-59.992001</td>\n",
       "      <td>-1.819793</td>\n",
       "      <td>19.644730</td>\n",
       "      <td>43.702237</td>\n",
       "      <td>POINT (-59.99200057983398 -1.819793462753296)</td>\n",
       "    </tr>\n",
       "    <tr>\n",
       "      <td>2014-02-24 13:24:05</td>\n",
       "      <td>10</td>\n",
       "      <td>1</td>\n",
       "      <td>-60.027954</td>\n",
       "      <td>-2.053355</td>\n",
       "      <td>26.223869</td>\n",
       "      <td>45.709448</td>\n",
       "      <td>POINT (-60.0279541015625 -2.053354978561401)</td>\n",
       "    </tr>\n",
       "    <tr>\n",
       "      <td>2014-02-24 13:24:05</td>\n",
       "      <td>10</td>\n",
       "      <td>1</td>\n",
       "      <td>-60.135826</td>\n",
       "      <td>-2.143178</td>\n",
       "      <td>24.718960</td>\n",
       "      <td>45.298783</td>\n",
       "      <td>POINT (-60.13582611083984 -2.143178224563599)</td>\n",
       "    </tr>\n",
       "  </tbody>\n",
       "</table>\n",
       "</div>"
      ],
      "text/plain": [
       "                     N_CLUSTER  ID_CLUST        LON       LAT     R_FALL  \\\n",
       "DATETIME                                                                   \n",
       "2014-02-24 13:24:05         10         0 -59.848209 -1.837751  21.620676   \n",
       "2014-02-24 13:24:05         10         0 -60.009975 -1.819793  20.265070   \n",
       "2014-02-24 13:24:05         10         0 -59.992001 -1.819793  19.644730   \n",
       "2014-02-24 13:24:05         10         1 -60.027954 -2.053355  26.223869   \n",
       "2014-02-24 13:24:05         10         1 -60.135826 -2.143178  24.718960   \n",
       "\n",
       "                           DBZ                                       geometry  \n",
       "DATETIME                                                                       \n",
       "2014-02-24 13:24:05  44.368208  POINT (-59.84820938110352 -1.837751269340515)  \n",
       "2014-02-24 13:24:05  43.918270  POINT (-60.00997543334961 -1.819793343544006)  \n",
       "2014-02-24 13:24:05  43.702237  POINT (-59.99200057983398 -1.819793462753296)  \n",
       "2014-02-24 13:24:05  45.709448   POINT (-60.0279541015625 -2.053354978561401)  \n",
       "2014-02-24 13:24:05  45.298783  POINT (-60.13582611083984 -2.143178224563599)  "
      ]
     },
     "execution_count": 147,
     "metadata": {},
     "output_type": "execute_result"
    }
   ],
   "source": [
    "data['geometry'] = list(zip(data.LON,data.LAT))\n",
    "data.geometry = data.geometry.apply(Point)\n",
    "gdata = gpd.GeoDataFrame(data,geometry='geometry')\n",
    "gdata.crs = {'init' :'epsg:4326'}\n",
    "gdata.to_file('shapefiles/points.shp')\n",
    "gdata.head()"
   ]
  },
  {
   "cell_type": "markdown",
   "metadata": {},
   "source": [
    "### CREATE TIFF FILE"
   ]
  },
  {
   "cell_type": "code",
   "execution_count": 69,
   "metadata": {
    "ExecuteTime": {
     "end_time": "2019-09-12T19:42:35.402509Z",
     "start_time": "2019-09-12T19:42:35.396393Z"
    }
   },
   "outputs": [],
   "source": [
    "#!/usr/bin/env python\n",
    "from osgeo import gdal\n",
    "from osgeo import osr\n",
    "import numpy as np\n",
    "import os, sys\n",
    "\n",
    "#  Initialize the Image Size\n",
    "image_size = (241,241)\n",
    "\n",
    "lat = [-5.348556,-0.948556]\n",
    "lon = [-62.192,-57.7919999]\n",
    "            \n",
    "# set geotransform\n",
    "nx = image_size[0]\n",
    "ny = image_size[1]\n",
    "xmin, ymin, xmax, ymax = [min(lon), max(lat), max(lon), min(lat)]\n",
    "xres = (xmax - xmin) / float(nx)\n",
    "yres = (ymax - ymin) / float(ny)\n",
    "geotransform = (xmin, xres, 0, ymax, 0, -yres)\n",
    "\n",
    "# create the 3-band raster file\n",
    "dst_ds = gdal.GetDriverByName('GTiff').Create('tiff/myGeoTIFF.tif', ny, nx, 1, gdal.GDT_Byte)\n",
    "\n",
    "dst_ds.SetGeoTransform(geotransform)    # specify coords\n",
    "srs = osr.SpatialReference()            # establish encoding\n",
    "srs.ImportFromEPSG(4326)                # WGS84 lat/long\n",
    "dst_ds.SetProjection(srs.ExportToWkt()) # export coords to file\n",
    "dst_ds.GetRasterBand(1).WriteArray(frames[time])   # write b-band to the raster\n",
    "dst_ds.FlushCache()                     # write to disk\n",
    "dst_ds = None"
   ]
  }
 ],
 "metadata": {
  "kernelspec": {
   "display_name": "Python 3",
   "language": "python",
   "name": "python3"
  },
  "language_info": {
   "codemirror_mode": {
    "name": "ipython",
    "version": 3
   },
   "file_extension": ".py",
   "mimetype": "text/x-python",
   "name": "python",
   "nbconvert_exporter": "python",
   "pygments_lexer": "ipython3",
   "version": "3.6.7"
  },
  "toc": {
   "base_numbering": 1,
   "nav_menu": {},
   "number_sections": true,
   "sideBar": true,
   "skip_h1_title": false,
   "title_cell": "Table of Contents",
   "title_sidebar": "Contents",
   "toc_cell": false,
   "toc_position": {},
   "toc_section_display": true,
   "toc_window_display": false
  }
 },
 "nbformat": 4,
 "nbformat_minor": 2
}
