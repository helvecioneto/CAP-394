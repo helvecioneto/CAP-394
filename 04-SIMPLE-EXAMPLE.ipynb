{
 "cells": [
  {
   "cell_type": "code",
   "execution_count": null,
   "metadata": {},
   "outputs": [],
   "source": [
    "import numpy as np\n",
    "import matplotlib.pyplot as plt"
   ]
  },
  {
   "cell_type": "code",
   "execution_count": null,
   "metadata": {},
   "outputs": [],
   "source": [
    "interval = 2\n",
    "\n",
    "# Grid Dimensions\n",
    "x = 10\n",
    "y = 10\n",
    "\n",
    "nx = 10\n",
    "ny = 10\n",
    "\n",
    "downsizeby = 1"
   ]
  },
  {
   "cell_type": "code",
   "execution_count": null,
   "metadata": {},
   "outputs": [],
   "source": [
    "frame = np.zeros((interval, nx,ny))"
   ]
  },
  {
   "cell_type": "code",
   "execution_count": null,
   "metadata": {},
   "outputs": [],
   "source": [
    "# Compute grid dimensions and grid coordinates after resampling\n",
    "dx2, dy2 = x*downsizeby, y*downsizeby\n",
    "nx2, ny2 = int(nx/downsizeby), int(ny/downsizeby)\n",
    "\n",
    "X2, Y2 = np.meshgrid( np.arange(0,nx2*dx2, dx2), np.arange(0,ny2*dy2, dy2) )\n",
    "X2 = X2/1000\n",
    "Y2 = Y2/1000"
   ]
  },
  {
   "cell_type": "code",
   "execution_count": null,
   "metadata": {},
   "outputs": [],
   "source": [
    "frame"
   ]
  },
  {
   "cell_type": "code",
   "execution_count": null,
   "metadata": {},
   "outputs": [],
   "source": [
    "frame[0][2][2] = 4        #Tempo[0], Linha[2], Coluna[2] = 4\n",
    "frame[0][2][3] = 5        #Tempo[0], Linha[2], Coluna[2] = 5\n",
    "frame[0][3][3] = 6        #Tempo[0], Linha[2], Coluna[2] = 6\n",
    "frame[0][3][4] = 4        #Tempo[0], Linha[2], Coluna[2] = 4\n",
    "\n",
    "frame[1][4][3] = 4        #Tempo[1], Linha[2], Coluna[2] = 4\n",
    "frame[1][4][4] = 5        #Tempo[1], Linha[2], Coluna[2] = 5\n",
    "frame[1][5][4] = 6        #Tempo[1], Linha[2], Coluna[2] = 6\n",
    "frame[1][5][5] = 4        #Tempo[1], Linha[2], Coluna[2] = 4\n",
    "frame"
   ]
  },
  {
   "cell_type": "code",
   "execution_count": null,
   "metadata": {},
   "outputs": [],
   "source": [
    "tempo1 = frame[0]\n",
    "tempo2 = frame[1]\n",
    "\n",
    "tempo1[tempo1 == 0] = 'nan'\n",
    "tempo2[tempo2 == 0] = 'nan'\n",
    "\n",
    "tempo1"
   ]
  },
  {
   "cell_type": "code",
   "execution_count": null,
   "metadata": {},
   "outputs": [],
   "source": [
    "fig , axes = plt.subplots(nrows=1, ncols=1, figsize=(8,8))\n",
    "plt.pcolormesh(X2,Y2,tempo1, cmap='PuBu_r')\n",
    "plt.axis('off')\n",
    "plt.savefig('radar_image/tempo01.png')"
   ]
  },
  {
   "cell_type": "code",
   "execution_count": null,
   "metadata": {},
   "outputs": [],
   "source": [
    "fig , axes = plt.subplots(nrows=1, ncols=1, figsize=(8,8))\n",
    "plt.pcolormesh(X2,Y2,tempo2,cmap='PuBu_r')\n",
    "plt.axis('off')\n",
    "plt.savefig('radar_image/tempo02.png')"
   ]
  },
  {
   "cell_type": "code",
   "execution_count": null,
   "metadata": {},
   "outputs": [],
   "source": [
    "frame"
   ]
  },
  {
   "cell_type": "code",
   "execution_count": 2,
   "metadata": {},
   "outputs": [],
   "source": [
    "import cv2\n",
    "import numpy as np\n",
    "import matplotlib.pyplot as plt"
   ]
  },
  {
   "cell_type": "code",
   "execution_count": 8,
   "metadata": {},
   "outputs": [],
   "source": [
    "img1 = cv2.imread('radar_image/tempo01.png')\n",
    "img2 = cv2.imread('radar_image/tempo02.png')\n",
    "\n",
    "def gray(img):\n",
    "    gray = cv2.cvtColor(img, cv2.COLOR_BGR2GRAY)\n",
    "    gray = np.float32(gray)\n",
    "    return gray\n",
    "\n",
    "def extractFeatures(img):\n",
    "    corners = cv2.goodFeaturesToTrack(img,200,0.02,7,21)   #maxcorners,qualiftyLevel,minDistance\n",
    "    corners = np.int0(corners)\n",
    "    return corners\n",
    "\n",
    "lk_params = dict(winSize = (15,15), maxLevel = 2, criteria = (cv2.TERM_CRITERIA_EPS | cv2.TERM_CRITERIA_COUNT, 10, 0.03))\n",
    "\n",
    "def opticalFlow(img1,img2,oldcorners):\n",
    "    new_corners = cv2.calcOpticalFlowPyrLK(img1,img2,oldcorners, None, **lk_params)\n",
    "    return new_corners"
   ]
  },
  {
   "cell_type": "code",
   "execution_count": 13,
   "metadata": {},
   "outputs": [],
   "source": [
    "tempo1 = gray(img1)\n",
    "tempo2 = gray(img2)\n",
    "\n",
    "np.savetxt('tempo1.csv',tempo1)\n",
    "\n",
    "oldcorners = extractFeatures(tempo1)\n",
    "# oldcornerscorners\n",
    "# opticalFlow(tempo1,tempo2,oldcorners)"
   ]
  },
  {
   "cell_type": "code",
   "execution_count": null,
   "metadata": {},
   "outputs": [],
   "source": [
    "for corner in tempo1:\n",
    "    x, y = corner.ravel()\n",
    "    print(x,y)\n",
    "    cv2.circle(img1, (x,y), 3, 255, -1)"
   ]
  },
  {
   "cell_type": "code",
   "execution_count": null,
   "metadata": {},
   "outputs": [],
   "source": [
    "plt.figure(figsize=(10,10))\n",
    "plt.imshow(img1)\n",
    "plt.show()"
   ]
  },
  {
   "cell_type": "code",
   "execution_count": null,
   "metadata": {},
   "outputs": [],
   "source": []
  }
 ],
 "metadata": {
  "kernelspec": {
   "display_name": "Python 3",
   "language": "python",
   "name": "python3"
  },
  "language_info": {
   "codemirror_mode": {
    "name": "ipython",
    "version": 3
   },
   "file_extension": ".py",
   "mimetype": "text/x-python",
   "name": "python",
   "nbconvert_exporter": "python",
   "pygments_lexer": "ipython3",
   "version": "3.6.9"
  }
 },
 "nbformat": 4,
 "nbformat_minor": 2
}
