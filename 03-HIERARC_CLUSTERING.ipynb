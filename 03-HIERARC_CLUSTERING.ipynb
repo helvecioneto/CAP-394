{
 "cells": [
  {
   "cell_type": "code",
   "execution_count": 335,
   "metadata": {
    "ExecuteTime": {
     "end_time": "2019-09-12T18:41:41.414335Z",
     "start_time": "2019-09-12T18:41:41.412183Z"
    }
   },
   "outputs": [],
   "source": [
    "import os\n",
    "import xarray as xr\n",
    "import numpy as np\n",
    "from matplotlib import pyplot as plt"
   ]
  },
  {
   "cell_type": "code",
   "execution_count": 38,
   "metadata": {
    "ExecuteTime": {
     "end_time": "2019-09-12T17:52:52.812974Z",
     "start_time": "2019-09-12T17:52:52.807545Z"
    }
   },
   "outputs": [],
   "source": [
    "PATH = 'data/radar/'\n",
    "DAY = sorted(os.listdir(PATH))[0]"
   ]
  },
  {
   "cell_type": "code",
   "execution_count": 41,
   "metadata": {
    "ExecuteTime": {
     "end_time": "2019-09-12T17:53:08.862470Z",
     "start_time": "2019-09-12T17:53:08.772123Z"
    }
   },
   "outputs": [],
   "source": [
    "first_file = PATH+str(DAY)+'/'+str(sorted(os.listdir(PATH+str(DAY)))[0])\n",
    "try:\n",
    "    xds = xr.open_dataset(first_file)   \n",
    "except Exception as e:\n",
    "    print('File not found')\n",
    "    \n",
    "RUNIT = xds.rain_rate.units\n",
    "RKM = xds.rain_rate.height_km\n",
    "LON = xds.lon0.data                 ### Coordinate Longitude Matrix\n",
    "LAT = xds.lat0.data                 ### Corrdinate Latitude Matrix\n",
    "X0 = xds.x0                         ### Matrix of points\n",
    "Y0 = xds.y0\n",
    "RADAR = (np.median(LON),np.median(LAT))"
   ]
  },
  {
   "cell_type": "code",
   "execution_count": 42,
   "metadata": {
    "ExecuteTime": {
     "end_time": "2019-09-12T17:53:19.628888Z",
     "start_time": "2019-09-12T17:53:19.608637Z"
    }
   },
   "outputs": [],
   "source": [
    "def read_data(date):\n",
    "    \n",
    "    path = 'data/radar/'\n",
    "    dataset = []\n",
    "    interval = len(os.listdir(path+str(date)))    \n",
    "    \n",
    "    # Original grid dimensions\n",
    "    nx = 241\n",
    "    ny = 241\n",
    "\n",
    "    # Define container\n",
    "    frames = np.zeros( (interval, nx, ny ) )    \n",
    "    \n",
    "    for i in range(interval):\n",
    "        d = str(path)+str(date)+'/'\n",
    "        file = (sorted(os.listdir(path+str(date)))[i])\n",
    "        xds = xr.open_dataset(d+file)\n",
    "        rr = xds.rain_rate\n",
    "        frames[i] =  rr\n",
    "            \n",
    "    return frames"
   ]
  },
  {
   "cell_type": "code",
   "execution_count": 449,
   "metadata": {
    "ExecuteTime": {
     "end_time": "2019-09-12T19:06:24.429557Z",
     "start_time": "2019-09-12T19:06:24.423228Z"
    }
   },
   "outputs": [],
   "source": [
    "def pre_processing(time):\n",
    "    np.warnings.filterwarnings('ignore')\n",
    "    \n",
    "    ## thereshold value to track\n",
    "    threshold = 0\n",
    "    \n",
    "    rs =  (np.where(time != np.nan) and np.where(time > threshold))\n",
    "    rs = np.asanyarray(rs)\n",
    "    pe = pd.DataFrame({'x':rs[0],'y':rs[1]})\n",
    "\n",
    "    rr = []\n",
    "    for i,row in pe.iterrows():\n",
    "        rr.append(time[row.x][row.y])\n",
    "        \n",
    "    pe['rain'] = rr\n",
    "    \n",
    "    return pe"
   ]
  },
  {
   "cell_type": "code",
   "execution_count": 450,
   "metadata": {
    "ExecuteTime": {
     "end_time": "2019-09-12T19:06:26.102603Z",
     "start_time": "2019-09-12T19:06:25.812955Z"
    }
   },
   "outputs": [
    {
     "data": {
      "text/html": [
       "<div>\n",
       "<style scoped>\n",
       "    .dataframe tbody tr th:only-of-type {\n",
       "        vertical-align: middle;\n",
       "    }\n",
       "\n",
       "    .dataframe tbody tr th {\n",
       "        vertical-align: top;\n",
       "    }\n",
       "\n",
       "    .dataframe thead th {\n",
       "        text-align: right;\n",
       "    }\n",
       "</style>\n",
       "<table border=\"1\" class=\"dataframe\">\n",
       "  <thead>\n",
       "    <tr style=\"text-align: right;\">\n",
       "      <th></th>\n",
       "      <th>x</th>\n",
       "      <th>y</th>\n",
       "      <th>rain</th>\n",
       "    </tr>\n",
       "  </thead>\n",
       "  <tbody>\n",
       "    <tr>\n",
       "      <td>0</td>\n",
       "      <td>26</td>\n",
       "      <td>84</td>\n",
       "      <td>0.773127</td>\n",
       "    </tr>\n",
       "    <tr>\n",
       "      <td>1</td>\n",
       "      <td>27</td>\n",
       "      <td>81</td>\n",
       "      <td>7.370550</td>\n",
       "    </tr>\n",
       "    <tr>\n",
       "      <td>2</td>\n",
       "      <td>27</td>\n",
       "      <td>82</td>\n",
       "      <td>1.547614</td>\n",
       "    </tr>\n",
       "    <tr>\n",
       "      <td>3</td>\n",
       "      <td>27</td>\n",
       "      <td>83</td>\n",
       "      <td>0.804233</td>\n",
       "    </tr>\n",
       "    <tr>\n",
       "      <td>4</td>\n",
       "      <td>28</td>\n",
       "      <td>79</td>\n",
       "      <td>12.034945</td>\n",
       "    </tr>\n",
       "    <tr>\n",
       "      <td>...</td>\n",
       "      <td>...</td>\n",
       "      <td>...</td>\n",
       "      <td>...</td>\n",
       "    </tr>\n",
       "    <tr>\n",
       "      <td>2043</td>\n",
       "      <td>191</td>\n",
       "      <td>163</td>\n",
       "      <td>0.966392</td>\n",
       "    </tr>\n",
       "    <tr>\n",
       "      <td>2044</td>\n",
       "      <td>192</td>\n",
       "      <td>160</td>\n",
       "      <td>0.921154</td>\n",
       "    </tr>\n",
       "    <tr>\n",
       "      <td>2045</td>\n",
       "      <td>192</td>\n",
       "      <td>161</td>\n",
       "      <td>1.252355</td>\n",
       "    </tr>\n",
       "    <tr>\n",
       "      <td>2046</td>\n",
       "      <td>192</td>\n",
       "      <td>162</td>\n",
       "      <td>0.643433</td>\n",
       "    </tr>\n",
       "    <tr>\n",
       "      <td>2047</td>\n",
       "      <td>193</td>\n",
       "      <td>160</td>\n",
       "      <td>0.583907</td>\n",
       "    </tr>\n",
       "  </tbody>\n",
       "</table>\n",
       "<p>2048 rows × 3 columns</p>\n",
       "</div>"
      ],
      "text/plain": [
       "        x    y       rain\n",
       "0      26   84   0.773127\n",
       "1      27   81   7.370550\n",
       "2      27   82   1.547614\n",
       "3      27   83   0.804233\n",
       "4      28   79  12.034945\n",
       "...   ...  ...        ...\n",
       "2043  191  163   0.966392\n",
       "2044  192  160   0.921154\n",
       "2045  192  161   1.252355\n",
       "2046  192  162   0.643433\n",
       "2047  193  160   0.583907\n",
       "\n",
       "[2048 rows x 3 columns]"
      ]
     },
     "execution_count": 450,
     "metadata": {},
     "output_type": "execute_result"
    }
   ],
   "source": [
    "DAY = 20140224\n",
    "figtime = 0\n",
    "frames = read_data(DAY)\n",
    "rdata = pre_processing(frames[figtime])\n",
    "rdata"
   ]
  },
  {
   "cell_type": "code",
   "execution_count": 451,
   "metadata": {
    "ExecuteTime": {
     "end_time": "2019-09-12T19:06:38.350754Z",
     "start_time": "2019-09-12T19:06:38.163805Z"
    }
   },
   "outputs": [
    {
     "data": {
      "text/plain": [
       "<matplotlib.collections.PathCollection at 0x7f22a8beaba8>"
      ]
     },
     "execution_count": 451,
     "metadata": {},
     "output_type": "execute_result"
    },
    {
     "data": {
      "image/png": "[encoded data removed]",
      "text/plain": [
       "<Figure size 432x288 with 1 Axes>"
      ]
     },
     "metadata": {
      "needs_background": "light"
     },
     "output_type": "display_data"
    }
   ],
   "source": [
    "plt.scatter(rdata.x,rdata.y,rdata.rain)"
   ]
  },
  {
   "cell_type": "code",
   "execution_count": 459,
   "metadata": {
    "ExecuteTime": {
     "end_time": "2019-09-12T19:10:02.797645Z",
     "start_time": "2019-09-12T19:10:02.750947Z"
    }
   },
   "outputs": [
    {
     "data": {
      "text/plain": [
       "array([ 120,    3,    1, ..., 1369, 1368, 1371], dtype=int32)"
      ]
     },
     "execution_count": 459,
     "metadata": {},
     "output_type": "execute_result"
    }
   ],
   "source": [
    "from scipy.cluster.hierarchy import fclusterdata\n",
    "from scipy.spatial.distance import pdist\n",
    "\n",
    "clusters = fclusterdata(rdata[{'x','y'}].values, t=0.5, criterion='distance', depth=1)\n",
    "clusters"
   ]
  },
  {
   "cell_type": "code",
   "execution_count": 454,
   "metadata": {
    "ExecuteTime": {
     "end_time": "2019-09-12T19:06:48.990437Z",
     "start_time": "2019-09-12T19:06:48.984689Z"
    }
   },
   "outputs": [
    {
     "data": {
      "text/plain": [
       "3"
      ]
     },
     "execution_count": 454,
     "metadata": {},
     "output_type": "execute_result"
    }
   ],
   "source": [
    "clusters.max()"
   ]
  },
  {
   "cell_type": "code",
   "execution_count": 467,
   "metadata": {
    "ExecuteTime": {
     "end_time": "2019-09-12T19:12:26.678279Z",
     "start_time": "2019-09-12T19:12:26.671706Z"
    }
   },
   "outputs": [],
   "source": [
    "# needed imports\n",
    "from matplotlib import pyplot as plt\n",
    "from scipy.cluster.hierarchy import dendrogram, linkage\n",
    "import numpy as np\n",
    "%matplotlib inline\n",
    "np.set_printoptions(precision=5, suppress=True)"
   ]
  },
  {
   "cell_type": "code",
   "execution_count": 530,
   "metadata": {
    "ExecuteTime": {
     "end_time": "2019-09-12T19:27:59.931924Z",
     "start_time": "2019-09-12T19:27:59.799853Z"
    }
   },
   "outputs": [
    {
     "name": "stdout",
     "output_type": "stream",
     "text": [
      "(10, 2)\n"
     ]
    },
    {
     "data": {
      "image/png": "[encoded data removed]",
      "text/plain": [
       "<Figure size 432x288 with 1 Axes>"
      ]
     },
     "metadata": {
      "needs_background": "light"
     },
     "output_type": "display_data"
    }
   ],
   "source": [
    "# generate two clusters: a with 100 points, b with 50:\n",
    "np.random.seed(4711)  # for repeatability of this tutorial\n",
    "\n",
    "X = np.array([[5,3],\n",
    "    [10,15],\n",
    "    [15,12],\n",
    "    [24,10],\n",
    "    [30,30],\n",
    "    [85,70],\n",
    "    [71,80],\n",
    "    [60,78],\n",
    "    [70,55],\n",
    "    [80,91],])\n",
    "\n",
    "print (X.shape)  # 150 samples with 2 dimensions\n",
    "plt.scatter(X[:,0], X[:,1])\n",
    "plt.show()"
   ]
  },
  {
   "cell_type": "code",
   "execution_count": 534,
   "metadata": {
    "ExecuteTime": {
     "end_time": "2019-09-12T19:28:44.256841Z",
     "start_time": "2019-09-12T19:28:44.246542Z"
    }
   },
   "outputs": [
    {
     "data": {
      "text/plain": [
       "array([[ 5,  3],\n",
       "       [10, 15],\n",
       "       [15, 12],\n",
       "       [24, 10],\n",
       "       [30, 30],\n",
       "       [85, 70],\n",
       "       [71, 80],\n",
       "       [60, 78],\n",
       "       [70, 55],\n",
       "       [80, 91]])"
      ]
     },
     "execution_count": 534,
     "metadata": {},
     "output_type": "execute_result"
    }
   ],
   "source": [
    "X"
   ]
  },
  {
   "cell_type": "code",
   "execution_count": 533,
   "metadata": {
    "ExecuteTime": {
     "end_time": "2019-09-12T19:28:38.220463Z",
     "start_time": "2019-09-12T19:28:38.214475Z"
    }
   },
   "outputs": [
    {
     "data": {
      "text/plain": [
       "array([[ 1.     ,  2.     ,  5.83095,  2.     ],\n",
       "       [ 3.     , 10.     ,  9.21954,  3.     ],\n",
       "       [ 6.     ,  7.     , 11.18034,  2.     ],\n",
       "       [ 0.     , 11.     , 13.     ,  4.     ],\n",
       "       [ 9.     , 12.     , 14.21267,  3.     ],\n",
       "       [ 5.     , 14.     , 17.20465,  4.     ],\n",
       "       [ 4.     , 13.     , 20.88061,  5.     ],\n",
       "       [ 8.     , 15.     , 21.2132 ,  5.     ],\n",
       "       [16.     , 17.     , 47.16991, 10.     ]])"
      ]
     },
     "execution_count": 533,
     "metadata": {},
     "output_type": "execute_result"
    }
   ],
   "source": [
    "Z = linkage(X, 'single')\n",
    "Z"
   ]
  },
  {
   "cell_type": "code",
   "execution_count": 532,
   "metadata": {
    "ExecuteTime": {
     "end_time": "2019-09-12T19:28:30.410511Z",
     "start_time": "2019-09-12T19:28:30.259108Z"
    }
   },
   "outputs": [
    {
     "data": {
      "image/png": "[encoded data removed]",
      "text/plain": [
       "<Figure size 720x720 with 1 Axes>"
      ]
     },
     "metadata": {
      "needs_background": "light"
     },
     "output_type": "display_data"
    }
   ],
   "source": [
    "# calculate full dendrogram\n",
    "plt.figure(figsize=(10, 10))\n",
    "plt.title('Hierarchical Clustering Dendrogram')\n",
    "plt.xlabel('sample index')\n",
    "plt.ylabel('distance')\n",
    "dendrogram(\n",
    "    Z,\n",
    "    leaf_rotation=90.,  # rotates the x axis labels\n",
    "    leaf_font_size=8.,  # font size for the x axis labels\n",
    ")\n",
    "plt.show()"
   ]
  },
  {
   "cell_type": "code",
   "execution_count": 498,
   "metadata": {
    "ExecuteTime": {
     "end_time": "2019-09-12T19:19:34.646614Z",
     "start_time": "2019-09-12T19:19:34.639337Z"
    }
   },
   "outputs": [
    {
     "data": {
      "text/plain": [
       "0.9800148387574268"
      ]
     },
     "execution_count": 498,
     "metadata": {},
     "output_type": "execute_result"
    }
   ],
   "source": [
    "from scipy.cluster.hierarchy import cophenet\n",
    "from scipy.spatial.distance import pdist\n",
    "\n",
    "c, coph_dists = cophenet(Z, pdist(X))\n",
    "c"
   ]
  },
  {
   "cell_type": "code",
   "execution_count": 500,
   "metadata": {
    "ExecuteTime": {
     "end_time": "2019-09-12T19:19:57.779421Z",
     "start_time": "2019-09-12T19:19:57.774886Z"
    }
   },
   "outputs": [
    {
     "data": {
      "text/plain": [
       "array([[ 52.     ,  53.     ,   0.04151,   2.     ],\n",
       "       [ 14.     ,  79.     ,   0.05914,   2.     ],\n",
       "       [ 33.     ,  68.     ,   0.07107,   2.     ],\n",
       "       [ 17.     ,  73.     ,   0.07137,   2.     ],\n",
       "       [  1.     ,   8.     ,   0.07543,   2.     ],\n",
       "       [ 85.     ,  95.     ,   0.10928,   2.     ],\n",
       "       [108.     , 131.     ,   0.11007,   2.     ],\n",
       "       [  9.     ,  66.     ,   0.11302,   2.     ],\n",
       "       [ 15.     ,  69.     ,   0.11429,   2.     ],\n",
       "       [ 63.     ,  98.     ,   0.1212 ,   2.     ],\n",
       "       [107.     , 115.     ,   0.12167,   2.     ],\n",
       "       [ 65.     ,  74.     ,   0.1249 ,   2.     ],\n",
       "       [ 58.     ,  61.     ,   0.14028,   2.     ],\n",
       "       [ 62.     , 152.     ,   0.1726 ,   3.     ],\n",
       "       [ 41.     , 158.     ,   0.1779 ,   3.     ],\n",
       "       [ 10.     ,  83.     ,   0.18635,   2.     ],\n",
       "       [114.     , 139.     ,   0.20419,   2.     ],\n",
       "       [ 39.     ,  88.     ,   0.20628,   2.     ],\n",
       "       [ 70.     ,  96.     ,   0.21931,   2.     ],\n",
       "       [ 46.     ,  50.     ,   0.22049,   2.     ]])"
      ]
     },
     "execution_count": 500,
     "metadata": {},
     "output_type": "execute_result"
    }
   ],
   "source": [
    "Z[:20]"
   ]
  },
  {
   "cell_type": "code",
   "execution_count": 491,
   "metadata": {
    "ExecuteTime": {
     "end_time": "2019-09-12T19:16:34.391312Z",
     "start_time": "2019-09-12T19:16:34.287594Z"
    }
   },
   "outputs": [
    {
     "data": {
      "text/plain": [
       "array([[ 2.,  3.,  1.,  2.],\n",
       "       [ 1.,  6.,  1.,  2.],\n",
       "       [11., 12.,  1.,  2.],\n",
       "       [ 4.,  5.,  1.,  2.],\n",
       "       [ 9., 10.,  1.,  2.],\n",
       "       [16., 17.,  1.,  2.],\n",
       "       [ 7.,  8.,  1.,  2.],\n",
       "       [23., 24.,  1.,  2.],\n",
       "       [25., 34.,  1.,  2.],\n",
       "       [14., 15.,  1.,  2.],\n",
       "       [32., 33.,  1.,  2.],\n",
       "       [44., 45.,  1.,  2.],\n",
       "       [56., 57.,  1.,  2.],\n",
       "       [42., 43.,  1.,  2.],\n",
       "       [21., 22.,  1.,  2.],\n",
       "       [19., 20.,  1.,  2.],\n",
       "       [29., 30.,  1.,  2.],\n",
       "       [40., 41.,  1.,  2.],\n",
       "       [54., 55.,  1.,  2.],\n",
       "       [66., 67.,  1.,  2.]])"
      ]
     },
     "execution_count": 491,
     "metadata": {},
     "output_type": "execute_result"
    }
   ],
   "source": [
    "T = linkage(rdata[{'x','y'}].values,'ward')\n",
    "c_,  coph_dists = cophenet(T, pdist(rdata[{'x','y'}].values))\n",
    "c_\n",
    "T[:20]"
   ]
  }
 ],
 "metadata": {
  "kernelspec": {
   "display_name": "Python 3",
   "language": "python",
   "name": "python3"
  },
  "language_info": {
   "codemirror_mode": {
    "name": "ipython",
    "version": 3
   },
   "file_extension": ".py",
   "mimetype": "text/x-python",
   "name": "python",
   "nbconvert_exporter": "python",
   "pygments_lexer": "ipython3",
   "version": "3.6.7"
  },
  "toc": {
   "base_numbering": 1,
   "nav_menu": {},
   "number_sections": true,
   "sideBar": true,
   "skip_h1_title": false,
   "title_cell": "Table of Contents",
   "title_sidebar": "Contents",
   "toc_cell": false,
   "toc_position": {},
   "toc_section_display": true,
   "toc_window_display": false
  }
 },
 "nbformat": 4,
 "nbformat_minor": 2
}
