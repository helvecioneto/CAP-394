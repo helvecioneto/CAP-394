{
 "cells": [
  {
   "cell_type": "markdown",
   "metadata": {},
   "source": [
    "## Optical Flow"
   ]
  },
  {
   "cell_type": "code",
   "execution_count": 168,
   "metadata": {},
   "outputs": [],
   "source": [
    "from datetime import datetime\n",
    "\n",
    "from lib import loadSeries"
   ]
  },
  {
   "cell_type": "markdown",
   "metadata": {},
   "source": [
    "## Read the Radar Data"
   ]
  },
  {
   "cell_type": "code",
   "execution_count": 169,
   "metadata": {},
   "outputs": [],
   "source": [
    "## Set Date to Read Files\n",
    "date = datetime.strptime(\"20140103234809\", \"%Y%m%d%H%M%S\")"
   ]
  },
  {
   "cell_type": "code",
   "execution_count": 249,
   "metadata": {},
   "outputs": [
    {
     "name": "stdout",
     "output_type": "stream",
     "text": [
      "File Loaded at times : 9 sbmn_rain_rates_20140103_220011.nc\n",
      "File Loaded at times : 8 sbmn_rain_rates_20140103_221211.nc\n",
      "File Loaded at times : 7 sbmn_rain_rates_20140103_222412.nc\n",
      "File Loaded at times : 6 sbmn_rain_rates_20140103_223612.nc\n",
      "File Loaded at times : 5 sbmn_rain_rates_20140103_224810.nc\n",
      "File Loaded at times : 4 sbmn_rain_rates_20140103_230011.nc\n",
      "File Loaded at times : 3 sbmn_rain_rates_20140103_231210.nc\n",
      "File Loaded at times : 2 sbmn_rain_rates_20140103_232410.nc\n",
      "File Loaded at times : 1 sbmn_rain_rates_20140103_233610.nc\n",
      "File Loaded at times : 0 sbmn_rain_rates_20140103_234809.nc\n"
     ]
    }
   ],
   "source": [
    "R = loadSeries.readFiles(date)"
   ]
  },
  {
   "cell_type": "code",
   "execution_count": 250,
   "metadata": {},
   "outputs": [
    {
     "data": {
      "text/plain": [
       "array([[[nan, nan, nan, ..., nan, nan, nan],\n",
       "        [nan, nan, nan, ..., nan, nan, nan],\n",
       "        [nan, nan, nan, ..., nan, nan, nan],\n",
       "        ...,\n",
       "        [nan, nan, nan, ..., nan, nan, nan],\n",
       "        [nan, nan, nan, ..., nan, nan, nan],\n",
       "        [nan, nan, nan, ..., nan, nan, nan]],\n",
       "\n",
       "       [[nan, nan, nan, ..., nan, nan, nan],\n",
       "        [nan, nan, nan, ..., nan, nan, nan],\n",
       "        [nan, nan, nan, ..., nan, nan, nan],\n",
       "        ...,\n",
       "        [nan, nan, nan, ..., nan, nan, nan],\n",
       "        [nan, nan, nan, ..., nan, nan, nan],\n",
       "        [nan, nan, nan, ..., nan, nan, nan]],\n",
       "\n",
       "       [[nan, nan, nan, ..., nan, nan, nan],\n",
       "        [nan, nan, nan, ..., nan, nan, nan],\n",
       "        [nan, nan, nan, ..., nan, nan, nan],\n",
       "        ...,\n",
       "        [nan, nan, nan, ..., nan, nan, nan],\n",
       "        [nan, nan, nan, ..., nan, nan, nan],\n",
       "        [nan, nan, nan, ..., nan, nan, nan]]])"
      ]
     },
     "execution_count": 250,
     "metadata": {},
     "output_type": "execute_result"
    }
   ],
   "source": [
    "## APPLY OPTICAL FLOW FOR 3 LAST\n",
    "R[-3:, :, :]"
   ]
  },
  {
   "cell_type": "code",
   "execution_count": 279,
   "metadata": {},
   "outputs": [],
   "source": [
    "import numpy as np\n",
    "from numpy.ma.core import MaskedArray\n",
    "\n",
    "def optical_flow(input_images):\n",
    "\n",
    "    \n",
    "    input_images = input_images.copy()\n",
    "    \n",
    "    nr_fields = input_images.shape[0]\n",
    "    domain_size = (input_images.shape[1], input_images.shape[2])\n",
    "    \n",
    "    \n",
    "    xy = np.empty(shape=(0, 2))\n",
    "    uv = np.empty(shape=(0, 2))\n",
    "    \n",
    "    for n in range(nr_fields - 1):\n",
    "        prvs_img = input_images[n, :, :].copy()\n",
    "        next_img = input_images[n + 1, :, :].copy()\n",
    "        \n",
    "        if ~isinstance(prvs_img, MaskedArray):\n",
    "            prvs_img = np.ma.masked_invalid(prvs_img)\n",
    "            np.ma.set_fill_value(prvs_img, prvs_img.min())\n",
    "            \n",
    "        if ~isinstance(next_img, MaskedArray):\n",
    "            next_img = np.ma.masked_invalid(next_img)\n",
    "            np.ma.set_fill_value(next_img, next_img.min())\n",
    "            \n",
    "           \n",
    "        # features detection\n",
    "        points = ShiTomasi_detection(prvs_img)\n",
    "    \n",
    "        # get sparse u, v vectors with Lucas-Kanade tracking\n",
    "        xy_, uv_ = lukasKanade(prvs_img, next_img, points)\n",
    "        \n",
    "        xy = np.append(xy, xy_, axis=0)"
   ]
  },
  {
   "cell_type": "code",
   "execution_count": 276,
   "metadata": {},
   "outputs": [],
   "source": [
    "import cv2\n",
    "\n",
    "def ShiTomasi_detection(input_image, max_corners=500, quality_level=0.1,\n",
    "                        min_distance=3, block_size=15, buffer_mask=0,\n",
    "                        use_harris = False, k = 0.04):\n",
    "    \n",
    "    input_image = np.copy(input_image)\n",
    "    \n",
    "    if input_image.ndim != 2:\n",
    "        raise ValueError(\"input_image must be a two-dimensional array\")\n",
    "        \n",
    "    # masked array\n",
    "    if ~isinstance(input_image, MaskedArray):\n",
    "        input_image = np.ma.masked_invalid(input_image)\n",
    "    np.ma.set_fill_value(input_image, input_image.min())\n",
    "    \n",
    "    # buffer the quality mask to ensure that no vectors are computed nearby\n",
    "    # the edges of the radar mask\n",
    "    mask = np.ma.getmaskarray(input_image).astype(\"uint8\")\n",
    "    if buffer_mask > 0:\n",
    "        mask = cv2.dilate(\n",
    "            mask, np.ones((int(buffer_mask), int(buffer_mask)), np.uint8), 1\n",
    "        )\n",
    "        input_image[mask] = np.ma.masked\n",
    "\n",
    "    # scale image between 0 and 255\n",
    "    input_image = (\n",
    "        (input_image.filled() - input_image.min())\n",
    "        / (input_image.max() - input_image.min())\n",
    "        * 255\n",
    "    )\n",
    "    \n",
    "    # convert to 8-bit\n",
    "    input_image = np.ndarray.astype(input_image, \"uint8\")\n",
    "    mask = (-1 * mask + 1).astype(\"uint8\")\n",
    "    \n",
    "    \n",
    "    params = dict(\n",
    "        maxCorners=max_corners,\n",
    "        qualityLevel=quality_level,\n",
    "        minDistance=min_distance,\n",
    "        useHarrisDetector=use_harris,\n",
    "        k=k,\n",
    "    )\n",
    "    \n",
    "    points = cv2.goodFeaturesToTrack(input_image, mask=mask, **params)\n",
    "    \n",
    "    return points"
   ]
  },
  {
   "cell_type": "code",
   "execution_count": 281,
   "metadata": {},
   "outputs": [],
   "source": [
    "def lukasKanade(prvs_image,next_image,points,\n",
    "        winsize=(50, 50),\n",
    "        nr_levels=3,\n",
    "        criteria=(3, 10, 0),\n",
    "        flags=0,\n",
    "        min_eig_thr=1e-4):\n",
    "    \n",
    "    prvs_img = np.copy(prvs_image)\n",
    "    next_img = np.copy(next_image)\n",
    "    p0 = np.copy(points)\n",
    "    \n",
    "    if ~isinstance(prvs_img, MaskedArray):\n",
    "        prvs_img = np.ma.masked_invalid(prvs_img)\n",
    "    np.ma.set_fill_value(prvs_img, prvs_img.min())\n",
    "\n",
    "    if ~isinstance(next_img, MaskedArray):\n",
    "        next_img = np.ma.masked_invalid(next_img)\n",
    "    np.ma.set_fill_value(next_img, next_img.min())\n",
    "    \n",
    "    # scale between 0 and 255\n",
    "    prvs_img = ((prvs_img.filled() - prvs_img.min()) /\n",
    "                (prvs_img.max() - prvs_img.min()) * 255)\n",
    "\n",
    "    next_img = ((next_img.filled() - next_img.min()) /\n",
    "                (next_img.max() - next_img.min()) * 255)\n",
    "\n",
    "    # convert to 8-bit\n",
    "    prvs_img = np.ndarray.astype(prvs_img, \"uint8\")\n",
    "    next_img = np.ndarray.astype(next_img, \"uint8\")\n",
    "\n",
    "    # Lucas-Kanade\n",
    "    # TODO: use the error returned by the OpenCV routine\n",
    "    params = dict(\n",
    "        winSize=winsize,\n",
    "        maxLevel=nr_levels,\n",
    "        criteria=criteria,\n",
    "        flags=flags,\n",
    "        minEigThreshold=min_eig_thr,\n",
    "    )\n",
    "    p1, st, __ = cv2.calcOpticalFlowPyrLK(prvs_img, next_img,\n",
    "                                          p0, None, **params)\n",
    "    \n",
    "    # keep only features that have been found\n",
    "    st = st.squeeze() == 1\n",
    "    \n",
    "    if np.any(st):\n",
    "        p1 = p1[st, :]\n",
    "        p0 = p0[st, :]\n",
    "\n",
    "        # extract vectors\n",
    "        xy = p0\n",
    "        uv = p1 - p0\n",
    "        \n",
    "        print(xy)\n",
    "    \n",
    "    return xy, uv"
   ]
  },
  {
   "cell_type": "code",
   "execution_count": 282,
   "metadata": {},
   "outputs": [
    {
     "name": "stdout",
     "output_type": "stream",
     "text": [
      "[[[ 77. 101.]]\n",
      "\n",
      " [[ 59. 132.]]\n",
      "\n",
      " [[ 59. 135.]]\n",
      "\n",
      " [[ 73.  98.]]]\n"
     ]
    },
    {
     "ename": "ValueError",
     "evalue": "all the input arrays must have same number of dimensions, but the array at index 0 has 2 dimension(s) and the array at index 1 has 3 dimension(s)",
     "output_type": "error",
     "traceback": [
      "\u001b[0;31m---------------------------------------------------------------------------\u001b[0m",
      "\u001b[0;31mValueError\u001b[0m                                Traceback (most recent call last)",
      "\u001b[0;32m<ipython-input-282-3ead60051753>\u001b[0m in \u001b[0;36m<module>\u001b[0;34m\u001b[0m\n\u001b[0;32m----> 1\u001b[0;31m \u001b[0mr\u001b[0m \u001b[0;34m=\u001b[0m \u001b[0moptical_flow\u001b[0m\u001b[0;34m(\u001b[0m\u001b[0mR\u001b[0m\u001b[0;34m[\u001b[0m\u001b[0;34m-\u001b[0m\u001b[0;36m3\u001b[0m\u001b[0;34m:\u001b[0m\u001b[0;34m,\u001b[0m \u001b[0;34m:\u001b[0m\u001b[0;34m,\u001b[0m \u001b[0;34m:\u001b[0m\u001b[0;34m]\u001b[0m\u001b[0;34m)\u001b[0m\u001b[0;34m\u001b[0m\u001b[0;34m\u001b[0m\u001b[0m\n\u001b[0m",
      "\u001b[0;32m<ipython-input-279-f94dbf998900>\u001b[0m in \u001b[0;36moptical_flow\u001b[0;34m(input_images)\u001b[0m\n\u001b[1;32m     33\u001b[0m         \u001b[0mxy_\u001b[0m\u001b[0;34m,\u001b[0m \u001b[0muv_\u001b[0m \u001b[0;34m=\u001b[0m \u001b[0mlukasKanade\u001b[0m\u001b[0;34m(\u001b[0m\u001b[0mprvs_img\u001b[0m\u001b[0;34m,\u001b[0m \u001b[0mnext_img\u001b[0m\u001b[0;34m,\u001b[0m \u001b[0mpoints\u001b[0m\u001b[0;34m)\u001b[0m\u001b[0;34m\u001b[0m\u001b[0;34m\u001b[0m\u001b[0m\n\u001b[1;32m     34\u001b[0m \u001b[0;34m\u001b[0m\u001b[0m\n\u001b[0;32m---> 35\u001b[0;31m         \u001b[0mxy\u001b[0m \u001b[0;34m=\u001b[0m \u001b[0mnp\u001b[0m\u001b[0;34m.\u001b[0m\u001b[0mappend\u001b[0m\u001b[0;34m(\u001b[0m\u001b[0mxy\u001b[0m\u001b[0;34m,\u001b[0m \u001b[0mxy_\u001b[0m\u001b[0;34m,\u001b[0m \u001b[0maxis\u001b[0m\u001b[0;34m=\u001b[0m\u001b[0;36m0\u001b[0m\u001b[0;34m)\u001b[0m\u001b[0;34m\u001b[0m\u001b[0;34m\u001b[0m\u001b[0m\n\u001b[0m",
      "\u001b[0;32m<__array_function__ internals>\u001b[0m in \u001b[0;36mappend\u001b[0;34m(*args, **kwargs)\u001b[0m\n",
      "\u001b[0;32m~/miniconda3/envs/cap394/lib/python3.6/site-packages/numpy/lib/function_base.py\u001b[0m in \u001b[0;36mappend\u001b[0;34m(arr, values, axis)\u001b[0m\n\u001b[1;32m   4698\u001b[0m         \u001b[0mvalues\u001b[0m \u001b[0;34m=\u001b[0m \u001b[0mravel\u001b[0m\u001b[0;34m(\u001b[0m\u001b[0mvalues\u001b[0m\u001b[0;34m)\u001b[0m\u001b[0;34m\u001b[0m\u001b[0;34m\u001b[0m\u001b[0m\n\u001b[1;32m   4699\u001b[0m         \u001b[0maxis\u001b[0m \u001b[0;34m=\u001b[0m \u001b[0marr\u001b[0m\u001b[0;34m.\u001b[0m\u001b[0mndim\u001b[0m\u001b[0;34m-\u001b[0m\u001b[0;36m1\u001b[0m\u001b[0;34m\u001b[0m\u001b[0;34m\u001b[0m\u001b[0m\n\u001b[0;32m-> 4700\u001b[0;31m     \u001b[0;32mreturn\u001b[0m \u001b[0mconcatenate\u001b[0m\u001b[0;34m(\u001b[0m\u001b[0;34m(\u001b[0m\u001b[0marr\u001b[0m\u001b[0;34m,\u001b[0m \u001b[0mvalues\u001b[0m\u001b[0;34m)\u001b[0m\u001b[0;34m,\u001b[0m \u001b[0maxis\u001b[0m\u001b[0;34m=\u001b[0m\u001b[0maxis\u001b[0m\u001b[0;34m)\u001b[0m\u001b[0;34m\u001b[0m\u001b[0;34m\u001b[0m\u001b[0m\n\u001b[0m\u001b[1;32m   4701\u001b[0m \u001b[0;34m\u001b[0m\u001b[0m\n\u001b[1;32m   4702\u001b[0m \u001b[0;34m\u001b[0m\u001b[0m\n",
      "\u001b[0;32m<__array_function__ internals>\u001b[0m in \u001b[0;36mconcatenate\u001b[0;34m(*args, **kwargs)\u001b[0m\n",
      "\u001b[0;31mValueError\u001b[0m: all the input arrays must have same number of dimensions, but the array at index 0 has 2 dimension(s) and the array at index 1 has 3 dimension(s)"
     ]
    }
   ],
   "source": [
    "r = optical_flow(R[-3:, :, :])"
   ]
  },
  {
   "cell_type": "code",
   "execution_count": 256,
   "metadata": {},
   "outputs": [],
   "source": []
  },
  {
   "cell_type": "code",
   "execution_count": 163,
   "metadata": {},
   "outputs": [],
   "source": [
    "r"
   ]
  },
  {
   "cell_type": "code",
   "execution_count": null,
   "metadata": {},
   "outputs": [],
   "source": []
  }
 ],
 "metadata": {
  "kernelspec": {
   "display_name": "Python 3",
   "language": "python",
   "name": "python3"
  },
  "language_info": {
   "codemirror_mode": {
    "name": "ipython",
    "version": 3
   },
   "file_extension": ".py",
   "mimetype": "text/x-python",
   "name": "python",
   "nbconvert_exporter": "python",
   "pygments_lexer": "ipython3",
   "version": "3.6.9"
  }
 },
 "nbformat": 4,
 "nbformat_minor": 2
}
