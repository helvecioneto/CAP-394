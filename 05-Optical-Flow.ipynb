{
 "cells": [
  {
   "cell_type": "markdown",
   "metadata": {},
   "source": [
    "## Optical Flow"
   ]
  },
  {
   "cell_type": "code",
   "execution_count": 1,
   "metadata": {},
   "outputs": [],
   "source": [
    "from datetime import datetime\n",
    "\n",
    "from opytrack.lib import loadSeries"
   ]
  },
  {
   "cell_type": "markdown",
   "metadata": {},
   "source": [
    "## Read the Radar Data"
   ]
  },
  {
   "cell_type": "code",
   "execution_count": 272,
   "metadata": {},
   "outputs": [],
   "source": [
    "## Set Date to Read Files\n",
    "date = datetime.strptime(\"20140103234809\", \"%Y%m%d%H%M%S\")"
   ]
  },
  {
   "cell_type": "code",
   "execution_count": 280,
   "metadata": {},
   "outputs": [
    {
     "name": "stdout",
     "output_type": "stream",
     "text": [
      "sbmn_rain_rates_20140103_220011.nc\n",
      "sbmn_rain_rates_20140103_221211.nc\n",
      "sbmn_rain_rates_20140103_222412.nc\n",
      "sbmn_rain_rates_20140103_223612.nc\n",
      "sbmn_rain_rates_20140103_224810.nc\n",
      "sbmn_rain_rates_20140103_230011.nc\n",
      "sbmn_rain_rates_20140103_231210.nc\n",
      "sbmn_rain_rates_20140103_232410.nc\n",
      "sbmn_rain_rates_20140103_233610.nc\n",
      "sbmn_rain_rates_20140103_234809.nc\n"
     ]
    },
    {
     "data": {
      "text/plain": [
       "0"
      ]
     },
     "execution_count": 280,
     "metadata": {},
     "output_type": "execute_result"
    }
   ],
   "source": [
    "loadSeries.readFiles(date)"
   ]
  },
  {
   "cell_type": "code",
   "execution_count": 281,
   "metadata": {},
   "outputs": [],
   "source": [
    "import xarray as xr"
   ]
  },
  {
   "cell_type": "code",
   "execution_count": 282,
   "metadata": {},
   "outputs": [
    {
     "data": {
      "text/plain": [
       "<xarray.Dataset>\n",
       "Dimensions:     (x0: 241, y0: 241)\n",
       "Dimensions without coordinates: x0, y0\n",
       "Data variables:\n",
       "    start_time  datetime64[ns] ...\n",
       "    stop_time   datetime64[ns] ...\n",
       "    lat0        (y0, x0) float32 ...\n",
       "    lon0        (y0, x0) float32 ...\n",
       "    rain_rate   (y0, x0) float32 ...\n",
       "Attributes:\n",
       "    description:  SIPAM Manaus S-Band Gridded Rain Rates\n",
       "    source:       SIPAM Manaus S-Band Radar\n",
       "    institution:  SIPAM/Texas A&M University\n",
       "    comment:      v2.0a; Created at Texas A&M University (cschu@tamu.edu)\n",
       "    references:   http://atmo.tamu.edu/goamazon-sband-radar\n",
       "    created:      Tue Sep  5 14:22:35 2017\\n"
      ]
     },
     "execution_count": 282,
     "metadata": {},
     "output_type": "execute_result"
    }
   ],
   "source": [
    "xr.open_dataset('data/input/20140103/sbmn_rain_rates_20140103_220011.nc')"
   ]
  },
  {
   "cell_type": "code",
   "execution_count": 283,
   "metadata": {},
   "outputs": [],
   "source": [
    "dia = date.isoformat()"
   ]
  },
  {
   "cell_type": "code",
   "execution_count": 284,
   "metadata": {},
   "outputs": [],
   "source": [
    "## Set Date to Read Files\n",
    "date = datetime.strptime(\"20140103234809\", \"%Y%m%d%H%M%S\")"
   ]
  },
  {
   "cell_type": "code",
   "execution_count": 285,
   "metadata": {},
   "outputs": [],
   "source": [
    "import xarray as xr\n",
    "import os\n",
    "import numpy as np\n",
    "\n",
    "dataPath = 'data/input/'\n",
    "\n",
    "def readFiles(date):\n",
    "    sdate = date.isoformat()\n",
    "\n",
    "    year   = sdate[0:4]\n",
    "    month  = sdate[5:7]\n",
    "    day    = sdate[8:10]\n",
    "    hour   = sdate[11:13]\n",
    "    minute = sdate[14:16]\n",
    "    second = sdate[17:19]\n",
    "    extension = '.nc'\n",
    "    \n",
    "#     initialFile = (dataPath+year+month+day+'/sbmn_rain_rates_'+year+month+day+'_'+hour+minute+second+extension)\n",
    "    \n",
    "    initialFile = ('sbmn_rain_rates_'+year+month+day+'_'+hour+minute+second+extension)\n",
    "    \n",
    "    interval = 10\n",
    "    frames = np.zeros ((interval,241,241))\n",
    "    \n",
    "    for i in range(interval-1,-1,-1):\n",
    "        file = (sorted(os.listdir(dataPath+year+month+day))[i])\n",
    "        lr = xr.open_dataset(dataPath+year+month+day+'/'+file)\n",
    "        rr = lr.rain_rate\n",
    "        frames[i] = rr\n",
    "    \n",
    "    return frames"
   ]
  },
  {
   "cell_type": "code",
   "execution_count": 286,
   "metadata": {},
   "outputs": [
    {
     "data": {
      "text/plain": [
       "(10, 241, 241)"
      ]
     },
     "execution_count": 286,
     "metadata": {},
     "output_type": "execute_result"
    }
   ],
   "source": [
    "R = readFiles(date)\n",
    "R.shape"
   ]
  },
  {
   "cell_type": "code",
   "execution_count": 288,
   "metadata": {},
   "outputs": [
    {
     "data": {
      "text/plain": [
       "array([[[nan, nan, nan, ..., nan, nan, nan],\n",
       "        [nan, nan, nan, ..., nan, nan, nan],\n",
       "        [nan, nan, nan, ..., nan, nan, nan],\n",
       "        ...,\n",
       "        [nan, nan, nan, ..., nan, nan, nan],\n",
       "        [nan, nan, nan, ..., nan, nan, nan],\n",
       "        [nan, nan, nan, ..., nan, nan, nan]],\n",
       "\n",
       "       [[nan, nan, nan, ..., nan, nan, nan],\n",
       "        [nan, nan, nan, ..., nan, nan, nan],\n",
       "        [nan, nan, nan, ..., nan, nan, nan],\n",
       "        ...,\n",
       "        [nan, nan, nan, ..., nan, nan, nan],\n",
       "        [nan, nan, nan, ..., nan, nan, nan],\n",
       "        [nan, nan, nan, ..., nan, nan, nan]],\n",
       "\n",
       "       [[nan, nan, nan, ..., nan, nan, nan],\n",
       "        [nan, nan, nan, ..., nan, nan, nan],\n",
       "        [nan, nan, nan, ..., nan, nan, nan],\n",
       "        ...,\n",
       "        [nan, nan, nan, ..., nan, nan, nan],\n",
       "        [nan, nan, nan, ..., nan, nan, nan],\n",
       "        [nan, nan, nan, ..., nan, nan, nan]],\n",
       "\n",
       "       ...,\n",
       "\n",
       "       [[nan, nan, nan, ..., nan, nan, nan],\n",
       "        [nan, nan, nan, ..., nan, nan, nan],\n",
       "        [nan, nan, nan, ..., nan, nan, nan],\n",
       "        ...,\n",
       "        [nan, nan, nan, ..., nan, nan, nan],\n",
       "        [nan, nan, nan, ..., nan, nan, nan],\n",
       "        [nan, nan, nan, ..., nan, nan, nan]],\n",
       "\n",
       "       [[nan, nan, nan, ..., nan, nan, nan],\n",
       "        [nan, nan, nan, ..., nan, nan, nan],\n",
       "        [nan, nan, nan, ..., nan, nan, nan],\n",
       "        ...,\n",
       "        [nan, nan, nan, ..., nan, nan, nan],\n",
       "        [nan, nan, nan, ..., nan, nan, nan],\n",
       "        [nan, nan, nan, ..., nan, nan, nan]],\n",
       "\n",
       "       [[nan, nan, nan, ..., nan, nan, nan],\n",
       "        [nan, nan, nan, ..., nan, nan, nan],\n",
       "        [nan, nan, nan, ..., nan, nan, nan],\n",
       "        ...,\n",
       "        [nan, nan, nan, ..., nan, nan, nan],\n",
       "        [nan, nan, nan, ..., nan, nan, nan],\n",
       "        [nan, nan, nan, ..., nan, nan, nan]]])"
      ]
     },
     "execution_count": 288,
     "metadata": {},
     "output_type": "execute_result"
    }
   ],
   "source": [
    "R"
   ]
  },
  {
   "cell_type": "code",
   "execution_count": 291,
   "metadata": {},
   "outputs": [
    {
     "data": {
      "text/plain": [
       "array([[[nan, nan, nan, ..., nan, nan, nan],\n",
       "        [nan, nan, nan, ..., nan, nan, nan],\n",
       "        [nan, nan, nan, ..., nan, nan, nan],\n",
       "        ...,\n",
       "        [nan, nan, nan, ..., nan, nan, nan],\n",
       "        [nan, nan, nan, ..., nan, nan, nan],\n",
       "        [nan, nan, nan, ..., nan, nan, nan]],\n",
       "\n",
       "       [[nan, nan, nan, ..., nan, nan, nan],\n",
       "        [nan, nan, nan, ..., nan, nan, nan],\n",
       "        [nan, nan, nan, ..., nan, nan, nan],\n",
       "        ...,\n",
       "        [nan, nan, nan, ..., nan, nan, nan],\n",
       "        [nan, nan, nan, ..., nan, nan, nan],\n",
       "        [nan, nan, nan, ..., nan, nan, nan]],\n",
       "\n",
       "       [[nan, nan, nan, ..., nan, nan, nan],\n",
       "        [nan, nan, nan, ..., nan, nan, nan],\n",
       "        [nan, nan, nan, ..., nan, nan, nan],\n",
       "        ...,\n",
       "        [nan, nan, nan, ..., nan, nan, nan],\n",
       "        [nan, nan, nan, ..., nan, nan, nan],\n",
       "        [nan, nan, nan, ..., nan, nan, nan]]])"
      ]
     },
     "execution_count": 291,
     "metadata": {},
     "output_type": "execute_result"
    }
   ],
   "source": [
    "R[-3:, :, :]"
   ]
  },
  {
   "cell_type": "code",
   "execution_count": null,
   "metadata": {},
   "outputs": [],
   "source": []
  },
  {
   "cell_type": "code",
   "execution_count": null,
   "metadata": {},
   "outputs": [],
   "source": []
  },
  {
   "cell_type": "code",
   "execution_count": null,
   "metadata": {},
   "outputs": [],
   "source": []
  },
  {
   "cell_type": "code",
   "execution_count": null,
   "metadata": {},
   "outputs": [],
   "source": []
  },
  {
   "cell_type": "code",
   "execution_count": null,
   "metadata": {},
   "outputs": [],
   "source": []
  },
  {
   "cell_type": "code",
   "execution_count": 137,
   "metadata": {},
   "outputs": [
    {
     "name": "stdout",
     "output_type": "stream",
     "text": [
      "sbmn_rain_rates_20140103_220011.nc\n",
      "sbmn_rain_rates_20140103_221211.nc\n",
      "sbmn_rain_rates_20140103_222412.nc\n",
      "sbmn_rain_rates_20140103_223612.nc\n",
      "sbmn_rain_rates_20140103_224810.nc\n",
      "sbmn_rain_rates_20140103_230011.nc\n",
      "sbmn_rain_rates_20140103_231210.nc\n",
      "sbmn_rain_rates_20140103_232410.nc\n",
      "sbmn_rain_rates_20140103_233610.nc\n",
      "sbmn_rain_rates_20140103_234809.nc\n"
     ]
    }
   ],
   "source": [
    "for item in range(9, -1, -1):\n",
    "    print(allfiles[item])"
   ]
  },
  {
   "cell_type": "code",
   "execution_count": 143,
   "metadata": {},
   "outputs": [
    {
     "data": {
      "text/plain": [
       "['sbmn_rain_rates_20140103_234809.nc',\n",
       " 'sbmn_rain_rates_20140103_233610.nc',\n",
       " 'sbmn_rain_rates_20140103_232410.nc',\n",
       " 'sbmn_rain_rates_20140103_231210.nc',\n",
       " 'sbmn_rain_rates_20140103_230011.nc',\n",
       " 'sbmn_rain_rates_20140103_224810.nc',\n",
       " 'sbmn_rain_rates_20140103_223612.nc',\n",
       " 'sbmn_rain_rates_20140103_222412.nc',\n",
       " 'sbmn_rain_rates_20140103_221211.nc',\n",
       " 'sbmn_rain_rates_20140103_220011.nc']"
      ]
     },
     "execution_count": 143,
     "metadata": {},
     "output_type": "execute_result"
    }
   ],
   "source": [
    "allfiles = sorted(os.listdir('data/input/20140103/'),reverse=True)\n",
    "allfiles"
   ]
  },
  {
   "cell_type": "code",
   "execution_count": null,
   "metadata": {},
   "outputs": [],
   "source": []
  }
 ],
 "metadata": {
  "kernelspec": {
   "display_name": "Python 3",
   "language": "python",
   "name": "python3"
  },
  "language_info": {
   "codemirror_mode": {
    "name": "ipython",
    "version": 3
   },
   "file_extension": ".py",
   "mimetype": "text/x-python",
   "name": "python",
   "nbconvert_exporter": "python",
   "pygments_lexer": "ipython3",
   "version": "3.6.9"
  }
 },
 "nbformat": 4,
 "nbformat_minor": 2
}
