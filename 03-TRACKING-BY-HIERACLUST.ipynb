{
 "cells": [
  {
   "cell_type": "code",
   "execution_count": 67,
   "metadata": {},
   "outputs": [],
   "source": [
    "import pandas as pd\n",
    "import numpy as np\n",
    "from matplotlib import pyplot as plt\n",
    "from sklearn.cluster import AgglomerativeClustering\n",
    "import scipy.cluster.hierarchy as sch\n",
    "import glob"
   ]
  },
  {
   "cell_type": "code",
   "execution_count": 88,
   "metadata": {},
   "outputs": [],
   "source": [
    "l = [pd.read_csv(filename) for filename in sorted(glob.glob(\"output/centroids/*.csv\"))]\n",
    "dados = pd.concat(l, axis=0, sort=False)\n",
    "dados['DATETIME'] =  pd.to_datetime(dados['DATETIME'], format='%Y-%m-%d %H:%M:%S')\n",
    "dados = dados.set_index('DATETIME')\n",
    "dados.index = dados.index.map(lambda x: x.replace(second=0))\n",
    "\n",
    "freqtime = pd.date_range(start=dados.index.min(), end=dados.index.max(), freq='12T')\n",
    "t1 = freqtime[0]\n",
    "t2 = freqtime[1]\n",
    "t3 = freqtime[2]"
   ]
  },
  {
   "cell_type": "code",
   "execution_count": 89,
   "metadata": {},
   "outputs": [],
   "source": [
    "time1 = dados.loc[t1]\n",
    "time2 = dados.loc[t2]\n",
    "time3 = dados.loc[t3]"
   ]
  },
  {
   "cell_type": "code",
   "execution_count": 90,
   "metadata": {},
   "outputs": [
    {
     "data": {
      "text/html": [
       "<div>\n",
       "<style scoped>\n",
       "    .dataframe tbody tr th:only-of-type {\n",
       "        vertical-align: middle;\n",
       "    }\n",
       "\n",
       "    .dataframe tbody tr th {\n",
       "        vertical-align: top;\n",
       "    }\n",
       "\n",
       "    .dataframe thead th {\n",
       "        text-align: right;\n",
       "    }\n",
       "</style>\n",
       "<table border=\"1\" class=\"dataframe\">\n",
       "  <thead>\n",
       "    <tr style=\"text-align: right;\">\n",
       "      <th></th>\n",
       "      <th>N_Cluster</th>\n",
       "      <th>ID_CLUS</th>\n",
       "      <th>LAT</th>\n",
       "      <th>LON</th>\n",
       "      <th>DIST</th>\n",
       "      <th>IND_X</th>\n",
       "      <th>IND_Y</th>\n",
       "      <th>T_RELATION</th>\n",
       "      <th>RAIN_FALL</th>\n",
       "      <th>DBz</th>\n",
       "    </tr>\n",
       "    <tr>\n",
       "      <th>DATETIME</th>\n",
       "      <th></th>\n",
       "      <th></th>\n",
       "      <th></th>\n",
       "      <th></th>\n",
       "      <th></th>\n",
       "      <th></th>\n",
       "      <th></th>\n",
       "      <th></th>\n",
       "      <th></th>\n",
       "      <th></th>\n",
       "    </tr>\n",
       "  </thead>\n",
       "  <tbody>\n",
       "    <tr>\n",
       "      <th>2014-09-28 19:24:00</th>\n",
       "      <td>12</td>\n",
       "      <td>0</td>\n",
       "      <td>-4.209177</td>\n",
       "      <td>-60.496387</td>\n",
       "      <td>129.979844</td>\n",
       "      <td>61</td>\n",
       "      <td>92</td>\n",
       "      <td>SW</td>\n",
       "      <td>115.717804</td>\n",
       "      <td>56.024703</td>\n",
       "    </tr>\n",
       "    <tr>\n",
       "      <th>2014-09-28 19:24:00</th>\n",
       "      <td>12</td>\n",
       "      <td>1</td>\n",
       "      <td>-2.268807</td>\n",
       "      <td>-60.567352</td>\n",
       "      <td>116.431544</td>\n",
       "      <td>169</td>\n",
       "      <td>88</td>\n",
       "      <td>NW</td>\n",
       "      <td>57.591373</td>\n",
       "      <td>51.176019</td>\n",
       "    </tr>\n",
       "    <tr>\n",
       "      <th>2014-09-28 19:24:00</th>\n",
       "      <td>12</td>\n",
       "      <td>2</td>\n",
       "      <td>-3.561566</td>\n",
       "      <td>-58.605930</td>\n",
       "      <td>160.661355</td>\n",
       "      <td>97</td>\n",
       "      <td>197</td>\n",
       "      <td>SE</td>\n",
       "      <td>40.754768</td>\n",
       "      <td>48.773155</td>\n",
       "    </tr>\n",
       "    <tr>\n",
       "      <th>2014-09-28 19:24:00</th>\n",
       "      <td>12</td>\n",
       "      <td>3</td>\n",
       "      <td>-2.304838</td>\n",
       "      <td>-60.315643</td>\n",
       "      <td>99.995682</td>\n",
       "      <td>167</td>\n",
       "      <td>102</td>\n",
       "      <td>NW</td>\n",
       "      <td>61.735973</td>\n",
       "      <td>51.658913</td>\n",
       "    </tr>\n",
       "    <tr>\n",
       "      <th>2014-09-28 19:24:00</th>\n",
       "      <td>12</td>\n",
       "      <td>4</td>\n",
       "      <td>-2.771915</td>\n",
       "      <td>-60.441680</td>\n",
       "      <td>65.067066</td>\n",
       "      <td>141</td>\n",
       "      <td>95</td>\n",
       "      <td>NW</td>\n",
       "      <td>59.813438</td>\n",
       "      <td>51.439080</td>\n",
       "    </tr>\n",
       "  </tbody>\n",
       "</table>\n",
       "</div>"
      ],
      "text/plain": [
       "                     N_Cluster  ID_CLUS       LAT        LON        DIST  \\\n",
       "DATETIME                                                                   \n",
       "2014-09-28 19:24:00         12        0 -4.209177 -60.496387  129.979844   \n",
       "2014-09-28 19:24:00         12        1 -2.268807 -60.567352  116.431544   \n",
       "2014-09-28 19:24:00         12        2 -3.561566 -58.605930  160.661355   \n",
       "2014-09-28 19:24:00         12        3 -2.304838 -60.315643   99.995682   \n",
       "2014-09-28 19:24:00         12        4 -2.771915 -60.441680   65.067066   \n",
       "\n",
       "                     IND_X  IND_Y T_RELATION   RAIN_FALL        DBz  \n",
       "DATETIME                                                             \n",
       "2014-09-28 19:24:00     61     92         SW  115.717804  56.024703  \n",
       "2014-09-28 19:24:00    169     88         NW   57.591373  51.176019  \n",
       "2014-09-28 19:24:00     97    197         SE   40.754768  48.773155  \n",
       "2014-09-28 19:24:00    167    102         NW   61.735973  51.658913  \n",
       "2014-09-28 19:24:00    141     95         NW   59.813438  51.439080  "
      ]
     },
     "execution_count": 90,
     "metadata": {},
     "output_type": "execute_result"
    }
   ],
   "source": [
    "dataset = time1.append(time2)\n",
    "dataset.head()"
   ]
  },
  {
   "cell_type": "code",
   "execution_count": 91,
   "metadata": {},
   "outputs": [
    {
     "data": {
      "text/html": [
       "<div>\n",
       "<style scoped>\n",
       "    .dataframe tbody tr th:only-of-type {\n",
       "        vertical-align: middle;\n",
       "    }\n",
       "\n",
       "    .dataframe tbody tr th {\n",
       "        vertical-align: top;\n",
       "    }\n",
       "\n",
       "    .dataframe thead th {\n",
       "        text-align: right;\n",
       "    }\n",
       "</style>\n",
       "<table border=\"1\" class=\"dataframe\">\n",
       "  <thead>\n",
       "    <tr style=\"text-align: right;\">\n",
       "      <th></th>\n",
       "      <th>N_Cluster</th>\n",
       "      <th>ID_CLUS</th>\n",
       "      <th>LAT</th>\n",
       "      <th>LON</th>\n",
       "      <th>DIST</th>\n",
       "      <th>IND_X</th>\n",
       "      <th>IND_Y</th>\n",
       "      <th>T_RELATION</th>\n",
       "      <th>RAIN_FALL</th>\n",
       "      <th>DBz</th>\n",
       "    </tr>\n",
       "    <tr>\n",
       "      <th>DATETIME</th>\n",
       "      <th></th>\n",
       "      <th></th>\n",
       "      <th></th>\n",
       "      <th></th>\n",
       "      <th></th>\n",
       "      <th></th>\n",
       "      <th></th>\n",
       "      <th></th>\n",
       "      <th></th>\n",
       "      <th></th>\n",
       "    </tr>\n",
       "  </thead>\n",
       "  <tbody>\n",
       "    <tr>\n",
       "      <th>2014-09-28 19:36:00</th>\n",
       "      <td>11</td>\n",
       "      <td>0</td>\n",
       "      <td>-4.173204</td>\n",
       "      <td>-60.568420</td>\n",
       "      <td>130.147843</td>\n",
       "      <td>63</td>\n",
       "      <td>88</td>\n",
       "      <td>SW</td>\n",
       "      <td>112.079689</td>\n",
       "      <td>55.802731</td>\n",
       "    </tr>\n",
       "    <tr>\n",
       "      <th>2014-09-28 19:36:00</th>\n",
       "      <td>11</td>\n",
       "      <td>1</td>\n",
       "      <td>-2.016774</td>\n",
       "      <td>-61.232365</td>\n",
       "      <td>186.247937</td>\n",
       "      <td>183</td>\n",
       "      <td>51</td>\n",
       "      <td>NW</td>\n",
       "      <td>85.160400</td>\n",
       "      <td>53.894103</td>\n",
       "    </tr>\n",
       "    <tr>\n",
       "      <th>2014-09-28 19:36:00</th>\n",
       "      <td>11</td>\n",
       "      <td>2</td>\n",
       "      <td>-3.274401</td>\n",
       "      <td>-61.161720</td>\n",
       "      <td>130.752088</td>\n",
       "      <td>113</td>\n",
       "      <td>55</td>\n",
       "      <td>SW</td>\n",
       "      <td>54.635250</td>\n",
       "      <td>50.809867</td>\n",
       "    </tr>\n",
       "    <tr>\n",
       "      <th>2014-09-28 19:36:00</th>\n",
       "      <td>11</td>\n",
       "      <td>3</td>\n",
       "      <td>-2.304872</td>\n",
       "      <td>-60.153824</td>\n",
       "      <td>95.011285</td>\n",
       "      <td>167</td>\n",
       "      <td>111</td>\n",
       "      <td>NW</td>\n",
       "      <td>66.665298</td>\n",
       "      <td>52.192697</td>\n",
       "    </tr>\n",
       "    <tr>\n",
       "      <th>2014-09-28 19:36:00</th>\n",
       "      <td>11</td>\n",
       "      <td>4</td>\n",
       "      <td>-2.789865</td>\n",
       "      <td>-60.477665</td>\n",
       "      <td>66.994555</td>\n",
       "      <td>140</td>\n",
       "      <td>93</td>\n",
       "      <td>NW</td>\n",
       "      <td>31.207119</td>\n",
       "      <td>46.918359</td>\n",
       "    </tr>\n",
       "  </tbody>\n",
       "</table>\n",
       "</div>"
      ],
      "text/plain": [
       "                     N_Cluster  ID_CLUS       LAT        LON        DIST  \\\n",
       "DATETIME                                                                   \n",
       "2014-09-28 19:36:00         11        0 -4.173204 -60.568420  130.147843   \n",
       "2014-09-28 19:36:00         11        1 -2.016774 -61.232365  186.247937   \n",
       "2014-09-28 19:36:00         11        2 -3.274401 -61.161720  130.752088   \n",
       "2014-09-28 19:36:00         11        3 -2.304872 -60.153824   95.011285   \n",
       "2014-09-28 19:36:00         11        4 -2.789865 -60.477665   66.994555   \n",
       "\n",
       "                     IND_X  IND_Y T_RELATION   RAIN_FALL        DBz  \n",
       "DATETIME                                                             \n",
       "2014-09-28 19:36:00     63     88         SW  112.079689  55.802731  \n",
       "2014-09-28 19:36:00    183     51         NW   85.160400  53.894103  \n",
       "2014-09-28 19:36:00    113     55         SW   54.635250  50.809867  \n",
       "2014-09-28 19:36:00    167    111         NW   66.665298  52.192697  \n",
       "2014-09-28 19:36:00    140     93         NW   31.207119  46.918359  "
      ]
     },
     "execution_count": 91,
     "metadata": {},
     "output_type": "execute_result"
    }
   ],
   "source": [
    "dataset2 = time2.append(time3)\n",
    "dataset2.head()"
   ]
  },
  {
   "cell_type": "code",
   "execution_count": 126,
   "metadata": {},
   "outputs": [
    {
     "data": {
      "text/plain": [
       "array([[ 61,  92],\n",
       "       [169,  88],\n",
       "       [ 97, 197],\n",
       "       [167, 102],\n",
       "       [141,  95],\n",
       "       [ 77, 167],\n",
       "       [181,  54],\n",
       "       [168, 113],\n",
       "       [ 74, 106],\n",
       "       [ 66, 126],\n",
       "       [ 66,  63],\n",
       "       [132,  96],\n",
       "       [ 63,  88],\n",
       "       [183,  51],\n",
       "       [113,  55],\n",
       "       [167, 111],\n",
       "       [140,  93],\n",
       "       [168,  84],\n",
       "       [ 99, 196],\n",
       "       [126,  71],\n",
       "       [ 69, 158],\n",
       "       [ 73, 141],\n",
       "       [ 73,  95]])"
      ]
     },
     "execution_count": 126,
     "metadata": {},
     "output_type": "execute_result"
    }
   ],
   "source": [
    "X = dataset.iloc[:,[5,6]].values\n",
    "X2 = dataset.iloc[:,[5,6]].values\n",
    "X"
   ]
  },
  {
   "cell_type": "code",
   "execution_count": 151,
   "metadata": {},
   "outputs": [
    {
     "data": {
      "image/png": "[encoded data removed]",
      "text/plain": [
       "<Figure size 432x288 with 1 Axes>"
      ]
     },
     "metadata": {
      "needs_background": "light"
     },
     "output_type": "display_data"
    }
   ],
   "source": [
    "dendrogram = sch.dendrogram(sch.linkage(X, method='ward'))"
   ]
  },
  {
   "cell_type": "code",
   "execution_count": 129,
   "metadata": {},
   "outputs": [
    {
     "data": {
      "image/png": "[encoded data removed]",
      "text/plain": [
       "<Figure size 432x288 with 1 Axes>"
      ]
     },
     "metadata": {
      "needs_background": "light"
     },
     "output_type": "display_data"
    }
   ],
   "source": [
    "dendrogram = sch.dendrogram(sch.linkage(X2, method='ward'))"
   ]
  },
  {
   "cell_type": "code",
   "execution_count": 130,
   "metadata": {},
   "outputs": [],
   "source": [
    "model = AgglomerativeClustering(n_clusters=None, affinity='euclidean', linkage='ward',distance_threshold=1)\n",
    "model.fit(X)\n",
    "labels = model.labels_"
   ]
  },
  {
   "cell_type": "code",
   "execution_count": 152,
   "metadata": {},
   "outputs": [
    {
     "data": {
      "image/png": "[encoded data removed]",
      "text/plain": [
       "<Figure size 432x288 with 1 Axes>"
      ]
     },
     "metadata": {
      "needs_background": "light"
     },
     "output_type": "display_data"
    }
   ],
   "source": [
    "plt.scatter(X[labels==0, 0], X[labels==0, 1], s=50, marker='o', color='red')\n",
    "plt.scatter(X[labels==1, 0], X[labels==1, 1], s=50, marker='o', color='blue')\n",
    "plt.scatter(X[labels==2, 0], X[labels==2, 1], s=50, marker='o', color='green')\n",
    "plt.scatter(X[labels==3, 0], X[labels==3, 1], s=50, marker='o', color='purple')\n",
    "plt.scatter(X[labels==4, 0], X[labels==4, 1], s=50, marker='o', color='orange')\n",
    "plt.scatter(X[labels==5, 0], X[labels==5, 1], s=50, marker='o', color='black')\n",
    "plt.scatter(X[:,0],X[:,1], s=50,marker='+',color='black')\n",
    "# plt.scatter(time2['IND_X'],time2['IND_Y'],marker='+')\n",
    "plt.show()"
   ]
  },
  {
   "cell_type": "code",
   "execution_count": 170,
   "metadata": {},
   "outputs": [
    {
     "data": {
      "text/plain": [
       "<matplotlib.collections.PathCollection at 0x7f677f893320>"
      ]
     },
     "execution_count": 170,
     "metadata": {},
     "output_type": "execute_result"
    },
    {
     "data": {
      "image/png": "[encoded data removed]",
      "text/plain": [
       "<Figure size 432x288 with 1 Axes>"
      ]
     },
     "metadata": {
      "needs_background": "light"
     },
     "output_type": "display_data"
    }
   ],
   "source": [
    "plt.scatter(X[:,0],X[:,1])\n",
    "plt.scatter(X[labels==0, 0], X[labels==0, 1])"
   ]
  },
  {
   "cell_type": "code",
   "execution_count": 165,
   "metadata": {},
   "outputs": [
    {
     "data": {
      "text/plain": [
       "<matplotlib.collections.PathCollection at 0x7f677f3247f0>"
      ]
     },
     "execution_count": 165,
     "metadata": {},
     "output_type": "execute_result"
    },
    {
     "data": {
      "image/png": "[encoded data removed]",
      "text/plain": [
       "<Figure size 432x288 with 1 Axes>"
      ]
     },
     "metadata": {
      "needs_background": "light"
     },
     "output_type": "display_data"
    }
   ],
   "source": [
    "plt.scatter(X[labels==0, 0], X[labels==0, 1])"
   ]
  },
  {
   "cell_type": "code",
   "execution_count": 163,
   "metadata": {},
   "outputs": [
    {
     "data": {
      "text/plain": [
       "array([168,  99,  73, 113,  69, 183, 126,  73, 167,  63,  74, 140,  66,\n",
       "        66, 132, 168, 141,  77, 181,  97, 167, 169,  61])"
      ]
     },
     "execution_count": 163,
     "metadata": {},
     "output_type": "execute_result"
    }
   ],
   "source": [
    "X[labels][:,0]"
   ]
  },
  {
   "cell_type": "code",
   "execution_count": 115,
   "metadata": {},
   "outputs": [
    {
     "data": {
      "text/plain": [
       "(array([73]), array([95]))"
      ]
     },
     "execution_count": 115,
     "metadata": {},
     "output_type": "execute_result"
    }
   ],
   "source": [
    "model = AgglomerativeClustering(n_clusters=None, affinity='euclidean', linkage='ward',distance_threshold=1)\n",
    "model.fit(X2)\n",
    "labels = model.labels_\n",
    "X2[labels==0, 0], X2[labels==0, 1]"
   ]
  },
  {
   "cell_type": "code",
   "execution_count": 112,
   "metadata": {},
   "outputs": [
    {
     "data": {
      "image/png": "[encoded data removed]",
      "text/plain": [
       "<Figure size 432x288 with 1 Axes>"
      ]
     },
     "metadata": {
      "needs_background": "light"
     },
     "output_type": "display_data"
    }
   ],
   "source": [
    "plt.scatter(X2[labels==0, 0], X2[labels==0, 1], s=50, marker='o', color='red')\n",
    "plt.scatter(X2[labels==1, 0], X2[labels==1, 1], s=50, marker='o', color='blue')\n",
    "plt.scatter(X2[labels==2, 0], X2[labels==2, 1], s=50, marker='o', color='green')\n",
    "plt.scatter(X2[labels==3, 0], X2[labels==3, 1], s=50, marker='o', color='purple')\n",
    "plt.scatter(X2[labels==4, 0], X2[labels==4, 1], s=50, marker='o', color='orange')\n",
    "plt.scatter(X2[labels==5, 0], X2[labels==5, 1], s=50, marker='o', color='black')\n",
    "plt.show()"
   ]
  }
 ],
 "metadata": {
  "kernelspec": {
   "display_name": "Python 3",
   "language": "python",
   "name": "python3"
  },
  "language_info": {
   "codemirror_mode": {
    "name": "ipython",
    "version": 3
   },
   "file_extension": ".py",
   "mimetype": "text/x-python",
   "name": "python",
   "nbconvert_exporter": "python",
   "pygments_lexer": "ipython3",
   "version": "3.6.7"
  }
 },
 "nbformat": 4,
 "nbformat_minor": 2
}
