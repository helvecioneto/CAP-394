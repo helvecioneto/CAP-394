{
 "cells": [
  {
   "cell_type": "code",
   "execution_count": 1,
   "metadata": {
    "ExecuteTime": {
     "end_time": "2019-09-03T18:12:34.999240Z",
     "start_time": "2019-09-03T18:12:34.600004Z"
    }
   },
   "outputs": [],
   "source": [
    "import pandas as pd\n",
    "import numpy as np\n",
    "from matplotlib import pyplot as plt\n",
    "import scipy.cluster.hierarchy as sch\n",
    "import glob"
   ]
  },
  {
   "cell_type": "code",
   "execution_count": 2,
   "metadata": {
    "ExecuteTime": {
     "end_time": "2019-09-03T18:12:35.016196Z",
     "start_time": "2019-09-03T18:12:35.000516Z"
    }
   },
   "outputs": [],
   "source": [
    "l = [pd.read_csv(filename) for filename in sorted(glob.glob(\"output/centroids/*.csv\"))]\n",
    "dados = pd.concat(l, axis=0, sort=False)\n",
    "dados['DATETIME'] =  pd.to_datetime(dados['DATETIME'], format='%Y-%m-%d %H:%M:%S')\n",
    "dados = dados.set_index('DATETIME')\n",
    "dados.index = dados.index.map(lambda x: x.replace(second=0))\n",
    "\n",
    "freqtime = pd.date_range(start=dados.index.min(), end=dados.index.max(), freq='12T')\n",
    "t1 = freqtime[0]\n",
    "t2 = freqtime[1]\n",
    "t3 = freqtime[2]"
   ]
  },
  {
   "cell_type": "code",
   "execution_count": 3,
   "metadata": {
    "ExecuteTime": {
     "end_time": "2019-09-03T18:12:35.362351Z",
     "start_time": "2019-09-03T18:12:35.352724Z"
    }
   },
   "outputs": [],
   "source": [
    "time1 = dados.loc[t1]\n",
    "time2 = dados.loc[t2]\n",
    "time3 = dados.loc[t3]"
   ]
  },
  {
   "cell_type": "code",
   "execution_count": 4,
   "metadata": {
    "ExecuteTime": {
     "end_time": "2019-09-03T18:12:35.747081Z",
     "start_time": "2019-09-03T18:12:35.722393Z"
    }
   },
   "outputs": [
    {
     "data": {
      "text/html": [
       "<div>\n",
       "<style scoped>\n",
       "    .dataframe tbody tr th:only-of-type {\n",
       "        vertical-align: middle;\n",
       "    }\n",
       "\n",
       "    .dataframe tbody tr th {\n",
       "        vertical-align: top;\n",
       "    }\n",
       "\n",
       "    .dataframe thead th {\n",
       "        text-align: right;\n",
       "    }\n",
       "</style>\n",
       "<table border=\"1\" class=\"dataframe\">\n",
       "  <thead>\n",
       "    <tr style=\"text-align: right;\">\n",
       "      <th></th>\n",
       "      <th>N_Cluster</th>\n",
       "      <th>ID_CLUS</th>\n",
       "      <th>LAT</th>\n",
       "      <th>LON</th>\n",
       "      <th>DIST</th>\n",
       "      <th>IND_X</th>\n",
       "      <th>IND_Y</th>\n",
       "      <th>T_RELATION</th>\n",
       "      <th>RAIN_FALL</th>\n",
       "      <th>DBz</th>\n",
       "    </tr>\n",
       "    <tr>\n",
       "      <th>DATETIME</th>\n",
       "      <th></th>\n",
       "      <th></th>\n",
       "      <th></th>\n",
       "      <th></th>\n",
       "      <th></th>\n",
       "      <th></th>\n",
       "      <th></th>\n",
       "      <th></th>\n",
       "      <th></th>\n",
       "      <th></th>\n",
       "    </tr>\n",
       "  </thead>\n",
       "  <tbody>\n",
       "    <tr>\n",
       "      <th>2014-09-28 19:24:00</th>\n",
       "      <td>12</td>\n",
       "      <td>0</td>\n",
       "      <td>-4.209177</td>\n",
       "      <td>-60.496387</td>\n",
       "      <td>129.979844</td>\n",
       "      <td>61</td>\n",
       "      <td>92</td>\n",
       "      <td>SW</td>\n",
       "      <td>115.717804</td>\n",
       "      <td>56.024703</td>\n",
       "    </tr>\n",
       "    <tr>\n",
       "      <th>2014-09-28 19:24:00</th>\n",
       "      <td>12</td>\n",
       "      <td>1</td>\n",
       "      <td>-2.268807</td>\n",
       "      <td>-60.567352</td>\n",
       "      <td>116.431544</td>\n",
       "      <td>169</td>\n",
       "      <td>88</td>\n",
       "      <td>NW</td>\n",
       "      <td>57.591373</td>\n",
       "      <td>51.176019</td>\n",
       "    </tr>\n",
       "    <tr>\n",
       "      <th>2014-09-28 19:24:00</th>\n",
       "      <td>12</td>\n",
       "      <td>2</td>\n",
       "      <td>-3.561566</td>\n",
       "      <td>-58.605930</td>\n",
       "      <td>160.661355</td>\n",
       "      <td>97</td>\n",
       "      <td>197</td>\n",
       "      <td>SE</td>\n",
       "      <td>40.754768</td>\n",
       "      <td>48.773155</td>\n",
       "    </tr>\n",
       "    <tr>\n",
       "      <th>2014-09-28 19:24:00</th>\n",
       "      <td>12</td>\n",
       "      <td>3</td>\n",
       "      <td>-2.304838</td>\n",
       "      <td>-60.315643</td>\n",
       "      <td>99.995682</td>\n",
       "      <td>167</td>\n",
       "      <td>102</td>\n",
       "      <td>NW</td>\n",
       "      <td>61.735973</td>\n",
       "      <td>51.658913</td>\n",
       "    </tr>\n",
       "    <tr>\n",
       "      <th>2014-09-28 19:24:00</th>\n",
       "      <td>12</td>\n",
       "      <td>4</td>\n",
       "      <td>-2.771915</td>\n",
       "      <td>-60.441680</td>\n",
       "      <td>65.067066</td>\n",
       "      <td>141</td>\n",
       "      <td>95</td>\n",
       "      <td>NW</td>\n",
       "      <td>59.813438</td>\n",
       "      <td>51.439080</td>\n",
       "    </tr>\n",
       "    <tr>\n",
       "      <th>2014-09-28 19:24:00</th>\n",
       "      <td>12</td>\n",
       "      <td>5</td>\n",
       "      <td>-3.921481</td>\n",
       "      <td>-59.145630</td>\n",
       "      <td>127.075574</td>\n",
       "      <td>77</td>\n",
       "      <td>167</td>\n",
       "      <td>SE</td>\n",
       "      <td>41.205261</td>\n",
       "      <td>48.849543</td>\n",
       "    </tr>\n",
       "    <tr>\n",
       "      <th>2014-09-28 19:24:00</th>\n",
       "      <td>12</td>\n",
       "      <td>6</td>\n",
       "      <td>-2.052759</td>\n",
       "      <td>-61.178467</td>\n",
       "      <td>179.137221</td>\n",
       "      <td>181</td>\n",
       "      <td>54</td>\n",
       "      <td>NW</td>\n",
       "      <td>44.350128</td>\n",
       "      <td>49.360618</td>\n",
       "    </tr>\n",
       "    <tr>\n",
       "      <th>2014-09-28 19:24:00</th>\n",
       "      <td>12</td>\n",
       "      <td>7</td>\n",
       "      <td>-2.286910</td>\n",
       "      <td>-60.117860</td>\n",
       "      <td>96.300329</td>\n",
       "      <td>168</td>\n",
       "      <td>113</td>\n",
       "      <td>NW</td>\n",
       "      <td>35.244781</td>\n",
       "      <td>47.763817</td>\n",
       "    </tr>\n",
       "    <tr>\n",
       "      <th>2014-09-28 19:24:00</th>\n",
       "      <td>12</td>\n",
       "      <td>8</td>\n",
       "      <td>-3.975717</td>\n",
       "      <td>-60.244125</td>\n",
       "      <td>95.659669</td>\n",
       "      <td>74</td>\n",
       "      <td>106</td>\n",
       "      <td>SW</td>\n",
       "      <td>32.044018</td>\n",
       "      <td>47.102251</td>\n",
       "    </tr>\n",
       "    <tr>\n",
       "      <th>2014-09-28 19:24:00</th>\n",
       "      <td>12</td>\n",
       "      <td>9</td>\n",
       "      <td>-4.119474</td>\n",
       "      <td>-59.883930</td>\n",
       "      <td>108.032177</td>\n",
       "      <td>66</td>\n",
       "      <td>126</td>\n",
       "      <td>SE</td>\n",
       "      <td>36.641842</td>\n",
       "      <td>48.033937</td>\n",
       "    </tr>\n",
       "    <tr>\n",
       "      <th>2014-09-28 19:24:00</th>\n",
       "      <td>12</td>\n",
       "      <td>10</td>\n",
       "      <td>-4.118925</td>\n",
       "      <td>-61.018684</td>\n",
       "      <td>156.599844</td>\n",
       "      <td>66</td>\n",
       "      <td>63</td>\n",
       "      <td>SW</td>\n",
       "      <td>38.605015</td>\n",
       "      <td>48.396600</td>\n",
       "    </tr>\n",
       "    <tr>\n",
       "      <th>2014-09-28 19:24:00</th>\n",
       "      <td>12</td>\n",
       "      <td>11</td>\n",
       "      <td>-2.933617</td>\n",
       "      <td>-60.423756</td>\n",
       "      <td>53.558066</td>\n",
       "      <td>132</td>\n",
       "      <td>96</td>\n",
       "      <td>NW</td>\n",
       "      <td>50.782818</td>\n",
       "      <td>50.301769</td>\n",
       "    </tr>\n",
       "  </tbody>\n",
       "</table>\n",
       "</div>"
      ],
      "text/plain": [
       "                     N_Cluster  ID_CLUS       LAT        LON        DIST  \\\n",
       "DATETIME                                                                   \n",
       "2014-09-28 19:24:00         12        0 -4.209177 -60.496387  129.979844   \n",
       "2014-09-28 19:24:00         12        1 -2.268807 -60.567352  116.431544   \n",
       "2014-09-28 19:24:00         12        2 -3.561566 -58.605930  160.661355   \n",
       "2014-09-28 19:24:00         12        3 -2.304838 -60.315643   99.995682   \n",
       "2014-09-28 19:24:00         12        4 -2.771915 -60.441680   65.067066   \n",
       "2014-09-28 19:24:00         12        5 -3.921481 -59.145630  127.075574   \n",
       "2014-09-28 19:24:00         12        6 -2.052759 -61.178467  179.137221   \n",
       "2014-09-28 19:24:00         12        7 -2.286910 -60.117860   96.300329   \n",
       "2014-09-28 19:24:00         12        8 -3.975717 -60.244125   95.659669   \n",
       "2014-09-28 19:24:00         12        9 -4.119474 -59.883930  108.032177   \n",
       "2014-09-28 19:24:00         12       10 -4.118925 -61.018684  156.599844   \n",
       "2014-09-28 19:24:00         12       11 -2.933617 -60.423756   53.558066   \n",
       "\n",
       "                     IND_X  IND_Y T_RELATION   RAIN_FALL        DBz  \n",
       "DATETIME                                                             \n",
       "2014-09-28 19:24:00     61     92         SW  115.717804  56.024703  \n",
       "2014-09-28 19:24:00    169     88         NW   57.591373  51.176019  \n",
       "2014-09-28 19:24:00     97    197         SE   40.754768  48.773155  \n",
       "2014-09-28 19:24:00    167    102         NW   61.735973  51.658913  \n",
       "2014-09-28 19:24:00    141     95         NW   59.813438  51.439080  \n",
       "2014-09-28 19:24:00     77    167         SE   41.205261  48.849543  \n",
       "2014-09-28 19:24:00    181     54         NW   44.350128  49.360618  \n",
       "2014-09-28 19:24:00    168    113         NW   35.244781  47.763817  \n",
       "2014-09-28 19:24:00     74    106         SW   32.044018  47.102251  \n",
       "2014-09-28 19:24:00     66    126         SE   36.641842  48.033937  \n",
       "2014-09-28 19:24:00     66     63         SW   38.605015  48.396600  \n",
       "2014-09-28 19:24:00    132     96         NW   50.782818  50.301769  "
      ]
     },
     "execution_count": 4,
     "metadata": {},
     "output_type": "execute_result"
    }
   ],
   "source": [
    "time1"
   ]
  },
  {
   "cell_type": "code",
   "execution_count": 5,
   "metadata": {
    "ExecuteTime": {
     "end_time": "2019-09-03T18:12:36.147308Z",
     "start_time": "2019-09-03T18:12:36.121850Z"
    }
   },
   "outputs": [
    {
     "data": {
      "text/html": [
       "<div>\n",
       "<style scoped>\n",
       "    .dataframe tbody tr th:only-of-type {\n",
       "        vertical-align: middle;\n",
       "    }\n",
       "\n",
       "    .dataframe tbody tr th {\n",
       "        vertical-align: top;\n",
       "    }\n",
       "\n",
       "    .dataframe thead th {\n",
       "        text-align: right;\n",
       "    }\n",
       "</style>\n",
       "<table border=\"1\" class=\"dataframe\">\n",
       "  <thead>\n",
       "    <tr style=\"text-align: right;\">\n",
       "      <th></th>\n",
       "      <th>N_Cluster</th>\n",
       "      <th>ID_CLUS</th>\n",
       "      <th>LAT</th>\n",
       "      <th>LON</th>\n",
       "      <th>DIST</th>\n",
       "      <th>IND_X</th>\n",
       "      <th>IND_Y</th>\n",
       "      <th>T_RELATION</th>\n",
       "      <th>RAIN_FALL</th>\n",
       "      <th>DBz</th>\n",
       "    </tr>\n",
       "    <tr>\n",
       "      <th>DATETIME</th>\n",
       "      <th></th>\n",
       "      <th></th>\n",
       "      <th></th>\n",
       "      <th></th>\n",
       "      <th></th>\n",
       "      <th></th>\n",
       "      <th></th>\n",
       "      <th></th>\n",
       "      <th></th>\n",
       "      <th></th>\n",
       "    </tr>\n",
       "  </thead>\n",
       "  <tbody>\n",
       "    <tr>\n",
       "      <th>2014-09-28 19:36:00</th>\n",
       "      <td>11</td>\n",
       "      <td>0</td>\n",
       "      <td>-4.173204</td>\n",
       "      <td>-60.568420</td>\n",
       "      <td>130.147843</td>\n",
       "      <td>63</td>\n",
       "      <td>88</td>\n",
       "      <td>SW</td>\n",
       "      <td>112.079689</td>\n",
       "      <td>55.802731</td>\n",
       "    </tr>\n",
       "    <tr>\n",
       "      <th>2014-09-28 19:36:00</th>\n",
       "      <td>11</td>\n",
       "      <td>1</td>\n",
       "      <td>-2.016774</td>\n",
       "      <td>-61.232365</td>\n",
       "      <td>186.247937</td>\n",
       "      <td>183</td>\n",
       "      <td>51</td>\n",
       "      <td>NW</td>\n",
       "      <td>85.160400</td>\n",
       "      <td>53.894103</td>\n",
       "    </tr>\n",
       "    <tr>\n",
       "      <th>2014-09-28 19:36:00</th>\n",
       "      <td>11</td>\n",
       "      <td>2</td>\n",
       "      <td>-3.274401</td>\n",
       "      <td>-61.161720</td>\n",
       "      <td>130.752088</td>\n",
       "      <td>113</td>\n",
       "      <td>55</td>\n",
       "      <td>SW</td>\n",
       "      <td>54.635250</td>\n",
       "      <td>50.809867</td>\n",
       "    </tr>\n",
       "    <tr>\n",
       "      <th>2014-09-28 19:36:00</th>\n",
       "      <td>11</td>\n",
       "      <td>3</td>\n",
       "      <td>-2.304872</td>\n",
       "      <td>-60.153824</td>\n",
       "      <td>95.011285</td>\n",
       "      <td>167</td>\n",
       "      <td>111</td>\n",
       "      <td>NW</td>\n",
       "      <td>66.665298</td>\n",
       "      <td>52.192697</td>\n",
       "    </tr>\n",
       "    <tr>\n",
       "      <th>2014-09-28 19:36:00</th>\n",
       "      <td>11</td>\n",
       "      <td>4</td>\n",
       "      <td>-2.789865</td>\n",
       "      <td>-60.477665</td>\n",
       "      <td>66.994555</td>\n",
       "      <td>140</td>\n",
       "      <td>93</td>\n",
       "      <td>NW</td>\n",
       "      <td>31.207119</td>\n",
       "      <td>46.918359</td>\n",
       "    </tr>\n",
       "    <tr>\n",
       "      <th>2014-09-28 19:36:00</th>\n",
       "      <td>11</td>\n",
       "      <td>5</td>\n",
       "      <td>-2.286735</td>\n",
       "      <td>-60.639280</td>\n",
       "      <td>119.422815</td>\n",
       "      <td>168</td>\n",
       "      <td>84</td>\n",
       "      <td>NW</td>\n",
       "      <td>54.036713</td>\n",
       "      <td>50.733323</td>\n",
       "    </tr>\n",
       "    <tr>\n",
       "      <th>2014-09-28 19:36:00</th>\n",
       "      <td>11</td>\n",
       "      <td>6</td>\n",
       "      <td>-3.525661</td>\n",
       "      <td>-58.623980</td>\n",
       "      <td>157.645567</td>\n",
       "      <td>99</td>\n",
       "      <td>196</td>\n",
       "      <td>SE</td>\n",
       "      <td>41.548103</td>\n",
       "      <td>48.907119</td>\n",
       "    </tr>\n",
       "    <tr>\n",
       "      <th>2014-09-28 19:36:00</th>\n",
       "      <td>11</td>\n",
       "      <td>7</td>\n",
       "      <td>-3.041134</td>\n",
       "      <td>-60.873592</td>\n",
       "      <td>98.713464</td>\n",
       "      <td>126</td>\n",
       "      <td>71</td>\n",
       "      <td>NW</td>\n",
       "      <td>29.676811</td>\n",
       "      <td>46.568976</td>\n",
       "    </tr>\n",
       "    <tr>\n",
       "      <th>2014-09-28 19:36:00</th>\n",
       "      <td>11</td>\n",
       "      <td>8</td>\n",
       "      <td>-4.065336</td>\n",
       "      <td>-59.307587</td>\n",
       "      <td>126.723716</td>\n",
       "      <td>69</td>\n",
       "      <td>158</td>\n",
       "      <td>SE</td>\n",
       "      <td>26.440586</td>\n",
       "      <td>45.766637</td>\n",
       "    </tr>\n",
       "    <tr>\n",
       "      <th>2014-09-28 19:36:00</th>\n",
       "      <td>11</td>\n",
       "      <td>9</td>\n",
       "      <td>-3.993642</td>\n",
       "      <td>-59.613804</td>\n",
       "      <td>102.460741</td>\n",
       "      <td>73</td>\n",
       "      <td>141</td>\n",
       "      <td>SE</td>\n",
       "      <td>24.062384</td>\n",
       "      <td>45.111718</td>\n",
       "    </tr>\n",
       "    <tr>\n",
       "      <th>2014-09-28 19:36:00</th>\n",
       "      <td>11</td>\n",
       "      <td>10</td>\n",
       "      <td>-3.993611</td>\n",
       "      <td>-60.442234</td>\n",
       "      <td>105.991680</td>\n",
       "      <td>73</td>\n",
       "      <td>95</td>\n",
       "      <td>SW</td>\n",
       "      <td>33.276428</td>\n",
       "      <td>47.364487</td>\n",
       "    </tr>\n",
       "  </tbody>\n",
       "</table>\n",
       "</div>"
      ],
      "text/plain": [
       "                     N_Cluster  ID_CLUS       LAT        LON        DIST  \\\n",
       "DATETIME                                                                   \n",
       "2014-09-28 19:36:00         11        0 -4.173204 -60.568420  130.147843   \n",
       "2014-09-28 19:36:00         11        1 -2.016774 -61.232365  186.247937   \n",
       "2014-09-28 19:36:00         11        2 -3.274401 -61.161720  130.752088   \n",
       "2014-09-28 19:36:00         11        3 -2.304872 -60.153824   95.011285   \n",
       "2014-09-28 19:36:00         11        4 -2.789865 -60.477665   66.994555   \n",
       "2014-09-28 19:36:00         11        5 -2.286735 -60.639280  119.422815   \n",
       "2014-09-28 19:36:00         11        6 -3.525661 -58.623980  157.645567   \n",
       "2014-09-28 19:36:00         11        7 -3.041134 -60.873592   98.713464   \n",
       "2014-09-28 19:36:00         11        8 -4.065336 -59.307587  126.723716   \n",
       "2014-09-28 19:36:00         11        9 -3.993642 -59.613804  102.460741   \n",
       "2014-09-28 19:36:00         11       10 -3.993611 -60.442234  105.991680   \n",
       "\n",
       "                     IND_X  IND_Y T_RELATION   RAIN_FALL        DBz  \n",
       "DATETIME                                                             \n",
       "2014-09-28 19:36:00     63     88         SW  112.079689  55.802731  \n",
       "2014-09-28 19:36:00    183     51         NW   85.160400  53.894103  \n",
       "2014-09-28 19:36:00    113     55         SW   54.635250  50.809867  \n",
       "2014-09-28 19:36:00    167    111         NW   66.665298  52.192697  \n",
       "2014-09-28 19:36:00    140     93         NW   31.207119  46.918359  \n",
       "2014-09-28 19:36:00    168     84         NW   54.036713  50.733323  \n",
       "2014-09-28 19:36:00     99    196         SE   41.548103  48.907119  \n",
       "2014-09-28 19:36:00    126     71         NW   29.676811  46.568976  \n",
       "2014-09-28 19:36:00     69    158         SE   26.440586  45.766637  \n",
       "2014-09-28 19:36:00     73    141         SE   24.062384  45.111718  \n",
       "2014-09-28 19:36:00     73     95         SW   33.276428  47.364487  "
      ]
     },
     "execution_count": 5,
     "metadata": {},
     "output_type": "execute_result"
    }
   ],
   "source": [
    "time2"
   ]
  },
  {
   "cell_type": "code",
   "execution_count": 6,
   "metadata": {
    "ExecuteTime": {
     "end_time": "2019-09-03T18:12:36.647946Z",
     "start_time": "2019-09-03T18:12:36.633541Z"
    }
   },
   "outputs": [],
   "source": [
    "import numpy as np\n",
    "import pandas as pd\n",
    "from scipy.spatial.distance import cdist\n",
    "\n",
    "def calcDist(t1,t2):\n",
    "\n",
    "    t1 = t1[['ID_CLUS','IND_X','IND_Y']]\n",
    "    t1_data = t1.values.tolist()\n",
    "\n",
    "    t2 = t2[['ID_CLUS','IND_X','IND_Y']]\n",
    "    t2_data = t2.values.tolist()\n",
    "\n",
    "\n",
    "    t1_ = pd.DataFrame(data=t1_data, columns=['T1', 'X', 'Y'])\n",
    "    t2_ = pd.DataFrame(data=t2_data, columns=['T2', 'X', 'Y'])\n",
    "\n",
    "    mask = cdist(t2_[['X', 'Y']].values, t1_[['X', 'Y']].values,'euclidean') < 5\n",
    "\n",
    "    arr = []\n",
    "\n",
    "    def zone(x):\n",
    "        arr.append ( t1_[x].T1.values[0] if x.any() else np.nan)\n",
    "\n",
    "    result = t2_.drop(['X', 'Y'], axis=1)\n",
    "    np.apply_along_axis(zone, True, mask)\n",
    "    result['T1'] = arr\n",
    "    \n",
    "    return result"
   ]
  },
  {
   "cell_type": "code",
   "execution_count": 7,
   "metadata": {
    "ExecuteTime": {
     "end_time": "2019-09-03T18:12:37.208529Z",
     "start_time": "2019-09-03T18:12:37.174210Z"
    }
   },
   "outputs": [
    {
     "data": {
      "text/html": [
       "<div>\n",
       "<style scoped>\n",
       "    .dataframe tbody tr th:only-of-type {\n",
       "        vertical-align: middle;\n",
       "    }\n",
       "\n",
       "    .dataframe tbody tr th {\n",
       "        vertical-align: top;\n",
       "    }\n",
       "\n",
       "    .dataframe thead th {\n",
       "        text-align: right;\n",
       "    }\n",
       "</style>\n",
       "<table border=\"1\" class=\"dataframe\">\n",
       "  <thead>\n",
       "    <tr style=\"text-align: right;\">\n",
       "      <th></th>\n",
       "      <th>T2</th>\n",
       "      <th>T1</th>\n",
       "    </tr>\n",
       "  </thead>\n",
       "  <tbody>\n",
       "    <tr>\n",
       "      <th>0</th>\n",
       "      <td>0</td>\n",
       "      <td>0.0</td>\n",
       "    </tr>\n",
       "    <tr>\n",
       "      <th>1</th>\n",
       "      <td>1</td>\n",
       "      <td>6.0</td>\n",
       "    </tr>\n",
       "    <tr>\n",
       "      <th>2</th>\n",
       "      <td>2</td>\n",
       "      <td>NaN</td>\n",
       "    </tr>\n",
       "    <tr>\n",
       "      <th>3</th>\n",
       "      <td>3</td>\n",
       "      <td>7.0</td>\n",
       "    </tr>\n",
       "    <tr>\n",
       "      <th>4</th>\n",
       "      <td>4</td>\n",
       "      <td>4.0</td>\n",
       "    </tr>\n",
       "    <tr>\n",
       "      <th>5</th>\n",
       "      <td>5</td>\n",
       "      <td>1.0</td>\n",
       "    </tr>\n",
       "    <tr>\n",
       "      <th>6</th>\n",
       "      <td>6</td>\n",
       "      <td>2.0</td>\n",
       "    </tr>\n",
       "    <tr>\n",
       "      <th>7</th>\n",
       "      <td>7</td>\n",
       "      <td>NaN</td>\n",
       "    </tr>\n",
       "    <tr>\n",
       "      <th>8</th>\n",
       "      <td>8</td>\n",
       "      <td>NaN</td>\n",
       "    </tr>\n",
       "    <tr>\n",
       "      <th>9</th>\n",
       "      <td>9</td>\n",
       "      <td>NaN</td>\n",
       "    </tr>\n",
       "    <tr>\n",
       "      <th>10</th>\n",
       "      <td>10</td>\n",
       "      <td>NaN</td>\n",
       "    </tr>\n",
       "  </tbody>\n",
       "</table>\n",
       "</div>"
      ],
      "text/plain": [
       "    T2   T1\n",
       "0    0  0.0\n",
       "1    1  6.0\n",
       "2    2  NaN\n",
       "3    3  7.0\n",
       "4    4  4.0\n",
       "5    5  1.0\n",
       "6    6  2.0\n",
       "7    7  NaN\n",
       "8    8  NaN\n",
       "9    9  NaN\n",
       "10  10  NaN"
      ]
     },
     "execution_count": 7,
     "metadata": {},
     "output_type": "execute_result"
    }
   ],
   "source": [
    "calcDist(time1,time2)"
   ]
  },
  {
   "cell_type": "code",
   "execution_count": 8,
   "metadata": {
    "ExecuteTime": {
     "end_time": "2019-09-03T18:12:38.063994Z",
     "start_time": "2019-09-03T18:12:38.050737Z"
    }
   },
   "outputs": [],
   "source": [
    "from geopy.distance import geodesic"
   ]
  },
  {
   "cell_type": "code",
   "execution_count": 39,
   "metadata": {
    "ExecuteTime": {
     "end_time": "2019-09-03T18:19:04.026810Z",
     "start_time": "2019-09-03T18:19:03.891309Z"
    }
   },
   "outputs": [],
   "source": [
    "traj = pd.DataFrame(columns=['START_TIME','END_TIME','T1','T2'])\n",
    "\n",
    "t1t2 = calcDist(time1,time2)\n",
    "for i,row in t1t2.iterrows():\n",
    "    a = time1.loc[time1['ID_CLUS'] == row[0]]\n",
    "    b = time2.loc[time2['ID_CLUS'] == row[0]]\n",
    "    \n",
    "    p1 = (str(a.LAT[0])+','+str(a.LON[0]))\n",
    "    p2 = (str(b.LAT[0])+','+str(b.LON[0]))\n",
    "\n",
    "    traj = traj.append({'START_TIME':a.index[0],'END_TIME':b.index[0],\n",
    "                        'T1':row[1],'T2':t1t2.T2[i]},ignore_index=True)\n",
    "\n",
    "traj = traj.sort_values('T1')\n",
    "traj = traj.dropna()\n",
    "traj['T1'] = traj['T1'].astype(int)"
   ]
  },
  {
   "cell_type": "code",
   "execution_count": 40,
   "metadata": {
    "ExecuteTime": {
     "end_time": "2019-09-03T18:19:04.246668Z",
     "start_time": "2019-09-03T18:19:04.233529Z"
    }
   },
   "outputs": [
    {
     "data": {
      "text/html": [
       "<div>\n",
       "<style scoped>\n",
       "    .dataframe tbody tr th:only-of-type {\n",
       "        vertical-align: middle;\n",
       "    }\n",
       "\n",
       "    .dataframe tbody tr th {\n",
       "        vertical-align: top;\n",
       "    }\n",
       "\n",
       "    .dataframe thead th {\n",
       "        text-align: right;\n",
       "    }\n",
       "</style>\n",
       "<table border=\"1\" class=\"dataframe\">\n",
       "  <thead>\n",
       "    <tr style=\"text-align: right;\">\n",
       "      <th></th>\n",
       "      <th>START_TIME</th>\n",
       "      <th>END_TIME</th>\n",
       "      <th>T1</th>\n",
       "      <th>T2</th>\n",
       "    </tr>\n",
       "  </thead>\n",
       "  <tbody>\n",
       "    <tr>\n",
       "      <th>0</th>\n",
       "      <td>2014-09-28 19:24:00</td>\n",
       "      <td>2014-09-28 19:36:00</td>\n",
       "      <td>0</td>\n",
       "      <td>0</td>\n",
       "    </tr>\n",
       "    <tr>\n",
       "      <th>5</th>\n",
       "      <td>2014-09-28 19:24:00</td>\n",
       "      <td>2014-09-28 19:36:00</td>\n",
       "      <td>1</td>\n",
       "      <td>5</td>\n",
       "    </tr>\n",
       "    <tr>\n",
       "      <th>6</th>\n",
       "      <td>2014-09-28 19:24:00</td>\n",
       "      <td>2014-09-28 19:36:00</td>\n",
       "      <td>2</td>\n",
       "      <td>6</td>\n",
       "    </tr>\n",
       "    <tr>\n",
       "      <th>4</th>\n",
       "      <td>2014-09-28 19:24:00</td>\n",
       "      <td>2014-09-28 19:36:00</td>\n",
       "      <td>4</td>\n",
       "      <td>4</td>\n",
       "    </tr>\n",
       "    <tr>\n",
       "      <th>1</th>\n",
       "      <td>2014-09-28 19:24:00</td>\n",
       "      <td>2014-09-28 19:36:00</td>\n",
       "      <td>6</td>\n",
       "      <td>1</td>\n",
       "    </tr>\n",
       "    <tr>\n",
       "      <th>3</th>\n",
       "      <td>2014-09-28 19:24:00</td>\n",
       "      <td>2014-09-28 19:36:00</td>\n",
       "      <td>7</td>\n",
       "      <td>3</td>\n",
       "    </tr>\n",
       "  </tbody>\n",
       "</table>\n",
       "</div>"
      ],
      "text/plain": [
       "           START_TIME            END_TIME  T1 T2\n",
       "0 2014-09-28 19:24:00 2014-09-28 19:36:00   0  0\n",
       "5 2014-09-28 19:24:00 2014-09-28 19:36:00   1  5\n",
       "6 2014-09-28 19:24:00 2014-09-28 19:36:00   2  6\n",
       "4 2014-09-28 19:24:00 2014-09-28 19:36:00   4  4\n",
       "1 2014-09-28 19:24:00 2014-09-28 19:36:00   6  1\n",
       "3 2014-09-28 19:24:00 2014-09-28 19:36:00   7  3"
      ]
     },
     "execution_count": 40,
     "metadata": {},
     "output_type": "execute_result"
    }
   ],
   "source": [
    "traj"
   ]
  },
  {
   "cell_type": "code",
   "execution_count": 48,
   "metadata": {
    "ExecuteTime": {
     "end_time": "2019-09-03T18:20:29.464289Z",
     "start_time": "2019-09-03T18:20:29.400136Z"
    }
   },
   "outputs": [
    {
     "data": {
      "text/html": [
       "<div>\n",
       "<style scoped>\n",
       "    .dataframe tbody tr th:only-of-type {\n",
       "        vertical-align: middle;\n",
       "    }\n",
       "\n",
       "    .dataframe tbody tr th {\n",
       "        vertical-align: top;\n",
       "    }\n",
       "\n",
       "    .dataframe thead th {\n",
       "        text-align: right;\n",
       "    }\n",
       "</style>\n",
       "<table border=\"1\" class=\"dataframe\">\n",
       "  <thead>\n",
       "    <tr style=\"text-align: right;\">\n",
       "      <th></th>\n",
       "      <th>START_TIME</th>\n",
       "      <th>END_TIME</th>\n",
       "      <th>T1</th>\n",
       "      <th>T2</th>\n",
       "      <th>X1</th>\n",
       "      <th>Y1</th>\n",
       "      <th>X2</th>\n",
       "      <th>Y2</th>\n",
       "    </tr>\n",
       "  </thead>\n",
       "  <tbody>\n",
       "    <tr>\n",
       "      <th>0</th>\n",
       "      <td>2014-09-28 19:24:00</td>\n",
       "      <td>2014-09-28 19:36:00</td>\n",
       "      <td>0</td>\n",
       "      <td>0</td>\n",
       "      <td>61</td>\n",
       "      <td>92</td>\n",
       "      <td>63</td>\n",
       "      <td>88</td>\n",
       "    </tr>\n",
       "    <tr>\n",
       "      <th>1</th>\n",
       "      <td>2014-09-28 19:24:00</td>\n",
       "      <td>2014-09-28 19:36:00</td>\n",
       "      <td>1</td>\n",
       "      <td>5</td>\n",
       "      <td>169</td>\n",
       "      <td>88</td>\n",
       "      <td>168</td>\n",
       "      <td>84</td>\n",
       "    </tr>\n",
       "    <tr>\n",
       "      <th>2</th>\n",
       "      <td>2014-09-28 19:24:00</td>\n",
       "      <td>2014-09-28 19:36:00</td>\n",
       "      <td>2</td>\n",
       "      <td>6</td>\n",
       "      <td>97</td>\n",
       "      <td>197</td>\n",
       "      <td>99</td>\n",
       "      <td>196</td>\n",
       "    </tr>\n",
       "    <tr>\n",
       "      <th>3</th>\n",
       "      <td>2014-09-28 19:24:00</td>\n",
       "      <td>2014-09-28 19:36:00</td>\n",
       "      <td>4</td>\n",
       "      <td>4</td>\n",
       "      <td>141</td>\n",
       "      <td>95</td>\n",
       "      <td>140</td>\n",
       "      <td>93</td>\n",
       "    </tr>\n",
       "    <tr>\n",
       "      <th>4</th>\n",
       "      <td>2014-09-28 19:24:00</td>\n",
       "      <td>2014-09-28 19:36:00</td>\n",
       "      <td>6</td>\n",
       "      <td>1</td>\n",
       "      <td>181</td>\n",
       "      <td>54</td>\n",
       "      <td>183</td>\n",
       "      <td>51</td>\n",
       "    </tr>\n",
       "    <tr>\n",
       "      <th>5</th>\n",
       "      <td>2014-09-28 19:24:00</td>\n",
       "      <td>2014-09-28 19:36:00</td>\n",
       "      <td>7</td>\n",
       "      <td>3</td>\n",
       "      <td>168</td>\n",
       "      <td>113</td>\n",
       "      <td>167</td>\n",
       "      <td>111</td>\n",
       "    </tr>\n",
       "  </tbody>\n",
       "</table>\n",
       "</div>"
      ],
      "text/plain": [
       "           START_TIME            END_TIME T1 T2   X1   Y1   X2   Y2\n",
       "0 2014-09-28 19:24:00 2014-09-28 19:36:00  0  0   61   92   63   88\n",
       "1 2014-09-28 19:24:00 2014-09-28 19:36:00  1  5  169   88  168   84\n",
       "2 2014-09-28 19:24:00 2014-09-28 19:36:00  2  6   97  197   99  196\n",
       "3 2014-09-28 19:24:00 2014-09-28 19:36:00  4  4  141   95  140   93\n",
       "4 2014-09-28 19:24:00 2014-09-28 19:36:00  6  1  181   54  183   51\n",
       "5 2014-09-28 19:24:00 2014-09-28 19:36:00  7  3  168  113  167  111"
      ]
     },
     "execution_count": 48,
     "metadata": {},
     "output_type": "execute_result"
    }
   ],
   "source": [
    "track = pd.DataFrame(columns=['START_TIME','END_TIME','T1','T2','X1','Y1','X2','Y2'])\n",
    "\n",
    "for i, row in traj.iterrows():\n",
    "    ts1 = (time1.loc[time1['ID_CLUS']==row.T1])\n",
    "    ts2 = (time2.loc[time2['ID_CLUS']==row.T2])\n",
    "    track = track.append({'START_TIME':ts1.index[0],'END_TIME':ts2.index[0],\n",
    "                          'T1':ts1.ID_CLUS[0],'T2':ts2.ID_CLUS[0],\n",
    "                          'X1':ts1.IND_X[0],'Y1':ts1.IND_Y[0],\n",
    "                          'X2':ts2.IND_X[0],'Y2':ts2.IND_Y[0],},ignore_index=True) \n",
    "track"
   ]
  },
  {
   "cell_type": "code",
   "execution_count": null,
   "metadata": {
    "ExecuteTime": {
     "end_time": "2019-09-03T18:09:46.959358Z",
     "start_time": "2019-09-03T18:09:46.915100Z"
    }
   },
   "outputs": [],
   "source": [
    "tracker = pd.DataFrame()\n",
    "\n",
    "for i, row in traj.iterrows():\n",
    "    ts1 = (time1.loc[time1['ID_CLUS']==row.T1])\n",
    "    ts2 = (time2.loc[time2['ID_CLUS']==row.T2])\n",
    "    tracker = tracker.append(ts1)\n",
    "    tracker = tracker.append(ts2)\n",
    "    \n",
    "tracker"
   ]
  },
  {
   "cell_type": "code",
   "execution_count": null,
   "metadata": {
    "ExecuteTime": {
     "end_time": "2019-09-03T18:06:08.921168Z",
     "start_time": "2019-09-03T18:06:08.910370Z"
    }
   },
   "outputs": [],
   "source": [
    "time1"
   ]
  },
  {
   "cell_type": "code",
   "execution_count": null,
   "metadata": {
    "ExecuteTime": {
     "end_time": "2019-09-03T16:12:45.479690Z",
     "start_time": "2019-09-03T16:12:45.447809Z"
    }
   },
   "outputs": [],
   "source": [
    "time2"
   ]
  },
  {
   "cell_type": "code",
   "execution_count": null,
   "metadata": {
    "ExecuteTime": {
     "end_time": "2019-09-03T11:27:11.122015Z",
     "start_time": "2019-09-03T11:27:11.106028Z"
    }
   },
   "outputs": [],
   "source": [
    "dataset = time1.append(time2)\n",
    "dataset.head()"
   ]
  },
  {
   "cell_type": "code",
   "execution_count": null,
   "metadata": {
    "ExecuteTime": {
     "end_time": "2019-09-03T11:27:12.677157Z",
     "start_time": "2019-09-03T11:27:12.663947Z"
    }
   },
   "outputs": [],
   "source": [
    "dataset2 = time2.append(time3)\n",
    "dataset2.head()"
   ]
  },
  {
   "cell_type": "code",
   "execution_count": null,
   "metadata": {
    "ExecuteTime": {
     "end_time": "2019-09-03T11:31:34.729481Z",
     "start_time": "2019-09-03T11:31:34.723129Z"
    }
   },
   "outputs": [],
   "source": [
    "X = dataset.iloc[:,[6,5]].values\n",
    "X2 = dataset.iloc[:,[5,6]].values\n",
    "X"
   ]
  },
  {
   "cell_type": "code",
   "execution_count": null,
   "metadata": {
    "ExecuteTime": {
     "end_time": "2019-09-03T15:59:27.878130Z",
     "start_time": "2019-09-03T15:59:27.718326Z"
    }
   },
   "outputs": [],
   "source": [
    "dendrogram = sch.dendrogram(sch.linkage(x, method='ward'))"
   ]
  },
  {
   "cell_type": "code",
   "execution_count": null,
   "metadata": {
    "ExecuteTime": {
     "end_time": "2019-09-03T11:27:42.963671Z",
     "start_time": "2019-09-03T11:27:42.770055Z"
    }
   },
   "outputs": [],
   "source": [
    "dendrogram = sch.dendrogram(sch.linkage(X2, method='ward'))"
   ]
  },
  {
   "cell_type": "code",
   "execution_count": null,
   "metadata": {
    "ExecuteTime": {
     "end_time": "2019-09-03T11:32:06.068451Z",
     "start_time": "2019-09-03T11:32:06.065430Z"
    }
   },
   "outputs": [],
   "source": [
    "model = AgglomerativeClustering(n_clusters=None, affinity='euclidean', linkage='ward',distance_threshold=10)\n",
    "model.fit(X)\n",
    "labels = model.labels_"
   ]
  },
  {
   "cell_type": "code",
   "execution_count": null,
   "metadata": {
    "ExecuteTime": {
     "end_time": "2019-09-03T11:32:07.356680Z",
     "start_time": "2019-09-03T11:32:07.233612Z"
    }
   },
   "outputs": [],
   "source": [
    "plt.scatter(X[labels==0, 0], X[labels==0, 1], s=50, marker='o', color='red')\n",
    "plt.scatter(X[labels==1, 0], X[labels==1, 1], s=50, marker='o', color='blue')\n",
    "plt.scatter(X[labels==2, 0], X[labels==2, 1], s=50, marker='o', color='green')\n",
    "plt.scatter(X[labels==3, 0], X[labels==3, 1], s=50, marker='o', color='purple')\n",
    "plt.scatter(X[labels==4, 0], X[labels==4, 1], s=50, marker='o', color='orange')\n",
    "plt.scatter(X[labels==5, 0], X[labels==5, 1], s=50, marker='o', color='black')\n",
    "# plt.scatter(X[:,0],X[:,1], s=50,marker='+',color='black')\n",
    "# plt.scatter(time2['IND_X'],time2['IND_Y'],marker='+')\n",
    "plt.show()"
   ]
  },
  {
   "cell_type": "code",
   "execution_count": null,
   "metadata": {
    "ExecuteTime": {
     "end_time": "2019-09-03T11:27:59.217957Z",
     "start_time": "2019-09-03T11:27:59.089338Z"
    }
   },
   "outputs": [],
   "source": [
    "plt.scatter(X[:,0],X[:,1])\n",
    "plt.scatter(X[labels==0, 0], X[labels==0, 1])"
   ]
  },
  {
   "cell_type": "code",
   "execution_count": null,
   "metadata": {
    "ExecuteTime": {
     "end_time": "2019-09-03T11:28:06.839834Z",
     "start_time": "2019-09-03T11:28:06.705916Z"
    }
   },
   "outputs": [],
   "source": [
    "plt.scatter(X[labels==0, 0], X[labels==0, 1])"
   ]
  },
  {
   "cell_type": "code",
   "execution_count": null,
   "metadata": {
    "ExecuteTime": {
     "end_time": "2019-09-03T11:28:08.740868Z",
     "start_time": "2019-09-03T11:28:08.737416Z"
    }
   },
   "outputs": [],
   "source": [
    "X[labels][:,0]"
   ]
  },
  {
   "cell_type": "code",
   "execution_count": null,
   "metadata": {
    "ExecuteTime": {
     "end_time": "2019-09-03T11:28:12.040480Z",
     "start_time": "2019-09-03T11:28:12.033636Z"
    }
   },
   "outputs": [],
   "source": [
    "model = AgglomerativeClustering(n_clusters=None, affinity='euclidean', linkage='ward',distance_threshold=1)\n",
    "model.fit(X2)\n",
    "labels = model.labels_\n",
    "X2[labels==0, 0], X2[labels==0, 1]"
   ]
  },
  {
   "cell_type": "code",
   "execution_count": null,
   "metadata": {
    "ExecuteTime": {
     "end_time": "2019-09-03T11:28:13.291193Z",
     "start_time": "2019-09-03T11:28:13.185193Z"
    }
   },
   "outputs": [],
   "source": [
    "plt.scatter(X2[labels==0, 0], X2[labels==0, 1], s=50, marker='o', color='red')\n",
    "plt.scatter(X2[labels==1, 0], X2[labels==1, 1], s=50, marker='o', color='blue')\n",
    "plt.scatter(X2[labels==2, 0], X2[labels==2, 1], s=50, marker='o', color='green')\n",
    "plt.scatter(X2[labels==3, 0], X2[labels==3, 1], s=50, marker='o', color='purple')\n",
    "plt.scatter(X2[labels==4, 0], X2[labels==4, 1], s=50, marker='o', color='orange')\n",
    "plt.scatter(X2[labels==5, 0], X2[labels==5, 1], s=50, marker='o', color='black')\n",
    "plt.show()"
   ]
  },
  {
   "cell_type": "code",
   "execution_count": null,
   "metadata": {
    "ExecuteTime": {
     "end_time": "2019-09-03T11:49:19.157328Z",
     "start_time": "2019-09-03T11:49:19.151358Z"
    }
   },
   "outputs": [],
   "source": [
    "import scipy\n",
    "\n",
    "mat = scipy.spatial.distance.cdist(time1[['IND_X','IND_Y']], \n",
    "                              time2[['IND_X','IND_Y']], metric='euclidean')"
   ]
  },
  {
   "cell_type": "code",
   "execution_count": null,
   "metadata": {
    "ExecuteTime": {
     "end_time": "2019-09-03T11:49:27.845024Z",
     "start_time": "2019-09-03T11:49:27.841223Z"
    }
   },
   "outputs": [],
   "source": [
    "mat"
   ]
  },
  {
   "cell_type": "code",
   "execution_count": null,
   "metadata": {
    "ExecuteTime": {
     "end_time": "2019-09-03T11:46:31.405125Z",
     "start_time": "2019-09-03T11:46:31.396538Z"
    }
   },
   "outputs": [],
   "source": [
    "import numpy as np\n",
    "from scipy import spatial\n",
    "\n",
    "xy1 = time1.iloc[:,[6,5]].values\n",
    "xy2 = time2.iloc[:,[6,5]].values\n",
    "\n",
    "\n",
    "# This solution is optimal when xy2 is very large\n",
    "tree = spatial.cKDTree(xy2)\n",
    "mindist, minid = tree.query(xy1)\n",
    "print(mindist)\n",
    "\n",
    "# This solution by @denis is OK for small xy2\n",
    "mindist = np.min(spatial.distance.cdist(xy1, xy2), axis=1)\n",
    "print(mindist)"
   ]
  },
  {
   "cell_type": "code",
   "execution_count": null,
   "metadata": {
    "ExecuteTime": {
     "end_time": "2019-09-03T11:49:46.009970Z",
     "start_time": "2019-09-03T11:49:46.004522Z"
    }
   },
   "outputs": [],
   "source": [
    "xy1"
   ]
  },
  {
   "cell_type": "code",
   "execution_count": null,
   "metadata": {
    "ExecuteTime": {
     "end_time": "2019-09-03T12:34:25.213122Z",
     "start_time": "2019-09-03T12:34:25.205801Z"
    }
   },
   "outputs": [],
   "source": [
    "import numpy as np\n",
    "P = np.add.outer(np.sum(xy1**2, axis=1), np.sum(xy2**2, axis=1))\n",
    "N = np.dot(xy1, xy2.T)\n",
    "dists = np.sqrt(P - 2*N)\n",
    "dists"
   ]
  },
  {
   "cell_type": "code",
   "execution_count": null,
   "metadata": {
    "ExecuteTime": {
     "end_time": "2019-09-03T12:07:54.392724Z",
     "start_time": "2019-09-03T12:07:54.386159Z"
    }
   },
   "outputs": [],
   "source": [
    "from sklearn.metrics.pairwise import euclidean_distances\n",
    "df =pd.DataFrame(euclidean_distances(time1[['IND_X','IND_Y']],time2[['IND_X','IND_Y']]))\n",
    "# df.index =  time1[['IND_X','IND_Y']].index\n",
    "# df.columns = time2[['IND_X','IND_Y']].index\n",
    "df['min_distance'] = df.min(axis=1)\n",
    "df['min_distance_id'] = df.idxmin(axis=1)"
   ]
  },
  {
   "cell_type": "code",
   "execution_count": null,
   "metadata": {
    "ExecuteTime": {
     "end_time": "2019-09-03T12:07:56.375827Z",
     "start_time": "2019-09-03T12:07:56.369013Z"
    }
   },
   "outputs": [],
   "source": [
    "df[['min_distance','min_distance_id']]"
   ]
  },
  {
   "cell_type": "code",
   "execution_count": null,
   "metadata": {
    "ExecuteTime": {
     "end_time": "2019-09-03T12:09:34.168328Z",
     "start_time": "2019-09-03T12:09:34.160830Z"
    }
   },
   "outputs": [],
   "source": [
    "time1[['IND_X','IND_Y']]"
   ]
  },
  {
   "cell_type": "code",
   "execution_count": null,
   "metadata": {
    "ExecuteTime": {
     "end_time": "2019-09-03T12:00:11.528200Z",
     "start_time": "2019-09-03T12:00:11.511598Z"
    }
   },
   "outputs": [],
   "source": [
    "time2[['IND_X','IND_Y']]"
   ]
  },
  {
   "cell_type": "code",
   "execution_count": null,
   "metadata": {
    "ExecuteTime": {
     "end_time": "2019-09-03T12:06:40.602861Z",
     "start_time": "2019-09-03T12:06:40.597271Z"
    }
   },
   "outputs": [],
   "source": [
    "import math\n",
    "def calculateDistance(x1,y1,x2,y2):  \n",
    "    dist = math.sqrt((x2 - x1)**2 + (y2 - y1)**2)  \n",
    "    return dist  \n",
    "\n",
    "calculateDistance(169,88,168,84)  "
   ]
  },
  {
   "cell_type": "code",
   "execution_count": null,
   "metadata": {
    "ExecuteTime": {
     "end_time": "2019-09-03T12:05:16.968283Z",
     "start_time": "2019-09-03T12:05:16.961550Z"
    }
   },
   "outputs": [],
   "source": [
    "df[['min_distance','min_distance_id']]"
   ]
  },
  {
   "cell_type": "code",
   "execution_count": null,
   "metadata": {
    "ExecuteTime": {
     "end_time": "2019-09-03T11:58:18.694900Z",
     "start_time": "2019-09-03T11:58:18.689345Z"
    }
   },
   "outputs": [],
   "source": [
    "KDTree = scipy.spatial.cKDTree(time1[['IND_X','IND_Y']])\n",
    "distances, indexes = KDTree.query(time2[['IND_X','IND_Y']], n_jobs=-1)"
   ]
  },
  {
   "cell_type": "code",
   "execution_count": null,
   "metadata": {
    "ExecuteTime": {
     "end_time": "2019-09-03T12:39:42.816566Z",
     "start_time": "2019-09-03T12:39:42.805565Z"
    }
   },
   "outputs": [],
   "source": [
    "import numpy as np\n",
    "from scipy.spatial.distance import cdist\n",
    "\n",
    "def feature_dist(input):\n",
    "    \"\"\"\n",
    "    Takes a labeled array as returned by scipy.ndimage.label and \n",
    "    returns an intra-feature distance matrix.\n",
    "    \"\"\"\n",
    "    I, J = np.nonzero(input)\n",
    "    labels = input[I,J]\n",
    "    coords = np.column_stack((I,J))\n",
    "\n",
    "    sorter = np.argsort(labels)\n",
    "    labels = labels[sorter]\n",
    "    coords = coords[sorter]\n",
    "\n",
    "    sq_dists = cdist(coords, coords, 'sqeuclidean')\n",
    "\n",
    "    start_idx = np.flatnonzero(np.r_[1, np.diff(labels)])\n",
    "    nonzero_vs_feat = np.minimum.reduceat(sq_dists, start_idx, axis=1)\n",
    "    feat_vs_feat = np.minimum.reduceat(nonzero_vs_feat, start_idx, axis=0)\n",
    "\n",
    "    return np.sqrt(feat_vs_feat)\n",
    "\n",
    "feature_dist(zone_data,points_data)"
   ]
  },
  {
   "cell_type": "code",
   "execution_count": null,
   "metadata": {
    "ExecuteTime": {
     "end_time": "2019-09-03T12:53:38.344267Z",
     "start_time": "2019-09-03T12:53:38.337646Z"
    }
   },
   "outputs": [],
   "source": [
    "import numpy as np\n",
    "import pandas as pd\n",
    "from scipy.spatial.distance import cdist\n",
    "\n",
    "# zone_data = [['A1', 704178, 2359686], ['A2', 670179, 2343883], ['A3', 723439, 2346826],\n",
    "#         ['A4', 718530, 2377080], ['A5', 679772, 2379091]]\n",
    "\n",
    "t2 = time1[['ID_CLUS','IND_X','IND_Y']]\n",
    "zone_data = t1.values.tolist()\n",
    "\n",
    "t1 = time2[['ID_CLUS','IND_X','IND_Y']]\n",
    "points_data = t2.values.tolist()\n",
    "\n",
    "# points_data = [['P1 ', 675176, 2373313], ['P2', 684905, 2378956],\n",
    "#         ['P3', 675002, 2352012], ['P4', 675933, 2381910],\n",
    "#         ['P5', 685268, 2364044], ['P6', 673324, 2377060],\n",
    "#         ['P7', 684222, 2371631], ['P8', 701418, 2356943],\n",
    "#         ['P9', 700891, 2362305], ['P10', 706972, 2358842],\n",
    "#         ['P11', 706904, 2364451], ['P12', 721197, 2347368],\n",
    "#         ['P13', 726825, 2345518], ['P14', 725521, 2351631],\n",
    "#         ['P15', 721214, 2353052], ['P16', 700920, 2369710],\n",
    "#         ['P17', 695029, 2365463], ['P18', 715987, 2376662],\n",
    "#         ['P19', 721979, 2379020], ['P20', 716318, 2379221],\n",
    "#         ['P21', 673892, 2345205], ['P22', 689204, 2354791],\n",
    "#         ['P23', 667520, 2347603], ['P24', 673688, 2348698],\n",
    "#         ['P25', 666493, 2362489], ['P26', 698172, 2350498],\n",
    "#         ['P27', 720295, 2381290], ['P28', 681206, 2383585],\n",
    "#         ['P29', 680696, 2377118], ['P30', 695803, 2359471]]\n",
    "\n",
    "zones = pd.DataFrame(data=zone_data, columns=['LABEL', 'X', 'Y'])\n",
    "points = pd.DataFrame(data=points_data, columns=['LABEL', 'X', 'Y'])"
   ]
  },
  {
   "cell_type": "code",
   "execution_count": null,
   "metadata": {
    "ExecuteTime": {
     "end_time": "2019-09-03T13:09:57.500868Z",
     "start_time": "2019-09-03T13:09:57.493281Z"
    }
   },
   "outputs": [],
   "source": [
    "mask = cdist(points[['X', 'Y']].values, zones[['X', 'Y']].values,'euclidean') < 5\n",
    "\n",
    "arr = []\n",
    "\n",
    "def zone(x):\n",
    "    arr.append ( zones[x].LABEL.values[0] if x.any() else 'NaN')\n",
    "\n",
    "#     return zones[x].LABEL if x.any() else ''\n",
    "\n",
    "\n",
    "result = points.drop(['X', 'Y'], axis=1)\n",
    "np.apply_along_axis(zone, True, mask)\n",
    "result['zone'] = arr\n",
    "# result['zone'] = np.apply_along_axis(zone, 1, mask)"
   ]
  },
  {
   "cell_type": "code",
   "execution_count": null,
   "metadata": {
    "ExecuteTime": {
     "end_time": "2019-09-03T13:09:59.149949Z",
     "start_time": "2019-09-03T13:09:59.141054Z"
    }
   },
   "outputs": [],
   "source": [
    "np.apply_along_axis(zone, True, mask)\n",
    "result['zone'] = arr"
   ]
  },
  {
   "cell_type": "code",
   "execution_count": null,
   "metadata": {
    "ExecuteTime": {
     "end_time": "2019-09-03T13:08:29.914770Z",
     "start_time": "2019-09-03T13:08:29.909677Z"
    }
   },
   "outputs": [],
   "source": [
    "aux"
   ]
  },
  {
   "cell_type": "code",
   "execution_count": null,
   "metadata": {
    "ExecuteTime": {
     "end_time": "2019-09-03T13:07:50.324156Z",
     "start_time": "2019-09-03T13:07:50.321847Z"
    }
   },
   "outputs": [],
   "source": [
    "result['zone'] = arr"
   ]
  },
  {
   "cell_type": "code",
   "execution_count": null,
   "metadata": {
    "ExecuteTime": {
     "end_time": "2019-09-03T13:10:00.583208Z",
     "start_time": "2019-09-03T13:10:00.577865Z"
    }
   },
   "outputs": [],
   "source": [
    "result"
   ]
  },
  {
   "cell_type": "code",
   "execution_count": null,
   "metadata": {
    "ExecuteTime": {
     "end_time": "2019-09-03T12:52:53.235361Z",
     "start_time": "2019-09-03T12:52:53.224536Z"
    }
   },
   "outputs": [],
   "source": [
    "import numpy as np\n",
    "import pandas as pd\n",
    "from scipy.spatial.distance import cdist\n",
    "\n",
    "zone_data = [['A1', 704178, 2359686], ['A2', 670179, 2343883], ['A3', 723439, 2346826],\n",
    "        ['A4', 718530, 2377080], ['A5', 679772, 2379091]]\n",
    "\n",
    "points_data = [['P1 ', 675176, 2373313], ['P2', 684905, 2378956],\n",
    "        ['P3', 675002, 2352012], ['P4', 675933, 2381910],\n",
    "        ['P5', 685268, 2364044], ['P6', 673324, 2377060],\n",
    "        ['P7', 684222, 2371631], ['P8', 701418, 2356943],\n",
    "        ['P9', 700891, 2362305], ['P10', 706972, 2358842],\n",
    "        ['P11', 706904, 2364451], ['P12', 721197, 2347368],\n",
    "        ['P13', 726825, 2345518], ['P14', 725521, 2351631],\n",
    "        ['P15', 721214, 2353052], ['P16', 700920, 2369710],\n",
    "        ['P17', 695029, 2365463], ['P18', 715987, 2376662],\n",
    "        ['P19', 721979, 2379020], ['P20', 716318, 2379221],\n",
    "        ['P21', 673892, 2345205], ['P22', 689204, 2354791],\n",
    "        ['P23', 667520, 2347603], ['P24', 673688, 2348698],\n",
    "        ['P25', 666493, 2362489], ['P26', 698172, 2350498],\n",
    "        ['P27', 720295, 2381290], ['P28', 681206, 2383585],\n",
    "        ['P29', 680696, 2377118], ['P30', 695803, 2359471]]\n",
    "\n",
    "zones = pd.DataFrame(data=zone_data, columns=['LABEL', 'X', 'Y'])\n",
    "points = pd.DataFrame(data=points_data, columns=['LABEL', 'X', 'Y'])"
   ]
  },
  {
   "cell_type": "code",
   "execution_count": null,
   "metadata": {
    "ExecuteTime": {
     "end_time": "2019-09-03T12:53:21.868023Z",
     "start_time": "2019-09-03T12:53:21.845917Z"
    }
   },
   "outputs": [],
   "source": [
    "zones = pd.DataFrame(data=zone_data, columns=['LABEL', 'X', 'Y'])\n",
    "points = pd.DataFrame(data=points_data, columns=['LABEL', 'X', 'Y'])\n",
    "mask = cdist(points[['X', 'Y']].values, zones[['X', 'Y']].values, 'euclidean') < 10000\n",
    "\n",
    "\n",
    "def zone(x):\n",
    "    return zones[x].LABEL if x.any() else ''\n",
    "\n",
    "\n",
    "result = points.drop(['X', 'Y'], axis=1)\n",
    "result['zone'] = np.apply_along_axis(zone, 1, mask)"
   ]
  },
  {
   "cell_type": "code",
   "execution_count": null,
   "metadata": {
    "ExecuteTime": {
     "end_time": "2019-09-03T12:53:27.438085Z",
     "start_time": "2019-09-03T12:53:27.428860Z"
    }
   },
   "outputs": [],
   "source": [
    "result"
   ]
  }
 ],
 "metadata": {
  "kernelspec": {
   "display_name": "Python 3",
   "language": "python",
   "name": "python3"
  },
  "language_info": {
   "codemirror_mode": {
    "name": "ipython",
    "version": 3
   },
   "file_extension": ".py",
   "mimetype": "text/x-python",
   "name": "python",
   "nbconvert_exporter": "python",
   "pygments_lexer": "ipython3",
   "version": "3.6.7"
  },
  "toc": {
   "base_numbering": 1,
   "nav_menu": {},
   "number_sections": true,
   "sideBar": true,
   "skip_h1_title": false,
   "title_cell": "Table of Contents",
   "title_sidebar": "Contents",
   "toc_cell": false,
   "toc_position": {},
   "toc_section_display": true,
   "toc_window_display": false
  }
 },
 "nbformat": 4,
 "nbformat_minor": 2
}
