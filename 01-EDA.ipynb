{
 "cells": [
  {
   "cell_type": "markdown",
   "metadata": {},
   "source": [
    "### National Institute for Space Research</h5>\n",
    "   <img src=\"img/icone_cap394.svg\" align=\"right\" alt=\"Drawing\" style=\"width: 200px;\"/>\n",
    "   \n",
    "#### Project for course  Introduction to Data Science - CAP 394\n",
    "#### Student: \n",
    "* Helvecio Bezerra Leal Neto\n",
    "\n",
    "#### Instructors: \n",
    "* Dr. Gilberto Queiroz \n",
    "* Dr. Rafael Santos\n",
    "\n",
    "## Schedule\n",
    "     - [x] Data reading\n",
    "     - [x] Data visualization\n",
    "     - [x] Cluster detection algorithm\n",
    "     - [x] Preprocessing\n",
    "     - [ ] Final analysis and project elaboration"
   ]
  },
  {
   "cell_type": "markdown",
   "metadata": {},
   "source": [
    "### Index\n",
    "\n",
    "  [About](#about) <br></br>\n",
    "  [The Data](#the_data)<br></br>\n",
    "  [Reading Data](#reading_data)<br></br>"
   ]
  },
  {
   "cell_type": "markdown",
   "metadata": {},
   "source": [
    "<a id='about'></a>\n",
    "## About\n",
    "\n",
    "This work is part of the suite of applications for the Introduction to Data Science (CAP-394) course offered by the National Institute for Space Research.\n",
    "\n",
    "The purpose of this paper is to perform an exploratory analysis on Radar data by surveying the raw data, processing them and understanding the dynamics of cloud movement in the study region. At the end of the exploratory process it will be possible to estimate the behavior of the clouds in relation to their movement, making an algorithm capable of estimating the movement from two consecutive images."
   ]
  },
  {
   "cell_type": "markdown",
   "metadata": {},
   "source": [
    "<a id='the_data'></a>\n",
    "## The Data\n",
    "\n",
    "The data analyzed in this example consists of NC (NetCDF4) files. Each file corresponds to Rain Rate measurements collected by the Amazon Protection System (SIPAM) radar during the GoAmazon experiment periods, starting from January 2014 to December 2015, such files contain data on 12-minute time intervals.\n",
    "\n",
    "https://www.arm.gov/research/campaigns/amf2014goamazon"
   ]
  },
  {
   "cell_type": "markdown",
   "metadata": {},
   "source": [
    "<a id='reading_data'></a>\n",
    "## Reading Data"
   ]
  },
  {
   "cell_type": "markdown",
   "metadata": {},
   "source": [
    "#### 1.1 - Libraries used"
   ]
  },
  {
   "cell_type": "code",
   "execution_count": 1,
   "metadata": {
    "ExecuteTime": {
     "end_time": "2019-08-20T17:38:13.091552Z",
     "start_time": "2019-08-20T17:38:12.369627Z"
    }
   },
   "outputs": [],
   "source": [
    "import datetime\n",
    "import os\n",
    "import xarray as xr\n",
    "import numpy as np\n",
    "import pandas as pd\n",
    "import matplotlib.pyplot as plt\n",
    "import matplotlib.colors as mcolors\n",
    "from mpl_toolkits.basemap import Basemap\n",
    "from matplotlib import animation\n",
    "from matplotlib import markers\n",
    "from sklearn.cluster import MeanShift, estimate_bandwidth, KMeans\n",
    "import seaborn as sns\n",
    "\n",
    "import warnings\n",
    "warnings.simplefilter(action='ignore', category=FutureWarning)\n",
    "\n",
    "#%matplotlib\n",
    "%matplotlib inline"
   ]
  },
  {
   "cell_type": "markdown",
   "metadata": {},
   "source": [
    "#### 1.2 Openning dataset"
   ]
  },
  {
   "cell_type": "code",
   "execution_count": 2,
   "metadata": {
    "ExecuteTime": {
     "end_time": "2019-08-20T17:38:13.119317Z",
     "start_time": "2019-08-20T17:38:13.093141Z"
    }
   },
   "outputs": [],
   "source": [
    "### Open files day 2014 / 01 / 03\n",
    "\n",
    "day = 20140103\n",
    "\n",
    "#read first file to extract static variable values\n",
    "path = 'data/radar/'\n",
    "first_file = path+str(day)+'/'+str(os.listdir(path+str(day))[0])\n",
    "    \n",
    "xds = xr.open_dataset(first_file)\n",
    "\n",
    "rr = xds.rain_rate                  ### Matrix with preciptation values\n",
    "runit = xds.rain_rate.units         ### Unit of rain_rate mm/h\n",
    "rkm = xds.rain_rate.height_km       ### Unit of matrix dimensions km\n",
    "lon = xds.lon0.data                 ### Coordinate Longitude Matrix\n",
    "lat = xds.lat0.data                 ### Corrdinate Latitude Matrix\n",
    "x0 = xds.x0                         ### Matrix of points\n",
    "y0 = xds.y0"
   ]
  },
  {
   "cell_type": "code",
   "execution_count": 3,
   "metadata": {
    "ExecuteTime": {
     "end_time": "2019-08-20T17:38:13.228696Z",
     "start_time": "2019-08-20T17:38:13.121353Z"
    }
   },
   "outputs": [
    {
     "data": {
      "text/plain": [
       "<xarray.Dataset>\n",
       "Dimensions:     (x0: 241, y0: 241)\n",
       "Dimensions without coordinates: x0, y0\n",
       "Data variables:\n",
       "    start_time  datetime64[ns] ...\n",
       "    stop_time   datetime64[ns] ...\n",
       "    lat0        (y0, x0) float32 -5.3025093 -5.302555 ... -0.99165195 -0.9916234\n",
       "    lon0        (y0, x0) float32 -62.156715 -62.138676 ... -57.854195 -57.83623\n",
       "    rain_rate   (y0, x0) float32 ...\n",
       "Attributes:\n",
       "    description:  SIPAM Manaus S-Band Gridded Rain Rates\n",
       "    source:       SIPAM Manaus S-Band Radar\n",
       "    institution:  SIPAM/Texas A&M University\n",
       "    comment:      v2.0a; Created at Texas A&M University (cschu@tamu.edu)\n",
       "    references:   http://atmo.tamu.edu/goamazon-sband-radar\n",
       "    created:      Tue Sep  5 14:22:21 2017\\n"
      ]
     },
     "execution_count": 3,
     "metadata": {},
     "output_type": "execute_result"
    }
   ],
   "source": [
    "xds"
   ]
  },
  {
   "cell_type": "markdown",
   "metadata": {},
   "source": [
    "#### 1.3 Variables present in the dataset"
   ]
  },
  {
   "cell_type": "code",
   "execution_count": 4,
   "metadata": {
    "ExecuteTime": {
     "end_time": "2019-08-20T17:38:13.593059Z",
     "start_time": "2019-08-20T17:38:13.587660Z"
    }
   },
   "outputs": [
    {
     "data": {
      "text/plain": [
       "Data variables:\n",
       "    start_time  datetime64[ns] ...\n",
       "    stop_time   datetime64[ns] ...\n",
       "    lat0        (y0, x0) float32 -5.3025093 -5.302555 ... -0.99165195 -0.9916234\n",
       "    lon0        (y0, x0) float32 -62.156715 -62.138676 ... -57.854195 -57.83623\n",
       "    rain_rate   (y0, x0) float32 ..."
      ]
     },
     "execution_count": 4,
     "metadata": {},
     "output_type": "execute_result"
    }
   ],
   "source": [
    "xds.data_vars"
   ]
  },
  {
   "cell_type": "markdown",
   "metadata": {},
   "source": [
    "#### 1.4 Attributes from dataset"
   ]
  },
  {
   "cell_type": "code",
   "execution_count": 5,
   "metadata": {
    "ExecuteTime": {
     "end_time": "2019-08-20T17:38:14.148966Z",
     "start_time": "2019-08-20T17:38:14.145449Z"
    }
   },
   "outputs": [
    {
     "data": {
      "text/plain": [
       "OrderedDict([('description', 'SIPAM Manaus S-Band Gridded Rain Rates'),\n",
       "             ('source', 'SIPAM Manaus S-Band Radar'),\n",
       "             ('institution', 'SIPAM/Texas A&M University'),\n",
       "             ('comment',\n",
       "              'v2.0a; Created at Texas A&M University (cschu@tamu.edu)'),\n",
       "             ('references', 'http://atmo.tamu.edu/goamazon-sband-radar'),\n",
       "             ('created', 'Tue Sep  5 14:22:21 2017\\n')])"
      ]
     },
     "execution_count": 5,
     "metadata": {},
     "output_type": "execute_result"
    }
   ],
   "source": [
    "xds.attrs"
   ]
  },
  {
   "cell_type": "markdown",
   "metadata": {},
   "source": [
    "#### 1.5 Read all data"
   ]
  },
  {
   "cell_type": "code",
   "execution_count": 6,
   "metadata": {
    "ExecuteTime": {
     "end_time": "2019-08-20T17:38:15.333909Z",
     "start_time": "2019-08-20T17:38:15.329022Z"
    }
   },
   "outputs": [],
   "source": [
    "def readData(date):\n",
    "    \n",
    "    path = 'data/radar/'\n",
    "    dataset = []\n",
    "    interval = len(os.listdir(path+str(date)))    \n",
    "    \n",
    "    # Original grid dimensions\n",
    "    nx = 241\n",
    "    ny = 241\n",
    "\n",
    "    # pixel size (in meters)\n",
    "    dx = 1000.\n",
    "    dy = 1000.\n",
    "\n",
    "    downsizeby = 1    \n",
    "\n",
    "    # Compute grid dimensions and grid coordinates after resampling\n",
    "    dx2, dy2 = dx*downsizeby, dy*downsizeby\n",
    "    nx2, ny2 = int(nx/downsizeby), int(ny/downsizeby)\n",
    "\n",
    "    X2, Y2 = np.meshgrid( np.arange(0,nx2*dx2, dx2), np.arange(0,ny2*dy2, dy2) )\n",
    "\n",
    "    # Define container\n",
    "    frames = np.zeros( (interval, nx2, ny2 ) )    \n",
    "    \n",
    "    for i in range(interval):\n",
    "        d = str(path)+str(date)+'/'\n",
    "        file = (sorted(os.listdir(path+str(date)))[i])\n",
    "        xds = xr.open_dataset(d+file)\n",
    "        rr = xds.rain_rate\n",
    "        frames[i] =  rr\n",
    "            \n",
    "    return frames"
   ]
  },
  {
   "cell_type": "code",
   "execution_count": 7,
   "metadata": {
    "ExecuteTime": {
     "end_time": "2019-08-20T17:38:16.579946Z",
     "start_time": "2019-08-20T17:38:16.064952Z"
    }
   },
   "outputs": [
    {
     "name": "stdout",
     "output_type": "stream",
     "text": [
      "The frames from dataset:data (times,x,y) ->  (104, 241, 241)\n"
     ]
    }
   ],
   "source": [
    "frames = readData(day)\n",
    "print('The frames from dataset:data (times,x,y) -> ',frames.shape)"
   ]
  },
  {
   "cell_type": "markdown",
   "metadata": {},
   "source": [
    "#### 1.6 Plot simple example without colormap legends for Time Zero"
   ]
  },
  {
   "cell_type": "code",
   "execution_count": 8,
   "metadata": {
    "ExecuteTime": {
     "end_time": "2019-08-20T17:38:18.557627Z",
     "start_time": "2019-08-20T17:38:17.761328Z"
    }
   },
   "outputs": [
    {
     "data": {
      "text/plain": [
       "<matplotlib.collections.PathCollection at 0x7efbf480a908>"
      ]
     },
     "execution_count": 8,
     "metadata": {},
     "output_type": "execute_result"
    },
    {
     "data": {
      "image/png": "[encoded data removed]",
      "text/plain": [
       "<Figure size 576x576 with 1 Axes>"
      ]
     },
     "metadata": {
      "needs_background": "light"
     },
     "output_type": "display_data"
    }
   ],
   "source": [
    "## Plot simple figure from dataset\n",
    "\n",
    "figtime = 89\n",
    "\n",
    "filename = sorted(os.listdir(path+str(day)))[figtime]\n",
    "\n",
    "plt.figure(figsize=(8,8))\n",
    "plt.title(filename)\n",
    "plt.scatter(lon,lat,frames[figtime])\n",
    "#plt.pcolormesh(lon,lat,frames[figtime])"
   ]
  },
  {
   "cell_type": "markdown",
   "metadata": {},
   "source": [
    "#### 1.7 Clusterization"
   ]
  },
  {
   "cell_type": "raw",
   "metadata": {},
   "source": [
    "LZ (dBZ)\tR (mm/h)\tR (in/h)\tIntensity\n",
    "    5\t      0.08\t      < 0.01\tHardly noticeable\n",
    "    10\t      0.16\t      < 0.01\tLight mist\n",
    "    15\t      0.37\t        0.01\tMist\n",
    "    20\t      0.82\t        0.03\tVery light\n",
    "    25\t      1.35\t        0.05\tLight\n",
    "    30\t      2.85\t        0.11\tLight to moderate\n",
    "    35\t      4.74\t        0.19\tModerate rain\n",
    "    40\t      9.96\t        0.39\tModerate rain\n",
    "    45\t      21.8\t        0.86\tModerate to heavy\n",
    "    50\t      44.7\t        1.76\tHeavy\n",
    "    55\t      85.2\t        3.35\tVery heavy/small hail\n",
    "    60\t       167\t        6.57\tExtreme/moderate hail\n",
    "    65\t       307\t        12.09\tExtreme/large hail"
   ]
  },
  {
   "cell_type": "code",
   "execution_count": 9,
   "metadata": {
    "ExecuteTime": {
     "end_time": "2019-08-20T17:38:19.674581Z",
     "start_time": "2019-08-20T17:38:19.633949Z"
    }
   },
   "outputs": [],
   "source": [
    "def clust(time1):    #11.53:\n",
    "    \n",
    "    dx ,dy = [],[]\n",
    "    te = None\n",
    "    \n",
    "    for i in range(241):\n",
    "        for j in range(241):\n",
    "            if not np.isnan(time1[i][j]) and time1[i][j] > 21.8:\n",
    "                dx.append(i)\n",
    "                dy.append(j)\n",
    "\n",
    "    dim = len(dx)\n",
    "    \n",
    "    # Check dimension\n",
    "    if dim > 4:   \n",
    "        for x in range(dim):\n",
    "            dx.append(np.float32('nan'))\n",
    "            dy.append(np.float32('nan'))\n",
    "\n",
    "        matrix = np.ndarray(shape=(dim, 2), dtype='float32')\n",
    "        pt = pd.DataFrame(columns=['x1','y1'])\n",
    "    \n",
    "        for x in range(dim):\n",
    "            matrix[x] = (dx[x], dy[x])\n",
    "            pt['x1'] = matrix[:,0]\n",
    "            pt['y1'] = matrix[:,1]\n",
    "        \n",
    "        te = pt[['x1','y1']]\n",
    "          \n",
    "        #bandwidth = estimate_bandwidth(te, quantile=0.3)\n",
    "        ms = MeanShift(bandwidth=2, bin_seeding=True, cluster_all=True, min_bin_freq=1,\n",
    "         n_jobs=None, seeds=None)\n",
    "\n",
    "        ms.fit(te)\n",
    "        labels = ms.labels_\n",
    "        cluster_centers = ms.cluster_centers_\n",
    "        n_clusters_ = len(np.unique(labels))\n",
    "        \n",
    "#     colors = 10*['r.','g.','b.','c.','k.','y.','m.']\n",
    "#     for i in range(len(te)):\n",
    "#            #print(te['x1'][i])\n",
    "#         plt.plot(te['x1'][i], te['y1'][i], colors[labels[i]], markersize = 10)\n",
    "#         plt.title('Estimated number of clusters: %d' % n_clusters_)\n",
    "\n",
    "# #         kmeans = KMeans().fit(te)\n",
    "# #         labels = kmeans.labels_\n",
    "# #         cluster_centers = kmeans.cluster_centers_\n",
    "# #         n_clusters_ = len(np.unique(labels))\n",
    "\n",
    "        te['cluster']=labels\n",
    "    \n",
    "    return te"
   ]
  },
  {
   "cell_type": "code",
   "execution_count": 10,
   "metadata": {
    "ExecuteTime": {
     "end_time": "2019-08-20T17:38:21.784206Z",
     "start_time": "2019-08-20T17:38:21.152938Z"
    }
   },
   "outputs": [
    {
     "data": {
      "text/html": [
       "<div>\n",
       "<style scoped>\n",
       "    .dataframe tbody tr th:only-of-type {\n",
       "        vertical-align: middle;\n",
       "    }\n",
       "\n",
       "    .dataframe tbody tr th {\n",
       "        vertical-align: top;\n",
       "    }\n",
       "\n",
       "    .dataframe thead th {\n",
       "        text-align: right;\n",
       "    }\n",
       "</style>\n",
       "<table border=\"1\" class=\"dataframe\">\n",
       "  <thead>\n",
       "    <tr style=\"text-align: right;\">\n",
       "      <th></th>\n",
       "      <th>x1</th>\n",
       "      <th>y1</th>\n",
       "      <th>cluster</th>\n",
       "    </tr>\n",
       "  </thead>\n",
       "  <tbody>\n",
       "    <tr>\n",
       "      <th>0</th>\n",
       "      <td>38.0</td>\n",
       "      <td>67.0</td>\n",
       "      <td>10</td>\n",
       "    </tr>\n",
       "    <tr>\n",
       "      <th>1</th>\n",
       "      <td>48.0</td>\n",
       "      <td>152.0</td>\n",
       "      <td>1</td>\n",
       "    </tr>\n",
       "    <tr>\n",
       "      <th>2</th>\n",
       "      <td>48.0</td>\n",
       "      <td>154.0</td>\n",
       "      <td>4</td>\n",
       "    </tr>\n",
       "    <tr>\n",
       "      <th>3</th>\n",
       "      <td>48.0</td>\n",
       "      <td>155.0</td>\n",
       "      <td>4</td>\n",
       "    </tr>\n",
       "    <tr>\n",
       "      <th>4</th>\n",
       "      <td>49.0</td>\n",
       "      <td>151.0</td>\n",
       "      <td>1</td>\n",
       "    </tr>\n",
       "  </tbody>\n",
       "</table>\n",
       "</div>"
      ],
      "text/plain": [
       "     x1     y1  cluster\n",
       "0  38.0   67.0       10\n",
       "1  48.0  152.0        1\n",
       "2  48.0  154.0        4\n",
       "3  48.0  155.0        4\n",
       "4  49.0  151.0        1"
      ]
     },
     "execution_count": 10,
     "metadata": {},
     "output_type": "execute_result"
    }
   ],
   "source": [
    "data = readData(day)\n",
    "clusters = clust(data[70])\n",
    "clusters.head()"
   ]
  },
  {
   "cell_type": "code",
   "execution_count": 11,
   "metadata": {
    "ExecuteTime": {
     "end_time": "2019-08-20T17:38:21.821679Z",
     "start_time": "2019-08-20T17:38:21.811206Z"
    }
   },
   "outputs": [],
   "source": [
    "def createData(time,clusters):\n",
    "    \n",
    "    if isinstance(clusters,pd.DataFrame):\n",
    "        \n",
    "        ##Static Radar Coordinates Value for Topological relation\n",
    "        radar = (-3.148556, -59.992000)\n",
    "\n",
    "        FAM1 = pd.DataFrame(columns=['YEAR','MONTH','DAY','HOUR','MINUTE',\n",
    "                                     'N_Cluster','ID_CLUS','LAT','LON','IND_X','IND_Y',\n",
    "                                     'T_RELATION','RAIN_FALL','DBz'])\n",
    "\n",
    "        LAT_ = (lat[clusters['x1'].astype(int),clusters['y1'].astype(int)])\n",
    "        LON_ = (lon[clusters['x1'].astype(int),clusters['y1'].astype(int)])\n",
    "        N_CLUST = len(clusters['cluster'].unique())\n",
    "\n",
    "        rfall = []\n",
    "        rlation = []\n",
    "        \n",
    "        for i,row in clusters.iterrows():\n",
    "            x_1, x_2 = row['x1'].astype(int), row['y1'].astype(int)\n",
    "            rfall.append(frames[time][x_1][x_2])\n",
    "            r = tRelation((LAT_[i],LON_[i]),radar)   ### Topological Relation\n",
    "            rlation.append(r)\n",
    "\n",
    "        FAM1['IND_X'], FAM1['IND_Y'] = clusters['x1'],clusters['y1']\n",
    "        FAM1['LAT'],FAM1['LON'] = LAT_,LON_\n",
    "        FAM1['N_Cluster'] = N_CLUST\n",
    "        FAM1['ID_CLUS'] = clusters['cluster']\n",
    "        FAM1['RAIN_FALL'] = rfall\n",
    "        FAM1['T_RELATION'] = rlation\n",
    "        FAM1['DBz'] =  10 * np.log10(200*FAM1['RAIN_FALL']**1.6)           ### Reflectivity = 10*log10(200R1.6)\n",
    "        FAM1['YEAR'] = str(sorted(os.listdir(path+str(day)))[time])[16:20]\n",
    "        FAM1['MONTH'] = str(sorted(os.listdir(path+str(day)))[time])[20:22]\n",
    "        FAM1['DAY'] = str(sorted(os.listdir(path+str(day)))[time])[22:24]\n",
    "        FAM1['HOUR'] = str(sorted(os.listdir(path+str(day)))[time])[25:27]\n",
    "        FAM1['MINUTE'] = str(sorted(os.listdir(path+str(day)))[time])[27:29]\n",
    "        \n",
    "    else:\n",
    "        return None\n",
    "\n",
    "    return FAM1"
   ]
  },
  {
   "cell_type": "code",
   "execution_count": 13,
   "metadata": {
    "ExecuteTime": {
     "end_time": "2019-08-20T17:38:30.596031Z",
     "start_time": "2019-08-20T17:38:29.921596Z"
    }
   },
   "outputs": [
    {
     "data": {
      "text/html": [
       "<div>\n",
       "<style scoped>\n",
       "    .dataframe tbody tr th:only-of-type {\n",
       "        vertical-align: middle;\n",
       "    }\n",
       "\n",
       "    .dataframe tbody tr th {\n",
       "        vertical-align: top;\n",
       "    }\n",
       "\n",
       "    .dataframe thead th {\n",
       "        text-align: right;\n",
       "    }\n",
       "</style>\n",
       "<table border=\"1\" class=\"dataframe\">\n",
       "  <thead>\n",
       "    <tr style=\"text-align: right;\">\n",
       "      <th></th>\n",
       "      <th>YEAR</th>\n",
       "      <th>MONTH</th>\n",
       "      <th>DAY</th>\n",
       "      <th>HOUR</th>\n",
       "      <th>MINUTE</th>\n",
       "      <th>N_Cluster</th>\n",
       "      <th>ID_CLUS</th>\n",
       "      <th>LAT</th>\n",
       "      <th>LON</th>\n",
       "      <th>IND_X</th>\n",
       "      <th>IND_Y</th>\n",
       "      <th>T_RELATION</th>\n",
       "      <th>RAIN_FALL</th>\n",
       "      <th>DBz</th>\n",
       "    </tr>\n",
       "  </thead>\n",
       "  <tbody>\n",
       "    <tr>\n",
       "      <th>0</th>\n",
       "      <td>2014</td>\n",
       "      <td>01</td>\n",
       "      <td>03</td>\n",
       "      <td>17</td>\n",
       "      <td>12</td>\n",
       "      <td>11</td>\n",
       "      <td>10</td>\n",
       "      <td>-4.622033</td>\n",
       "      <td>-60.947216</td>\n",
       "      <td>38.0</td>\n",
       "      <td>67.0</td>\n",
       "      <td>SW</td>\n",
       "      <td>27.037910</td>\n",
       "      <td>45.921870</td>\n",
       "    </tr>\n",
       "    <tr>\n",
       "      <th>1</th>\n",
       "      <td>2014</td>\n",
       "      <td>01</td>\n",
       "      <td>03</td>\n",
       "      <td>17</td>\n",
       "      <td>12</td>\n",
       "      <td>11</td>\n",
       "      <td>1</td>\n",
       "      <td>-4.442693</td>\n",
       "      <td>-59.415394</td>\n",
       "      <td>48.0</td>\n",
       "      <td>152.0</td>\n",
       "      <td>SE</td>\n",
       "      <td>24.329363</td>\n",
       "      <td>45.188392</td>\n",
       "    </tr>\n",
       "    <tr>\n",
       "      <th>2</th>\n",
       "      <td>2014</td>\n",
       "      <td>01</td>\n",
       "      <td>03</td>\n",
       "      <td>17</td>\n",
       "      <td>12</td>\n",
       "      <td>11</td>\n",
       "      <td>4</td>\n",
       "      <td>-4.442670</td>\n",
       "      <td>-59.379356</td>\n",
       "      <td>48.0</td>\n",
       "      <td>154.0</td>\n",
       "      <td>SE</td>\n",
       "      <td>35.325741</td>\n",
       "      <td>47.779760</td>\n",
       "    </tr>\n",
       "    <tr>\n",
       "      <th>3</th>\n",
       "      <td>2014</td>\n",
       "      <td>01</td>\n",
       "      <td>03</td>\n",
       "      <td>17</td>\n",
       "      <td>12</td>\n",
       "      <td>11</td>\n",
       "      <td>4</td>\n",
       "      <td>-4.442658</td>\n",
       "      <td>-59.361340</td>\n",
       "      <td>48.0</td>\n",
       "      <td>155.0</td>\n",
       "      <td>SE</td>\n",
       "      <td>26.452396</td>\n",
       "      <td>45.769740</td>\n",
       "    </tr>\n",
       "    <tr>\n",
       "      <th>4</th>\n",
       "      <td>2014</td>\n",
       "      <td>01</td>\n",
       "      <td>03</td>\n",
       "      <td>17</td>\n",
       "      <td>12</td>\n",
       "      <td>11</td>\n",
       "      <td>1</td>\n",
       "      <td>-4.424738</td>\n",
       "      <td>-59.433426</td>\n",
       "      <td>49.0</td>\n",
       "      <td>151.0</td>\n",
       "      <td>SE</td>\n",
       "      <td>29.322014</td>\n",
       "      <td>46.485401</td>\n",
       "    </tr>\n",
       "  </tbody>\n",
       "</table>\n",
       "</div>"
      ],
      "text/plain": [
       "   YEAR MONTH DAY HOUR MINUTE  N_Cluster  ID_CLUS       LAT        LON  IND_X  \\\n",
       "0  2014    01  03   17     12         11       10 -4.622033 -60.947216   38.0   \n",
       "1  2014    01  03   17     12         11        1 -4.442693 -59.415394   48.0   \n",
       "2  2014    01  03   17     12         11        4 -4.442670 -59.379356   48.0   \n",
       "3  2014    01  03   17     12         11        4 -4.442658 -59.361340   48.0   \n",
       "4  2014    01  03   17     12         11        1 -4.424738 -59.433426   49.0   \n",
       "\n",
       "   IND_Y T_RELATION  RAIN_FALL        DBz  \n",
       "0   67.0         SW  27.037910  45.921870  \n",
       "1  152.0         SE  24.329363  45.188392  \n",
       "2  154.0         SE  35.325741  47.779760  \n",
       "3  155.0         SE  26.452396  45.769740  \n",
       "4  151.0         SE  29.322014  46.485401  "
      ]
     },
     "execution_count": 13,
     "metadata": {},
     "output_type": "execute_result"
    }
   ],
   "source": [
    "data = readData(day)\n",
    "clusterizado = clust(data[70])\n",
    "createData(70,clusterizado).head()"
   ]
  },
  {
   "cell_type": "code",
   "execution_count": 14,
   "metadata": {
    "ExecuteTime": {
     "end_time": "2019-08-20T17:38:30.601262Z",
     "start_time": "2019-08-20T17:38:30.597640Z"
    }
   },
   "outputs": [],
   "source": [
    "def centroidData(clus):\n",
    "    \n",
    "    if isinstance(clus,pd.DataFrame):\n",
    "        centroid = pd.DataFrame()\n",
    "        for i in range(clus['N_Cluster'].max()):\n",
    "            ct = clus.loc[clus['ID_CLUS'] == i ]\n",
    "            ct = ct.loc[ct['RAIN_FALL'] == ct['RAIN_FALL'].max()]\n",
    "            centroid = centroid.append(ct)\n",
    "    else:\n",
    "        return None\n",
    "    return centroid"
   ]
  },
  {
   "cell_type": "code",
   "execution_count": 15,
   "metadata": {
    "ExecuteTime": {
     "end_time": "2019-08-20T17:38:32.178465Z",
     "start_time": "2019-08-20T17:38:32.001457Z"
    }
   },
   "outputs": [
    {
     "data": {
      "text/html": [
       "<div>\n",
       "<style scoped>\n",
       "    .dataframe tbody tr th:only-of-type {\n",
       "        vertical-align: middle;\n",
       "    }\n",
       "\n",
       "    .dataframe tbody tr th {\n",
       "        vertical-align: top;\n",
       "    }\n",
       "\n",
       "    .dataframe thead th {\n",
       "        text-align: right;\n",
       "    }\n",
       "</style>\n",
       "<table border=\"1\" class=\"dataframe\">\n",
       "  <thead>\n",
       "    <tr style=\"text-align: right;\">\n",
       "      <th></th>\n",
       "      <th>YEAR</th>\n",
       "      <th>MONTH</th>\n",
       "      <th>DAY</th>\n",
       "      <th>HOUR</th>\n",
       "      <th>MINUTE</th>\n",
       "      <th>N_Cluster</th>\n",
       "      <th>ID_CLUS</th>\n",
       "      <th>LAT</th>\n",
       "      <th>LON</th>\n",
       "      <th>IND_X</th>\n",
       "      <th>IND_Y</th>\n",
       "      <th>T_RELATION</th>\n",
       "      <th>RAIN_FALL</th>\n",
       "      <th>DBz</th>\n",
       "    </tr>\n",
       "  </thead>\n",
       "  <tbody>\n",
       "    <tr>\n",
       "      <th>23</th>\n",
       "      <td>2014</td>\n",
       "      <td>01</td>\n",
       "      <td>03</td>\n",
       "      <td>17</td>\n",
       "      <td>12</td>\n",
       "      <td>11</td>\n",
       "      <td>0</td>\n",
       "      <td>-4.370818</td>\n",
       "      <td>-59.397427</td>\n",
       "      <td>52.0</td>\n",
       "      <td>153.0</td>\n",
       "      <td>SE</td>\n",
       "      <td>65.776077</td>\n",
       "      <td>52.099387</td>\n",
       "    </tr>\n",
       "    <tr>\n",
       "      <th>12</th>\n",
       "      <td>2014</td>\n",
       "      <td>01</td>\n",
       "      <td>03</td>\n",
       "      <td>17</td>\n",
       "      <td>12</td>\n",
       "      <td>11</td>\n",
       "      <td>1</td>\n",
       "      <td>-4.406750</td>\n",
       "      <td>-59.397404</td>\n",
       "      <td>50.0</td>\n",
       "      <td>153.0</td>\n",
       "      <td>SE</td>\n",
       "      <td>68.782265</td>\n",
       "      <td>52.409923</td>\n",
       "    </tr>\n",
       "    <tr>\n",
       "      <th>53</th>\n",
       "      <td>2014</td>\n",
       "      <td>01</td>\n",
       "      <td>03</td>\n",
       "      <td>17</td>\n",
       "      <td>12</td>\n",
       "      <td>11</td>\n",
       "      <td>2</td>\n",
       "      <td>-4.191191</td>\n",
       "      <td>-59.451595</td>\n",
       "      <td>62.0</td>\n",
       "      <td>150.0</td>\n",
       "      <td>SE</td>\n",
       "      <td>46.908230</td>\n",
       "      <td>49.750285</td>\n",
       "    </tr>\n",
       "    <tr>\n",
       "      <th>36</th>\n",
       "      <td>2014</td>\n",
       "      <td>01</td>\n",
       "      <td>03</td>\n",
       "      <td>17</td>\n",
       "      <td>12</td>\n",
       "      <td>11</td>\n",
       "      <td>3</td>\n",
       "      <td>-4.316942</td>\n",
       "      <td>-59.433498</td>\n",
       "      <td>55.0</td>\n",
       "      <td>151.0</td>\n",
       "      <td>SE</td>\n",
       "      <td>64.410942</td>\n",
       "      <td>51.953654</td>\n",
       "    </tr>\n",
       "    <tr>\n",
       "      <th>13</th>\n",
       "      <td>2014</td>\n",
       "      <td>01</td>\n",
       "      <td>03</td>\n",
       "      <td>17</td>\n",
       "      <td>12</td>\n",
       "      <td>11</td>\n",
       "      <td>4</td>\n",
       "      <td>-4.406738</td>\n",
       "      <td>-59.379383</td>\n",
       "      <td>50.0</td>\n",
       "      <td>154.0</td>\n",
       "      <td>SE</td>\n",
       "      <td>72.620728</td>\n",
       "      <td>52.787269</td>\n",
       "    </tr>\n",
       "    <tr>\n",
       "      <th>63</th>\n",
       "      <td>2014</td>\n",
       "      <td>01</td>\n",
       "      <td>03</td>\n",
       "      <td>17</td>\n",
       "      <td>12</td>\n",
       "      <td>11</td>\n",
       "      <td>5</td>\n",
       "      <td>-3.777333</td>\n",
       "      <td>-58.749653</td>\n",
       "      <td>85.0</td>\n",
       "      <td>189.0</td>\n",
       "      <td>SE</td>\n",
       "      <td>25.366417</td>\n",
       "      <td>45.478446</td>\n",
       "    </tr>\n",
       "    <tr>\n",
       "      <th>61</th>\n",
       "      <td>2014</td>\n",
       "      <td>01</td>\n",
       "      <td>03</td>\n",
       "      <td>17</td>\n",
       "      <td>12</td>\n",
       "      <td>11</td>\n",
       "      <td>6</td>\n",
       "      <td>-3.885797</td>\n",
       "      <td>-59.505806</td>\n",
       "      <td>79.0</td>\n",
       "      <td>147.0</td>\n",
       "      <td>SE</td>\n",
       "      <td>28.914827</td>\n",
       "      <td>46.388230</td>\n",
       "    </tr>\n",
       "    <tr>\n",
       "      <th>44</th>\n",
       "      <td>2014</td>\n",
       "      <td>01</td>\n",
       "      <td>03</td>\n",
       "      <td>17</td>\n",
       "      <td>12</td>\n",
       "      <td>11</td>\n",
       "      <td>7</td>\n",
       "      <td>-4.244777</td>\n",
       "      <td>-60.928761</td>\n",
       "      <td>59.0</td>\n",
       "      <td>68.0</td>\n",
       "      <td>SW</td>\n",
       "      <td>31.853998</td>\n",
       "      <td>47.060923</td>\n",
       "    </tr>\n",
       "    <tr>\n",
       "      <th>59</th>\n",
       "      <td>2014</td>\n",
       "      <td>01</td>\n",
       "      <td>03</td>\n",
       "      <td>17</td>\n",
       "      <td>12</td>\n",
       "      <td>11</td>\n",
       "      <td>8</td>\n",
       "      <td>-4.155279</td>\n",
       "      <td>-59.487644</td>\n",
       "      <td>64.0</td>\n",
       "      <td>148.0</td>\n",
       "      <td>SE</td>\n",
       "      <td>28.439348</td>\n",
       "      <td>46.273014</td>\n",
       "    </tr>\n",
       "    <tr>\n",
       "      <th>14</th>\n",
       "      <td>2014</td>\n",
       "      <td>01</td>\n",
       "      <td>03</td>\n",
       "      <td>17</td>\n",
       "      <td>12</td>\n",
       "      <td>11</td>\n",
       "      <td>9</td>\n",
       "      <td>-4.406152</td>\n",
       "      <td>-58.784786</td>\n",
       "      <td>50.0</td>\n",
       "      <td>187.0</td>\n",
       "      <td>SE</td>\n",
       "      <td>23.762491</td>\n",
       "      <td>45.024571</td>\n",
       "    </tr>\n",
       "    <tr>\n",
       "      <th>0</th>\n",
       "      <td>2014</td>\n",
       "      <td>01</td>\n",
       "      <td>03</td>\n",
       "      <td>17</td>\n",
       "      <td>12</td>\n",
       "      <td>11</td>\n",
       "      <td>10</td>\n",
       "      <td>-4.622033</td>\n",
       "      <td>-60.947216</td>\n",
       "      <td>38.0</td>\n",
       "      <td>67.0</td>\n",
       "      <td>SW</td>\n",
       "      <td>27.037910</td>\n",
       "      <td>45.921870</td>\n",
       "    </tr>\n",
       "  </tbody>\n",
       "</table>\n",
       "</div>"
      ],
      "text/plain": [
       "    YEAR MONTH DAY HOUR MINUTE  N_Cluster  ID_CLUS       LAT        LON  \\\n",
       "23  2014    01  03   17     12         11        0 -4.370818 -59.397427   \n",
       "12  2014    01  03   17     12         11        1 -4.406750 -59.397404   \n",
       "53  2014    01  03   17     12         11        2 -4.191191 -59.451595   \n",
       "36  2014    01  03   17     12         11        3 -4.316942 -59.433498   \n",
       "13  2014    01  03   17     12         11        4 -4.406738 -59.379383   \n",
       "63  2014    01  03   17     12         11        5 -3.777333 -58.749653   \n",
       "61  2014    01  03   17     12         11        6 -3.885797 -59.505806   \n",
       "44  2014    01  03   17     12         11        7 -4.244777 -60.928761   \n",
       "59  2014    01  03   17     12         11        8 -4.155279 -59.487644   \n",
       "14  2014    01  03   17     12         11        9 -4.406152 -58.784786   \n",
       "0   2014    01  03   17     12         11       10 -4.622033 -60.947216   \n",
       "\n",
       "    IND_X  IND_Y T_RELATION  RAIN_FALL        DBz  \n",
       "23   52.0  153.0         SE  65.776077  52.099387  \n",
       "12   50.0  153.0         SE  68.782265  52.409923  \n",
       "53   62.0  150.0         SE  46.908230  49.750285  \n",
       "36   55.0  151.0         SE  64.410942  51.953654  \n",
       "13   50.0  154.0         SE  72.620728  52.787269  \n",
       "63   85.0  189.0         SE  25.366417  45.478446  \n",
       "61   79.0  147.0         SE  28.914827  46.388230  \n",
       "44   59.0   68.0         SW  31.853998  47.060923  \n",
       "59   64.0  148.0         SE  28.439348  46.273014  \n",
       "14   50.0  187.0         SE  23.762491  45.024571  \n",
       "0    38.0   67.0         SW  27.037910  45.921870  "
      ]
     },
     "execution_count": 15,
     "metadata": {},
     "output_type": "execute_result"
    }
   ],
   "source": [
    "frameTime = 70\n",
    "\n",
    "pdCenter = clust(data[70])\n",
    "pdCenter = createData(frameTime,pdCenter)\n",
    "centroidData(pdCenter)"
   ]
  },
  {
   "cell_type": "code",
   "execution_count": 16,
   "metadata": {
    "ExecuteTime": {
     "end_time": "2019-08-20T17:38:33.771240Z",
     "start_time": "2019-08-20T17:38:33.761850Z"
    }
   },
   "outputs": [],
   "source": [
    "def tRelation(p,q):\n",
    "\n",
    "    north_west       =  p[1] <  q[1] and  p[0] >  q[0] \n",
    "    restricted_north =  p[1] == q[1] and  p[0] >  q[0]\n",
    "    north_east       =  p[1] >  q[1] and  p[0] >  q[0]\n",
    "    restricted_west  =  p[1] <  q[1] and  p[0] == q[0]\n",
    "    same_position    =  p[1] == q[1] and  p[0] == q[0]\n",
    "    restricted_east  =  p[1] >  q[1] and  p[0] == q[0]\n",
    "    south_west       =  p[1] <  q[1] and  p[0] <  q[0]\n",
    "    restricted_south =  p[1] == q[1] and  p[0] <  q[0] \n",
    "    south_est        =  p[1] >  q[1] and  p[0] <  q[0]\n",
    "\n",
    "    if north_west == True:\n",
    "        return ('NW')\n",
    "    if restricted_north == True:\n",
    "        return ('RN')\n",
    "    if north_east == True:\n",
    "        return ('NE')\n",
    "    if restricted_west == True:\n",
    "        return ('RW')\n",
    "    if same_position == True:\n",
    "        return('SP')\n",
    "    if restricted_east == True:\n",
    "        return ('RE')\n",
    "    if south_west == True:\n",
    "        return ('SW')\n",
    "    if restricted_south == True:\n",
    "        return ('RS')\n",
    "    if south_est == True:\n",
    "        return ('SE')"
   ]
  },
  {
   "cell_type": "code",
   "execution_count": 17,
   "metadata": {
    "ExecuteTime": {
     "end_time": "2019-08-20T17:38:36.232913Z",
     "start_time": "2019-08-20T17:38:36.225731Z"
    }
   },
   "outputs": [
    {
     "name": "stdout",
     "output_type": "stream",
     "text": [
      "NW True\n",
      "RN False\n",
      "NE False\n",
      "RW False\n",
      "SP False\n",
      "RE False\n",
      "SW False\n",
      "RS False\n",
      "SE False\n"
     ]
    }
   ],
   "source": [
    "x1,y1 = -1.9451030492782593,-61.034568786621094      #-61.034568786621094 -1.9451030492782593\n",
    "r1,r2 = -3.148556, -59.992000                  # RADAR\n",
    "p = (x1,y1)                                    #PONTO\n",
    "q = (r1,r2)                                    #RADAR\n",
    "\n",
    "north_west       =  p[1] <  q[1] and  p[0] >  q[0] \n",
    "restricted_north =  p[1] == q[1] and  p[0] >  q[0]\n",
    "north_east       =  p[1] >  q[1] and  p[0] >  q[0]\n",
    "restricted_west  =  p[1] <  q[1] and  p[0] == q[0]\n",
    "same_position    =  p[1] == q[1] and  p[0] == q[0]\n",
    "restricted_east  =  p[1] >  q[1] and  p[0] == q[0]\n",
    "south_west       =  p[1] <  q[1] and  p[0] <  q[0]\n",
    "restricted_south =  p[1] == q[1] and  p[0] <  q[0] \n",
    "south_est        =  p[1] >  q[1] and  p[0] <  q[0]\n",
    "\n",
    "print('NW',north_west)\n",
    "print('RN',restricted_north)\n",
    "print('NE',north_east)\n",
    "print('RW',restricted_west)\n",
    "print('SP',same_position)\n",
    "print('RE',restricted_east)\n",
    "print('SW',south_west)\n",
    "print('RS',restricted_south)\n",
    "print('SE',south_est)"
   ]
  },
  {
   "cell_type": "markdown",
   "metadata": {},
   "source": [
    "#### 1.8 Pre-processing"
   ]
  },
  {
   "cell_type": "code",
   "execution_count": 18,
   "metadata": {
    "ExecuteTime": {
     "end_time": "2019-08-20T17:38:38.613556Z",
     "start_time": "2019-08-20T17:38:38.609503Z"
    }
   },
   "outputs": [],
   "source": [
    "def run():\n",
    "    data = readData(day)    \n",
    "    total = []\n",
    "    \n",
    "    dados = pd.DataFrame()\n",
    "    \n",
    "    for i in range(len(data)):\n",
    "        cluster = clust(data[i])\n",
    "             \n",
    "        if isinstance(cluster,pd.DataFrame):\n",
    "            clt = createData(i,cluster)\n",
    "            clt2 = centroidData(clt)\n",
    "            dados = dados.append(clt2)\n",
    "        else:\n",
    "            pass\n",
    "            \n",
    "    dados.to_csv('output/Moderate_Centroid_OUTPUT_'+str(sorted(os.listdir(path+str(day)))[i][:-3])+'.csv')"
   ]
  },
  {
   "cell_type": "markdown",
   "metadata": {},
   "source": [
    "### RUN PROCESS"
   ]
  },
  {
   "cell_type": "code",
   "execution_count": 19,
   "metadata": {
    "ExecuteTime": {
     "end_time": "2019-08-20T17:38:52.572328Z",
     "start_time": "2019-08-20T17:38:40.753356Z"
    }
   },
   "outputs": [
    {
     "name": "stderr",
     "output_type": "stream",
     "text": [
      "/ssd/miniconda3/envs/cap394/lib/python3.6/site-packages/sklearn/cluster/mean_shift_.py:291: UserWarning: Binning data failed with provided bin_size=2.000000, using data points as seeds.\n",
      "  \" using data points as seeds.\" % bin_size)\n"
     ]
    }
   ],
   "source": [
    "run()"
   ]
  },
  {
   "cell_type": "code",
   "execution_count": 20,
   "metadata": {
    "ExecuteTime": {
     "end_time": "2019-08-20T17:38:52.591297Z",
     "start_time": "2019-08-20T17:38:52.573557Z"
    }
   },
   "outputs": [],
   "source": [
    "#### SETUP FOR PLOT\n",
    "\n",
    "def setupMap(frame):\n",
    "\n",
    "    time = frame\n",
    "\n",
    "    centroid = []\n",
    "    centers = clust(data[time])\n",
    "\n",
    "    if isinstance(centers,pd.DataFrame):\n",
    "\n",
    "        centers = createData(time,centers)\n",
    "        c_lat = centers['LAT']\n",
    "        c_lon = centers['LON']\n",
    "\n",
    "\n",
    "        ## Set centroid of clusters by MAX RAIN_FALL Rate\n",
    "        for i in range(centers['N_Cluster'].max()):\n",
    "            ct = centers.loc[centers['ID_CLUS'] == i ]\n",
    "            ct = ct.loc[ct['RAIN_FALL'] == ct['RAIN_FALL'].max()]\n",
    "            centroid.append(ct)\n",
    "\n",
    "    file = path+str(day)+'/'+str(sorted(os.listdir(path+str(day)))[time])\n",
    "    xds = xr.open_dataset(file)\n",
    "    date_time = xds.start_time.data\n",
    "    date_time = pd.to_datetime(date_time)\n",
    "    \n",
    "    my_coords = [-3.148556, -59.992000]     ## RADAR T1 SIPAM COORDS\n",
    "    zoom_scale = 2.2                        ## ZOOM SCALE\n",
    "\n",
    "    bbox = [my_coords[0]-zoom_scale,my_coords[0]+zoom_scale,\\\n",
    "             my_coords[1]-zoom_scale,my_coords[1]+zoom_scale]\n",
    "\n",
    "\n",
    "    fig, axes = plt.subplots(nrows=1,ncols=1,figsize=(10,10),dpi=100)\n",
    "    label = 'Rain rate in ' + runit+ ''\n",
    "    title = 'SIPAM Manaus S-Band Radar :' + str(date_time)\n",
    "\n",
    "    # draw filled contours.\n",
    "    clevs = [0, 1, 2.5, 5, 7.5, 10, 15, 20, 30, 40,\n",
    "                 50, 70, 100]\n",
    "\n",
    "    cmap_data = [(1.0, 1.0, 1.0),\n",
    "                     (0.3137255012989044, 0.8156862854957581, 0.8156862854957581),\n",
    "                     (0.0, 1.0, 1.0),\n",
    "                     (0.0, 0.8784313797950745, 0.501960813999176),\n",
    "                     (0.0, 0.7529411911964417, 0.0),\n",
    "                     (0.501960813999176, 0.8784313797950745, 0.0),\n",
    "                     (1.0, 1.0, 0.0),\n",
    "                     (1.0, 0.6274510025978088, 0.0),\n",
    "                     (1.0, 0.0, 0.0),\n",
    "                     (1.0, 0.125490203499794, 0.501960813999176),\n",
    "                     (0.9411764740943909, 0.250980406999588, 1.0),\n",
    "                     (0.501960813999176, 0.125490203499794, 1.0),\n",
    "                     (0.250980406999588, 0.250980406999588, 1.0)]\n",
    "\n",
    "    cmap = mcolors.ListedColormap(cmap_data, 'precipitation')\n",
    "    norm = mcolors.BoundaryNorm(clevs, cmap.N)\n",
    "    ax = axes\n",
    "\n",
    "    m = Basemap(projection='merc',llcrnrlat=bbox[0],urcrnrlat=bbox[1],\\\n",
    "                    llcrnrlon=bbox[2],urcrnrlon=bbox[3],lat_ts=10,resolution='i')\n",
    "\n",
    "    ## PRECIPTACAO\n",
    "    xi, yi = m(lon, lat)\n",
    "    ## SIPAM RADAR\n",
    "    xm, ym = m(my_coords[1],my_coords[0])\n",
    "    radar = m.plot(xm,ym, marker='^',color='r', label='RADAR')\n",
    "\n",
    "\n",
    "    for cent in range(len(centroid)):\n",
    "        clat, clon, mm_f = centroid[cent]['LAT'].item(),centroid[cent]['LON'].item(),centroid[cent]['RAIN_FALL'].item()\n",
    "        #clat, clon, mm_f = centroid[1]['LAT'].item(),centroid[1]['LON'].item(),centroid[1]['RAIN_FALL'].item()\n",
    "        t3x,t3y = m(clon, clat)\n",
    "        m.plot(t3x,t3y, marker=markers.CARETDOWN, markersize=10, color='k')\n",
    "        #plt.annotate(str(mm_f)[0:5]+'mm/h', xy=(t3x,t3y),xytext=(t3x+12,t3y+12),rotation=45, size=10)\n",
    "\n",
    "    m.plot(xm,ym, label='Nº Clusters: ' +str(len(centroid)),marker=markers.CARETDOWN, color='k')\n",
    "\n",
    "    cs = m.pcolormesh(xi,yi,frames[time], cmap = cmap, norm = norm, ax=ax)\n",
    "\n",
    "    # # # # Add Grid Lines\n",
    "    m.drawparallels(np.arange(bbox[0],bbox[1],(bbox[1]-bbox[0])/5),labels=[1,0,0,0],rotation=45, size=(7))\n",
    "    m.drawmeridians(np.arange(bbox[2],bbox[3],(bbox[3]-bbox[2])/5),labels=[0,0,0,1],rotation=45, size=(7))\n",
    "    m.drawmapboundary(fill_color='gray')\n",
    "\n",
    "    m.drawcoastlines()\n",
    "    m.drawstates()\n",
    "    m.drawcountries()\n",
    "    #m.fillcontinents(color='#FAFAFA',lake_color='dodgerblue')\n",
    "    #m.drawlsmask(land_color='Linen', lake_color='#CCFFFF')\n",
    "    m.drawrivers(color = '#0043CB', linewidth=1)\n",
    "\n",
    "    #m.readshapefile('./data/am_municipios/13MUE250GC_SIR', 'teste')\n",
    "    # # # # Add Colorbar\n",
    "    cbar = m.colorbar(cs, location='bottom', pad=\"10%\")\n",
    "    cbar.set_label(label)\n",
    "\n",
    "    # # # # # Add Title\n",
    "    plt.title(title)\n",
    "    plt.legend()\n",
    "    plt.ylabel('Longitude', labelpad=40)\n",
    "    plt.xlabel('Latitude', labelpad=60)\n",
    "\n",
    "    plt.savefig('radar_image/'+ sorted(os.listdir(path+str(day)))[time]+'.png')\n",
    "\n",
    "    plt.show()"
   ]
  },
  {
   "cell_type": "code",
   "execution_count": 21,
   "metadata": {
    "ExecuteTime": {
     "end_time": "2019-08-20T17:38:54.394399Z",
     "start_time": "2019-08-20T17:38:52.593392Z"
    }
   },
   "outputs": [
    {
     "data": {
      "image/png": "[encoded data removed]",
      "text/plain": [
       "<Figure size 1000x1000 with 2 Axes>"
      ]
     },
     "metadata": {
      "needs_background": "light"
     },
     "output_type": "display_data"
    }
   ],
   "source": [
    "setupMap(70)"
   ]
  },
  {
   "cell_type": "code",
   "execution_count": null,
   "metadata": {
    "ExecuteTime": {
     "end_time": "2019-08-20T14:40:28.809770Z",
     "start_time": "2019-08-20T14:37:07.616702Z"
    }
   },
   "outputs": [],
   "source": [
    "## CREATE ALL FIGS\n",
    "for i in range(len(frames)):\n",
    "    setupMap(i)"
   ]
  },
  {
   "cell_type": "markdown",
   "metadata": {},
   "source": [
    "#### Statistics"
   ]
  },
  {
   "cell_type": "code",
   "execution_count": null,
   "metadata": {
    "ExecuteTime": {
     "end_time": "2019-08-20T16:53:01.244478Z",
     "start_time": "2019-08-20T16:52:59.937722Z"
    }
   },
   "outputs": [],
   "source": [
    "path_output = 'output/rodada_mes_01/'\n",
    "\n",
    "dados = []\n",
    "\n",
    "for file in (sorted(os.listdir(path_output))):\n",
    "    df = pd.read_csv(path_output+file)\n",
    "    dados.append(df)\n",
    "\n",
    "frames = dados[:]\n",
    "janeiro = pd.concat(frames)"
   ]
  },
  {
   "cell_type": "code",
   "execution_count": null,
   "metadata": {
    "ExecuteTime": {
     "end_time": "2019-08-20T17:00:08.275486Z",
     "start_time": "2019-08-20T17:00:08.273092Z"
    }
   },
   "outputs": [],
   "source": [
    "month_rainfall = janeiro['RAIN_FALL']\n",
    "month_dbz = janeiro['DBz']\n",
    "days = janeiro['DAY']"
   ]
  },
  {
   "cell_type": "code",
   "execution_count": null,
   "metadata": {
    "ExecuteTime": {
     "end_time": "2019-08-20T17:25:24.536719Z",
     "start_time": "2019-08-20T17:25:07.409458Z"
    }
   },
   "outputs": [],
   "source": [
    "sns.set(style='darkgrid')\n",
    "sns.lineplot(x=janeiro['DAY'],y=janeiro['RAIN_FALL'],label='Rain Fall Total')"
   ]
  },
  {
   "cell_type": "code",
   "execution_count": null,
   "metadata": {
    "ExecuteTime": {
     "end_time": "2019-08-20T17:36:38.817437Z",
     "start_time": "2019-08-20T17:36:38.785133Z"
    }
   },
   "outputs": [],
   "source": []
  },
  {
   "cell_type": "code",
   "execution_count": null,
   "metadata": {
    "ExecuteTime": {
     "end_time": "2019-08-20T17:33:32.648917Z",
     "start_time": "2019-08-20T17:33:32.577407Z"
    }
   },
   "outputs": [],
   "source": [
    "sns.lineplot(data=day1)"
   ]
  },
  {
   "cell_type": "code",
   "execution_count": null,
   "metadata": {
    "ExecuteTime": {
     "end_time": "2019-08-20T16:31:57.675554Z",
     "start_time": "2019-08-20T16:31:57.200810Z"
    }
   },
   "outputs": [],
   "source": [
    "plt.scatter(x,y,rain_fall)"
   ]
  },
  {
   "cell_type": "code",
   "execution_count": null,
   "metadata": {
    "ExecuteTime": {
     "end_time": "2019-08-20T16:32:44.912903Z",
     "start_time": "2019-08-20T16:32:44.353168Z"
    }
   },
   "outputs": [],
   "source": [
    "plt.scatter(x,y,dbz)"
   ]
  },
  {
   "cell_type": "markdown",
   "metadata": {},
   "source": [
    "#### Function for create Animation (Giff File in root dir)"
   ]
  },
  {
   "cell_type": "markdown",
   "metadata": {},
   "source": [
    "#### RESULTS"
   ]
  },
  {
   "cell_type": "markdown",
   "metadata": {},
   "source": [
    "#### CONCLUSIONS"
   ]
  },
  {
   "cell_type": "markdown",
   "metadata": {},
   "source": [
    "#### REFERENCES"
   ]
  }
 ],
 "metadata": {
  "kernelspec": {
   "display_name": "Python 3",
   "language": "python",
   "name": "python3"
  },
  "language_info": {
   "codemirror_mode": {
    "name": "ipython",
    "version": 3
   },
   "file_extension": ".py",
   "mimetype": "text/x-python",
   "name": "python",
   "nbconvert_exporter": "python",
   "pygments_lexer": "ipython3",
   "version": "3.6.9"
  },
  "toc": {
   "base_numbering": 1,
   "nav_menu": {},
   "number_sections": true,
   "sideBar": true,
   "skip_h1_title": false,
   "title_cell": "Table of Contents",
   "title_sidebar": "Contents",
   "toc_cell": false,
   "toc_position": {},
   "toc_section_display": true,
   "toc_window_display": false
  }
 },
 "nbformat": 4,
 "nbformat_minor": 2
}
