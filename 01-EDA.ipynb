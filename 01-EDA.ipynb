{
 "cells": [
  {
   "cell_type": "markdown",
   "metadata": {},
   "source": [
    "### National Institute for Space Research</h5>\n",
    "   <img src=\"img/icone_cap394.svg\" align=\"right\" alt=\"Drawing\" style=\"width: 200px;\"/>\n",
    "   \n",
    "#### Project for course  Introduction to Data Science - CAP 394\n",
    "#### Student: \n",
    "* Helvecio Bezerra Leal Neto\n",
    "\n",
    "#### Instructors: \n",
    "* Dr. Gilberto Queiroz \n",
    "* Dr. Rafael Santos\n",
    "\n",
    "## Schedule\n",
    "     - [x] Data reading\n",
    "     - [x] Data visualization\n",
    "     - [x] Cluster detection algorithm\n",
    "     - [x] Preprocessing\n",
    "     - [ ] Final analysis and project elaboration"
   ]
  },
  {
   "cell_type": "markdown",
   "metadata": {},
   "source": [
    "### Index\n",
    "\n",
    "  [About](#about) <br></br>\n",
    "  [The Data](#the_data)<br></br>\n",
    "  [Reading Data](#reading_data)<br></br>"
   ]
  },
  {
   "cell_type": "markdown",
   "metadata": {},
   "source": [
    "<a id='about'></a>\n",
    "## About\n",
    "\n",
    "This work is part of the suite of applications for the Introduction to Data Science (CAP-394) course offered by the National Institute for Space Research.\n",
    "\n",
    "The purpose of this paper is to perform an exploratory analysis on Radar data by surveying the raw data, processing them and understanding the dynamics of cloud movement in the study region. At the end of the exploratory process it will be possible to estimate the behavior of the clouds in relation to their movement, making an algorithm capable of estimating the movement from two consecutive images."
   ]
  },
  {
   "cell_type": "markdown",
   "metadata": {},
   "source": [
    "<a id='the_data'></a>\n",
    "## The Data\n",
    "\n",
    "The data analyzed in this example consists of NC (NetCDF4) files. Each file corresponds to Rain Rate measurements collected by the Amazon Protection System (SIPAM) radar during the GoAmazon experiment periods, starting from January 2014 to December 2015, such files contain data on 12-minute time intervals.\n",
    "\n",
    "https://www.arm.gov/research/campaigns/amf2014goamazon"
   ]
  },
  {
   "cell_type": "markdown",
   "metadata": {},
   "source": [
    "<a id='reading_data'></a>\n",
    "## Reading Data"
   ]
  },
  {
   "cell_type": "markdown",
   "metadata": {},
   "source": [
    "#### 1.1 - Libraries used"
   ]
  },
  {
   "cell_type": "code",
   "execution_count": 1,
   "metadata": {
    "ExecuteTime": {
     "end_time": "2019-08-21T16:44:09.506562Z",
     "start_time": "2019-08-21T16:44:08.789474Z"
    }
   },
   "outputs": [],
   "source": [
    "import datetime\n",
    "import os\n",
    "import xarray as xr\n",
    "import numpy as np\n",
    "import pandas as pd\n",
    "import matplotlib.pyplot as plt\n",
    "import matplotlib.colors as mcolors\n",
    "from mpl_toolkits.basemap import Basemap\n",
    "from matplotlib import animation\n",
    "from matplotlib import markers\n",
    "from sklearn.cluster import MeanShift, estimate_bandwidth, KMeans\n",
    "import seaborn as sns\n",
    "\n",
    "import warnings\n",
    "warnings.simplefilter(action='ignore', category=FutureWarning)\n",
    "\n",
    "#%matplotlib\n",
    "%matplotlib inline"
   ]
  },
  {
   "cell_type": "markdown",
   "metadata": {},
   "source": [
    "#### 1.2 Openning dataset"
   ]
  },
  {
   "cell_type": "code",
   "execution_count": 2,
   "metadata": {
    "ExecuteTime": {
     "end_time": "2019-08-21T16:44:09.623388Z",
     "start_time": "2019-08-21T16:44:09.590740Z"
    }
   },
   "outputs": [],
   "source": [
    "### Open files day 2014 / 01 / 03\n",
    "\n",
    "day = 20140103\n",
    "\n",
    "#read first file to extract static variable values\n",
    "path = 'data/radar/'\n",
    "first_file = path+str(day)+'/'+str(os.listdir(path+str(day))[0])\n",
    "    \n",
    "xds = xr.open_dataset(first_file)\n",
    "\n",
    "rr = xds.rain_rate                  ### Matrix with preciptation values\n",
    "runit = xds.rain_rate.units         ### Unit of rain_rate mm/h\n",
    "rkm = xds.rain_rate.height_km       ### Unit of matrix dimensions km\n",
    "lon = xds.lon0.data                 ### Coordinate Longitude Matrix\n",
    "lat = xds.lat0.data                 ### Corrdinate Latitude Matrix\n",
    "x0 = xds.x0                         ### Matrix of points\n",
    "y0 = xds.y0"
   ]
  },
  {
   "cell_type": "markdown",
   "metadata": {},
   "source": [
    "#### 1.3 Variables present in the dataset"
   ]
  },
  {
   "cell_type": "code",
   "execution_count": 3,
   "metadata": {
    "ExecuteTime": {
     "end_time": "2019-08-21T16:44:10.333329Z",
     "start_time": "2019-08-21T16:44:10.326093Z"
    }
   },
   "outputs": [
    {
     "data": {
      "text/plain": [
       "Data variables:\n",
       "    start_time  datetime64[ns] ...\n",
       "    stop_time   datetime64[ns] ...\n",
       "    lat0        (y0, x0) float32 -5.3025093 -5.302555 ... -0.99165195 -0.9916234\n",
       "    lon0        (y0, x0) float32 -62.156715 -62.138676 ... -57.854195 -57.83623\n",
       "    rain_rate   (y0, x0) float32 ..."
      ]
     },
     "execution_count": 3,
     "metadata": {},
     "output_type": "execute_result"
    }
   ],
   "source": [
    "xds.data_vars"
   ]
  },
  {
   "cell_type": "markdown",
   "metadata": {},
   "source": [
    "#### 1.4 Attributes from dataset"
   ]
  },
  {
   "cell_type": "code",
   "execution_count": 4,
   "metadata": {
    "ExecuteTime": {
     "end_time": "2019-08-21T16:44:10.954340Z",
     "start_time": "2019-08-21T16:44:10.949837Z"
    }
   },
   "outputs": [
    {
     "data": {
      "text/plain": [
       "OrderedDict([('description', 'SIPAM Manaus S-Band Gridded Rain Rates'),\n",
       "             ('source', 'SIPAM Manaus S-Band Radar'),\n",
       "             ('institution', 'SIPAM/Texas A&M University'),\n",
       "             ('comment',\n",
       "              'v2.0a; Created at Texas A&M University (cschu@tamu.edu)'),\n",
       "             ('references', 'http://atmo.tamu.edu/goamazon-sband-radar'),\n",
       "             ('created', 'Tue Sep  5 14:22:21 2017\\n')])"
      ]
     },
     "execution_count": 4,
     "metadata": {},
     "output_type": "execute_result"
    }
   ],
   "source": [
    "xds.attrs"
   ]
  },
  {
   "cell_type": "markdown",
   "metadata": {},
   "source": [
    "#### 1.5 Read all data"
   ]
  },
  {
   "cell_type": "code",
   "execution_count": 5,
   "metadata": {
    "ExecuteTime": {
     "end_time": "2019-08-21T16:44:13.802644Z",
     "start_time": "2019-08-21T16:44:13.797623Z"
    }
   },
   "outputs": [],
   "source": [
    "def readData(date):\n",
    "    \n",
    "    path = 'data/radar/'\n",
    "    dataset = []\n",
    "    interval = len(os.listdir(path+str(date)))    \n",
    "    \n",
    "    # Original grid dimensions\n",
    "    nx = 241\n",
    "    ny = 241\n",
    "\n",
    "    # pixel size (in meters)\n",
    "    dx = 1000.\n",
    "    dy = 1000.\n",
    "\n",
    "    downsizeby = 1    \n",
    "\n",
    "    # Compute grid dimensions and grid coordinates after resampling\n",
    "    dx2, dy2 = dx*downsizeby, dy*downsizeby\n",
    "    nx2, ny2 = int(nx/downsizeby), int(ny/downsizeby)\n",
    "\n",
    "    X2, Y2 = np.meshgrid( np.arange(0,nx2*dx2, dx2), np.arange(0,ny2*dy2, dy2) )\n",
    "\n",
    "    # Define container\n",
    "    frames = np.zeros( (interval, nx2, ny2 ) )    \n",
    "    \n",
    "    for i in range(interval):\n",
    "        d = str(path)+str(date)+'/'\n",
    "        file = (sorted(os.listdir(path+str(date)))[i])\n",
    "        xds = xr.open_dataset(d+file)\n",
    "        rr = xds.rain_rate\n",
    "        frames[i] =  rr\n",
    "            \n",
    "    return frames"
   ]
  },
  {
   "cell_type": "code",
   "execution_count": 6,
   "metadata": {
    "ExecuteTime": {
     "end_time": "2019-08-21T16:44:14.670595Z",
     "start_time": "2019-08-21T16:44:14.134287Z"
    }
   },
   "outputs": [
    {
     "name": "stdout",
     "output_type": "stream",
     "text": [
      "The frames from dataset:data (times,x,y) ->  (104, 241, 241)\n"
     ]
    }
   ],
   "source": [
    "frames = readData(day)\n",
    "print('The frames from dataset:data (times,x,y) -> ',frames.shape)"
   ]
  },
  {
   "cell_type": "markdown",
   "metadata": {},
   "source": [
    "#### 1.6 Plot simple example without colormap legends for Time Zero"
   ]
  },
  {
   "cell_type": "code",
   "execution_count": 7,
   "metadata": {
    "ExecuteTime": {
     "end_time": "2019-08-21T16:44:16.284569Z",
     "start_time": "2019-08-21T16:44:15.511054Z"
    }
   },
   "outputs": [
    {
     "data": {
      "text/plain": [
       "<matplotlib.collections.PathCollection at 0x7f9a7ad8e828>"
      ]
     },
     "execution_count": 7,
     "metadata": {},
     "output_type": "execute_result"
    },
    {
     "data": {
      "image/png": "[encoded data removed]",
      "text/plain": [
       "<Figure size 576x576 with 1 Axes>"
      ]
     },
     "metadata": {
      "needs_background": "light"
     },
     "output_type": "display_data"
    }
   ],
   "source": [
    "## Plot simple figure from dataset\n",
    "\n",
    "figtime = 0\n",
    "\n",
    "filename = sorted(os.listdir(path+str(day)))[figtime]\n",
    "\n",
    "plt.figure(figsize=(8,8))\n",
    "plt.title(filename)\n",
    "plt.scatter(lon,lat,frames[figtime])\n",
    "#plt.pcolormesh(lon,lat,frames[figtime])"
   ]
  },
  {
   "cell_type": "markdown",
   "metadata": {},
   "source": [
    "#### 1.7 Clusterization"
   ]
  },
  {
   "cell_type": "code",
   "execution_count": 15,
   "metadata": {
    "ExecuteTime": {
     "end_time": "2019-08-21T16:45:04.202699Z",
     "start_time": "2019-08-21T16:45:04.197062Z"
    }
   },
   "outputs": [],
   "source": [
    "def pre_processing(time1):\n",
    "    \n",
    "    dx ,dy = [],[]\n",
    "    \n",
    "    for i in range(241):\n",
    "        for j in range(241):\n",
    "            if not np.isnan(time1[i][j]) and time1[i][j] > 10:\n",
    "                dx.append(i)\n",
    "                dy.append(j)\n",
    "\n",
    "    dim = len(dx)\n",
    "    \n",
    "    # Check dimension\n",
    "    if dim > 4:   \n",
    "        for x in range(dim):\n",
    "            dx.append(np.float32('nan'))\n",
    "            dy.append(np.float32('nan'))\n",
    "\n",
    "        matrix = np.ndarray(shape=(dim, 2), dtype='float32')\n",
    "        pt = pd.DataFrame(columns=['x1','y1','rain_fall'])\n",
    "    \n",
    "        for x in range(dim):\n",
    "            matrix[x] = (dx[x], dy[x])\n",
    "            pt['x1'] = matrix[:,0]\n",
    "            pt['y1'] = matrix[:,1]\n",
    "            \n",
    "        rfl= []\n",
    "        for i,row in pt.iterrows():\n",
    "            aux = time1[int(row['x1'])][int(row['y1'])]\n",
    "            rfl.append(aux)\n",
    "            \n",
    "#         pt['rain_fall'] = (rfl)\n",
    "        te = pt[['x1','y1']]\n",
    "        \n",
    "    return te"
   ]
  },
  {
   "cell_type": "code",
   "execution_count": 16,
   "metadata": {
    "ExecuteTime": {
     "end_time": "2019-08-21T16:45:06.412831Z",
     "start_time": "2019-08-21T16:45:05.796997Z"
    }
   },
   "outputs": [
    {
     "ename": "UnboundLocalError",
     "evalue": "local variable 'te' referenced before assignment",
     "output_type": "error",
     "traceback": [
      "\u001b[0;31m---------------------------------------------------------------------------\u001b[0m",
      "\u001b[0;31mUnboundLocalError\u001b[0m                         Traceback (most recent call last)",
      "\u001b[0;32m<ipython-input-16-0323a476f796>\u001b[0m in \u001b[0;36m<module>\u001b[0;34m\u001b[0m\n\u001b[1;32m      1\u001b[0m \u001b[0mdata\u001b[0m \u001b[0;34m=\u001b[0m \u001b[0mreadData\u001b[0m\u001b[0;34m(\u001b[0m\u001b[0mday\u001b[0m\u001b[0;34m)\u001b[0m\u001b[0;34m\u001b[0m\u001b[0;34m\u001b[0m\u001b[0m\n\u001b[0;32m----> 2\u001b[0;31m \u001b[0mproc\u001b[0m \u001b[0;34m=\u001b[0m \u001b[0mpre_processing\u001b[0m\u001b[0;34m(\u001b[0m\u001b[0mdata\u001b[0m\u001b[0;34m[\u001b[0m\u001b[0;36m0\u001b[0m\u001b[0;34m]\u001b[0m\u001b[0;34m)\u001b[0m\u001b[0;34m\u001b[0m\u001b[0;34m\u001b[0m\u001b[0m\n\u001b[0m\u001b[1;32m      3\u001b[0m \u001b[0mproc\u001b[0m\u001b[0;34m.\u001b[0m\u001b[0mhead\u001b[0m\u001b[0;34m(\u001b[0m\u001b[0;34m)\u001b[0m\u001b[0;34m\u001b[0m\u001b[0;34m\u001b[0m\u001b[0m\n",
      "\u001b[0;32m<ipython-input-15-5d2d5e07add7>\u001b[0m in \u001b[0;36mpre_processing\u001b[0;34m(time1)\u001b[0m\n\u001b[1;32m     33\u001b[0m         \u001b[0mte\u001b[0m \u001b[0;34m=\u001b[0m \u001b[0mpt\u001b[0m\u001b[0;34m[\u001b[0m\u001b[0;34m[\u001b[0m\u001b[0;34m'x1'\u001b[0m\u001b[0;34m,\u001b[0m\u001b[0;34m'y1'\u001b[0m\u001b[0;34m]\u001b[0m\u001b[0;34m]\u001b[0m\u001b[0;34m\u001b[0m\u001b[0;34m\u001b[0m\u001b[0m\n\u001b[1;32m     34\u001b[0m \u001b[0;34m\u001b[0m\u001b[0m\n\u001b[0;32m---> 35\u001b[0;31m     \u001b[0;32mreturn\u001b[0m \u001b[0mte\u001b[0m\u001b[0;34m\u001b[0m\u001b[0;34m\u001b[0m\u001b[0m\n\u001b[0m",
      "\u001b[0;31mUnboundLocalError\u001b[0m: local variable 'te' referenced before assignment"
     ]
    }
   ],
   "source": [
    "data = readData(day)\n",
    "proc = pre_processing(data[0])\n",
    "proc.head()"
   ]
  },
  {
   "cell_type": "raw",
   "metadata": {},
   "source": [
    "LZ (dBZ)\tR (mm/h)\tR (in/h)\tIntensity\n",
    "    5\t      0.08\t      < 0.01\tHardly noticeable\n",
    "    10\t      0.16\t      < 0.01\tLight mist\n",
    "    15\t      0.37\t        0.01\tMist\n",
    "    20\t      0.82\t        0.03\tVery light\n",
    "    25\t      1.35\t        0.05\tLight\n",
    "    30\t      2.85\t        0.11\tLight to moderate\n",
    "    35\t      4.74\t        0.19\tModerate rain\n",
    "    40\t      9.96\t        0.39\tModerate rain\n",
    "    45\t      21.8\t        0.86\tModerate to heavy\n",
    "    50\t      44.7\t        1.76\tHeavy\n",
    "    55\t      85.2\t        3.35\tVery heavy/small hail\n",
    "    60\t       167\t        6.57\tExtreme/moderate hail\n",
    "    65\t       307\t        12.09\tExtreme/large hail"
   ]
  },
  {
   "cell_type": "code",
   "execution_count": null,
   "metadata": {
    "ExecuteTime": {
     "end_time": "2019-08-21T16:25:43.192885Z",
     "start_time": "2019-08-21T16:25:43.189063Z"
    }
   },
   "outputs": [],
   "source": [
    "def clust(time1):    #11.53:\n",
    "    \n",
    "    te = time1\n",
    "          \n",
    "    bandwidth = estimate_bandwidth(te, quantile=0.1)\n",
    "    \n",
    "    if bandwidth > 0:\n",
    "        ms = MeanShift(bandwidth=bandwidth, bin_seeding=None, cluster_all=True, min_bin_freq=1,\n",
    "    n_jobs=None, seeds=None)\n",
    "    else:\n",
    "        ms = MeanShift(bandwidth=10, bin_seeding=None, cluster_all=True, min_bin_freq=1,\n",
    "    n_jobs=None, seeds=None)\n",
    "\n",
    "    ms.fit(te)\n",
    "    labels = ms.labels_\n",
    "    cluster_centers = ms.cluster_centers_\n",
    "    n_clusters_ = len(np.unique(labels))\n",
    "        \n",
    "#     colors = 10*['r.','g.','b.','c.','k.','y.','m.']\n",
    "#     for i in range(len(te)):\n",
    "#            #print(te['x1'][i])\n",
    "#         plt.plot(te['x1'][i], te['y1'][i], colors[labels[i]], markersize = 10)\n",
    "#         plt.title('Estimated number of clusters: %d' % n_clusters_)\n",
    "\n",
    "#     kmeans = KMeans(n_clusters=8).fit(te)\n",
    "#     labels = kmeans.labels_\n",
    "#     cluster_centers = kmeans.cluster_centers_\n",
    "#     n_clusters_ = len(np.unique(labels))\n",
    "\n",
    "    te['cluster']=labels\n",
    "    \n",
    "    return te"
   ]
  },
  {
   "cell_type": "code",
   "execution_count": null,
   "metadata": {
    "ExecuteTime": {
     "end_time": "2019-08-21T16:25:43.580392Z",
     "start_time": "2019-08-21T16:25:43.382206Z"
    }
   },
   "outputs": [],
   "source": [
    "data = readData(day)\n",
    "proc = pre_processing(data[2])\n",
    "\n",
    "clusters = clust(proc)\n",
    "clusters.head()"
   ]
  },
  {
   "cell_type": "code",
   "execution_count": null,
   "metadata": {
    "ExecuteTime": {
     "end_time": "2019-08-21T16:25:43.764694Z",
     "start_time": "2019-08-21T16:25:43.750179Z"
    }
   },
   "outputs": [],
   "source": [
    "def createData(time,clusters):\n",
    "    \n",
    "    if isinstance(clusters,pd.DataFrame):\n",
    "        \n",
    "        ##Static Radar Coordinates Value for Topological relation\n",
    "        radar = (-3.148556, -59.992000)\n",
    "\n",
    "        FAM1 = pd.DataFrame(columns=['YEAR','MONTH','DAY','HOUR','MINUTE',\n",
    "                                     'N_Cluster','ID_CLUS','LAT','LON','IND_X','IND_Y',\n",
    "                                     'T_RELATION','RAIN_FALL','DBz'])\n",
    "\n",
    "        LAT_ = (lat[clusters['x1'].astype(int),clusters['y1'].astype(int)])\n",
    "        LON_ = (lon[clusters['x1'].astype(int),clusters['y1'].astype(int)])\n",
    "        N_CLUST = len(clusters['cluster'].unique())\n",
    "\n",
    "        rfall = []\n",
    "        rlation = []\n",
    "        \n",
    "        for i,row in clusters.iterrows():\n",
    "            x_1, x_2 = row['x1'].astype(int), row['y1'].astype(int)\n",
    "            rfall.append(frames[time][x_1][x_2])\n",
    "            r = tRelation((LAT_[i],LON_[i]),radar)   ### Topological Relation\n",
    "            rlation.append(r)\n",
    "\n",
    "        FAM1['IND_X'], FAM1['IND_Y'] = clusters['x1'],clusters['y1']\n",
    "        FAM1['LAT'],FAM1['LON'] = LAT_,LON_\n",
    "        FAM1['N_Cluster'] = N_CLUST\n",
    "        FAM1['ID_CLUS'] = clusters['cluster']\n",
    "        FAM1['RAIN_FALL'] = rfall\n",
    "        FAM1['T_RELATION'] = rlation\n",
    "        FAM1['DBz'] =  10 * np.log10(200*FAM1['RAIN_FALL']**1.6)           ### Reflectivity = 10*log10(200R1.6)\n",
    "        FAM1['YEAR'] = str(sorted(os.listdir(path+str(day)))[time])[16:20]\n",
    "        FAM1['MONTH'] = str(sorted(os.listdir(path+str(day)))[time])[20:22]\n",
    "        FAM1['DAY'] = str(sorted(os.listdir(path+str(day)))[time])[22:24]\n",
    "        FAM1['HOUR'] = str(sorted(os.listdir(path+str(day)))[time])[25:27]\n",
    "        FAM1['MINUTE'] = str(sorted(os.listdir(path+str(day)))[time])[27:29]\n",
    "        \n",
    "    else:\n",
    "        return None\n",
    "\n",
    "    return FAM1"
   ]
  },
  {
   "cell_type": "code",
   "execution_count": null,
   "metadata": {
    "ExecuteTime": {
     "end_time": "2019-08-21T16:25:44.672503Z",
     "start_time": "2019-08-21T16:25:44.455030Z"
    }
   },
   "outputs": [],
   "source": [
    "data = readData(day)\n",
    "proc = pre_processing(data[0])\n",
    "clusters = clust(proc)\n",
    "\n",
    "createData(0,clusters).head()"
   ]
  },
  {
   "cell_type": "code",
   "execution_count": null,
   "metadata": {
    "ExecuteTime": {
     "end_time": "2019-08-21T16:25:44.938659Z",
     "start_time": "2019-08-21T16:25:44.933977Z"
    }
   },
   "outputs": [],
   "source": [
    "def centroidData(clus):\n",
    "    \n",
    "    if isinstance(clus,pd.DataFrame):\n",
    "        centroid = pd.DataFrame()\n",
    "        for i in range(clus['N_Cluster'].max()):\n",
    "            ct = clus.loc[clus['ID_CLUS'] == i ]\n",
    "            ct = ct.loc[ct['RAIN_FALL'] == ct['RAIN_FALL'].max()]\n",
    "            centroid = centroid.append(ct)\n",
    "    else:\n",
    "        return None\n",
    "    return centroid"
   ]
  },
  {
   "cell_type": "code",
   "execution_count": null,
   "metadata": {
    "ExecuteTime": {
     "end_time": "2019-08-21T16:43:56.421411Z",
     "start_time": "2019-08-21T16:43:55.786620Z"
    }
   },
   "outputs": [],
   "source": [
    "data = readData(day)\n",
    "proc = pre_processing(data[0])\n",
    "clusters = clust(proc)\n",
    "cdata = createData(0,clusters)\n",
    "centroidData(cdata)"
   ]
  },
  {
   "cell_type": "code",
   "execution_count": null,
   "metadata": {
    "ExecuteTime": {
     "end_time": "2019-08-21T16:25:46.554861Z",
     "start_time": "2019-08-21T16:25:46.549073Z"
    }
   },
   "outputs": [],
   "source": [
    "def tRelation(p,q):\n",
    "\n",
    "    north_west       =  p[1] <  q[1] and  p[0] >  q[0] \n",
    "    restricted_north =  p[1] == q[1] and  p[0] >  q[0]\n",
    "    north_east       =  p[1] >  q[1] and  p[0] >  q[0]\n",
    "    restricted_west  =  p[1] <  q[1] and  p[0] == q[0]\n",
    "    same_position    =  p[1] == q[1] and  p[0] == q[0]\n",
    "    restricted_east  =  p[1] >  q[1] and  p[0] == q[0]\n",
    "    south_west       =  p[1] <  q[1] and  p[0] <  q[0]\n",
    "    restricted_south =  p[1] == q[1] and  p[0] <  q[0] \n",
    "    south_est        =  p[1] >  q[1] and  p[0] <  q[0]\n",
    "\n",
    "    if north_west == True:\n",
    "        return ('NW')\n",
    "    if restricted_north == True:\n",
    "        return ('RN')\n",
    "    if north_east == True:\n",
    "        return ('NE')\n",
    "    if restricted_west == True:\n",
    "        return ('RW')\n",
    "    if same_position == True:\n",
    "        return('SP')\n",
    "    if restricted_east == True:\n",
    "        return ('RE')\n",
    "    if south_west == True:\n",
    "        return ('SW')\n",
    "    if restricted_south == True:\n",
    "        return ('RS')\n",
    "    if south_est == True:\n",
    "        return ('SE')"
   ]
  },
  {
   "cell_type": "code",
   "execution_count": null,
   "metadata": {
    "ExecuteTime": {
     "end_time": "2019-08-21T16:25:47.310342Z",
     "start_time": "2019-08-21T16:25:47.301554Z"
    }
   },
   "outputs": [],
   "source": [
    "x1,y1 = -1.9451030492782593,-61.034568786621094      #-61.034568786621094 -1.9451030492782593\n",
    "r1,r2 = -3.148556, -59.992000                  # RADAR\n",
    "p = (x1,y1)                                    #PONTO\n",
    "q = (r1,r2)                                    #RADAR\n",
    "\n",
    "north_west       =  p[1] <  q[1] and  p[0] >  q[0] \n",
    "restricted_north =  p[1] == q[1] and  p[0] >  q[0]\n",
    "north_east       =  p[1] >  q[1] and  p[0] >  q[0]\n",
    "restricted_west  =  p[1] <  q[1] and  p[0] == q[0]\n",
    "same_position    =  p[1] == q[1] and  p[0] == q[0]\n",
    "restricted_east  =  p[1] >  q[1] and  p[0] == q[0]\n",
    "south_west       =  p[1] <  q[1] and  p[0] <  q[0]\n",
    "restricted_south =  p[1] == q[1] and  p[0] <  q[0] \n",
    "south_est        =  p[1] >  q[1] and  p[0] <  q[0]\n",
    "\n",
    "print('NW',north_west)\n",
    "print('RN',restricted_north)\n",
    "print('NE',north_east)\n",
    "print('RW',restricted_west)\n",
    "print('SP',same_position)\n",
    "print('RE',restricted_east)\n",
    "print('SW',south_west)\n",
    "print('RS',restricted_south)\n",
    "print('SE',south_est)"
   ]
  },
  {
   "cell_type": "markdown",
   "metadata": {},
   "source": [
    "#### 1.8 Pre-processing"
   ]
  },
  {
   "cell_type": "code",
   "execution_count": null,
   "metadata": {
    "ExecuteTime": {
     "end_time": "2019-08-21T16:25:48.633415Z",
     "start_time": "2019-08-21T16:25:48.629258Z"
    }
   },
   "outputs": [],
   "source": [
    "def run():\n",
    "    data = readData(day)\n",
    "    dados = pd.DataFrame()\n",
    "    \n",
    "    for i in range(len(data)):\n",
    "        proc = pre_processing(data[i]) \n",
    "        cluster = clust(proc)\n",
    "             \n",
    "        if isinstance(cluster,pd.DataFrame):\n",
    "            clt = createData(i,cluster)\n",
    "            clt2 = centroidData(clt)\n",
    "            dados = dados.append(clt2)\n",
    "        else:\n",
    "            pass     \n",
    "    dados.to_csv('output/Moderate_Centroid_OUTPUT_'+str(sorted(os.listdir(path+str(day)))[i][:-3])+'.csv')"
   ]
  },
  {
   "cell_type": "markdown",
   "metadata": {},
   "source": [
    "### RUN PROCESS"
   ]
  },
  {
   "cell_type": "code",
   "execution_count": null,
   "metadata": {
    "ExecuteTime": {
     "end_time": "2019-08-21T16:25:52.996046Z",
     "start_time": "2019-08-21T16:25:51.701517Z"
    }
   },
   "outputs": [],
   "source": [
    "run()"
   ]
  },
  {
   "cell_type": "code",
   "execution_count": null,
   "metadata": {
    "ExecuteTime": {
     "end_time": "2019-08-21T15:58:30.389338Z",
     "start_time": "2019-08-21T15:58:30.164908Z"
    }
   },
   "outputs": [],
   "source": [
    "data = readData(day)\n",
    "proc = pre_processing(data[0])\n",
    "clusters = clust(proc)\n",
    "cdata = createData(0,clusters)\n",
    "centroid = centroidData(cdata)"
   ]
  },
  {
   "cell_type": "code",
   "execution_count": null,
   "metadata": {
    "ExecuteTime": {
     "end_time": "2019-08-21T15:59:21.387549Z",
     "start_time": "2019-08-21T15:59:19.557286Z"
    }
   },
   "outputs": [],
   "source": [
    "setupMap(1)"
   ]
  },
  {
   "cell_type": "code",
   "execution_count": null,
   "metadata": {
    "ExecuteTime": {
     "end_time": "2019-08-21T16:08:25.844141Z",
     "start_time": "2019-08-21T16:08:25.829027Z"
    }
   },
   "outputs": [],
   "source": [
    "def setupMap(frame):\n",
    "\n",
    "    data = readData(day)\n",
    "    proc = pre_processing(data[frame])\n",
    "    clusters = clust(proc)\n",
    "    cdata = createData(frame,clusters)\n",
    "    centers = centroidData(cdata)\n",
    "\n",
    "    if isinstance(centers,pd.DataFrame):\n",
    "        c_lat = centers['LAT']\n",
    "        c_lon = centers['LON']\n",
    "\n",
    "        centroid = []\n",
    "        ## Set centroid of clusters by MAX RAIN_FALL Rate\n",
    "        for i in range(centers['N_Cluster'].max()):\n",
    "            ct = centers.loc[centers['ID_CLUS'] == i ]\n",
    "            ct = ct.loc[ct['RAIN_FALL'] == ct['RAIN_FALL'].max()]\n",
    "            centroid.append(ct)\n",
    "\n",
    "    file = path+str(day)+'/'+str(sorted(os.listdir(path+str(day)))[frame])\n",
    "    xds = xr.open_dataset(file)\n",
    "    date_time = xds.start_time.data\n",
    "    date_time = pd.to_datetime(date_time)\n",
    "    \n",
    "    my_coords = [-3.148556, -59.992000]     ## RADAR T1 SIPAM COORDS\n",
    "    zoom_scale = 2.2                        ## ZOOM SCALE\n",
    "\n",
    "    bbox = [my_coords[0]-zoom_scale,my_coords[0]+zoom_scale,\\\n",
    "             my_coords[1]-zoom_scale,my_coords[1]+zoom_scale]\n",
    "\n",
    "\n",
    "    fig, axes = plt.subplots(nrows=1,ncols=1,figsize=(10,10),dpi=100)\n",
    "    label = 'Rain rate in ' + runit+ ''\n",
    "    title = 'SIPAM Manaus S-Band Radar :' + str(date_time)\n",
    "\n",
    "    # draw filled contours.\n",
    "    clevs = [0, 1, 2.5, 5, 7.5, 10, 15, 20, 30, 40,\n",
    "                 50, 70, 100]\n",
    "\n",
    "    cmap_data = [(1.0, 1.0, 1.0),\n",
    "                     (0.3137255012989044, 0.8156862854957581, 0.8156862854957581),\n",
    "                     (0.0, 1.0, 1.0),\n",
    "                     (0.0, 0.8784313797950745, 0.501960813999176),\n",
    "                     (0.0, 0.7529411911964417, 0.0),\n",
    "                     (0.501960813999176, 0.8784313797950745, 0.0),\n",
    "                     (1.0, 1.0, 0.0),\n",
    "                     (1.0, 0.6274510025978088, 0.0),\n",
    "                     (1.0, 0.0, 0.0),\n",
    "                     (1.0, 0.125490203499794, 0.501960813999176),\n",
    "                     (0.9411764740943909, 0.250980406999588, 1.0),\n",
    "                     (0.501960813999176, 0.125490203499794, 1.0),\n",
    "                     (0.250980406999588, 0.250980406999588, 1.0)]\n",
    "\n",
    "    cmap = mcolors.ListedColormap(cmap_data, 'precipitation')\n",
    "    norm = mcolors.BoundaryNorm(clevs, cmap.N)\n",
    "    ax = axes\n",
    "\n",
    "    m = Basemap(projection='merc',llcrnrlat=bbox[0],urcrnrlat=bbox[1],\\\n",
    "                    llcrnrlon=bbox[2],urcrnrlon=bbox[3],lat_ts=10,resolution='i')\n",
    "\n",
    "    ## PRECIPTACAO\n",
    "    xi, yi = m(lon, lat)\n",
    "    ## SIPAM RADAR\n",
    "    xm, ym = m(my_coords[1],my_coords[0])\n",
    "    radar = m.plot(xm,ym, marker='^',color='r', label='RADAR')\n",
    "\n",
    "\n",
    "    for cent in range(len(centroid)):\n",
    "        clat, clon, mm_f = centroid[cent]['LAT'].item(),centroid[cent]['LON'].item(),centroid[cent]['RAIN_FALL'].item()\n",
    "        t3x,t3y = m(clon, clat)\n",
    "        m.plot(t3x,t3y, marker=markers.CARETDOWN, markersize=10, color='k')\n",
    "#         plt.annotate(str(mm_f)[0:5]+'mm/h', xy=(t3x,t3y),xytext=(t3x+12,t3y+12),rotation=45, size=10)\n",
    "\n",
    "    m.plot(xm,ym, label='Nº Clusters: ' +str(len(centroid)),marker=markers.CARETDOWN, color='k')\n",
    "\n",
    "    cs = m.pcolormesh(xi,yi,data[frame], cmap = cmap, norm = norm, ax=ax)\n",
    "\n",
    "    # # # # Add Grid Lines\n",
    "    m.drawparallels(np.arange(bbox[0],bbox[1],(bbox[1]-bbox[0])/5),labels=[1,0,0,0],rotation=45, size=(7))\n",
    "    m.drawmeridians(np.arange(bbox[2],bbox[3],(bbox[3]-bbox[2])/5),labels=[0,0,0,1],rotation=45, size=(7))\n",
    "    m.drawmapboundary(fill_color='gray')\n",
    "\n",
    "    m.drawcoastlines()\n",
    "    m.drawstates()\n",
    "    m.drawcountries()\n",
    "    #m.fillcontinents(color='#FAFAFA',lake_color='dodgerblue')\n",
    "    #m.drawlsmask(land_color='Linen', lake_color='#CCFFFF')\n",
    "    m.drawrivers(color = '#0043CB', linewidth=1)\n",
    "\n",
    "    #m.readshapefile('./data/am_municipios/13MUE250GC_SIR', 'teste')\n",
    "    # # # # Add Colorbar\n",
    "    cbar = m.colorbar(cs, location='bottom', pad=\"10%\")\n",
    "    cbar.set_label(label)\n",
    "\n",
    "    # # # # # Add Title\n",
    "    plt.title(title)\n",
    "    plt.legend()\n",
    "    plt.ylabel('Longitude', labelpad=40)\n",
    "    plt.xlabel('Latitude', labelpad=60)\n",
    "\n",
    "    plt.savefig('radar_image/'+ sorted(os.listdir(path+str(day)))[frame]+'.png')\n",
    "\n",
    "    plt.show()"
   ]
  },
  {
   "cell_type": "code",
   "execution_count": null,
   "metadata": {
    "ExecuteTime": {
     "end_time": "2019-08-21T16:07:33.188713Z",
     "start_time": "2019-08-21T16:07:31.252484Z"
    }
   },
   "outputs": [],
   "source": [
    "setupMap(0)"
   ]
  },
  {
   "cell_type": "code",
   "execution_count": null,
   "metadata": {
    "ExecuteTime": {
     "end_time": "2019-08-21T16:02:36.334466Z",
     "start_time": "2019-08-21T16:02:19.413895Z"
    }
   },
   "outputs": [],
   "source": [
    "## CREATE ALL FIGS\n",
    "for i in range(len(frames)):\n",
    "    setupMap(i)"
   ]
  },
  {
   "cell_type": "markdown",
   "metadata": {},
   "source": [
    "#### Statistics"
   ]
  },
  {
   "cell_type": "code",
   "execution_count": null,
   "metadata": {
    "ExecuteTime": {
     "end_time": "2019-08-21T16:24:56.062885Z",
     "start_time": "2019-08-21T16:24:56.054598Z"
    }
   },
   "outputs": [],
   "source": [
    "path_output = 'output/rodada_mes_01/'\n",
    "\n",
    "dados = []\n",
    "\n",
    "for file in (sorted(os.listdir(path_output))):\n",
    "    df = pd.read_csv(path_output+file)\n",
    "    dados.append(df)\n",
    "\n",
    "frames = dados[:]\n",
    "janeiro = pd.concat(frames)"
   ]
  },
  {
   "cell_type": "code",
   "execution_count": null,
   "metadata": {
    "ExecuteTime": {
     "end_time": "2019-08-20T17:00:08.275486Z",
     "start_time": "2019-08-20T17:00:08.273092Z"
    }
   },
   "outputs": [],
   "source": [
    "month_rainfall = janeiro['RAIN_FALL']\n",
    "month_dbz = janeiro['DBz']\n",
    "days = janeiro['DAY']"
   ]
  },
  {
   "cell_type": "code",
   "execution_count": null,
   "metadata": {
    "ExecuteTime": {
     "end_time": "2019-08-20T17:25:24.536719Z",
     "start_time": "2019-08-20T17:25:07.409458Z"
    }
   },
   "outputs": [],
   "source": [
    "sns.set(style='darkgrid')\n",
    "sns.lineplot(x=janeiro['DAY'],y=janeiro['RAIN_FALL'],label='Rain Fall Total')"
   ]
  },
  {
   "cell_type": "code",
   "execution_count": null,
   "metadata": {
    "ExecuteTime": {
     "end_time": "2019-08-20T17:36:38.817437Z",
     "start_time": "2019-08-20T17:36:38.785133Z"
    }
   },
   "outputs": [],
   "source": []
  },
  {
   "cell_type": "code",
   "execution_count": null,
   "metadata": {
    "ExecuteTime": {
     "end_time": "2019-08-20T17:33:32.648917Z",
     "start_time": "2019-08-20T17:33:32.577407Z"
    }
   },
   "outputs": [],
   "source": [
    "sns.lineplot(data=day1)"
   ]
  },
  {
   "cell_type": "code",
   "execution_count": null,
   "metadata": {
    "ExecuteTime": {
     "end_time": "2019-08-20T16:31:57.675554Z",
     "start_time": "2019-08-20T16:31:57.200810Z"
    }
   },
   "outputs": [],
   "source": [
    "plt.scatter(x,y,rain_fall)"
   ]
  },
  {
   "cell_type": "code",
   "execution_count": null,
   "metadata": {
    "ExecuteTime": {
     "end_time": "2019-08-20T16:32:44.912903Z",
     "start_time": "2019-08-20T16:32:44.353168Z"
    }
   },
   "outputs": [],
   "source": [
    "plt.scatter(x,y,dbz)"
   ]
  },
  {
   "cell_type": "markdown",
   "metadata": {},
   "source": [
    "#### Function for create Animation (Giff File in root dir)"
   ]
  },
  {
   "cell_type": "markdown",
   "metadata": {},
   "source": [
    "#### RESULTS"
   ]
  },
  {
   "cell_type": "markdown",
   "metadata": {},
   "source": [
    "#### CONCLUSIONS"
   ]
  },
  {
   "cell_type": "markdown",
   "metadata": {},
   "source": [
    "#### REFERENCES"
   ]
  }
 ],
 "metadata": {
  "kernelspec": {
   "display_name": "Python 3",
   "language": "python",
   "name": "python3"
  },
  "language_info": {
   "codemirror_mode": {
    "name": "ipython",
    "version": 3
   },
   "file_extension": ".py",
   "mimetype": "text/x-python",
   "name": "python",
   "nbconvert_exporter": "python",
   "pygments_lexer": "ipython3",
   "version": "3.6.7"
  },
  "toc": {
   "base_numbering": 1,
   "nav_menu": {},
   "number_sections": true,
   "sideBar": true,
   "skip_h1_title": false,
   "title_cell": "Table of Contents",
   "title_sidebar": "Contents",
   "toc_cell": false,
   "toc_position": {},
   "toc_section_display": true,
   "toc_window_display": false
  }
 },
 "nbformat": 4,
 "nbformat_minor": 2
}
