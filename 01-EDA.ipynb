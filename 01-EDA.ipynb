{
 "cells": [
  {
   "cell_type": "markdown",
   "metadata": {},
   "source": [
    "# <span style=\"color:#336699\">Introduction to Data Science - CAP 394 [<img src=\"./img/icone_cap394.svg\" alt=\"CAP394 - Introduction to Data Science\" style=\"height:120px;\" align=\"right\">](http://www.lac.inpe.br/~rafael.santos/cap394.html)</span>\n",
    "\n",
    "\n",
    "<hr style=\"border:2px solid #0077b9;\">\n",
    "\n",
    "   \n",
    "<h1> <p align=\"right\"> Exploratory Analysis of Meteorological Radar Dataset </p> </h1>\n",
    "   \n",
    "<p align='center'> Project for course  Introduction to Data Science - CAP 394</p>\n",
    "\n",
    "#### Instructors: \n",
    "* Dr. Gilberto Queiroz \n",
    "* Dr. Rafael Santos\n",
    "\n",
    "#### Student: \n",
    "* Helvecio Leal Neto\n",
    "\n",
    "\n",
    "\n",
    "## Schedule\n",
    "     - [x] Data reading\n",
    "     - [x] Data visualization\n",
    "     - [x] Preprocessing\n",
    "     - [x] Cluster detection algorithm\n",
    "     - [x] Relational Directions\n",
    "     - [x] Create Data Functions\n",
    "     - [x] Visualization Radar image\n",
    "     - [x] Statistics and Results\n",
    "     - [ ] Final analysis and project elaboration"
   ]
  },
  {
   "cell_type": "markdown",
   "metadata": {},
   "source": [
    "### Index\n",
    "\n",
    "  [About](#about) <br></br>\n",
    "  [The Data](#the_data)<br></br>\n",
    "  [Reading Data](#reading_data)<br></br>\n",
    "  \n",
    " <hr style=\"border:1px solid #0077b9;\">"
   ]
  },
  {
   "cell_type": "markdown",
   "metadata": {},
   "source": [
    "<a id='about'></a>\n",
    "## About\n",
    "\n",
    "<p align=\"justify\"> <br>\n",
    "This work is part of the suite of applications for the Introduction to Data Science (CAP-394) course offered by the National Institute for Space Research.\n",
    "\n",
    "The purpose of this paper is to perform an exploratory analysis of radar data, gathering raw data, processing it and understanding the dynamics of cloud location from its center of mass, as well as counting the number of clusters per period.\n",
    "At the end of the exploratory process it will be possible to estimate the behavior of the clouds and relate their geographical location as well as correlate average precipitation rates per hour.\n",
    "\n",
    "<hr style=\"border:1px solid #0077b9;\">"
   ]
  },
  {
   "cell_type": "markdown",
   "metadata": {},
   "source": [
    "<a id='the_data'></a>\n",
    "## The Data\n",
    "\n",
    "<p align=\"justify\"><br>\n",
    "The data analyzed in this example consists of NC (NetCDF4) files. Each file corresponds to Rain Rate measurements collected by the Amazon Protection System (SIPAM) radar during the GoAmazon experiment periods, starting from January 2014 to December 2015, such files contain data on 12-minute time intervals. The dataset provides rain data over 2.5km from S-Band Radar located in lat: -3.148556, lon: -59.992000. Data dimensionality consists of a two-dimensional (241x241) matrix containing rain rate values, the Radar Radius range is approximately 240 km, covering an area of 1,500 km² over the state of Amazonas (Brazil).\n",
    "<p align=\"justify\"><br>\n",
    "Overview:\n",
    "\n",
    "\"S-band radar volumes from Manaus, Brazil were shared by SIPAM for the time period beginning in January 2014 to December 2015 partially coinciding with the GOAmazon field campaign. The corrected radar reflectivity from each volume were interpolated to a fixed grid and the rainfall products were generated. A single Z-R relation (Z=174.8R^1.56) was created using 2014 wet-season impact disdrometer data and applied to the 2.5 km SIPAM Manaus S-Band CAPPI data to generate rain rates for each radar volume. This is version 2.0a of the dataset, which benefits from improved quality control procedures to remove non-meteorological data. \" Schumacher</p>\n",
    "\n",
    "\n",
    "https://www.arm.gov/research/campaigns/amf2014goamazon <br>\n",
    "\n",
    "* Courtney Schumacher\tS-band Radar - Rain Rates\n",
    "\n",
    "<img src=\"img/SIPAM.png\" align=\"center\" alt=\"Drawing\" style=\"width: 600px;\">\n",
    "\n",
    "\n",
    "[Figure 01: REDEMET - Radar Manaus](https://www.redemet.aer.mil.br/?i=produtos&p=radares-meteorologicos)\n",
    "<hr style=\"border:1px solid #0077b9;\">"
   ]
  },
  {
   "cell_type": "markdown",
   "metadata": {},
   "source": [
    "## Questions about the data\n",
    "\n",
    "1. How can I do the data acquisition?\n",
    "2. How can I open the data?\n",
    "3. What are the functions to view the data content?\n",
    "4. How to format data efficiently?\n",
    "5. Which precipitation rate intensity thresholds are interesting?\n",
    "6. What techniques for clustering can be applied to the dataset?\n",
    "7. How to convert values in Rain Rate Fall to DBz?\n",
    "8. What geographic applications can be associated with data?\n",
    "9. How to organize and process data efficiently?\n",
    "10. How to use a library to plot radar images?\n",
    "11. How many clusters per hour and month are in the dataset?\n",
    "12. What is the accumulated rain fall present in the data?\n",
    "13. What are the directional relationships of each cluster?\n",
    "\n",
    "<hr style=\"border:1px solid #0077b9;\">"
   ]
  },
  {
   "cell_type": "markdown",
   "metadata": {},
   "source": [
    "<a id='reading_data'></a>\n",
    "## 1. Basic read process"
   ]
  },
  {
   "cell_type": "markdown",
   "metadata": {},
   "source": [
    "### 1.1 Reading the metadata file"
   ]
  },
  {
   "cell_type": "code",
   "execution_count": 1,
   "metadata": {
    "ExecuteTime": {
     "end_time": "2019-09-05T14:14:34.236896Z",
     "start_time": "2019-09-05T14:14:33.889172Z"
    }
   },
   "outputs": [],
   "source": [
    "import os\n",
    "import xarray as xr"
   ]
  },
  {
   "cell_type": "code",
   "execution_count": 378,
   "metadata": {
    "ExecuteTime": {
     "end_time": "2019-09-05T18:40:16.962346Z",
     "start_time": "2019-09-05T18:40:16.945599Z"
    }
   },
   "outputs": [
    {
     "data": {
      "text/plain": [
       "<xarray.Dataset>\n",
       "Dimensions:     (x0: 241, y0: 241)\n",
       "Dimensions without coordinates: x0, y0\n",
       "Data variables:\n",
       "    start_time  datetime64[ns] ...\n",
       "    stop_time   datetime64[ns] ...\n",
       "    lat0        (y0, x0) float32 ...\n",
       "    lon0        (y0, x0) float32 ...\n",
       "    rain_rate   (y0, x0) float32 ...\n",
       "Attributes:\n",
       "    description:  SIPAM Manaus S-Band Gridded Rain Rates\n",
       "    source:       SIPAM Manaus S-Band Radar\n",
       "    institution:  SIPAM/Texas A&M University\n",
       "    comment:      v2.0a; Created at Texas A&M University (cschu@tamu.edu)\n",
       "    references:   http://atmo.tamu.edu/goamazon-sband-radar\n",
       "    created:      Wed Sep  6 19:51:30 2017\\n"
      ]
     },
     "execution_count": 378,
     "metadata": {},
     "output_type": "execute_result"
    }
   ],
   "source": [
    "### open files day 2014 / 01 / 03\n",
    "day = 20150315\n",
    "\n",
    "### path contains dataset\n",
    "path = 'data/radar/'\n",
    "\n",
    "#read first file to extract static variable values\n",
    "first_file = path+str(day)+'/'+str(os.listdir(path+str(day))[0])\n",
    "    \n",
    "try:\n",
    "    xds = xr.open_dataset(first_file)   \n",
    "except Exception as e:\n",
    "    print('File not found')\n",
    "xds"
   ]
  },
  {
   "cell_type": "code",
   "execution_count": 379,
   "metadata": {
    "ExecuteTime": {
     "end_time": "2019-09-05T18:40:17.366743Z",
     "start_time": "2019-09-05T18:40:17.357301Z"
    }
   },
   "outputs": [
    {
     "name": "stdout",
     "output_type": "stream",
     "text": [
      "Unit of Rain Rate:  mm/hr\n"
     ]
    }
   ],
   "source": [
    "# settingup the variables\n",
    "rr = xds.rain_rate                  ### Matrix with preciptation values\n",
    "runit = xds.rain_rate.units         ### Unit of rain_rate mm/h\n",
    "rkm = xds.rain_rate.height_km       ### Unit of matrix dimensions km\n",
    "lon = xds.lon0.data                 ### Coordinate Longitude Matrix\n",
    "lat = xds.lat0.data                 ### Corrdinate Latitude Matrix\n",
    "x0 = xds.x0                         ### Matrix of points\n",
    "y0 = xds.y0\n",
    "\n",
    "print('Unit of Rain Rate: ',runit)"
   ]
  },
  {
   "cell_type": "markdown",
   "metadata": {},
   "source": [
    "### 1.2 Read data function"
   ]
  },
  {
   "cell_type": "code",
   "execution_count": 4,
   "metadata": {
    "ExecuteTime": {
     "end_time": "2019-09-05T14:14:35.886278Z",
     "start_time": "2019-09-05T14:14:35.879765Z"
    }
   },
   "outputs": [],
   "source": [
    "import numpy as np\n",
    "\n",
    "def readData(date):\n",
    "    \n",
    "    path = 'data/radar/'\n",
    "    dataset = []\n",
    "    interval = len(os.listdir(path+str(date)))    \n",
    "    \n",
    "    # Original grid dimensions\n",
    "    nx = 241\n",
    "    ny = 241\n",
    "\n",
    "    # Define container\n",
    "    frames = np.zeros( (interval, nx, ny ) )    \n",
    "    \n",
    "    for i in range(interval):\n",
    "        d = str(path)+str(date)+'/'\n",
    "        file = (sorted(os.listdir(path+str(date)))[i])\n",
    "        xds = xr.open_dataset(d+file)\n",
    "        rr = xds.rain_rate\n",
    "        frames[i] =  rr\n",
    "            \n",
    "    return frames"
   ]
  },
  {
   "cell_type": "markdown",
   "metadata": {},
   "source": [
    "#### The values loaded for frames correspond to the number of daily observations, and their respective matrices with rainfall rate values."
   ]
  },
  {
   "cell_type": "code",
   "execution_count": 5,
   "metadata": {
    "ExecuteTime": {
     "end_time": "2019-09-05T14:14:36.799580Z",
     "start_time": "2019-09-05T14:14:36.770038Z"
    }
   },
   "outputs": [
    {
     "name": "stdout",
     "output_type": "stream",
     "text": [
      "The frames from dataset:data (times,x,y) ->  (3, 241, 241)\n"
     ]
    }
   ],
   "source": [
    "frames = readData(day)\n",
    "print('The frames from dataset:data (times,x,y) -> ',frames.shape)"
   ]
  },
  {
   "cell_type": "markdown",
   "metadata": {},
   "source": [
    "#### Plot simple example for visualization"
   ]
  },
  {
   "cell_type": "code",
   "execution_count": 6,
   "metadata": {
    "ExecuteTime": {
     "end_time": "2019-09-05T14:14:37.893727Z",
     "start_time": "2019-09-05T14:14:37.681677Z"
    }
   },
   "outputs": [
    {
     "data": {
      "text/plain": [
       "<Figure size 800x400 with 1 Axes>"
      ]
     },
     "metadata": {},
     "output_type": "display_data"
    }
   ],
   "source": [
    "import matplotlib.pyplot as plt\n",
    "## Plot simple figure from dataset\n",
    "\n",
    "day = 20150315\n",
    "\n",
    "figtime = 0\n",
    "filename = sorted(os.listdir(path+str(day)))[figtime]\n",
    "\n",
    "plt.figure(figsize=(8,4))\n",
    "plt.title(filename)\n",
    "plt.scatter(lon,lat,frames[figtime])\n",
    "plt.show();"
   ]
  },
  {
   "cell_type": "markdown",
   "metadata": {},
   "source": [
    "### 1.3 Pre-Processing Function\n",
    "\n",
    "This function is used to store matrix \"x\" and \"y\" coordinates, that have values diffent than \"NaN\" and greater than the fixed Threshold for each cloud, the values correspond to the characteristic threshold intensity of each point."
   ]
  },
  {
   "cell_type": "markdown",
   "metadata": {},
   "source": [
    "<img src=\"img/dbz_scale.png\" align=\"center\" alt=\"Drawing\" style=\"width: 800px;\">"
   ]
  },
  {
   "cell_type": "code",
   "execution_count": 7,
   "metadata": {
    "ExecuteTime": {
     "end_time": "2019-09-05T14:14:39.430369Z",
     "start_time": "2019-09-05T14:14:39.418089Z"
    }
   },
   "outputs": [],
   "source": [
    "import pandas as pd\n",
    "\n",
    "def pre_processing(time1):\n",
    "    np.warnings.filterwarnings('ignore')\n",
    "    \n",
    "    ## thereshold value to track\n",
    "    threshold = 21.8\n",
    "    \n",
    "    rs =  (np.where(time1 != np.nan) and np.where(time1 > threshold))\n",
    "    rs = np.asanyarray(rs)\n",
    "    pe = pd.DataFrame({'x1':rs[0],'y1':rs[1]})\n",
    "        \n",
    "    return pe"
   ]
  },
  {
   "cell_type": "code",
   "execution_count": 8,
   "metadata": {
    "ExecuteTime": {
     "end_time": "2019-09-05T14:14:40.051975Z",
     "start_time": "2019-09-05T14:14:40.039971Z"
    }
   },
   "outputs": [
    {
     "data": {
      "text/html": [
       "<div>\n",
       "<style scoped>\n",
       "    .dataframe tbody tr th:only-of-type {\n",
       "        vertical-align: middle;\n",
       "    }\n",
       "\n",
       "    .dataframe tbody tr th {\n",
       "        vertical-align: top;\n",
       "    }\n",
       "\n",
       "    .dataframe thead th {\n",
       "        text-align: right;\n",
       "    }\n",
       "</style>\n",
       "<table border=\"1\" class=\"dataframe\">\n",
       "  <thead>\n",
       "    <tr style=\"text-align: right;\">\n",
       "      <th></th>\n",
       "      <th>x1</th>\n",
       "      <th>y1</th>\n",
       "    </tr>\n",
       "  </thead>\n",
       "  <tbody>\n",
       "    <tr>\n",
       "      <th>0</th>\n",
       "      <td>29</td>\n",
       "      <td>153</td>\n",
       "    </tr>\n",
       "    <tr>\n",
       "      <th>1</th>\n",
       "      <td>61</td>\n",
       "      <td>93</td>\n",
       "    </tr>\n",
       "    <tr>\n",
       "      <th>2</th>\n",
       "      <td>65</td>\n",
       "      <td>85</td>\n",
       "    </tr>\n",
       "    <tr>\n",
       "      <th>3</th>\n",
       "      <td>68</td>\n",
       "      <td>83</td>\n",
       "    </tr>\n",
       "    <tr>\n",
       "      <th>4</th>\n",
       "      <td>68</td>\n",
       "      <td>85</td>\n",
       "    </tr>\n",
       "  </tbody>\n",
       "</table>\n",
       "</div>"
      ],
      "text/plain": [
       "   x1   y1\n",
       "0  29  153\n",
       "1  61   93\n",
       "2  65   85\n",
       "3  68   83\n",
       "4  68   85"
      ]
     },
     "execution_count": 8,
     "metadata": {},
     "output_type": "execute_result"
    }
   ],
   "source": [
    "pdata = pre_processing(frames[0])\n",
    "pdata.head()"
   ]
  },
  {
   "cell_type": "markdown",
   "metadata": {},
   "source": [
    "Pre_processing function output with values \"x\" and \"y\"."
   ]
  },
  {
   "cell_type": "markdown",
   "metadata": {},
   "source": [
    "### 1.4 Clustering Process with MeanShift\n",
    "\n",
    "The purpose of the Mean-Shift clustering technique is to infer the average of clusters by their related density function, where an area calculation is made where the density values are higher and at this point a central point called centroid is measured. The process is performed recursively and is only terminated when the inference value is equal to the previous one.\n",
    "\n",
    "<img src=\"img/ms_2d_bw_2.gif\" align=\"left\" alt=\"Drawing\" style=\"width: 400px;\">"
   ]
  },
  {
   "cell_type": "code",
   "execution_count": 11,
   "metadata": {
    "ExecuteTime": {
     "end_time": "2019-09-05T14:14:50.280979Z",
     "start_time": "2019-09-05T14:14:50.276169Z"
    }
   },
   "outputs": [],
   "source": [
    "from sklearn.cluster import MeanShift, estimate_bandwidth\n",
    "\n",
    "def clust(time1):\n",
    "    \n",
    "    te = time1\n",
    "    \n",
    "    if len(te) < 20:\n",
    "        return None\n",
    "\n",
    "    bandwidth = estimate_bandwidth(te, quantile=0.3, n_samples=None, random_state=0, n_jobs=None)\n",
    "    \n",
    "    if bandwidth > 0:\n",
    "        ms = MeanShift(bandwidth=5, bin_seeding=None, cluster_all=True, min_bin_freq=1,\n",
    "    n_jobs=None, seeds=None)\n",
    "    else:\n",
    "        ms = MeanShift(bandwidth=10, bin_seeding=None, cluster_all=True, min_bin_freq=1,\n",
    "    n_jobs=None, seeds=None)\n",
    "\n",
    "    ms.fit(te)\n",
    "    labels = ms.labels_\n",
    "    cluster_centers = ms.cluster_centers_\n",
    "    n_clusters_ = len(np.unique(labels))\n",
    "    te['cluster']=labels\n",
    "        \n",
    "#     colors = 10*['r.','g.','b.','c.','k.','y.','m.']\n",
    "#     for i in range(len(te)):\n",
    "#         plt.plot(te['x1'][i], te['y1'][i], colors[labels[i]], markersize = 10)\n",
    "#         plt.title('Estimated number of clusters: %d' % n_clusters_)\n",
    "        \n",
    "#     for i, txt in enumerate(range(n_clusters_)):\n",
    "#         plt.annotate(txt,(cluster_centers[i,0],cluster_centers[i,1]),textcoords=\"offset points\",xytext=(0,10),ha='center')\n",
    "#     te['cluster']=labels\n",
    "    \n",
    "#     plt.scatter(cluster_centers[:,0], cluster_centers[:,1],\n",
    "#                marker = 'x', s=150, linewidths=10, zorder=10)\n",
    "    \n",
    "    return te"
   ]
  },
  {
   "cell_type": "code",
   "execution_count": 10,
   "metadata": {
    "ExecuteTime": {
     "end_time": "2019-09-05T14:14:47.335543Z",
     "start_time": "2019-09-05T14:14:46.935392Z"
    }
   },
   "outputs": [
    {
     "data": {
      "text/html": [
       "<div>\n",
       "<style scoped>\n",
       "    .dataframe tbody tr th:only-of-type {\n",
       "        vertical-align: middle;\n",
       "    }\n",
       "\n",
       "    .dataframe tbody tr th {\n",
       "        vertical-align: top;\n",
       "    }\n",
       "\n",
       "    .dataframe thead th {\n",
       "        text-align: right;\n",
       "    }\n",
       "</style>\n",
       "<table border=\"1\" class=\"dataframe\">\n",
       "  <thead>\n",
       "    <tr style=\"text-align: right;\">\n",
       "      <th></th>\n",
       "      <th>x1</th>\n",
       "      <th>y1</th>\n",
       "      <th>cluster</th>\n",
       "    </tr>\n",
       "  </thead>\n",
       "  <tbody>\n",
       "    <tr>\n",
       "      <th>0</th>\n",
       "      <td>29</td>\n",
       "      <td>153</td>\n",
       "      <td>9</td>\n",
       "    </tr>\n",
       "    <tr>\n",
       "      <th>1</th>\n",
       "      <td>61</td>\n",
       "      <td>93</td>\n",
       "      <td>8</td>\n",
       "    </tr>\n",
       "    <tr>\n",
       "      <th>2</th>\n",
       "      <td>65</td>\n",
       "      <td>85</td>\n",
       "      <td>6</td>\n",
       "    </tr>\n",
       "    <tr>\n",
       "      <th>3</th>\n",
       "      <td>68</td>\n",
       "      <td>83</td>\n",
       "      <td>6</td>\n",
       "    </tr>\n",
       "    <tr>\n",
       "      <th>4</th>\n",
       "      <td>68</td>\n",
       "      <td>85</td>\n",
       "      <td>6</td>\n",
       "    </tr>\n",
       "  </tbody>\n",
       "</table>\n",
       "</div>"
      ],
      "text/plain": [
       "   x1   y1  cluster\n",
       "0  29  153        9\n",
       "1  61   93        8\n",
       "2  65   85        6\n",
       "3  68   83        6\n",
       "4  68   85        6"
      ]
     },
     "execution_count": 10,
     "metadata": {},
     "output_type": "execute_result"
    },
    {
     "data": {
      "image/png": "[encoded data removed]",
      "text/plain": [
       "<Figure size 432x288 with 1 Axes>"
      ]
     },
     "metadata": {
      "needs_background": "light"
     },
     "output_type": "display_data"
    }
   ],
   "source": [
    "day = 20150315\n",
    "frames = readData(day)\n",
    "pdata = pre_processing(frames[0])\n",
    "clusters = clust(pdata)\n",
    "clusters.head()"
   ]
  },
  {
   "cell_type": "markdown",
   "metadata": {},
   "source": [
    "### 1.5 Direction Relations"
   ]
  },
  {
   "cell_type": "markdown",
   "metadata": {},
   "source": [
    "To define direction relationships between the central points of each cloud and the radar, we use the directional relationship between the points. This approach has as its principle to relate the coordinates of the points and to verify the location between a reference point and a point to be measured. According (Papadias & Sellis, 1994), there are nine possible ways to place a primary point relative to a reference point in the plane, and thus nine disjoint relationships between coordinate pairs that provide complete object coverage.\n",
    "\n",
    "<img src=\"img/direction_relations.png\" align=\"center\" alt=\"Drawing\" style=\"width: 800px;\">"
   ]
  },
  {
   "cell_type": "code",
   "execution_count": 12,
   "metadata": {
    "ExecuteTime": {
     "end_time": "2019-09-05T14:14:53.147143Z",
     "start_time": "2019-09-05T14:14:53.131716Z"
    }
   },
   "outputs": [],
   "source": [
    "def tRelation(p,q):\n",
    "\n",
    "    north_west       =  p[1] <  q[1] and  p[0] >  q[0] \n",
    "    restricted_north =  p[1] == q[1] and  p[0] >  q[0]\n",
    "    north_east       =  p[1] >  q[1] and  p[0] >  q[0]\n",
    "    restricted_west  =  p[1] <  q[1] and  p[0] == q[0]\n",
    "    same_position    =  p[1] == q[1] and  p[0] == q[0]\n",
    "    restricted_east  =  p[1] >  q[1] and  p[0] == q[0]\n",
    "    south_west       =  p[1] <  q[1] and  p[0] <  q[0]\n",
    "    restricted_south =  p[1] == q[1] and  p[0] <  q[0] \n",
    "    south_est        =  p[1] >  q[1] and  p[0] <  q[0]\n",
    "\n",
    "    if north_west == True:\n",
    "        return ('NW')\n",
    "    if restricted_north == True:\n",
    "        return ('RN')\n",
    "    if north_east == True:\n",
    "        return ('NE')\n",
    "    if restricted_west == True:\n",
    "        return ('RW')\n",
    "    if same_position == True:\n",
    "        return('SP')\n",
    "    if restricted_east == True:\n",
    "        return ('RE')\n",
    "    if south_west == True:\n",
    "        return ('SW')\n",
    "    if restricted_south == True:\n",
    "        return ('RS')\n",
    "    if south_est == True:\n",
    "        return ('SE')"
   ]
  },
  {
   "cell_type": "code",
   "execution_count": 13,
   "metadata": {
    "ExecuteTime": {
     "end_time": "2019-09-05T14:14:53.438338Z",
     "start_time": "2019-09-05T14:14:53.431641Z"
    }
   },
   "outputs": [
    {
     "name": "stdout",
     "output_type": "stream",
     "text": [
      "Point p is  NW  of the radar.\n"
     ]
    }
   ],
   "source": [
    "x1,y1 = -1.9451030492782593,-61.034568786621094      # p(POINT)\n",
    "r1,r2 = -3.148556, -59.992000                        # q(RADAR)\n",
    "p = (x1,y1)                                    #PONTO\n",
    "q = (r1,r2)                                    #RADAR\n",
    "\n",
    "print('Point p is ',tRelation(p,q),' of the radar.')"
   ]
  },
  {
   "cell_type": "markdown",
   "metadata": {},
   "source": [
    "### 1.6 Create Data Process"
   ]
  },
  {
   "cell_type": "code",
   "execution_count": 14,
   "metadata": {
    "ExecuteTime": {
     "end_time": "2019-09-05T14:14:55.438002Z",
     "start_time": "2019-09-05T14:14:55.416414Z"
    }
   },
   "outputs": [],
   "source": [
    "from geopy.distance import geodesic\n",
    "\n",
    "def createData(day,time,clusters,frames):\n",
    "    \n",
    "    ##Static Radar Coordinates Value for Topological relation\n",
    "    radar = (-3.148556, -59.992000)\n",
    "\n",
    "    if isinstance(clusters,pd.DataFrame):\n",
    "\n",
    "        FAM1 = pd.DataFrame(columns=['DATETIME',\n",
    "                                     'N_Cluster','ID_CLUS','LAT','LON','DIST','IND_X','IND_Y',\n",
    "                                     'T_RELATION','RAIN_FALL','DBz'])\n",
    "        \n",
    "        rfall = []\n",
    "        rlation = []\n",
    "        ddist = []\n",
    "\n",
    "        LAT_ = (lat[clusters['x1'],clusters['y1']])\n",
    "        LON_ = (lon[clusters['x1'],clusters['y1']])\n",
    "        \n",
    "        # Calculate distance\n",
    "        for i, row in clusters.iterrows():\n",
    "            pt =(str(LAT_[i])+','+str(LON_[i]))\n",
    "            d = (geodesic(radar, pt).kilometers)\n",
    "            ddist.append(d)\n",
    "\n",
    "        # Calculate relation\n",
    "        for i,row in clusters.iterrows():\n",
    "            rfall.append(frames[row['x1']][row['y1']])\n",
    "            r = tRelation((LAT_[i],LON_[i]),radar)\n",
    "            rlation.append(r)\n",
    "            \n",
    "        xds = xr.open_dataset(str(path)+str(day)+'/'+str(sorted(os.listdir(path+str(day)))[time]))\n",
    "        dtime = xds.start_time.values\n",
    "        \n",
    "        FAM1['IND_X'], FAM1['IND_Y'] = clusters['x1'].astype('int16'),clusters['y1'].astype('int16')\n",
    "        FAM1['LAT'],FAM1['LON'] = LAT_,LON_\n",
    "        FAM1['DIST'] = ddist\n",
    "        FAM1['N_Cluster'] = len(clusters['cluster'].unique())\n",
    "        FAM1['ID_CLUS'] = clusters['cluster']\n",
    "        FAM1['RAIN_FALL'] = rfall\n",
    "        FAM1['T_RELATION'] = rlation\n",
    "        FAM1['DBz'] =  10 * np.log10(200*FAM1['RAIN_FALL']**1.6)\n",
    "        FAM1['DATETIME'] = pd.to_datetime(dtime)\n",
    "        FAM1 = FAM1.set_index('DATETIME')\n",
    "        FAM1 = FAM1.sort_values('ID_CLUS')\n",
    "        \n",
    "    else:\n",
    "        return None\n",
    "\n",
    "    return FAM1"
   ]
  },
  {
   "cell_type": "code",
   "execution_count": 15,
   "metadata": {
    "ExecuteTime": {
     "end_time": "2019-09-05T14:14:56.502908Z",
     "start_time": "2019-09-05T14:14:56.389961Z"
    }
   },
   "outputs": [
    {
     "data": {
      "text/html": [
       "<div>\n",
       "<style scoped>\n",
       "    .dataframe tbody tr th:only-of-type {\n",
       "        vertical-align: middle;\n",
       "    }\n",
       "\n",
       "    .dataframe tbody tr th {\n",
       "        vertical-align: top;\n",
       "    }\n",
       "\n",
       "    .dataframe thead th {\n",
       "        text-align: right;\n",
       "    }\n",
       "</style>\n",
       "<table border=\"1\" class=\"dataframe\">\n",
       "  <thead>\n",
       "    <tr style=\"text-align: right;\">\n",
       "      <th></th>\n",
       "      <th>N_Cluster</th>\n",
       "      <th>ID_CLUS</th>\n",
       "      <th>LAT</th>\n",
       "      <th>LON</th>\n",
       "      <th>DIST</th>\n",
       "      <th>IND_X</th>\n",
       "      <th>IND_Y</th>\n",
       "      <th>T_RELATION</th>\n",
       "      <th>RAIN_FALL</th>\n",
       "      <th>DBz</th>\n",
       "    </tr>\n",
       "    <tr>\n",
       "      <th>DATETIME</th>\n",
       "      <th></th>\n",
       "      <th></th>\n",
       "      <th></th>\n",
       "      <th></th>\n",
       "      <th></th>\n",
       "      <th></th>\n",
       "      <th></th>\n",
       "      <th></th>\n",
       "      <th></th>\n",
       "      <th></th>\n",
       "    </tr>\n",
       "  </thead>\n",
       "  <tbody>\n",
       "    <tr>\n",
       "      <th>2015-03-15 19:36:07</th>\n",
       "      <td>10</td>\n",
       "      <td>0</td>\n",
       "      <td>-2.053311</td>\n",
       "      <td>-60.315582</td>\n",
       "      <td>126.341117</td>\n",
       "      <td>181</td>\n",
       "      <td>102</td>\n",
       "      <td>NW</td>\n",
       "      <td>24.186563</td>\n",
       "      <td>45.147487</td>\n",
       "    </tr>\n",
       "    <tr>\n",
       "      <th>2015-03-15 19:36:07</th>\n",
       "      <td>10</td>\n",
       "      <td>0</td>\n",
       "      <td>-2.071277</td>\n",
       "      <td>-60.315586</td>\n",
       "      <td>124.438096</td>\n",
       "      <td>180</td>\n",
       "      <td>102</td>\n",
       "      <td>NW</td>\n",
       "      <td>38.107693</td>\n",
       "      <td>48.306502</td>\n",
       "    </tr>\n",
       "    <tr>\n",
       "      <th>2015-03-15 19:36:07</th>\n",
       "      <td>10</td>\n",
       "      <td>0</td>\n",
       "      <td>-2.089233</td>\n",
       "      <td>-60.351543</td>\n",
       "      <td>123.771914</td>\n",
       "      <td>179</td>\n",
       "      <td>100</td>\n",
       "      <td>NW</td>\n",
       "      <td>22.198650</td>\n",
       "      <td>44.551525</td>\n",
       "    </tr>\n",
       "    <tr>\n",
       "      <th>2015-03-15 19:36:07</th>\n",
       "      <td>10</td>\n",
       "      <td>0</td>\n",
       "      <td>-2.089227</td>\n",
       "      <td>-60.369522</td>\n",
       "      <td>124.432741</td>\n",
       "      <td>179</td>\n",
       "      <td>99</td>\n",
       "      <td>NW</td>\n",
       "      <td>47.068428</td>\n",
       "      <td>49.773975</td>\n",
       "    </tr>\n",
       "    <tr>\n",
       "      <th>2015-03-15 19:36:07</th>\n",
       "      <td>10</td>\n",
       "      <td>0</td>\n",
       "      <td>-2.107210</td>\n",
       "      <td>-60.315594</td>\n",
       "      <td>120.640195</td>\n",
       "      <td>178</td>\n",
       "      <td>102</td>\n",
       "      <td>NW</td>\n",
       "      <td>24.531847</td>\n",
       "      <td>45.245984</td>\n",
       "    </tr>\n",
       "  </tbody>\n",
       "</table>\n",
       "</div>"
      ],
      "text/plain": [
       "                     N_Cluster  ID_CLUS       LAT        LON        DIST  \\\n",
       "DATETIME                                                                   \n",
       "2015-03-15 19:36:07         10        0 -2.053311 -60.315582  126.341117   \n",
       "2015-03-15 19:36:07         10        0 -2.071277 -60.315586  124.438096   \n",
       "2015-03-15 19:36:07         10        0 -2.089233 -60.351543  123.771914   \n",
       "2015-03-15 19:36:07         10        0 -2.089227 -60.369522  124.432741   \n",
       "2015-03-15 19:36:07         10        0 -2.107210 -60.315594  120.640195   \n",
       "\n",
       "                     IND_X  IND_Y T_RELATION  RAIN_FALL        DBz  \n",
       "DATETIME                                                            \n",
       "2015-03-15 19:36:07    181    102         NW  24.186563  45.147487  \n",
       "2015-03-15 19:36:07    180    102         NW  38.107693  48.306502  \n",
       "2015-03-15 19:36:07    179    100         NW  22.198650  44.551525  \n",
       "2015-03-15 19:36:07    179     99         NW  47.068428  49.773975  \n",
       "2015-03-15 19:36:07    178    102         NW  24.531847  45.245984  "
      ]
     },
     "execution_count": 15,
     "metadata": {},
     "output_type": "execute_result"
    }
   ],
   "source": [
    "day = 20150315\n",
    "time = 0\n",
    "frames = readData(day)\n",
    "pdata = pre_processing(frames[time])\n",
    "clusters = clust(pdata)\n",
    "cdata = createData(day,time,clusters,frames[time])\n",
    "cdata.head()"
   ]
  },
  {
   "cell_type": "markdown",
   "metadata": {},
   "source": [
    "### 1.7 Extract Centroid by Max RAIN_FALL value"
   ]
  },
  {
   "cell_type": "code",
   "execution_count": 16,
   "metadata": {
    "ExecuteTime": {
     "end_time": "2019-09-05T14:14:57.347291Z",
     "start_time": "2019-09-05T14:14:57.342843Z"
    },
    "code_folding": []
   },
   "outputs": [],
   "source": [
    "def centroidData(clus):\n",
    "    if isinstance(clus,pd.DataFrame):\n",
    "        centroid = pd.DataFrame()\n",
    "            \n",
    "        for i in range(clus['N_Cluster'].max()):\n",
    "            ct = clus.loc[clus['ID_CLUS'] == i ]\n",
    "            ct = ct.loc[ct['RAIN_FALL'] == ct['RAIN_FALL'].max()]\n",
    "            centroid = centroid.append(ct)\n",
    "    else:\n",
    "        return None\n",
    "    return centroid"
   ]
  },
  {
   "cell_type": "code",
   "execution_count": 17,
   "metadata": {
    "ExecuteTime": {
     "end_time": "2019-09-05T14:14:58.583793Z",
     "start_time": "2019-09-05T14:14:58.537177Z"
    }
   },
   "outputs": [
    {
     "data": {
      "text/html": [
       "<div>\n",
       "<style scoped>\n",
       "    .dataframe tbody tr th:only-of-type {\n",
       "        vertical-align: middle;\n",
       "    }\n",
       "\n",
       "    .dataframe tbody tr th {\n",
       "        vertical-align: top;\n",
       "    }\n",
       "\n",
       "    .dataframe thead th {\n",
       "        text-align: right;\n",
       "    }\n",
       "</style>\n",
       "<table border=\"1\" class=\"dataframe\">\n",
       "  <thead>\n",
       "    <tr style=\"text-align: right;\">\n",
       "      <th></th>\n",
       "      <th>N_Cluster</th>\n",
       "      <th>ID_CLUS</th>\n",
       "      <th>LAT</th>\n",
       "      <th>LON</th>\n",
       "      <th>DIST</th>\n",
       "      <th>IND_X</th>\n",
       "      <th>IND_Y</th>\n",
       "      <th>T_RELATION</th>\n",
       "      <th>RAIN_FALL</th>\n",
       "      <th>DBz</th>\n",
       "    </tr>\n",
       "    <tr>\n",
       "      <th>DATETIME</th>\n",
       "      <th></th>\n",
       "      <th></th>\n",
       "      <th></th>\n",
       "      <th></th>\n",
       "      <th></th>\n",
       "      <th></th>\n",
       "      <th></th>\n",
       "      <th></th>\n",
       "      <th></th>\n",
       "      <th></th>\n",
       "    </tr>\n",
       "  </thead>\n",
       "  <tbody>\n",
       "    <tr>\n",
       "      <th>2015-03-15 19:36:07</th>\n",
       "      <td>10</td>\n",
       "      <td>0</td>\n",
       "      <td>-2.053316</td>\n",
       "      <td>-60.297604</td>\n",
       "      <td>125.785790</td>\n",
       "      <td>181</td>\n",
       "      <td>103</td>\n",
       "      <td>NW</td>\n",
       "      <td>57.969902</td>\n",
       "      <td>51.221541</td>\n",
       "    </tr>\n",
       "    <tr>\n",
       "      <th>2015-03-15 19:36:07</th>\n",
       "      <td>10</td>\n",
       "      <td>1</td>\n",
       "      <td>-3.041441</td>\n",
       "      <td>-60.351833</td>\n",
       "      <td>41.715263</td>\n",
       "      <td>126</td>\n",
       "      <td>100</td>\n",
       "      <td>NW</td>\n",
       "      <td>38.685265</td>\n",
       "      <td>48.411029</td>\n",
       "    </tr>\n",
       "    <tr>\n",
       "      <th>2015-03-15 19:36:07</th>\n",
       "      <td>10</td>\n",
       "      <td>2</td>\n",
       "      <td>-3.993521</td>\n",
       "      <td>-60.604321</td>\n",
       "      <td>115.578278</td>\n",
       "      <td>73</td>\n",
       "      <td>86</td>\n",
       "      <td>SW</td>\n",
       "      <td>44.429810</td>\n",
       "      <td>49.373091</td>\n",
       "    </tr>\n",
       "    <tr>\n",
       "      <th>2015-03-15 19:36:07</th>\n",
       "      <td>10</td>\n",
       "      <td>3</td>\n",
       "      <td>-2.574210</td>\n",
       "      <td>-60.603462</td>\n",
       "      <td>93.033048</td>\n",
       "      <td>152</td>\n",
       "      <td>86</td>\n",
       "      <td>NW</td>\n",
       "      <td>43.270580</td>\n",
       "      <td>49.189383</td>\n",
       "    </tr>\n",
       "    <tr>\n",
       "      <th>2015-03-15 19:36:07</th>\n",
       "      <td>10</td>\n",
       "      <td>4</td>\n",
       "      <td>-2.682006</td>\n",
       "      <td>-60.603519</td>\n",
       "      <td>85.344329</td>\n",
       "      <td>146</td>\n",
       "      <td>86</td>\n",
       "      <td>NW</td>\n",
       "      <td>36.773357</td>\n",
       "      <td>48.058832</td>\n",
       "    </tr>\n",
       "  </tbody>\n",
       "</table>\n",
       "</div>"
      ],
      "text/plain": [
       "                     N_Cluster  ID_CLUS       LAT        LON        DIST  \\\n",
       "DATETIME                                                                   \n",
       "2015-03-15 19:36:07         10        0 -2.053316 -60.297604  125.785790   \n",
       "2015-03-15 19:36:07         10        1 -3.041441 -60.351833   41.715263   \n",
       "2015-03-15 19:36:07         10        2 -3.993521 -60.604321  115.578278   \n",
       "2015-03-15 19:36:07         10        3 -2.574210 -60.603462   93.033048   \n",
       "2015-03-15 19:36:07         10        4 -2.682006 -60.603519   85.344329   \n",
       "\n",
       "                     IND_X  IND_Y T_RELATION  RAIN_FALL        DBz  \n",
       "DATETIME                                                            \n",
       "2015-03-15 19:36:07    181    103         NW  57.969902  51.221541  \n",
       "2015-03-15 19:36:07    126    100         NW  38.685265  48.411029  \n",
       "2015-03-15 19:36:07     73     86         SW  44.429810  49.373091  \n",
       "2015-03-15 19:36:07    152     86         NW  43.270580  49.189383  \n",
       "2015-03-15 19:36:07    146     86         NW  36.773357  48.058832  "
      ]
     },
     "execution_count": 17,
     "metadata": {},
     "output_type": "execute_result"
    }
   ],
   "source": [
    "ct = centroidData(cdata)\n",
    "ct.head()"
   ]
  },
  {
   "cell_type": "markdown",
   "metadata": {},
   "source": [
    "### 1.8 Pre-processing Data"
   ]
  },
  {
   "cell_type": "code",
   "execution_count": 18,
   "metadata": {
    "ExecuteTime": {
     "end_time": "2019-09-05T14:15:13.367574Z",
     "start_time": "2019-09-05T14:15:13.362747Z"
    }
   },
   "outputs": [],
   "source": [
    "def run(day):\n",
    "    data = readData(day)\n",
    "    cent = pd.DataFrame()\n",
    "    dados = pd.DataFrame()\n",
    "    \n",
    "    for i in range(len(data)):\n",
    "        proc = pre_processing(data[i]) \n",
    "        cluster = clust(proc)\n",
    "             \n",
    "        if isinstance(cluster,pd.DataFrame):\n",
    "            clt = createData(day,i,cluster,data[i])\n",
    "            dados = dados.append(clt)\n",
    "            clt2 = centroidData(clt)\n",
    "            cent = cent.append(clt2)\n",
    "        else:\n",
    "            pass\n",
    "    dados.to_csv('output/cluster/fam_'+str(sorted(os.listdir(path+str(day)))[i][:-3])+'.csv')\n",
    "    cent.to_csv('output/centroids/centroid_'+str(sorted(os.listdir(path+str(day)))[i][:-3])+'.csv')\n",
    "    return cent"
   ]
  },
  {
   "cell_type": "markdown",
   "metadata": {},
   "source": [
    "###  1.9 Run process per Day"
   ]
  },
  {
   "cell_type": "code",
   "execution_count": 19,
   "metadata": {
    "ExecuteTime": {
     "end_time": "2019-09-05T14:15:25.820166Z",
     "start_time": "2019-09-05T14:15:25.536200Z"
    }
   },
   "outputs": [],
   "source": [
    "day = 20150315\n",
    "runner = run(day)"
   ]
  },
  {
   "cell_type": "code",
   "execution_count": null,
   "metadata": {
    "ExecuteTime": {
     "end_time": "2019-09-04T21:32:47.780901Z",
     "start_time": "2019-09-04T19:06:37.257969Z"
    }
   },
   "outputs": [],
   "source": [
    "path = 'data/radar/'\n",
    "\n",
    "for day in sorted(os.listdir(path)):\n",
    "    rodada = run(day)\n",
    "    rodada = None"
   ]
  },
  {
   "cell_type": "markdown",
   "metadata": {},
   "source": [
    "### 1.9.1 Plot Data"
   ]
  },
  {
   "cell_type": "code",
   "execution_count": 383,
   "metadata": {
    "ExecuteTime": {
     "end_time": "2019-09-05T18:40:58.845327Z",
     "start_time": "2019-09-05T18:40:57.000800Z"
    }
   },
   "outputs": [
    {
     "name": "stdout",
     "output_type": "stream",
     "text": [
      "-5.348556 -0.948556\n",
      "-62.192 -57.791999999999994\n"
     ]
    },
    {
     "data": {
      "image/png": "[encoded data removed]",
      "text/plain": [
       "<Figure size 1000x1000 with 2 Axes>"
      ]
     },
     "metadata": {
      "needs_background": "light"
     },
     "output_type": "display_data"
    }
   ],
   "source": [
    "day = 20150315\n",
    "plot(0,day)"
   ]
  },
  {
   "cell_type": "code",
   "execution_count": 382,
   "metadata": {
    "ExecuteTime": {
     "end_time": "2019-09-05T18:40:54.122943Z",
     "start_time": "2019-09-05T18:40:54.105422Z"
    }
   },
   "outputs": [],
   "source": [
    "import matplotlib.colors as mcolors\n",
    "from mpl_toolkits.basemap import Basemap\n",
    "from matplotlib import animation\n",
    "from matplotlib import markers\n",
    "\n",
    "def plot(frame,day):\n",
    "\n",
    "    data = readData(day)\n",
    "    proc = pre_processing(data[frame])\n",
    "    clt = clust(proc)\n",
    "\n",
    "    cdata = createData(day,frame,clt,data[frame])\n",
    "    centers = centroidData(cdata)\n",
    "\n",
    "    if centers is not None:\n",
    "        c_lat = centers['LAT']\n",
    "        c_lon = centers['LON']\n",
    "        \n",
    "        centroid = []\n",
    "        for i in range(centers['N_Cluster'].max()):\n",
    "            ct = centers.loc[centers['ID_CLUS'] == i ]\n",
    "#             ct = ct.loc[ct['RAIN_FALL'] == ct['RAIN_FALL'].max()]\n",
    "            centroid.append(ct) \n",
    "    else:\n",
    "        centroid = ''\n",
    "        \n",
    "    file = path+str(day)+'/'+str(sorted(os.listdir(path+str(day)))[frame])\n",
    "    xds = xr.open_dataset(file)\n",
    "    date_time = xds.start_time.data\n",
    "    date_time = pd.to_datetime(date_time)\n",
    "\n",
    "    my_coords = [-3.148556, -59.992000]     ## RADAR T1 SIPAM COORDS\n",
    "    zoom_scale = 2.2                        ## ZOOM SCALE\n",
    "\n",
    "    bbox = [my_coords[0]-zoom_scale,my_coords[0]+zoom_scale,\\\n",
    "             my_coords[1]-zoom_scale,my_coords[1]+zoom_scale]\n",
    "    \n",
    "    print(my_coords[0]-zoom_scale,my_coords[0]+zoom_scale)\n",
    "    print(my_coords[1]-zoom_scale,my_coords[1]+zoom_scale)\n",
    "\n",
    "\n",
    "    fig, axes = plt.subplots(nrows=1,ncols=1,figsize=(10,10),dpi=100)\n",
    "    label = 'Rain rate in ' + runit+ ''\n",
    "    title = 'SIPAM Manaus S-Band Radar :' + str(date_time)\n",
    "\n",
    "    # draw filled contours.\n",
    "    clevs = [0, 1, 2.5, 5, 7.5, 10, 15, 20, 30, 40,\n",
    "                 50, 70, 100]\n",
    "\n",
    "    cmap_data = [(1.0, 1.0, 1.0),\n",
    "                     (0.3137255012989044, 0.8156862854957581, 0.8156862854957581),\n",
    "                     (0.0, 1.0, 1.0),\n",
    "                     (0.0, 0.8784313797950745, 0.501960813999176),\n",
    "                     (0.0, 0.7529411911964417, 0.0),\n",
    "                     (0.501960813999176, 0.8784313797950745, 0.0),\n",
    "                     (1.0, 1.0, 0.0),\n",
    "                     (1.0, 0.6274510025978088, 0.0),\n",
    "                     (1.0, 0.0, 0.0),\n",
    "                     (1.0, 0.125490203499794, 0.501960813999176),\n",
    "                     (0.9411764740943909, 0.250980406999588, 1.0),\n",
    "                     (0.501960813999176, 0.125490203499794, 1.0),\n",
    "                     (0.250980406999588, 0.250980406999588, 1.0)]\n",
    "\n",
    "    cmap = mcolors.ListedColormap(cmap_data, 'precipitation')\n",
    "    norm = mcolors.BoundaryNorm(clevs, cmap.N)\n",
    "    ax = axes\n",
    "\n",
    "    m = Basemap(projection='merc',llcrnrlat=bbox[0],urcrnrlat=bbox[1],\\\n",
    "                    llcrnrlon=bbox[2],urcrnrlon=bbox[3],lat_ts=10,resolution='i')\n",
    "\n",
    "    ## PRECIPTACAO\n",
    "    xi, yi = m(lon, lat)\n",
    "    ## SIPAM RADAR\n",
    "    xm, ym = m(my_coords[1],my_coords[0])\n",
    "    radar = m.plot(xm,ym, marker='^',color='r', label='RADAR')\n",
    "\n",
    "    for cent in range(len(centroid)):\n",
    "        clat, clon, mm_f = centroid[cent]['LAT'].item(),centroid[cent]['LON'].item(),centroid[cent]['RAIN_FALL'].item()\n",
    "        #clat, clon, mm_f = centroid[1]['LAT'].item(),centroid[1]['LON'].item(),centroid[1]['RAIN_FALL'].item()\n",
    "        t3x,t3y = m(clon, clat)\n",
    "        m.plot(t3x,t3y, marker=markers.CARETDOWN, markersize=10, color='k')\n",
    "#         plt.annotate(str(mm_f)[0:5]+'mm/h', xy=(t3x,t3y),xytext=(t3x+12,t3y+12),rotation=45, size=10)\n",
    "\n",
    "    m.plot(xm,ym, label='Nº Clusters: ' +str(len(centroid)),marker=markers.CARETDOWN, color='k')\n",
    "\n",
    "    cs = m.pcolormesh(xi,yi,data[frame], cmap = cmap, norm = norm, ax=ax)\n",
    "\n",
    "    # # # # Add Grid Lines\n",
    "    m.drawparallels(np.arange(bbox[0],bbox[1],(bbox[1]-bbox[0])/5),labels=[1,0,0,0],rotation=45, size=(7))\n",
    "    m.drawmeridians(np.arange(bbox[2],bbox[3],(bbox[3]-bbox[2])/5),labels=[0,0,0,1],rotation=45, size=(7))\n",
    "    m.drawmapboundary(fill_color='gray')\n",
    "\n",
    "    m.readshapefile('./img/hidro/lineaire_1km', 'hidro10km', color='b', linewidth=1)\n",
    "    # # # # Add Colorbar\n",
    "    cbar = m.colorbar(cs, location='bottom', pad=\"10%\")\n",
    "    cbar.set_label(label)\n",
    "\n",
    "    # # # # # Add Title\n",
    "    plt.title(title)\n",
    "    plt.legend()\n",
    "    plt.ylabel('Longitude', labelpad=40)\n",
    "    plt.xlabel('Latitude', labelpad=60)\n",
    "\n",
    "    plt.savefig('radar_image/'+ sorted(os.listdir(path+str(day)))[frame]+'.png')\n",
    "\n",
    "    plt.show()"
   ]
  },
  {
   "cell_type": "code",
   "execution_count": null,
   "metadata": {
    "ExecuteTime": {
     "start_time": "2019-09-04T14:19:16.794Z"
    }
   },
   "outputs": [],
   "source": [
    "## CREATE ALL FIGS\n",
    "for i in range(len(frames)):\n",
    "    plot(i,day)"
   ]
  },
  {
   "cell_type": "markdown",
   "metadata": {},
   "source": [
    "### 3. Tracking"
   ]
  },
  {
   "cell_type": "code",
   "execution_count": 22,
   "metadata": {
    "ExecuteTime": {
     "end_time": "2019-09-05T14:15:47.150499Z",
     "start_time": "2019-09-05T14:15:47.146189Z"
    }
   },
   "outputs": [],
   "source": [
    "import glob\n",
    "from scipy.spatial.distance import cdist"
   ]
  },
  {
   "cell_type": "code",
   "execution_count": 23,
   "metadata": {
    "ExecuteTime": {
     "end_time": "2019-09-05T14:15:47.992823Z",
     "start_time": "2019-09-05T14:15:47.977534Z"
    }
   },
   "outputs": [],
   "source": [
    "l = [pd.read_csv(filename) for filename in sorted(glob.glob(\"output/centroids/*.csv\"))]\n",
    "dados = pd.concat(l, axis=0, sort=False)\n",
    "dados['DATETIME'] =  pd.to_datetime(dados['DATETIME'], format='%Y-%m-%d %H:%M:%S')\n",
    "dados = dados.set_index('DATETIME')\n",
    "dados.index = dados.index.map(lambda x: x.replace(second=0))\n",
    "\n",
    "freqtime = pd.date_range(start=dados.index.min(), end=dados.index.max(), freq='12T')\n",
    "\n",
    "time = []\n",
    "\n",
    "for i in range(len(freqtime)):\n",
    "    t = dados.loc[dados.index == freqtime[i]]\n",
    "    time.append(t)"
   ]
  },
  {
   "cell_type": "code",
   "execution_count": 24,
   "metadata": {
    "ExecuteTime": {
     "end_time": "2019-09-05T14:15:51.998949Z",
     "start_time": "2019-09-05T14:15:51.985897Z"
    }
   },
   "outputs": [],
   "source": [
    "def calcDist(t1,t2):\n",
    "    \n",
    "    if len(t1) == 0 or len(t2) == 0:\n",
    "        return None\n",
    "    \n",
    "    time1 = t1\n",
    "    time2 = t2\n",
    "\n",
    "    t1 = t1[['ID_CLUS','IND_X','IND_Y']]\n",
    "    t1_data = t1.values.tolist()\n",
    "\n",
    "    t2 = t2[['ID_CLUS','IND_X','IND_Y']]\n",
    "    t2_data = t2.values.tolist()\n",
    "\n",
    "    t1_ = pd.DataFrame(data=t1_data, columns=['T1', 'X', 'Y'])\n",
    "    t2_ = pd.DataFrame(data=t2_data, columns=['T2', 'X', 'Y'])\n",
    "\n",
    "    mask = cdist(t2_[['X', 'Y']].values, t1_[['X', 'Y']].values,'euclidean') < 5\n",
    "\n",
    "    arr = []\n",
    "    def zone(x):\n",
    "        arr.append ( t1_[x].T1.values[0] if x.any() else np.nan)\n",
    "        \n",
    "    result = pd.DataFrame()\n",
    "    \n",
    "    np.apply_along_axis(zone, True, mask)\n",
    "    result['T1'] = arr\n",
    "    result['T2'] = t2_.T2.values\n",
    "\n",
    "    \n",
    "    result['START_TIME'] = t1.index[0]\n",
    "    result['END_TIME'] = t2.index[0]\n",
    "    result['X2'] = (t2.IND_X.values)\n",
    "    result['Y2'] = (t2.IND_Y.values)\n",
    "    result['LAT2'] = (time2.LAT.values)\n",
    "    result['LON2'] = (time2.LON.values)\n",
    "\n",
    "    x1,y1 = [],[]\n",
    "    lat1,lon1 = [],[]\n",
    "    lat2,lon2 = [],[]\n",
    "    dist = []\n",
    "\n",
    "    for i in range(len(arr)):\n",
    "        a = time1.loc[time1.ID_CLUS == arr[i]]\n",
    "        b = time2.loc[time2.ID_CLUS == arr[i]]\n",
    "        x1.append(a['IND_X'].values)\n",
    "        y1.append(a['IND_Y'].values)\n",
    "\n",
    "        lat1.append(a['LAT'].values)\n",
    "        lon1.append(a['LON'].values)\n",
    "\n",
    "    result['X1']= x1\n",
    "    result['Y1']= y1\n",
    "    result['LAT1'] = lat1\n",
    "    result['LON1'] = lon1\n",
    "\n",
    "    result['X1'] = result['X1'].str[0]\n",
    "    result['Y1'] = result['Y1'].str[0]\n",
    "    result['LAT1'] = result['LAT1'].str[0]\n",
    "    result['LON1'] = result['LON1'].str[0]\n",
    "    \n",
    "    result = result.sort_values('T1')\n",
    "    result = result.dropna()\n",
    "    result['T1'] = result['T1'].astype(int)\n",
    "    result['X1'] = result['X1'].astype(int)\n",
    "    result['Y1'] = result['Y1'].astype(int)\n",
    "    \n",
    "    dist,vel,rel = [],[],[]\n",
    "    \n",
    "    ## CALC DIST\n",
    "    for i,row in result.iterrows():\n",
    "        p1 = (str(row.LAT1)+','+str(row.LON1))\n",
    "        p2 = (str(row.LAT2)+','+str(row.LON2))\n",
    "        dist.append(geodesic(p1, p2).kilometers)\n",
    "        d1 = (row.LAT1,row.LON1)\n",
    "        d2 = (row.LAT2,row.LON2)\n",
    "        rel.append(tRelation(d1,d2))\n",
    "    \n",
    "    result['DIST'] = dist\n",
    "    result['REL'] = rel\n",
    "\n",
    "    ## CALV VEL\n",
    "    for i,row in result.iterrows():\n",
    "        vel.append(row.DIST/0.2)\n",
    "    result['VELM'] = vel\n",
    "    result = result[['START_TIME','END_TIME','T1','T2','X1','Y1','X2','Y2','LAT1','LON1','LAT2','LON2','DIST','VELM','REL']]\n",
    "\n",
    "    return result"
   ]
  },
  {
   "cell_type": "code",
   "execution_count": 25,
   "metadata": {
    "ExecuteTime": {
     "end_time": "2019-09-05T14:15:52.818499Z",
     "start_time": "2019-09-05T14:15:52.665253Z"
    }
   },
   "outputs": [],
   "source": [
    "track = pd.DataFrame()\n",
    "\n",
    "aux = []\n",
    "\n",
    "for i in range(len(time)):\n",
    "    if len(time[i]) > 0:\n",
    "        aux.append(i)\n",
    "for i in range(len(aux)-1):\n",
    "    track = track.append(calcDist(time[aux[i]],time[aux[i+1]]))"
   ]
  },
  {
   "cell_type": "code",
   "execution_count": 26,
   "metadata": {
    "ExecuteTime": {
     "end_time": "2019-09-05T14:15:53.452437Z",
     "start_time": "2019-09-05T14:15:53.440991Z"
    }
   },
   "outputs": [
    {
     "data": {
      "text/html": [
       "<div>\n",
       "<style scoped>\n",
       "    .dataframe tbody tr th:only-of-type {\n",
       "        vertical-align: middle;\n",
       "    }\n",
       "\n",
       "    .dataframe tbody tr th {\n",
       "        vertical-align: top;\n",
       "    }\n",
       "\n",
       "    .dataframe thead th {\n",
       "        text-align: right;\n",
       "    }\n",
       "</style>\n",
       "<table border=\"1\" class=\"dataframe\">\n",
       "  <thead>\n",
       "    <tr style=\"text-align: right;\">\n",
       "      <th></th>\n",
       "      <th>START_TIME</th>\n",
       "      <th>END_TIME</th>\n",
       "      <th>T1</th>\n",
       "      <th>T2</th>\n",
       "      <th>X1</th>\n",
       "      <th>Y1</th>\n",
       "      <th>X2</th>\n",
       "      <th>Y2</th>\n",
       "      <th>LAT1</th>\n",
       "      <th>LON1</th>\n",
       "      <th>LAT2</th>\n",
       "      <th>LON2</th>\n",
       "      <th>DIST</th>\n",
       "      <th>VELM</th>\n",
       "      <th>REL</th>\n",
       "    </tr>\n",
       "  </thead>\n",
       "  <tbody>\n",
       "    <tr>\n",
       "      <th>1</th>\n",
       "      <td>2015-03-15 19:36:00</td>\n",
       "      <td>2015-03-15 19:48:00</td>\n",
       "      <td>0</td>\n",
       "      <td>1</td>\n",
       "      <td>181</td>\n",
       "      <td>103</td>\n",
       "      <td>182</td>\n",
       "      <td>100</td>\n",
       "      <td>-2.053316</td>\n",
       "      <td>-60.297604</td>\n",
       "      <td>-2.035335</td>\n",
       "      <td>-60.351532</td>\n",
       "      <td>6.320334</td>\n",
       "      <td>31.601670</td>\n",
       "      <td>SE</td>\n",
       "    </tr>\n",
       "    <tr>\n",
       "      <th>0</th>\n",
       "      <td>2015-03-15 19:36:00</td>\n",
       "      <td>2015-03-15 19:48:00</td>\n",
       "      <td>3</td>\n",
       "      <td>0</td>\n",
       "      <td>152</td>\n",
       "      <td>86</td>\n",
       "      <td>151</td>\n",
       "      <td>83</td>\n",
       "      <td>-2.574210</td>\n",
       "      <td>-60.603462</td>\n",
       "      <td>-2.592145</td>\n",
       "      <td>-60.657425</td>\n",
       "      <td>6.320269</td>\n",
       "      <td>31.601345</td>\n",
       "      <td>NE</td>\n",
       "    </tr>\n",
       "    <tr>\n",
       "      <th>7</th>\n",
       "      <td>2015-03-15 19:36:00</td>\n",
       "      <td>2015-03-15 19:48:00</td>\n",
       "      <td>5</td>\n",
       "      <td>7</td>\n",
       "      <td>138</td>\n",
       "      <td>34</td>\n",
       "      <td>136</td>\n",
       "      <td>31</td>\n",
       "      <td>-2.824800</td>\n",
       "      <td>-61.538975</td>\n",
       "      <td>-2.860649</td>\n",
       "      <td>-61.592990</td>\n",
       "      <td>7.195905</td>\n",
       "      <td>35.979527</td>\n",
       "      <td>NE</td>\n",
       "    </tr>\n",
       "    <tr>\n",
       "      <th>9</th>\n",
       "      <td>2015-03-15 19:36:00</td>\n",
       "      <td>2015-03-15 19:48:00</td>\n",
       "      <td>6</td>\n",
       "      <td>9</td>\n",
       "      <td>65</td>\n",
       "      <td>85</td>\n",
       "      <td>64</td>\n",
       "      <td>85</td>\n",
       "      <td>-4.137237</td>\n",
       "      <td>-60.622433</td>\n",
       "      <td>-4.155203</td>\n",
       "      <td>-60.622448</td>\n",
       "      <td>1.986682</td>\n",
       "      <td>9.933412</td>\n",
       "      <td>NE</td>\n",
       "    </tr>\n",
       "    <tr>\n",
       "      <th>3</th>\n",
       "      <td>2015-03-15 19:36:00</td>\n",
       "      <td>2015-03-15 19:48:00</td>\n",
       "      <td>8</td>\n",
       "      <td>3</td>\n",
       "      <td>61</td>\n",
       "      <td>93</td>\n",
       "      <td>61</td>\n",
       "      <td>91</td>\n",
       "      <td>-4.209187</td>\n",
       "      <td>-60.478374</td>\n",
       "      <td>-4.209167</td>\n",
       "      <td>-60.514404</td>\n",
       "      <td>4.000096</td>\n",
       "      <td>20.000478</td>\n",
       "      <td>SE</td>\n",
       "    </tr>\n",
       "  </tbody>\n",
       "</table>\n",
       "</div>"
      ],
      "text/plain": [
       "           START_TIME            END_TIME  T1  T2   X1   Y1   X2   Y2  \\\n",
       "1 2015-03-15 19:36:00 2015-03-15 19:48:00   0   1  181  103  182  100   \n",
       "0 2015-03-15 19:36:00 2015-03-15 19:48:00   3   0  152   86  151   83   \n",
       "7 2015-03-15 19:36:00 2015-03-15 19:48:00   5   7  138   34  136   31   \n",
       "9 2015-03-15 19:36:00 2015-03-15 19:48:00   6   9   65   85   64   85   \n",
       "3 2015-03-15 19:36:00 2015-03-15 19:48:00   8   3   61   93   61   91   \n",
       "\n",
       "       LAT1       LON1      LAT2       LON2      DIST       VELM REL  \n",
       "1 -2.053316 -60.297604 -2.035335 -60.351532  6.320334  31.601670  SE  \n",
       "0 -2.574210 -60.603462 -2.592145 -60.657425  6.320269  31.601345  NE  \n",
       "7 -2.824800 -61.538975 -2.860649 -61.592990  7.195905  35.979527  NE  \n",
       "9 -4.137237 -60.622433 -4.155203 -60.622448  1.986682   9.933412  NE  \n",
       "3 -4.209187 -60.478374 -4.209167 -60.514404  4.000096  20.000478  SE  "
      ]
     },
     "execution_count": 26,
     "metadata": {},
     "output_type": "execute_result"
    }
   ],
   "source": [
    "track.head()"
   ]
  },
  {
   "cell_type": "code",
   "execution_count": null,
   "metadata": {
    "ExecuteTime": {
     "end_time": "2019-09-05T13:47:02.359333Z",
     "start_time": "2019-09-05T13:47:02.353010Z"
    }
   },
   "outputs": [],
   "source": [
    "track.to_csv('output/tracking/tracking.csv')"
   ]
  },
  {
   "cell_type": "markdown",
   "metadata": {},
   "source": [
    "### 3. Statistics and Results"
   ]
  },
  {
   "cell_type": "code",
   "execution_count": 27,
   "metadata": {
    "ExecuteTime": {
     "end_time": "2019-09-05T14:16:10.460358Z",
     "start_time": "2019-09-05T14:16:10.241874Z"
    }
   },
   "outputs": [],
   "source": [
    "import glob\n",
    "import pandas as pd\n",
    "from datetime import datetime\n",
    "import matplotlib.pyplot as plt\n",
    "import plotly.graph_objects as go\n",
    "import plotly.express as px\n",
    "import calendar\n",
    "\n",
    "import warnings\n",
    "warnings.simplefilter(action='ignore', category=FutureWarning)\n",
    "\n",
    "%matplotlib inline"
   ]
  },
  {
   "cell_type": "code",
   "execution_count": 28,
   "metadata": {
    "ExecuteTime": {
     "end_time": "2019-09-05T14:16:14.601696Z",
     "start_time": "2019-09-05T14:16:12.049759Z"
    }
   },
   "outputs": [],
   "source": [
    "l = [pd.read_csv(filename) for filename in sorted(glob.glob(\"output/centroids/*.csv\"))]\n",
    "dados = pd.concat(l, axis=0, sort=False)\n",
    "dados = dados.loc[:, ~dados.columns.str.contains('^Unnamed')]\n",
    "dados['DATETIME'] =  pd.to_datetime(dados['DATETIME'], format='%Y-%m-%d %H:%M:%S')\n",
    "dados = dados.set_index('DATETIME')"
   ]
  },
  {
   "cell_type": "code",
   "execution_count": 29,
   "metadata": {
    "ExecuteTime": {
     "end_time": "2019-09-05T14:16:15.924701Z",
     "start_time": "2019-09-05T14:16:15.521562Z"
    }
   },
   "outputs": [],
   "source": [
    "f = [pd.read_csv(filename) for filename in sorted(glob.glob(\"output/tracking/*.csv\"))]\n",
    "tr = pd.concat(f, axis=0, sort=False)\n",
    "tr = tr.loc[:, ~tr.columns.str.contains('^Unnamed')]\n",
    "tr['START_TIME'] =  pd.to_datetime(tr['START_TIME'], format='%Y-%m-%d %H:%M:%S')\n",
    "tr['END_TIME'] =  pd.to_datetime(tr['END_TIME'], format='%Y-%m-%d %H:%M:%S')\n",
    "tr = tr.set_index('START_TIME')"
   ]
  },
  {
   "cell_type": "code",
   "execution_count": 30,
   "metadata": {
    "ExecuteTime": {
     "end_time": "2019-09-05T14:16:16.419733Z",
     "start_time": "2019-09-05T14:16:16.392958Z"
    }
   },
   "outputs": [
    {
     "data": {
      "text/html": [
       "<div>\n",
       "<style scoped>\n",
       "    .dataframe tbody tr th:only-of-type {\n",
       "        vertical-align: middle;\n",
       "    }\n",
       "\n",
       "    .dataframe tbody tr th {\n",
       "        vertical-align: top;\n",
       "    }\n",
       "\n",
       "    .dataframe thead th {\n",
       "        text-align: right;\n",
       "    }\n",
       "</style>\n",
       "<table border=\"1\" class=\"dataframe\">\n",
       "  <thead>\n",
       "    <tr style=\"text-align: right;\">\n",
       "      <th></th>\n",
       "      <th>N_Cluster</th>\n",
       "      <th>ID_CLUS</th>\n",
       "      <th>LAT</th>\n",
       "      <th>LON</th>\n",
       "      <th>DIST</th>\n",
       "      <th>IND_X</th>\n",
       "      <th>IND_Y</th>\n",
       "      <th>T_RELATION</th>\n",
       "      <th>RAIN_FALL</th>\n",
       "      <th>DBz</th>\n",
       "    </tr>\n",
       "    <tr>\n",
       "      <th>DATETIME</th>\n",
       "      <th></th>\n",
       "      <th></th>\n",
       "      <th></th>\n",
       "      <th></th>\n",
       "      <th></th>\n",
       "      <th></th>\n",
       "      <th></th>\n",
       "      <th></th>\n",
       "      <th></th>\n",
       "      <th></th>\n",
       "    </tr>\n",
       "  </thead>\n",
       "  <tbody>\n",
       "    <tr>\n",
       "      <th>2014-01-03 15:48:11</th>\n",
       "      <td>5.0</td>\n",
       "      <td>0.0</td>\n",
       "      <td>-4.712206</td>\n",
       "      <td>-59.451252</td>\n",
       "      <td>183.039558</td>\n",
       "      <td>33.0</td>\n",
       "      <td>150.0</td>\n",
       "      <td>SE</td>\n",
       "      <td>41.290218</td>\n",
       "      <td>48.863855</td>\n",
       "    </tr>\n",
       "    <tr>\n",
       "      <th>2014-01-03 15:48:11</th>\n",
       "      <td>5.0</td>\n",
       "      <td>1.0</td>\n",
       "      <td>-4.460711</td>\n",
       "      <td>-60.478523</td>\n",
       "      <td>154.833679</td>\n",
       "      <td>47.0</td>\n",
       "      <td>93.0</td>\n",
       "      <td>SW</td>\n",
       "      <td>36.253693</td>\n",
       "      <td>47.959936</td>\n",
       "    </tr>\n",
       "    <tr>\n",
       "      <th>2014-01-03 15:48:11</th>\n",
       "      <td>5.0</td>\n",
       "      <td>2.0</td>\n",
       "      <td>-4.047174</td>\n",
       "      <td>-59.073467</td>\n",
       "      <td>142.436170</td>\n",
       "      <td>70.0</td>\n",
       "      <td>171.0</td>\n",
       "      <td>SE</td>\n",
       "      <td>33.759628</td>\n",
       "      <td>47.464662</td>\n",
       "    </tr>\n",
       "    <tr>\n",
       "      <th>2014-01-03 15:48:11</th>\n",
       "      <td>5.0</td>\n",
       "      <td>3.0</td>\n",
       "      <td>-3.921415</td>\n",
       "      <td>-59.073597</td>\n",
       "      <td>133.102530</td>\n",
       "      <td>77.0</td>\n",
       "      <td>171.0</td>\n",
       "      <td>SE</td>\n",
       "      <td>23.575794</td>\n",
       "      <td>44.969761</td>\n",
       "    </tr>\n",
       "    <tr>\n",
       "      <th>2014-01-03 15:48:11</th>\n",
       "      <td>5.0</td>\n",
       "      <td>4.0</td>\n",
       "      <td>-4.280689</td>\n",
       "      <td>-59.037186</td>\n",
       "      <td>164.080874</td>\n",
       "      <td>57.0</td>\n",
       "      <td>173.0</td>\n",
       "      <td>SE</td>\n",
       "      <td>22.211754</td>\n",
       "      <td>44.555626</td>\n",
       "    </tr>\n",
       "  </tbody>\n",
       "</table>\n",
       "</div>"
      ],
      "text/plain": [
       "                     N_Cluster  ID_CLUS       LAT        LON        DIST  \\\n",
       "DATETIME                                                                   \n",
       "2014-01-03 15:48:11        5.0      0.0 -4.712206 -59.451252  183.039558   \n",
       "2014-01-03 15:48:11        5.0      1.0 -4.460711 -60.478523  154.833679   \n",
       "2014-01-03 15:48:11        5.0      2.0 -4.047174 -59.073467  142.436170   \n",
       "2014-01-03 15:48:11        5.0      3.0 -3.921415 -59.073597  133.102530   \n",
       "2014-01-03 15:48:11        5.0      4.0 -4.280689 -59.037186  164.080874   \n",
       "\n",
       "                     IND_X  IND_Y T_RELATION  RAIN_FALL        DBz  \n",
       "DATETIME                                                            \n",
       "2014-01-03 15:48:11   33.0  150.0         SE  41.290218  48.863855  \n",
       "2014-01-03 15:48:11   47.0   93.0         SW  36.253693  47.959936  \n",
       "2014-01-03 15:48:11   70.0  171.0         SE  33.759628  47.464662  \n",
       "2014-01-03 15:48:11   77.0  171.0         SE  23.575794  44.969761  \n",
       "2014-01-03 15:48:11   57.0  173.0         SE  22.211754  44.555626  "
      ]
     },
     "execution_count": 30,
     "metadata": {},
     "output_type": "execute_result"
    }
   ],
   "source": [
    "dados.head()"
   ]
  },
  {
   "cell_type": "code",
   "execution_count": 31,
   "metadata": {
    "ExecuteTime": {
     "end_time": "2019-09-05T14:16:16.948979Z",
     "start_time": "2019-09-05T14:16:16.919343Z"
    }
   },
   "outputs": [
    {
     "data": {
      "text/html": [
       "<div>\n",
       "<style scoped>\n",
       "    .dataframe tbody tr th:only-of-type {\n",
       "        vertical-align: middle;\n",
       "    }\n",
       "\n",
       "    .dataframe tbody tr th {\n",
       "        vertical-align: top;\n",
       "    }\n",
       "\n",
       "    .dataframe thead th {\n",
       "        text-align: right;\n",
       "    }\n",
       "</style>\n",
       "<table border=\"1\" class=\"dataframe\">\n",
       "  <thead>\n",
       "    <tr style=\"text-align: right;\">\n",
       "      <th></th>\n",
       "      <th>END_TIME</th>\n",
       "      <th>T1</th>\n",
       "      <th>T2</th>\n",
       "      <th>X1</th>\n",
       "      <th>Y1</th>\n",
       "      <th>X2</th>\n",
       "      <th>Y2</th>\n",
       "      <th>LAT1</th>\n",
       "      <th>LON1</th>\n",
       "      <th>LAT2</th>\n",
       "      <th>LON2</th>\n",
       "      <th>DIST</th>\n",
       "      <th>VELM</th>\n",
       "      <th>REL</th>\n",
       "    </tr>\n",
       "    <tr>\n",
       "      <th>START_TIME</th>\n",
       "      <th></th>\n",
       "      <th></th>\n",
       "      <th></th>\n",
       "      <th></th>\n",
       "      <th></th>\n",
       "      <th></th>\n",
       "      <th></th>\n",
       "      <th></th>\n",
       "      <th></th>\n",
       "      <th></th>\n",
       "      <th></th>\n",
       "      <th></th>\n",
       "      <th></th>\n",
       "      <th></th>\n",
       "    </tr>\n",
       "  </thead>\n",
       "  <tbody>\n",
       "    <tr>\n",
       "      <th>2014-01-03 15:48:00</th>\n",
       "      <td>2014-01-03 16:00:00</td>\n",
       "      <td>0</td>\n",
       "      <td>0.0</td>\n",
       "      <td>33</td>\n",
       "      <td>150</td>\n",
       "      <td>32.0</td>\n",
       "      <td>146.0</td>\n",
       "      <td>-4.712206</td>\n",
       "      <td>-59.451252</td>\n",
       "      <td>-4.730213</td>\n",
       "      <td>-59.523340</td>\n",
       "      <td>8.241904</td>\n",
       "      <td>41.209518</td>\n",
       "      <td>NE</td>\n",
       "    </tr>\n",
       "    <tr>\n",
       "      <th>2014-01-03 15:48:00</th>\n",
       "      <td>2014-01-03 16:00:00</td>\n",
       "      <td>1</td>\n",
       "      <td>2.0</td>\n",
       "      <td>47</td>\n",
       "      <td>93</td>\n",
       "      <td>45.0</td>\n",
       "      <td>91.0</td>\n",
       "      <td>-4.460712</td>\n",
       "      <td>-60.478523</td>\n",
       "      <td>-4.496624</td>\n",
       "      <td>-60.514584</td>\n",
       "      <td>5.638058</td>\n",
       "      <td>28.190288</td>\n",
       "      <td>NE</td>\n",
       "    </tr>\n",
       "    <tr>\n",
       "      <th>2014-01-03 15:48:00</th>\n",
       "      <td>2014-01-03 16:00:00</td>\n",
       "      <td>2</td>\n",
       "      <td>1.0</td>\n",
       "      <td>70</td>\n",
       "      <td>171</td>\n",
       "      <td>67.0</td>\n",
       "      <td>169.0</td>\n",
       "      <td>-4.047174</td>\n",
       "      <td>-59.073467</td>\n",
       "      <td>-4.101104</td>\n",
       "      <td>-59.109432</td>\n",
       "      <td>7.177308</td>\n",
       "      <td>35.886538</td>\n",
       "      <td>NE</td>\n",
       "    </tr>\n",
       "    <tr>\n",
       "      <th>2014-01-03 15:48:00</th>\n",
       "      <td>2014-01-03 16:00:00</td>\n",
       "      <td>3</td>\n",
       "      <td>4.0</td>\n",
       "      <td>77</td>\n",
       "      <td>171</td>\n",
       "      <td>78.0</td>\n",
       "      <td>167.0</td>\n",
       "      <td>-3.921415</td>\n",
       "      <td>-59.073597</td>\n",
       "      <td>-3.903515</td>\n",
       "      <td>-59.145645</td>\n",
       "      <td>8.242960</td>\n",
       "      <td>41.214800</td>\n",
       "      <td>SE</td>\n",
       "    </tr>\n",
       "    <tr>\n",
       "      <th>2014-01-03 15:48:00</th>\n",
       "      <td>2014-01-03 16:00:00</td>\n",
       "      <td>4</td>\n",
       "      <td>6.0</td>\n",
       "      <td>57</td>\n",
       "      <td>173</td>\n",
       "      <td>61.0</td>\n",
       "      <td>171.0</td>\n",
       "      <td>-4.280689</td>\n",
       "      <td>-59.037186</td>\n",
       "      <td>-4.208863</td>\n",
       "      <td>-59.073290</td>\n",
       "      <td>8.896568</td>\n",
       "      <td>44.482842</td>\n",
       "      <td>SE</td>\n",
       "    </tr>\n",
       "  </tbody>\n",
       "</table>\n",
       "</div>"
      ],
      "text/plain": [
       "                               END_TIME  T1   T2  X1   Y1    X2     Y2  \\\n",
       "START_TIME                                                               \n",
       "2014-01-03 15:48:00 2014-01-03 16:00:00   0  0.0  33  150  32.0  146.0   \n",
       "2014-01-03 15:48:00 2014-01-03 16:00:00   1  2.0  47   93  45.0   91.0   \n",
       "2014-01-03 15:48:00 2014-01-03 16:00:00   2  1.0  70  171  67.0  169.0   \n",
       "2014-01-03 15:48:00 2014-01-03 16:00:00   3  4.0  77  171  78.0  167.0   \n",
       "2014-01-03 15:48:00 2014-01-03 16:00:00   4  6.0  57  173  61.0  171.0   \n",
       "\n",
       "                         LAT1       LON1      LAT2       LON2      DIST  \\\n",
       "START_TIME                                                                \n",
       "2014-01-03 15:48:00 -4.712206 -59.451252 -4.730213 -59.523340  8.241904   \n",
       "2014-01-03 15:48:00 -4.460712 -60.478523 -4.496624 -60.514584  5.638058   \n",
       "2014-01-03 15:48:00 -4.047174 -59.073467 -4.101104 -59.109432  7.177308   \n",
       "2014-01-03 15:48:00 -3.921415 -59.073597 -3.903515 -59.145645  8.242960   \n",
       "2014-01-03 15:48:00 -4.280689 -59.037186 -4.208863 -59.073290  8.896568   \n",
       "\n",
       "                          VELM REL  \n",
       "START_TIME                          \n",
       "2014-01-03 15:48:00  41.209518  NE  \n",
       "2014-01-03 15:48:00  28.190288  NE  \n",
       "2014-01-03 15:48:00  35.886538  NE  \n",
       "2014-01-03 15:48:00  41.214800  SE  \n",
       "2014-01-03 15:48:00  44.482842  SE  "
      ]
     },
     "execution_count": 31,
     "metadata": {},
     "output_type": "execute_result"
    }
   ],
   "source": [
    "tr.head()"
   ]
  },
  {
   "cell_type": "code",
   "execution_count": 32,
   "metadata": {
    "ExecuteTime": {
     "end_time": "2019-09-05T14:16:19.023210Z",
     "start_time": "2019-09-05T14:16:18.995005Z"
    }
   },
   "outputs": [],
   "source": [
    "tidy_data2014 = dados['2014']\n",
    "tidy_data2015 = dados['2015']\n",
    "tidy_trac2014 = tr['2014']\n",
    "tidy_trac2015 = tr['2015']"
   ]
  },
  {
   "cell_type": "markdown",
   "metadata": {},
   "source": [
    "#### OCORRÊNCIAS DE CLUSTERS"
   ]
  },
  {
   "cell_type": "code",
   "execution_count": 33,
   "metadata": {
    "ExecuteTime": {
     "end_time": "2019-09-05T14:16:21.505211Z",
     "start_time": "2019-09-05T14:16:21.161371Z"
    }
   },
   "outputs": [],
   "source": [
    "NCluster = tidy_data2014.resample('min').mean()\n",
    "NCluster = NCluster.dropna()\n",
    "NCluster = NCluster.resample('M')[['N_Cluster']].sum()\n",
    "\n",
    "NCluster5 = tidy_data2015.resample('min').mean()\n",
    "NCluster5 = NCluster5.dropna()\n",
    "NCluster5 = NCluster5.resample('M')[['N_Cluster']].sum()\n",
    "\n",
    "cdf2014 = pd.DataFrame({'date':NCluster.index, 'clusters':NCluster.values.ravel()})\n",
    "cdf2015 = pd.DataFrame({'date':NCluster5.index, 'clusters':NCluster5.values.ravel()})\n",
    "\n",
    "dt = tidy_trac2014.index.month.unique()\n",
    "dn = []\n",
    "for month_idx in dt.values:\n",
    "    dn.append(calendar.month_abbr[month_idx])"
   ]
  },
  {
   "cell_type": "code",
   "execution_count": 39,
   "metadata": {
    "ExecuteTime": {
     "end_time": "2019-09-05T14:18:24.453881Z",
     "start_time": "2019-09-05T14:18:24.289299Z"
    }
   },
   "outputs": [],
   "source": [
    "fig = go.Figure()\n",
    "fig.add_trace(go.Scatter(x=dn, y=cdf2014['clusters'], name=\"2014\",\n",
    "                         line_color='deepskyblue'))\n",
    "\n",
    "fig.add_trace(go.Scatter(x=dn, y=cdf2015['clusters'], name=\"2015\",\n",
    "                         line_color='dimgray'))\n",
    "\n",
    "\n",
    "fig.update_layout(\n",
    "    title=go.layout.Title(\n",
    "        text=\"Ocorrências de Clusters para os anos de 2014 e 2015\",\n",
    "        xref=\"paper\",\n",
    "        xanchor = \"auto\",\n",
    "        x=0,\n",
    "    ),\n",
    "    yaxis=go.layout.YAxis(\n",
    "        title=go.layout.yaxis.Title(\n",
    "            text=\"Número de clusters\",\n",
    "            font=dict(\n",
    "                family=\"Courier New, monospace\",\n",
    "                size=14,\n",
    "                color=\"#7f7f7f\"\n",
    "            )\n",
    "        )\n",
    "    )\n",
    ")\n",
    "fig.write_image(\"img/graficos/clus_num2014_2015.png\")"
   ]
  },
  {
   "cell_type": "markdown",
   "metadata": {},
   "source": [
    "<img src=\"img/graficos/clus_num2014_2015.png\" align=\"center\" alt=\"Drawing\" style=\"width: 800px;\">"
   ]
  },
  {
   "cell_type": "code",
   "execution_count": 40,
   "metadata": {
    "ExecuteTime": {
     "end_time": "2019-09-05T14:18:46.853026Z",
     "start_time": "2019-09-05T14:18:46.821322Z"
    }
   },
   "outputs": [],
   "source": [
    "VELOM14 = tidy_trac2014.resample('M')[['VELM']].mean()\n",
    "DISTM14 = tidy_trac2014.resample('M')[['DIST']].mean()\n",
    "VELOM15 = tidy_trac2015.resample('M')[['VELM']].mean()\n",
    "DISTM15 = tidy_trac2015.resample('M')[['DIST']].mean()"
   ]
  },
  {
   "cell_type": "code",
   "execution_count": 41,
   "metadata": {
    "ExecuteTime": {
     "end_time": "2019-09-05T14:19:03.806835Z",
     "start_time": "2019-09-05T14:19:03.639486Z"
    }
   },
   "outputs": [],
   "source": [
    "fig = go.Figure()\n",
    "fig.add_trace(go.Scatter(x=dn, y=VELOM14['VELM'], name=\"2014\",\n",
    "                         line_color='deepskyblue'))\n",
    "\n",
    "fig.add_trace(go.Scatter(x=dn, y=VELOM15['VELM'], name=\"2015\",\n",
    "                         line_color='dimgray'))\n",
    "\n",
    "\n",
    "fig.update_layout(\n",
    "    title=go.layout.Title(\n",
    "        text=\"Velocidade média dos clusters 2014 e 2015\",\n",
    "        xref=\"paper\",\n",
    "        xanchor = \"auto\",\n",
    "        x=0,\n",
    "    ),\n",
    "    yaxis=go.layout.YAxis(\n",
    "        title=go.layout.yaxis.Title(\n",
    "            text=\"Velocidade média mensal em km/h\",\n",
    "            font=dict(\n",
    "                family=\"Courier New, monospace\",\n",
    "                size=14,\n",
    "                color=\"#7f7f7f\"\n",
    "            )\n",
    "        )\n",
    "    )\n",
    ")\n",
    "fig.write_image(\"img/graficos/ve_med_2014_2015.png\")"
   ]
  },
  {
   "cell_type": "markdown",
   "metadata": {},
   "source": [
    "<img src=\"img/graficos/ve_med_2014_2015.png\" align=\"center\" alt=\"Drawing\" style=\"width: 800px;\">"
   ]
  },
  {
   "cell_type": "code",
   "execution_count": 42,
   "metadata": {
    "ExecuteTime": {
     "end_time": "2019-09-05T14:20:06.986075Z",
     "start_time": "2019-09-05T14:20:06.815493Z"
    }
   },
   "outputs": [],
   "source": [
    "fig = go.Figure()\n",
    "fig.add_trace(go.Scatter(x=dn, y=DISTM14['DIST'], name=\"2014\",\n",
    "                         line_color='deepskyblue'))\n",
    "\n",
    "fig.add_trace(go.Scatter(x=dn, y=DISTM15['DIST'], name=\"2015\",\n",
    "                         line_color='dimgray'))\n",
    "\n",
    "\n",
    "fig.update_layout(\n",
    "    title=go.layout.Title(\n",
    "        text=\"Distância média percorreida de clusters individuais 2014 e 2015\",\n",
    "        xref=\"paper\",\n",
    "        xanchor = \"auto\",\n",
    "        x=0,\n",
    "    ),\n",
    "    yaxis=go.layout.YAxis(\n",
    "        title=go.layout.yaxis.Title(\n",
    "            text=\"Distância média percorrida em metros\",\n",
    "            font=dict(\n",
    "                family=\"Courier New, monospace\",\n",
    "                size=14,\n",
    "                color=\"#7f7f7f\"\n",
    "            )\n",
    "        )\n",
    "    )\n",
    ")\n",
    "fig.write_image(\"img/graficos/dist_med_2014_2015.png\")"
   ]
  },
  {
   "cell_type": "markdown",
   "metadata": {},
   "source": [
    "<img src=\"img/graficos/dist_med_2014_2015.png\" align=\"center\" alt=\"Drawing\" style=\"width: 800px;\">"
   ]
  },
  {
   "cell_type": "markdown",
   "metadata": {},
   "source": [
    "#### PRECIPITACAO OCORRENCIAS"
   ]
  },
  {
   "cell_type": "code",
   "execution_count": 43,
   "metadata": {
    "ExecuteTime": {
     "end_time": "2019-09-05T14:20:45.201619Z",
     "start_time": "2019-09-05T14:20:44.865989Z"
    }
   },
   "outputs": [],
   "source": [
    "NRain = tidy_data2014.resample('min').mean()\n",
    "NRain = NRain.dropna()\n",
    "NRain = NRain.resample('MS')[['RAIN_FALL']].mean()\n",
    "\n",
    "NRain5 = tidy_data2015.resample('min').mean()\n",
    "NRain5 = NRain5.dropna()\n",
    "NRain5 = NRain5.resample('MS')[['RAIN_FALL']].mean()\n",
    "\n",
    "rdf2014 = pd.DataFrame({'date':NRain.index, 'clusters':NRain.values.ravel()})\n",
    "rdf2015 = pd.DataFrame({'date':NRain5.index, 'clusters':NRain5.values.ravel()})"
   ]
  },
  {
   "cell_type": "code",
   "execution_count": 44,
   "metadata": {
    "ExecuteTime": {
     "end_time": "2019-09-05T14:21:04.921077Z",
     "start_time": "2019-09-05T14:21:04.663230Z"
    }
   },
   "outputs": [],
   "source": [
    "fig = go.Figure()\n",
    "fig.add_trace(go.Scatter(x=dn, y=rdf2014['clusters'], name=\"2014\",\n",
    "                         line_color='deepskyblue'))\n",
    "\n",
    "fig.add_trace(go.Scatter(x=dn, y=rdf2015['clusters'], name=\"2015\",\n",
    "                         line_color='dimgray'))\n",
    "\n",
    "\n",
    "fig.update_layout(\n",
    "    title=go.layout.Title(\n",
    "        text=\"Precipitação média mensal de 2014 e 2015\",\n",
    "        xref=\"paper\",\n",
    "        xanchor = \"auto\",\n",
    "        x=0,\n",
    "    ),\n",
    "    yaxis=go.layout.YAxis(\n",
    "        title=go.layout.yaxis.Title(\n",
    "            text=\"Precipitação média por clusters\",\n",
    "            font=dict(\n",
    "                family=\"Courier New, monospace\",\n",
    "                size=14,\n",
    "                color=\"#7f7f7f\"\n",
    "            )\n",
    "        )\n",
    "    )\n",
    ")\n",
    "fig.write_image(\"img/graficos/prec_med_2014_2015.png\")"
   ]
  },
  {
   "cell_type": "markdown",
   "metadata": {},
   "source": [
    "<img src=\"img/graficos/prec_med_2014_2015.png\" align=\"center\" alt=\"Drawing\" style=\"width: 800px;\">"
   ]
  },
  {
   "cell_type": "markdown",
   "metadata": {},
   "source": [
    "### RELACOES DIRECIONAIS"
   ]
  },
  {
   "cell_type": "code",
   "execution_count": 46,
   "metadata": {
    "ExecuteTime": {
     "end_time": "2019-09-05T14:22:25.413434Z",
     "start_time": "2019-09-05T14:22:25.018944Z"
    }
   },
   "outputs": [],
   "source": [
    "an2014 = tidy_data2014.resample('Y')['T_RELATION'].value_counts()\n",
    "\n",
    "df2014 = pd.DataFrame({'Relação':an2014.index.get_level_values('T_RELATION').values, 'Valores':an2014.values.ravel()})\n",
    "\n",
    "fig = px.bar(df2014, x='Relação', y='Valores', color='Relação', labels='Relação')\n",
    "fig.update_layout(title_text='Relações direcionais para o ano de 2014')\n",
    "fig.write_image(\"img/graficos/all_rel_dir_2014.png\")"
   ]
  },
  {
   "cell_type": "markdown",
   "metadata": {},
   "source": [
    "<img src=\"img/graficos/all_rel_dir_2014.png\" align=\"center\" alt=\"Drawing\" style=\"width: 600px;\">"
   ]
  },
  {
   "cell_type": "code",
   "execution_count": 47,
   "metadata": {
    "ExecuteTime": {
     "end_time": "2019-09-05T14:23:14.328933Z",
     "start_time": "2019-09-05T14:23:13.911546Z"
    }
   },
   "outputs": [],
   "source": [
    "an2015 = tidy_data2015.resample('Y')['T_RELATION'].value_counts()\n",
    "\n",
    "an2015 = pd.DataFrame({'Relação':an2015.index.get_level_values('T_RELATION').values, 'Valores':an2015.values.ravel()})\n",
    "\n",
    "fig = px.bar(an2015, x='Relação', y='Valores', color='Relação', labels='Relação')\n",
    "fig.update_layout(title_text='Relações direcionais para o ano de 2015')\n",
    "fig.write_image(\"img/graficos/all_rel_dir_2015.png\")"
   ]
  },
  {
   "cell_type": "markdown",
   "metadata": {},
   "source": [
    "<img src=\"img/graficos/all_rel_dir_2015.png\" align=\"center\" alt=\"Drawing\" style=\"width: 600px;\">"
   ]
  },
  {
   "cell_type": "code",
   "execution_count": 51,
   "metadata": {
    "ExecuteTime": {
     "end_time": "2019-09-05T14:25:03.783243Z",
     "start_time": "2019-09-05T14:25:03.633194Z"
    }
   },
   "outputs": [],
   "source": [
    "fig = go.Figure()\n",
    "fig.add_trace(go.Bar(\n",
    "    x=df2014['Relação'],\n",
    "    y=df2014['Valores'],\n",
    "    name='2014',\n",
    "    marker_color='indianred'\n",
    "))\n",
    "fig.add_trace(go.Bar(\n",
    "    x=an2015['Relação'],\n",
    "    y=an2015['Valores'],\n",
    "    name='2015',\n",
    "    marker_color='lightsalmon'\n",
    "))\n",
    "\n",
    "fig.update_layout(title_text='Relações direcionais para os anos 2015 2015', barmode='group')\n",
    "fig.write_image(\"img/graficos/rel_dir_20142015.png\")"
   ]
  },
  {
   "cell_type": "markdown",
   "metadata": {
    "ExecuteTime": {
     "end_time": "2019-09-05T14:24:15.342174Z",
     "start_time": "2019-09-05T14:24:15.336544Z"
    }
   },
   "source": [
    "<img src=\"img/graficos/rel_dir_20142015.png\" align=\"center\" alt=\"Drawing\" style=\"width: 600px;\">"
   ]
  },
  {
   "cell_type": "code",
   "execution_count": 52,
   "metadata": {
    "ExecuteTime": {
     "end_time": "2019-09-05T14:25:38.300268Z",
     "start_time": "2019-09-05T14:25:37.837384Z"
    }
   },
   "outputs": [],
   "source": [
    "men2014 = tidy_data2014.resample('MS')['T_RELATION'].value_counts()\n",
    "\n",
    "m2014 = pd.DataFrame({'Data': men2014.index.get_level_values('DATETIME').values.ravel(),\n",
    "                      'Relação':men2014.index.get_level_values('T_RELATION').values.ravel(),\n",
    "                      'Valores':men2014.values.ravel()})\n",
    "\n",
    "m2014['Data'] = pd.to_datetime(m2014['Data'])\n",
    "\n",
    "fig = px.bar(m2014, x='Data', y='Valores', color='Relação', labels='Relação',barmode='group')\n",
    "fig.update_layout(title_text='Relações direcionais para o ano de 2014', xaxis = go.layout.XAxis(\n",
    "   title=go.layout.xaxis.Title(text=\"Ano 2014\")))\n",
    "fig.write_image(\"img/graficos/rel_dir_2014.png\")"
   ]
  },
  {
   "cell_type": "markdown",
   "metadata": {},
   "source": [
    "<img src=\"img/graficos/rel_dir_2014.png\" align=\"center\" alt=\"Drawing\" style=\"width: 800px;\">"
   ]
  },
  {
   "cell_type": "code",
   "execution_count": 53,
   "metadata": {
    "ExecuteTime": {
     "end_time": "2019-09-05T14:26:31.964362Z",
     "start_time": "2019-09-05T14:26:31.615967Z"
    }
   },
   "outputs": [],
   "source": [
    "men2015 = tidy_data2015.resample('MS')['T_RELATION'].value_counts()\n",
    "\n",
    "m2015 = pd.DataFrame({'Data': men2015.index.get_level_values('DATETIME').values.ravel(),\n",
    "                      'Relação':men2015.index.get_level_values('T_RELATION').values.ravel(),\n",
    "                      'Valores':men2015.values.ravel()})\n",
    "\n",
    "m2015['Data'] = pd.to_datetime(m2015['Data'])\n",
    "\n",
    "fig = px.bar(m2015, x='Data', y='Valores', color='Relação', labels='Relação',barmode='group')\n",
    "fig.update_layout(title_text='Relações direcionais para o ano de 2015', xaxis = go.layout.XAxis(\n",
    "   title=go.layout.xaxis.Title(text=\"Ano 2015\")))\n",
    "fig.write_image(\"img/graficos/rel_dir_2015.png\")"
   ]
  },
  {
   "cell_type": "markdown",
   "metadata": {},
   "source": [
    "<img src=\"img/graficos/rel_dir_2015.png\" align=\"center\" alt=\"Drawing\" style=\"width: 800px;\">"
   ]
  },
  {
   "cell_type": "markdown",
   "metadata": {},
   "source": [
    "### FORTRACC"
   ]
  },
  {
   "cell_type": "code",
   "execution_count": 54,
   "metadata": {
    "ExecuteTime": {
     "end_time": "2019-09-05T14:26:56.856005Z",
     "start_time": "2019-09-05T14:26:56.853844Z"
    }
   },
   "outputs": [],
   "source": [
    "import glob\n",
    "from datetime import datetime\n",
    "import pandas as pd\n",
    "import plotly.graph_objects as go"
   ]
  },
  {
   "cell_type": "code",
   "execution_count": 55,
   "metadata": {
    "ExecuteTime": {
     "end_time": "2019-09-05T14:28:13.030628Z",
     "start_time": "2019-09-05T14:26:58.940134Z"
    }
   },
   "outputs": [],
   "source": [
    "f = [pd.read_csv(filename, delimiter=r\"\\s+\") for filename in sorted(glob.glob(\"output/fortracc/*.txt\"))]\n",
    "fortracc = pd.concat(f, axis=0, sort=False)"
   ]
  },
  {
   "cell_type": "code",
   "execution_count": 56,
   "metadata": {
    "ExecuteTime": {
     "end_time": "2019-09-05T14:28:45.267895Z",
     "start_time": "2019-09-05T14:28:45.250438Z"
    }
   },
   "outputs": [
    {
     "data": {
      "text/html": [
       "<div>\n",
       "<style scoped>\n",
       "    .dataframe tbody tr th:only-of-type {\n",
       "        vertical-align: middle;\n",
       "    }\n",
       "\n",
       "    .dataframe tbody tr th {\n",
       "        vertical-align: top;\n",
       "    }\n",
       "\n",
       "    .dataframe thead th {\n",
       "        text-align: right;\n",
       "    }\n",
       "</style>\n",
       "<table border=\"1\" class=\"dataframe\">\n",
       "  <thead>\n",
       "    <tr style=\"text-align: right;\">\n",
       "      <th></th>\n",
       "      <th>YEAR</th>\n",
       "      <th>MONTH</th>\n",
       "      <th>DAY</th>\n",
       "      <th>HOUR</th>\n",
       "      <th>MINUTE</th>\n",
       "      <th>N_Cluster</th>\n",
       "      <th>LON</th>\n",
       "      <th>LAT</th>\n",
       "      <th>IND_X</th>\n",
       "      <th>IND_Y</th>\n",
       "      <th>REFLECT</th>\n",
       "      <th>yyyyy_xx1</th>\n",
       "      <th>yyyyy_xx2</th>\n",
       "      <th>yyyyyyy_xx3</th>\n",
       "      <th>yyy_xx4</th>\n",
       "      <th>yyy_xx5</th>\n",
       "      <th>RIVER</th>\n",
       "      <th>CXE</th>\n",
       "      <th>PRECIPIT</th>\n",
       "      <th>VIL</th>\n",
       "    </tr>\n",
       "  </thead>\n",
       "  <tbody>\n",
       "    <tr>\n",
       "      <th>0</th>\n",
       "      <td>2014.0</td>\n",
       "      <td>3.0</td>\n",
       "      <td>1.0</td>\n",
       "      <td>0.0</td>\n",
       "      <td>0.0</td>\n",
       "      <td>2.0</td>\n",
       "      <td>-60.7314</td>\n",
       "      <td>-1.7289</td>\n",
       "      <td>83.0</td>\n",
       "      <td>49.0</td>\n",
       "      <td>21.2031</td>\n",
       "      <td>0.0</td>\n",
       "      <td>0.0</td>\n",
       "      <td>0.0</td>\n",
       "      <td>0.0</td>\n",
       "      <td>0.0</td>\n",
       "      <td>0.0</td>\n",
       "      <td>1.0</td>\n",
       "      <td>0.9477</td>\n",
       "      <td>0.1680</td>\n",
       "    </tr>\n",
       "    <tr>\n",
       "      <th>1</th>\n",
       "      <td>2014.0</td>\n",
       "      <td>3.0</td>\n",
       "      <td>1.0</td>\n",
       "      <td>0.0</td>\n",
       "      <td>0.0</td>\n",
       "      <td>2.0</td>\n",
       "      <td>-60.7914</td>\n",
       "      <td>-1.7489</td>\n",
       "      <td>80.0</td>\n",
       "      <td>50.0</td>\n",
       "      <td>20.9844</td>\n",
       "      <td>0.0</td>\n",
       "      <td>0.0</td>\n",
       "      <td>0.0</td>\n",
       "      <td>0.0</td>\n",
       "      <td>0.0</td>\n",
       "      <td>0.0</td>\n",
       "      <td>1.0</td>\n",
       "      <td>0.9164</td>\n",
       "      <td>0.2786</td>\n",
       "    </tr>\n",
       "    <tr>\n",
       "      <th>2</th>\n",
       "      <td>2014.0</td>\n",
       "      <td>3.0</td>\n",
       "      <td>1.0</td>\n",
       "      <td>0.0</td>\n",
       "      <td>0.0</td>\n",
       "      <td>2.0</td>\n",
       "      <td>-60.7714</td>\n",
       "      <td>-1.7489</td>\n",
       "      <td>81.0</td>\n",
       "      <td>50.0</td>\n",
       "      <td>21.7500</td>\n",
       "      <td>0.0</td>\n",
       "      <td>0.0</td>\n",
       "      <td>0.0</td>\n",
       "      <td>0.0</td>\n",
       "      <td>0.0</td>\n",
       "      <td>0.0</td>\n",
       "      <td>1.0</td>\n",
       "      <td>1.0306</td>\n",
       "      <td>0.2494</td>\n",
       "    </tr>\n",
       "    <tr>\n",
       "      <th>3</th>\n",
       "      <td>2014.0</td>\n",
       "      <td>3.0</td>\n",
       "      <td>1.0</td>\n",
       "      <td>0.0</td>\n",
       "      <td>0.0</td>\n",
       "      <td>2.0</td>\n",
       "      <td>-60.7514</td>\n",
       "      <td>-1.7489</td>\n",
       "      <td>82.0</td>\n",
       "      <td>50.0</td>\n",
       "      <td>21.2188</td>\n",
       "      <td>0.0</td>\n",
       "      <td>0.0</td>\n",
       "      <td>0.0</td>\n",
       "      <td>0.0</td>\n",
       "      <td>0.0</td>\n",
       "      <td>0.0</td>\n",
       "      <td>1.0</td>\n",
       "      <td>0.9499</td>\n",
       "      <td>0.2413</td>\n",
       "    </tr>\n",
       "    <tr>\n",
       "      <th>4</th>\n",
       "      <td>2014.0</td>\n",
       "      <td>3.0</td>\n",
       "      <td>1.0</td>\n",
       "      <td>0.0</td>\n",
       "      <td>0.0</td>\n",
       "      <td>2.0</td>\n",
       "      <td>-60.7314</td>\n",
       "      <td>-1.7489</td>\n",
       "      <td>83.0</td>\n",
       "      <td>50.0</td>\n",
       "      <td>21.4375</td>\n",
       "      <td>0.0</td>\n",
       "      <td>0.0</td>\n",
       "      <td>0.0</td>\n",
       "      <td>0.0</td>\n",
       "      <td>0.0</td>\n",
       "      <td>0.0</td>\n",
       "      <td>1.0</td>\n",
       "      <td>0.9824</td>\n",
       "      <td>0.1745</td>\n",
       "    </tr>\n",
       "  </tbody>\n",
       "</table>\n",
       "</div>"
      ],
      "text/plain": [
       "     YEAR  MONTH  DAY  HOUR  MINUTE  N_Cluster      LON     LAT  IND_X  IND_Y  \\\n",
       "0  2014.0    3.0  1.0   0.0     0.0        2.0 -60.7314 -1.7289   83.0   49.0   \n",
       "1  2014.0    3.0  1.0   0.0     0.0        2.0 -60.7914 -1.7489   80.0   50.0   \n",
       "2  2014.0    3.0  1.0   0.0     0.0        2.0 -60.7714 -1.7489   81.0   50.0   \n",
       "3  2014.0    3.0  1.0   0.0     0.0        2.0 -60.7514 -1.7489   82.0   50.0   \n",
       "4  2014.0    3.0  1.0   0.0     0.0        2.0 -60.7314 -1.7489   83.0   50.0   \n",
       "\n",
       "   REFLECT  yyyyy_xx1  yyyyy_xx2  yyyyyyy_xx3  yyy_xx4  yyy_xx5  RIVER  CXE  \\\n",
       "0  21.2031        0.0        0.0          0.0      0.0      0.0    0.0  1.0   \n",
       "1  20.9844        0.0        0.0          0.0      0.0      0.0    0.0  1.0   \n",
       "2  21.7500        0.0        0.0          0.0      0.0      0.0    0.0  1.0   \n",
       "3  21.2188        0.0        0.0          0.0      0.0      0.0    0.0  1.0   \n",
       "4  21.4375        0.0        0.0          0.0      0.0      0.0    0.0  1.0   \n",
       "\n",
       "   PRECIPIT     VIL  \n",
       "0    0.9477  0.1680  \n",
       "1    0.9164  0.2786  \n",
       "2    1.0306  0.2494  \n",
       "3    0.9499  0.2413  \n",
       "4    0.9824  0.1745  "
      ]
     },
     "execution_count": 56,
     "metadata": {},
     "output_type": "execute_result"
    }
   ],
   "source": [
    "fortracc.head()"
   ]
  },
  {
   "cell_type": "code",
   "execution_count": 57,
   "metadata": {
    "ExecuteTime": {
     "end_time": "2019-09-05T14:36:15.046001Z",
     "start_time": "2019-09-05T14:28:46.690197Z"
    }
   },
   "outputs": [],
   "source": [
    "## FOR 2015\n",
    "fdata = pd.DataFrame(columns=['YEAR','MONTH','DAY','HOUR','MINUTE','N_Cluster','REFLECT','PRECIPIT'])\n",
    "\n",
    "fdata['YEAR'] = fortracc['YEAR'].astype('int16')\n",
    "fdata['MONTH'] = fortracc['MONTH'].astype('int16')\n",
    "fdata['DAY'] = fortracc['DAY'].astype('int16')\n",
    "fdata['HOUR'] = fortracc['HOUR'].astype('int16')\n",
    "fdata['MINUTE'] = fortracc['MINUTE'].astype('int16')\n",
    "fdata['N_Cluster'] = fortracc['N_Cluster'].astype('int16')\n",
    "fdata['REFLECT'] = fortracc['REFLECT'].astype('float32')\n",
    "fdata['PRECIPIT'] = fortracc['PRECIPIT'].astype('float32')\n",
    "\n",
    "fdata['DATETIME'] = fdata.apply(lambda row: datetime(\n",
    "                              row['YEAR'], row['MONTH'], row['DAY'], row['HOUR'], row['MINUTE']), axis=1)\n",
    "\n",
    "fdata = fdata.drop(columns=['YEAR','MONTH','DAY','HOUR','MINUTE'])\n",
    "fdata = fdata.set_index('DATETIME')\n",
    "\n",
    "tidy_fortracc = fdata.sort_values(by='DATETIME')"
   ]
  },
  {
   "cell_type": "code",
   "execution_count": 58,
   "metadata": {
    "ExecuteTime": {
     "end_time": "2019-09-05T14:36:17.992060Z",
     "start_time": "2019-09-05T14:36:17.986075Z"
    }
   },
   "outputs": [
    {
     "data": {
      "text/html": [
       "<div>\n",
       "<style scoped>\n",
       "    .dataframe tbody tr th:only-of-type {\n",
       "        vertical-align: middle;\n",
       "    }\n",
       "\n",
       "    .dataframe tbody tr th {\n",
       "        vertical-align: top;\n",
       "    }\n",
       "\n",
       "    .dataframe thead th {\n",
       "        text-align: right;\n",
       "    }\n",
       "</style>\n",
       "<table border=\"1\" class=\"dataframe\">\n",
       "  <thead>\n",
       "    <tr style=\"text-align: right;\">\n",
       "      <th></th>\n",
       "      <th>N_Cluster</th>\n",
       "      <th>REFLECT</th>\n",
       "      <th>PRECIPIT</th>\n",
       "    </tr>\n",
       "    <tr>\n",
       "      <th>DATETIME</th>\n",
       "      <th></th>\n",
       "      <th></th>\n",
       "      <th></th>\n",
       "    </tr>\n",
       "  </thead>\n",
       "  <tbody>\n",
       "    <tr>\n",
       "      <th>2014-02-01</th>\n",
       "      <td>7</td>\n",
       "      <td>23.2656</td>\n",
       "      <td>1.9089</td>\n",
       "    </tr>\n",
       "    <tr>\n",
       "      <th>2014-02-01</th>\n",
       "      <td>10</td>\n",
       "      <td>22.1250</td>\n",
       "      <td>1.0917</td>\n",
       "    </tr>\n",
       "    <tr>\n",
       "      <th>2014-02-01</th>\n",
       "      <td>10</td>\n",
       "      <td>22.5312</td>\n",
       "      <td>1.1620</td>\n",
       "    </tr>\n",
       "    <tr>\n",
       "      <th>2014-02-01</th>\n",
       "      <td>10</td>\n",
       "      <td>25.2188</td>\n",
       "      <td>2.5921</td>\n",
       "    </tr>\n",
       "    <tr>\n",
       "      <th>2014-02-01</th>\n",
       "      <td>4</td>\n",
       "      <td>21.6719</td>\n",
       "      <td>1.4872</td>\n",
       "    </tr>\n",
       "  </tbody>\n",
       "</table>\n",
       "</div>"
      ],
      "text/plain": [
       "            N_Cluster  REFLECT  PRECIPIT\n",
       "DATETIME                                \n",
       "2014-02-01          7  23.2656    1.9089\n",
       "2014-02-01         10  22.1250    1.0917\n",
       "2014-02-01         10  22.5312    1.1620\n",
       "2014-02-01         10  25.2188    2.5921\n",
       "2014-02-01          4  21.6719    1.4872"
      ]
     },
     "execution_count": 58,
     "metadata": {},
     "output_type": "execute_result"
    }
   ],
   "source": [
    "tidy_fortracc.head()"
   ]
  },
  {
   "cell_type": "code",
   "execution_count": 59,
   "metadata": {
    "ExecuteTime": {
     "end_time": "2019-09-05T14:36:18.840941Z",
     "start_time": "2019-09-05T14:36:18.383668Z"
    }
   },
   "outputs": [],
   "source": [
    "FCluster = tidy_fortracc.resample('min').mean()\n",
    "FCluster = FCluster.dropna()\n",
    "FCluster = FCluster.resample('M')[['N_Cluster']].sum()\n",
    "\n",
    "FCluster2014 = pd.DataFrame({'date':FCluster.index, 'clusters':FCluster.values.ravel()})"
   ]
  },
  {
   "cell_type": "code",
   "execution_count": 60,
   "metadata": {
    "ExecuteTime": {
     "end_time": "2019-09-05T14:36:19.631737Z",
     "start_time": "2019-09-05T14:36:19.450458Z"
    }
   },
   "outputs": [],
   "source": [
    "fig = go.Figure()\n",
    "fig.add_trace(go.Scatter(x=dn, y=FCluster2014['clusters'], name=\"ForTraCC\",\n",
    "                         line_color='deepskyblue'))\n",
    "\n",
    "fig.add_trace(go.Scatter(x=dn, y=cdf2014['clusters'], name=\"MS 2014\",\n",
    "                         line_color='dimgray'))\n",
    "\n",
    "fig.add_trace(go.Scatter(x=dn, y=cdf2015['clusters'], name=\"MS 2015\",\n",
    "                         line_color='blueviolet'))\n",
    "\n",
    "\n",
    "fig.update_layout(\n",
    "    title=go.layout.Title(\n",
    "        text=\"Média mensal do número de Clusters\",\n",
    "        xref=\"paper\",\n",
    "        xanchor = \"auto\",\n",
    "        x=0,\n",
    "    ),\n",
    "    yaxis=go.layout.YAxis(\n",
    "        title=go.layout.yaxis.Title(\n",
    "            text=\"Número de Clusters\",\n",
    "            font=dict(\n",
    "                family=\"Courier New, monospace\",\n",
    "                size=14,\n",
    "                color=\"#7f7f7f\"\n",
    "            )\n",
    "        )\n",
    "    )\n",
    ")\n",
    "fig.write_image(\"img/graficos/fortracc.png\")"
   ]
  },
  {
   "cell_type": "markdown",
   "metadata": {},
   "source": [
    "<img src=\"img/graficos/fortracc.png\" align=\"center\" alt=\"Drawing\" style=\"width: 800px;\">"
   ]
  },
  {
   "cell_type": "markdown",
   "metadata": {},
   "source": [
    "### VISUALIZATION"
   ]
  },
  {
   "cell_type": "code",
   "execution_count": 340,
   "metadata": {
    "ExecuteTime": {
     "end_time": "2019-09-05T18:30:09.532740Z",
     "start_time": "2019-09-05T18:30:09.529452Z"
    }
   },
   "outputs": [],
   "source": [
    "import geopandas as gpd\n",
    "from shapely.geometry import Point, MultiPoint, LineString, shape\n",
    "from shapely import wkt"
   ]
  },
  {
   "cell_type": "code",
   "execution_count": 801,
   "metadata": {
    "ExecuteTime": {
     "end_time": "2019-09-05T21:51:27.453293Z",
     "start_time": "2019-09-05T21:51:27.439495Z"
    }
   },
   "outputs": [
    {
     "data": {
      "text/html": [
       "<div>\n",
       "<style scoped>\n",
       "    .dataframe tbody tr th:only-of-type {\n",
       "        vertical-align: middle;\n",
       "    }\n",
       "\n",
       "    .dataframe tbody tr th {\n",
       "        vertical-align: top;\n",
       "    }\n",
       "\n",
       "    .dataframe thead th {\n",
       "        text-align: right;\n",
       "    }\n",
       "</style>\n",
       "<table border=\"1\" class=\"dataframe\">\n",
       "  <thead>\n",
       "    <tr style=\"text-align: right;\">\n",
       "      <th></th>\n",
       "      <th>END_TIME</th>\n",
       "      <th>T1</th>\n",
       "      <th>T2</th>\n",
       "      <th>X1</th>\n",
       "      <th>Y1</th>\n",
       "      <th>X2</th>\n",
       "      <th>Y2</th>\n",
       "      <th>LAT1</th>\n",
       "      <th>LON1</th>\n",
       "      <th>LAT2</th>\n",
       "      <th>LON2</th>\n",
       "      <th>DIST</th>\n",
       "      <th>VELM</th>\n",
       "      <th>REL</th>\n",
       "    </tr>\n",
       "    <tr>\n",
       "      <th>START_TIME</th>\n",
       "      <th></th>\n",
       "      <th></th>\n",
       "      <th></th>\n",
       "      <th></th>\n",
       "      <th></th>\n",
       "      <th></th>\n",
       "      <th></th>\n",
       "      <th></th>\n",
       "      <th></th>\n",
       "      <th></th>\n",
       "      <th></th>\n",
       "      <th></th>\n",
       "      <th></th>\n",
       "      <th></th>\n",
       "    </tr>\n",
       "  </thead>\n",
       "  <tbody>\n",
       "    <tr>\n",
       "      <th>2014-01-03 15:48:00</th>\n",
       "      <td>2014-01-03 16:00:00</td>\n",
       "      <td>0</td>\n",
       "      <td>0.0</td>\n",
       "      <td>33</td>\n",
       "      <td>150</td>\n",
       "      <td>32.0</td>\n",
       "      <td>146.0</td>\n",
       "      <td>-4.712206</td>\n",
       "      <td>-59.451252</td>\n",
       "      <td>-4.730213</td>\n",
       "      <td>-59.523340</td>\n",
       "      <td>8.241904</td>\n",
       "      <td>41.209518</td>\n",
       "      <td>NE</td>\n",
       "    </tr>\n",
       "    <tr>\n",
       "      <th>2014-01-03 15:48:00</th>\n",
       "      <td>2014-01-03 16:00:00</td>\n",
       "      <td>1</td>\n",
       "      <td>2.0</td>\n",
       "      <td>47</td>\n",
       "      <td>93</td>\n",
       "      <td>45.0</td>\n",
       "      <td>91.0</td>\n",
       "      <td>-4.460712</td>\n",
       "      <td>-60.478523</td>\n",
       "      <td>-4.496624</td>\n",
       "      <td>-60.514584</td>\n",
       "      <td>5.638058</td>\n",
       "      <td>28.190288</td>\n",
       "      <td>NE</td>\n",
       "    </tr>\n",
       "    <tr>\n",
       "      <th>2014-01-03 15:48:00</th>\n",
       "      <td>2014-01-03 16:00:00</td>\n",
       "      <td>2</td>\n",
       "      <td>1.0</td>\n",
       "      <td>70</td>\n",
       "      <td>171</td>\n",
       "      <td>67.0</td>\n",
       "      <td>169.0</td>\n",
       "      <td>-4.047174</td>\n",
       "      <td>-59.073467</td>\n",
       "      <td>-4.101104</td>\n",
       "      <td>-59.109432</td>\n",
       "      <td>7.177308</td>\n",
       "      <td>35.886538</td>\n",
       "      <td>NE</td>\n",
       "    </tr>\n",
       "    <tr>\n",
       "      <th>2014-01-03 15:48:00</th>\n",
       "      <td>2014-01-03 16:00:00</td>\n",
       "      <td>3</td>\n",
       "      <td>4.0</td>\n",
       "      <td>77</td>\n",
       "      <td>171</td>\n",
       "      <td>78.0</td>\n",
       "      <td>167.0</td>\n",
       "      <td>-3.921415</td>\n",
       "      <td>-59.073597</td>\n",
       "      <td>-3.903515</td>\n",
       "      <td>-59.145645</td>\n",
       "      <td>8.242960</td>\n",
       "      <td>41.214800</td>\n",
       "      <td>SE</td>\n",
       "    </tr>\n",
       "    <tr>\n",
       "      <th>2014-01-03 15:48:00</th>\n",
       "      <td>2014-01-03 16:00:00</td>\n",
       "      <td>4</td>\n",
       "      <td>6.0</td>\n",
       "      <td>57</td>\n",
       "      <td>173</td>\n",
       "      <td>61.0</td>\n",
       "      <td>171.0</td>\n",
       "      <td>-4.280689</td>\n",
       "      <td>-59.037186</td>\n",
       "      <td>-4.208863</td>\n",
       "      <td>-59.073290</td>\n",
       "      <td>8.896568</td>\n",
       "      <td>44.482842</td>\n",
       "      <td>SE</td>\n",
       "    </tr>\n",
       "  </tbody>\n",
       "</table>\n",
       "</div>"
      ],
      "text/plain": [
       "                               END_TIME  T1   T2  X1   Y1    X2     Y2  \\\n",
       "START_TIME                                                               \n",
       "2014-01-03 15:48:00 2014-01-03 16:00:00   0  0.0  33  150  32.0  146.0   \n",
       "2014-01-03 15:48:00 2014-01-03 16:00:00   1  2.0  47   93  45.0   91.0   \n",
       "2014-01-03 15:48:00 2014-01-03 16:00:00   2  1.0  70  171  67.0  169.0   \n",
       "2014-01-03 15:48:00 2014-01-03 16:00:00   3  4.0  77  171  78.0  167.0   \n",
       "2014-01-03 15:48:00 2014-01-03 16:00:00   4  6.0  57  173  61.0  171.0   \n",
       "\n",
       "                         LAT1       LON1      LAT2       LON2      DIST  \\\n",
       "START_TIME                                                                \n",
       "2014-01-03 15:48:00 -4.712206 -59.451252 -4.730213 -59.523340  8.241904   \n",
       "2014-01-03 15:48:00 -4.460712 -60.478523 -4.496624 -60.514584  5.638058   \n",
       "2014-01-03 15:48:00 -4.047174 -59.073467 -4.101104 -59.109432  7.177308   \n",
       "2014-01-03 15:48:00 -3.921415 -59.073597 -3.903515 -59.145645  8.242960   \n",
       "2014-01-03 15:48:00 -4.280689 -59.037186 -4.208863 -59.073290  8.896568   \n",
       "\n",
       "                          VELM REL  \n",
       "START_TIME                          \n",
       "2014-01-03 15:48:00  41.209518  NE  \n",
       "2014-01-03 15:48:00  28.190288  NE  \n",
       "2014-01-03 15:48:00  35.886538  NE  \n",
       "2014-01-03 15:48:00  41.214800  SE  \n",
       "2014-01-03 15:48:00  44.482842  SE  "
      ]
     },
     "execution_count": 801,
     "metadata": {},
     "output_type": "execute_result"
    }
   ],
   "source": [
    "trk = tidy_trac2014['2014-01-03']\n",
    "trk.head()"
   ]
  },
  {
   "cell_type": "markdown",
   "metadata": {},
   "source": [
    "### Create geometry"
   ]
  },
  {
   "cell_type": "code",
   "execution_count": 803,
   "metadata": {
    "ExecuteTime": {
     "end_time": "2019-09-05T21:51:33.153788Z",
     "start_time": "2019-09-05T21:51:33.032483Z"
    }
   },
   "outputs": [],
   "source": [
    "lines = []\n",
    "points = []\n",
    "\n",
    "for i,row in trk.iterrows():\n",
    "    lines.append(LineString([Point(row.LON1, row.LAT1), Point(row.LON2, row.LAT2)]).wkt)\n",
    "    points.append(MultiPoint([Point(row.LON1,row.LAT1), Point(row.LON2, row.LAT2)]).wkt)"
   ]
  },
  {
   "cell_type": "code",
   "execution_count": 806,
   "metadata": {
    "ExecuteTime": {
     "end_time": "2019-09-05T21:54:41.969832Z",
     "start_time": "2019-09-05T21:54:41.843970Z"
    }
   },
   "outputs": [],
   "source": [
    "geo_lines = gpd.GeoDataFrame()\n",
    "geo_lines['DIST'] = trk['DIST']\n",
    "geo_lines['VELM'] = trk['VELM']\n",
    "geo_lines['geometry'] = lines\n",
    "geo_lines['geometry'] = geo_lines['geometry'].apply(wkt.loads)\n",
    "geo_lines.crs = {'init' :'epsg:4326'}\n",
    "geo_lines.to_file('shapefiles/lines.shp')\n",
    "\n",
    "geo_points = gpd.GeoDataFrame()\n",
    "geo_points['ID_1'] = trk['T1']\n",
    "geo_points['ID_2'] = trk['T2']\n",
    "geo_points['geometry'] = points\n",
    "geo_points['geometry'] = geo_points['geometry'].apply(wkt.loads)\n",
    "geo_points.crs = {'init' :'epsg:4326'}\n",
    "geo_points.to_file('shapefiles/points.shp')"
   ]
  },
  {
   "cell_type": "code",
   "execution_count": 689,
   "metadata": {
    "ExecuteTime": {
     "end_time": "2019-09-05T21:17:57.598378Z",
     "start_time": "2019-09-05T21:17:57.586902Z"
    }
   },
   "outputs": [
    {
     "data": {
      "text/html": [
       "<div>\n",
       "<style scoped>\n",
       "    .dataframe tbody tr th:only-of-type {\n",
       "        vertical-align: middle;\n",
       "    }\n",
       "\n",
       "    .dataframe tbody tr th {\n",
       "        vertical-align: top;\n",
       "    }\n",
       "\n",
       "    .dataframe thead th {\n",
       "        text-align: right;\n",
       "    }\n",
       "</style>\n",
       "<table border=\"1\" class=\"dataframe\">\n",
       "  <thead>\n",
       "    <tr style=\"text-align: right;\">\n",
       "      <th></th>\n",
       "      <th>DIST</th>\n",
       "      <th>VELM</th>\n",
       "      <th>geometry</th>\n",
       "    </tr>\n",
       "    <tr>\n",
       "      <th>START_TIME</th>\n",
       "      <th></th>\n",
       "      <th></th>\n",
       "      <th></th>\n",
       "    </tr>\n",
       "  </thead>\n",
       "  <tbody>\n",
       "    <tr>\n",
       "      <th>2014-01-03 15:48:00</th>\n",
       "      <td>8.241904</td>\n",
       "      <td>41.209518</td>\n",
       "      <td>LINESTRING (-59.451252 -4.712206, -59.52334000...</td>\n",
       "    </tr>\n",
       "    <tr>\n",
       "      <th>2014-01-03 15:48:00</th>\n",
       "      <td>5.638058</td>\n",
       "      <td>28.190288</td>\n",
       "      <td>LINESTRING (-60.478523 -4.4607115, -60.514584 ...</td>\n",
       "    </tr>\n",
       "    <tr>\n",
       "      <th>2014-01-03 15:48:00</th>\n",
       "      <td>7.177308</td>\n",
       "      <td>35.886538</td>\n",
       "      <td>LINESTRING (-59.073467 -4.0471735, -59.109432 ...</td>\n",
       "    </tr>\n",
       "    <tr>\n",
       "      <th>2014-01-03 15:48:00</th>\n",
       "      <td>8.242960</td>\n",
       "      <td>41.214800</td>\n",
       "      <td>LINESTRING (-59.073597 -3.9214149, -59.145645 ...</td>\n",
       "    </tr>\n",
       "    <tr>\n",
       "      <th>2014-01-03 15:48:00</th>\n",
       "      <td>8.896568</td>\n",
       "      <td>44.482842</td>\n",
       "      <td>LINESTRING (-59.037186 -4.2806892, -59.07329 -...</td>\n",
       "    </tr>\n",
       "  </tbody>\n",
       "</table>\n",
       "</div>"
      ],
      "text/plain": [
       "                         DIST       VELM  \\\n",
       "START_TIME                                 \n",
       "2014-01-03 15:48:00  8.241904  41.209518   \n",
       "2014-01-03 15:48:00  5.638058  28.190288   \n",
       "2014-01-03 15:48:00  7.177308  35.886538   \n",
       "2014-01-03 15:48:00  8.242960  41.214800   \n",
       "2014-01-03 15:48:00  8.896568  44.482842   \n",
       "\n",
       "                                                              geometry  \n",
       "START_TIME                                                              \n",
       "2014-01-03 15:48:00  LINESTRING (-59.451252 -4.712206, -59.52334000...  \n",
       "2014-01-03 15:48:00  LINESTRING (-60.478523 -4.4607115, -60.514584 ...  \n",
       "2014-01-03 15:48:00  LINESTRING (-59.073467 -4.0471735, -59.109432 ...  \n",
       "2014-01-03 15:48:00  LINESTRING (-59.073597 -3.9214149, -59.145645 ...  \n",
       "2014-01-03 15:48:00  LINESTRING (-59.037186 -4.2806892, -59.07329 -...  "
      ]
     },
     "execution_count": 689,
     "metadata": {},
     "output_type": "execute_result"
    }
   ],
   "source": [
    "geo_lines.head()"
   ]
  },
  {
   "cell_type": "code",
   "execution_count": 357,
   "metadata": {
    "ExecuteTime": {
     "end_time": "2019-09-05T18:34:52.923591Z",
     "start_time": "2019-09-05T18:34:52.912435Z"
    }
   },
   "outputs": [
    {
     "data": {
      "text/html": [
       "<div>\n",
       "<style scoped>\n",
       "    .dataframe tbody tr th:only-of-type {\n",
       "        vertical-align: middle;\n",
       "    }\n",
       "\n",
       "    .dataframe tbody tr th {\n",
       "        vertical-align: top;\n",
       "    }\n",
       "\n",
       "    .dataframe thead th {\n",
       "        text-align: right;\n",
       "    }\n",
       "</style>\n",
       "<table border=\"1\" class=\"dataframe\">\n",
       "  <thead>\n",
       "    <tr style=\"text-align: right;\">\n",
       "      <th></th>\n",
       "      <th>ID_1</th>\n",
       "      <th>ID_2</th>\n",
       "      <th>geometry</th>\n",
       "    </tr>\n",
       "    <tr>\n",
       "      <th>START_TIME</th>\n",
       "      <th></th>\n",
       "      <th></th>\n",
       "      <th></th>\n",
       "    </tr>\n",
       "  </thead>\n",
       "  <tbody>\n",
       "    <tr>\n",
       "      <th>2014-01-03 15:48:00</th>\n",
       "      <td>0</td>\n",
       "      <td>0.0</td>\n",
       "      <td>(POINT (-59.451252 -4.712206), POINT (-59.5233...</td>\n",
       "    </tr>\n",
       "    <tr>\n",
       "      <th>2014-01-03 15:48:00</th>\n",
       "      <td>1</td>\n",
       "      <td>2.0</td>\n",
       "      <td>(POINT (-60.478523 -4.4607115), POINT (-60.514...</td>\n",
       "    </tr>\n",
       "    <tr>\n",
       "      <th>2014-01-03 15:48:00</th>\n",
       "      <td>2</td>\n",
       "      <td>1.0</td>\n",
       "      <td>(POINT (-59.073467 -4.0471735), POINT (-59.109...</td>\n",
       "    </tr>\n",
       "    <tr>\n",
       "      <th>2014-01-03 15:48:00</th>\n",
       "      <td>3</td>\n",
       "      <td>4.0</td>\n",
       "      <td>(POINT (-59.073597 -3.9214149), POINT (-59.145...</td>\n",
       "    </tr>\n",
       "    <tr>\n",
       "      <th>2014-01-03 15:48:00</th>\n",
       "      <td>4</td>\n",
       "      <td>6.0</td>\n",
       "      <td>(POINT (-59.037186 -4.2806892), POINT (-59.073...</td>\n",
       "    </tr>\n",
       "  </tbody>\n",
       "</table>\n",
       "</div>"
      ],
      "text/plain": [
       "                     ID_1  ID_2  \\\n",
       "START_TIME                        \n",
       "2014-01-03 15:48:00     0   0.0   \n",
       "2014-01-03 15:48:00     1   2.0   \n",
       "2014-01-03 15:48:00     2   1.0   \n",
       "2014-01-03 15:48:00     3   4.0   \n",
       "2014-01-03 15:48:00     4   6.0   \n",
       "\n",
       "                                                              geometry  \n",
       "START_TIME                                                              \n",
       "2014-01-03 15:48:00  (POINT (-59.451252 -4.712206), POINT (-59.5233...  \n",
       "2014-01-03 15:48:00  (POINT (-60.478523 -4.4607115), POINT (-60.514...  \n",
       "2014-01-03 15:48:00  (POINT (-59.073467 -4.0471735), POINT (-59.109...  \n",
       "2014-01-03 15:48:00  (POINT (-59.073597 -3.9214149), POINT (-59.145...  \n",
       "2014-01-03 15:48:00  (POINT (-59.037186 -4.2806892), POINT (-59.073...  "
      ]
     },
     "execution_count": 357,
     "metadata": {},
     "output_type": "execute_result"
    }
   ],
   "source": [
    "geo_points.head()"
   ]
  },
  {
   "cell_type": "markdown",
   "metadata": {},
   "source": [
    "### Reading shapefile"
   ]
  },
  {
   "cell_type": "code",
   "execution_count": 797,
   "metadata": {
    "ExecuteTime": {
     "end_time": "2019-09-05T21:49:28.204871Z",
     "start_time": "2019-09-05T21:49:27.672716Z"
    }
   },
   "outputs": [
    {
     "data": {
      "image/png": "[encoded data removed]",
      "text/plain": [
       "<Figure size 1080x1080 with 1 Axes>"
      ]
     },
     "metadata": {
      "needs_background": "light"
     },
     "output_type": "display_data"
    }
   ],
   "source": [
    "fp = \"shapefiles/AM_Mun97_region/AM_Mun97_region.shp\"\n",
    "amazonas = gpd.read_file(fp)\n",
    "amazonas.crs = {'init' :'epsg:4326'}\n",
    "base = amazonas.plot(color='white', edgecolor='black', linewidth=0.2, figsize=(15, 15))\n",
    "base.set_ylim([-5.348556,-0.948556])\n",
    "base.set_xlim([-62.192,-57.7919999])\n",
    "\n",
    "lines = geo_lines.plot(ax=base)\n",
    "points = geo_points.plot(ax=base, marker='o')"
   ]
  },
  {
   "cell_type": "code",
   "execution_count": 787,
   "metadata": {
    "ExecuteTime": {
     "end_time": "2019-09-05T21:48:24.461515Z",
     "start_time": "2019-09-05T21:48:24.456811Z"
    }
   },
   "outputs": [],
   "source": [
    "import folium\n",
    "from collections import namedtuple"
   ]
  },
  {
   "cell_type": "code",
   "execution_count": 788,
   "metadata": {
    "ExecuteTime": {
     "end_time": "2019-09-05T21:48:25.677610Z",
     "start_time": "2019-09-05T21:48:25.672967Z"
    }
   },
   "outputs": [],
   "source": [
    "# using omaha coordinates       -3.148556, -59.992000\n",
    "center_lat = -3.148556\n",
    "center_lon = -59.992000"
   ]
  },
  {
   "cell_type": "code",
   "execution_count": 790,
   "metadata": {
    "ExecuteTime": {
     "end_time": "2019-09-05T21:48:40.026427Z",
     "start_time": "2019-09-05T21:48:39.904636Z"
    }
   },
   "outputs": [
    {
     "data": {
      "text/html": [
       "<div style=\"width:100%;\"><div style=\"position:relative;width:100%;height:0;padding-bottom:60%;\"><iframe src=\"data:text/html;charset=utf-8;base64,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\" style=\"position:absolute;width:100%;height:100%;left:0;top:0;border:none !important;\" allowfullscreen webkitallowfullscreen mozallowfullscreen></iframe></div></div>"
      ],
      "text/plain": [
       "<folium.folium.Map at 0x7f4f067305c0>"
      ]
     },
     "execution_count": 790,
     "metadata": {},
     "output_type": "execute_result"
    }
   ],
   "source": [
    "amazon = folium.Map(location=[center_lat, center_lon], zoom_start=8)\n",
    "lines = folium.features.GeoJson(geo_lines)\n",
    "amazon.add_children(lines)"
   ]
  },
  {
   "cell_type": "code",
   "execution_count": 744,
   "metadata": {
    "ExecuteTime": {
     "end_time": "2019-09-05T21:37:21.906518Z",
     "start_time": "2019-09-05T21:37:21.805095Z"
    }
   },
   "outputs": [
    {
     "data": {
      "text/html": [
       "<div>\n",
       "<style scoped>\n",
       "    .dataframe tbody tr th:only-of-type {\n",
       "        vertical-align: middle;\n",
       "    }\n",
       "\n",
       "    .dataframe tbody tr th {\n",
       "        vertical-align: top;\n",
       "    }\n",
       "\n",
       "    .dataframe thead th {\n",
       "        text-align: right;\n",
       "    }\n",
       "</style>\n",
       "<table border=\"1\" class=\"dataframe\">\n",
       "  <thead>\n",
       "    <tr style=\"text-align: right;\">\n",
       "      <th></th>\n",
       "      <th>CODMUN6</th>\n",
       "      <th>MUNIC_PIO</th>\n",
       "      <th>SEM_ACENTO</th>\n",
       "      <th>MUNIC_PI0</th>\n",
       "      <th>UF</th>\n",
       "      <th>UF_IBGE</th>\n",
       "      <th>REGI_O</th>\n",
       "      <th>MESO_IBGE</th>\n",
       "      <th>MESO_IBG0</th>\n",
       "      <th>MICRO_IBGE</th>\n",
       "      <th>...</th>\n",
       "      <th>MESO_IBG1</th>\n",
       "      <th>MICRO_IB1</th>\n",
       "      <th>AREA_97</th>\n",
       "      <th>SEDE</th>\n",
       "      <th>SEDE0</th>\n",
       "      <th>N91</th>\n",
       "      <th>N96</th>\n",
       "      <th>CODCOMP</th>\n",
       "      <th>geometry</th>\n",
       "      <th>number of points</th>\n",
       "    </tr>\n",
       "  </thead>\n",
       "  <tbody>\n",
       "    <tr>\n",
       "      <th>0</th>\n",
       "      <td>130020</td>\n",
       "      <td>ATALAIA DO NORTE</td>\n",
       "      <td>ATALAIA DO NORTE</td>\n",
       "      <td>1300201</td>\n",
       "      <td>AM</td>\n",
       "      <td>13</td>\n",
       "      <td>N</td>\n",
       "      <td>SUDOESTE AMAZONENSE</td>\n",
       "      <td>02</td>\n",
       "      <td>ALTO SOLIMOES</td>\n",
       "      <td>...</td>\n",
       "      <td>1302</td>\n",
       "      <td>130203</td>\n",
       "      <td>76355.390</td>\n",
       "      <td>-70.192</td>\n",
       "      <td>-4.372</td>\n",
       "      <td>8224.0</td>\n",
       "      <td>8108.0</td>\n",
       "      <td>130200300201</td>\n",
       "      <td>POLYGON ((-73.800781 -7.111809, -73.7995899999...</td>\n",
       "      <td>0</td>\n",
       "    </tr>\n",
       "    <tr>\n",
       "      <th>1</th>\n",
       "      <td>130165</td>\n",
       "      <td>GUAJARÁ</td>\n",
       "      <td>GUAJARA</td>\n",
       "      <td>1301654</td>\n",
       "      <td>AM</td>\n",
       "      <td>13</td>\n",
       "      <td>N</td>\n",
       "      <td>SUDOESTE AMAZONENSE</td>\n",
       "      <td>02</td>\n",
       "      <td>JURUA</td>\n",
       "      <td>...</td>\n",
       "      <td>1302</td>\n",
       "      <td>130204</td>\n",
       "      <td>8945.517</td>\n",
       "      <td>-72.584</td>\n",
       "      <td>-7.546</td>\n",
       "      <td>11714.0</td>\n",
       "      <td>10944.0</td>\n",
       "      <td>130200401654</td>\n",
       "      <td>POLYGON ((-73.741705 -7.143248, -73.740475 -7....</td>\n",
       "      <td>0</td>\n",
       "    </tr>\n",
       "    <tr>\n",
       "      <th>2</th>\n",
       "      <td>130180</td>\n",
       "      <td>IPIXUNA</td>\n",
       "      <td>IPIXUNA</td>\n",
       "      <td>1301803</td>\n",
       "      <td>AM</td>\n",
       "      <td>13</td>\n",
       "      <td>N</td>\n",
       "      <td>SUDOESTE AMAZONENSE</td>\n",
       "      <td>02</td>\n",
       "      <td>JURUA</td>\n",
       "      <td>...</td>\n",
       "      <td>1302</td>\n",
       "      <td>130204</td>\n",
       "      <td>13572.800</td>\n",
       "      <td>-71.695</td>\n",
       "      <td>-7.051</td>\n",
       "      <td>9837.0</td>\n",
       "      <td>11120.0</td>\n",
       "      <td>130200401803</td>\n",
       "      <td>POLYGON ((-72.18244799999999 -7.577473, -72.18...</td>\n",
       "      <td>0</td>\n",
       "    </tr>\n",
       "    <tr>\n",
       "      <th>3</th>\n",
       "      <td>130140</td>\n",
       "      <td>EIRUNEPÉ</td>\n",
       "      <td>EIRUNEPE</td>\n",
       "      <td>1301407</td>\n",
       "      <td>AM</td>\n",
       "      <td>13</td>\n",
       "      <td>N</td>\n",
       "      <td>SUDOESTE AMAZONENSE</td>\n",
       "      <td>02</td>\n",
       "      <td>JURUA</td>\n",
       "      <td>...</td>\n",
       "      <td>1302</td>\n",
       "      <td>130204</td>\n",
       "      <td>15878.120</td>\n",
       "      <td>-69.874</td>\n",
       "      <td>-6.660</td>\n",
       "      <td>21552.0</td>\n",
       "      <td>25776.0</td>\n",
       "      <td>130200401407</td>\n",
       "      <td>POLYGON ((-71.50966699999999 -7.880687, -71.50...</td>\n",
       "      <td>0</td>\n",
       "    </tr>\n",
       "    <tr>\n",
       "      <th>4</th>\n",
       "      <td>130060</td>\n",
       "      <td>BENJAMIN CONSTANT</td>\n",
       "      <td>BENJAMIN CONSTANT</td>\n",
       "      <td>1300607</td>\n",
       "      <td>AM</td>\n",
       "      <td>13</td>\n",
       "      <td>N</td>\n",
       "      <td>SUDOESTE AMAZONENSE</td>\n",
       "      <td>02</td>\n",
       "      <td>ALTO SOLIMOES</td>\n",
       "      <td>...</td>\n",
       "      <td>1302</td>\n",
       "      <td>130203</td>\n",
       "      <td>8704.716</td>\n",
       "      <td>-70.031</td>\n",
       "      <td>-4.383</td>\n",
       "      <td>19951.0</td>\n",
       "      <td>23633.0</td>\n",
       "      <td>130200300607</td>\n",
       "      <td>POLYGON ((-71.34350499999999 -6.680839, -71.34...</td>\n",
       "      <td>0</td>\n",
       "    </tr>\n",
       "  </tbody>\n",
       "</table>\n",
       "<p>5 rows × 21 columns</p>\n",
       "</div>"
      ],
      "text/plain": [
       "  CODMUN6          MUNIC_PIO         SEM_ACENTO MUNIC_PI0  UF UF_IBGE REGI_O  \\\n",
       "0  130020   ATALAIA DO NORTE   ATALAIA DO NORTE   1300201  AM      13      N   \n",
       "1  130165            GUAJARÁ            GUAJARA   1301654  AM      13      N   \n",
       "2  130180            IPIXUNA            IPIXUNA   1301803  AM      13      N   \n",
       "3  130140           EIRUNEPÉ           EIRUNEPE   1301407  AM      13      N   \n",
       "4  130060  BENJAMIN CONSTANT  BENJAMIN CONSTANT   1300607  AM      13      N   \n",
       "\n",
       "             MESO_IBGE MESO_IBG0     MICRO_IBGE  ... MESO_IBG1 MICRO_IB1  \\\n",
       "0  SUDOESTE AMAZONENSE        02  ALTO SOLIMOES  ...      1302    130203   \n",
       "1  SUDOESTE AMAZONENSE        02          JURUA  ...      1302    130204   \n",
       "2  SUDOESTE AMAZONENSE        02          JURUA  ...      1302    130204   \n",
       "3  SUDOESTE AMAZONENSE        02          JURUA  ...      1302    130204   \n",
       "4  SUDOESTE AMAZONENSE        02  ALTO SOLIMOES  ...      1302    130203   \n",
       "\n",
       "     AREA_97    SEDE  SEDE0      N91      N96       CODCOMP  \\\n",
       "0  76355.390 -70.192 -4.372   8224.0   8108.0  130200300201   \n",
       "1   8945.517 -72.584 -7.546  11714.0  10944.0  130200401654   \n",
       "2  13572.800 -71.695 -7.051   9837.0  11120.0  130200401803   \n",
       "3  15878.120 -69.874 -6.660  21552.0  25776.0  130200401407   \n",
       "4   8704.716 -70.031 -4.383  19951.0  23633.0  130200300607   \n",
       "\n",
       "                                            geometry number of points  \n",
       "0  POLYGON ((-73.800781 -7.111809, -73.7995899999...                0  \n",
       "1  POLYGON ((-73.741705 -7.143248, -73.740475 -7....                0  \n",
       "2  POLYGON ((-72.18244799999999 -7.577473, -72.18...                0  \n",
       "3  POLYGON ((-71.50966699999999 -7.880687, -71.50...                0  \n",
       "4  POLYGON ((-71.34350499999999 -6.680839, -71.34...                0  \n",
       "\n",
       "[5 rows x 21 columns]"
      ]
     },
     "execution_count": 744,
     "metadata": {},
     "output_type": "execute_result"
    }
   ],
   "source": [
    "amazonas.head()"
   ]
  },
  {
   "cell_type": "markdown",
   "metadata": {},
   "source": [
    "### COUNT NUMBER OF POINTS IN POLYGONS"
   ]
  },
  {
   "cell_type": "code",
   "execution_count": 807,
   "metadata": {
    "ExecuteTime": {
     "end_time": "2019-09-05T21:55:36.186596Z",
     "start_time": "2019-09-05T21:55:36.184212Z"
    }
   },
   "outputs": [],
   "source": [
    "cpoint = tidy_data2014"
   ]
  },
  {
   "cell_type": "code",
   "execution_count": 808,
   "metadata": {
    "ExecuteTime": {
     "end_time": "2019-09-05T21:56:33.793565Z",
     "start_time": "2019-09-05T21:55:41.199387Z"
    }
   },
   "outputs": [],
   "source": [
    "cpt = []\n",
    "\n",
    "for i, row in cpoint.iterrows():\n",
    "    cpt.append(Point(row.LON, row.LAT).wkt)"
   ]
  },
  {
   "cell_type": "code",
   "execution_count": 809,
   "metadata": {
    "ExecuteTime": {
     "end_time": "2019-09-05T21:58:38.979856Z",
     "start_time": "2019-09-05T21:56:33.794825Z"
    }
   },
   "outputs": [],
   "source": [
    "geo_point = gpd.GeoDataFrame()\n",
    "geo_point['RAIN_FALL'] = cpoint['RAIN_FALL']\n",
    "geo_point['geometry'] = cpt\n",
    "geo_point['geometry'] = geo_point['geometry'].apply(wkt.loads)\n",
    "geo_point.crs = {'init' :'epsg:4326'}\n",
    "geo_point.to_file('shapefiles/point.shp')"
   ]
  },
  {
   "cell_type": "code",
   "execution_count": null,
   "metadata": {
    "ExecuteTime": {
     "start_time": "2019-09-05T21:55:43.309Z"
    }
   },
   "outputs": [],
   "source": [
    "polygons = amazonas\n",
    "\n",
    "pts = geo_point.reset_index().copy()\n",
    "pts_in_polys = []\n",
    "\n",
    "for i, poly in polygons.iterrows():\n",
    "    pts_in_this_poly = []\n",
    "    \n",
    "    for j, pt in pts.iterrows():\n",
    "        if poly.geometry.contains(pt.geometry):\n",
    "            pts_in_this_poly.append(pt.geometry)\n",
    "            pts = pts.drop([j])\n",
    "            \n",
    "    pts_in_polys.append(len(pts_in_this_poly))\n",
    "    \n",
    "# Add the number of points for each poly to the dataframe.\n",
    "polygons['NUM_POINTS'] = gpd.GeoSeries(pts_in_polys)"
   ]
  },
  {
   "cell_type": "code",
   "execution_count": null,
   "metadata": {
    "ExecuteTime": {
     "start_time": "2019-09-05T21:55:43.901Z"
    }
   },
   "outputs": [],
   "source": [
    "polygons = polygons[['MUNIC_PIO','NUM_POINTS']]"
   ]
  },
  {
   "cell_type": "code",
   "execution_count": null,
   "metadata": {
    "ExecuteTime": {
     "start_time": "2019-09-05T21:55:44.701Z"
    }
   },
   "outputs": [],
   "source": [
    "polygons[polygons.NUM_POINTS != 0]"
   ]
  },
  {
   "cell_type": "markdown",
   "metadata": {},
   "source": [
    "#### CONCLUSIONS"
   ]
  },
  {
   "cell_type": "markdown",
   "metadata": {},
   "source": [
    "#### REFERENCES\n",
    "\n",
    "* CHENG, Yizong. Mean shift, mode seeking, and clustering. IEEE transactions on pattern analysis and machine intelligence, v. 17, n. 8, p. 790-799, 1995.\n",
    "\n",
    "* FRANK, Andrew U. Qualitative spatial reasoning: Cardinal directions as an example. International Journal of Geographical Information Science, v. 10, n. 3, p. 269-290, 1996.\n",
    "\n",
    "* Mean Shift Clustering Overview by Matt Nedrich https://spin.atomicobject.com/2015/05/26/mean-shift-clustering/\n",
    "\n",
    "* The NWS NEXRAD WSR88-D Radar: https://web.archive.org/web/20160113151652/http://www.desktopdoppler.com/help/nws-nexrad.htm#rainfall%20rates\n",
    "\n",
    "* PAPADIAS, Dimitris; THEODORIDIS, Yannis. Spatial relations, minimum bounding rectangles, and spatial data structures. International Journal of Geographical Information Science, v. 11, n. 2, p. 111-138, 1997."
   ]
  }
 ],
 "metadata": {
  "kernelspec": {
   "display_name": "Python 3",
   "language": "python",
   "name": "python3"
  },
  "language_info": {
   "codemirror_mode": {
    "name": "ipython",
    "version": 3
   },
   "file_extension": ".py",
   "mimetype": "text/x-python",
   "name": "python",
   "nbconvert_exporter": "python",
   "pygments_lexer": "ipython3",
   "version": "3.6.7"
  },
  "toc": {
   "base_numbering": 1,
   "nav_menu": {},
   "number_sections": false,
   "sideBar": true,
   "skip_h1_title": true,
   "title_cell": "Table of Contents",
   "title_sidebar": "Contents",
   "toc_cell": false,
   "toc_position": {},
   "toc_section_display": true,
   "toc_window_display": false
  }
 },
 "nbformat": 4,
 "nbformat_minor": 2
}
