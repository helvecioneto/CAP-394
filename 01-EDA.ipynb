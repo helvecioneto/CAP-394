{
 "cells": [
  {
   "cell_type": "markdown",
   "metadata": {},
   "source": [
    "## National Institute for Space Research\n",
    "   <img src=\"img/icone_cap394.svg\" align=\"right\" alt=\"Drawing\" style=\"width: 200px;\"/>\n",
    "   \n",
    "#### Project for course  Introduction to Data Science - CAP 394\n",
    "#### Student: \n",
    "* Helvecio Bezerra Leal Neto\n",
    "\n",
    "#### Instructors: \n",
    "* Dr. Gilberto Queiroz \n",
    "* Dr. Rafael Santos\n",
    "\n",
    "## Schedule\n",
    "     - [x] Data reading\n",
    "     - [x] Data visualization\n",
    "     - [x] Cluster detection algorithm\n",
    "     - [ ] Preprocessing\n",
    "     - [ ] Final analysis and project elaboration"
   ]
  },
  {
   "cell_type": "markdown",
   "metadata": {},
   "source": [
    "### Index\n",
    "\n",
    "  [About](#about) <br></br>\n",
    "  [The Data](#the_data)<br></br>\n",
    "  [Reading Data](#reading_data)<br></br>"
   ]
  },
  {
   "cell_type": "markdown",
   "metadata": {},
   "source": [
    "<a id='about'></a>\n",
    "## About\n",
    "\n",
    "This work is part of the suite of applications for the Introduction to Data Science (CAP-394) course offered by the National Institute for Space Research.\n",
    "\n",
    "The purpose of this paper is to perform an exploratory analysis on Radar data by surveying the raw data, processing them and understanding the dynamics of cloud movement in the study region. At the end of the exploratory process it will be possible to estimate the behavior of the clouds in relation to their movement, making an algorithm capable of estimating the movement from two consecutive images."
   ]
  },
  {
   "cell_type": "markdown",
   "metadata": {},
   "source": [
    "<a id='the_data'></a>\n",
    "## The Data\n",
    "\n",
    "The data analyzed in this example consists of NC (NetCDF4) files. Each file corresponds to Rain Rate measurements collected by the Amazon Protection System (SIPAM) radar during the GoAmazon experiment periods, starting from January 2014 to December 2015, such files contain data on 12-minute time intervals.\n",
    "\n",
    "https://www.arm.gov/research/campaigns/amf2014goamazon"
   ]
  },
  {
   "cell_type": "markdown",
   "metadata": {},
   "source": [
    "<a id='reading_data'></a>\n",
    "## Reading Data"
   ]
  },
  {
   "cell_type": "markdown",
   "metadata": {},
   "source": [
    "#### 1.1 - Libraries used"
   ]
  },
  {
   "cell_type": "code",
   "execution_count": 1,
   "metadata": {},
   "outputs": [],
   "source": [
    "import datetime\n",
    "import os\n",
    "import xarray as xr\n",
    "import numpy as np\n",
    "import pandas as pd\n",
    "import matplotlib.pyplot as plt\n",
    "import matplotlib.colors as mcolors\n",
    "from mpl_toolkits.basemap import Basemap\n",
    "from matplotlib import animation\n",
    "from sklearn.cluster import MeanShift, estimate_bandwidth, KMeans\n",
    "\n",
    "#%matplotlib\n",
    "%matplotlib inline"
   ]
  },
  {
   "cell_type": "markdown",
   "metadata": {},
   "source": [
    "#### 1.2 Openning dataset"
   ]
  },
  {
   "cell_type": "code",
   "execution_count": 2,
   "metadata": {},
   "outputs": [],
   "source": [
    "day = 20140103\n",
    "\n",
    "#read first file to extract static variable values\n",
    "path = 'data/radar/'\n",
    "first_file = path+str(day)+'/'+str(os.listdir(path+str(day))[0])\n",
    "    \n",
    "xds = xr.open_dataset(first_file)\n",
    "\n",
    "rr = xds.rain_rate                  ### Matrix with preciptation values\n",
    "runit = xds.rain_rate.units         ### Unit of rain_rate mm/h\n",
    "rkm = xds.rain_rate.height_km       ### Unit of matrix dimensions km\n",
    "lon = xds.lon0.data                 ### Coordinate Longitude Matrix\n",
    "lat = xds.lat0.data                 ### Corrdinate Latitude Matrix\n",
    "x0 = xds.x0                         ### Matrix of points\n",
    "y0 = xds.y0"
   ]
  },
  {
   "cell_type": "code",
   "execution_count": 3,
   "metadata": {},
   "outputs": [
    {
     "data": {
      "text/plain": [
       "<xarray.Dataset>\n",
       "Dimensions:     (x0: 241, y0: 241)\n",
       "Dimensions without coordinates: x0, y0\n",
       "Data variables:\n",
       "    start_time  datetime64[ns] ...\n",
       "    stop_time   datetime64[ns] ...\n",
       "    lat0        (y0, x0) float32 -5.3025093 -5.302555 ... -0.99165195 -0.9916234\n",
       "    lon0        (y0, x0) float32 -62.156715 -62.138676 ... -57.854195 -57.83623\n",
       "    rain_rate   (y0, x0) float32 ...\n",
       "Attributes:\n",
       "    description:  SIPAM Manaus S-Band Gridded Rain Rates\n",
       "    source:       SIPAM Manaus S-Band Radar\n",
       "    institution:  SIPAM/Texas A&M University\n",
       "    comment:      v2.0a; Created at Texas A&M University (cschu@tamu.edu)\n",
       "    references:   http://atmo.tamu.edu/goamazon-sband-radar\n",
       "    created:      Tue Sep  5 14:22:21 2017\\n"
      ]
     },
     "execution_count": 3,
     "metadata": {},
     "output_type": "execute_result"
    }
   ],
   "source": [
    "xds"
   ]
  },
  {
   "cell_type": "markdown",
   "metadata": {},
   "source": [
    "#### 1.3 Variables present in the dataset"
   ]
  },
  {
   "cell_type": "code",
   "execution_count": 4,
   "metadata": {},
   "outputs": [
    {
     "data": {
      "text/plain": [
       "Data variables:\n",
       "    start_time  datetime64[ns] ...\n",
       "    stop_time   datetime64[ns] ...\n",
       "    lat0        (y0, x0) float32 -5.3025093 -5.302555 ... -0.99165195 -0.9916234\n",
       "    lon0        (y0, x0) float32 -62.156715 -62.138676 ... -57.854195 -57.83623\n",
       "    rain_rate   (y0, x0) float32 ..."
      ]
     },
     "execution_count": 4,
     "metadata": {},
     "output_type": "execute_result"
    }
   ],
   "source": [
    "xds.data_vars"
   ]
  },
  {
   "cell_type": "markdown",
   "metadata": {},
   "source": [
    "#### 1.4 Attributes from dataset"
   ]
  },
  {
   "cell_type": "code",
   "execution_count": 5,
   "metadata": {},
   "outputs": [
    {
     "data": {
      "text/plain": [
       "OrderedDict([('description', 'SIPAM Manaus S-Band Gridded Rain Rates'),\n",
       "             ('source', 'SIPAM Manaus S-Band Radar'),\n",
       "             ('institution', 'SIPAM/Texas A&M University'),\n",
       "             ('comment',\n",
       "              'v2.0a; Created at Texas A&M University (cschu@tamu.edu)'),\n",
       "             ('references', 'http://atmo.tamu.edu/goamazon-sband-radar'),\n",
       "             ('created', 'Tue Sep  5 14:22:21 2017\\n')])"
      ]
     },
     "execution_count": 5,
     "metadata": {},
     "output_type": "execute_result"
    }
   ],
   "source": [
    "xds.attrs"
   ]
  },
  {
   "cell_type": "code",
   "execution_count": 6,
   "metadata": {},
   "outputs": [
    {
     "data": {
      "image/png": "[encoded data removed]",
      "text/plain": [
       "<Figure size 432x288 with 1 Axes>"
      ]
     },
     "metadata": {
      "needs_background": "light"
     },
     "output_type": "display_data"
    }
   ],
   "source": [
    "plt.plot(rr)\n",
    "plt.title('Radar Rain Rate distribution of mm/h values')\n",
    "plt.show()"
   ]
  },
  {
   "cell_type": "markdown",
   "metadata": {},
   "source": [
    "#### 1.5 Read all data"
   ]
  },
  {
   "cell_type": "code",
   "execution_count": 526,
   "metadata": {},
   "outputs": [],
   "source": [
    "def readData(date):\n",
    "    \n",
    "    path = 'data/radar/'\n",
    "    dataset = []\n",
    "    interval = len(os.listdir(path+str(date)))    \n",
    "    \n",
    "    # Original grid dimensions\n",
    "    nx = 241\n",
    "    ny = 241\n",
    "\n",
    "    # pixel size (in meters)\n",
    "    dx = 1000.\n",
    "    dy = 1000.\n",
    "\n",
    "    downsizeby = 1    \n",
    "    \n",
    "    # Compute grid dimensions and grid coordinates after resampling\n",
    "    dx2, dy2 = dx*downsizeby, dy*downsizeby\n",
    "    nx2, ny2 = int(nx/downsizeby), int(ny/downsizeby)\n",
    "\n",
    "    X2, Y2 = np.meshgrid( np.arange(0,nx2*dx2, dx2), np.arange(0,ny2*dy2, dy2) )\n",
    "\n",
    "    # Define container\n",
    "    frames = np.zeros( (interval, nx2, ny2 ) )    \n",
    "    \n",
    "    for i in range(interval):\n",
    "        d = str(path)+str(date)+'/'\n",
    "        file = (sorted(os.listdir(path+str(date)))[i])\n",
    "        xds = xr.open_dataset(d+file)\n",
    "        rr = xds.rain_rate\n",
    "        frames[i] =  rr\n",
    "            \n",
    "    return frames"
   ]
  },
  {
   "cell_type": "code",
   "execution_count": 527,
   "metadata": {},
   "outputs": [
    {
     "name": "stdout",
     "output_type": "stream",
     "text": [
      "The frames from dataset: (times,x,y) ->  (104, 241, 241)\n"
     ]
    }
   ],
   "source": [
    "frames = readData(day)\n",
    "print('The frames from dataset: (times,x,y) -> ',frames.shape)"
   ]
  },
  {
   "cell_type": "markdown",
   "metadata": {},
   "source": [
    "#### 1.6 Plot simple example without colormap legends for Time Zero"
   ]
  },
  {
   "cell_type": "code",
   "execution_count": 201,
   "metadata": {},
   "outputs": [
    {
     "data": {
      "text/plain": [
       "<matplotlib.collections.PathCollection at 0x7f3763caee10>"
      ]
     },
     "execution_count": 201,
     "metadata": {},
     "output_type": "execute_result"
    },
    {
     "data": {
      "image/png": "[encoded data removed]",
      "text/plain": [
       "<Figure size 576x576 with 1 Axes>"
      ]
     },
     "metadata": {
      "needs_background": "light"
     },
     "output_type": "display_data"
    }
   ],
   "source": [
    "## Plot simple figure from dataset\n",
    "\n",
    "figtime = 0\n",
    "\n",
    "filename = sorted(os.listdir(path+str(day)))[figtime]\n",
    "\n",
    "plt.figure(figsize=(8,8))\n",
    "plt.title(filename)\n",
    "plt.scatter(lon,lat,frames[figtime])\n",
    "#plt.pcolormesh(lon,lat,frames[figtime])"
   ]
  },
  {
   "cell_type": "markdown",
   "metadata": {},
   "source": [
    "#### 1.7 Clusterization"
   ]
  },
  {
   "cell_type": "code",
   "execution_count": 533,
   "metadata": {},
   "outputs": [],
   "source": [
    "def clusterization(time1,time2):    \n",
    "    \n",
    "    dx ,dy = [],[]\n",
    "    dx2 ,dy2 = [],[]\n",
    "    te = None\n",
    "    \n",
    "    for i in range(241):\n",
    "        for j in range(241):\n",
    "            if not np.isnan(frames[time1][i][j]) and frames[time1][i][j] > 11.53:\n",
    "                dx.append(i)\n",
    "                dy.append(j)\n",
    "                \n",
    "    for i in range(241):\n",
    "        for j in range(241):\n",
    "            if not np.isnan(frames[time2][i][j]) and frames[time2][i][j] > 11.53:\n",
    "                dx2.append(i)\n",
    "                dy2.append(j)                \n",
    "\n",
    "    dim = len(dx)\n",
    "    dim2 = len(dx2)\n",
    "    \n",
    "    # Check dimension\n",
    "    if dim > 4 and dim2 >4:   \n",
    "    \n",
    "        if dim < dim2:\n",
    "            for x in range(abs(dim-dim2)):\n",
    "                dx.append(np.float32('nan'))\n",
    "                dy.append(np.float32('nan'))\n",
    "            dim = dim2\n",
    "        elif dim2 < dim:\n",
    "            for x in range(abs(dim-dim2)):\n",
    "                dx2.append(np.float32('nan'))\n",
    "                dy2.append(np.float32('nan'))\n",
    "            dim2 = dim\n",
    "\n",
    "        matrix = np.ndarray(shape=(dim, 2), dtype='float32')\n",
    "        matrix2 = np.ndarray(shape=(dim2, 2), dtype='float32')\n",
    "\n",
    "\n",
    "        for x in range(dim):\n",
    "            matrix[x] = (dx[x], dy[x])\n",
    "\n",
    "        for x2 in range(dim2):\n",
    "            matrix2[x2] = (dx2[x2], dy2[x2])\n",
    "            \n",
    "\n",
    "        pt = pd.DataFrame(columns=['x1','y1','x2','y2'])\n",
    "        \n",
    "\n",
    "        pt['x1'] = matrix[:,0]\n",
    "        pt['y1'] = matrix[:,1]\n",
    "        pt['x2'] = matrix2[:,0]\n",
    "        pt['y2'] = matrix2[:,1]\n",
    "        \n",
    "        te = pt[['x1','y1','x2','y2']]\n",
    "        te = te.fillna(0)    \n",
    "\n",
    "        bandwidth = estimate_bandwidth(te, quantile=0.3)\n",
    "        ms = MeanShift(bandwidth=bandwidth)\n",
    "        ms.fit(te)\n",
    "        labels = ms.labels_\n",
    "        cluster_centers = ms.cluster_centers_\n",
    "        n_clusters_ = len(np.unique(labels))        \n",
    "\n",
    "#         kmeans = KMeans().fit(te)\n",
    "#         labels = kmeans.labels_\n",
    "#         cluster_centers = kmeans.cluster_centers_\n",
    "#         n_clusters_ = len(np.unique(labels))\n",
    "\n",
    "        te['cluster']=labels\n",
    "    \n",
    "    return te"
   ]
  },
  {
   "cell_type": "code",
   "execution_count": 590,
   "metadata": {},
   "outputs": [
    {
     "data": {
      "text/html": [
       "<div>\n",
       "<style scoped>\n",
       "    .dataframe tbody tr th:only-of-type {\n",
       "        vertical-align: middle;\n",
       "    }\n",
       "\n",
       "    .dataframe tbody tr th {\n",
       "        vertical-align: top;\n",
       "    }\n",
       "\n",
       "    .dataframe thead th {\n",
       "        text-align: right;\n",
       "    }\n",
       "</style>\n",
       "<table border=\"1\" class=\"dataframe\">\n",
       "  <thead>\n",
       "    <tr style=\"text-align: right;\">\n",
       "      <th></th>\n",
       "      <th>x1</th>\n",
       "      <th>y1</th>\n",
       "      <th>x2</th>\n",
       "      <th>y2</th>\n",
       "      <th>cluster</th>\n",
       "    </tr>\n",
       "  </thead>\n",
       "  <tbody>\n",
       "    <tr>\n",
       "      <th>0</th>\n",
       "      <td>51.0</td>\n",
       "      <td>182.0</td>\n",
       "      <td>34.0</td>\n",
       "      <td>130.0</td>\n",
       "      <td>3</td>\n",
       "    </tr>\n",
       "    <tr>\n",
       "      <th>1</th>\n",
       "      <td>52.0</td>\n",
       "      <td>183.0</td>\n",
       "      <td>34.0</td>\n",
       "      <td>131.0</td>\n",
       "      <td>3</td>\n",
       "    </tr>\n",
       "    <tr>\n",
       "      <th>2</th>\n",
       "      <td>53.0</td>\n",
       "      <td>184.0</td>\n",
       "      <td>48.0</td>\n",
       "      <td>169.0</td>\n",
       "      <td>4</td>\n",
       "    </tr>\n",
       "    <tr>\n",
       "      <th>3</th>\n",
       "      <td>54.0</td>\n",
       "      <td>185.0</td>\n",
       "      <td>50.0</td>\n",
       "      <td>181.0</td>\n",
       "      <td>2</td>\n",
       "    </tr>\n",
       "    <tr>\n",
       "      <th>4</th>\n",
       "      <td>55.0</td>\n",
       "      <td>186.0</td>\n",
       "      <td>51.0</td>\n",
       "      <td>182.0</td>\n",
       "      <td>2</td>\n",
       "    </tr>\n",
       "    <tr>\n",
       "      <th>5</th>\n",
       "      <td>0.0</td>\n",
       "      <td>0.0</td>\n",
       "      <td>51.0</td>\n",
       "      <td>183.0</td>\n",
       "      <td>1</td>\n",
       "    </tr>\n",
       "    <tr>\n",
       "      <th>6</th>\n",
       "      <td>0.0</td>\n",
       "      <td>0.0</td>\n",
       "      <td>52.0</td>\n",
       "      <td>153.0</td>\n",
       "      <td>0</td>\n",
       "    </tr>\n",
       "    <tr>\n",
       "      <th>7</th>\n",
       "      <td>0.0</td>\n",
       "      <td>0.0</td>\n",
       "      <td>52.0</td>\n",
       "      <td>154.0</td>\n",
       "      <td>0</td>\n",
       "    </tr>\n",
       "    <tr>\n",
       "      <th>8</th>\n",
       "      <td>0.0</td>\n",
       "      <td>0.0</td>\n",
       "      <td>52.0</td>\n",
       "      <td>183.0</td>\n",
       "      <td>1</td>\n",
       "    </tr>\n",
       "    <tr>\n",
       "      <th>9</th>\n",
       "      <td>0.0</td>\n",
       "      <td>0.0</td>\n",
       "      <td>52.0</td>\n",
       "      <td>184.0</td>\n",
       "      <td>1</td>\n",
       "    </tr>\n",
       "    <tr>\n",
       "      <th>10</th>\n",
       "      <td>0.0</td>\n",
       "      <td>0.0</td>\n",
       "      <td>53.0</td>\n",
       "      <td>154.0</td>\n",
       "      <td>0</td>\n",
       "    </tr>\n",
       "    <tr>\n",
       "      <th>11</th>\n",
       "      <td>0.0</td>\n",
       "      <td>0.0</td>\n",
       "      <td>53.0</td>\n",
       "      <td>155.0</td>\n",
       "      <td>0</td>\n",
       "    </tr>\n",
       "  </tbody>\n",
       "</table>\n",
       "</div>"
      ],
      "text/plain": [
       "      x1     y1    x2     y2  cluster\n",
       "0   51.0  182.0  34.0  130.0        3\n",
       "1   52.0  183.0  34.0  131.0        3\n",
       "2   53.0  184.0  48.0  169.0        4\n",
       "3   54.0  185.0  50.0  181.0        2\n",
       "4   55.0  186.0  51.0  182.0        2\n",
       "5    0.0    0.0  51.0  183.0        1\n",
       "6    0.0    0.0  52.0  153.0        0\n",
       "7    0.0    0.0  52.0  154.0        0\n",
       "8    0.0    0.0  52.0  183.0        1\n",
       "9    0.0    0.0  52.0  184.0        1\n",
       "10   0.0    0.0  53.0  154.0        0\n",
       "11   0.0    0.0  53.0  155.0        0"
      ]
     },
     "execution_count": 590,
     "metadata": {},
     "output_type": "execute_result"
    }
   ],
   "source": [
    "clusters = clusterization(54,55)\n",
    "\n",
    "clusters\n",
    "\n",
    "\n",
    "# for index, row in clusters.iterrows():\n",
    "#     coordsT1 = lon[int(row['y1']),int(row['x1'])],lat[int(row['y1']),int(row['x1'])]\n",
    "#     #coordsT2 = (lat[int(row['x2']),int(row['y2'])],lon[int(row['x2']),int(row['y2'])])\n",
    "#     print(coordsT1)"
   ]
  },
  {
   "cell_type": "code",
   "execution_count": 621,
   "metadata": {},
   "outputs": [
    {
     "ename": "AttributeError",
     "evalue": "'numpy.float64' object has no attribute 'unique'",
     "output_type": "error",
     "traceback": [
      "\u001b[0;31m---------------------------------------------------------------------------\u001b[0m",
      "\u001b[0;31mAttributeError\u001b[0m                            Traceback (most recent call last)",
      "\u001b[0;32m<ipython-input-621-e46af5b5698c>\u001b[0m in \u001b[0;36m<module>\u001b[0;34m\u001b[0m\n\u001b[1;32m      8\u001b[0m     \u001b[0;31m#df['IND_Y'] = clusters['y1']\u001b[0m\u001b[0;34m\u001b[0m\u001b[0;34m\u001b[0m\u001b[0;34m\u001b[0m\u001b[0m\n\u001b[1;32m      9\u001b[0m \u001b[0;34m\u001b[0m\u001b[0m\n\u001b[0;32m---> 10\u001b[0;31m     \u001b[0mclen\u001b[0m \u001b[0;34m=\u001b[0m \u001b[0mrow\u001b[0m\u001b[0;34m[\u001b[0m\u001b[0;34m'cluster'\u001b[0m\u001b[0;34m]\u001b[0m\u001b[0;34m.\u001b[0m\u001b[0munique\u001b[0m\u001b[0;34m(\u001b[0m\u001b[0;34m)\u001b[0m\u001b[0;34m\u001b[0m\u001b[0;34m\u001b[0m\u001b[0m\n\u001b[0m\u001b[1;32m     11\u001b[0m \u001b[0;34m\u001b[0m\u001b[0m\n\u001b[1;32m     12\u001b[0m     \u001b[0mprint\u001b[0m\u001b[0;34m(\u001b[0m\u001b[0mclen\u001b[0m\u001b[0;34m)\u001b[0m\u001b[0;34m\u001b[0m\u001b[0;34m\u001b[0m\u001b[0m\n",
      "\u001b[0;31mAttributeError\u001b[0m: 'numpy.float64' object has no attribute 'unique'"
     ]
    }
   ],
   "source": [
    "df = pd.DataFrame(columns=['LAT','LON','IND_X','IND_Y'])\n",
    "\n",
    "for i, row in clusters.iterrows():\n",
    "    #coordsT1 = (lon[int(row['x1'])][int(row['y1'])],lat[int(row['x1'])][int(row['y1'])])\n",
    "    #coordsT2 = (lon[int(row['x2'])][int(row['y2'])],lat[int(row['x2'])][int(row['y2'])])\n",
    "    \n",
    "    #df['IND_X'] = clusters['x1']\n",
    "    #df['IND_Y'] = clusters['y1']\n",
    "    \n",
    "    clen = row['cluster'].unique()\n",
    "    \n",
    "    print(clen)\n",
    "\n",
    "    temp = clusters.loc[clusters['cluster'] == 0]\n",
    "    df = temp[['x2','y2']]\n",
    "    \n",
    "    \n",
    "    #temp = clus.loc[clus['N_Cluster'] == i].mean()\n",
    "    \n",
    "    #df = df.append({'IND_X': int(row['x1']),\n",
    "    #                'LAT': lat[int(row['x1'])][int(row['y1'])]},ignore_index=True)\n",
    "df"
   ]
  },
  {
   "cell_type": "code",
   "execution_count": 575,
   "metadata": {},
   "outputs": [
    {
     "data": {
      "text/html": [
       "<div>\n",
       "<style scoped>\n",
       "    .dataframe tbody tr th:only-of-type {\n",
       "        vertical-align: middle;\n",
       "    }\n",
       "\n",
       "    .dataframe tbody tr th {\n",
       "        vertical-align: top;\n",
       "    }\n",
       "\n",
       "    .dataframe thead th {\n",
       "        text-align: right;\n",
       "    }\n",
       "</style>\n",
       "<table border=\"1\" class=\"dataframe\">\n",
       "  <thead>\n",
       "    <tr style=\"text-align: right;\">\n",
       "      <th></th>\n",
       "      <th>LAT</th>\n",
       "      <th>LON</th>\n",
       "      <th>IND_X</th>\n",
       "      <th>IND_Y</th>\n",
       "    </tr>\n",
       "  </thead>\n",
       "  <tbody>\n",
       "    <tr>\n",
       "      <th>0</th>\n",
       "      <td>NaN</td>\n",
       "      <td>NaN</td>\n",
       "      <td>51.0</td>\n",
       "      <td>182.0</td>\n",
       "    </tr>\n",
       "    <tr>\n",
       "      <th>1</th>\n",
       "      <td>NaN</td>\n",
       "      <td>NaN</td>\n",
       "      <td>52.0</td>\n",
       "      <td>183.0</td>\n",
       "    </tr>\n",
       "    <tr>\n",
       "      <th>2</th>\n",
       "      <td>NaN</td>\n",
       "      <td>NaN</td>\n",
       "      <td>53.0</td>\n",
       "      <td>184.0</td>\n",
       "    </tr>\n",
       "    <tr>\n",
       "      <th>3</th>\n",
       "      <td>NaN</td>\n",
       "      <td>NaN</td>\n",
       "      <td>54.0</td>\n",
       "      <td>185.0</td>\n",
       "    </tr>\n",
       "    <tr>\n",
       "      <th>4</th>\n",
       "      <td>NaN</td>\n",
       "      <td>NaN</td>\n",
       "      <td>55.0</td>\n",
       "      <td>186.0</td>\n",
       "    </tr>\n",
       "    <tr>\n",
       "      <th>5</th>\n",
       "      <td>NaN</td>\n",
       "      <td>NaN</td>\n",
       "      <td>0.0</td>\n",
       "      <td>0.0</td>\n",
       "    </tr>\n",
       "    <tr>\n",
       "      <th>6</th>\n",
       "      <td>NaN</td>\n",
       "      <td>NaN</td>\n",
       "      <td>0.0</td>\n",
       "      <td>0.0</td>\n",
       "    </tr>\n",
       "    <tr>\n",
       "      <th>7</th>\n",
       "      <td>NaN</td>\n",
       "      <td>NaN</td>\n",
       "      <td>0.0</td>\n",
       "      <td>0.0</td>\n",
       "    </tr>\n",
       "    <tr>\n",
       "      <th>8</th>\n",
       "      <td>NaN</td>\n",
       "      <td>NaN</td>\n",
       "      <td>0.0</td>\n",
       "      <td>0.0</td>\n",
       "    </tr>\n",
       "    <tr>\n",
       "      <th>9</th>\n",
       "      <td>NaN</td>\n",
       "      <td>NaN</td>\n",
       "      <td>0.0</td>\n",
       "      <td>0.0</td>\n",
       "    </tr>\n",
       "    <tr>\n",
       "      <th>10</th>\n",
       "      <td>NaN</td>\n",
       "      <td>NaN</td>\n",
       "      <td>0.0</td>\n",
       "      <td>0.0</td>\n",
       "    </tr>\n",
       "    <tr>\n",
       "      <th>11</th>\n",
       "      <td>NaN</td>\n",
       "      <td>NaN</td>\n",
       "      <td>0.0</td>\n",
       "      <td>0.0</td>\n",
       "    </tr>\n",
       "  </tbody>\n",
       "</table>\n",
       "</div>"
      ],
      "text/plain": [
       "    LAT  LON  IND_X  IND_Y\n",
       "0   NaN  NaN   51.0  182.0\n",
       "1   NaN  NaN   52.0  183.0\n",
       "2   NaN  NaN   53.0  184.0\n",
       "3   NaN  NaN   54.0  185.0\n",
       "4   NaN  NaN   55.0  186.0\n",
       "5   NaN  NaN    0.0    0.0\n",
       "6   NaN  NaN    0.0    0.0\n",
       "7   NaN  NaN    0.0    0.0\n",
       "8   NaN  NaN    0.0    0.0\n",
       "9   NaN  NaN    0.0    0.0\n",
       "10  NaN  NaN    0.0    0.0\n",
       "11  NaN  NaN    0.0    0.0"
      ]
     },
     "execution_count": 575,
     "metadata": {},
     "output_type": "execute_result"
    }
   ],
   "source": [
    "temp = clus.loc[clus['N_Cluster'] == i].mean()\n",
    "        temp = temp[['N_Cluster','LON', 'LAT','PRECIPIT']].values\n",
    "\n",
    "\n",
    "#     for i in range(len(matrix)):\n",
    "#         clus = clus.append({'N_Cluster': labels[i],\n",
    "#                                'LON': lon[(int(matrix[i][0]),int(matrix[i][1]))],\n",
    "#                                'LAT': lat[(int(matrix[i][0]),int(matrix[i][1]))],\n",
    "#                                'IND_X': matrix[i][0],\n",
    "#                                'IND_Y': matrix[i][1],\n",
    "#                                'PRECIPIT': frames[time1][int(matrix[i][0])][int(matrix[i][1])]},ignore_index=True) \n",
    "\n",
    "\n",
    "df = pd.DataFrame(columns=['LAT','LON','IND_X','IND_Y'])\n",
    "df['IND_X'] = clusters['x1']\n",
    "df['IND_Y'] = clusters['y1']\n",
    "df"
   ]
  },
  {
   "cell_type": "code",
   "execution_count": 531,
   "metadata": {},
   "outputs": [],
   "source": [
    "def centroid_clusters(clus):\n",
    "    nclusters = (clus['N_Cluster'].unique())\n",
    "    \n",
    "    cclusters = []\n",
    "    \n",
    "    for i in sorted(nclusters):\n",
    "        temp = clus.loc[clus['N_Cluster'] == i].mean()\n",
    "        temp = temp[['N_Cluster','LON', 'LAT','PRECIPIT']].values\n",
    "        cclusters.append(temp)\n",
    "    \n",
    "    return cclusters"
   ]
  },
  {
   "cell_type": "code",
   "execution_count": 362,
   "metadata": {},
   "outputs": [
    {
     "data": {
      "text/plain": [
       "<matplotlib.collections.PathCollection at 0x7f3760007470>"
      ]
     },
     "execution_count": 362,
     "metadata": {},
     "output_type": "execute_result"
    },
    {
     "data": {
      "image/png": "[encoded data removed]",
      "text/plain": [
       "<Figure size 432x288 with 1 Axes>"
      ]
     },
     "metadata": {
      "needs_background": "light"
     },
     "output_type": "display_data"
    }
   ],
   "source": [
    "plt.scatter(clusters['x1'],clusters['y1'],c=clusters['cluster'])"
   ]
  },
  {
   "cell_type": "code",
   "execution_count": 359,
   "metadata": {},
   "outputs": [
    {
     "data": {
      "text/plain": [
       "<matplotlib.collections.PathCollection at 0x7f375ffe8630>"
      ]
     },
     "execution_count": 359,
     "metadata": {},
     "output_type": "execute_result"
    },
    {
     "data": {
      "image/png": "[encoded data removed]",
      "text/plain": [
       "<Figure size 432x288 with 1 Axes>"
      ]
     },
     "metadata": {
      "needs_background": "light"
     },
     "output_type": "display_data"
    }
   ],
   "source": [
    "plt.scatter(clusters['x2'],clusters['y2'],c=clusters['cluster'])"
   ]
  },
  {
   "cell_type": "markdown",
   "metadata": {},
   "source": [
    "#### 1.8 Pre-processing"
   ]
  },
  {
   "cell_type": "code",
   "execution_count": 528,
   "metadata": {},
   "outputs": [],
   "source": [
    "day = 20140103 \n",
    "\n",
    "def run():\n",
    "    data = readData(day)\n",
    "    \n",
    "    for i in range(1,len(data),1):\n",
    "        \n",
    "        cluster = clusterization(i-1,i)\n",
    "        \n",
    "        \n",
    "        \n",
    "        if isinstance(cluster,pd.DataFrame):\n",
    "            print(i-1,i,cluster['cluster'].max())\n",
    "            \n",
    "            #clus = pd.DataFrame(columns = ['N_Cluster','LON','LAT','IND_X','IND_Y','PRECIPIT'])\n",
    "            #print(clus)\n",
    "            \n",
    "            \n",
    "            \n",
    "        else:\n",
    "            print(i-1,i,'0')\n",
    "        #print(data)\n",
    "        #print(i-1,i)"
   ]
  },
  {
   "cell_type": "code",
   "execution_count": 529,
   "metadata": {},
   "outputs": [
    {
     "name": "stdout",
     "output_type": "stream",
     "text": [
      "0 1 0\n",
      "1 2 0\n",
      "2 3 0\n",
      "3 4 0\n",
      "4 5 0\n",
      "5 6 0\n",
      "6 7 0\n",
      "7 8 0\n",
      "8 9 0\n",
      "9 10 0\n",
      "10 11 0\n",
      "11 12 0\n",
      "12 13 0\n",
      "13 14 0\n",
      "14 15 0\n",
      "15 16 0\n",
      "16 17 0\n",
      "17 18 0\n",
      "18 19 0\n",
      "19 20 0\n",
      "20 21 0\n",
      "21 22 0\n",
      "22 23 0\n",
      "23 24 0\n",
      "24 25 0\n",
      "25 26 0\n",
      "26 27 0\n",
      "27 28 0\n",
      "28 29 0\n",
      "29 30 0\n",
      "30 31 0\n",
      "31 32 0\n",
      "32 33 0\n",
      "33 34 0\n",
      "34 35 0\n",
      "35 36 0\n",
      "36 37 0\n",
      "37 38 0\n",
      "38 39 0\n",
      "39 40 0\n",
      "40 41 0\n",
      "41 42 0\n",
      "42 43 0\n",
      "43 44 0\n",
      "44 45 0\n",
      "45 46 0\n",
      "46 47 0\n",
      "47 48 0\n",
      "48 49 0\n",
      "49 50 0\n",
      "50 51 0\n",
      "51 52 0\n",
      "52 53 0\n",
      "53 54 0\n",
      "54 55 4\n",
      "55 56 4\n",
      "56 57 6\n",
      "57 58 3\n",
      "58 59 5\n",
      "59 60 3\n",
      "60 61 5\n",
      "61 62 5\n",
      "62 63 4\n",
      "63 64 2\n",
      "64 65 2\n",
      "65 66 3\n",
      "66 67 5\n",
      "67 68 1\n",
      "68 69 6\n",
      "69 70 6\n",
      "70 71 7\n",
      "71 72 8\n",
      "72 73 7\n",
      "73 74 7\n",
      "74 75 5\n",
      "75 76 2\n",
      "76 77 2\n",
      "77 78 3\n",
      "78 79 2\n",
      "79 80 5\n",
      "80 81 5\n",
      "81 82 2\n",
      "82 83 8\n",
      "83 84 4\n",
      "84 85 3\n",
      "85 86 3\n",
      "86 87 9\n",
      "87 88 6\n",
      "88 89 9\n",
      "89 90 6\n",
      "90 91 4\n",
      "91 92 5\n",
      "92 93 3\n",
      "93 94 1\n",
      "94 95 2\n",
      "95 96 1\n",
      "96 97 5\n",
      "97 98 5\n",
      "98 99 4\n",
      "99 100 3\n",
      "100 101 5\n",
      "101 102 4\n",
      "102 103 5\n"
     ]
    }
   ],
   "source": [
    "run()"
   ]
  },
  {
   "cell_type": "code",
   "execution_count": null,
   "metadata": {},
   "outputs": [],
   "source": [
    "def centroid_clusters(clus):\n",
    "    nclusters = (clus['N_Cluster'].unique())\n",
    "    \n",
    "    cclusters = []\n",
    "    \n",
    "    for i in sorted(nclusters):\n",
    "        temp = clus.loc[clus['N_Cluster'] == i].mean()\n",
    "        temp = temp[['N_Cluster','LON', 'LAT','PRECIPIT']].values\n",
    "        cclusters.append(temp)\n",
    "    \n",
    "    return cclusters"
   ]
  },
  {
   "cell_type": "code",
   "execution_count": null,
   "metadata": {},
   "outputs": [],
   "source": [
    "centro = centroid[1][1],centroid[1][2]\n",
    "centro"
   ]
  },
  {
   "cell_type": "code",
   "execution_count": 567,
   "metadata": {},
   "outputs": [
    {
     "name": "stderr",
     "output_type": "stream",
     "text": [
      "/ssd/miniconda3/envs/cap394/lib/python3.6/site-packages/ipykernel_launcher.py:42: MatplotlibDeprecationWarning: \n",
      "The dedent function was deprecated in Matplotlib 3.1 and will be removed in 3.3. Use inspect.cleandoc instead.\n",
      "/ssd/miniconda3/envs/cap394/lib/python3.6/site-packages/ipykernel_launcher.py:66: MatplotlibDeprecationWarning: \n",
      "The dedent function was deprecated in Matplotlib 3.1 and will be removed in 3.3. Use inspect.cleandoc instead.\n",
      "/ssd/miniconda3/envs/cap394/lib/python3.6/site-packages/ipykernel_launcher.py:67: MatplotlibDeprecationWarning: \n",
      "The dedent function was deprecated in Matplotlib 3.1 and will be removed in 3.3. Use inspect.cleandoc instead.\n",
      "/ssd/miniconda3/envs/cap394/lib/python3.6/site-packages/ipykernel_launcher.py:70: MatplotlibDeprecationWarning: \n",
      "The dedent function was deprecated in Matplotlib 3.1 and will be removed in 3.3. Use inspect.cleandoc instead.\n"
     ]
    },
    {
     "data": {
      "image/png": "[encoded data removed]",
      "text/plain": [
       "<Figure size 1000x1000 with 2 Axes>"
      ]
     },
     "metadata": {
      "needs_background": "light"
     },
     "output_type": "display_data"
    }
   ],
   "source": [
    "    my_coords = [-3.148556, -59.992000]     ## RADAR T1 SIPAM COORDS\n",
    "    zoom_scale = 2.2                        ## ZOOM SCALE\n",
    "\n",
    "    bbox = [my_coords[0]-zoom_scale,my_coords[0]+zoom_scale,\\\n",
    "            my_coords[1]-zoom_scale,my_coords[1]+zoom_scale]\n",
    "\n",
    "\n",
    "    fig, axes = plt.subplots(nrows=1,ncols=1,figsize=(10,10),dpi=100)\n",
    "    label = 'Rain rate in ' + runit+ ''\n",
    "    title = 'SIPAM Manaus S-Band Radar :'\n",
    "\n",
    "    # draw filled contours.\n",
    "    clevs = [0, 1, 2.5, 5, 7.5, 10, 15, 20, 30, 40,\n",
    "             50, 70, 100]\n",
    "\n",
    "    cmap_data = [(1.0, 1.0, 1.0),\n",
    "                 (0.3137255012989044, 0.8156862854957581, 0.8156862854957581),\n",
    "                 (0.0, 1.0, 1.0),\n",
    "                 (0.0, 0.8784313797950745, 0.501960813999176),\n",
    "                 (0.0, 0.7529411911964417, 0.0),\n",
    "                 (0.501960813999176, 0.8784313797950745, 0.0),\n",
    "                 (1.0, 1.0, 0.0),\n",
    "                 (1.0, 0.6274510025978088, 0.0),\n",
    "                 (1.0, 0.0, 0.0),\n",
    "                 (1.0, 0.125490203499794, 0.501960813999176),\n",
    "                 (0.9411764740943909, 0.250980406999588, 1.0),\n",
    "                 (0.501960813999176, 0.125490203499794, 1.0),\n",
    "                 (0.250980406999588, 0.250980406999588, 1.0),\n",
    "                 (0.125490203499794, 0.125490203499794, 0.501960813999176),\n",
    "                 (0.125490203499794, 0.125490203499794, 0.125490203499794),\n",
    "                 (0.501960813999176, 0.501960813999176, 0.501960813999176),\n",
    "                 (0.8784313797950745, 0.8784313797950745, 0.8784313797950745),\n",
    "                 (0.9333333373069763, 0.8313725590705872, 0.7372549176216125),\n",
    "                 (0.8549019694328308, 0.6509804129600525, 0.47058823704719543),\n",
    "                 (0.6274510025978088, 0.42352941632270813, 0.23529411852359772),\n",
    "                 (0.4000000059604645, 0.20000000298023224, 0.0)]\n",
    "    cmap = mcolors.ListedColormap(cmap_data, 'precipitation')\n",
    "    norm = mcolors.BoundaryNorm(clevs, cmap.N)\n",
    "    ax = axes\n",
    "\n",
    "    m = Basemap(projection='merc',llcrnrlat=bbox[0],urcrnrlat=bbox[1],\\\n",
    "                llcrnrlon=bbox[2],urcrnrlon=bbox[3],lat_ts=10,resolution='i')\n",
    "\n",
    "    ## COORDS\n",
    "    xi, yi = m(lon, lat)\n",
    "    ## SIPAM RADAR\n",
    "    xm, ym = m(my_coords[1],my_coords[0])\n",
    "    radar = m.plot(xm,ym, marker='^',color='r', label='RADAR')\n",
    "\n",
    "    #T3/Manacapuru: RADAR, RADIOSONDE e ETC - Principal [-3.212929, -60.598371]\n",
    "    #Lat = 3° 12' 46.56\" S\n",
    "    #Long = 60° 35' 54.16\" W\n",
    "    #t3x,t3y = m(-60.598371,-3.212929)##-4.8919168, -59.54127\n",
    "    t3x,t3y = m(-59.36141, -4.3528285)\n",
    "    T3 = m.plot(t3x,t3y, marker='*',color='r', label='Centroid', markersize=20)\n",
    "\n",
    "    ## PRECIPTACAO\n",
    "    cs = m.pcolormesh(xi,yi,frames[55], cmap = cmap, norm = norm, ax=ax)\n",
    "\n",
    "    # # # # Add Grid Lines\n",
    "    m.drawparallels(np.arange(bbox[0],bbox[1],(bbox[1]-bbox[0])/5),labels=[1,0,0,0],rotation=45, size=(7))\n",
    "    m.drawmeridians(np.arange(bbox[2],bbox[3],(bbox[3]-bbox[2])/5),labels=[0,0,0,1],rotation=45, size=(7))\n",
    "    m.drawmapboundary(fill_color='gray')\n",
    "\n",
    "    m.drawcoastlines()\n",
    "    m.drawstates()\n",
    "    m.drawcountries()\n",
    "    #m.fillcontinents(color='#FAFAFA',lake_color='dodgerblue')\n",
    "    #m.drawlsmask(land_color='Linen', lake_color='#CCFFFF')\n",
    "    m.drawrivers(color = '#0043CB', linewidth=1)\n",
    "\n",
    "    #m.readshapefile('./data/am_municipios/13MUE250GC_SIR', 'teste')\n",
    "\n",
    "    # # # # # Add Colorbar\n",
    "    cbar = m.colorbar(cs, location='bottom', pad=\"10%\")\n",
    "    cbar.set_label(label)\n",
    "\n",
    "    # # # # # Add Title\n",
    "    plt.title(title)\n",
    "    plt.legend()\n",
    "    plt.ylabel('Longitude', labelpad=40)\n",
    "    plt.xlabel('Latitude', labelpad=60)\n",
    "\n",
    "    plt.show()"
   ]
  },
  {
   "cell_type": "code",
   "execution_count": null,
   "metadata": {},
   "outputs": [],
   "source": [
    "from lib.radar_plot import radar_plot\n",
    "img = radar_plot(rr=frames[0],runit=runit,lat=lat,lon=lon,start_time=start_time,stop_time=stop_time)"
   ]
  },
  {
   "cell_type": "code",
   "execution_count": null,
   "metadata": {},
   "outputs": [],
   "source": [
    "def getRange(data):\n",
    "    \n",
    "    rrange = np.zeros((241,241))\n",
    "    \n",
    "    for i in range(241):\n",
    "        for j in range(241):\n",
    "            if np.isnan(data[0][i][j]):\n",
    "                rrange[i][j] = data[0][i][j]\n",
    "    return rrangedly notic"
   ]
  },
  {
   "cell_type": "code",
   "execution_count": null,
   "metadata": {},
   "outputs": [],
   "source": [
    "### Without Radar range\n",
    "frame = np.nan_to_num(frames[10])"
   ]
  },
  {
   "cell_type": "markdown",
   "metadata": {},
   "source": [
    "#### 1.7 Function for create Animation (Giff File in root dir)"
   ]
  },
  {
   "cell_type": "code",
   "execution_count": null,
   "metadata": {},
   "outputs": [],
   "source": [
    "def createGiff():\n",
    "    my_coords = [-3.148556, -59.992000]     ## RADAR T1 SIPAM COORDS\n",
    "    zoom_scale = 2.2                        ## ZOOM SCALE\n",
    "\n",
    "    fig, axes = plt.subplots(nrows=1,ncols=1,figsize=(10,10),dpi=100)\n",
    "\n",
    "    # draw filled contours.\n",
    "    clevs = [0, 1, 2.5, 5, 7.5, 10, 15, 20, 30, 40,\n",
    "                 50, 70, 100]\n",
    "\n",
    "    cmap_data = [(1.0, 1.0, 1.0),\n",
    "                     (0.3137255012989044, 0.8156862854957581, 0.8156862854957581),\n",
    "                     (0.0, 1.0, 1.0),\n",
    "                     (0.0, 0.8784313797950745, 0.501960813999176),\n",
    "                     (0.0, 0.7529411911964417, 0.0),\n",
    "                     (0.501960813999176, 0.8784313797950745, 0.0),\n",
    "                     (1.0, 1.0, 0.0),\n",
    "                     (1.0, 0.6274510025978088, 0.0),\n",
    "                     (1.0, 0.0, 0.0),\n",
    "                     (1.0, 0.125490203499794, 0.501960813999176),\n",
    "                     (0.9411764740943909, 0.250980406999588, 1.0),\n",
    "                     (0.501960813999176, 0.125490203499794, 1.0),\n",
    "                     (0.250980406999588, 0.250980406999588, 1.0),\n",
    "                     (0.1254900203499794, 0.125490203499794, 0.501960813999176),\n",
    "                     (0.125490203499794, 0.125490203499794, 0.125490203499794),\n",
    "                     (0.501960813999176, 0.501960813999176, 0.501960813999176),\n",
    "                     (0.8784313797950745, 0.8784313797950745, 0.8784313797950745),\n",
    "                     (0.9333333373069763, 0.8313725590705872, 0.7372549176216125),\n",
    "                     (0.8549019694328308, 0.6509804129600525, 0.47058823704719543),\n",
    "                     (0.6274510025978088, 0.42352941632270813, 0.23529411852359772),\n",
    "                     (0.4000000059604645, 0.20000000298023224, 0.0)]\n",
    "    cmap = mcolors.ListedColormap(cmap_data, 'precipitation')\n",
    "    norm = mcolors.BoundaryNorm(clevs, cmap.N)\n",
    "    ax = axes\n",
    "\n",
    "    label = 'Rain rate in ' + runit\n",
    "    title = os.listdir(datadir+str(ddate))[0]\n",
    "\n",
    "\n",
    "    ## BASEMAP\n",
    "    bbox = [my_coords[0]-zoom_scale,my_coords[0]+zoom_scale,\\\n",
    "            my_coords[1]-zoom_scale,my_coords[1]+zoom_scale]\n",
    "\n",
    "    m = Basemap(projection='merc',llcrnrlat=bbox[0],urcrnrlat=bbox[1],\\\n",
    "                llcrnrlon=bbox[2],urcrnrlon=bbox[3],lat_ts=10,resolution='i')\n",
    "\n",
    "    ## SIPAM RADAR\n",
    "    xm, ym = m(my_coords[1],my_coords[0])\n",
    "    radar = m.plot(xm,ym, marker='^',color='r', label='RADAR')\n",
    "\n",
    "    # # # # Add Grid Lines\n",
    "    m.drawparallels(np.arange(bbox[0],bbox[1],(bbox[1]-bbox[0])/5),labels=[1,0,0,0],rotation=45, size=(7))\n",
    "    m.drawmeridians(np.arange(bbox[2],bbox[3],(bbox[3]-bbox[2])/5),labels=[0,0,0,1],rotation=45, size=(7))\n",
    "    m.drawmapboundary(fill_color='gray')\n",
    "\n",
    "    m.drawcoastlines()\n",
    "    m.drawstates()\n",
    "    m.drawcountries()\n",
    "    m.drawrivers(color = '#0043CB', linewidth=1)\n",
    "\n",
    "    # # # # # Add Title\n",
    "    plt.title(title)\n",
    "    plt.legend()\n",
    "    plt.ylabel('Longitude', labelpad=40)\n",
    "    plt.xlabel('Latitude', labelpad=60)\n",
    "\n",
    "    #CLOUDS\n",
    "    xi, yi = m(lon, lat)\n",
    "    cs = m.pcolormesh(xi,yi,frames[0],cmap = cmap, norm = norm, ax=ax)\n",
    "    cs = m.pcolormesh(xi,yi,rr)\n",
    "\n",
    "    def init():\n",
    "        return cs,\n",
    "\n",
    "    def animate(i):\n",
    "        plt.title('Tempo: ' + str(i) + ' File: '+sorted(os.listdir(datadir+str(ddate)))[i])#)\n",
    "        m.pcolormesh(xi,yi,frames[i],cmap = cmap, norm = norm, ax=ax)\n",
    "        return cs,\n",
    "\n",
    "    # # # # # Add Colorbar\n",
    "    cbar = m.colorbar(cs, location='bottom', pad=\"10%\")\n",
    "    cbar.set_label(label)\n",
    "\n",
    "    anim = animation.FuncAnimation(fig, animate, init_func=init, frames=interval,  blit=True, repeat=True, save_count=interval)\n",
    "    anim.save(os.listdir(datadir+str(ddate))[0]+'.gif', writer='imagemagick', fps=1)"
   ]
  },
  {
   "cell_type": "code",
   "execution_count": null,
   "metadata": {},
   "outputs": [],
   "source": [
    "def limiar(data):\n",
    "\n",
    "    lMax = len(data[0])\n",
    "    llim = np.zeros((data.shape[0],data.shape[1],data.shape[2]))\n",
    "    #llim[llim == 0] = np.float32('nan')\n",
    "    \n",
    "    for k in range(len(data)):\n",
    "        for i in range(lMax):\n",
    "            for j in range(lMax):\n",
    "                if data[k][i][j] > 5:\n",
    "                    llim[k][i][j] = data[k][i][j]\n",
    "                    \n",
    "    for k in range(len(data)):\n",
    "        for i in range(lMax):\n",
    "            for j in range(lMax):\n",
    "                if np.isnan(data[0][i][j]):\n",
    "                    llim[k][i][j] = data[0][i][j]\n",
    "    return llim"
   ]
  },
  {
   "cell_type": "code",
   "execution_count": null,
   "metadata": {},
   "outputs": [],
   "source": [
    "def centroid(data):\n",
    "    \n",
    "    sizeM = len(data[0])\n",
    "    \n",
    "    for k in range(len(data)):\n",
    "        maxx = np.nanmax(data[k])\n",
    "        for i in range(sizeM):\n",
    "            for j in range(sizeM):\n",
    "                if data[k][i][j] == maxx:\n",
    "                    print ('Tempo: ',k, 'max: ', maxx, 'X: ',x0[i].data, 'Y: ',y0[j].data)"
   ]
  },
  {
   "cell_type": "code",
   "execution_count": null,
   "metadata": {},
   "outputs": [],
   "source": [
    "figtime = 0\n",
    "\n",
    "plt.figure(figsize=(8,8))\n",
    "plt.title(os.listdir(datadir+str(ddate))[figtime])\n",
    "plt.scatter(lon,lat,frames[figtime])"
   ]
  },
  {
   "cell_type": "code",
   "execution_count": null,
   "metadata": {},
   "outputs": [],
   "source": [
    "for i in range(len(matrix)):\n",
    "    print('Cluster :',labels[i], 'Y :', matrix[i][1], 'Y :', matrix[i][0])"
   ]
  },
  {
   "cell_type": "code",
   "execution_count": 126,
   "metadata": {},
   "outputs": [],
   "source": [
    "#     clusters = []\n",
    "        \n",
    "#     clus = pd.DataFrame(columns = ['N_Cluster','LON','LAT','IND_X','IND_Y','PRECIPIT'])\n",
    "\n",
    "#     for i in range(len(matrix)):\n",
    "#         clus = clus.append({'N_Cluster': labels[i],\n",
    "#                                'LON': lon[(int(matrix[i][0]),int(matrix[i][1]))],\n",
    "#                                'LAT': lat[(int(matrix[i][0]),int(matrix[i][1]))],\n",
    "#                                'IND_X': matrix[i][0],\n",
    "#                                'IND_Y': matrix[i][1],\n",
    "#                                'PRECIPIT': frames[time1][int(matrix[i][0])][int(matrix[i][1])]},ignore_index=True)              \n",
    "    #print(n_clusters_)\n",
    "    #print(cluster_centers)\n",
    "    #colors = 10*['r.','g.','b.','c.','k.','y.','m.']\n",
    "\n",
    "#     for i in range(len(pt)):\n",
    "#         plt.plot(pt['x1'], pt['y1'], colors[labels[i]], markersize = 10)\n",
    "                                         \n",
    "        #plt.annotate(i,(cluster_centers[:,1], cluster_centers[:,0]),ha='center')\n",
    "\n",
    "    #plt.scatter(pt['x1'],pt['y1'],c=labels)\n",
    "    \n",
    "    \n",
    "        \n",
    "#         for i in range(len(matrix2)):\n",
    "#             plt.plot(matrix2[i][1], matrix2[i][0], colors[labels[i]], markersize = 10)\n",
    "\n",
    "#     plt.title('Estimated number of clusters: %d' % n_clusters_)    \n",
    "        \n",
    "#     #plt.scatter(cluster_centers[:,1], cluster_centers[:,0],\n",
    "#     #            marker = 'x', s=150, linewidths=10, zorder=10)\n",
    "        \n",
    "#      for i, txt in enumerate(range(n_clusters_)):\n",
    "#             plt.annotate(txt,(cluster_centers[i,1],cluster_centers[i,0]),textcoords=\"offset points\",xytext=(0,10),ha='center')\n",
    "\n",
    "# #     plt.show()\n",
    "        \n",
    "#     return clus"
   ]
  },
  {
   "cell_type": "markdown",
   "metadata": {},
   "source": [
    "#### RESULTS"
   ]
  },
  {
   "cell_type": "markdown",
   "metadata": {},
   "source": [
    "#### CONCLUSIONS"
   ]
  },
  {
   "cell_type": "markdown",
   "metadata": {},
   "source": [
    "#### REFERENCES"
   ]
  }
 ],
 "metadata": {
  "kernelspec": {
   "display_name": "Python 3",
   "language": "python",
   "name": "python3"
  },
  "language_info": {
   "codemirror_mode": {
    "name": "ipython",
    "version": 3
   },
   "file_extension": ".py",
   "mimetype": "text/x-python",
   "name": "python",
   "nbconvert_exporter": "python",
   "pygments_lexer": "ipython3",
   "version": "3.6.7"
  }
 },
 "nbformat": 4,
 "nbformat_minor": 2
}
