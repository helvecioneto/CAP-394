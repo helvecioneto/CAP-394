{
 "cells": [
  {
   "cell_type": "markdown",
   "metadata": {},
   "source": [
    "# <span style=\"color:#336699\">Introduction to Data Science - CAP 394 [<img src=\"./img/icone_cap394.svg\" alt=\"CAP394 - Introduction to Data Science\" style=\"height:120px;\" align=\"right\">](http://www.lac.inpe.br/~rafael.santos/cap394.html)</span>\n",
    "\n",
    "\n",
    "<hr style=\"border:2px solid #0077b9;\">\n",
    "\n",
    "   \n",
    "<h1> <p align=\"right\"> Exploratory Analysis of Meteorological Radar Dataset </p> </h1>\n",
    "   \n",
    "<p align='center'> Project for course  Introduction to Data Science - CAP 394</p>\n",
    "\n",
    "#### Instructors: \n",
    "* Dr. Gilberto Queiroz \n",
    "* Dr. Rafael Santos\n",
    "\n",
    "#### Student: \n",
    "* Helvecio Leal Neto\n",
    "\n",
    "\n",
    "\n",
    "## Schedule\n",
    "     - [x] Data reading\n",
    "     - [x] Data visualization\n",
    "     - [x] Preprocessing\n",
    "     - [x] Cluster detection algorithm\n",
    "     - [x] Relational Directions\n",
    "     - [x] Create Data Functions\n",
    "     - [x] Visualization Radar image\n",
    "     - [x] Statistics and Results\n",
    "     - [ ] Final analysis and project elaboration"
   ]
  },
  {
   "cell_type": "markdown",
   "metadata": {},
   "source": [
    "### Index\n",
    "\n",
    "  [About](#about) <br></br>\n",
    "  [The Data](#the_data)<br></br>\n",
    "  [Reading Data](#reading_data)<br></br>\n",
    "  \n",
    " <hr style=\"border:1px solid #0077b9;\">"
   ]
  },
  {
   "cell_type": "markdown",
   "metadata": {},
   "source": [
    "<a id='about'></a>\n",
    "## About\n",
    "\n",
    "<p align=\"justify\"> <br>\n",
    "This work is part of the suite of applications for the Introduction to Data Science (CAP-394) course offered by the National Institute for Space Research.\n",
    "\n",
    "The purpose of this paper is to perform an exploratory analysis of radar data, gathering raw data, processing it and understanding the dynamics of cloud location from its center of mass, as well as counting the number of clusters per period.\n",
    "At the end of the exploratory process it will be possible to estimate the behavior of the clouds and relate their geographical location as well as correlate average precipitation rates per hour.\n",
    "\n",
    "<hr style=\"border:1px solid #0077b9;\">"
   ]
  },
  {
   "cell_type": "markdown",
   "metadata": {},
   "source": [
    "<a id='the_data'></a>\n",
    "## The Data\n",
    "\n",
    "<p align=\"justify\"><br>\n",
    "The data analyzed in this example consists of NC (NetCDF4) files. Each file corresponds to Rain Rate measurements collected by the Amazon Protection System (SIPAM) radar during the GoAmazon experiment periods, starting from January 2014 to December 2015, such files contain data on 12-minute time intervals. The dataset provides rain data over 2.5km from S-Band Radar located in lat: -3.148556, lon: -59.992000. Data dimensionality consists of a two-dimensional (241x241) matrix containing rain rate values, the Radar Radius range is approximately 240 km, covering an area of 1,500 km² over the state of Amazonas (Brazil).\n",
    "<p align=\"justify\"><br>\n",
    "Overview:\n",
    "\n",
    "\"S-band radar volumes from Manaus, Brazil were shared by SIPAM for the time period beginning in January 2014 to December 2015 partially coinciding with the GOAmazon field campaign. The corrected radar reflectivity from each volume were interpolated to a fixed grid and the rainfall products were generated. A single Z-R relation (Z=174.8R^1.56) was created using 2014 wet-season impact disdrometer data and applied to the 2.5 km SIPAM Manaus S-Band CAPPI data to generate rain rates for each radar volume. This is version 2.0a of the dataset, which benefits from improved quality control procedures to remove non-meteorological data. \" Schumacher</p>\n",
    "\n",
    "\n",
    "https://www.arm.gov/research/campaigns/amf2014goamazon <br>\n",
    "\n",
    "* Courtney Schumacher\tS-band Radar - Rain Rates\n",
    "\n",
    "<img src=\"img/SIPAM.png\" align=\"center\" alt=\"Drawing\" style=\"width: 600px;\">\n",
    "\n",
    "\n",
    "[Figure 01: REDEMET - Radar Manaus](https://www.redemet.aer.mil.br/?i=produtos&p=radares-meteorologicos)\n",
    "<hr style=\"border:1px solid #0077b9;\">"
   ]
  },
  {
   "cell_type": "markdown",
   "metadata": {},
   "source": [
    "## Questions about the data\n",
    "\n",
    "1. How can I do the data acquisition?\n",
    "2. How can I open the data?\n",
    "3. What are the functions to view the data content?\n",
    "4. How to format data efficiently?\n",
    "5. Which precipitation rate intensity thresholds are interesting?\n",
    "6. What techniques for clustering can be applied to the dataset?\n",
    "7. How to convert values in Rain Rate Fall to DBz?\n",
    "8. What geographic applications can be associated with data?\n",
    "9. How to organize and process data efficiently?\n",
    "10. How to use a library to plot radar images?\n",
    "11. How many clusters per hour and month are in the dataset?\n",
    "12. What is the accumulated rain fall present in the data?\n",
    "13. What are the directional relationships of each cluster?\n",
    "\n",
    "<hr style=\"border:1px solid #0077b9;\">"
   ]
  },
  {
   "cell_type": "markdown",
   "metadata": {},
   "source": [
    "<a id='reading_data'></a>\n",
    "## 1. Basic read process"
   ]
  },
  {
   "cell_type": "markdown",
   "metadata": {},
   "source": [
    "### 1.1 Reading the metadata file"
   ]
  },
  {
   "cell_type": "code",
   "execution_count": 10,
   "metadata": {
    "ExecuteTime": {
     "end_time": "2019-09-17T18:45:51.900132Z",
     "start_time": "2019-09-17T18:45:51.782049Z"
    }
   },
   "outputs": [],
   "source": [
    "import os\n",
    "import xarray as xr"
   ]
  },
  {
   "cell_type": "code",
   "execution_count": 11,
   "metadata": {
    "ExecuteTime": {
     "end_time": "2019-09-17T18:45:51.990570Z",
     "start_time": "2019-09-17T18:45:51.963553Z"
    }
   },
   "outputs": [
    {
     "data": {
      "text/plain": [
       "<xarray.Dataset>\n",
       "Dimensions:     (x0: 241, y0: 241)\n",
       "Dimensions without coordinates: x0, y0\n",
       "Data variables:\n",
       "    start_time  datetime64[ns] ...\n",
       "    stop_time   datetime64[ns] ...\n",
       "    lat0        (y0, x0) float32 ...\n",
       "    lon0        (y0, x0) float32 ...\n",
       "    rain_rate   (y0, x0) float32 ...\n",
       "Attributes:\n",
       "    description:  SIPAM Manaus S-Band Gridded Rain Rates\n",
       "    source:       SIPAM Manaus S-Band Radar\n",
       "    institution:  SIPAM/Texas A&M University\n",
       "    comment:      v2.0a; Created at Texas A&M University (cschu@tamu.edu)\n",
       "    references:   http://atmo.tamu.edu/goamazon-sband-radar\n",
       "    created:      Wed Sep  6 19:24:14 2017\\n"
      ]
     },
     "execution_count": 11,
     "metadata": {},
     "output_type": "execute_result"
    }
   ],
   "source": [
    "### open files day 2014 / 02 / 24\n",
    "day = 20140224\n",
    "\n",
    "### path contains dataset\n",
    "path = 'data/radar/'\n",
    "\n",
    "#read first file to extract static variable values\n",
    "first_file = path+str(day)+'/'+str(os.listdir(path+str(day))[0])\n",
    "    \n",
    "try:\n",
    "    xds = xr.open_dataset(first_file)   \n",
    "except Exception as e:\n",
    "    print('File not found')\n",
    "xds"
   ]
  },
  {
   "cell_type": "code",
   "execution_count": 12,
   "metadata": {
    "ExecuteTime": {
     "end_time": "2019-09-17T18:45:52.130676Z",
     "start_time": "2019-09-17T18:45:52.126489Z"
    }
   },
   "outputs": [
    {
     "data": {
      "text/plain": [
       "'data/radar/20140224/sbmn_rain_rates_20140224_113604.nc'"
      ]
     },
     "execution_count": 12,
     "metadata": {},
     "output_type": "execute_result"
    }
   ],
   "source": [
    "first_file"
   ]
  },
  {
   "cell_type": "code",
   "execution_count": 13,
   "metadata": {
    "ExecuteTime": {
     "end_time": "2019-09-17T18:45:52.312324Z",
     "start_time": "2019-09-17T18:45:52.299449Z"
    }
   },
   "outputs": [
    {
     "name": "stdout",
     "output_type": "stream",
     "text": [
      "Unit of Rain Rate:  mm/hr\n"
     ]
    }
   ],
   "source": [
    "# settingup the variables\n",
    "rr = xds.rain_rate                  ### Matrix with preciptation values\n",
    "runit = xds.rain_rate.units         ### Unit of rain_rate mm/h\n",
    "rkm = xds.rain_rate.height_km       ### Unit of matrix dimensions km\n",
    "lon = xds.lon0.data                 ### Coordinate Longitude Matrix\n",
    "lat = xds.lat0.data                 ### Corrdinate Latitude Matrix\n",
    "x0 = xds.x0                         ### Matrix of points\n",
    "y0 = xds.y0\n",
    "\n",
    "print('Unit of Rain Rate: ',runit)"
   ]
  },
  {
   "cell_type": "markdown",
   "metadata": {},
   "source": [
    "### 1.2 Read data function"
   ]
  },
  {
   "cell_type": "code",
   "execution_count": 14,
   "metadata": {
    "ExecuteTime": {
     "end_time": "2019-09-17T18:45:52.710486Z",
     "start_time": "2019-09-17T18:45:52.703344Z"
    }
   },
   "outputs": [],
   "source": [
    "import numpy as np\n",
    "\n",
    "def readData(date):\n",
    "    \n",
    "    path = 'data/radar/'\n",
    "    dataset = []\n",
    "    interval = len(os.listdir(path+str(date)))    \n",
    "    \n",
    "    # Original grid dimensions\n",
    "    nx = 241\n",
    "    ny = 241\n",
    "\n",
    "    # Define container\n",
    "    frames = np.zeros( (interval, nx, ny ) )    \n",
    "    \n",
    "    for i in range(interval):\n",
    "        d = str(path)+str(date)+'/'\n",
    "        file = (sorted(os.listdir(path+str(date)))[i])\n",
    "        xds = xr.open_dataset(d+file)\n",
    "        rr = xds.rain_rate\n",
    "        frames[i] =  rr\n",
    "            \n",
    "    return frames"
   ]
  },
  {
   "cell_type": "raw",
   "metadata": {},
   "source": [
    "  "
   ]
  },
  {
   "cell_type": "markdown",
   "metadata": {},
   "source": [
    "#### The values loaded for frames correspond to the number of daily observations, and their respective matrices with rainfall rate values."
   ]
  },
  {
   "cell_type": "code",
   "execution_count": 15,
   "metadata": {
    "ExecuteTime": {
     "end_time": "2019-09-17T18:45:53.794416Z",
     "start_time": "2019-09-17T18:45:53.670383Z"
    }
   },
   "outputs": [
    {
     "name": "stdout",
     "output_type": "stream",
     "text": [
      "The frames from dataset:data (times,x,y) ->  (21, 241, 241)\n"
     ]
    }
   ],
   "source": [
    "frames = readData(day)\n",
    "print('The frames from dataset:data (times,x,y) -> ',frames.shape)"
   ]
  },
  {
   "cell_type": "markdown",
   "metadata": {},
   "source": [
    "#### Plot simple example for visualization"
   ]
  },
  {
   "cell_type": "code",
   "execution_count": 16,
   "metadata": {
    "ExecuteTime": {
     "end_time": "2019-09-17T18:45:54.881635Z",
     "start_time": "2019-09-17T18:45:54.205249Z"
    }
   },
   "outputs": [
    {
     "data": {
      "image/png": "[encoded data removed]",
      "text/plain": [
       "<Figure size 576x288 with 1 Axes>"
      ]
     },
     "metadata": {
      "needs_background": "light"
     },
     "output_type": "display_data"
    }
   ],
   "source": [
    "import matplotlib.pyplot as plt\n",
    "## Plot simple figure from dataset\n",
    "\n",
    "day = 20140224\n",
    "\n",
    "figtime = 0\n",
    "filename = sorted(os.listdir(path+str(day)))[figtime]\n",
    "\n",
    "plt.figure(figsize=(8,4))\n",
    "plt.title(filename)\n",
    "plt.scatter(lon,lat,frames[figtime])\n",
    "plt.show();"
   ]
  },
  {
   "cell_type": "markdown",
   "metadata": {},
   "source": [
    "### 1.3 Pre-Processing Function\n",
    "\n",
    "This function is used to store matrix \"x\" and \"y\" coordinates, that have values diffent than \"NaN\" and greater than the fixed Threshold for each cloud, the values correspond to the characteristic threshold intensity of each point."
   ]
  },
  {
   "cell_type": "markdown",
   "metadata": {},
   "source": [
    "<img src=\"img/dbz_scale.png\" align=\"center\" alt=\"Drawing\" style=\"width: 800px;\">"
   ]
  },
  {
   "cell_type": "code",
   "execution_count": 17,
   "metadata": {
    "ExecuteTime": {
     "end_time": "2019-09-17T18:45:54.887804Z",
     "start_time": "2019-09-17T18:45:54.883597Z"
    }
   },
   "outputs": [],
   "source": [
    "import pandas as pd\n",
    "\n",
    "def pre_processing(time1):\n",
    "    np.warnings.filterwarnings('ignore')\n",
    "    \n",
    "    ## thereshold value to track\n",
    "    threshold = 21.8\n",
    "    \n",
    "    rs =  (np.where(time1 != np.nan) and np.where(time1 > threshold))\n",
    "    rs = np.asanyarray(rs)\n",
    "    pe = pd.DataFrame({'x1':rs[0],'y1':rs[1]})\n",
    "        \n",
    "    return pe"
   ]
  },
  {
   "cell_type": "code",
   "execution_count": 18,
   "metadata": {
    "ExecuteTime": {
     "end_time": "2019-09-17T18:45:55.082555Z",
     "start_time": "2019-09-17T18:45:55.069791Z"
    }
   },
   "outputs": [
    {
     "data": {
      "text/html": [
       "<div>\n",
       "<style scoped>\n",
       "    .dataframe tbody tr th:only-of-type {\n",
       "        vertical-align: middle;\n",
       "    }\n",
       "\n",
       "    .dataframe tbody tr th {\n",
       "        vertical-align: top;\n",
       "    }\n",
       "\n",
       "    .dataframe thead th {\n",
       "        text-align: right;\n",
       "    }\n",
       "</style>\n",
       "<table border=\"1\" class=\"dataframe\">\n",
       "  <thead>\n",
       "    <tr style=\"text-align: right;\">\n",
       "      <th></th>\n",
       "      <th>x1</th>\n",
       "      <th>y1</th>\n",
       "    </tr>\n",
       "  </thead>\n",
       "  <tbody>\n",
       "    <tr>\n",
       "      <td>0</td>\n",
       "      <td>101</td>\n",
       "      <td>134</td>\n",
       "    </tr>\n",
       "    <tr>\n",
       "      <td>1</td>\n",
       "      <td>103</td>\n",
       "      <td>132</td>\n",
       "    </tr>\n",
       "    <tr>\n",
       "      <td>2</td>\n",
       "      <td>106</td>\n",
       "      <td>147</td>\n",
       "    </tr>\n",
       "    <tr>\n",
       "      <td>3</td>\n",
       "      <td>107</td>\n",
       "      <td>146</td>\n",
       "    </tr>\n",
       "    <tr>\n",
       "      <td>4</td>\n",
       "      <td>107</td>\n",
       "      <td>147</td>\n",
       "    </tr>\n",
       "  </tbody>\n",
       "</table>\n",
       "</div>"
      ],
      "text/plain": [
       "    x1   y1\n",
       "0  101  134\n",
       "1  103  132\n",
       "2  106  147\n",
       "3  107  146\n",
       "4  107  147"
      ]
     },
     "execution_count": 18,
     "metadata": {},
     "output_type": "execute_result"
    }
   ],
   "source": [
    "pdata = pre_processing(frames[0])\n",
    "pdata.head()"
   ]
  },
  {
   "cell_type": "markdown",
   "metadata": {},
   "source": [
    "Pre_processing function output with values \"x\" and \"y\"."
   ]
  },
  {
   "cell_type": "markdown",
   "metadata": {},
   "source": [
    "### 1.4 Clustering Process with MeanShift\n",
    "\n",
    "The purpose of the Mean-Shift clustering technique is to infer the average of clusters by their related density function, where an area calculation is made where the density values are higher and at this point a central point called centroid is measured. The process is performed recursively and is only terminated when the inference value is equal to the previous one.\n",
    "\n",
    "<img src=\"img/ms_2d_bw_2.gif\" align=\"left\" alt=\"Drawing\" style=\"width: 400px;\">"
   ]
  },
  {
   "cell_type": "code",
   "execution_count": 19,
   "metadata": {
    "ExecuteTime": {
     "end_time": "2019-09-17T18:45:55.976889Z",
     "start_time": "2019-09-17T18:45:55.649285Z"
    }
   },
   "outputs": [],
   "source": [
    "from sklearn.cluster import MeanShift, estimate_bandwidth\n",
    "\n",
    "def clust(time1):\n",
    "    \n",
    "    te = time1\n",
    "    \n",
    "    if len(te) < 20:\n",
    "        return None\n",
    "\n",
    "    bandwidth = estimate_bandwidth(te, quantile=0.3, n_samples=None, random_state=0, n_jobs=None)\n",
    "    \n",
    "    if bandwidth > 0:\n",
    "        ms = MeanShift(bandwidth=5, bin_seeding=None, cluster_all=True, min_bin_freq=1,\n",
    "    n_jobs=None, seeds=None)\n",
    "    else:\n",
    "        ms = MeanShift(bandwidth=10, bin_seeding=None, cluster_all=True, min_bin_freq=1,\n",
    "    n_jobs=None, seeds=None)\n",
    "\n",
    "    ms.fit(te)\n",
    "    labels = ms.labels_\n",
    "    cluster_centers = ms.cluster_centers_\n",
    "    n_clusters_ = len(np.unique(labels))\n",
    "    te['cluster']=labels\n",
    "        \n",
    "#     colors = 10*['r.','g.','b.','c.','k.','y.','m.']\n",
    "#     for i in range(len(te)):\n",
    "#         plt.plot(te['x1'][i], te['y1'][i], colors[labels[i]], markersize = 10)\n",
    "#         plt.title('Estimated number of clusters: %d' % n_clusters_)\n",
    "        \n",
    "#     for i, txt in enumerate(range(n_clusters_)):\n",
    "#         plt.annotate(txt,(cluster_centers[i,0],cluster_centers[i,1]),textcoords=\"offset points\",xytext=(0,10),ha='center')\n",
    "#     te['cluster']=labels\n",
    "    \n",
    "#     plt.scatter(cluster_centers[:,0], cluster_centers[:,1],\n",
    "#                marker = 'x', s=150, linewidths=10, zorder=10)\n",
    "    \n",
    "    return te"
   ]
  },
  {
   "cell_type": "code",
   "execution_count": 20,
   "metadata": {
    "ExecuteTime": {
     "end_time": "2019-09-17T18:45:56.154644Z",
     "start_time": "2019-09-17T18:45:55.978230Z"
    }
   },
   "outputs": [
    {
     "data": {
      "text/html": [
       "<div>\n",
       "<style scoped>\n",
       "    .dataframe tbody tr th:only-of-type {\n",
       "        vertical-align: middle;\n",
       "    }\n",
       "\n",
       "    .dataframe tbody tr th {\n",
       "        vertical-align: top;\n",
       "    }\n",
       "\n",
       "    .dataframe thead th {\n",
       "        text-align: right;\n",
       "    }\n",
       "</style>\n",
       "<table border=\"1\" class=\"dataframe\">\n",
       "  <thead>\n",
       "    <tr style=\"text-align: right;\">\n",
       "      <th></th>\n",
       "      <th>x1</th>\n",
       "      <th>y1</th>\n",
       "      <th>cluster</th>\n",
       "    </tr>\n",
       "  </thead>\n",
       "  <tbody>\n",
       "    <tr>\n",
       "      <td>0</td>\n",
       "      <td>101</td>\n",
       "      <td>134</td>\n",
       "      <td>6</td>\n",
       "    </tr>\n",
       "    <tr>\n",
       "      <td>1</td>\n",
       "      <td>103</td>\n",
       "      <td>132</td>\n",
       "      <td>6</td>\n",
       "    </tr>\n",
       "    <tr>\n",
       "      <td>2</td>\n",
       "      <td>106</td>\n",
       "      <td>147</td>\n",
       "      <td>1</td>\n",
       "    </tr>\n",
       "    <tr>\n",
       "      <td>3</td>\n",
       "      <td>107</td>\n",
       "      <td>146</td>\n",
       "      <td>1</td>\n",
       "    </tr>\n",
       "    <tr>\n",
       "      <td>4</td>\n",
       "      <td>107</td>\n",
       "      <td>147</td>\n",
       "      <td>1</td>\n",
       "    </tr>\n",
       "  </tbody>\n",
       "</table>\n",
       "</div>"
      ],
      "text/plain": [
       "    x1   y1  cluster\n",
       "0  101  134        6\n",
       "1  103  132        6\n",
       "2  106  147        1\n",
       "3  107  146        1\n",
       "4  107  147        1"
      ]
     },
     "execution_count": 20,
     "metadata": {},
     "output_type": "execute_result"
    }
   ],
   "source": [
    "day = 20140224\n",
    "frames = readData(day)\n",
    "pdata = pre_processing(frames[0])\n",
    "clusters = clust(pdata)\n",
    "clusters.head()"
   ]
  },
  {
   "cell_type": "markdown",
   "metadata": {},
   "source": [
    "### 1.5 Direction Relations"
   ]
  },
  {
   "cell_type": "markdown",
   "metadata": {},
   "source": [
    "To define direction relationships between the central points of each cloud and the radar, we use the directional relationship between the points. This approach has as its principle to relate the coordinates of the points and to verify the location between a reference point and a point to be measured. According (Papadias & Sellis, 1994), there are nine possible ways to place a primary point relative to a reference point in the plane, and thus nine disjoint relationships between coordinate pairs that provide complete object coverage.\n",
    "\n",
    "<img src=\"img/direction_relations.png\" align=\"center\" alt=\"Drawing\" style=\"width: 800px;\">"
   ]
  },
  {
   "cell_type": "code",
   "execution_count": 21,
   "metadata": {
    "ExecuteTime": {
     "end_time": "2019-09-17T18:45:57.063910Z",
     "start_time": "2019-09-17T18:45:57.055498Z"
    }
   },
   "outputs": [],
   "source": [
    "def tRelation(p,q):\n",
    "\n",
    "    north_west       =  p[1] <  q[1] and  p[0] >  q[0] \n",
    "    restricted_north =  p[1] == q[1] and  p[0] >  q[0]\n",
    "    north_east       =  p[1] >  q[1] and  p[0] >  q[0]\n",
    "    restricted_west  =  p[1] <  q[1] and  p[0] == q[0]\n",
    "    same_position    =  p[1] == q[1] and  p[0] == q[0]\n",
    "    restricted_east  =  p[1] >  q[1] and  p[0] == q[0]\n",
    "    south_west       =  p[1] <  q[1] and  p[0] <  q[0]\n",
    "    restricted_south =  p[1] == q[1] and  p[0] <  q[0] \n",
    "    south_est        =  p[1] >  q[1] and  p[0] <  q[0]\n",
    "\n",
    "    if north_west == True:\n",
    "        return ('NW')\n",
    "    if restricted_north == True:\n",
    "        return ('RN')\n",
    "    if north_east == True:\n",
    "        return ('NE')\n",
    "    if restricted_west == True:\n",
    "        return ('RW')\n",
    "    if same_position == True:\n",
    "        return('SP')\n",
    "    if restricted_east == True:\n",
    "        return ('RE')\n",
    "    if south_west == True:\n",
    "        return ('SW')\n",
    "    if restricted_south == True:\n",
    "        return ('RS')\n",
    "    if south_est == True:\n",
    "        return ('SE')"
   ]
  },
  {
   "cell_type": "code",
   "execution_count": 22,
   "metadata": {
    "ExecuteTime": {
     "end_time": "2019-09-17T18:45:57.359722Z",
     "start_time": "2019-09-17T18:45:57.354363Z"
    }
   },
   "outputs": [
    {
     "name": "stdout",
     "output_type": "stream",
     "text": [
      "Point p is  NW  of the radar.\n"
     ]
    }
   ],
   "source": [
    "x1,y1 = -1.9451030492782593,-61.034568786621094      # p(POINT)\n",
    "r1,r2 = -3.148556, -59.992000                        # q(RADAR)\n",
    "p = (x1,y1)                                    #PONTO\n",
    "q = (r1,r2)                                    #RADAR\n",
    "\n",
    "print('Point p is ',tRelation(p,q),' of the radar.')"
   ]
  },
  {
   "cell_type": "markdown",
   "metadata": {},
   "source": [
    "### 1.6 Create Data Process"
   ]
  },
  {
   "cell_type": "code",
   "execution_count": 45,
   "metadata": {
    "ExecuteTime": {
     "end_time": "2019-09-23T15:03:58.004849Z",
     "start_time": "2019-09-23T15:03:57.994892Z"
    }
   },
   "outputs": [],
   "source": [
    "from geopy.distance import geodesic\n",
    "\n",
    "def createData(day,time,clusters,frames):\n",
    "    \n",
    "    ##Static Radar Coordinates Value for Topological relation\n",
    "    radar = (-3.148556, -59.992000)\n",
    "\n",
    "    if isinstance(clusters,pd.DataFrame):\n",
    "\n",
    "        FAM1 = pd.DataFrame(columns=['DATETIME',\n",
    "                                     'N_Cluster','ID_CLUS','LAT','LON','DIST','IND_X','IND_Y',\n",
    "                                     'T_RELATION','RAIN_FALL','DBz'])\n",
    "        \n",
    "        rfall = []\n",
    "        rlation = []\n",
    "        ddist = []\n",
    "\n",
    "        LAT_ = (lat[clusters['x1'],clusters['y1']])\n",
    "        LON_ = (lon[clusters['x1'],clusters['y1']])\n",
    "        \n",
    "        # Calculate distance\n",
    "        for i, row in clusters.iterrows():\n",
    "            pt =(str(LAT_[i])+','+str(LON_[i]))\n",
    "            d = (geodesic(radar, pt).kilometers)\n",
    "            ddist.append(d)\n",
    "\n",
    "        # Calculate relation\n",
    "        for i,row in clusters.iterrows():\n",
    "            rfall.append(frames[row['x1']][row['y1']])\n",
    "            r = tRelation((LAT_[i],LON_[i]),radar)\n",
    "            rlation.append(r)\n",
    "            \n",
    "        xds = xr.open_dataset(str(path)+str(day)+'/'+str(sorted(os.listdir(path+str(day)))[time]))\n",
    "        dtime = xds.start_time.values\n",
    "                \n",
    "        FAM1['IND_X'], FAM1['IND_Y'] = clusters['x1'].astype('int16'),clusters['y1'].astype('int16')\n",
    "        FAM1['LAT'],FAM1['LON'] = LAT_,LON_\n",
    "        FAM1['DIST'] = ddist\n",
    "        FAM1['N_Cluster'] = len(clusters['cluster'].unique())\n",
    "        FAM1['ID_CLUS'] = clusters['cluster']\n",
    "        FAM1['RAIN_FALL'] = rfall\n",
    "        FAM1['T_RELATION'] = rlation\n",
    "        FAM1['DBz'] =  10 * np.log10(200*FAM1['RAIN_FALL']**1.6)\n",
    "        FAM1['DATETIME'] = pd.to_datetime(dtime)\n",
    "        FAM1 = FAM1.set_index('DATETIME')\n",
    "        FAM1 = FAM1.sort_values('ID_CLUS')\n",
    "        \n",
    "    else:\n",
    "        return None\n",
    "\n",
    "    return FAM1"
   ]
  },
  {
   "cell_type": "code",
   "execution_count": 46,
   "metadata": {
    "ExecuteTime": {
     "end_time": "2019-09-23T15:03:59.737236Z",
     "start_time": "2019-09-23T15:03:59.565103Z"
    }
   },
   "outputs": [
    {
     "data": {
      "text/html": [
       "<div>\n",
       "<style scoped>\n",
       "    .dataframe tbody tr th:only-of-type {\n",
       "        vertical-align: middle;\n",
       "    }\n",
       "\n",
       "    .dataframe tbody tr th {\n",
       "        vertical-align: top;\n",
       "    }\n",
       "\n",
       "    .dataframe thead th {\n",
       "        text-align: right;\n",
       "    }\n",
       "</style>\n",
       "<table border=\"1\" class=\"dataframe\">\n",
       "  <thead>\n",
       "    <tr style=\"text-align: right;\">\n",
       "      <th></th>\n",
       "      <th>N_Cluster</th>\n",
       "      <th>ID_CLUS</th>\n",
       "      <th>LAT</th>\n",
       "      <th>LON</th>\n",
       "      <th>DIST</th>\n",
       "      <th>IND_X</th>\n",
       "      <th>IND_Y</th>\n",
       "      <th>T_RELATION</th>\n",
       "      <th>RAIN_FALL</th>\n",
       "      <th>DBz</th>\n",
       "    </tr>\n",
       "    <tr>\n",
       "      <th>DATETIME</th>\n",
       "      <th></th>\n",
       "      <th></th>\n",
       "      <th></th>\n",
       "      <th></th>\n",
       "      <th></th>\n",
       "      <th></th>\n",
       "      <th></th>\n",
       "      <th></th>\n",
       "      <th></th>\n",
       "      <th></th>\n",
       "    </tr>\n",
       "  </thead>\n",
       "  <tbody>\n",
       "    <tr>\n",
       "      <td>2014-02-24 10:24:03</td>\n",
       "      <td>7</td>\n",
       "      <td>0</td>\n",
       "      <td>-2.771032</td>\n",
       "      <td>-58.535038</td>\n",
       "      <td>167.266142</td>\n",
       "      <td>141</td>\n",
       "      <td>201</td>\n",
       "      <td>NE</td>\n",
       "      <td>25.593754</td>\n",
       "      <td>45.540444</td>\n",
       "    </tr>\n",
       "    <tr>\n",
       "      <td>2014-02-24 10:24:03</td>\n",
       "      <td>7</td>\n",
       "      <td>0</td>\n",
       "      <td>-2.807100</td>\n",
       "      <td>-58.642918</td>\n",
       "      <td>154.657194</td>\n",
       "      <td>139</td>\n",
       "      <td>195</td>\n",
       "      <td>NE</td>\n",
       "      <td>27.573965</td>\n",
       "      <td>46.058287</td>\n",
       "    </tr>\n",
       "    <tr>\n",
       "      <td>2014-02-24 10:24:03</td>\n",
       "      <td>7</td>\n",
       "      <td>0</td>\n",
       "      <td>-2.789020</td>\n",
       "      <td>-58.553001</td>\n",
       "      <td>164.840998</td>\n",
       "      <td>140</td>\n",
       "      <td>200</td>\n",
       "      <td>NE</td>\n",
       "      <td>25.688057</td>\n",
       "      <td>45.566000</td>\n",
       "    </tr>\n",
       "    <tr>\n",
       "      <td>2014-02-24 10:24:03</td>\n",
       "      <td>7</td>\n",
       "      <td>0</td>\n",
       "      <td>-2.806984</td>\n",
       "      <td>-58.552979</td>\n",
       "      <td>164.374139</td>\n",
       "      <td>139</td>\n",
       "      <td>200</td>\n",
       "      <td>NE</td>\n",
       "      <td>22.336441</td>\n",
       "      <td>44.594524</td>\n",
       "    </tr>\n",
       "    <tr>\n",
       "      <td>2014-02-24 10:24:03</td>\n",
       "      <td>7</td>\n",
       "      <td>0</td>\n",
       "      <td>-2.860925</td>\n",
       "      <td>-58.588886</td>\n",
       "      <td>159.190108</td>\n",
       "      <td>136</td>\n",
       "      <td>198</td>\n",
       "      <td>NE</td>\n",
       "      <td>32.289410</td>\n",
       "      <td>47.155262</td>\n",
       "    </tr>\n",
       "  </tbody>\n",
       "</table>\n",
       "</div>"
      ],
      "text/plain": [
       "                     N_Cluster  ID_CLUS       LAT        LON        DIST  \\\n",
       "DATETIME                                                                   \n",
       "2014-02-24 10:24:03          7        0 -2.771032 -58.535038  167.266142   \n",
       "2014-02-24 10:24:03          7        0 -2.807100 -58.642918  154.657194   \n",
       "2014-02-24 10:24:03          7        0 -2.789020 -58.553001  164.840998   \n",
       "2014-02-24 10:24:03          7        0 -2.806984 -58.552979  164.374139   \n",
       "2014-02-24 10:24:03          7        0 -2.860925 -58.588886  159.190108   \n",
       "\n",
       "                     IND_X  IND_Y T_RELATION  RAIN_FALL        DBz  \n",
       "DATETIME                                                            \n",
       "2014-02-24 10:24:03    141    201         NE  25.593754  45.540444  \n",
       "2014-02-24 10:24:03    139    195         NE  27.573965  46.058287  \n",
       "2014-02-24 10:24:03    140    200         NE  25.688057  45.566000  \n",
       "2014-02-24 10:24:03    139    200         NE  22.336441  44.594524  \n",
       "2014-02-24 10:24:03    136    198         NE  32.289410  47.155262  "
      ]
     },
     "execution_count": 46,
     "metadata": {},
     "output_type": "execute_result"
    }
   ],
   "source": [
    "day = 20140224\n",
    "time = 0\n",
    "frames = readData(day)\n",
    "pdata = pre_processing(frames[time])\n",
    "clusters = clust(pdata)\n",
    "cdata = createData(day,time,clusters,frames[time])\n",
    "cdata.head()"
   ]
  },
  {
   "cell_type": "markdown",
   "metadata": {},
   "source": [
    "### 1.7 Extract Centroid by Max RAIN_FALL value"
   ]
  },
  {
   "cell_type": "code",
   "execution_count": 47,
   "metadata": {
    "ExecuteTime": {
     "end_time": "2019-09-23T15:04:02.208589Z",
     "start_time": "2019-09-23T15:04:02.205032Z"
    },
    "code_folding": []
   },
   "outputs": [],
   "source": [
    "def centroidData(clus):\n",
    "    if isinstance(clus,pd.DataFrame):\n",
    "        centroid = pd.DataFrame()\n",
    "            \n",
    "        for i in range(clus['N_Cluster'].max()):\n",
    "            ct = clus.loc[clus['ID_CLUS'] == i ]\n",
    "            ct = ct.loc[ct['RAIN_FALL'] == ct['RAIN_FALL'].max()]\n",
    "            centroid = centroid.append(ct)\n",
    "    else:\n",
    "        return None\n",
    "    return centroid"
   ]
  },
  {
   "cell_type": "code",
   "execution_count": 26,
   "metadata": {
    "ExecuteTime": {
     "end_time": "2019-09-17T18:46:00.967265Z",
     "start_time": "2019-09-17T18:46:00.929139Z"
    }
   },
   "outputs": [
    {
     "data": {
      "text/html": [
       "<div>\n",
       "<style scoped>\n",
       "    .dataframe tbody tr th:only-of-type {\n",
       "        vertical-align: middle;\n",
       "    }\n",
       "\n",
       "    .dataframe tbody tr th {\n",
       "        vertical-align: top;\n",
       "    }\n",
       "\n",
       "    .dataframe thead th {\n",
       "        text-align: right;\n",
       "    }\n",
       "</style>\n",
       "<table border=\"1\" class=\"dataframe\">\n",
       "  <thead>\n",
       "    <tr style=\"text-align: right;\">\n",
       "      <th></th>\n",
       "      <th>N_Cluster</th>\n",
       "      <th>ID_CLUS</th>\n",
       "      <th>LAT</th>\n",
       "      <th>LON</th>\n",
       "      <th>DIST</th>\n",
       "      <th>IND_X</th>\n",
       "      <th>IND_Y</th>\n",
       "      <th>T_RELATION</th>\n",
       "      <th>RAIN_FALL</th>\n",
       "      <th>DBz</th>\n",
       "    </tr>\n",
       "    <tr>\n",
       "      <th>DATETIME</th>\n",
       "      <th></th>\n",
       "      <th></th>\n",
       "      <th></th>\n",
       "      <th></th>\n",
       "      <th></th>\n",
       "      <th></th>\n",
       "      <th></th>\n",
       "      <th></th>\n",
       "      <th></th>\n",
       "      <th></th>\n",
       "    </tr>\n",
       "  </thead>\n",
       "  <tbody>\n",
       "    <tr>\n",
       "      <td>2014-02-24 10:24:03</td>\n",
       "      <td>7</td>\n",
       "      <td>0</td>\n",
       "      <td>-2.860925</td>\n",
       "      <td>-58.588886</td>\n",
       "      <td>159.190108</td>\n",
       "      <td>136</td>\n",
       "      <td>198</td>\n",
       "      <td>NE</td>\n",
       "      <td>32.289410</td>\n",
       "      <td>47.155262</td>\n",
       "    </tr>\n",
       "    <tr>\n",
       "      <td>2014-02-24 10:24:03</td>\n",
       "      <td>7</td>\n",
       "      <td>1</td>\n",
       "      <td>-3.382746</td>\n",
       "      <td>-59.506065</td>\n",
       "      <td>59.894445</td>\n",
       "      <td>107</td>\n",
       "      <td>147</td>\n",
       "      <td>SE</td>\n",
       "      <td>59.579063</td>\n",
       "      <td>51.411799</td>\n",
       "    </tr>\n",
       "    <tr>\n",
       "      <td>2014-02-24 10:24:03</td>\n",
       "      <td>7</td>\n",
       "      <td>2</td>\n",
       "      <td>-2.842433</td>\n",
       "      <td>-58.229141</td>\n",
       "      <td>198.876042</td>\n",
       "      <td>137</td>\n",
       "      <td>218</td>\n",
       "      <td>NE</td>\n",
       "      <td>24.709194</td>\n",
       "      <td>45.296037</td>\n",
       "    </tr>\n",
       "    <tr>\n",
       "      <td>2014-02-24 10:24:03</td>\n",
       "      <td>7</td>\n",
       "      <td>3</td>\n",
       "      <td>-2.699575</td>\n",
       "      <td>-58.876862</td>\n",
       "      <td>133.547233</td>\n",
       "      <td>145</td>\n",
       "      <td>182</td>\n",
       "      <td>NE</td>\n",
       "      <td>25.730152</td>\n",
       "      <td>45.577378</td>\n",
       "    </tr>\n",
       "    <tr>\n",
       "      <td>2014-02-24 10:24:03</td>\n",
       "      <td>7</td>\n",
       "      <td>4</td>\n",
       "      <td>-2.860568</td>\n",
       "      <td>-58.337044</td>\n",
       "      <td>186.712807</td>\n",
       "      <td>136</td>\n",
       "      <td>212</td>\n",
       "      <td>NE</td>\n",
       "      <td>49.179668</td>\n",
       "      <td>50.078869</td>\n",
       "    </tr>\n",
       "  </tbody>\n",
       "</table>\n",
       "</div>"
      ],
      "text/plain": [
       "                     N_Cluster  ID_CLUS       LAT        LON        DIST  \\\n",
       "DATETIME                                                                   \n",
       "2014-02-24 10:24:03          7        0 -2.860925 -58.588886  159.190108   \n",
       "2014-02-24 10:24:03          7        1 -3.382746 -59.506065   59.894445   \n",
       "2014-02-24 10:24:03          7        2 -2.842433 -58.229141  198.876042   \n",
       "2014-02-24 10:24:03          7        3 -2.699575 -58.876862  133.547233   \n",
       "2014-02-24 10:24:03          7        4 -2.860568 -58.337044  186.712807   \n",
       "\n",
       "                     IND_X  IND_Y T_RELATION  RAIN_FALL        DBz  \n",
       "DATETIME                                                            \n",
       "2014-02-24 10:24:03    136    198         NE  32.289410  47.155262  \n",
       "2014-02-24 10:24:03    107    147         SE  59.579063  51.411799  \n",
       "2014-02-24 10:24:03    137    218         NE  24.709194  45.296037  \n",
       "2014-02-24 10:24:03    145    182         NE  25.730152  45.577378  \n",
       "2014-02-24 10:24:03    136    212         NE  49.179668  50.078869  "
      ]
     },
     "execution_count": 26,
     "metadata": {},
     "output_type": "execute_result"
    }
   ],
   "source": [
    "ct = centroidData(cdata)\n",
    "ct.head()"
   ]
  },
  {
   "cell_type": "markdown",
   "metadata": {},
   "source": [
    "### 1.8 Pre-processing Data"
   ]
  },
  {
   "cell_type": "code",
   "execution_count": 48,
   "metadata": {
    "ExecuteTime": {
     "end_time": "2019-09-23T15:04:04.229333Z",
     "start_time": "2019-09-23T15:04:04.221356Z"
    }
   },
   "outputs": [],
   "source": [
    "def run(day):\n",
    "    data = readData(day)\n",
    "    cent = pd.DataFrame()\n",
    "    dados = pd.DataFrame()\n",
    "    \n",
    "    for i in range(len(data)):\n",
    "        proc = pre_processing(data[i]) \n",
    "        cluster = clust(proc)\n",
    "             \n",
    "        if isinstance(cluster,pd.DataFrame):\n",
    "            clt = createData(day,i,cluster,data[i])\n",
    "            dados = dados.append(clt)\n",
    "            clt2 = centroidData(clt)\n",
    "            cent = cent.append(clt2)\n",
    "        else:\n",
    "            pass\n",
    "    dados.to_csv('output/cluster/fam_'+str(sorted(os.listdir(path+str(day)))[i][:-3])+'.csv')\n",
    "    cent.to_csv('output/centroids/centroid_'+str(sorted(os.listdir(path+str(day)))[i][:-3])+'.csv')\n",
    "    return cent"
   ]
  },
  {
   "cell_type": "markdown",
   "metadata": {},
   "source": [
    "###  1.9 Run process per Day"
   ]
  },
  {
   "cell_type": "code",
   "execution_count": 49,
   "metadata": {
    "ExecuteTime": {
     "end_time": "2019-09-23T15:04:08.087287Z",
     "start_time": "2019-09-23T15:04:05.973852Z"
    }
   },
   "outputs": [],
   "source": [
    "day = 20140224\n",
    "runner = run(day)"
   ]
  },
  {
   "cell_type": "code",
   "execution_count": 50,
   "metadata": {
    "ExecuteTime": {
     "end_time": "2019-09-23T15:04:10.273011Z",
     "start_time": "2019-09-23T15:04:08.088736Z"
    }
   },
   "outputs": [],
   "source": [
    "path = 'data/radar/'\n",
    "\n",
    "for day in sorted(os.listdir(path)):\n",
    "    rodada = run(day)\n",
    "    rodada = None"
   ]
  },
  {
   "cell_type": "markdown",
   "metadata": {},
   "source": [
    "### 1.9.1 Plot Data"
   ]
  },
  {
   "cell_type": "code",
   "execution_count": 41,
   "metadata": {
    "ExecuteTime": {
     "end_time": "2019-09-23T11:52:06.418969Z",
     "start_time": "2019-09-23T11:52:04.605040Z"
    }
   },
   "outputs": [
    {
     "name": "stdout",
     "output_type": "stream",
     "text": [
      "2014-02-24T13:24:05.000000000\n"
     ]
    },
    {
     "data": {
      "image/png": "[encoded data removed]",
      "text/plain": [
       "<Figure size 1000x1000 with 2 Axes>"
      ]
     },
     "metadata": {
      "needs_background": "light"
     },
     "output_type": "display_data"
    }
   ],
   "source": [
    "day = 20140224\n",
    "plot(15,day)"
   ]
  },
  {
   "cell_type": "code",
   "execution_count": 40,
   "metadata": {
    "ExecuteTime": {
     "end_time": "2019-09-23T11:52:00.476171Z",
     "start_time": "2019-09-23T11:52:00.460216Z"
    }
   },
   "outputs": [],
   "source": [
    "import matplotlib.colors as mcolors\n",
    "from mpl_toolkits.basemap import Basemap\n",
    "from matplotlib import animation\n",
    "from matplotlib import markers\n",
    "\n",
    "def plot(frame,day):\n",
    "\n",
    "    data = readData(day)\n",
    "    proc = pre_processing(data[frame])\n",
    "    clt = clust(proc)\n",
    "\n",
    "    cdata = createData(day,frame,clt,data[frame])\n",
    "    centers = centroidData(cdata)\n",
    "\n",
    "    if centers is not None:\n",
    "        c_lat = centers['LAT']\n",
    "        c_lon = centers['LON']\n",
    "        \n",
    "        centroid = []\n",
    "        for i in range(centers['N_Cluster'].max()):\n",
    "            ct = centers.loc[centers['ID_CLUS'] == i ]\n",
    "#             ct = ct.loc[ct['RAIN_FALL'] == ct['RAIN_FALL'].max()]\n",
    "            centroid.append(ct) \n",
    "    else:\n",
    "        centroid = ''\n",
    "        \n",
    "    file = path+str(day)+'/'+str(sorted(os.listdir(path+str(day)))[frame])\n",
    "    xds = xr.open_dataset(file)\n",
    "    date_time = xds.start_time.data\n",
    "    date_time = pd.to_datetime(date_time)\n",
    "\n",
    "    my_coords = [-3.148556, -59.992000]     ## RADAR T1 SIPAM COORDS\n",
    "    zoom_scale = 2.2                        ## ZOOM SCALE\n",
    "\n",
    "    bbox = [my_coords[0]-zoom_scale,my_coords[0]+zoom_scale,\\\n",
    "             my_coords[1]-zoom_scale,my_coords[1]+zoom_scale]\n",
    "\n",
    "    fig, axes = plt.subplots(nrows=1,ncols=1,figsize=(10,10),dpi=100)\n",
    "    label = 'Rain rate in ' + runit+ ''\n",
    "    title = 'SIPAM Manaus S-Band Radar :' + str(date_time)\n",
    "\n",
    "    # draw filled contours.\n",
    "    clevs = [0, 1, 2.5, 5, 7.5, 10, 15, 20, 30, 40,\n",
    "                 50, 70, 100]\n",
    "\n",
    "    cmap_data = [(1.0, 1.0, 1.0),\n",
    "                     (0.3137255012989044, 0.8156862854957581, 0.8156862854957581),\n",
    "                     (0.0, 1.0, 1.0),\n",
    "                     (0.0, 0.8784313797950745, 0.501960813999176),\n",
    "                     (0.0, 0.7529411911964417, 0.0),\n",
    "                     (0.501960813999176, 0.8784313797950745, 0.0),\n",
    "                     (1.0, 1.0, 0.0),\n",
    "                     (1.0, 0.6274510025978088, 0.0),\n",
    "                     (1.0, 0.0, 0.0),\n",
    "                     (1.0, 0.125490203499794, 0.501960813999176),\n",
    "                     (0.9411764740943909, 0.250980406999588, 1.0),\n",
    "                     (0.501960813999176, 0.125490203499794, 1.0),\n",
    "                     (0.250980406999588, 0.250980406999588, 1.0)]\n",
    "\n",
    "    cmap = mcolors.ListedColormap(cmap_data, 'precipitation')\n",
    "    norm = mcolors.BoundaryNorm(clevs, cmap.N)\n",
    "    ax = axes\n",
    "\n",
    "    m = Basemap(projection='merc',llcrnrlat=bbox[0],urcrnrlat=bbox[1],\\\n",
    "                    llcrnrlon=bbox[2],urcrnrlon=bbox[3],lat_ts=10,resolution='i')\n",
    "\n",
    "    ## PRECIPTACAO\n",
    "    xi, yi = m(lon, lat)\n",
    "    ## SIPAM RADAR\n",
    "    xm, ym = m(my_coords[1],my_coords[0])\n",
    "    radar = m.plot(xm,ym, marker='^',color='r', label='RADAR')\n",
    "\n",
    "    for cent in range(len(centroid)):\n",
    "        clat, clon, mm_f = centroid[cent]['LAT'].item(),centroid[cent]['LON'].item(),centroid[cent]['RAIN_FALL'].item()\n",
    "        #clat, clon, mm_f = centroid[1]['LAT'].item(),centroid[1]['LON'].item(),centroid[1]['RAIN_FALL'].item()\n",
    "        t3x,t3y = m(clon, clat)\n",
    "#         m.plot(t3x,t3y, marker=markers.CARETDOWN, markersize=10, color='k')\n",
    "#         plt.annotate(str(mm_f)[0:5]+'mm/h', xy=(t3x,t3y),xytext=(t3x+12,t3y+12),rotation=45, size=10)\n",
    "\n",
    "    m.plot(xm,ym, label='Nº Clusters: ' +str(len(centroid)),marker=markers.CARETDOWN, color='k')\n",
    "\n",
    "    cs = m.pcolormesh(xi,yi,data[frame], cmap = cmap, norm = norm, ax=ax)\n",
    "\n",
    "    # # # # Add Grid Lines\n",
    "    m.drawparallels(np.arange(bbox[0],bbox[1],(bbox[1]-bbox[0])/5),labels=[1,0,0,0],rotation=45, size=(7))\n",
    "    m.drawmeridians(np.arange(bbox[2],bbox[3],(bbox[3]-bbox[2])/5),labels=[0,0,0,1],rotation=45, size=(7))\n",
    "    m.drawmapboundary(fill_color='gray')\n",
    "\n",
    "    m.readshapefile('./img/hidro/lineaire_1km', 'hidro10km', color='b', linewidth=1)\n",
    "    # # # # Add Colorbar\n",
    "    cbar = m.colorbar(cs, location='bottom', pad=\"10%\")\n",
    "    cbar.set_label(label)\n",
    "\n",
    "    # # # # # Add Title\n",
    "    plt.title(title)\n",
    "    plt.legend()\n",
    "    plt.ylabel('Longitude', labelpad=40)\n",
    "    plt.xlabel('Latitude', labelpad=60)\n",
    "\n",
    "    plt.savefig('radar_image/'+ sorted(os.listdir(path+str(day)))[frame]+'.png')\n",
    "\n",
    "    plt.show()"
   ]
  },
  {
   "cell_type": "code",
   "execution_count": 25,
   "metadata": {
    "ExecuteTime": {
     "end_time": "2019-09-06T12:50:10.256028Z",
     "start_time": "2019-09-06T12:50:10.254016Z"
    }
   },
   "outputs": [],
   "source": [
    "## CREATE ALL FIGS\n",
    "for i in range(len(frames)):\n",
    "    plot(i,day)"
   ]
  },
  {
   "cell_type": "markdown",
   "metadata": {},
   "source": [
    "<img src=\"img/radar_g.gif\" align=\"left\" alt=\"Drawing\" style=\"width: 850px;\">"
   ]
  },
  {
   "cell_type": "markdown",
   "metadata": {},
   "source": [
    "### 3. Tracking"
   ]
  },
  {
   "cell_type": "code",
   "execution_count": 26,
   "metadata": {
    "ExecuteTime": {
     "end_time": "2019-09-06T12:50:16.672954Z",
     "start_time": "2019-09-06T12:50:16.670881Z"
    }
   },
   "outputs": [],
   "source": [
    "import glob\n",
    "from scipy.spatial.distance import cdist"
   ]
  },
  {
   "cell_type": "code",
   "execution_count": 67,
   "metadata": {
    "ExecuteTime": {
     "end_time": "2019-09-06T13:03:11.860159Z",
     "start_time": "2019-09-06T13:02:09.173803Z"
    }
   },
   "outputs": [],
   "source": [
    "l = [pd.read_csv(filename) for filename in sorted(glob.glob(\"output/centroids/*.csv\"))]\n",
    "dados = pd.concat(l, axis=0, sort=False)\n",
    "dados['DATETIME'] =  pd.to_datetime(dados['DATETIME'], format='%Y-%m-%d %H:%M:%S')\n",
    "dados = dados.set_index('DATETIME')\n",
    "dados.index = dados.index.map(lambda x: x.replace(second=0))\n",
    "\n",
    "freqtime = pd.date_range(start=dados.index.min(), end=dados.index.max(), freq='12T')\n",
    "\n",
    "time = []\n",
    "\n",
    "for i in range(len(freqtime)):\n",
    "    t = dados.loc[dados.index == freqtime[i]]\n",
    "    time.append(t)"
   ]
  },
  {
   "cell_type": "code",
   "execution_count": 74,
   "metadata": {
    "ExecuteTime": {
     "end_time": "2019-09-06T13:12:40.035750Z",
     "start_time": "2019-09-06T13:12:40.017044Z"
    }
   },
   "outputs": [],
   "source": [
    "def calcDist(t1,t2):\n",
    "    \n",
    "    if len(t1) == 0 or len(t2) == 0:\n",
    "        return None\n",
    "    \n",
    "    time1 = t1\n",
    "    time2 = t2\n",
    "\n",
    "    t1 = t1[['ID_CLUS','IND_X','IND_Y']]\n",
    "    t1_data = t1.values.tolist()\n",
    "\n",
    "    t2 = t2[['ID_CLUS','IND_X','IND_Y']]\n",
    "    t2_data = t2.values.tolist()\n",
    "\n",
    "    t1_ = pd.DataFrame(data=t1_data, columns=['T1', 'X', 'Y'])\n",
    "    t2_ = pd.DataFrame(data=t2_data, columns=['T2', 'X', 'Y'])\n",
    "\n",
    "    mask = cdist(t2_[['X', 'Y']].values, t1_[['X', 'Y']].values,'euclidean') < 5\n",
    "\n",
    "    arr = []\n",
    "    def zone(x):\n",
    "        arr.append ( t1_[x].T1.values[0] if x.any() else np.nan)\n",
    "        \n",
    "    result = pd.DataFrame()\n",
    "    \n",
    "    np.apply_along_axis(zone, True, mask)\n",
    "    result['T1'] = arr\n",
    "    result['T2'] = t2_.T2.values\n",
    "    \n",
    "    result['START_TIME'] = t1.index[0]\n",
    "    result['END_TIME'] = t2.index[0]\n",
    "    result['X2'] = (t2.IND_X.values)\n",
    "    result['Y2'] = (t2.IND_Y.values)\n",
    "    result['LAT2'] = (time2.LAT.values)\n",
    "    result['LON2'] = (time2.LON.values)\n",
    "\n",
    "    x1,y1 = [],[]\n",
    "    lat1,lon1 = [],[]\n",
    "    lat2,lon2 = [],[]\n",
    "    dist = []\n",
    "    rfall1 = []\n",
    "    rfall2 = []\n",
    "\n",
    "    for i in range(len(arr)):\n",
    "        a = time1.loc[time1.ID_CLUS == arr[i]]\n",
    "        b = time2.loc[time2.ID_CLUS == arr[i]]\n",
    "        x1.append(a['IND_X'].values)\n",
    "        y1.append(a['IND_Y'].values)\n",
    "        \n",
    "        rfall1.append(a['RAIN_FALL'].values)\n",
    "        rfall2.append(b['RAIN_FALL'].values)\n",
    "\n",
    "        lat1.append(a['LAT'].values)\n",
    "        lon1.append(a['LON'].values)\n",
    "        \n",
    "\n",
    "    result['X1']= x1\n",
    "    result['Y1']= y1\n",
    "    result['LAT1'] = lat1\n",
    "    result['LON1'] = lon1\n",
    "    result['R_FALL1'] = rfall1\n",
    "    result['R_FALL2'] = rfall2\n",
    "\n",
    "    result['X1'] = result['X1'].str[0]\n",
    "    result['Y1'] = result['Y1'].str[0]\n",
    "    result['LAT1'] = result['LAT1'].str[0]\n",
    "    result['LON1'] = result['LON1'].str[0]\n",
    "    result['R_FALL1'] = result['R_FALL1'].str[0]\n",
    "    result['R_FALL2'] = result['R_FALL2'].str[0]\n",
    "    \n",
    "    result = result.sort_values('T1')\n",
    "    result = result.dropna()\n",
    "    result['T1'] = result['T1'].astype(int)\n",
    "    result['X1'] = result['X1'].astype(int)\n",
    "    result['Y1'] = result['Y1'].astype(int)\n",
    "    \n",
    "    dist,vel,rel = [],[],[]\n",
    "    \n",
    "    ## CALC DIST\n",
    "    for i,row in result.iterrows():\n",
    "        p1 = (str(row.LAT1)+','+str(row.LON1))\n",
    "        p2 = (str(row.LAT2)+','+str(row.LON2))\n",
    "        dist.append(geodesic(p1, p2).kilometers)\n",
    "        d1 = (row.LAT1,row.LON1)\n",
    "        d2 = (row.LAT2,row.LON2)\n",
    "        rel.append(tRelation(d1,d2))\n",
    "    \n",
    "    result['DIST'] = dist\n",
    "    result['REL'] = rel\n",
    "\n",
    "    ## CALV VEL\n",
    "    for i,row in result.iterrows():\n",
    "        vel.append(row.DIST/0.2)\n",
    "    result['VELM'] = vel\n",
    "    result = result[['START_TIME','END_TIME','T1','T2','X1','Y1','X2','Y2','LAT1','LON1','LAT2','LON2','DIST','VELM','REL','R_FALL1','R_FALL2']]\n",
    "\n",
    "    return result"
   ]
  },
  {
   "cell_type": "markdown",
   "metadata": {},
   "source": [
    "#### PROCESS DISTANCE VELOCITY RELATION"
   ]
  },
  {
   "cell_type": "code",
   "execution_count": 76,
   "metadata": {
    "ExecuteTime": {
     "end_time": "2019-09-06T13:31:15.284558Z",
     "start_time": "2019-09-06T13:13:25.979161Z"
    }
   },
   "outputs": [],
   "source": [
    "track = pd.DataFrame()\n",
    "\n",
    "aux = []\n",
    "\n",
    "for i in range(len(time)):\n",
    "    if len(time[i]) > 0:\n",
    "        aux.append(i)\n",
    "for i in range(len(aux)-1):\n",
    "    track = track.append(calcDist(time[aux[i]],time[aux[i+1]]))"
   ]
  },
  {
   "cell_type": "code",
   "execution_count": 77,
   "metadata": {
    "ExecuteTime": {
     "end_time": "2019-09-06T13:33:09.916384Z",
     "start_time": "2019-09-06T13:33:09.902928Z"
    }
   },
   "outputs": [
    {
     "data": {
      "text/html": [
       "<div>\n",
       "<style scoped>\n",
       "    .dataframe tbody tr th:only-of-type {\n",
       "        vertical-align: middle;\n",
       "    }\n",
       "\n",
       "    .dataframe tbody tr th {\n",
       "        vertical-align: top;\n",
       "    }\n",
       "\n",
       "    .dataframe thead th {\n",
       "        text-align: right;\n",
       "    }\n",
       "</style>\n",
       "<table border=\"1\" class=\"dataframe\">\n",
       "  <thead>\n",
       "    <tr style=\"text-align: right;\">\n",
       "      <th></th>\n",
       "      <th>START_TIME</th>\n",
       "      <th>END_TIME</th>\n",
       "      <th>T1</th>\n",
       "      <th>T2</th>\n",
       "      <th>X1</th>\n",
       "      <th>Y1</th>\n",
       "      <th>X2</th>\n",
       "      <th>Y2</th>\n",
       "      <th>LAT1</th>\n",
       "      <th>LON1</th>\n",
       "      <th>LAT2</th>\n",
       "      <th>LON2</th>\n",
       "      <th>DIST</th>\n",
       "      <th>VELM</th>\n",
       "      <th>REL</th>\n",
       "      <th>R_FALL1</th>\n",
       "      <th>R_FALL2</th>\n",
       "    </tr>\n",
       "  </thead>\n",
       "  <tbody>\n",
       "    <tr>\n",
       "      <td>0</td>\n",
       "      <td>2014-01-03 15:48:00</td>\n",
       "      <td>2014-01-03 16:00:00</td>\n",
       "      <td>0</td>\n",
       "      <td>0.0</td>\n",
       "      <td>33</td>\n",
       "      <td>150</td>\n",
       "      <td>32.0</td>\n",
       "      <td>146.0</td>\n",
       "      <td>-4.712206</td>\n",
       "      <td>-59.451252</td>\n",
       "      <td>-4.730213</td>\n",
       "      <td>-59.523340</td>\n",
       "      <td>8.241904</td>\n",
       "      <td>41.209518</td>\n",
       "      <td>NE</td>\n",
       "      <td>41.290218</td>\n",
       "      <td>47.742279</td>\n",
       "    </tr>\n",
       "    <tr>\n",
       "      <td>2</td>\n",
       "      <td>2014-01-03 15:48:00</td>\n",
       "      <td>2014-01-03 16:00:00</td>\n",
       "      <td>1</td>\n",
       "      <td>2.0</td>\n",
       "      <td>47</td>\n",
       "      <td>93</td>\n",
       "      <td>45.0</td>\n",
       "      <td>91.0</td>\n",
       "      <td>-4.460711</td>\n",
       "      <td>-60.478523</td>\n",
       "      <td>-4.496624</td>\n",
       "      <td>-60.514584</td>\n",
       "      <td>5.638058</td>\n",
       "      <td>28.190288</td>\n",
       "      <td>NE</td>\n",
       "      <td>36.253693</td>\n",
       "      <td>44.340618</td>\n",
       "    </tr>\n",
       "    <tr>\n",
       "      <td>1</td>\n",
       "      <td>2014-01-03 15:48:00</td>\n",
       "      <td>2014-01-03 16:00:00</td>\n",
       "      <td>2</td>\n",
       "      <td>1.0</td>\n",
       "      <td>70</td>\n",
       "      <td>171</td>\n",
       "      <td>67.0</td>\n",
       "      <td>169.0</td>\n",
       "      <td>-4.047174</td>\n",
       "      <td>-59.073467</td>\n",
       "      <td>-4.101104</td>\n",
       "      <td>-59.109432</td>\n",
       "      <td>7.177308</td>\n",
       "      <td>35.886538</td>\n",
       "      <td>NE</td>\n",
       "      <td>33.759628</td>\n",
       "      <td>29.245409</td>\n",
       "    </tr>\n",
       "    <tr>\n",
       "      <td>4</td>\n",
       "      <td>2014-01-03 15:48:00</td>\n",
       "      <td>2014-01-03 16:00:00</td>\n",
       "      <td>3</td>\n",
       "      <td>4.0</td>\n",
       "      <td>77</td>\n",
       "      <td>171</td>\n",
       "      <td>78.0</td>\n",
       "      <td>167.0</td>\n",
       "      <td>-3.921415</td>\n",
       "      <td>-59.073597</td>\n",
       "      <td>-3.903515</td>\n",
       "      <td>-59.145645</td>\n",
       "      <td>8.242960</td>\n",
       "      <td>41.214800</td>\n",
       "      <td>SE</td>\n",
       "      <td>23.575794</td>\n",
       "      <td>26.584373</td>\n",
       "    </tr>\n",
       "    <tr>\n",
       "      <td>6</td>\n",
       "      <td>2014-01-03 15:48:00</td>\n",
       "      <td>2014-01-03 16:00:00</td>\n",
       "      <td>4</td>\n",
       "      <td>6.0</td>\n",
       "      <td>57</td>\n",
       "      <td>173</td>\n",
       "      <td>61.0</td>\n",
       "      <td>171.0</td>\n",
       "      <td>-4.280689</td>\n",
       "      <td>-59.037186</td>\n",
       "      <td>-4.208863</td>\n",
       "      <td>-59.073290</td>\n",
       "      <td>8.896568</td>\n",
       "      <td>44.482842</td>\n",
       "      <td>SE</td>\n",
       "      <td>22.211754</td>\n",
       "      <td>26.135248</td>\n",
       "    </tr>\n",
       "  </tbody>\n",
       "</table>\n",
       "</div>"
      ],
      "text/plain": [
       "           START_TIME            END_TIME  T1   T2  X1   Y1    X2     Y2  \\\n",
       "0 2014-01-03 15:48:00 2014-01-03 16:00:00   0  0.0  33  150  32.0  146.0   \n",
       "2 2014-01-03 15:48:00 2014-01-03 16:00:00   1  2.0  47   93  45.0   91.0   \n",
       "1 2014-01-03 15:48:00 2014-01-03 16:00:00   2  1.0  70  171  67.0  169.0   \n",
       "4 2014-01-03 15:48:00 2014-01-03 16:00:00   3  4.0  77  171  78.0  167.0   \n",
       "6 2014-01-03 15:48:00 2014-01-03 16:00:00   4  6.0  57  173  61.0  171.0   \n",
       "\n",
       "       LAT1       LON1      LAT2       LON2      DIST       VELM REL  \\\n",
       "0 -4.712206 -59.451252 -4.730213 -59.523340  8.241904  41.209518  NE   \n",
       "2 -4.460711 -60.478523 -4.496624 -60.514584  5.638058  28.190288  NE   \n",
       "1 -4.047174 -59.073467 -4.101104 -59.109432  7.177308  35.886538  NE   \n",
       "4 -3.921415 -59.073597 -3.903515 -59.145645  8.242960  41.214800  SE   \n",
       "6 -4.280689 -59.037186 -4.208863 -59.073290  8.896568  44.482842  SE   \n",
       "\n",
       "     R_FALL1    R_FALL2  \n",
       "0  41.290218  47.742279  \n",
       "2  36.253693  44.340618  \n",
       "1  33.759628  29.245409  \n",
       "4  23.575794  26.584373  \n",
       "6  22.211754  26.135248  "
      ]
     },
     "execution_count": 77,
     "metadata": {},
     "output_type": "execute_result"
    }
   ],
   "source": [
    "track.head()"
   ]
  },
  {
   "cell_type": "code",
   "execution_count": 79,
   "metadata": {
    "ExecuteTime": {
     "end_time": "2019-09-06T13:33:32.557665Z",
     "start_time": "2019-09-06T13:33:30.378070Z"
    }
   },
   "outputs": [],
   "source": [
    "track.to_csv('output/tracking/tracking.csv')"
   ]
  },
  {
   "cell_type": "markdown",
   "metadata": {},
   "source": [
    "### 3. Statistics and Results"
   ]
  },
  {
   "cell_type": "code",
   "execution_count": 80,
   "metadata": {
    "ExecuteTime": {
     "end_time": "2019-09-06T13:34:02.873730Z",
     "start_time": "2019-09-06T13:34:02.679044Z"
    }
   },
   "outputs": [],
   "source": [
    "import glob\n",
    "import pandas as pd\n",
    "from datetime import datetime\n",
    "import matplotlib.pyplot as plt\n",
    "import plotly.graph_objects as go\n",
    "import plotly.express as px\n",
    "import calendar\n",
    "\n",
    "import warnings\n",
    "warnings.simplefilter(action='ignore', category=FutureWarning)\n",
    "\n",
    "%matplotlib inline"
   ]
  },
  {
   "cell_type": "markdown",
   "metadata": {},
   "source": [
    "##### CENTROID FILES"
   ]
  },
  {
   "cell_type": "code",
   "execution_count": 81,
   "metadata": {
    "ExecuteTime": {
     "end_time": "2019-09-06T13:34:06.033037Z",
     "start_time": "2019-09-06T13:34:03.855108Z"
    }
   },
   "outputs": [],
   "source": [
    "l = [pd.read_csv(filename) for filename in sorted(glob.glob(\"output/centroids/*.csv\"))]\n",
    "dados = pd.concat(l, axis=0, sort=False)\n",
    "dados = dados.loc[:, ~dados.columns.str.contains('^Unnamed')]\n",
    "dados['DATETIME'] =  pd.to_datetime(dados['DATETIME'], format='%Y-%m-%d %H:%M:%S')\n",
    "dados = dados.set_index('DATETIME')"
   ]
  },
  {
   "cell_type": "markdown",
   "metadata": {},
   "source": [
    "#### TRACKING FILES"
   ]
  },
  {
   "cell_type": "code",
   "execution_count": 82,
   "metadata": {
    "ExecuteTime": {
     "end_time": "2019-09-06T13:34:07.670277Z",
     "start_time": "2019-09-06T13:34:07.359056Z"
    }
   },
   "outputs": [],
   "source": [
    "f = [pd.read_csv(filename) for filename in sorted(glob.glob(\"output/tracking/*.csv\"))]\n",
    "tr = pd.concat(f, axis=0, sort=False)\n",
    "tr = tr.loc[:, ~tr.columns.str.contains('^Unnamed')]\n",
    "tr['START_TIME'] =  pd.to_datetime(tr['START_TIME'], format='%Y-%m-%d %H:%M:%S')\n",
    "tr['END_TIME'] =  pd.to_datetime(tr['END_TIME'], format='%Y-%m-%d %H:%M:%S')\n",
    "tr = tr.set_index('START_TIME')"
   ]
  },
  {
   "cell_type": "code",
   "execution_count": 83,
   "metadata": {
    "ExecuteTime": {
     "end_time": "2019-09-06T13:34:08.490398Z",
     "start_time": "2019-09-06T13:34:08.478879Z"
    }
   },
   "outputs": [
    {
     "data": {
      "text/html": [
       "<div>\n",
       "<style scoped>\n",
       "    .dataframe tbody tr th:only-of-type {\n",
       "        vertical-align: middle;\n",
       "    }\n",
       "\n",
       "    .dataframe tbody tr th {\n",
       "        vertical-align: top;\n",
       "    }\n",
       "\n",
       "    .dataframe thead th {\n",
       "        text-align: right;\n",
       "    }\n",
       "</style>\n",
       "<table border=\"1\" class=\"dataframe\">\n",
       "  <thead>\n",
       "    <tr style=\"text-align: right;\">\n",
       "      <th></th>\n",
       "      <th>N_Cluster</th>\n",
       "      <th>ID_CLUS</th>\n",
       "      <th>LAT</th>\n",
       "      <th>LON</th>\n",
       "      <th>DIST</th>\n",
       "      <th>IND_X</th>\n",
       "      <th>IND_Y</th>\n",
       "      <th>T_RELATION</th>\n",
       "      <th>RAIN_FALL</th>\n",
       "      <th>DBz</th>\n",
       "    </tr>\n",
       "    <tr>\n",
       "      <th>DATETIME</th>\n",
       "      <th></th>\n",
       "      <th></th>\n",
       "      <th></th>\n",
       "      <th></th>\n",
       "      <th></th>\n",
       "      <th></th>\n",
       "      <th></th>\n",
       "      <th></th>\n",
       "      <th></th>\n",
       "      <th></th>\n",
       "    </tr>\n",
       "  </thead>\n",
       "  <tbody>\n",
       "    <tr>\n",
       "      <td>2014-01-03 15:48:11</td>\n",
       "      <td>5.0</td>\n",
       "      <td>0.0</td>\n",
       "      <td>-4.712206</td>\n",
       "      <td>-59.451252</td>\n",
       "      <td>183.039558</td>\n",
       "      <td>33.0</td>\n",
       "      <td>150.0</td>\n",
       "      <td>SE</td>\n",
       "      <td>41.290218</td>\n",
       "      <td>48.863855</td>\n",
       "    </tr>\n",
       "    <tr>\n",
       "      <td>2014-01-03 15:48:11</td>\n",
       "      <td>5.0</td>\n",
       "      <td>1.0</td>\n",
       "      <td>-4.460711</td>\n",
       "      <td>-60.478523</td>\n",
       "      <td>154.833679</td>\n",
       "      <td>47.0</td>\n",
       "      <td>93.0</td>\n",
       "      <td>SW</td>\n",
       "      <td>36.253693</td>\n",
       "      <td>47.959936</td>\n",
       "    </tr>\n",
       "    <tr>\n",
       "      <td>2014-01-03 15:48:11</td>\n",
       "      <td>5.0</td>\n",
       "      <td>2.0</td>\n",
       "      <td>-4.047174</td>\n",
       "      <td>-59.073467</td>\n",
       "      <td>142.436170</td>\n",
       "      <td>70.0</td>\n",
       "      <td>171.0</td>\n",
       "      <td>SE</td>\n",
       "      <td>33.759628</td>\n",
       "      <td>47.464662</td>\n",
       "    </tr>\n",
       "    <tr>\n",
       "      <td>2014-01-03 15:48:11</td>\n",
       "      <td>5.0</td>\n",
       "      <td>3.0</td>\n",
       "      <td>-3.921415</td>\n",
       "      <td>-59.073597</td>\n",
       "      <td>133.102530</td>\n",
       "      <td>77.0</td>\n",
       "      <td>171.0</td>\n",
       "      <td>SE</td>\n",
       "      <td>23.575794</td>\n",
       "      <td>44.969761</td>\n",
       "    </tr>\n",
       "    <tr>\n",
       "      <td>2014-01-03 15:48:11</td>\n",
       "      <td>5.0</td>\n",
       "      <td>4.0</td>\n",
       "      <td>-4.280689</td>\n",
       "      <td>-59.037186</td>\n",
       "      <td>164.080874</td>\n",
       "      <td>57.0</td>\n",
       "      <td>173.0</td>\n",
       "      <td>SE</td>\n",
       "      <td>22.211754</td>\n",
       "      <td>44.555626</td>\n",
       "    </tr>\n",
       "  </tbody>\n",
       "</table>\n",
       "</div>"
      ],
      "text/plain": [
       "                     N_Cluster  ID_CLUS       LAT        LON        DIST  \\\n",
       "DATETIME                                                                   \n",
       "2014-01-03 15:48:11        5.0      0.0 -4.712206 -59.451252  183.039558   \n",
       "2014-01-03 15:48:11        5.0      1.0 -4.460711 -60.478523  154.833679   \n",
       "2014-01-03 15:48:11        5.0      2.0 -4.047174 -59.073467  142.436170   \n",
       "2014-01-03 15:48:11        5.0      3.0 -3.921415 -59.073597  133.102530   \n",
       "2014-01-03 15:48:11        5.0      4.0 -4.280689 -59.037186  164.080874   \n",
       "\n",
       "                     IND_X  IND_Y T_RELATION  RAIN_FALL        DBz  \n",
       "DATETIME                                                            \n",
       "2014-01-03 15:48:11   33.0  150.0         SE  41.290218  48.863855  \n",
       "2014-01-03 15:48:11   47.0   93.0         SW  36.253693  47.959936  \n",
       "2014-01-03 15:48:11   70.0  171.0         SE  33.759628  47.464662  \n",
       "2014-01-03 15:48:11   77.0  171.0         SE  23.575794  44.969761  \n",
       "2014-01-03 15:48:11   57.0  173.0         SE  22.211754  44.555626  "
      ]
     },
     "execution_count": 83,
     "metadata": {},
     "output_type": "execute_result"
    }
   ],
   "source": [
    "dados.head()"
   ]
  },
  {
   "cell_type": "code",
   "execution_count": 84,
   "metadata": {
    "ExecuteTime": {
     "end_time": "2019-09-06T13:34:08.804594Z",
     "start_time": "2019-09-06T13:34:08.786366Z"
    }
   },
   "outputs": [
    {
     "data": {
      "text/html": [
       "<div>\n",
       "<style scoped>\n",
       "    .dataframe tbody tr th:only-of-type {\n",
       "        vertical-align: middle;\n",
       "    }\n",
       "\n",
       "    .dataframe tbody tr th {\n",
       "        vertical-align: top;\n",
       "    }\n",
       "\n",
       "    .dataframe thead th {\n",
       "        text-align: right;\n",
       "    }\n",
       "</style>\n",
       "<table border=\"1\" class=\"dataframe\">\n",
       "  <thead>\n",
       "    <tr style=\"text-align: right;\">\n",
       "      <th></th>\n",
       "      <th>END_TIME</th>\n",
       "      <th>T1</th>\n",
       "      <th>T2</th>\n",
       "      <th>X1</th>\n",
       "      <th>Y1</th>\n",
       "      <th>X2</th>\n",
       "      <th>Y2</th>\n",
       "      <th>LAT1</th>\n",
       "      <th>LON1</th>\n",
       "      <th>LAT2</th>\n",
       "      <th>LON2</th>\n",
       "      <th>DIST</th>\n",
       "      <th>VELM</th>\n",
       "      <th>REL</th>\n",
       "      <th>R_FALL1</th>\n",
       "      <th>R_FALL2</th>\n",
       "    </tr>\n",
       "    <tr>\n",
       "      <th>START_TIME</th>\n",
       "      <th></th>\n",
       "      <th></th>\n",
       "      <th></th>\n",
       "      <th></th>\n",
       "      <th></th>\n",
       "      <th></th>\n",
       "      <th></th>\n",
       "      <th></th>\n",
       "      <th></th>\n",
       "      <th></th>\n",
       "      <th></th>\n",
       "      <th></th>\n",
       "      <th></th>\n",
       "      <th></th>\n",
       "      <th></th>\n",
       "      <th></th>\n",
       "    </tr>\n",
       "  </thead>\n",
       "  <tbody>\n",
       "    <tr>\n",
       "      <td>2014-01-03 15:48:00</td>\n",
       "      <td>2014-01-03 16:00:00</td>\n",
       "      <td>0</td>\n",
       "      <td>0.0</td>\n",
       "      <td>33</td>\n",
       "      <td>150</td>\n",
       "      <td>32.0</td>\n",
       "      <td>146.0</td>\n",
       "      <td>-4.712206</td>\n",
       "      <td>-59.451252</td>\n",
       "      <td>-4.730213</td>\n",
       "      <td>-59.523340</td>\n",
       "      <td>8.241904</td>\n",
       "      <td>41.209518</td>\n",
       "      <td>NE</td>\n",
       "      <td>41.290218</td>\n",
       "      <td>47.742279</td>\n",
       "    </tr>\n",
       "    <tr>\n",
       "      <td>2014-01-03 15:48:00</td>\n",
       "      <td>2014-01-03 16:00:00</td>\n",
       "      <td>1</td>\n",
       "      <td>2.0</td>\n",
       "      <td>47</td>\n",
       "      <td>93</td>\n",
       "      <td>45.0</td>\n",
       "      <td>91.0</td>\n",
       "      <td>-4.460712</td>\n",
       "      <td>-60.478523</td>\n",
       "      <td>-4.496624</td>\n",
       "      <td>-60.514584</td>\n",
       "      <td>5.638058</td>\n",
       "      <td>28.190288</td>\n",
       "      <td>NE</td>\n",
       "      <td>36.253693</td>\n",
       "      <td>44.340618</td>\n",
       "    </tr>\n",
       "    <tr>\n",
       "      <td>2014-01-03 15:48:00</td>\n",
       "      <td>2014-01-03 16:00:00</td>\n",
       "      <td>2</td>\n",
       "      <td>1.0</td>\n",
       "      <td>70</td>\n",
       "      <td>171</td>\n",
       "      <td>67.0</td>\n",
       "      <td>169.0</td>\n",
       "      <td>-4.047174</td>\n",
       "      <td>-59.073467</td>\n",
       "      <td>-4.101104</td>\n",
       "      <td>-59.109432</td>\n",
       "      <td>7.177308</td>\n",
       "      <td>35.886538</td>\n",
       "      <td>NE</td>\n",
       "      <td>33.759628</td>\n",
       "      <td>29.245409</td>\n",
       "    </tr>\n",
       "    <tr>\n",
       "      <td>2014-01-03 15:48:00</td>\n",
       "      <td>2014-01-03 16:00:00</td>\n",
       "      <td>3</td>\n",
       "      <td>4.0</td>\n",
       "      <td>77</td>\n",
       "      <td>171</td>\n",
       "      <td>78.0</td>\n",
       "      <td>167.0</td>\n",
       "      <td>-3.921415</td>\n",
       "      <td>-59.073597</td>\n",
       "      <td>-3.903515</td>\n",
       "      <td>-59.145645</td>\n",
       "      <td>8.242960</td>\n",
       "      <td>41.214800</td>\n",
       "      <td>SE</td>\n",
       "      <td>23.575794</td>\n",
       "      <td>26.584373</td>\n",
       "    </tr>\n",
       "    <tr>\n",
       "      <td>2014-01-03 15:48:00</td>\n",
       "      <td>2014-01-03 16:00:00</td>\n",
       "      <td>4</td>\n",
       "      <td>6.0</td>\n",
       "      <td>57</td>\n",
       "      <td>173</td>\n",
       "      <td>61.0</td>\n",
       "      <td>171.0</td>\n",
       "      <td>-4.280689</td>\n",
       "      <td>-59.037186</td>\n",
       "      <td>-4.208863</td>\n",
       "      <td>-59.073290</td>\n",
       "      <td>8.896568</td>\n",
       "      <td>44.482842</td>\n",
       "      <td>SE</td>\n",
       "      <td>22.211754</td>\n",
       "      <td>26.135248</td>\n",
       "    </tr>\n",
       "  </tbody>\n",
       "</table>\n",
       "</div>"
      ],
      "text/plain": [
       "                               END_TIME  T1   T2  X1   Y1    X2     Y2  \\\n",
       "START_TIME                                                               \n",
       "2014-01-03 15:48:00 2014-01-03 16:00:00   0  0.0  33  150  32.0  146.0   \n",
       "2014-01-03 15:48:00 2014-01-03 16:00:00   1  2.0  47   93  45.0   91.0   \n",
       "2014-01-03 15:48:00 2014-01-03 16:00:00   2  1.0  70  171  67.0  169.0   \n",
       "2014-01-03 15:48:00 2014-01-03 16:00:00   3  4.0  77  171  78.0  167.0   \n",
       "2014-01-03 15:48:00 2014-01-03 16:00:00   4  6.0  57  173  61.0  171.0   \n",
       "\n",
       "                         LAT1       LON1      LAT2       LON2      DIST  \\\n",
       "START_TIME                                                                \n",
       "2014-01-03 15:48:00 -4.712206 -59.451252 -4.730213 -59.523340  8.241904   \n",
       "2014-01-03 15:48:00 -4.460712 -60.478523 -4.496624 -60.514584  5.638058   \n",
       "2014-01-03 15:48:00 -4.047174 -59.073467 -4.101104 -59.109432  7.177308   \n",
       "2014-01-03 15:48:00 -3.921415 -59.073597 -3.903515 -59.145645  8.242960   \n",
       "2014-01-03 15:48:00 -4.280689 -59.037186 -4.208863 -59.073290  8.896568   \n",
       "\n",
       "                          VELM REL    R_FALL1    R_FALL2  \n",
       "START_TIME                                                \n",
       "2014-01-03 15:48:00  41.209518  NE  41.290218  47.742279  \n",
       "2014-01-03 15:48:00  28.190288  NE  36.253693  44.340618  \n",
       "2014-01-03 15:48:00  35.886538  NE  33.759628  29.245409  \n",
       "2014-01-03 15:48:00  41.214800  SE  23.575794  26.584373  \n",
       "2014-01-03 15:48:00  44.482842  SE  22.211754  26.135248  "
      ]
     },
     "execution_count": 84,
     "metadata": {},
     "output_type": "execute_result"
    }
   ],
   "source": [
    "tr.head()"
   ]
  },
  {
   "cell_type": "code",
   "execution_count": 85,
   "metadata": {
    "ExecuteTime": {
     "end_time": "2019-09-06T13:34:11.489835Z",
     "start_time": "2019-09-06T13:34:11.471055Z"
    }
   },
   "outputs": [],
   "source": [
    "tidy_data2014 = dados['2014']\n",
    "tidy_data2015 = dados['2015']\n",
    "tidy_trac2014 = tr['2014']\n",
    "tidy_trac2015 = tr['2015']"
   ]
  },
  {
   "cell_type": "markdown",
   "metadata": {},
   "source": [
    "#### NUM CLUSTERS"
   ]
  },
  {
   "cell_type": "code",
   "execution_count": 86,
   "metadata": {
    "ExecuteTime": {
     "end_time": "2019-09-06T13:34:13.799402Z",
     "start_time": "2019-09-06T13:34:13.516921Z"
    }
   },
   "outputs": [],
   "source": [
    "NCluster = tidy_data2014.resample('min').mean()\n",
    "NCluster = NCluster.dropna()\n",
    "NCluster = NCluster.resample('M')[['N_Cluster']].sum()\n",
    "\n",
    "NCluster5 = tidy_data2015.resample('min').mean()\n",
    "NCluster5 = NCluster5.dropna()\n",
    "NCluster5 = NCluster5.resample('M')[['N_Cluster']].sum()\n",
    "\n",
    "cdf2014 = pd.DataFrame({'date':NCluster.index, 'clusters':NCluster.values.ravel()})\n",
    "cdf2015 = pd.DataFrame({'date':NCluster5.index, 'clusters':NCluster5.values.ravel()})\n",
    "\n",
    "dt = tidy_trac2014.index.month.unique()\n",
    "dn = []\n",
    "for month_idx in dt.values:\n",
    "    dn.append(calendar.month_abbr[month_idx])"
   ]
  },
  {
   "cell_type": "code",
   "execution_count": 87,
   "metadata": {
    "ExecuteTime": {
     "end_time": "2019-09-06T13:34:18.197948Z",
     "start_time": "2019-09-06T13:34:14.635297Z"
    }
   },
   "outputs": [],
   "source": [
    "fig = go.Figure()\n",
    "fig.add_trace(go.Scatter(x=dn, y=cdf2014['clusters'], name=\"2014\",\n",
    "                         line_color='deepskyblue'))\n",
    "\n",
    "fig.add_trace(go.Scatter(x=dn, y=cdf2015['clusters'], name=\"2015\",\n",
    "                         line_color='dimgray'))\n",
    "\n",
    "\n",
    "fig.update_layout(\n",
    "    title=go.layout.Title(\n",
    "        text=\"Ocorrências de Clusters para os anos de 2014 e 2015\",\n",
    "        xref=\"paper\",\n",
    "        xanchor = \"auto\",\n",
    "        x=0,\n",
    "    ),\n",
    "    yaxis=go.layout.YAxis(\n",
    "        title=go.layout.yaxis.Title(\n",
    "            text=\"Número de clusters\",\n",
    "            font=dict(\n",
    "                family=\"Courier New, monospace\",\n",
    "                size=14,\n",
    "                color=\"#7f7f7f\"\n",
    "            )\n",
    "        )\n",
    "    )\n",
    ")\n",
    "fig.write_image(\"img/graficos/clus_num2014_2015.png\")"
   ]
  },
  {
   "cell_type": "markdown",
   "metadata": {},
   "source": [
    "<img src=\"img/graficos/clus_num2014_2015.png\" align=\"center\" alt=\"Drawing\" style=\"width: 800px;\">"
   ]
  },
  {
   "cell_type": "code",
   "execution_count": 88,
   "metadata": {
    "ExecuteTime": {
     "end_time": "2019-09-06T13:34:18.234870Z",
     "start_time": "2019-09-06T13:34:18.203166Z"
    }
   },
   "outputs": [],
   "source": [
    "VELOM14 = tidy_trac2014.resample('M')[['VELM']].mean()\n",
    "DISTM14 = tidy_trac2014.resample('M')[['DIST']].mean()\n",
    "VELOM15 = tidy_trac2015.resample('M')[['VELM']].mean()\n",
    "DISTM15 = tidy_trac2015.resample('M')[['DIST']].mean()"
   ]
  },
  {
   "cell_type": "code",
   "execution_count": 89,
   "metadata": {
    "ExecuteTime": {
     "end_time": "2019-09-06T13:34:21.114546Z",
     "start_time": "2019-09-06T13:34:20.918549Z"
    }
   },
   "outputs": [],
   "source": [
    "fig = go.Figure()\n",
    "fig.add_trace(go.Scatter(x=dn, y=VELOM14['VELM'], name=\"2014\",\n",
    "                         line_color='deepskyblue'))\n",
    "\n",
    "fig.add_trace(go.Scatter(x=dn, y=VELOM15['VELM'], name=\"2015\",\n",
    "                         line_color='dimgray'))\n",
    "\n",
    "\n",
    "fig.update_layout(\n",
    "    title=go.layout.Title(\n",
    "        text=\"Velocidade média dos clusters 2014 e 2015\",\n",
    "        xref=\"paper\",\n",
    "        xanchor = \"auto\",\n",
    "        x=0,\n",
    "    ),\n",
    "    yaxis=go.layout.YAxis(\n",
    "        title=go.layout.yaxis.Title(\n",
    "            text=\"Velocidade média mensal em km/h\",\n",
    "            font=dict(\n",
    "                family=\"Courier New, monospace\",\n",
    "                size=14,\n",
    "                color=\"#7f7f7f\"\n",
    "            )\n",
    "        )\n",
    "    )\n",
    ")\n",
    "fig.write_image(\"img/graficos/ve_med_2014_2015.png\")"
   ]
  },
  {
   "cell_type": "markdown",
   "metadata": {},
   "source": [
    "<img src=\"img/graficos/ve_med_2014_2015.png\" align=\"center\" alt=\"Drawing\" style=\"width: 800px;\">"
   ]
  },
  {
   "cell_type": "code",
   "execution_count": 90,
   "metadata": {
    "ExecuteTime": {
     "end_time": "2019-09-06T13:34:22.225121Z",
     "start_time": "2019-09-06T13:34:22.029163Z"
    }
   },
   "outputs": [],
   "source": [
    "fig = go.Figure()\n",
    "fig.add_trace(go.Scatter(x=dn, y=DISTM14['DIST'], name=\"2014\",\n",
    "                         line_color='deepskyblue'))\n",
    "\n",
    "fig.add_trace(go.Scatter(x=dn, y=DISTM15['DIST'], name=\"2015\",\n",
    "                         line_color='dimgray'))\n",
    "\n",
    "\n",
    "fig.update_layout(\n",
    "    title=go.layout.Title(\n",
    "        text=\"Distância média percorreida de clusters individuais 2014 e 2015\",\n",
    "        xref=\"paper\",\n",
    "        xanchor = \"auto\",\n",
    "        x=0,\n",
    "    ),\n",
    "    yaxis=go.layout.YAxis(\n",
    "        title=go.layout.yaxis.Title(\n",
    "            text=\"Distância média percorrida em metros\",\n",
    "            font=dict(\n",
    "                family=\"Courier New, monospace\",\n",
    "                size=14,\n",
    "                color=\"#7f7f7f\"\n",
    "            )\n",
    "        )\n",
    "    )\n",
    ")\n",
    "fig.write_image(\"img/graficos/dist_med_2014_2015.png\")"
   ]
  },
  {
   "cell_type": "markdown",
   "metadata": {},
   "source": [
    "<img src=\"img/graficos/dist_med_2014_2015.png\" align=\"center\" alt=\"Drawing\" style=\"width: 800px;\">"
   ]
  },
  {
   "cell_type": "markdown",
   "metadata": {},
   "source": [
    "#### PRECIPITACAO OCORRENCIAS"
   ]
  },
  {
   "cell_type": "code",
   "execution_count": 91,
   "metadata": {
    "ExecuteTime": {
     "end_time": "2019-09-06T13:34:24.235403Z",
     "start_time": "2019-09-06T13:34:23.982693Z"
    }
   },
   "outputs": [],
   "source": [
    "NRain = tidy_data2014.resample('min').mean()\n",
    "NRain = NRain.dropna()\n",
    "NRain = NRain.resample('MS')[['RAIN_FALL']].mean()\n",
    "\n",
    "NRain5 = tidy_data2015.resample('min').mean()\n",
    "NRain5 = NRain5.dropna()\n",
    "NRain5 = NRain5.resample('MS')[['RAIN_FALL']].mean()\n",
    "\n",
    "rdf2014 = pd.DataFrame({'date':NRain.index, 'clusters':NRain.values.ravel()})\n",
    "rdf2015 = pd.DataFrame({'date':NRain5.index, 'clusters':NRain5.values.ravel()})"
   ]
  },
  {
   "cell_type": "code",
   "execution_count": 92,
   "metadata": {
    "ExecuteTime": {
     "end_time": "2019-09-06T13:34:24.786450Z",
     "start_time": "2019-09-06T13:34:24.610230Z"
    }
   },
   "outputs": [],
   "source": [
    "fig = go.Figure()\n",
    "fig.add_trace(go.Scatter(x=dn, y=rdf2014['clusters'], name=\"2014\",\n",
    "                         line_color='deepskyblue'))\n",
    "\n",
    "fig.add_trace(go.Scatter(x=dn, y=rdf2015['clusters'], name=\"2015\",\n",
    "                         line_color='dimgray'))\n",
    "\n",
    "\n",
    "fig.update_layout(\n",
    "    title=go.layout.Title(\n",
    "        text=\"Precipitação média mensal de 2014 e 2015\",\n",
    "        xref=\"paper\",\n",
    "        xanchor = \"auto\",\n",
    "        x=0,\n",
    "    ),\n",
    "    yaxis=go.layout.YAxis(\n",
    "        title=go.layout.yaxis.Title(\n",
    "            text=\"Precipitação média por clusters\",\n",
    "            font=dict(\n",
    "                family=\"Courier New, monospace\",\n",
    "                size=14,\n",
    "                color=\"#7f7f7f\"\n",
    "            )\n",
    "        )\n",
    "    )\n",
    ")\n",
    "fig.write_image(\"img/graficos/prec_med_2014_2015.png\")"
   ]
  },
  {
   "cell_type": "markdown",
   "metadata": {},
   "source": [
    "<img src=\"img/graficos/prec_med_2014_2015.png\" align=\"center\" alt=\"Drawing\" style=\"width: 800px;\">"
   ]
  },
  {
   "cell_type": "markdown",
   "metadata": {},
   "source": [
    "### RELACOES DIRECIONAIS"
   ]
  },
  {
   "cell_type": "code",
   "execution_count": 93,
   "metadata": {
    "ExecuteTime": {
     "end_time": "2019-09-06T13:34:26.367130Z",
     "start_time": "2019-09-06T13:34:25.993320Z"
    }
   },
   "outputs": [],
   "source": [
    "an2014 = tidy_data2014.resample('Y')['T_RELATION'].value_counts()\n",
    "\n",
    "df2014 = pd.DataFrame({'Relação':an2014.index.get_level_values('T_RELATION').values, 'Valores':an2014.values.ravel()})\n",
    "\n",
    "fig = px.bar(df2014, x='Relação', y='Valores', color='Relação', labels='Relação')\n",
    "fig.update_layout(title_text='Relações direcionais para o ano de 2014')\n",
    "fig.write_image(\"img/graficos/all_rel_dir_2014.png\")"
   ]
  },
  {
   "cell_type": "markdown",
   "metadata": {},
   "source": [
    "<img src=\"img/graficos/all_rel_dir_2014.png\" align=\"center\" alt=\"Drawing\" style=\"width: 600px;\">"
   ]
  },
  {
   "cell_type": "code",
   "execution_count": 94,
   "metadata": {
    "ExecuteTime": {
     "end_time": "2019-09-06T13:34:27.483110Z",
     "start_time": "2019-09-06T13:34:27.144218Z"
    }
   },
   "outputs": [],
   "source": [
    "an2015 = tidy_data2015.resample('Y')['T_RELATION'].value_counts()\n",
    "\n",
    "an2015 = pd.DataFrame({'Relação':an2015.index.get_level_values('T_RELATION').values, 'Valores':an2015.values.ravel()})\n",
    "\n",
    "fig = px.bar(an2015, x='Relação', y='Valores', color='Relação', labels='Relação')\n",
    "fig.update_layout(title_text='Relações direcionais para o ano de 2015')\n",
    "fig.write_image(\"img/graficos/all_rel_dir_2015.png\")"
   ]
  },
  {
   "cell_type": "markdown",
   "metadata": {},
   "source": [
    "<img src=\"img/graficos/all_rel_dir_2015.png\" align=\"center\" alt=\"Drawing\" style=\"width: 600px;\">"
   ]
  },
  {
   "cell_type": "code",
   "execution_count": 95,
   "metadata": {
    "ExecuteTime": {
     "end_time": "2019-09-06T13:34:28.446699Z",
     "start_time": "2019-09-06T13:34:28.297505Z"
    }
   },
   "outputs": [],
   "source": [
    "fig = go.Figure()\n",
    "fig.add_trace(go.Bar(\n",
    "    x=df2014['Relação'],\n",
    "    y=df2014['Valores'],\n",
    "    name='2014',\n",
    "    marker_color='indianred'\n",
    "))\n",
    "fig.add_trace(go.Bar(\n",
    "    x=an2015['Relação'],\n",
    "    y=an2015['Valores'],\n",
    "    name='2015',\n",
    "    marker_color='lightsalmon'\n",
    "))\n",
    "\n",
    "fig.update_layout(title_text='Relações direcionais para os anos 2015 2015', barmode='group')\n",
    "fig.write_image(\"img/graficos/rel_dir_20142015.png\")"
   ]
  },
  {
   "cell_type": "markdown",
   "metadata": {
    "ExecuteTime": {
     "end_time": "2019-09-05T14:24:15.342174Z",
     "start_time": "2019-09-05T14:24:15.336544Z"
    }
   },
   "source": [
    "<img src=\"img/graficos/rel_dir_20142015.png\" align=\"center\" alt=\"Drawing\" style=\"width: 600px;\">"
   ]
  },
  {
   "cell_type": "code",
   "execution_count": 96,
   "metadata": {
    "ExecuteTime": {
     "end_time": "2019-09-06T13:34:29.985695Z",
     "start_time": "2019-09-06T13:34:29.612845Z"
    }
   },
   "outputs": [],
   "source": [
    "men2014 = tidy_data2014.resample('MS')['T_RELATION'].value_counts()\n",
    "\n",
    "m2014 = pd.DataFrame({'Data': men2014.index.get_level_values('DATETIME').values.ravel(),\n",
    "                      'Relação':men2014.index.get_level_values('T_RELATION').values.ravel(),\n",
    "                      'Valores':men2014.values.ravel()})\n",
    "\n",
    "m2014['Data'] = pd.to_datetime(m2014['Data'])\n",
    "\n",
    "fig = px.bar(m2014, x='Data', y='Valores', color='Relação', labels='Relação',barmode='group')\n",
    "fig.update_layout(title_text='Relações direcionais para o ano de 2014', xaxis = go.layout.XAxis(\n",
    "   title=go.layout.xaxis.Title(text=\"Ano 2014\")))\n",
    "fig.write_image(\"img/graficos/rel_dir_2014.png\")"
   ]
  },
  {
   "cell_type": "markdown",
   "metadata": {},
   "source": [
    "<img src=\"img/graficos/rel_dir_2014.png\" align=\"center\" alt=\"Drawing\" style=\"width: 800px;\">"
   ]
  },
  {
   "cell_type": "code",
   "execution_count": 97,
   "metadata": {
    "ExecuteTime": {
     "end_time": "2019-09-06T13:34:34.652216Z",
     "start_time": "2019-09-06T13:34:34.296216Z"
    }
   },
   "outputs": [],
   "source": [
    "men2015 = tidy_data2015.resample('MS')['T_RELATION'].value_counts()\n",
    "\n",
    "m2015 = pd.DataFrame({'Data': men2015.index.get_level_values('DATETIME').values.ravel(),\n",
    "                      'Relação':men2015.index.get_level_values('T_RELATION').values.ravel(),\n",
    "                      'Valores':men2015.values.ravel()})\n",
    "\n",
    "m2015['Data'] = pd.to_datetime(m2015['Data'])\n",
    "\n",
    "fig = px.bar(m2015, x='Data', y='Valores', color='Relação', labels='Relação',barmode='group')\n",
    "fig.update_layout(title_text='Relações direcionais para o ano de 2015', xaxis = go.layout.XAxis(\n",
    "   title=go.layout.xaxis.Title(text=\"Ano 2015\")))\n",
    "fig.write_image(\"img/graficos/rel_dir_2015.png\")"
   ]
  },
  {
   "cell_type": "markdown",
   "metadata": {},
   "source": [
    "<img src=\"img/graficos/rel_dir_2015.png\" align=\"center\" alt=\"Drawing\" style=\"width: 800px;\">"
   ]
  },
  {
   "cell_type": "markdown",
   "metadata": {},
   "source": [
    "### FORTRACC"
   ]
  },
  {
   "cell_type": "code",
   "execution_count": 98,
   "metadata": {
    "ExecuteTime": {
     "end_time": "2019-09-06T13:34:36.140286Z",
     "start_time": "2019-09-06T13:34:36.136110Z"
    }
   },
   "outputs": [],
   "source": [
    "import glob\n",
    "from datetime import datetime\n",
    "import pandas as pd\n",
    "import plotly.graph_objects as go"
   ]
  },
  {
   "cell_type": "code",
   "execution_count": 99,
   "metadata": {
    "ExecuteTime": {
     "end_time": "2019-09-06T13:35:40.882369Z",
     "start_time": "2019-09-06T13:34:37.726526Z"
    }
   },
   "outputs": [],
   "source": [
    "f = [pd.read_csv(filename, delimiter=r\"\\s+\") for filename in sorted(glob.glob(\"output/fortracc/*.txt\"))]\n",
    "fortracc = pd.concat(f, axis=0, sort=False)"
   ]
  },
  {
   "cell_type": "code",
   "execution_count": 100,
   "metadata": {
    "ExecuteTime": {
     "end_time": "2019-09-06T13:35:40.902388Z",
     "start_time": "2019-09-06T13:35:40.883709Z"
    }
   },
   "outputs": [
    {
     "data": {
      "text/html": [
       "<div>\n",
       "<style scoped>\n",
       "    .dataframe tbody tr th:only-of-type {\n",
       "        vertical-align: middle;\n",
       "    }\n",
       "\n",
       "    .dataframe tbody tr th {\n",
       "        vertical-align: top;\n",
       "    }\n",
       "\n",
       "    .dataframe thead th {\n",
       "        text-align: right;\n",
       "    }\n",
       "</style>\n",
       "<table border=\"1\" class=\"dataframe\">\n",
       "  <thead>\n",
       "    <tr style=\"text-align: right;\">\n",
       "      <th></th>\n",
       "      <th>YEAR</th>\n",
       "      <th>MONTH</th>\n",
       "      <th>DAY</th>\n",
       "      <th>HOUR</th>\n",
       "      <th>MINUTE</th>\n",
       "      <th>N_Cluster</th>\n",
       "      <th>LON</th>\n",
       "      <th>LAT</th>\n",
       "      <th>IND_X</th>\n",
       "      <th>IND_Y</th>\n",
       "      <th>REFLECT</th>\n",
       "      <th>yyyyy_xx1</th>\n",
       "      <th>yyyyy_xx2</th>\n",
       "      <th>yyyyyyy_xx3</th>\n",
       "      <th>yyy_xx4</th>\n",
       "      <th>yyy_xx5</th>\n",
       "      <th>RIVER</th>\n",
       "      <th>CXE</th>\n",
       "      <th>PRECIPIT</th>\n",
       "      <th>VIL</th>\n",
       "    </tr>\n",
       "  </thead>\n",
       "  <tbody>\n",
       "    <tr>\n",
       "      <td>0</td>\n",
       "      <td>2014.0</td>\n",
       "      <td>3.0</td>\n",
       "      <td>1.0</td>\n",
       "      <td>0.0</td>\n",
       "      <td>0.0</td>\n",
       "      <td>2.0</td>\n",
       "      <td>-60.7314</td>\n",
       "      <td>-1.7289</td>\n",
       "      <td>83.0</td>\n",
       "      <td>49.0</td>\n",
       "      <td>21.2031</td>\n",
       "      <td>0.0</td>\n",
       "      <td>0.0</td>\n",
       "      <td>0.0</td>\n",
       "      <td>0.0</td>\n",
       "      <td>0.0</td>\n",
       "      <td>0.0</td>\n",
       "      <td>1.0</td>\n",
       "      <td>0.9477</td>\n",
       "      <td>0.1680</td>\n",
       "    </tr>\n",
       "    <tr>\n",
       "      <td>1</td>\n",
       "      <td>2014.0</td>\n",
       "      <td>3.0</td>\n",
       "      <td>1.0</td>\n",
       "      <td>0.0</td>\n",
       "      <td>0.0</td>\n",
       "      <td>2.0</td>\n",
       "      <td>-60.7914</td>\n",
       "      <td>-1.7489</td>\n",
       "      <td>80.0</td>\n",
       "      <td>50.0</td>\n",
       "      <td>20.9844</td>\n",
       "      <td>0.0</td>\n",
       "      <td>0.0</td>\n",
       "      <td>0.0</td>\n",
       "      <td>0.0</td>\n",
       "      <td>0.0</td>\n",
       "      <td>0.0</td>\n",
       "      <td>1.0</td>\n",
       "      <td>0.9164</td>\n",
       "      <td>0.2786</td>\n",
       "    </tr>\n",
       "    <tr>\n",
       "      <td>2</td>\n",
       "      <td>2014.0</td>\n",
       "      <td>3.0</td>\n",
       "      <td>1.0</td>\n",
       "      <td>0.0</td>\n",
       "      <td>0.0</td>\n",
       "      <td>2.0</td>\n",
       "      <td>-60.7714</td>\n",
       "      <td>-1.7489</td>\n",
       "      <td>81.0</td>\n",
       "      <td>50.0</td>\n",
       "      <td>21.7500</td>\n",
       "      <td>0.0</td>\n",
       "      <td>0.0</td>\n",
       "      <td>0.0</td>\n",
       "      <td>0.0</td>\n",
       "      <td>0.0</td>\n",
       "      <td>0.0</td>\n",
       "      <td>1.0</td>\n",
       "      <td>1.0306</td>\n",
       "      <td>0.2494</td>\n",
       "    </tr>\n",
       "    <tr>\n",
       "      <td>3</td>\n",
       "      <td>2014.0</td>\n",
       "      <td>3.0</td>\n",
       "      <td>1.0</td>\n",
       "      <td>0.0</td>\n",
       "      <td>0.0</td>\n",
       "      <td>2.0</td>\n",
       "      <td>-60.7514</td>\n",
       "      <td>-1.7489</td>\n",
       "      <td>82.0</td>\n",
       "      <td>50.0</td>\n",
       "      <td>21.2188</td>\n",
       "      <td>0.0</td>\n",
       "      <td>0.0</td>\n",
       "      <td>0.0</td>\n",
       "      <td>0.0</td>\n",
       "      <td>0.0</td>\n",
       "      <td>0.0</td>\n",
       "      <td>1.0</td>\n",
       "      <td>0.9499</td>\n",
       "      <td>0.2413</td>\n",
       "    </tr>\n",
       "    <tr>\n",
       "      <td>4</td>\n",
       "      <td>2014.0</td>\n",
       "      <td>3.0</td>\n",
       "      <td>1.0</td>\n",
       "      <td>0.0</td>\n",
       "      <td>0.0</td>\n",
       "      <td>2.0</td>\n",
       "      <td>-60.7314</td>\n",
       "      <td>-1.7489</td>\n",
       "      <td>83.0</td>\n",
       "      <td>50.0</td>\n",
       "      <td>21.4375</td>\n",
       "      <td>0.0</td>\n",
       "      <td>0.0</td>\n",
       "      <td>0.0</td>\n",
       "      <td>0.0</td>\n",
       "      <td>0.0</td>\n",
       "      <td>0.0</td>\n",
       "      <td>1.0</td>\n",
       "      <td>0.9824</td>\n",
       "      <td>0.1745</td>\n",
       "    </tr>\n",
       "  </tbody>\n",
       "</table>\n",
       "</div>"
      ],
      "text/plain": [
       "     YEAR  MONTH  DAY  HOUR  MINUTE  N_Cluster      LON     LAT  IND_X  IND_Y  \\\n",
       "0  2014.0    3.0  1.0   0.0     0.0        2.0 -60.7314 -1.7289   83.0   49.0   \n",
       "1  2014.0    3.0  1.0   0.0     0.0        2.0 -60.7914 -1.7489   80.0   50.0   \n",
       "2  2014.0    3.0  1.0   0.0     0.0        2.0 -60.7714 -1.7489   81.0   50.0   \n",
       "3  2014.0    3.0  1.0   0.0     0.0        2.0 -60.7514 -1.7489   82.0   50.0   \n",
       "4  2014.0    3.0  1.0   0.0     0.0        2.0 -60.7314 -1.7489   83.0   50.0   \n",
       "\n",
       "   REFLECT  yyyyy_xx1  yyyyy_xx2  yyyyyyy_xx3  yyy_xx4  yyy_xx5  RIVER  CXE  \\\n",
       "0  21.2031        0.0        0.0          0.0      0.0      0.0    0.0  1.0   \n",
       "1  20.9844        0.0        0.0          0.0      0.0      0.0    0.0  1.0   \n",
       "2  21.7500        0.0        0.0          0.0      0.0      0.0    0.0  1.0   \n",
       "3  21.2188        0.0        0.0          0.0      0.0      0.0    0.0  1.0   \n",
       "4  21.4375        0.0        0.0          0.0      0.0      0.0    0.0  1.0   \n",
       "\n",
       "   PRECIPIT     VIL  \n",
       "0    0.9477  0.1680  \n",
       "1    0.9164  0.2786  \n",
       "2    1.0306  0.2494  \n",
       "3    0.9499  0.2413  \n",
       "4    0.9824  0.1745  "
      ]
     },
     "execution_count": 100,
     "metadata": {},
     "output_type": "execute_result"
    }
   ],
   "source": [
    "fortracc.head()"
   ]
  },
  {
   "cell_type": "code",
   "execution_count": 101,
   "metadata": {
    "ExecuteTime": {
     "end_time": "2019-09-06T13:43:27.874721Z",
     "start_time": "2019-09-06T13:35:40.903885Z"
    }
   },
   "outputs": [],
   "source": [
    "## FOR 2015\n",
    "fdata = pd.DataFrame(columns=['YEAR','MONTH','DAY','HOUR','MINUTE','N_Cluster','REFLECT','PRECIPIT'])\n",
    "\n",
    "fdata['YEAR'] = fortracc['YEAR'].astype('int16')\n",
    "fdata['MONTH'] = fortracc['MONTH'].astype('int16')\n",
    "fdata['DAY'] = fortracc['DAY'].astype('int16')\n",
    "fdata['HOUR'] = fortracc['HOUR'].astype('int16')\n",
    "fdata['MINUTE'] = fortracc['MINUTE'].astype('int16')\n",
    "fdata['N_Cluster'] = fortracc['N_Cluster'].astype('int16')\n",
    "fdata['REFLECT'] = fortracc['REFLECT'].astype('float32')\n",
    "fdata['PRECIPIT'] = fortracc['PRECIPIT'].astype('float32')\n",
    "\n",
    "fdata['DATETIME'] = fdata.apply(lambda row: datetime(\n",
    "                              row['YEAR'], row['MONTH'], row['DAY'], row['HOUR'], row['MINUTE']), axis=1)\n",
    "\n",
    "fdata = fdata.drop(columns=['YEAR','MONTH','DAY','HOUR','MINUTE'])\n",
    "fdata = fdata.set_index('DATETIME')\n",
    "\n",
    "tidy_fortracc = fdata.sort_values(by='DATETIME')"
   ]
  },
  {
   "cell_type": "code",
   "execution_count": 102,
   "metadata": {
    "ExecuteTime": {
     "end_time": "2019-09-06T13:43:27.882404Z",
     "start_time": "2019-09-06T13:43:27.876094Z"
    }
   },
   "outputs": [
    {
     "data": {
      "text/html": [
       "<div>\n",
       "<style scoped>\n",
       "    .dataframe tbody tr th:only-of-type {\n",
       "        vertical-align: middle;\n",
       "    }\n",
       "\n",
       "    .dataframe tbody tr th {\n",
       "        vertical-align: top;\n",
       "    }\n",
       "\n",
       "    .dataframe thead th {\n",
       "        text-align: right;\n",
       "    }\n",
       "</style>\n",
       "<table border=\"1\" class=\"dataframe\">\n",
       "  <thead>\n",
       "    <tr style=\"text-align: right;\">\n",
       "      <th></th>\n",
       "      <th>N_Cluster</th>\n",
       "      <th>REFLECT</th>\n",
       "      <th>PRECIPIT</th>\n",
       "    </tr>\n",
       "    <tr>\n",
       "      <th>DATETIME</th>\n",
       "      <th></th>\n",
       "      <th></th>\n",
       "      <th></th>\n",
       "    </tr>\n",
       "  </thead>\n",
       "  <tbody>\n",
       "    <tr>\n",
       "      <td>2014-02-01</td>\n",
       "      <td>7</td>\n",
       "      <td>23.2656</td>\n",
       "      <td>1.9089</td>\n",
       "    </tr>\n",
       "    <tr>\n",
       "      <td>2014-02-01</td>\n",
       "      <td>10</td>\n",
       "      <td>22.1250</td>\n",
       "      <td>1.0917</td>\n",
       "    </tr>\n",
       "    <tr>\n",
       "      <td>2014-02-01</td>\n",
       "      <td>10</td>\n",
       "      <td>22.5312</td>\n",
       "      <td>1.1620</td>\n",
       "    </tr>\n",
       "    <tr>\n",
       "      <td>2014-02-01</td>\n",
       "      <td>10</td>\n",
       "      <td>25.2188</td>\n",
       "      <td>2.5921</td>\n",
       "    </tr>\n",
       "    <tr>\n",
       "      <td>2014-02-01</td>\n",
       "      <td>4</td>\n",
       "      <td>21.6719</td>\n",
       "      <td>1.4872</td>\n",
       "    </tr>\n",
       "  </tbody>\n",
       "</table>\n",
       "</div>"
      ],
      "text/plain": [
       "            N_Cluster  REFLECT  PRECIPIT\n",
       "DATETIME                                \n",
       "2014-02-01          7  23.2656    1.9089\n",
       "2014-02-01         10  22.1250    1.0917\n",
       "2014-02-01         10  22.5312    1.1620\n",
       "2014-02-01         10  25.2188    2.5921\n",
       "2014-02-01          4  21.6719    1.4872"
      ]
     },
     "execution_count": 102,
     "metadata": {},
     "output_type": "execute_result"
    }
   ],
   "source": [
    "tidy_fortracc.head()"
   ]
  },
  {
   "cell_type": "code",
   "execution_count": 103,
   "metadata": {
    "ExecuteTime": {
     "end_time": "2019-09-06T13:43:28.431111Z",
     "start_time": "2019-09-06T13:43:27.883809Z"
    }
   },
   "outputs": [],
   "source": [
    "FCluster = tidy_fortracc.resample('min').mean()\n",
    "FCluster = FCluster.dropna()\n",
    "FCluster = FCluster.resample('M')[['N_Cluster']].sum()\n",
    "\n",
    "FCluster2014 = pd.DataFrame({'date':FCluster.index, 'clusters':FCluster.values.ravel()})"
   ]
  },
  {
   "cell_type": "code",
   "execution_count": 104,
   "metadata": {
    "ExecuteTime": {
     "end_time": "2019-09-06T13:43:28.614463Z",
     "start_time": "2019-09-06T13:43:28.432561Z"
    }
   },
   "outputs": [],
   "source": [
    "fig = go.Figure()\n",
    "fig.add_trace(go.Scatter(x=dn, y=FCluster2014['clusters'], name=\"ForTraCC\",\n",
    "                         line_color='deepskyblue'))\n",
    "\n",
    "fig.add_trace(go.Scatter(x=dn, y=cdf2014['clusters'], name=\"MS 2014\",\n",
    "                         line_color='dimgray'))\n",
    "\n",
    "fig.add_trace(go.Scatter(x=dn, y=cdf2015['clusters'], name=\"MS 2015\",\n",
    "                         line_color='blueviolet'))\n",
    "\n",
    "\n",
    "fig.update_layout(\n",
    "    title=go.layout.Title(\n",
    "        text=\"Média mensal do número de Clusters\",\n",
    "        xref=\"paper\",\n",
    "        xanchor = \"auto\",\n",
    "        x=0,\n",
    "    ),\n",
    "    yaxis=go.layout.YAxis(\n",
    "        title=go.layout.yaxis.Title(\n",
    "            text=\"Número de Clusters\",\n",
    "            font=dict(\n",
    "                family=\"Courier New, monospace\",\n",
    "                size=14,\n",
    "                color=\"#7f7f7f\"\n",
    "            )\n",
    "        )\n",
    "    )\n",
    ")\n",
    "fig.write_image(\"img/graficos/fortracc.png\")"
   ]
  },
  {
   "cell_type": "markdown",
   "metadata": {},
   "source": [
    "<img src=\"img/graficos/fortracc.png\" align=\"center\" alt=\"Drawing\" style=\"width: 800px;\">"
   ]
  },
  {
   "cell_type": "markdown",
   "metadata": {},
   "source": [
    "### VISUALIZATION"
   ]
  },
  {
   "cell_type": "code",
   "execution_count": 105,
   "metadata": {
    "ExecuteTime": {
     "end_time": "2019-09-06T13:43:28.872172Z",
     "start_time": "2019-09-06T13:43:28.615749Z"
    }
   },
   "outputs": [],
   "source": [
    "import geopandas as gpd\n",
    "from shapely.geometry import Point, MultiPoint, LineString, shape\n",
    "from shapely import wkt"
   ]
  },
  {
   "cell_type": "code",
   "execution_count": 106,
   "metadata": {
    "ExecuteTime": {
     "end_time": "2019-09-06T13:49:33.946999Z",
     "start_time": "2019-09-06T13:49:33.930674Z"
    }
   },
   "outputs": [
    {
     "data": {
      "text/html": [
       "<div>\n",
       "<style scoped>\n",
       "    .dataframe tbody tr th:only-of-type {\n",
       "        vertical-align: middle;\n",
       "    }\n",
       "\n",
       "    .dataframe tbody tr th {\n",
       "        vertical-align: top;\n",
       "    }\n",
       "\n",
       "    .dataframe thead th {\n",
       "        text-align: right;\n",
       "    }\n",
       "</style>\n",
       "<table border=\"1\" class=\"dataframe\">\n",
       "  <thead>\n",
       "    <tr style=\"text-align: right;\">\n",
       "      <th></th>\n",
       "      <th>END_TIME</th>\n",
       "      <th>T1</th>\n",
       "      <th>T2</th>\n",
       "      <th>X1</th>\n",
       "      <th>Y1</th>\n",
       "      <th>X2</th>\n",
       "      <th>Y2</th>\n",
       "      <th>LAT1</th>\n",
       "      <th>LON1</th>\n",
       "      <th>LAT2</th>\n",
       "      <th>LON2</th>\n",
       "      <th>DIST</th>\n",
       "      <th>VELM</th>\n",
       "      <th>REL</th>\n",
       "      <th>R_FALL1</th>\n",
       "      <th>R_FALL2</th>\n",
       "    </tr>\n",
       "    <tr>\n",
       "      <th>START_TIME</th>\n",
       "      <th></th>\n",
       "      <th></th>\n",
       "      <th></th>\n",
       "      <th></th>\n",
       "      <th></th>\n",
       "      <th></th>\n",
       "      <th></th>\n",
       "      <th></th>\n",
       "      <th></th>\n",
       "      <th></th>\n",
       "      <th></th>\n",
       "      <th></th>\n",
       "      <th></th>\n",
       "      <th></th>\n",
       "      <th></th>\n",
       "      <th></th>\n",
       "    </tr>\n",
       "  </thead>\n",
       "  <tbody>\n",
       "    <tr>\n",
       "      <td>2014-02-24 10:12:00</td>\n",
       "      <td>2014-02-24 10:24:00</td>\n",
       "      <td>0</td>\n",
       "      <td>1.0</td>\n",
       "      <td>108</td>\n",
       "      <td>149</td>\n",
       "      <td>107.0</td>\n",
       "      <td>147.0</td>\n",
       "      <td>-3.364762</td>\n",
       "      <td>-59.470078</td>\n",
       "      <td>-3.382746</td>\n",
       "      <td>-59.506065</td>\n",
       "      <td>4.466307</td>\n",
       "      <td>22.331534</td>\n",
       "      <td>NE</td>\n",
       "      <td>87.211014</td>\n",
       "      <td>32.289410</td>\n",
       "    </tr>\n",
       "    <tr>\n",
       "      <td>2014-02-24 10:12:00</td>\n",
       "      <td>2014-02-24 10:24:00</td>\n",
       "      <td>2</td>\n",
       "      <td>6.0</td>\n",
       "      <td>103</td>\n",
       "      <td>134</td>\n",
       "      <td>101.0</td>\n",
       "      <td>134.0</td>\n",
       "      <td>-3.454696</td>\n",
       "      <td>-59.740017</td>\n",
       "      <td>-3.490629</td>\n",
       "      <td>-59.740005</td>\n",
       "      <td>3.973357</td>\n",
       "      <td>19.866784</td>\n",
       "      <td>NW</td>\n",
       "      <td>91.568962</td>\n",
       "      <td>24.709194</td>\n",
       "    </tr>\n",
       "    <tr>\n",
       "      <td>2014-02-24 10:12:00</td>\n",
       "      <td>2014-02-24 10:24:00</td>\n",
       "      <td>4</td>\n",
       "      <td>3.0</td>\n",
       "      <td>146</td>\n",
       "      <td>184</td>\n",
       "      <td>145.0</td>\n",
       "      <td>182.0</td>\n",
       "      <td>-2.681573</td>\n",
       "      <td>-58.840908</td>\n",
       "      <td>-2.699575</td>\n",
       "      <td>-58.876860</td>\n",
       "      <td>4.465960</td>\n",
       "      <td>22.329799</td>\n",
       "      <td>NE</td>\n",
       "      <td>22.136642</td>\n",
       "      <td>49.179668</td>\n",
       "    </tr>\n",
       "    <tr>\n",
       "      <td>2014-02-24 10:24:00</td>\n",
       "      <td>2014-02-24 10:36:00</td>\n",
       "      <td>0</td>\n",
       "      <td>4.0</td>\n",
       "      <td>136</td>\n",
       "      <td>198</td>\n",
       "      <td>135.0</td>\n",
       "      <td>195.0</td>\n",
       "      <td>-2.860925</td>\n",
       "      <td>-58.588886</td>\n",
       "      <td>-2.878959</td>\n",
       "      <td>-58.642830</td>\n",
       "      <td>6.320352</td>\n",
       "      <td>31.601761</td>\n",
       "      <td>NE</td>\n",
       "      <td>32.289410</td>\n",
       "      <td>44.063736</td>\n",
       "    </tr>\n",
       "    <tr>\n",
       "      <td>2014-02-24 10:24:00</td>\n",
       "      <td>2014-02-24 10:36:00</td>\n",
       "      <td>1</td>\n",
       "      <td>3.0</td>\n",
       "      <td>107</td>\n",
       "      <td>147</td>\n",
       "      <td>106.0</td>\n",
       "      <td>145.0</td>\n",
       "      <td>-3.382746</td>\n",
       "      <td>-59.506065</td>\n",
       "      <td>-3.400729</td>\n",
       "      <td>-59.542053</td>\n",
       "      <td>4.466287</td>\n",
       "      <td>22.331433</td>\n",
       "      <td>NE</td>\n",
       "      <td>59.579063</td>\n",
       "      <td>35.302319</td>\n",
       "    </tr>\n",
       "  </tbody>\n",
       "</table>\n",
       "</div>"
      ],
      "text/plain": [
       "                               END_TIME  T1   T2   X1   Y1     X2     Y2  \\\n",
       "START_TIME                                                                 \n",
       "2014-02-24 10:12:00 2014-02-24 10:24:00   0  1.0  108  149  107.0  147.0   \n",
       "2014-02-24 10:12:00 2014-02-24 10:24:00   2  6.0  103  134  101.0  134.0   \n",
       "2014-02-24 10:12:00 2014-02-24 10:24:00   4  3.0  146  184  145.0  182.0   \n",
       "2014-02-24 10:24:00 2014-02-24 10:36:00   0  4.0  136  198  135.0  195.0   \n",
       "2014-02-24 10:24:00 2014-02-24 10:36:00   1  3.0  107  147  106.0  145.0   \n",
       "\n",
       "                         LAT1       LON1      LAT2       LON2      DIST  \\\n",
       "START_TIME                                                                \n",
       "2014-02-24 10:12:00 -3.364762 -59.470078 -3.382746 -59.506065  4.466307   \n",
       "2014-02-24 10:12:00 -3.454696 -59.740017 -3.490629 -59.740005  3.973357   \n",
       "2014-02-24 10:12:00 -2.681573 -58.840908 -2.699575 -58.876860  4.465960   \n",
       "2014-02-24 10:24:00 -2.860925 -58.588886 -2.878959 -58.642830  6.320352   \n",
       "2014-02-24 10:24:00 -3.382746 -59.506065 -3.400729 -59.542053  4.466287   \n",
       "\n",
       "                          VELM REL    R_FALL1    R_FALL2  \n",
       "START_TIME                                                \n",
       "2014-02-24 10:12:00  22.331534  NE  87.211014  32.289410  \n",
       "2014-02-24 10:12:00  19.866784  NW  91.568962  24.709194  \n",
       "2014-02-24 10:12:00  22.329799  NE  22.136642  49.179668  \n",
       "2014-02-24 10:24:00  31.601761  NE  32.289410  44.063736  \n",
       "2014-02-24 10:24:00  22.331433  NE  59.579063  35.302319  "
      ]
     },
     "execution_count": 106,
     "metadata": {},
     "output_type": "execute_result"
    }
   ],
   "source": [
    "trk = tidy_trac2014['2014-02-24-10':'2014-02-24-14']\n",
    "trk.head()"
   ]
  },
  {
   "cell_type": "markdown",
   "metadata": {},
   "source": [
    "### Create geometry"
   ]
  },
  {
   "cell_type": "code",
   "execution_count": 107,
   "metadata": {
    "ExecuteTime": {
     "end_time": "2019-09-06T13:49:36.386157Z",
     "start_time": "2019-09-06T13:49:36.355130Z"
    }
   },
   "outputs": [],
   "source": [
    "lines = []\n",
    "points = []\n",
    "\n",
    "for i,row in trk.iterrows():\n",
    "    lines.append(LineString([Point(row.LON1, row.LAT1), Point(row.LON2, row.LAT2)]).wkt)\n",
    "    points.append(MultiPoint([Point(row.LON1,row.LAT1), Point(row.LON2, row.LAT2)]).wkt)"
   ]
  },
  {
   "cell_type": "code",
   "execution_count": 108,
   "metadata": {
    "ExecuteTime": {
     "end_time": "2019-09-06T13:49:36.942869Z",
     "start_time": "2019-09-06T13:49:36.851770Z"
    }
   },
   "outputs": [],
   "source": [
    "geo_lines = gpd.GeoDataFrame()\n",
    "geo_lines['DIST'] = trk['DIST']\n",
    "geo_lines['VELM'] = trk['VELM']\n",
    "geo_lines['geometry'] = lines\n",
    "geo_lines['geometry'] = geo_lines['geometry'].apply(wkt.loads)\n",
    "geo_lines.crs = {'init' :'epsg:4326'}\n",
    "geo_lines.to_file('shapefiles/lines.shp')\n",
    "\n",
    "geo_points = gpd.GeoDataFrame()\n",
    "geo_points['ID_1'] = trk['T1']\n",
    "geo_points['ID_2'] = trk['T2']\n",
    "geo_points['geometry'] = points\n",
    "geo_points['geometry'] = geo_points['geometry'].apply(wkt.loads)\n",
    "geo_points.crs = {'init' :'epsg:4326'}\n",
    "geo_points.to_file('shapefiles/points.shp')"
   ]
  },
  {
   "cell_type": "code",
   "execution_count": 109,
   "metadata": {
    "ExecuteTime": {
     "end_time": "2019-09-06T13:49:37.668304Z",
     "start_time": "2019-09-06T13:49:37.659099Z"
    }
   },
   "outputs": [
    {
     "data": {
      "text/html": [
       "<div>\n",
       "<style scoped>\n",
       "    .dataframe tbody tr th:only-of-type {\n",
       "        vertical-align: middle;\n",
       "    }\n",
       "\n",
       "    .dataframe tbody tr th {\n",
       "        vertical-align: top;\n",
       "    }\n",
       "\n",
       "    .dataframe thead th {\n",
       "        text-align: right;\n",
       "    }\n",
       "</style>\n",
       "<table border=\"1\" class=\"dataframe\">\n",
       "  <thead>\n",
       "    <tr style=\"text-align: right;\">\n",
       "      <th></th>\n",
       "      <th>DIST</th>\n",
       "      <th>VELM</th>\n",
       "      <th>geometry</th>\n",
       "    </tr>\n",
       "    <tr>\n",
       "      <th>START_TIME</th>\n",
       "      <th></th>\n",
       "      <th></th>\n",
       "      <th></th>\n",
       "    </tr>\n",
       "  </thead>\n",
       "  <tbody>\n",
       "    <tr>\n",
       "      <td>2014-02-24 10:12:00</td>\n",
       "      <td>4.466307</td>\n",
       "      <td>22.331534</td>\n",
       "      <td>LINESTRING (-59.470078 -3.3647623, -59.506065 ...</td>\n",
       "    </tr>\n",
       "    <tr>\n",
       "      <td>2014-02-24 10:12:00</td>\n",
       "      <td>3.973357</td>\n",
       "      <td>19.866784</td>\n",
       "      <td>LINESTRING (-59.740017 -3.454696, -59.740005 -...</td>\n",
       "    </tr>\n",
       "    <tr>\n",
       "      <td>2014-02-24 10:12:00</td>\n",
       "      <td>4.465960</td>\n",
       "      <td>22.329799</td>\n",
       "      <td>LINESTRING (-58.840908 -2.681573, -58.87686 -2...</td>\n",
       "    </tr>\n",
       "    <tr>\n",
       "      <td>2014-02-24 10:24:00</td>\n",
       "      <td>6.320352</td>\n",
       "      <td>31.601761</td>\n",
       "      <td>LINESTRING (-58.588886 -2.8609252, -58.64283 -...</td>\n",
       "    </tr>\n",
       "    <tr>\n",
       "      <td>2014-02-24 10:24:00</td>\n",
       "      <td>4.466287</td>\n",
       "      <td>22.331433</td>\n",
       "      <td>LINESTRING (-59.506065 -3.3827462, -59.542053 ...</td>\n",
       "    </tr>\n",
       "  </tbody>\n",
       "</table>\n",
       "</div>"
      ],
      "text/plain": [
       "                         DIST       VELM  \\\n",
       "START_TIME                                 \n",
       "2014-02-24 10:12:00  4.466307  22.331534   \n",
       "2014-02-24 10:12:00  3.973357  19.866784   \n",
       "2014-02-24 10:12:00  4.465960  22.329799   \n",
       "2014-02-24 10:24:00  6.320352  31.601761   \n",
       "2014-02-24 10:24:00  4.466287  22.331433   \n",
       "\n",
       "                                                              geometry  \n",
       "START_TIME                                                              \n",
       "2014-02-24 10:12:00  LINESTRING (-59.470078 -3.3647623, -59.506065 ...  \n",
       "2014-02-24 10:12:00  LINESTRING (-59.740017 -3.454696, -59.740005 -...  \n",
       "2014-02-24 10:12:00  LINESTRING (-58.840908 -2.681573, -58.87686 -2...  \n",
       "2014-02-24 10:24:00  LINESTRING (-58.588886 -2.8609252, -58.64283 -...  \n",
       "2014-02-24 10:24:00  LINESTRING (-59.506065 -3.3827462, -59.542053 ...  "
      ]
     },
     "execution_count": 109,
     "metadata": {},
     "output_type": "execute_result"
    }
   ],
   "source": [
    "geo_lines.head()"
   ]
  },
  {
   "cell_type": "code",
   "execution_count": 110,
   "metadata": {
    "ExecuteTime": {
     "end_time": "2019-09-06T13:49:38.679367Z",
     "start_time": "2019-09-06T13:49:38.670939Z"
    }
   },
   "outputs": [
    {
     "data": {
      "text/html": [
       "<div>\n",
       "<style scoped>\n",
       "    .dataframe tbody tr th:only-of-type {\n",
       "        vertical-align: middle;\n",
       "    }\n",
       "\n",
       "    .dataframe tbody tr th {\n",
       "        vertical-align: top;\n",
       "    }\n",
       "\n",
       "    .dataframe thead th {\n",
       "        text-align: right;\n",
       "    }\n",
       "</style>\n",
       "<table border=\"1\" class=\"dataframe\">\n",
       "  <thead>\n",
       "    <tr style=\"text-align: right;\">\n",
       "      <th></th>\n",
       "      <th>ID_1</th>\n",
       "      <th>ID_2</th>\n",
       "      <th>geometry</th>\n",
       "    </tr>\n",
       "    <tr>\n",
       "      <th>START_TIME</th>\n",
       "      <th></th>\n",
       "      <th></th>\n",
       "      <th></th>\n",
       "    </tr>\n",
       "  </thead>\n",
       "  <tbody>\n",
       "    <tr>\n",
       "      <td>2014-02-24 10:12:00</td>\n",
       "      <td>0</td>\n",
       "      <td>1.0</td>\n",
       "      <td>(POINT (-59.470078 -3.3647623), POINT (-59.506...</td>\n",
       "    </tr>\n",
       "    <tr>\n",
       "      <td>2014-02-24 10:12:00</td>\n",
       "      <td>2</td>\n",
       "      <td>6.0</td>\n",
       "      <td>(POINT (-59.740017 -3.454696), POINT (-59.7400...</td>\n",
       "    </tr>\n",
       "    <tr>\n",
       "      <td>2014-02-24 10:12:00</td>\n",
       "      <td>4</td>\n",
       "      <td>3.0</td>\n",
       "      <td>(POINT (-58.840908 -2.681573), POINT (-58.8768...</td>\n",
       "    </tr>\n",
       "    <tr>\n",
       "      <td>2014-02-24 10:24:00</td>\n",
       "      <td>0</td>\n",
       "      <td>4.0</td>\n",
       "      <td>(POINT (-58.588886 -2.8609252), POINT (-58.642...</td>\n",
       "    </tr>\n",
       "    <tr>\n",
       "      <td>2014-02-24 10:24:00</td>\n",
       "      <td>1</td>\n",
       "      <td>3.0</td>\n",
       "      <td>(POINT (-59.506065 -3.3827462), POINT (-59.542...</td>\n",
       "    </tr>\n",
       "  </tbody>\n",
       "</table>\n",
       "</div>"
      ],
      "text/plain": [
       "                     ID_1  ID_2  \\\n",
       "START_TIME                        \n",
       "2014-02-24 10:12:00     0   1.0   \n",
       "2014-02-24 10:12:00     2   6.0   \n",
       "2014-02-24 10:12:00     4   3.0   \n",
       "2014-02-24 10:24:00     0   4.0   \n",
       "2014-02-24 10:24:00     1   3.0   \n",
       "\n",
       "                                                              geometry  \n",
       "START_TIME                                                              \n",
       "2014-02-24 10:12:00  (POINT (-59.470078 -3.3647623), POINT (-59.506...  \n",
       "2014-02-24 10:12:00  (POINT (-59.740017 -3.454696), POINT (-59.7400...  \n",
       "2014-02-24 10:12:00  (POINT (-58.840908 -2.681573), POINT (-58.8768...  \n",
       "2014-02-24 10:24:00  (POINT (-58.588886 -2.8609252), POINT (-58.642...  \n",
       "2014-02-24 10:24:00  (POINT (-59.506065 -3.3827462), POINT (-59.542...  "
      ]
     },
     "execution_count": 110,
     "metadata": {},
     "output_type": "execute_result"
    }
   ],
   "source": [
    "geo_points.head()"
   ]
  },
  {
   "cell_type": "markdown",
   "metadata": {},
   "source": [
    "### Reading shapefile"
   ]
  },
  {
   "cell_type": "code",
   "execution_count": 111,
   "metadata": {
    "ExecuteTime": {
     "end_time": "2019-09-06T13:49:40.682415Z",
     "start_time": "2019-09-06T13:49:40.202021Z"
    }
   },
   "outputs": [
    {
     "data": {
      "image/png": "[encoded data removed]",
      "text/plain": [
       "<Figure size 720x720 with 1 Axes>"
      ]
     },
     "metadata": {
      "needs_background": "light"
     },
     "output_type": "display_data"
    }
   ],
   "source": [
    "fp = \"shapefiles/AM_Mun97_region/AM_Mun97_region.shp\"\n",
    "amazonas = gpd.read_file(fp)\n",
    "amazonas.crs = {'init' :'epsg:4326'}\n",
    "base = amazonas.plot(color='white', edgecolor='black', linewidth=0.2, figsize=(10, 10))\n",
    "base.set_ylim([-5.348556,-0.948556])\n",
    "base.set_xlim([-62.192,-57.7919999])\n",
    "\n",
    "lines = geo_lines.plot(ax=base)\n",
    "# points = geo_points.plot(ax=base, marker='o')"
   ]
  },
  {
   "cell_type": "code",
   "execution_count": 112,
   "metadata": {
    "ExecuteTime": {
     "end_time": "2019-09-06T13:49:42.149136Z",
     "start_time": "2019-09-06T13:49:42.009103Z"
    }
   },
   "outputs": [],
   "source": [
    "import folium\n",
    "from collections import namedtuple"
   ]
  },
  {
   "cell_type": "code",
   "execution_count": 113,
   "metadata": {
    "ExecuteTime": {
     "end_time": "2019-09-06T13:49:42.916386Z",
     "start_time": "2019-09-06T13:49:42.908610Z"
    }
   },
   "outputs": [],
   "source": [
    "# using omaha coordinates       -3.148556, -59.992000\n",
    "center_lat = -3.148556\n",
    "center_lon = -59.992000"
   ]
  },
  {
   "cell_type": "code",
   "execution_count": 114,
   "metadata": {
    "ExecuteTime": {
     "end_time": "2019-09-06T13:49:43.559661Z",
     "start_time": "2019-09-06T13:49:43.480157Z"
    }
   },
   "outputs": [
    {
     "data": {
      "text/html": [
       "<div style=\"width:100%;\"><div style=\"position:relative;width:100%;height:0;padding-bottom:60%;\"><iframe src=\"data:text/html;charset=utf-8;base64,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\" style=\"position:absolute;width:100%;height:100%;left:0;top:0;border:none !important;\" allowfullscreen webkitallowfullscreen mozallowfullscreen></iframe></div></div>"
      ],
      "text/plain": [
       "<folium.folium.Map at 0x7fc5d8a91710>"
      ]
     },
     "execution_count": 114,
     "metadata": {},
     "output_type": "execute_result"
    }
   ],
   "source": [
    "amazon = folium.Map(location=[center_lat, center_lon], zoom_start=8)\n",
    "lines = folium.features.GeoJson(geo_lines)\n",
    "amazon.add_children(lines)"
   ]
  },
  {
   "cell_type": "code",
   "execution_count": 115,
   "metadata": {
    "ExecuteTime": {
     "end_time": "2019-09-06T13:49:46.925442Z",
     "start_time": "2019-09-06T13:49:46.846940Z"
    }
   },
   "outputs": [
    {
     "data": {
      "text/html": [
       "<div>\n",
       "<style scoped>\n",
       "    .dataframe tbody tr th:only-of-type {\n",
       "        vertical-align: middle;\n",
       "    }\n",
       "\n",
       "    .dataframe tbody tr th {\n",
       "        vertical-align: top;\n",
       "    }\n",
       "\n",
       "    .dataframe thead th {\n",
       "        text-align: right;\n",
       "    }\n",
       "</style>\n",
       "<table border=\"1\" class=\"dataframe\">\n",
       "  <thead>\n",
       "    <tr style=\"text-align: right;\">\n",
       "      <th></th>\n",
       "      <th>CODMUN6</th>\n",
       "      <th>MUNIC_PIO</th>\n",
       "      <th>SEM_ACENTO</th>\n",
       "      <th>MUNIC_PI0</th>\n",
       "      <th>UF</th>\n",
       "      <th>UF_IBGE</th>\n",
       "      <th>REGI_O</th>\n",
       "      <th>MESO_IBGE</th>\n",
       "      <th>MESO_IBG0</th>\n",
       "      <th>MICRO_IBGE</th>\n",
       "      <th>MICRO_IB0</th>\n",
       "      <th>MESO_IBG1</th>\n",
       "      <th>MICRO_IB1</th>\n",
       "      <th>AREA_97</th>\n",
       "      <th>SEDE</th>\n",
       "      <th>SEDE0</th>\n",
       "      <th>N91</th>\n",
       "      <th>N96</th>\n",
       "      <th>CODCOMP</th>\n",
       "      <th>geometry</th>\n",
       "    </tr>\n",
       "  </thead>\n",
       "  <tbody>\n",
       "    <tr>\n",
       "      <td>0</td>\n",
       "      <td>130020</td>\n",
       "      <td>ATALAIA DO NORTE</td>\n",
       "      <td>ATALAIA DO NORTE</td>\n",
       "      <td>1300201</td>\n",
       "      <td>AM</td>\n",
       "      <td>13</td>\n",
       "      <td>N</td>\n",
       "      <td>SUDOESTE AMAZONENSE</td>\n",
       "      <td>02</td>\n",
       "      <td>ALTO SOLIMOES</td>\n",
       "      <td>003</td>\n",
       "      <td>1302</td>\n",
       "      <td>130203</td>\n",
       "      <td>76355.390</td>\n",
       "      <td>-70.192</td>\n",
       "      <td>-4.372</td>\n",
       "      <td>8224.0</td>\n",
       "      <td>8108.0</td>\n",
       "      <td>130200300201</td>\n",
       "      <td>POLYGON ((-73.800781 -7.111809, -73.7995899999...</td>\n",
       "    </tr>\n",
       "    <tr>\n",
       "      <td>1</td>\n",
       "      <td>130165</td>\n",
       "      <td>GUAJARÁ</td>\n",
       "      <td>GUAJARA</td>\n",
       "      <td>1301654</td>\n",
       "      <td>AM</td>\n",
       "      <td>13</td>\n",
       "      <td>N</td>\n",
       "      <td>SUDOESTE AMAZONENSE</td>\n",
       "      <td>02</td>\n",
       "      <td>JURUA</td>\n",
       "      <td>004</td>\n",
       "      <td>1302</td>\n",
       "      <td>130204</td>\n",
       "      <td>8945.517</td>\n",
       "      <td>-72.584</td>\n",
       "      <td>-7.546</td>\n",
       "      <td>11714.0</td>\n",
       "      <td>10944.0</td>\n",
       "      <td>130200401654</td>\n",
       "      <td>POLYGON ((-73.741705 -7.143248, -73.740475 -7....</td>\n",
       "    </tr>\n",
       "    <tr>\n",
       "      <td>2</td>\n",
       "      <td>130180</td>\n",
       "      <td>IPIXUNA</td>\n",
       "      <td>IPIXUNA</td>\n",
       "      <td>1301803</td>\n",
       "      <td>AM</td>\n",
       "      <td>13</td>\n",
       "      <td>N</td>\n",
       "      <td>SUDOESTE AMAZONENSE</td>\n",
       "      <td>02</td>\n",
       "      <td>JURUA</td>\n",
       "      <td>004</td>\n",
       "      <td>1302</td>\n",
       "      <td>130204</td>\n",
       "      <td>13572.800</td>\n",
       "      <td>-71.695</td>\n",
       "      <td>-7.051</td>\n",
       "      <td>9837.0</td>\n",
       "      <td>11120.0</td>\n",
       "      <td>130200401803</td>\n",
       "      <td>POLYGON ((-72.18244799999999 -7.577473, -72.18...</td>\n",
       "    </tr>\n",
       "    <tr>\n",
       "      <td>3</td>\n",
       "      <td>130140</td>\n",
       "      <td>EIRUNEPÉ</td>\n",
       "      <td>EIRUNEPE</td>\n",
       "      <td>1301407</td>\n",
       "      <td>AM</td>\n",
       "      <td>13</td>\n",
       "      <td>N</td>\n",
       "      <td>SUDOESTE AMAZONENSE</td>\n",
       "      <td>02</td>\n",
       "      <td>JURUA</td>\n",
       "      <td>004</td>\n",
       "      <td>1302</td>\n",
       "      <td>130204</td>\n",
       "      <td>15878.120</td>\n",
       "      <td>-69.874</td>\n",
       "      <td>-6.660</td>\n",
       "      <td>21552.0</td>\n",
       "      <td>25776.0</td>\n",
       "      <td>130200401407</td>\n",
       "      <td>POLYGON ((-71.50966699999999 -7.880687, -71.50...</td>\n",
       "    </tr>\n",
       "    <tr>\n",
       "      <td>4</td>\n",
       "      <td>130060</td>\n",
       "      <td>BENJAMIN CONSTANT</td>\n",
       "      <td>BENJAMIN CONSTANT</td>\n",
       "      <td>1300607</td>\n",
       "      <td>AM</td>\n",
       "      <td>13</td>\n",
       "      <td>N</td>\n",
       "      <td>SUDOESTE AMAZONENSE</td>\n",
       "      <td>02</td>\n",
       "      <td>ALTO SOLIMOES</td>\n",
       "      <td>003</td>\n",
       "      <td>1302</td>\n",
       "      <td>130203</td>\n",
       "      <td>8704.716</td>\n",
       "      <td>-70.031</td>\n",
       "      <td>-4.383</td>\n",
       "      <td>19951.0</td>\n",
       "      <td>23633.0</td>\n",
       "      <td>130200300607</td>\n",
       "      <td>POLYGON ((-71.34350499999999 -6.680839, -71.34...</td>\n",
       "    </tr>\n",
       "  </tbody>\n",
       "</table>\n",
       "</div>"
      ],
      "text/plain": [
       "  CODMUN6          MUNIC_PIO         SEM_ACENTO MUNIC_PI0  UF UF_IBGE REGI_O  \\\n",
       "0  130020   ATALAIA DO NORTE   ATALAIA DO NORTE   1300201  AM      13      N   \n",
       "1  130165            GUAJARÁ            GUAJARA   1301654  AM      13      N   \n",
       "2  130180            IPIXUNA            IPIXUNA   1301803  AM      13      N   \n",
       "3  130140           EIRUNEPÉ           EIRUNEPE   1301407  AM      13      N   \n",
       "4  130060  BENJAMIN CONSTANT  BENJAMIN CONSTANT   1300607  AM      13      N   \n",
       "\n",
       "             MESO_IBGE MESO_IBG0     MICRO_IBGE MICRO_IB0 MESO_IBG1 MICRO_IB1  \\\n",
       "0  SUDOESTE AMAZONENSE        02  ALTO SOLIMOES       003      1302    130203   \n",
       "1  SUDOESTE AMAZONENSE        02          JURUA       004      1302    130204   \n",
       "2  SUDOESTE AMAZONENSE        02          JURUA       004      1302    130204   \n",
       "3  SUDOESTE AMAZONENSE        02          JURUA       004      1302    130204   \n",
       "4  SUDOESTE AMAZONENSE        02  ALTO SOLIMOES       003      1302    130203   \n",
       "\n",
       "     AREA_97    SEDE  SEDE0      N91      N96       CODCOMP  \\\n",
       "0  76355.390 -70.192 -4.372   8224.0   8108.0  130200300201   \n",
       "1   8945.517 -72.584 -7.546  11714.0  10944.0  130200401654   \n",
       "2  13572.800 -71.695 -7.051   9837.0  11120.0  130200401803   \n",
       "3  15878.120 -69.874 -6.660  21552.0  25776.0  130200401407   \n",
       "4   8704.716 -70.031 -4.383  19951.0  23633.0  130200300607   \n",
       "\n",
       "                                            geometry  \n",
       "0  POLYGON ((-73.800781 -7.111809, -73.7995899999...  \n",
       "1  POLYGON ((-73.741705 -7.143248, -73.740475 -7....  \n",
       "2  POLYGON ((-72.18244799999999 -7.577473, -72.18...  \n",
       "3  POLYGON ((-71.50966699999999 -7.880687, -71.50...  \n",
       "4  POLYGON ((-71.34350499999999 -6.680839, -71.34...  "
      ]
     },
     "execution_count": 115,
     "metadata": {},
     "output_type": "execute_result"
    }
   ],
   "source": [
    "amazonas.head()"
   ]
  },
  {
   "cell_type": "markdown",
   "metadata": {},
   "source": [
    "### COUNT NUMBER OF POINTS IN POLYGONS"
   ]
  },
  {
   "cell_type": "code",
   "execution_count": 121,
   "metadata": {
    "ExecuteTime": {
     "end_time": "2019-09-06T15:49:17.964901Z",
     "start_time": "2019-09-06T15:49:09.214721Z"
    }
   },
   "outputs": [],
   "source": [
    "cpoint = tidy_data2014['2014-08-27':'2014-10-07']\n",
    "cpt = []\n",
    "\n",
    "for i, row in cpoint.iterrows():\n",
    "    cpt.append(Point(row.LON, row.LAT).wkt)\n",
    "    \n",
    "geo_point = gpd.GeoDataFrame()\n",
    "geo_point['RAIN_FALL'] = cpoint['RAIN_FALL']\n",
    "geo_point['geometry'] = cpt\n",
    "geo_point['geometry'] = geo_point['geometry'].apply(wkt.loads)\n",
    "geo_point.crs = {'init' :'epsg:4326'}\n",
    "geo_point.to_file('shapefiles/point.shp')"
   ]
  },
  {
   "cell_type": "code",
   "execution_count": 126,
   "metadata": {
    "ExecuteTime": {
     "end_time": "2019-09-06T15:57:47.887355Z",
     "start_time": "2019-09-06T15:57:47.274110Z"
    }
   },
   "outputs": [
    {
     "data": {
      "text/plain": [
       "<matplotlib.axes._subplots.AxesSubplot at 0x7fc5b0c71c18>"
      ]
     },
     "execution_count": 126,
     "metadata": {},
     "output_type": "execute_result"
    },
    {
     "data": {
      "image/png": "[encoded data removed]",
      "text/plain": [
       "<Figure size 432x288 with 1 Axes>"
      ]
     },
     "metadata": {
      "needs_background": "light"
     },
     "output_type": "display_data"
    }
   ],
   "source": [
    "geo_point.plot()"
   ]
  },
  {
   "cell_type": "code",
   "execution_count": 122,
   "metadata": {
    "ExecuteTime": {
     "end_time": "2019-09-06T15:51:07.421990Z",
     "start_time": "2019-09-06T15:49:19.703358Z"
    }
   },
   "outputs": [],
   "source": [
    "polygons = amazonas\n",
    "\n",
    "pts = geo_point.reset_index().copy()\n",
    "pts_in_polys = []\n",
    "\n",
    "for i, poly in polygons.iterrows():\n",
    "    pts_in_this_poly = []\n",
    "    \n",
    "    for j, pt in pts.iterrows():\n",
    "        if poly.geometry.contains(pt.geometry):\n",
    "            pts_in_this_poly.append(pt.geometry)\n",
    "            pts = pts.drop([j])\n",
    "            \n",
    "    pts_in_polys.append(len(pts_in_this_poly))\n",
    "    \n",
    "polygons['NUM_POINTS'] = gpd.GeoSeries(pts_in_polys)"
   ]
  },
  {
   "cell_type": "code",
   "execution_count": 123,
   "metadata": {
    "ExecuteTime": {
     "end_time": "2019-09-06T15:51:07.432283Z",
     "start_time": "2019-09-06T15:51:07.423415Z"
    }
   },
   "outputs": [
    {
     "data": {
      "text/html": [
       "<div>\n",
       "<style scoped>\n",
       "    .dataframe tbody tr th:only-of-type {\n",
       "        vertical-align: middle;\n",
       "    }\n",
       "\n",
       "    .dataframe tbody tr th {\n",
       "        vertical-align: top;\n",
       "    }\n",
       "\n",
       "    .dataframe thead th {\n",
       "        text-align: right;\n",
       "    }\n",
       "</style>\n",
       "<table border=\"1\" class=\"dataframe\">\n",
       "  <thead>\n",
       "    <tr style=\"text-align: right;\">\n",
       "      <th></th>\n",
       "      <th>Município</th>\n",
       "      <th>Centroids</th>\n",
       "    </tr>\n",
       "  </thead>\n",
       "  <tbody>\n",
       "    <tr>\n",
       "      <td>27</td>\n",
       "      <td>NOVO AIRÃO</td>\n",
       "      <td>2112</td>\n",
       "    </tr>\n",
       "    <tr>\n",
       "      <td>29</td>\n",
       "      <td>ANORI</td>\n",
       "      <td>75</td>\n",
       "    </tr>\n",
       "    <tr>\n",
       "      <td>30</td>\n",
       "      <td>BERURI</td>\n",
       "      <td>553</td>\n",
       "    </tr>\n",
       "    <tr>\n",
       "      <td>32</td>\n",
       "      <td>CAAPIRANGA</td>\n",
       "      <td>614</td>\n",
       "    </tr>\n",
       "    <tr>\n",
       "      <td>33</td>\n",
       "      <td>ANAMÃ</td>\n",
       "      <td>123</td>\n",
       "    </tr>\n",
       "    <tr>\n",
       "      <td>34</td>\n",
       "      <td>NOVO ARIPUANÃ</td>\n",
       "      <td>11</td>\n",
       "    </tr>\n",
       "    <tr>\n",
       "      <td>35</td>\n",
       "      <td>MANACAPURU</td>\n",
       "      <td>1163</td>\n",
       "    </tr>\n",
       "    <tr>\n",
       "      <td>36</td>\n",
       "      <td>BORBA</td>\n",
       "      <td>2456</td>\n",
       "    </tr>\n",
       "    <tr>\n",
       "      <td>37</td>\n",
       "      <td>MANAQUIRI</td>\n",
       "      <td>694</td>\n",
       "    </tr>\n",
       "    <tr>\n",
       "      <td>38</td>\n",
       "      <td>IRANDUBA</td>\n",
       "      <td>362</td>\n",
       "    </tr>\n",
       "    <tr>\n",
       "      <td>39</td>\n",
       "      <td>PRESIDENTE FIGUEIREDO</td>\n",
       "      <td>1023</td>\n",
       "    </tr>\n",
       "    <tr>\n",
       "      <td>40</td>\n",
       "      <td>MANAUS</td>\n",
       "      <td>2942</td>\n",
       "    </tr>\n",
       "    <tr>\n",
       "      <td>41</td>\n",
       "      <td>CAREIRO</td>\n",
       "      <td>1389</td>\n",
       "    </tr>\n",
       "    <tr>\n",
       "      <td>43</td>\n",
       "      <td>AUTAZES</td>\n",
       "      <td>1278</td>\n",
       "    </tr>\n",
       "    <tr>\n",
       "      <td>45</td>\n",
       "      <td>CAREIRO DA VÁRZEA</td>\n",
       "      <td>296</td>\n",
       "    </tr>\n",
       "    <tr>\n",
       "      <td>46</td>\n",
       "      <td>RIO PRETO DA EVA</td>\n",
       "      <td>799</td>\n",
       "    </tr>\n",
       "    <tr>\n",
       "      <td>47</td>\n",
       "      <td>ITACOATIARA</td>\n",
       "      <td>1004</td>\n",
       "    </tr>\n",
       "    <tr>\n",
       "      <td>48</td>\n",
       "      <td>SÃO SEBASTIÃO DO UATUMÃ</td>\n",
       "      <td>82</td>\n",
       "    </tr>\n",
       "    <tr>\n",
       "      <td>49</td>\n",
       "      <td>ITAPIRANGA</td>\n",
       "      <td>134</td>\n",
       "    </tr>\n",
       "    <tr>\n",
       "      <td>51</td>\n",
       "      <td>NOVA OLINDA DO NORTE</td>\n",
       "      <td>479</td>\n",
       "    </tr>\n",
       "    <tr>\n",
       "      <td>52</td>\n",
       "      <td>SILVES</td>\n",
       "      <td>179</td>\n",
       "    </tr>\n",
       "    <tr>\n",
       "      <td>53</td>\n",
       "      <td>MAUÉS</td>\n",
       "      <td>28</td>\n",
       "    </tr>\n",
       "    <tr>\n",
       "      <td>54</td>\n",
       "      <td>URUCURITUBA</td>\n",
       "      <td>1</td>\n",
       "    </tr>\n",
       "  </tbody>\n",
       "</table>\n",
       "</div>"
      ],
      "text/plain": [
       "                  Município  Centroids\n",
       "27               NOVO AIRÃO       2112\n",
       "29                    ANORI         75\n",
       "30                   BERURI        553\n",
       "32               CAAPIRANGA        614\n",
       "33                    ANAMÃ        123\n",
       "34            NOVO ARIPUANÃ         11\n",
       "35               MANACAPURU       1163\n",
       "36                    BORBA       2456\n",
       "37                MANAQUIRI        694\n",
       "38                 IRANDUBA        362\n",
       "39    PRESIDENTE FIGUEIREDO       1023\n",
       "40                   MANAUS       2942\n",
       "41                  CAREIRO       1389\n",
       "43                  AUTAZES       1278\n",
       "45        CAREIRO DA VÁRZEA        296\n",
       "46         RIO PRETO DA EVA        799\n",
       "47              ITACOATIARA       1004\n",
       "48  SÃO SEBASTIÃO DO UATUMÃ         82\n",
       "49               ITAPIRANGA        134\n",
       "51     NOVA OLINDA DO NORTE        479\n",
       "52                   SILVES        179\n",
       "53                    MAUÉS         28\n",
       "54              URUCURITUBA          1"
      ]
     },
     "execution_count": 123,
     "metadata": {},
     "output_type": "execute_result"
    }
   ],
   "source": [
    "polygons = polygons[['MUNIC_PIO','NUM_POINTS']]\n",
    "top = polygons[polygons.NUM_POINTS != 0]\n",
    "top.columns = ['Município','Centroids']\n",
    "top"
   ]
  },
  {
   "cell_type": "code",
   "execution_count": 124,
   "metadata": {
    "ExecuteTime": {
     "end_time": "2019-09-06T15:51:07.922824Z",
     "start_time": "2019-09-06T15:51:07.433951Z"
    }
   },
   "outputs": [],
   "source": [
    "fig = px.bar(top, x='Município', y='Centroids', color='Centroids', labels='Município')\n",
    "fig.update_layout(title_text='Número de clusters para período 2014-02-24 10h~14h')\n",
    "fig.write_image(\"img/graficos/num_clust_munic.png\")"
   ]
  },
  {
   "cell_type": "markdown",
   "metadata": {
    "ExecuteTime": {
     "end_time": "2019-09-06T12:26:15.981316Z",
     "start_time": "2019-09-06T12:26:15.974853Z"
    }
   },
   "source": [
    "<img src=\"img/graficos/num_clust_munic.png\" align=\"center\" alt=\"Drawing\" style=\"width: 600px;\">"
   ]
  },
  {
   "cell_type": "markdown",
   "metadata": {},
   "source": [
    "#### CONCLUSIONS"
   ]
  },
  {
   "cell_type": "markdown",
   "metadata": {},
   "source": [
    "#### REFERENCES\n",
    "\n",
    "* CHENG, Yizong. Mean shift, mode seeking, and clustering. IEEE transactions on pattern analysis and machine intelligence, v. 17, n. 8, p. 790-799, 1995.\n",
    "\n",
    "* FRANK, Andrew U. Qualitative spatial reasoning: Cardinal directions as an example. International Journal of Geographical Information Science, v. 10, n. 3, p. 269-290, 1996.\n",
    "\n",
    "* Mean Shift Clustering Overview by Matt Nedrich https://spin.atomicobject.com/2015/05/26/mean-shift-clustering/\n",
    "\n",
    "* The NWS NEXRAD WSR88-D Radar: https://web.archive.org/web/20160113151652/http://www.desktopdoppler.com/help/nws-nexrad.htm#rainfall%20rates\n",
    "\n",
    "* PAPADIAS, Dimitris; THEODORIDIS, Yannis. Spatial relations, minimum bounding rectangles, and spatial data structures. International Journal of Geographical Information Science, v. 11, n. 2, p. 111-138, 1997."
   ]
  }
 ],
 "metadata": {
  "kernelspec": {
   "display_name": "Python 3",
   "language": "python",
   "name": "python3"
  },
  "language_info": {
   "codemirror_mode": {
    "name": "ipython",
    "version": 3
   },
   "file_extension": ".py",
   "mimetype": "text/x-python",
   "name": "python",
   "nbconvert_exporter": "python",
   "pygments_lexer": "ipython3",
   "version": "3.6.7"
  },
  "toc": {
   "base_numbering": 1,
   "nav_menu": {},
   "number_sections": false,
   "sideBar": true,
   "skip_h1_title": true,
   "title_cell": "Table of Contents",
   "title_sidebar": "Contents",
   "toc_cell": false,
   "toc_position": {},
   "toc_section_display": true,
   "toc_window_display": false
  }
 },
 "nbformat": 4,
 "nbformat_minor": 2
}
