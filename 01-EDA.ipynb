{
 "cells": [
  {
   "cell_type": "markdown",
   "metadata": {},
   "source": [
    "## National Institute for Space Research\n",
    "   <img src=\"img/icone_cap394.svg\" align=\"right\" alt=\"Drawing\" style=\"width: 200px;\"/>\n",
    "   \n",
    "#### Project for course  Introduction to Data Science - CAP 394\n",
    "#### Student: \n",
    "* Helvecio Bezerra Leal Neto\n",
    "\n",
    "#### Instructors: \n",
    "* Dr. Gilberto Queiroz \n",
    "* Dr. Rafael Santos\n",
    "\n",
    "## Schedule\n",
    "     - [x] Data reading\n",
    "     - [x] Data visualization\n",
    "     - [x] Cluster detection algorithm\n",
    "     - [x] Preprocessing\n",
    "     - [ ] Final analysis and project elaboration"
   ]
  },
  {
   "cell_type": "markdown",
   "metadata": {},
   "source": [
    "### Index\n",
    "\n",
    "  [About](#about) <br></br>\n",
    "  [The Data](#the_data)<br></br>\n",
    "  [Reading Data](#reading_data)<br></br>"
   ]
  },
  {
   "cell_type": "markdown",
   "metadata": {},
   "source": [
    "<a id='about'></a>\n",
    "## About\n",
    "\n",
    "This work is part of the suite of applications for the Introduction to Data Science (CAP-394) course offered by the National Institute for Space Research.\n",
    "\n",
    "The purpose of this paper is to perform an exploratory analysis on Radar data by surveying the raw data, processing them and understanding the dynamics of cloud movement in the study region. At the end of the exploratory process it will be possible to estimate the behavior of the clouds in relation to their movement, making an algorithm capable of estimating the movement from two consecutive images."
   ]
  },
  {
   "cell_type": "markdown",
   "metadata": {},
   "source": [
    "<a id='the_data'></a>\n",
    "## The Data\n",
    "\n",
    "The data analyzed in this example consists of NC (NetCDF4) files. Each file corresponds to Rain Rate measurements collected by the Amazon Protection System (SIPAM) radar during the GoAmazon experiment periods, starting from January 2014 to December 2015, such files contain data on 12-minute time intervals.\n",
    "\n",
    "https://www.arm.gov/research/campaigns/amf2014goamazon"
   ]
  },
  {
   "cell_type": "markdown",
   "metadata": {},
   "source": [
    "<a id='reading_data'></a>\n",
    "## Reading Data"
   ]
  },
  {
   "cell_type": "markdown",
   "metadata": {},
   "source": [
    "#### 1.1 - Libraries used"
   ]
  },
  {
   "cell_type": "code",
   "execution_count": 1,
   "metadata": {
    "ExecuteTime": {
     "end_time": "2019-08-20T12:12:52.400256Z",
     "start_time": "2019-08-20T12:12:51.702790Z"
    }
   },
   "outputs": [],
   "source": [
    "import datetime\n",
    "import os\n",
    "import xarray as xr\n",
    "import numpy as np\n",
    "import pandas as pd\n",
    "import matplotlib.pyplot as plt\n",
    "import matplotlib.colors as mcolors\n",
    "from mpl_toolkits.basemap import Basemap\n",
    "from matplotlib import animation\n",
    "from matplotlib import markers\n",
    "from sklearn.cluster import MeanShift, estimate_bandwidth, KMeans\n",
    "\n",
    "import warnings\n",
    "warnings.simplefilter(action='ignore', category=FutureWarning)\n",
    "\n",
    "#%matplotlib\n",
    "%matplotlib inline"
   ]
  },
  {
   "cell_type": "markdown",
   "metadata": {},
   "source": [
    "#### 1.2 Openning dataset"
   ]
  },
  {
   "cell_type": "code",
   "execution_count": 2,
   "metadata": {
    "ExecuteTime": {
     "end_time": "2019-08-20T12:12:52.510431Z",
     "start_time": "2019-08-20T12:12:52.481836Z"
    }
   },
   "outputs": [],
   "source": [
    "day = 20140923\n",
    "\n",
    "#read first file to extract static variable values\n",
    "path = 'data/radar/'\n",
    "first_file = path+str(day)+'/'+str(os.listdir(path+str(day))[0])\n",
    "    \n",
    "xds = xr.open_dataset(first_file)\n",
    "\n",
    "rr = xds.rain_rate                  ### Matrix with preciptation values\n",
    "runit = xds.rain_rate.units         ### Unit of rain_rate mm/h\n",
    "rkm = xds.rain_rate.height_km       ### Unit of matrix dimensions km\n",
    "lon = xds.lon0.data                 ### Coordinate Longitude Matrix\n",
    "lat = xds.lat0.data                 ### Corrdinate Latitude Matrix\n",
    "x0 = xds.x0                         ### Matrix of points\n",
    "y0 = xds.y0"
   ]
  },
  {
   "cell_type": "code",
   "execution_count": 3,
   "metadata": {
    "ExecuteTime": {
     "end_time": "2019-08-20T12:12:52.940823Z",
     "start_time": "2019-08-20T12:12:52.930215Z"
    }
   },
   "outputs": [
    {
     "data": {
      "text/plain": [
       "<xarray.Dataset>\n",
       "Dimensions:     (x0: 241, y0: 241)\n",
       "Dimensions without coordinates: x0, y0\n",
       "Data variables:\n",
       "    start_time  datetime64[ns] ...\n",
       "    stop_time   datetime64[ns] ...\n",
       "    lat0        (y0, x0) float32 -5.3025093 -5.302555 ... -0.99165195 -0.9916234\n",
       "    lon0        (y0, x0) float32 -62.156715 -62.138676 ... -57.854195 -57.83623\n",
       "    rain_rate   (y0, x0) float32 ...\n",
       "Attributes:\n",
       "    description:  SIPAM Manaus S-Band Gridded Rain Rates\n",
       "    source:       SIPAM Manaus S-Band Radar\n",
       "    institution:  SIPAM/Texas A&M University\n",
       "    comment:      v2.0a; Created at Texas A&M University (cschu@tamu.edu)\n",
       "    references:   http://atmo.tamu.edu/goamazon-sband-radar\n",
       "    created:      Wed Sep  6 19:39:02 2017\\n"
      ]
     },
     "execution_count": 3,
     "metadata": {},
     "output_type": "execute_result"
    }
   ],
   "source": [
    "xds"
   ]
  },
  {
   "cell_type": "markdown",
   "metadata": {},
   "source": [
    "#### 1.3 Variables present in the dataset"
   ]
  },
  {
   "cell_type": "code",
   "execution_count": 4,
   "metadata": {
    "ExecuteTime": {
     "end_time": "2019-08-20T12:12:53.717318Z",
     "start_time": "2019-08-20T12:12:53.712889Z"
    }
   },
   "outputs": [
    {
     "data": {
      "text/plain": [
       "Data variables:\n",
       "    start_time  datetime64[ns] ...\n",
       "    stop_time   datetime64[ns] ...\n",
       "    lat0        (y0, x0) float32 -5.3025093 -5.302555 ... -0.99165195 -0.9916234\n",
       "    lon0        (y0, x0) float32 -62.156715 -62.138676 ... -57.854195 -57.83623\n",
       "    rain_rate   (y0, x0) float32 ..."
      ]
     },
     "execution_count": 4,
     "metadata": {},
     "output_type": "execute_result"
    }
   ],
   "source": [
    "xds.data_vars"
   ]
  },
  {
   "cell_type": "markdown",
   "metadata": {},
   "source": [
    "#### 1.4 Attributes from dataset"
   ]
  },
  {
   "cell_type": "code",
   "execution_count": 5,
   "metadata": {
    "ExecuteTime": {
     "end_time": "2019-08-20T12:12:54.435500Z",
     "start_time": "2019-08-20T12:12:54.432412Z"
    }
   },
   "outputs": [
    {
     "data": {
      "text/plain": [
       "OrderedDict([('description', 'SIPAM Manaus S-Band Gridded Rain Rates'),\n",
       "             ('source', 'SIPAM Manaus S-Band Radar'),\n",
       "             ('institution', 'SIPAM/Texas A&M University'),\n",
       "             ('comment',\n",
       "              'v2.0a; Created at Texas A&M University (cschu@tamu.edu)'),\n",
       "             ('references', 'http://atmo.tamu.edu/goamazon-sband-radar'),\n",
       "             ('created', 'Wed Sep  6 19:39:02 2017\\n')])"
      ]
     },
     "execution_count": 5,
     "metadata": {},
     "output_type": "execute_result"
    }
   ],
   "source": [
    "xds.attrs"
   ]
  },
  {
   "cell_type": "markdown",
   "metadata": {},
   "source": [
    "#### 1.5 Read all data"
   ]
  },
  {
   "cell_type": "code",
   "execution_count": 6,
   "metadata": {
    "ExecuteTime": {
     "end_time": "2019-08-20T12:12:55.493715Z",
     "start_time": "2019-08-20T12:12:55.488669Z"
    }
   },
   "outputs": [],
   "source": [
    "def readData(date):\n",
    "    \n",
    "    path = 'data/radar/'\n",
    "    dataset = []\n",
    "    interval = len(os.listdir(path+str(date)))    \n",
    "    \n",
    "    # Original grid dimensions\n",
    "    nx = 241\n",
    "    ny = 241\n",
    "\n",
    "    # pixel size (in meters)\n",
    "    dx = 1000.\n",
    "    dy = 1000.\n",
    "\n",
    "    downsizeby = 1    \n",
    "\n",
    "    # Compute grid dimensions and grid coordinates after resampling\n",
    "    dx2, dy2 = dx*downsizeby, dy*downsizeby\n",
    "    nx2, ny2 = int(nx/downsizeby), int(ny/downsizeby)\n",
    "\n",
    "    X2, Y2 = np.meshgrid( np.arange(0,nx2*dx2, dx2), np.arange(0,ny2*dy2, dy2) )\n",
    "\n",
    "    # Define container\n",
    "    frames = np.zeros( (interval, nx2, ny2 ) )    \n",
    "    \n",
    "    for i in range(interval):\n",
    "        d = str(path)+str(date)+'/'\n",
    "        file = (sorted(os.listdir(path+str(date)))[i])\n",
    "        xds = xr.open_dataset(d+file)\n",
    "        rr = xds.rain_rate\n",
    "        frames[i] =  rr\n",
    "            \n",
    "    return frames"
   ]
  },
  {
   "cell_type": "code",
   "execution_count": 7,
   "metadata": {
    "ExecuteTime": {
     "end_time": "2019-08-20T12:12:56.602302Z",
     "start_time": "2019-08-20T12:12:56.002032Z"
    }
   },
   "outputs": [
    {
     "name": "stdout",
     "output_type": "stream",
     "text": [
      "The frames from dataset:data (times,x,y) ->  (120, 241, 241)\n"
     ]
    }
   ],
   "source": [
    "frames = readData(day)\n",
    "print('The frames from dataset:data (times,x,y) -> ',frames.shape)"
   ]
  },
  {
   "cell_type": "markdown",
   "metadata": {},
   "source": [
    "#### 1.6 Plot simple example without colormap legends for Time Zero"
   ]
  },
  {
   "cell_type": "code",
   "execution_count": 8,
   "metadata": {
    "ExecuteTime": {
     "end_time": "2019-08-20T12:12:57.973671Z",
     "start_time": "2019-08-20T12:12:57.185129Z"
    }
   },
   "outputs": [
    {
     "data": {
      "text/plain": [
       "<matplotlib.collections.PathCollection at 0x7f7869155b00>"
      ]
     },
     "execution_count": 8,
     "metadata": {},
     "output_type": "execute_result"
    },
    {
     "data": {
      "image/png": "[encoded data removed]",
      "text/plain": [
       "<Figure size 576x576 with 1 Axes>"
      ]
     },
     "metadata": {
      "needs_background": "light"
     },
     "output_type": "display_data"
    }
   ],
   "source": [
    "## Plot simple figure from dataset\n",
    "\n",
    "figtime = 89\n",
    "\n",
    "filename = sorted(os.listdir(path+str(day)))[figtime]\n",
    "\n",
    "plt.figure(figsize=(8,8))\n",
    "plt.title(filename)\n",
    "plt.scatter(lon,lat,frames[figtime])\n",
    "#plt.pcolormesh(lon,lat,frames[figtime])"
   ]
  },
  {
   "cell_type": "markdown",
   "metadata": {},
   "source": [
    "#### 1.7 Clusterization"
   ]
  },
  {
   "cell_type": "raw",
   "metadata": {},
   "source": [
    "LZ (dBZ)\tR (mm/h)\tR (in/h)\tIntensity\n",
    "    5\t      0.08\t      < 0.01\tHardly noticeable\n",
    "    10\t      0.16\t      < 0.01\tLight mist\n",
    "    15\t      0.37\t        0.01\tMist\n",
    "    20\t      0.82\t        0.03\tVery light\n",
    "    25\t      1.35\t        0.05\tLight\n",
    "    30\t      2.85\t        0.11\tLight to moderate\n",
    "    35\t      4.74\t        0.19\tModerate rain\n",
    "    40\t      9.96\t        0.39\tModerate rain\n",
    "    45\t      21.8\t        0.86\tModerate to heavy\n",
    "    50\t      44.7\t        1.76\tHeavy\n",
    "    55\t      85.2\t        3.35\tVery heavy/small hail\n",
    "    60\t       167\t        6.57\tExtreme/moderate hail\n",
    "    65\t       307\t        12.09\tExtreme/large hail"
   ]
  },
  {
   "cell_type": "code",
   "execution_count": 9,
   "metadata": {
    "ExecuteTime": {
     "end_time": "2019-08-20T12:13:03.688066Z",
     "start_time": "2019-08-20T12:13:03.648663Z"
    }
   },
   "outputs": [],
   "source": [
    "def clust(time1):    #11.53:\n",
    "    \n",
    "    dx ,dy = [],[]\n",
    "    te = None\n",
    "    \n",
    "    for i in range(241):\n",
    "        for j in range(241):\n",
    "            if not np.isnan(time1[i][j]) and time1[i][j] > 21.8:\n",
    "                dx.append(i)\n",
    "                dy.append(j)\n",
    "\n",
    "    dim = len(dx)\n",
    "    \n",
    "    # Check dimension\n",
    "    if dim > 4:   \n",
    "        for x in range(dim):\n",
    "            dx.append(np.float32('nan'))\n",
    "            dy.append(np.float32('nan'))\n",
    "\n",
    "        matrix = np.ndarray(shape=(dim, 2), dtype='float32')\n",
    "        pt = pd.DataFrame(columns=['x1','y1'])\n",
    "    \n",
    "        for x in range(dim):\n",
    "            matrix[x] = (dx[x], dy[x])\n",
    "            pt['x1'] = matrix[:,0]\n",
    "            pt['y1'] = matrix[:,1]\n",
    "        \n",
    "        te = pt[['x1','y1']]\n",
    "          \n",
    "        #bandwidth = estimate_bandwidth(te, quantile=0.3)\n",
    "        ms = MeanShift(bandwidth=5, bin_seeding=True, cluster_all=True, min_bin_freq=1,\n",
    "         n_jobs=None, seeds=None)\n",
    "\n",
    "        ms.fit(te)\n",
    "        labels = ms.labels_\n",
    "        cluster_centers = ms.cluster_centers_\n",
    "        n_clusters_ = len(np.unique(labels))\n",
    "        \n",
    "#     colors = 10*['r.','g.','b.','c.','k.','y.','m.']\n",
    "#     for i in range(len(te)):\n",
    "#            #print(te['x1'][i])\n",
    "#         plt.plot(te['x1'][i], te['y1'][i], colors[labels[i]], markersize = 10)\n",
    "#         plt.title('Estimated number of clusters: %d' % n_clusters_)\n",
    "\n",
    "# #         kmeans = KMeans().fit(te)\n",
    "# #         labels = kmeans.labels_\n",
    "# #         cluster_centers = kmeans.cluster_centers_\n",
    "# #         n_clusters_ = len(np.unique(labels))\n",
    "\n",
    "        te['cluster']=labels\n",
    "    \n",
    "    return te"
   ]
  },
  {
   "cell_type": "code",
   "execution_count": 348,
   "metadata": {
    "ExecuteTime": {
     "end_time": "2019-08-20T14:07:15.156408Z",
     "start_time": "2019-08-20T14:07:14.417425Z"
    }
   },
   "outputs": [
    {
     "data": {
      "text/html": [
       "<div>\n",
       "<style scoped>\n",
       "    .dataframe tbody tr th:only-of-type {\n",
       "        vertical-align: middle;\n",
       "    }\n",
       "\n",
       "    .dataframe tbody tr th {\n",
       "        vertical-align: top;\n",
       "    }\n",
       "\n",
       "    .dataframe thead th {\n",
       "        text-align: right;\n",
       "    }\n",
       "</style>\n",
       "<table border=\"1\" class=\"dataframe\">\n",
       "  <thead>\n",
       "    <tr style=\"text-align: right;\">\n",
       "      <th></th>\n",
       "      <th>x1</th>\n",
       "      <th>y1</th>\n",
       "      <th>cluster</th>\n",
       "    </tr>\n",
       "  </thead>\n",
       "  <tbody>\n",
       "    <tr>\n",
       "      <th>0</th>\n",
       "      <td>25.0</td>\n",
       "      <td>100.0</td>\n",
       "      <td>2</td>\n",
       "    </tr>\n",
       "    <tr>\n",
       "      <th>1</th>\n",
       "      <td>25.0</td>\n",
       "      <td>101.0</td>\n",
       "      <td>2</td>\n",
       "    </tr>\n",
       "    <tr>\n",
       "      <th>2</th>\n",
       "      <td>25.0</td>\n",
       "      <td>102.0</td>\n",
       "      <td>2</td>\n",
       "    </tr>\n",
       "    <tr>\n",
       "      <th>3</th>\n",
       "      <td>25.0</td>\n",
       "      <td>103.0</td>\n",
       "      <td>2</td>\n",
       "    </tr>\n",
       "    <tr>\n",
       "      <th>4</th>\n",
       "      <td>26.0</td>\n",
       "      <td>98.0</td>\n",
       "      <td>2</td>\n",
       "    </tr>\n",
       "  </tbody>\n",
       "</table>\n",
       "</div>"
      ],
      "text/plain": [
       "     x1     y1  cluster\n",
       "0  25.0  100.0        2\n",
       "1  25.0  101.0        2\n",
       "2  25.0  102.0        2\n",
       "3  25.0  103.0        2\n",
       "4  26.0   98.0        2"
      ]
     },
     "execution_count": 348,
     "metadata": {},
     "output_type": "execute_result"
    }
   ],
   "source": [
    "data = readData(day)\n",
    "clusters = clust(data[104])\n",
    "clusters.head()"
   ]
  },
  {
   "cell_type": "code",
   "execution_count": 349,
   "metadata": {
    "ExecuteTime": {
     "end_time": "2019-08-20T14:07:16.969946Z",
     "start_time": "2019-08-20T14:07:16.961528Z"
    }
   },
   "outputs": [],
   "source": [
    "def createData(time,clusters):\n",
    "    \n",
    "    if isinstance(clusters,pd.DataFrame):\n",
    "        \n",
    "        ##Static Radar Coordinates Value for Topological relation\n",
    "        radar = (-3.148556, -59.992000)\n",
    "\n",
    "        FAM1 = pd.DataFrame(columns=['YEAR','MONTH','DAY','HOUR','MINUTE',\n",
    "                                     'N_Cluster','ID_CLUS','LAT','LON','IND_X','IND_Y',\n",
    "                                     'T_RELATION','RAIN_FALL','DBz'])\n",
    "\n",
    "        LAT_ = (lat[clusters['x1'].astype(int),clusters['y1'].astype(int)])\n",
    "        LON_ = (lon[clusters['x1'].astype(int),clusters['y1'].astype(int)])\n",
    "        N_CLUST = len(clusters['cluster'].unique())\n",
    "\n",
    "        rfall = []\n",
    "        rlation = []\n",
    "        \n",
    "        for i,row in clusters.iterrows():\n",
    "            x_1, x_2 = row['x1'].astype(int), row['y1'].astype(int)\n",
    "            rfall.append(frames[time][x_1][x_2])\n",
    "            r = tRelation((LAT_[i],LON_[i]),radar)   ### Topological Relation\n",
    "            rlation.append(r)\n",
    "\n",
    "        FAM1['IND_X'], FAM1['IND_Y'] = clusters['x1'],clusters['y1']\n",
    "        FAM1['LAT'],FAM1['LON'] = LAT_,LON_\n",
    "        FAM1['N_Cluster'] = N_CLUST\n",
    "        FAM1['ID_CLUS'] = clusters['cluster']\n",
    "        FAM1['RAIN_FALL'] = rfall\n",
    "        FAM1['T_RELATION'] = rlation\n",
    "        FAM1['DBz'] =  10 * np.log10(200*FAM1['RAIN_FALL']**1.6)           ### Reflectivity = 10*log10(200R1.6)\n",
    "        FAM1['YEAR'] = str(sorted(os.listdir(path+str(day)))[time])[16:20]\n",
    "        FAM1['MONTH'] = str(sorted(os.listdir(path+str(day)))[time])[20:22]\n",
    "        FAM1['DAY'] = str(sorted(os.listdir(path+str(day)))[time])[22:24]\n",
    "        FAM1['HOUR'] = str(sorted(os.listdir(path+str(day)))[time])[25:27]\n",
    "        FAM1['MINUTE'] = str(sorted(os.listdir(path+str(day)))[time])[27:29]\n",
    "        \n",
    "    else:\n",
    "        return None\n",
    "\n",
    "    return FAM1"
   ]
  },
  {
   "cell_type": "code",
   "execution_count": 350,
   "metadata": {
    "ExecuteTime": {
     "end_time": "2019-08-20T14:07:20.122636Z",
     "start_time": "2019-08-20T14:07:19.377623Z"
    }
   },
   "outputs": [
    {
     "data": {
      "text/html": [
       "<div>\n",
       "<style scoped>\n",
       "    .dataframe tbody tr th:only-of-type {\n",
       "        vertical-align: middle;\n",
       "    }\n",
       "\n",
       "    .dataframe tbody tr th {\n",
       "        vertical-align: top;\n",
       "    }\n",
       "\n",
       "    .dataframe thead th {\n",
       "        text-align: right;\n",
       "    }\n",
       "</style>\n",
       "<table border=\"1\" class=\"dataframe\">\n",
       "  <thead>\n",
       "    <tr style=\"text-align: right;\">\n",
       "      <th></th>\n",
       "      <th>YEAR</th>\n",
       "      <th>MONTH</th>\n",
       "      <th>DAY</th>\n",
       "      <th>HOUR</th>\n",
       "      <th>MINUTE</th>\n",
       "      <th>N_Cluster</th>\n",
       "      <th>ID_CLUS</th>\n",
       "      <th>LAT</th>\n",
       "      <th>LON</th>\n",
       "      <th>IND_X</th>\n",
       "      <th>IND_Y</th>\n",
       "      <th>T_RELATION</th>\n",
       "      <th>RAIN_FALL</th>\n",
       "      <th>DBz</th>\n",
       "    </tr>\n",
       "  </thead>\n",
       "  <tbody>\n",
       "    <tr>\n",
       "      <th>0</th>\n",
       "      <td>2014</td>\n",
       "      <td>09</td>\n",
       "      <td>23</td>\n",
       "      <td>20</td>\n",
       "      <td>48</td>\n",
       "      <td>6</td>\n",
       "      <td>2</td>\n",
       "      <td>-4.856026</td>\n",
       "      <td>-60.352570</td>\n",
       "      <td>25.0</td>\n",
       "      <td>100.0</td>\n",
       "      <td>SW</td>\n",
       "      <td>35.410336</td>\n",
       "      <td>47.796381</td>\n",
       "    </tr>\n",
       "    <tr>\n",
       "      <th>1</th>\n",
       "      <td>2014</td>\n",
       "      <td>09</td>\n",
       "      <td>23</td>\n",
       "      <td>20</td>\n",
       "      <td>48</td>\n",
       "      <td>6</td>\n",
       "      <td>2</td>\n",
       "      <td>-4.856033</td>\n",
       "      <td>-60.334541</td>\n",
       "      <td>25.0</td>\n",
       "      <td>101.0</td>\n",
       "      <td>SW</td>\n",
       "      <td>45.014862</td>\n",
       "      <td>49.463995</td>\n",
       "    </tr>\n",
       "    <tr>\n",
       "      <th>2</th>\n",
       "      <td>2014</td>\n",
       "      <td>09</td>\n",
       "      <td>23</td>\n",
       "      <td>20</td>\n",
       "      <td>48</td>\n",
       "      <td>6</td>\n",
       "      <td>2</td>\n",
       "      <td>-4.856040</td>\n",
       "      <td>-60.316509</td>\n",
       "      <td>25.0</td>\n",
       "      <td>102.0</td>\n",
       "      <td>SW</td>\n",
       "      <td>28.273729</td>\n",
       "      <td>46.232429</td>\n",
       "    </tr>\n",
       "    <tr>\n",
       "      <th>3</th>\n",
       "      <td>2014</td>\n",
       "      <td>09</td>\n",
       "      <td>23</td>\n",
       "      <td>20</td>\n",
       "      <td>48</td>\n",
       "      <td>6</td>\n",
       "      <td>2</td>\n",
       "      <td>-4.856046</td>\n",
       "      <td>-60.298481</td>\n",
       "      <td>25.0</td>\n",
       "      <td>103.0</td>\n",
       "      <td>SW</td>\n",
       "      <td>22.906746</td>\n",
       "      <td>44.769714</td>\n",
       "    </tr>\n",
       "    <tr>\n",
       "      <th>4</th>\n",
       "      <td>2014</td>\n",
       "      <td>09</td>\n",
       "      <td>23</td>\n",
       "      <td>20</td>\n",
       "      <td>48</td>\n",
       "      <td>6</td>\n",
       "      <td>2</td>\n",
       "      <td>-4.838044</td>\n",
       "      <td>-60.388615</td>\n",
       "      <td>26.0</td>\n",
       "      <td>98.0</td>\n",
       "      <td>SW</td>\n",
       "      <td>47.659370</td>\n",
       "      <td>49.860673</td>\n",
       "    </tr>\n",
       "  </tbody>\n",
       "</table>\n",
       "</div>"
      ],
      "text/plain": [
       "   YEAR MONTH DAY HOUR MINUTE  N_Cluster  ID_CLUS       LAT        LON  IND_X  \\\n",
       "0  2014    09  23   20     48          6        2 -4.856026 -60.352570   25.0   \n",
       "1  2014    09  23   20     48          6        2 -4.856033 -60.334541   25.0   \n",
       "2  2014    09  23   20     48          6        2 -4.856040 -60.316509   25.0   \n",
       "3  2014    09  23   20     48          6        2 -4.856046 -60.298481   25.0   \n",
       "4  2014    09  23   20     48          6        2 -4.838044 -60.388615   26.0   \n",
       "\n",
       "   IND_Y T_RELATION  RAIN_FALL        DBz  \n",
       "0  100.0         SW  35.410336  47.796381  \n",
       "1  101.0         SW  45.014862  49.463995  \n",
       "2  102.0         SW  28.273729  46.232429  \n",
       "3  103.0         SW  22.906746  44.769714  \n",
       "4   98.0         SW  47.659370  49.860673  "
      ]
     },
     "execution_count": 350,
     "metadata": {},
     "output_type": "execute_result"
    }
   ],
   "source": [
    "data = readData(day)\n",
    "clusterizado = clust(data[104])\n",
    "createData(104,clusterizado).head()"
   ]
  },
  {
   "cell_type": "code",
   "execution_count": 351,
   "metadata": {
    "ExecuteTime": {
     "end_time": "2019-08-20T14:07:27.589682Z",
     "start_time": "2019-08-20T14:07:27.586093Z"
    }
   },
   "outputs": [],
   "source": [
    "def centroidData(clus):\n",
    "    \n",
    "    if isinstance(clus,pd.DataFrame):\n",
    "        centroid = pd.DataFrame()\n",
    "        for i in range(clus['N_Cluster'].max()):\n",
    "            ct = clus.loc[clus['ID_CLUS'] == i ]\n",
    "            ct = ct.loc[ct['RAIN_FALL'] == ct['RAIN_FALL'].max()]\n",
    "            centroid = centroid.append(ct)\n",
    "    else:\n",
    "        return None\n",
    "    return centroid"
   ]
  },
  {
   "cell_type": "code",
   "execution_count": 352,
   "metadata": {
    "ExecuteTime": {
     "end_time": "2019-08-20T14:07:29.237116Z",
     "start_time": "2019-08-20T14:07:29.089505Z"
    }
   },
   "outputs": [
    {
     "data": {
      "text/html": [
       "<div>\n",
       "<style scoped>\n",
       "    .dataframe tbody tr th:only-of-type {\n",
       "        vertical-align: middle;\n",
       "    }\n",
       "\n",
       "    .dataframe tbody tr th {\n",
       "        vertical-align: top;\n",
       "    }\n",
       "\n",
       "    .dataframe thead th {\n",
       "        text-align: right;\n",
       "    }\n",
       "</style>\n",
       "<table border=\"1\" class=\"dataframe\">\n",
       "  <thead>\n",
       "    <tr style=\"text-align: right;\">\n",
       "      <th></th>\n",
       "      <th>YEAR</th>\n",
       "      <th>MONTH</th>\n",
       "      <th>DAY</th>\n",
       "      <th>HOUR</th>\n",
       "      <th>MINUTE</th>\n",
       "      <th>N_Cluster</th>\n",
       "      <th>ID_CLUS</th>\n",
       "      <th>LAT</th>\n",
       "      <th>LON</th>\n",
       "      <th>IND_X</th>\n",
       "      <th>IND_Y</th>\n",
       "      <th>T_RELATION</th>\n",
       "      <th>RAIN_FALL</th>\n",
       "      <th>DBz</th>\n",
       "    </tr>\n",
       "  </thead>\n",
       "  <tbody>\n",
       "    <tr>\n",
       "      <th>39</th>\n",
       "      <td>2014</td>\n",
       "      <td>09</td>\n",
       "      <td>23</td>\n",
       "      <td>20</td>\n",
       "      <td>48</td>\n",
       "      <td>6</td>\n",
       "      <td>0</td>\n",
       "      <td>-1.945103</td>\n",
       "      <td>-61.034569</td>\n",
       "      <td>187.0</td>\n",
       "      <td>62.0</td>\n",
       "      <td>NW</td>\n",
       "      <td>119.267403</td>\n",
       "      <td>56.234648</td>\n",
       "    </tr>\n",
       "    <tr>\n",
       "      <th>19</th>\n",
       "      <td>2014</td>\n",
       "      <td>09</td>\n",
       "      <td>23</td>\n",
       "      <td>20</td>\n",
       "      <td>48</td>\n",
       "      <td>6</td>\n",
       "      <td>1</td>\n",
       "      <td>-3.849518</td>\n",
       "      <td>-60.946346</td>\n",
       "      <td>81.0</td>\n",
       "      <td>67.0</td>\n",
       "      <td>SW</td>\n",
       "      <td>36.488811</td>\n",
       "      <td>48.004855</td>\n",
       "    </tr>\n",
       "    <tr>\n",
       "      <th>5</th>\n",
       "      <td>2014</td>\n",
       "      <td>09</td>\n",
       "      <td>23</td>\n",
       "      <td>20</td>\n",
       "      <td>48</td>\n",
       "      <td>6</td>\n",
       "      <td>2</td>\n",
       "      <td>-4.838052</td>\n",
       "      <td>-60.370586</td>\n",
       "      <td>26.0</td>\n",
       "      <td>99.0</td>\n",
       "      <td>SW</td>\n",
       "      <td>55.177624</td>\n",
       "      <td>50.878508</td>\n",
       "    </tr>\n",
       "    <tr>\n",
       "      <th>13</th>\n",
       "      <td>2014</td>\n",
       "      <td>09</td>\n",
       "      <td>23</td>\n",
       "      <td>20</td>\n",
       "      <td>48</td>\n",
       "      <td>6</td>\n",
       "      <td>3</td>\n",
       "      <td>-4.442606</td>\n",
       "      <td>-60.694740</td>\n",
       "      <td>48.0</td>\n",
       "      <td>81.0</td>\n",
       "      <td>SW</td>\n",
       "      <td>32.764000</td>\n",
       "      <td>47.256651</td>\n",
       "    </tr>\n",
       "    <tr>\n",
       "      <th>16</th>\n",
       "      <td>2014</td>\n",
       "      <td>09</td>\n",
       "      <td>23</td>\n",
       "      <td>20</td>\n",
       "      <td>48</td>\n",
       "      <td>6</td>\n",
       "      <td>4</td>\n",
       "      <td>-3.885595</td>\n",
       "      <td>-60.784317</td>\n",
       "      <td>79.0</td>\n",
       "      <td>76.0</td>\n",
       "      <td>SW</td>\n",
       "      <td>36.728539</td>\n",
       "      <td>48.050358</td>\n",
       "    </tr>\n",
       "    <tr>\n",
       "      <th>8</th>\n",
       "      <td>2014</td>\n",
       "      <td>09</td>\n",
       "      <td>23</td>\n",
       "      <td>20</td>\n",
       "      <td>48</td>\n",
       "      <td>6</td>\n",
       "      <td>5</td>\n",
       "      <td>-4.802001</td>\n",
       "      <td>-59.397106</td>\n",
       "      <td>28.0</td>\n",
       "      <td>153.0</td>\n",
       "      <td>SE</td>\n",
       "      <td>24.935989</td>\n",
       "      <td>45.359526</td>\n",
       "    </tr>\n",
       "  </tbody>\n",
       "</table>\n",
       "</div>"
      ],
      "text/plain": [
       "    YEAR MONTH DAY HOUR MINUTE  N_Cluster  ID_CLUS       LAT        LON  \\\n",
       "39  2014    09  23   20     48          6        0 -1.945103 -61.034569   \n",
       "19  2014    09  23   20     48          6        1 -3.849518 -60.946346   \n",
       "5   2014    09  23   20     48          6        2 -4.838052 -60.370586   \n",
       "13  2014    09  23   20     48          6        3 -4.442606 -60.694740   \n",
       "16  2014    09  23   20     48          6        4 -3.885595 -60.784317   \n",
       "8   2014    09  23   20     48          6        5 -4.802001 -59.397106   \n",
       "\n",
       "    IND_X  IND_Y T_RELATION   RAIN_FALL        DBz  \n",
       "39  187.0   62.0         NW  119.267403  56.234648  \n",
       "19   81.0   67.0         SW   36.488811  48.004855  \n",
       "5    26.0   99.0         SW   55.177624  50.878508  \n",
       "13   48.0   81.0         SW   32.764000  47.256651  \n",
       "16   79.0   76.0         SW   36.728539  48.050358  \n",
       "8    28.0  153.0         SE   24.935989  45.359526  "
      ]
     },
     "execution_count": 352,
     "metadata": {},
     "output_type": "execute_result"
    }
   ],
   "source": [
    "frameTime = 104\n",
    "\n",
    "pdCenter = clust(data[104])\n",
    "pdCenter = createData(frameTime,pdCenter)\n",
    "centroidData(pdCenter)"
   ]
  },
  {
   "cell_type": "code",
   "execution_count": 287,
   "metadata": {
    "ExecuteTime": {
     "end_time": "2019-08-20T13:53:49.686296Z",
     "start_time": "2019-08-20T13:53:49.680326Z"
    }
   },
   "outputs": [],
   "source": [
    "def tRelation(p,q):\n",
    "\n",
    "    north_west       =  p[1] <  q[1] and  p[0] >  q[0] \n",
    "    restricted_north =  p[1] == q[1] and  p[0] >  q[0]\n",
    "    north_east       =  p[1] >  q[1] and  p[0] >  q[0]\n",
    "    restricted_west  =  p[1] <  q[1] and  p[0] == q[0]\n",
    "    same_position    =  p[1] == q[1] and  p[0] == q[0]\n",
    "    restricted_east  =  p[1] >  q[1] and  p[0] == q[0]\n",
    "    south_west       =  p[1] <  q[1] and  p[0] <  q[0]\n",
    "    restricted_south =  p[1] == q[1] and  p[0] <  q[0] \n",
    "    south_est        =  p[1] >  q[1] and  p[0] <  q[0]\n",
    "\n",
    "    if north_west == True:\n",
    "        return ('NW')\n",
    "    if restricted_north == True:\n",
    "        return ('RN')\n",
    "    if north_east == True:\n",
    "        return ('NE')\n",
    "    if restricted_west == True:\n",
    "        return ('RW')\n",
    "    if same_position == True:\n",
    "        return('SP')\n",
    "    if restricted_east == True:\n",
    "        return ('RE')\n",
    "    if south_west == True:\n",
    "        return ('SW')\n",
    "    if restricted_south == True:\n",
    "        return ('RS')\n",
    "    if south_est == True:\n",
    "        return ('SE')"
   ]
  },
  {
   "cell_type": "markdown",
   "metadata": {},
   "source": [
    "#### 1.8 Pre-processing"
   ]
  },
  {
   "cell_type": "code",
   "execution_count": 15,
   "metadata": {
    "ExecuteTime": {
     "end_time": "2019-08-20T12:13:14.900407Z",
     "start_time": "2019-08-20T12:13:14.896742Z"
    }
   },
   "outputs": [],
   "source": [
    "def run():\n",
    "    data = readData(day)    \n",
    "    total = []\n",
    "    \n",
    "    dados = pd.DataFrame()\n",
    "    \n",
    "    for i in range(len(data)):\n",
    "        cluster = clust(data[i])\n",
    "             \n",
    "        if isinstance(cluster,pd.DataFrame):\n",
    "            clt = createData(i,cluster)\n",
    "            clt2 = centroidData(clt)\n",
    "            dados = dados.append(clt2)\n",
    "        else:\n",
    "            pass\n",
    "            \n",
    "    dados.to_csv('output/Moderate_Centroid_OUTPUT_'+str(sorted(os.listdir(path+str(day)))[i][:-3])+'.csv')"
   ]
  },
  {
   "cell_type": "markdown",
   "metadata": {},
   "source": [
    "### RUN PROCESS"
   ]
  },
  {
   "cell_type": "code",
   "execution_count": 16,
   "metadata": {
    "ExecuteTime": {
     "end_time": "2019-08-20T12:14:29.786297Z",
     "start_time": "2019-08-20T12:14:19.009094Z"
    }
   },
   "outputs": [],
   "source": [
    "run()"
   ]
  },
  {
   "cell_type": "code",
   "execution_count": 341,
   "metadata": {
    "ExecuteTime": {
     "end_time": "2019-08-20T14:02:54.613811Z",
     "start_time": "2019-08-20T14:02:54.592936Z"
    }
   },
   "outputs": [],
   "source": [
    "#### SETUP FOR PLOT\n",
    "\n",
    "def setupMap(frame):\n",
    "\n",
    "    time = frame\n",
    "\n",
    "    centroid = []\n",
    "    centers = clust(data[time])\n",
    "\n",
    "    if isinstance(centers,pd.DataFrame):\n",
    "\n",
    "        centers = createData(time,centers)\n",
    "        c_lat = centers['LAT']\n",
    "        c_lon = centers['LON']\n",
    "\n",
    "\n",
    "        ## Set centroid of clusters by MAX RAIN_FALL Rate\n",
    "        for i in range(centers['N_Cluster'].max()):\n",
    "            ct = centers.loc[centers['ID_CLUS'] == i ]\n",
    "            ct = ct.loc[ct['RAIN_FALL'] == ct['RAIN_FALL'].max()]\n",
    "            centroid.append(ct)\n",
    "\n",
    "    file = path+str(day)+'/'+str(sorted(os.listdir(path+str(day)))[time])\n",
    "    xds = xr.open_dataset(file)\n",
    "    date_time = xds.start_time.data\n",
    "    date_time = pd.to_datetime(date_time)\n",
    "    \n",
    "    my_coords = [-3.148556, -59.992000]     ## RADAR T1 SIPAM COORDS\n",
    "    zoom_scale = 2.2                        ## ZOOM SCALE\n",
    "\n",
    "    bbox = [my_coords[0]-zoom_scale,my_coords[0]+zoom_scale,\\\n",
    "             my_coords[1]-zoom_scale,my_coords[1]+zoom_scale]\n",
    "\n",
    "\n",
    "    fig, axes = plt.subplots(nrows=1,ncols=1,figsize=(10,10),dpi=100)\n",
    "    label = 'Rain rate in ' + runit+ ''\n",
    "    title = 'SIPAM Manaus S-Band Radar :' + str(date_time)\n",
    "\n",
    "    # draw filled contours.\n",
    "    clevs = [0, 1, 2.5, 5, 7.5, 10, 15, 20, 30, 40,\n",
    "                 50, 70, 100]\n",
    "\n",
    "    cmap_data = [(1.0, 1.0, 1.0),\n",
    "                     (0.3137255012989044, 0.8156862854957581, 0.8156862854957581),\n",
    "                     (0.0, 1.0, 1.0),\n",
    "                     (0.0, 0.8784313797950745, 0.501960813999176),\n",
    "                     (0.0, 0.7529411911964417, 0.0),\n",
    "                     (0.501960813999176, 0.8784313797950745, 0.0),\n",
    "                     (1.0, 1.0, 0.0),\n",
    "                     (1.0, 0.6274510025978088, 0.0),\n",
    "                     (1.0, 0.0, 0.0),\n",
    "                     (1.0, 0.125490203499794, 0.501960813999176),\n",
    "                     (0.9411764740943909, 0.250980406999588, 1.0),\n",
    "                     (0.501960813999176, 0.125490203499794, 1.0),\n",
    "                     (0.250980406999588, 0.250980406999588, 1.0)]\n",
    "\n",
    "    cmap = mcolors.ListedColormap(cmap_data, 'precipitation')\n",
    "    norm = mcolors.BoundaryNorm(clevs, cmap.N)\n",
    "    ax = axes\n",
    "\n",
    "    m = Basemap(projection='merc',llcrnrlat=bbox[0],urcrnrlat=bbox[1],\\\n",
    "                    llcrnrlon=bbox[2],urcrnrlon=bbox[3],lat_ts=10,resolution='i')\n",
    "\n",
    "    ## PRECIPTACAO\n",
    "    xi, yi = m(lon, lat)\n",
    "    ## SIPAM RADAR\n",
    "    xm, ym = m(my_coords[1],my_coords[0])\n",
    "    radar = m.plot(xm,ym, marker='^',color='r', label='RADAR')\n",
    "\n",
    "\n",
    "    for cent in range(len(centroid)):\n",
    "        clat, clon, mm_f = centroid[cent]['LAT'].item(),centroid[cent]['LON'].item(),centroid[cent]['RAIN_FALL'].item()\n",
    "        #clat, clon, mm_f = centroid[1]['LAT'].item(),centroid[1]['LON'].item(),centroid[1]['RAIN_FALL'].item()\n",
    "        t3x,t3y = m(clon, clat)\n",
    "        m.plot(t3x,t3y, marker=markers.CARETDOWN, markersize=10, color='k')\n",
    "        print(cent, clon, clat)\n",
    "        #plt.annotate(str(mm_f)[0:5]+'mm/h', xy=(t3x,t3y),xytext=(t3x+12,t3y+12),rotation=45, size=10)\n",
    "\n",
    "    m.plot(xm,ym, label='Nº Clusters: ' +str(len(centroid)),marker=markers.CARETDOWN, color='k')\n",
    "\n",
    "    cs = m.pcolormesh(xi,yi,frames[time], cmap = cmap, norm = norm, ax=ax)\n",
    "\n",
    "    # # # # Add Grid Lines\n",
    "    m.drawparallels(np.arange(bbox[0],bbox[1],(bbox[1]-bbox[0])/5),labels=[1,0,0,0],rotation=45, size=(7))\n",
    "    m.drawmeridians(np.arange(bbox[2],bbox[3],(bbox[3]-bbox[2])/5),labels=[0,0,0,1],rotation=45, size=(7))\n",
    "    m.drawmapboundary(fill_color='gray')\n",
    "\n",
    "    m.drawcoastlines()\n",
    "    m.drawstates()\n",
    "    m.drawcountries()\n",
    "    #m.fillcontinents(color='#FAFAFA',lake_color='dodgerblue')\n",
    "    #m.drawlsmask(land_color='Linen', lake_color='#CCFFFF')\n",
    "    m.drawrivers(color = '#0043CB', linewidth=1)\n",
    "\n",
    "    #m.readshapefile('./data/am_municipios/13MUE250GC_SIR', 'teste')\n",
    "    # # # # Add Colorbar\n",
    "    cbar = m.colorbar(cs, location='bottom', pad=\"10%\")\n",
    "    cbar.set_label(label)\n",
    "\n",
    "    # # # # # Add Title\n",
    "    plt.title(title)\n",
    "    plt.legend()\n",
    "    plt.ylabel('Longitude', labelpad=40)\n",
    "    plt.xlabel('Latitude', labelpad=60)\n",
    "\n",
    "    plt.savefig('radar_image/'+ sorted(os.listdir(path+str(day)))[time]+'.png')\n",
    "\n",
    "    plt.show()"
   ]
  },
  {
   "cell_type": "code",
   "execution_count": 343,
   "metadata": {
    "ExecuteTime": {
     "end_time": "2019-08-20T14:03:55.839224Z",
     "start_time": "2019-08-20T14:03:55.825114Z"
    }
   },
   "outputs": [
    {
     "name": "stdout",
     "output_type": "stream",
     "text": [
      "NW True\n",
      "RN False\n",
      "NE False\n",
      "RW False\n",
      "SP False\n",
      "RE False\n",
      "SW False\n",
      "RS False\n",
      "SE False\n"
     ]
    }
   ],
   "source": [
    "x1,y1 = -1.9451030492782593,-61.034568786621094      #-61.034568786621094 -1.9451030492782593\n",
    "r1,r2 = -3.148556, -59.992000                  # RADAR\n",
    "p = (x1,y1)                                    #PONTO\n",
    "q = (r1,r2)                                    #RADAR\n",
    "\n",
    "north_west       =  p[1] <  q[1] and  p[0] >  q[0] \n",
    "restricted_north =  p[1] == q[1] and  p[0] >  q[0]\n",
    "north_east       =  p[1] >  q[1] and  p[0] >  q[0]\n",
    "restricted_west  =  p[1] <  q[1] and  p[0] == q[0]\n",
    "same_position    =  p[1] == q[1] and  p[0] == q[0]\n",
    "restricted_east  =  p[1] >  q[1] and  p[0] == q[0]\n",
    "south_west       =  p[1] <  q[1] and  p[0] <  q[0]\n",
    "restricted_south =  p[1] == q[1] and  p[0] <  q[0] \n",
    "south_est        =  p[1] >  q[1] and  p[0] <  q[0]\n",
    "\n",
    "print('NW',north_west)\n",
    "print('RN',restricted_north)\n",
    "print('NE',north_east)\n",
    "print('RW',restricted_west)\n",
    "print('SP',same_position)\n",
    "print('RE',restricted_east)\n",
    "print('SW',south_west)\n",
    "print('RS',restricted_south)\n",
    "print('SE',south_est)"
   ]
  },
  {
   "cell_type": "code",
   "execution_count": 345,
   "metadata": {
    "ExecuteTime": {
     "end_time": "2019-08-20T14:05:04.986342Z",
     "start_time": "2019-08-20T14:05:03.522163Z"
    }
   },
   "outputs": [
    {
     "name": "stdout",
     "output_type": "stream",
     "text": [
      "0 -61.14240646362305 -1.9270390272140503\n",
      "1 -60.89237976074219 -3.90346622467041\n",
      "2 -60.37058639526367 -4.838052272796631\n",
      "3 -59.68618392944336 -2.897728204727173\n"
     ]
    },
    {
     "data": {
      "image/png": "[encoded data removed]",
      "text/plain": [
       "<Figure size 1000x1000 with 2 Axes>"
      ]
     },
     "metadata": {
      "needs_background": "light"
     },
     "output_type": "display_data"
    }
   ],
   "source": [
    "setupMap(105)"
   ]
  },
  {
   "cell_type": "code",
   "execution_count": 185,
   "metadata": {
    "ExecuteTime": {
     "end_time": "2019-08-20T13:32:56.396201Z",
     "start_time": "2019-08-20T13:32:56.272734Z"
    }
   },
   "outputs": [
    {
     "name": "stdout",
     "output_type": "stream",
     "text": [
      "lat_RADAR:  -3.148556 lon_RADAR:  -59.992\n",
      "lat_PONTO:  0    -4.909938\n",
      "1    -4.909951\n",
      "2    -4.891972\n",
      "3    -4.873968\n",
      "4    -4.802077\n",
      "5    -4.802067\n",
      "6    -4.784091\n",
      "7    -4.784081\n",
      "8    -4.730059\n",
      "9    -3.849586\n",
      "10   -3.849602\n",
      "11   -3.831587\n",
      "12   -3.831604\n",
      "13   -3.831620\n",
      "14   -3.831637\n",
      "15   -3.813605\n",
      "16   -3.813622\n",
      "17   -3.813638\n",
      "18   -3.813655\n",
      "19   -3.795639\n",
      "20   -3.795656\n",
      "21   -3.795673\n",
      "22   -3.777691\n",
      "23   -3.777815\n",
      "24   -3.759835\n",
      "25   -2.340041\n",
      "26   -2.322097\n",
      "27   -2.304132\n",
      "28   -1.927184\n",
      "29   -1.909233\n",
      "30   -1.891191\n",
      "31   -1.873242\n",
      "32   -1.873257\n",
      "33   -1.855292\n",
      "34   -1.855307\n",
      "35   -1.837342\n",
      "Name: LAT, dtype: float32 lon_PONTO:  0    -60.316536\n",
      "1    -60.280476\n",
      "2    -60.316525\n",
      "3    -59.577339\n",
      "4    -59.523296\n",
      "5    -59.505268\n",
      "6    -59.487255\n",
      "7    -59.469227\n",
      "8    -60.694992\n",
      "9    -60.874317\n",
      "10   -60.856312\n",
      "11   -60.910313\n",
      "12   -60.892307\n",
      "13   -60.874302\n",
      "14   -60.856297\n",
      "15   -60.928303\n",
      "16   -60.910294\n",
      "17   -60.892288\n",
      "18   -60.874283\n",
      "19   -60.928284\n",
      "20   -60.910278\n",
      "21   -60.892273\n",
      "22   -60.910259\n",
      "23   -60.766220\n",
      "24   -60.784206\n",
      "25   -58.661427\n",
      "26   -58.679428\n",
      "27   -58.679447\n",
      "28   -60.980633\n",
      "29   -60.962643\n",
      "30   -61.052505\n",
      "31   -61.034519\n",
      "32   -61.016544\n",
      "33   -61.016529\n",
      "34   -60.998554\n",
      "35   -60.998543\n",
      "Name: LON, dtype: float32\n"
     ]
    },
    {
     "ename": "ValueError",
     "evalue": "The truth value of a Series is ambiguous. Use a.empty, a.bool(), a.item(), a.any() or a.all().",
     "output_type": "error",
     "traceback": [
      "\u001b[0;31m---------------------------------------------------------------------------\u001b[0m",
      "\u001b[0;31mValueError\u001b[0m                                Traceback (most recent call last)",
      "\u001b[0;32m<ipython-input-185-75da03a0ef1c>\u001b[0m in \u001b[0;36m<module>\u001b[0;34m\u001b[0m\n\u001b[0;32m----> 1\u001b[0;31m \u001b[0msetupMap\u001b[0m\u001b[0;34m(\u001b[0m\u001b[0;36m102\u001b[0m\u001b[0;34m)\u001b[0m\u001b[0;34m\u001b[0m\u001b[0;34m\u001b[0m\u001b[0m\n\u001b[0m",
      "\u001b[0;32m<ipython-input-182-fe47fa751bd5>\u001b[0m in \u001b[0;36msetupMap\u001b[0;34m(frame)\u001b[0m\n\u001b[1;32m     10\u001b[0m     \u001b[0;32mif\u001b[0m \u001b[0misinstance\u001b[0m\u001b[0;34m(\u001b[0m\u001b[0mcenters\u001b[0m\u001b[0;34m,\u001b[0m\u001b[0mpd\u001b[0m\u001b[0;34m.\u001b[0m\u001b[0mDataFrame\u001b[0m\u001b[0;34m)\u001b[0m\u001b[0;34m:\u001b[0m\u001b[0;34m\u001b[0m\u001b[0;34m\u001b[0m\u001b[0m\n\u001b[1;32m     11\u001b[0m \u001b[0;34m\u001b[0m\u001b[0m\n\u001b[0;32m---> 12\u001b[0;31m         \u001b[0mcenters\u001b[0m \u001b[0;34m=\u001b[0m \u001b[0mcreateData\u001b[0m\u001b[0;34m(\u001b[0m\u001b[0mtime\u001b[0m\u001b[0;34m,\u001b[0m\u001b[0mcenters\u001b[0m\u001b[0;34m)\u001b[0m\u001b[0;34m\u001b[0m\u001b[0;34m\u001b[0m\u001b[0m\n\u001b[0m\u001b[1;32m     13\u001b[0m         \u001b[0mc_lat\u001b[0m \u001b[0;34m=\u001b[0m \u001b[0mcenters\u001b[0m\u001b[0;34m[\u001b[0m\u001b[0;34m'LAT'\u001b[0m\u001b[0;34m]\u001b[0m\u001b[0;34m\u001b[0m\u001b[0;34m\u001b[0m\u001b[0m\n\u001b[1;32m     14\u001b[0m         \u001b[0mc_lon\u001b[0m \u001b[0;34m=\u001b[0m \u001b[0mcenters\u001b[0m\u001b[0;34m[\u001b[0m\u001b[0;34m'LON'\u001b[0m\u001b[0;34m]\u001b[0m\u001b[0;34m\u001b[0m\u001b[0;34m\u001b[0m\u001b[0m\n",
      "\u001b[0;32m<ipython-input-166-61b684128659>\u001b[0m in \u001b[0;36mcreateData\u001b[0;34m(time, clusters)\u001b[0m\n\u001b[1;32m     26\u001b[0m         \u001b[0mFAM1\u001b[0m\u001b[0;34m[\u001b[0m\u001b[0;34m'RAIN_FALL'\u001b[0m\u001b[0;34m]\u001b[0m \u001b[0;34m=\u001b[0m \u001b[0mrfall\u001b[0m\u001b[0;34m\u001b[0m\u001b[0;34m\u001b[0m\u001b[0m\n\u001b[1;32m     27\u001b[0m         \u001b[0mFAM1\u001b[0m\u001b[0;34m[\u001b[0m\u001b[0;34m'DBz'\u001b[0m\u001b[0;34m]\u001b[0m \u001b[0;34m=\u001b[0m  \u001b[0;36m10\u001b[0m \u001b[0;34m*\u001b[0m \u001b[0mnp\u001b[0m\u001b[0;34m.\u001b[0m\u001b[0mlog10\u001b[0m\u001b[0;34m(\u001b[0m\u001b[0;36m200\u001b[0m\u001b[0;34m*\u001b[0m\u001b[0mFAM1\u001b[0m\u001b[0;34m[\u001b[0m\u001b[0;34m'RAIN_FALL'\u001b[0m\u001b[0;34m]\u001b[0m\u001b[0;34m**\u001b[0m\u001b[0;36m1.6\u001b[0m\u001b[0;34m)\u001b[0m           \u001b[0;31m### Reflectivity = 10*log10(200R1.6)\u001b[0m\u001b[0;34m\u001b[0m\u001b[0;34m\u001b[0m\u001b[0m\n\u001b[0;32m---> 28\u001b[0;31m         \u001b[0mFAM1\u001b[0m\u001b[0;34m[\u001b[0m\u001b[0;34m'T_RELATION'\u001b[0m\u001b[0;34m]\u001b[0m \u001b[0;34m=\u001b[0m \u001b[0mtRelation\u001b[0m\u001b[0;34m(\u001b[0m\u001b[0;34m(\u001b[0m\u001b[0mFAM1\u001b[0m\u001b[0;34m[\u001b[0m\u001b[0;34m'LAT'\u001b[0m\u001b[0;34m]\u001b[0m\u001b[0;34m,\u001b[0m\u001b[0mFAM1\u001b[0m\u001b[0;34m[\u001b[0m\u001b[0;34m'LON'\u001b[0m\u001b[0;34m]\u001b[0m\u001b[0;34m)\u001b[0m\u001b[0;34m,\u001b[0m\u001b[0mradar\u001b[0m\u001b[0;34m)\u001b[0m    \u001b[0;31m### Topological Relation\u001b[0m\u001b[0;34m\u001b[0m\u001b[0;34m\u001b[0m\u001b[0m\n\u001b[0m\u001b[1;32m     29\u001b[0m         \u001b[0mFAM1\u001b[0m\u001b[0;34m[\u001b[0m\u001b[0;34m'YEAR'\u001b[0m\u001b[0;34m]\u001b[0m \u001b[0;34m=\u001b[0m \u001b[0mstr\u001b[0m\u001b[0;34m(\u001b[0m\u001b[0msorted\u001b[0m\u001b[0;34m(\u001b[0m\u001b[0mos\u001b[0m\u001b[0;34m.\u001b[0m\u001b[0mlistdir\u001b[0m\u001b[0;34m(\u001b[0m\u001b[0mpath\u001b[0m\u001b[0;34m+\u001b[0m\u001b[0mstr\u001b[0m\u001b[0;34m(\u001b[0m\u001b[0mday\u001b[0m\u001b[0;34m)\u001b[0m\u001b[0;34m)\u001b[0m\u001b[0;34m)\u001b[0m\u001b[0;34m[\u001b[0m\u001b[0mtime\u001b[0m\u001b[0;34m]\u001b[0m\u001b[0;34m)\u001b[0m\u001b[0;34m[\u001b[0m\u001b[0;36m16\u001b[0m\u001b[0;34m:\u001b[0m\u001b[0;36m20\u001b[0m\u001b[0;34m]\u001b[0m\u001b[0;34m\u001b[0m\u001b[0;34m\u001b[0m\u001b[0m\n\u001b[1;32m     30\u001b[0m         \u001b[0mFAM1\u001b[0m\u001b[0;34m[\u001b[0m\u001b[0;34m'MONTH'\u001b[0m\u001b[0;34m]\u001b[0m \u001b[0;34m=\u001b[0m \u001b[0mstr\u001b[0m\u001b[0;34m(\u001b[0m\u001b[0msorted\u001b[0m\u001b[0;34m(\u001b[0m\u001b[0mos\u001b[0m\u001b[0;34m.\u001b[0m\u001b[0mlistdir\u001b[0m\u001b[0;34m(\u001b[0m\u001b[0mpath\u001b[0m\u001b[0;34m+\u001b[0m\u001b[0mstr\u001b[0m\u001b[0;34m(\u001b[0m\u001b[0mday\u001b[0m\u001b[0;34m)\u001b[0m\u001b[0;34m)\u001b[0m\u001b[0;34m)\u001b[0m\u001b[0;34m[\u001b[0m\u001b[0mtime\u001b[0m\u001b[0;34m]\u001b[0m\u001b[0;34m)\u001b[0m\u001b[0;34m[\u001b[0m\u001b[0;36m20\u001b[0m\u001b[0;34m:\u001b[0m\u001b[0;36m22\u001b[0m\u001b[0;34m]\u001b[0m\u001b[0;34m\u001b[0m\u001b[0;34m\u001b[0m\u001b[0m\n",
      "\u001b[0;32m<ipython-input-174-52957ce3b2a1>\u001b[0m in \u001b[0;36mtRelation\u001b[0;34m(p, q)\u001b[0m\n\u001b[1;32m      4\u001b[0m     \u001b[0mprint\u001b[0m\u001b[0;34m(\u001b[0m\u001b[0;34m'lat_PONTO: '\u001b[0m\u001b[0;34m,\u001b[0m\u001b[0mp\u001b[0m\u001b[0;34m[\u001b[0m\u001b[0;36m0\u001b[0m\u001b[0;34m]\u001b[0m\u001b[0;34m,\u001b[0m \u001b[0;34m'lon_PONTO: '\u001b[0m\u001b[0;34m,\u001b[0m \u001b[0mp\u001b[0m\u001b[0;34m[\u001b[0m\u001b[0;36m1\u001b[0m\u001b[0;34m]\u001b[0m\u001b[0;34m)\u001b[0m\u001b[0;34m\u001b[0m\u001b[0;34m\u001b[0m\u001b[0m\n\u001b[1;32m      5\u001b[0m \u001b[0;34m\u001b[0m\u001b[0m\n\u001b[0;32m----> 6\u001b[0;31m     \u001b[0mnorth_west\u001b[0m       \u001b[0;34m=\u001b[0m  \u001b[0mp\u001b[0m\u001b[0;34m[\u001b[0m\u001b[0;36m1\u001b[0m\u001b[0;34m]\u001b[0m \u001b[0;34m<\u001b[0m  \u001b[0mq\u001b[0m\u001b[0;34m[\u001b[0m\u001b[0;36m1\u001b[0m\u001b[0;34m]\u001b[0m \u001b[0;32mand\u001b[0m  \u001b[0mp\u001b[0m\u001b[0;34m[\u001b[0m\u001b[0;36m0\u001b[0m\u001b[0;34m]\u001b[0m \u001b[0;34m>\u001b[0m  \u001b[0mq\u001b[0m\u001b[0;34m[\u001b[0m\u001b[0;36m0\u001b[0m\u001b[0;34m]\u001b[0m\u001b[0;34m\u001b[0m\u001b[0;34m\u001b[0m\u001b[0m\n\u001b[0m\u001b[1;32m      7\u001b[0m     \u001b[0mrestricted_north\u001b[0m \u001b[0;34m=\u001b[0m  \u001b[0mp\u001b[0m\u001b[0;34m[\u001b[0m\u001b[0;36m1\u001b[0m\u001b[0;34m]\u001b[0m \u001b[0;34m==\u001b[0m \u001b[0mq\u001b[0m\u001b[0;34m[\u001b[0m\u001b[0;36m1\u001b[0m\u001b[0;34m]\u001b[0m \u001b[0;32mand\u001b[0m  \u001b[0mp\u001b[0m\u001b[0;34m[\u001b[0m\u001b[0;36m0\u001b[0m\u001b[0;34m]\u001b[0m \u001b[0;34m>\u001b[0m  \u001b[0mq\u001b[0m\u001b[0;34m[\u001b[0m\u001b[0;36m0\u001b[0m\u001b[0;34m]\u001b[0m\u001b[0;34m\u001b[0m\u001b[0;34m\u001b[0m\u001b[0m\n\u001b[1;32m      8\u001b[0m     \u001b[0mnorth_east\u001b[0m       \u001b[0;34m=\u001b[0m  \u001b[0mp\u001b[0m\u001b[0;34m[\u001b[0m\u001b[0;36m1\u001b[0m\u001b[0;34m]\u001b[0m \u001b[0;34m>\u001b[0m  \u001b[0mq\u001b[0m\u001b[0;34m[\u001b[0m\u001b[0;36m1\u001b[0m\u001b[0;34m]\u001b[0m \u001b[0;32mand\u001b[0m  \u001b[0mp\u001b[0m\u001b[0;34m[\u001b[0m\u001b[0;36m0\u001b[0m\u001b[0;34m]\u001b[0m \u001b[0;34m>\u001b[0m  \u001b[0mq\u001b[0m\u001b[0;34m[\u001b[0m\u001b[0;36m0\u001b[0m\u001b[0;34m]\u001b[0m\u001b[0;34m\u001b[0m\u001b[0;34m\u001b[0m\u001b[0m\n",
      "\u001b[0;32m/ssd/miniconda3/envs/cap394/lib/python3.6/site-packages/pandas/core/generic.py\u001b[0m in \u001b[0;36m__nonzero__\u001b[0;34m(self)\u001b[0m\n\u001b[1;32m   1554\u001b[0m             \u001b[0;34m\"The truth value of a {0} is ambiguous. \"\u001b[0m\u001b[0;34m\u001b[0m\u001b[0;34m\u001b[0m\u001b[0m\n\u001b[1;32m   1555\u001b[0m             \"Use a.empty, a.bool(), a.item(), a.any() or a.all().\".format(\n\u001b[0;32m-> 1556\u001b[0;31m                 \u001b[0mself\u001b[0m\u001b[0;34m.\u001b[0m\u001b[0m__class__\u001b[0m\u001b[0;34m.\u001b[0m\u001b[0m__name__\u001b[0m\u001b[0;34m\u001b[0m\u001b[0;34m\u001b[0m\u001b[0m\n\u001b[0m\u001b[1;32m   1557\u001b[0m             )\n\u001b[1;32m   1558\u001b[0m         )\n",
      "\u001b[0;31mValueError\u001b[0m: The truth value of a Series is ambiguous. Use a.empty, a.bool(), a.item(), a.any() or a.all()."
     ]
    }
   ],
   "source": [
    "setupMap(102)"
   ]
  },
  {
   "cell_type": "code",
   "execution_count": null,
   "metadata": {
    "ExecuteTime": {
     "end_time": "2019-08-20T12:08:14.557884Z",
     "start_time": "2019-08-20T12:08:03.472000Z"
    }
   },
   "outputs": [],
   "source": []
  },
  {
   "cell_type": "code",
   "execution_count": null,
   "metadata": {
    "ExecuteTime": {
     "end_time": "2019-08-20T12:12:10.724915Z",
     "start_time": "2019-08-20T12:12:10.721156Z"
    }
   },
   "outputs": [],
   "source": []
  },
  {
   "cell_type": "code",
   "execution_count": null,
   "metadata": {},
   "outputs": [],
   "source": [
    "def run():\n",
    "    data = readData(day)    \n",
    "    total = []\n",
    "    \n",
    "    dados = pd.DataFrame()\n",
    "    \n",
    "    for i in range(len(data)):\n",
    "        cluster = clust(data[i])\n",
    "             \n",
    "        if isinstance(cluster,pd.DataFrame):\n",
    "            clt = createData(i,cluster)\n",
    "            clt2 = centroidData(clt)\n",
    "            dados = dados.append(clt2)\n",
    "        else:\n",
    "            pass\n",
    "            "
   ]
  },
  {
   "cell_type": "markdown",
   "metadata": {},
   "source": [
    "#### 1.7 Tracking"
   ]
  },
  {
   "cell_type": "code",
   "execution_count": null,
   "metadata": {},
   "outputs": [],
   "source": [
    "time1 = pd.read_csv('output/Moderate_Centroid_OUTPUT_sbmn_rain_rates_20140103_142413.csv')\n",
    "#time1 = time1.sort_values(['IND_X', 'IND_Y'], ascending=[1,1])\n",
    "time1"
   ]
  },
  {
   "cell_type": "code",
   "execution_count": null,
   "metadata": {},
   "outputs": [],
   "source": [
    "time2 = pd.read_csv('output/Moderate_Centroid_OUTPUT_sbmn_rain_rates_20140103_143613.csv')\n",
    "#time2 = time2.sort_values(['IND_X', 'IND_Y'], ascending=[1,1])\n",
    "time2"
   ]
  },
  {
   "cell_type": "code",
   "execution_count": null,
   "metadata": {},
   "outputs": [],
   "source": [
    "time3 = pd.read_csv('output/Moderate_Centroid_OUTPUT_sbmn_rain_rates_20140103_144811.csv')\n",
    "time3 = time3.sort_values(['IND_X', 'IND_Y'], ascending=[1,1])\n",
    "time3"
   ]
  },
  {
   "cell_type": "code",
   "execution_count": null,
   "metadata": {},
   "outputs": [],
   "source": [
    "import cv2"
   ]
  },
  {
   "cell_type": "code",
   "execution_count": null,
   "metadata": {},
   "outputs": [],
   "source": [
    "def optical_flow(t1,t2):\n",
    "\n",
    "    nx = 241\n",
    "    ny = 241\n",
    "    empty = np.zeros(( nx,ny))\n",
    "\n",
    "    X2, Y2 = np.meshgrid( 241, 241)\n",
    "    \n",
    "    for i in time1['IND_X'].astype(int):\n",
    "        for j in time1['IND_Y'].astype(int):\n",
    "            empty[i][j] = 1\n",
    "            \n",
    "    for i in time2['IND_X'].astype(int):\n",
    "        for j in time2['IND_Y'].astype(int):\n",
    "            empty[i][j] = 1\n",
    "            \n",
    "    plt.scatter(X2,Y2, empty)\n",
    "\n",
    "    \n",
    "    return empty"
   ]
  },
  {
   "cell_type": "code",
   "execution_count": null,
   "metadata": {},
   "outputs": [],
   "source": [
    "vazio = optical_flow(time1,time2)\n",
    "\n",
    "vazio[47][165]"
   ]
  },
  {
   "cell_type": "code",
   "execution_count": null,
   "metadata": {},
   "outputs": [],
   "source": [
    "def tracking(t1,t2):\n",
    "    \n",
    "    ts = pd.concat( [t1['IND_X'],t1['IND_Y'],t2['IND_X'],t2['IND_Y']], axis=1, sort=True)\n",
    "    ts.columns = ['x1','y1','x2','y2']\n",
    "    \n",
    "    ts = ts.fillna(0)\n",
    "\n",
    "    \n",
    "    ts = ts.sort_values(['x1'], ascending=[1])\n",
    "    #ts = ts.sort_values(['y1'], ascending=[0])\n",
    "    #ts = ts.sort_values(['x2'], ascending=[0])\n",
    "    #ts = ts.sort_values(['y2'], ascending=[0])\n",
    "    \n",
    "    return ts"
   ]
  },
  {
   "cell_type": "code",
   "execution_count": null,
   "metadata": {},
   "outputs": [],
   "source": [
    "tracking(time1,time2)"
   ]
  },
  {
   "cell_type": "code",
   "execution_count": null,
   "metadata": {},
   "outputs": [],
   "source": [
    "plt.scatter(vazio)"
   ]
  },
  {
   "cell_type": "code",
   "execution_count": null,
   "metadata": {},
   "outputs": [],
   "source": [
    "frame[47][167]"
   ]
  },
  {
   "cell_type": "code",
   "execution_count": null,
   "metadata": {},
   "outputs": [],
   "source": [
    "plt.scatter(time1['IND_Y'],time1['IND_X'])"
   ]
  },
  {
   "cell_type": "code",
   "execution_count": null,
   "metadata": {},
   "outputs": [],
   "source": [
    "plt.scatter(time2['IND_Y'],time2['IND_X'])"
   ]
  },
  {
   "cell_type": "code",
   "execution_count": null,
   "metadata": {},
   "outputs": [],
   "source": [
    "plt.scatter(time3['IND_Y'],time2['IND_X'])"
   ]
  },
  {
   "cell_type": "code",
   "execution_count": null,
   "metadata": {},
   "outputs": [],
   "source": [
    "from scipy import signal\n",
    "\n",
    "def optical_flow()"
   ]
  },
  {
   "cell_type": "markdown",
   "metadata": {},
   "source": [
    "#### 1.8 Statistics"
   ]
  },
  {
   "cell_type": "markdown",
   "metadata": {},
   "source": [
    "#### 1.8 Function for create Animation (Giff File in root dir)"
   ]
  },
  {
   "cell_type": "code",
   "execution_count": null,
   "metadata": {},
   "outputs": [],
   "source": [
    "def createGiff():\n",
    "    my_coords = [-3.148556, -59.992000]     ## RADAR T1 SIPAM COORDS\n",
    "    zoom_scale = 2.2                        ## ZOOM SCALE\n",
    "\n",
    "    fig, axes = plt.subplots(nrows=1,ncols=1,figsize=(10,10),dpi=100)\n",
    "\n",
    "    # draw filled contours.\n",
    "    clevs = [0, 1, 2.5, 5, 7.5, 10, 15, 20, 30, 40,\n",
    "                 50, 70, 100]\n",
    "\n",
    "    cmap_data = [(1.0, 1.0, 1.0),\n",
    "                     (0.3137255012989044, 0.8156862854957581, 0.8156862854957581),\n",
    "                     (0.0, 1.0, 1.0),\n",
    "                     (0.0, 0.8784313797950745, 0.501960813999176),\n",
    "                     (0.0, 0.7529411911964417, 0.0),\n",
    "                     (0.501960813999176, 0.8784313797950745, 0.0),\n",
    "                     (1.0, 1.0, 0.0),\n",
    "                     (1.0, 0.6274510025978088, 0.0),\n",
    "                     (1.0, 0.0, 0.0),\n",
    "                     (1.0, 0.125490203499794, 0.501960813999176),\n",
    "                     (0.9411764740943909, 0.250980406999588, 1.0),\n",
    "                     (0.501960813999176, 0.125490203499794, 1.0),\n",
    "                     (0.250980406999588, 0.250980406999588, 1.0)]\n",
    "    cmap = mcolors.ListedColormap(cmap_data, 'precipitation')\n",
    "    norm = mcolors.BoundaryNorm(clevs, cmap.N)\n",
    "    ax = axes\n",
    "\n",
    "    label = 'Rain rate in ' + runit\n",
    "    title = os.listdir(datadir+str(ddate))[0]\n",
    "\n",
    "\n",
    "    ## BASEMAP\n",
    "    bbox = [my_coords[0]-zoom_scale,my_coords[0]+zoom_scale,\\\n",
    "            my_coords[1]-zoom_scale,my_coords[1]+zoom_scale]\n",
    "\n",
    "    m = Basemap(projection='merc',llcrnrlat=bbox[0],urcrnrlat=bbox[1],\\\n",
    "                llcrnrlon=bbox[2],urcrnrlon=bbox[3],lat_ts=10,resolution='i')\n",
    "\n",
    "    ## SIPAM RADAR\n",
    "    xm, ym = m(my_coords[1],my_coords[0])\n",
    "    radar = m.plot(xm,ym, marker='^',color='r', label='RADAR')\n",
    "\n",
    "    # # # # Add Grid Lines\n",
    "    m.drawparallels(np.arange(bbox[0],bbox[1],(bbox[1]-bbox[0])/5),labels=[1,0,0,0],rotation=45, size=(7))\n",
    "    m.drawmeridians(np.arange(bbox[2],bbox[3],(bbox[3]-bbox[2])/5),labels=[0,0,0,1],rotation=45, size=(7))\n",
    "    m.drawmapboundary(fill_color='gray')\n",
    "\n",
    "    m.drawcoastlines()\n",
    "    m.drawstates()\n",
    "    m.drawcountries()\n",
    "    m.drawrivers(color = '#0043CB', linewidth=1)\n",
    "\n",
    "    # # # # # Add Title\n",
    "    plt.title(title)\n",
    "    plt.legend()\n",
    "    plt.ylabel('Longitude', labelpad=40)\n",
    "    plt.xlabel('Latitude', labelpad=60)\n",
    "\n",
    "    #CLOUDS\n",
    "    xi, yi = m(lon, lat)\n",
    "    cs = m.pcolormesh(xi,yi,frames[0],cmap = cmap, norm = norm, ax=ax)\n",
    "    cs = m.pcolormesh(xi,yi,rr)\n",
    "\n",
    "    def init():\n",
    "        return cs,\n",
    "\n",
    "    def animate(i):\n",
    "        plt.title('Tempo: ' + str(i) + ' File: '+sorted(os.listdir(datadir+str(ddate)))[i])#)\n",
    "        m.pcolormesh(xi,yi,frames[i],cmap = cmap, norm = norm, ax=ax)\n",
    "        return cs,\n",
    "\n",
    "    # # # # # Add Colorbar\n",
    "    cbar = m.colorbar(cs, location='bottom', pad=\"10%\")\n",
    "    cbar.set_label(label)\n",
    "\n",
    "    anim = animation.FuncAnimation(fig, animate, init_func=init, frames=interval,  blit=True, repeat=True, save_count=interval)\n",
    "    anim.save(os.listdir(datadir+str(ddate))[0]+'.gif', writer='imagemagick', fps=1)"
   ]
  },
  {
   "cell_type": "code",
   "execution_count": null,
   "metadata": {
    "ExecuteTime": {
     "end_time": "2019-08-19T22:17:46.030994Z",
     "start_time": "2019-08-19T22:17:46.018895Z"
    }
   },
   "outputs": [],
   "source": [
    "def createGiff():\n",
    "    my_coords = [-3.148556, -59.992000]     ## RADAR T1 SIPAM COORDS\n",
    "    zoom_scale = 2.2                        ## ZOOM SCALE\n",
    "\n",
    "    bbox = [my_coords[0]-zoom_scale,my_coords[0]+zoom_scale,\\\n",
    "             my_coords[1]-zoom_scale,my_coords[1]+zoom_scale]\n",
    "\n",
    "\n",
    "    fig, axes = plt.subplots(nrows=1,ncols=1,figsize=(10,10),dpi=100)\n",
    "    label = 'Rain rate in ' + runit+ ''\n",
    "    title = 'SIPAM Manaus S-Band Radar :' + str(date_time)\n",
    "\n",
    "    # draw filled contours.\n",
    "    clevs = [0, 1, 2.5, 5, 7.5, 10, 15, 20, 30, 40,\n",
    "                 50, 70, 100]\n",
    "\n",
    "    cmap_data = [(1.0, 1.0, 1.0),\n",
    "                     (0.3137255012989044, 0.8156862854957581, 0.8156862854957581),\n",
    "                     (0.0, 1.0, 1.0),\n",
    "                     (0.0, 0.8784313797950745, 0.501960813999176),\n",
    "                     (0.0, 0.7529411911964417, 0.0),\n",
    "                     (0.501960813999176, 0.8784313797950745, 0.0),\n",
    "                     (1.0, 1.0, 0.0),\n",
    "                     (1.0, 0.6274510025978088, 0.0),\n",
    "                     (1.0, 0.0, 0.0),\n",
    "                     (1.0, 0.125490203499794, 0.501960813999176),\n",
    "                     (0.9411764740943909, 0.250980406999588, 1.0),\n",
    "                     (0.501960813999176, 0.125490203499794, 1.0),\n",
    "                     (0.250980406999588, 0.250980406999588, 1.0)]\n",
    "\n",
    "    cmap = mcolors.ListedColormap(cmap_data, 'precipitation')\n",
    "    norm = mcolors.BoundaryNorm(clevs, cmap.N)\n",
    "    ax = axes\n",
    "\n",
    "    m = Basemap(projection='merc',llcrnrlat=bbox[0],urcrnrlat=bbox[1],\\\n",
    "                    llcrnrlon=bbox[2],urcrnrlon=bbox[3],lat_ts=10,resolution='i')\n",
    "\n",
    "\n",
    "    ## SIPAM RADAR\n",
    "    xm, ym = m(my_coords[1],my_coords[0])\n",
    "    radar = m.plot(xm,ym, marker='^',color='r', label='RADAR')\n",
    "\n",
    "    # # # # Add Grid Lines\n",
    "    m.drawparallels(np.arange(bbox[0],bbox[1],(bbox[1]-bbox[0])/5),labels=[1,0,0,0],rotation=45, size=(7))\n",
    "    m.drawmeridians(np.arange(bbox[2],bbox[3],(bbox[3]-bbox[2])/5),labels=[0,0,0,1],rotation=45, size=(7))\n",
    "    m.drawmapboundary(fill_color='gray')\n",
    "\n",
    "    m.drawcoastlines()\n",
    "    m.drawstates()\n",
    "    m.drawcountries()\n",
    "    m.drawrivers(color = '#0043CB', linewidth=1)\n",
    "\n",
    "    # # # # # Add Title\n",
    "    plt.title(title)\n",
    "    plt.legend()\n",
    "    plt.ylabel('Longitude', labelpad=40)\n",
    "    plt.xlabel('Latitude', labelpad=60)\n",
    "\n",
    "    #CLOUDS\n",
    "    xi, yi = m(lon, lat)\n",
    "    cs = m.pcolormesh(xi,yi,frames[0],cmap = cmap, norm = norm, ax=ax)\n",
    "    \n",
    "    for cent in range(len(centroid)):\n",
    "        clat, clon, mm_f = centroid[cent]['LAT'].item(),centroid[cent]['LON'].item(),centroid[cent]['RAIN_FALL'].item()\n",
    "\n",
    "        t3x,t3y = m(clon, clat)\n",
    "        m.plot(t3x,t3y, marker=markers.CARETDOWN, markersize=10, color='k')\n",
    "    \n",
    "    #cs = m.pcolormesh(xi,yi,rr)\n",
    "\n",
    "#     def init():\n",
    "#         return cs,\n",
    "\n",
    "#     def animate(i):\n",
    "#         plt.title('Tempo: ' + str(i) + ' File: '+sorted(os.listdir(datadir+str(ddate)))[i])#)\n",
    "#         m.pcolormesh(xi,yi,frames[i],cmap = cmap, norm = norm, ax=ax)\n",
    "        \n",
    "#         for cent in range(len(centroid)):\n",
    "#             clat, clon, mm_f = centroid[cent]['LAT'].item(),centroid[cent]['LON'].item(),centroid[cent]['RAIN_FALL'].item()\n",
    "\n",
    "#             t3x,t3y = m(clon, clat)\n",
    "#             m.plot(t3x,t3y, marker=markers.CARETDOWN, markersize=10, color='k')\n",
    "            \n",
    "#         return cs,\n",
    "\n",
    "    # # # # # Add Colorbar\n",
    "    cbar = m.colorbar(cs, location='bottom', pad=\"10%\")\n",
    "    cbar.set_label(label)\n",
    "\n",
    "#     anim = animation.FuncAnimation(fig, animate, init_func=init, frames=10,  blit=True, repeat=True, save_count=10)\n",
    "#     anim.save('teste.gif', writer='imagemagick', fps=1)"
   ]
  },
  {
   "cell_type": "code",
   "execution_count": null,
   "metadata": {
    "ExecuteTime": {
     "end_time": "2019-08-19T22:17:49.323248Z",
     "start_time": "2019-08-19T22:17:48.163524Z"
    }
   },
   "outputs": [],
   "source": [
    "createGiff()"
   ]
  },
  {
   "cell_type": "code",
   "execution_count": null,
   "metadata": {},
   "outputs": [],
   "source": [
    "#     clusters = []\n",
    "        \n",
    "#     clus = pd.DataFrame(columns = ['N_Cluster','LON','LAT','IND_X','IND_Y','PRECIPIT'])\n",
    "\n",
    "#     for i in range(len(matrix)):\n",
    "#         clus = clus.append({'N_Cluster': labels[i],\n",
    "#                                'LON': lon[(int(matrix[i][0]),int(matrix[i][1]))],\n",
    "#                                'LAT': lat[(int(matrix[i][0]),int(matrix[i][1]))],\n",
    "#                                'IND_X': matrix[i][0],\n",
    "#                                'IND_Y': matrix[i][1],\n",
    "#                                'PRECIPIT': frames[time1][int(matrix[i][0])][int(matrix[i][1])]},ignore_index=True)              \n",
    "    #print(n_clusters_)\n",
    "    #print(cluster_centers)\n",
    "    #colors = 10*['r.','g.','b.','c.','k.','y.','m.']\n",
    "\n",
    "#     for i in range(len(pt)):\n",
    "#         plt.plot(pt['x1'], pt['y1'], colors[labels[i]], markersize = 10)\n",
    "                                         \n",
    "        #plt.annotate(i,(cluster_centers[:,1], cluster_centers[:,0]),ha='center')\n",
    "\n",
    "    #plt.scatter(pt['x1'],pt['y1'],c=labels)\n",
    "    \n",
    "    \n",
    "        \n",
    "#         for i in range(len(matrix2)):\n",
    "#             plt.plot(matrix2[i][1], matrix2[i][0], colors[labels[i]], markersize = 10)\n",
    "\n",
    "#     plt.title('Estimated number of clusters: %d' % n_clusters_)    \n",
    "        \n",
    "#     #plt.scatter(cluster_centers[:,1], cluster_centers[:,0],\n",
    "#     #            marker = 'x', s=150, linewidths=10, zorder=10)\n",
    "        \n",
    "#      for i, txt in enumerate(range(n_clusters_)):\n",
    "#             plt.annotate(txt,(cluster_centers[i,1],cluster_centers[i,0]),textcoords=\"offset points\",xytext=(0,10),ha='center')\n",
    "\n",
    "# #     plt.show()\n",
    "        \n",
    "#     return clus"
   ]
  },
  {
   "cell_type": "code",
   "execution_count": null,
   "metadata": {},
   "outputs": [],
   "source": [
    "def tracking(t1,t2):\n",
    "    \n",
    "    ts = pd.concat( [t1['IND_X'],t1['IND_Y'],t2['IND_X'],t2['IND_Y']], axis=1, sort=True)\n",
    "    ts.columns = ['x1','y1','x2','y2']\n",
    "\n",
    "    \n",
    "    ts = ts.sort_values(['x1', 'y1', 'x2', 'y2'], ascending=[1,1,1,1])\n",
    "    \n",
    "#     bandwidth = estimate_bandwidth(matrix, quantile=0.1)\n",
    "#     ms = MeanShift(bandwidth=2, bin_seeding=True, cluster_all=True, min_bin_freq=1,\n",
    "#          n_jobs=None, seeds=None)\n",
    "    \n",
    "#     #ms = MeanShift(bandwidth=2)\n",
    "#     ms.fit(matrix)\n",
    "#     labels = ms.labels_\n",
    "#     cluster_centers = ms.cluster_centers_\n",
    "#     n_clusters_ = len(np.unique(labels)) \n",
    "    \n",
    "#     matrix['cluster']=labels\n",
    "#     print(cluster_centers)\n",
    "        \n",
    "    return ts"
   ]
  },
  {
   "cell_type": "code",
   "execution_count": null,
   "metadata": {},
   "outputs": [],
   "source": [
    "### CLUSTERING IN TWO TIMES\n",
    "\n",
    "def clusterization(time1,time2):    \n",
    "    \n",
    "    dx ,dy = [],[]\n",
    "    dx2 ,dy2 = [],[]\n",
    "    te = None\n",
    "    \n",
    "    for i in range(241):\n",
    "        for j in range(241):\n",
    "            if not np.isnan(frames[time1][i][j]) and frames[time1][i][j] > 11.53:\n",
    "                dx.append(i)\n",
    "                dy.append(j)\n",
    "                \n",
    "    for i in range(241):\n",
    "        for j in range(241):\n",
    "            if not np.isnan(frames[time2][i][j]) and frames[time2][i][j] > 11.53:\n",
    "                dx2.append(i)\n",
    "                dy2.append(j)                \n",
    "\n",
    "    dim = len(dx)\n",
    "    dim2 = len(dx2)\n",
    "    \n",
    "    # Check dimension\n",
    "    if dim > 4 and dim2 >4:   \n",
    "    \n",
    "        if dim < dim2:\n",
    "            for x in range(abs(dim-dim2)):\n",
    "                dx.append(np.float32('nan'))\n",
    "                dy.append(np.float32('nan'))\n",
    "            dim = dim2\n",
    "        elif dim2 < dim:\n",
    "            for x in range(abs(dim-dim2)):\n",
    "                dx2.append(np.float32('nan'))\n",
    "                dy2.append(np.float32('nan'))\n",
    "            dim2 = dim\n",
    "\n",
    "        matrix = np.ndarray(shape=(dim, 2), dtype='float32')\n",
    "        matrix2 = np.ndarray(shape=(dim2, 2), dtype='float32')\n",
    "\n",
    "\n",
    "        for x in range(dim):\n",
    "            matrix[x] = (dx[x], dy[x])\n",
    "\n",
    "        for x2 in range(dim2):\n",
    "            matrix2[x2] = (dx2[x2], dy2[x2])\n",
    "            \n",
    "\n",
    "        pt = pd.DataFrame(columns=['x1','y1','x2','y2'])\n",
    "        \n",
    "\n",
    "        pt['x1'] = matrix[:,0]\n",
    "        pt['y1'] = matrix[:,1]\n",
    "        pt['x2'] = matrix2[:,0]\n",
    "        pt['y2'] = matrix2[:,1]\n",
    "        \n",
    "        te = pt[['x1','y1','x2','y2']]\n",
    "        te = te.fillna(0)    \n",
    "\n",
    "        bandwidth = estimate_bandwidth(te, quantile=0.3)\n",
    "        ms = MeanShift(bandwidth=bandwidth)\n",
    "        ms.fit(te)\n",
    "        labels = ms.labels_\n",
    "        cluster_centers = ms.cluster_centers_\n",
    "        n_clusters_ = len(np.unique(labels))        \n",
    "\n",
    "#         kmeans = KMeans().fit(te)\n",
    "#         labels = kmeans.labels_\n",
    "#         cluster_centers = kmeans.cluster_centers_\n",
    "#         n_clusters_ = len(np.unique(labels))\n",
    "\n",
    "        te['cluster']=labels\n",
    "    \n",
    "    return te"
   ]
  },
  {
   "cell_type": "code",
   "execution_count": null,
   "metadata": {},
   "outputs": [],
   "source": [
    "day = 20140103 \n",
    "\n",
    "def run():\n",
    "    data = readData(day)\n",
    "    \n",
    "    for i in range(1,len(data),1):\n",
    "        \n",
    "        cluster = clusterization(i-1,i)\n",
    "\n",
    "        if isinstance(cluster,pd.DataFrame):\n",
    "            #print(i-1,i,len(cluster['cluster'].unique()))\n",
    "            \n",
    "            fam1_ = cluster.loc[cluster['x1'] != 0]\n",
    "            fam2_ = cluster.loc[cluster['x2'] != 0]\n",
    "            \n",
    "            print('Temp: ',i-1, ' Clusters: ',len(fam1_['cluster'].unique()),\n",
    "                  'Temp: ',i, ' Clusters: ',len(fam2_['cluster'].unique()))\n",
    "            \n",
    "            fam1_ = 0\n",
    "            fam2_ = 0\n",
    "            \n",
    "            \n",
    "            #clus = pd.DataFrame(columns = ['N_Cluster','LON','LAT','IND_X','IND_Y','PRECIPIT'])\n",
    "            #print(clus)\n",
    "            \n",
    "            \n",
    "            \n",
    "        else:\n",
    "            print('Temp: ',i-1, 'Clusters: 0',' Temp: ',i, 'Clusters: 0')\n",
    "        #print(data)\n",
    "        #print(i-1,i)"
   ]
  },
  {
   "cell_type": "code",
   "execution_count": null,
   "metadata": {},
   "outputs": [],
   "source": [
    "run()"
   ]
  },
  {
   "cell_type": "markdown",
   "metadata": {},
   "source": [
    "#### RESULTS"
   ]
  },
  {
   "cell_type": "markdown",
   "metadata": {},
   "source": [
    "#### CONCLUSIONS"
   ]
  },
  {
   "cell_type": "markdown",
   "metadata": {},
   "source": [
    "#### REFERENCES"
   ]
  }
 ],
 "metadata": {
  "kernelspec": {
   "display_name": "Python 3",
   "language": "python",
   "name": "python3"
  },
  "language_info": {
   "codemirror_mode": {
    "name": "ipython",
    "version": 3
   },
   "file_extension": ".py",
   "mimetype": "text/x-python",
   "name": "python",
   "nbconvert_exporter": "python",
   "pygments_lexer": "ipython3",
   "version": "3.6.7"
  },
  "toc": {
   "base_numbering": 1,
   "nav_menu": {},
   "number_sections": true,
   "sideBar": true,
   "skip_h1_title": false,
   "title_cell": "Table of Contents",
   "title_sidebar": "Contents",
   "toc_cell": false,
   "toc_position": {},
   "toc_section_display": true,
   "toc_window_display": false
  }
 },
 "nbformat": 4,
 "nbformat_minor": 2
}
