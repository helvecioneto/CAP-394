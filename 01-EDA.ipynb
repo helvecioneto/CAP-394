{
 "cells": [
  {
   "cell_type": "markdown",
   "metadata": {},
   "source": [
    "## National Institute for Space Research\n",
    "   <img src=\"img/icone_cap394.svg\" align=\"right\" alt=\"Drawing\" style=\"width: 200px;\"/>\n",
    "   \n",
    "#### Project for course  Introduction to Data Science - CAP 394\n",
    "#### Student: \n",
    "* Helvecio Bezerra Leal Neto\n",
    "\n",
    "#### Instructors: \n",
    "* Dr. Gilberto Queiroz \n",
    "* Dr. Rafael Santos\n",
    "\n",
    "## Schedule\n",
    "     - [x] Data reading\n",
    "     - [x] Data visualization\n",
    "     - [x] Cluster detection algorithm\n",
    "     - [ ] Preprocessing\n",
    "     - [ ] Final analysis and project elaboration"
   ]
  },
  {
   "cell_type": "markdown",
   "metadata": {},
   "source": [
    "### Index\n",
    "\n",
    "  [About](#about) <br></br>\n",
    "  [The Data](#the_data)<br></br>\n",
    "  [Reading Data](#reading_data)<br></br>"
   ]
  },
  {
   "cell_type": "markdown",
   "metadata": {},
   "source": [
    "<a id='about'></a>\n",
    "## About\n",
    "\n",
    "This work is part of the suite of applications for the Introduction to Data Science (CAP-394) course offered by the National Institute for Space Research.\n",
    "\n",
    "The purpose of this paper is to perform an exploratory analysis on Radar data by surveying the raw data, processing them and understanding the dynamics of cloud movement in the study region. At the end of the exploratory process it will be possible to estimate the behavior of the clouds in relation to their movement, making an algorithm capable of estimating the movement from two consecutive images."
   ]
  },
  {
   "cell_type": "markdown",
   "metadata": {},
   "source": [
    "<a id='the_data'></a>\n",
    "## The Data\n",
    "\n",
    "The data analyzed in this example consists of NC (NetCDF4) files. Each file corresponds to Rain Rate measurements collected by the Amazon Protection System (SIPAM) radar during the GoAmazon experiment periods, starting from January 2014 to December 2015, such files contain data on 12-minute time intervals.\n",
    "\n",
    "https://www.arm.gov/research/campaigns/amf2014goamazon"
   ]
  },
  {
   "cell_type": "markdown",
   "metadata": {},
   "source": [
    "<a id='reading_data'></a>\n",
    "## Reading Data"
   ]
  },
  {
   "cell_type": "markdown",
   "metadata": {},
   "source": [
    "#### 1.1 - Libraries used"
   ]
  },
  {
   "cell_type": "code",
   "execution_count": 1,
   "metadata": {},
   "outputs": [],
   "source": [
    "import datetime\n",
    "import os\n",
    "import xarray as xr\n",
    "import numpy as np\n",
    "import pandas as pd\n",
    "import matplotlib.pyplot as plt\n",
    "import matplotlib.colors as mcolors\n",
    "from mpl_toolkits.basemap import Basemap\n",
    "from matplotlib import animation\n",
    "from sklearn.cluster import MeanShift, estimate_bandwidth, KMeans\n",
    "\n",
    "#%matplotlib\n",
    "%matplotlib inline"
   ]
  },
  {
   "cell_type": "markdown",
   "metadata": {},
   "source": [
    "#### 1.2 openning example file"
   ]
  },
  {
   "cell_type": "code",
   "execution_count": 2,
   "metadata": {},
   "outputs": [
    {
     "data": {
      "text/plain": [
       "<xarray.Dataset>\n",
       "Dimensions:     (x0: 241, y0: 241)\n",
       "Dimensions without coordinates: x0, y0\n",
       "Data variables:\n",
       "    start_time  datetime64[ns] ...\n",
       "    stop_time   datetime64[ns] ...\n",
       "    lat0        (y0, x0) float32 ...\n",
       "    lon0        (y0, x0) float32 ...\n",
       "    rain_rate   (y0, x0) float32 ...\n",
       "Attributes:\n",
       "    description:  SIPAM Manaus S-Band Gridded Rain Rates\n",
       "    source:       SIPAM Manaus S-Band Radar\n",
       "    institution:  SIPAM/Texas A&M University\n",
       "    comment:      v2.0a; Created at Texas A&M University (cschu@tamu.edu)\n",
       "    references:   http://atmo.tamu.edu/goamazon-sband-radar\n",
       "    created:      Wed Sep  6 19:35:24 2017\\n"
      ]
     },
     "execution_count": 2,
     "metadata": {},
     "output_type": "execute_result"
    }
   ],
   "source": [
    "## NC Files from SIPAM RADAR\n",
    "xds = xr.open_dataset('data/radar/20140801/sbmn_rain_rates_20140801_000011.nc')\n",
    "xds"
   ]
  },
  {
   "cell_type": "markdown",
   "metadata": {},
   "source": [
    "#### 1.3 Variables present in the dataset"
   ]
  },
  {
   "cell_type": "code",
   "execution_count": 3,
   "metadata": {},
   "outputs": [
    {
     "data": {
      "text/plain": [
       "Data variables:\n",
       "    start_time  datetime64[ns] ...\n",
       "    stop_time   datetime64[ns] ...\n",
       "    lat0        (y0, x0) float32 ...\n",
       "    lon0        (y0, x0) float32 ...\n",
       "    rain_rate   (y0, x0) float32 ..."
      ]
     },
     "execution_count": 3,
     "metadata": {},
     "output_type": "execute_result"
    }
   ],
   "source": [
    "xds.data_vars"
   ]
  },
  {
   "cell_type": "markdown",
   "metadata": {},
   "source": [
    "#### 1.4 Attributes from dataset"
   ]
  },
  {
   "cell_type": "code",
   "execution_count": 4,
   "metadata": {},
   "outputs": [
    {
     "data": {
      "text/plain": [
       "OrderedDict([('description', 'SIPAM Manaus S-Band Gridded Rain Rates'),\n",
       "             ('source', 'SIPAM Manaus S-Band Radar'),\n",
       "             ('institution', 'SIPAM/Texas A&M University'),\n",
       "             ('comment',\n",
       "              'v2.0a; Created at Texas A&M University (cschu@tamu.edu)'),\n",
       "             ('references', 'http://atmo.tamu.edu/goamazon-sband-radar'),\n",
       "             ('created', 'Wed Sep  6 19:35:24 2017\\n')])"
      ]
     },
     "execution_count": 4,
     "metadata": {},
     "output_type": "execute_result"
    }
   ],
   "source": [
    "xds.attrs"
   ]
  },
  {
   "cell_type": "code",
   "execution_count": 5,
   "metadata": {},
   "outputs": [],
   "source": [
    "rr = xds.rain_rate                  ### Matrix with preciptation values\n",
    "runit = xds.rain_rate.units         ### Unit of rain_rate mm/h\n",
    "rkm = xds.rain_rate.height_km       ### Unit of matrix dimensions km\n",
    "start_time = xds.start_time.data    ### Initial Time\n",
    "stop_time = xds.stop_time.data      ### Final Time\n",
    "lon = xds.lon0.data                 ### Coordinate Longitude Matrix\n",
    "lat = xds.lat0.data                 ### Corrdinate Latitude Matrix\n",
    "x0 = xds.x0                         ### Matrix of points\n",
    "y0 = xds.y0"
   ]
  },
  {
   "cell_type": "code",
   "execution_count": 6,
   "metadata": {},
   "outputs": [
    {
     "data": {
      "text/plain": [
       "numpy.datetime64('2014-08-01T00:00:11.000000000')"
      ]
     },
     "execution_count": 6,
     "metadata": {},
     "output_type": "execute_result"
    }
   ],
   "source": [
    "start_time"
   ]
  },
  {
   "cell_type": "code",
   "execution_count": 7,
   "metadata": {},
   "outputs": [
    {
     "data": {
      "image/png": "[encoded data removed]",
      "text/plain": [
       "<Figure size 432x288 with 1 Axes>"
      ]
     },
     "metadata": {
      "needs_background": "light"
     },
     "output_type": "display_data"
    }
   ],
   "source": [
    "plt.plot(rr)\n",
    "plt.title('Radar Rain Rate distribution of mm/h values')\n",
    "plt.show()"
   ]
  },
  {
   "cell_type": "markdown",
   "metadata": {},
   "source": [
    "#### 1.5 Setuping simple example"
   ]
  },
  {
   "cell_type": "code",
   "execution_count": 8,
   "metadata": {},
   "outputs": [],
   "source": [
    "## Set data dir\n",
    "datadir = 'data/radar/'\n",
    "ddate = 20140801\n",
    "interval = 10"
   ]
  },
  {
   "cell_type": "code",
   "execution_count": 9,
   "metadata": {},
   "outputs": [],
   "source": [
    "# Original grid dimensions\n",
    "nx = 241\n",
    "ny = 241\n",
    "\n",
    "# pixel size (in meters)\n",
    "dx = 1000.\n",
    "dy = 1000.\n",
    "\n",
    "downsizeby = 1\n",
    "\n",
    "# Compute grid dimensions and grid coordinates after resampling\n",
    "dx2, dy2 = dx*downsizeby, dy*downsizeby\n",
    "nx2, ny2 = int(nx/downsizeby), int(ny/downsizeby)\n",
    "\n",
    "X2, Y2 = np.meshgrid( np.arange(0,nx2*dx2, dx2), np.arange(0,ny2*dy2, dy2) )\n",
    "\n",
    "# Define container\n",
    "frames = np.zeros( (interval, nx2, ny2 ) )\n",
    "\n",
    "\n",
    "### Reading files to numpy array (time,x,y)\n",
    "for i in range(interval):\n",
    "    d = str(datadir)+str(ddate)+'/'\n",
    "    file = (sorted(os.listdir(datadir+str(ddate)))[i])\n",
    "    xds = xr.open_dataset(d+file)\n",
    "    rr = xds.rain_rate\n",
    "    data = xds.to_dataframe()\n",
    "    frames[i] =  rr"
   ]
  },
  {
   "cell_type": "code",
   "execution_count": 10,
   "metadata": {},
   "outputs": [
    {
     "data": {
      "text/plain": [
       "241"
      ]
     },
     "execution_count": 10,
     "metadata": {},
     "output_type": "execute_result"
    }
   ],
   "source": [
    "nx2"
   ]
  },
  {
   "cell_type": "code",
   "execution_count": 11,
   "metadata": {},
   "outputs": [
    {
     "data": {
      "text/plain": [
       "(241, 241)"
      ]
     },
     "execution_count": 11,
     "metadata": {},
     "output_type": "execute_result"
    }
   ],
   "source": [
    "frames[1].shape"
   ]
  },
  {
   "cell_type": "markdown",
   "metadata": {},
   "source": [
    "#### 1.6 Plot simple example without colormap legends for Time Zero"
   ]
  },
  {
   "cell_type": "code",
   "execution_count": null,
   "metadata": {},
   "outputs": [],
   "source": [
    "## Plot simple figure from dataset\n",
    "\n",
    "figtime = 0\n",
    "\n",
    "plt.figure(figsize=(8,8))\n",
    "plt.title(os.listdir(datadir+str(ddate))[figtime])\n",
    "plt.scatter(lon,lat,frames[figtime])\n",
    "#plt.pcolormesh(lon,lat,frames[figtime])"
   ]
  },
  {
   "cell_type": "markdown",
   "metadata": {},
   "source": [
    "#### 1.7 Clusterization"
   ]
  },
  {
   "cell_type": "code",
   "execution_count": null,
   "metadata": {},
   "outputs": [],
   "source": [
    "a, b = np.zeros(shape=(3, 3)), np.zeros(shape=(3, 3))\n",
    "c = np.ndarray(shape=(2, 1))\n",
    "c = [a, b]\n",
    "c[1]"
   ]
  },
  {
   "cell_type": "code",
   "execution_count": null,
   "metadata": {},
   "outputs": [],
   "source": [
    "pt = pd.DataFrame(columns=['time',('x','y')])\n",
    "pt"
   ]
  },
  {
   "cell_type": "code",
   "execution_count": 94,
   "metadata": {},
   "outputs": [],
   "source": [
    "def clusterization(time1,time2):    \n",
    "\n",
    "    dx ,dy = [],[]\n",
    "    dx2 ,dy2 = [],[]\n",
    "    n_clusters_ = 0    \n",
    "    \n",
    "    #for frame in tempo:\n",
    "    for i in range(241):\n",
    "        for j in range(241):\n",
    "            if not np.isnan(frames[time1][i][j]) and frames[time1][i][j] > 10:\n",
    "                dx.append(i)\n",
    "                dy.append(j)\n",
    "                \n",
    "    for i in range(241):\n",
    "        for j in range(241):\n",
    "            if not np.isnan(frames[time2][i][j]) and frames[time2][i][j] > 10:\n",
    "                dx2.append(i)\n",
    "                dy2.append(j)                \n",
    "\n",
    "    dim = len(dx)\n",
    "    dim2 = len(dx2)\n",
    "    \n",
    "    matrix = np.ndarray(shape=(dim, 2), dtype='float32')\n",
    "    matrix2 = np.ndarray(shape=(dim2, 2), dtype='float32')\n",
    "    \n",
    "    for x in range(dim):\n",
    "        matrix[x] = (dx[x], dy[x])\n",
    "       # print(matrix[x].shape)\n",
    "        \n",
    "    for x2 in range(dim2):\n",
    "        matrix2[x2] = (dx2[x2], dy2[x2])\n",
    "        #print(matrix2[x])\n",
    "        \n",
    "    pt = pd.DataFrame(columns=['time','x1','y1','x2','y2'])\n",
    "    \n",
    "    for i in range(dim):\n",
    "        pt = pt.append({'time':0,'x1': matrix[i][0],'y1': matrix[i][1]},ignore_index=True)\n",
    "        \n",
    "    for i in range(dim2):\n",
    "        pt = pt.append({'time':1,'x2': matrix2[i][0],'y2': matrix2[i][1]},ignore_index=True)\n",
    "        \n",
    "    pt = pt.fillna(0)\n",
    "    \n",
    "    #train = (pt['x1'],['y1'],['x2'],['y2'])\n",
    "    \n",
    "        \n",
    "#     #pt = np.ndarray(shape=(2, 1), dtype='float32')\n",
    "#     #pt[0], pt[1] = matrix, matrix2\n",
    "#     #print(pt.shape)\n",
    "        \n",
    "# #     if np.size(matrix) != 0:\n",
    "        \n",
    "# #         est_band = estimate_bandwidth(matrix, quantile=0.3)\n",
    "        \n",
    "# #         if est_band == 0:\n",
    "# #             ms = MeanShift()\n",
    "# #         else:\n",
    "# #             bandwidth = estimate_bandwidth(matrix, quantile=0.1, n_samples=(np.size(matrix)), random_state=0)\n",
    "# #             #ms = MeanShift(bandwidth=bandwidth, bin_seeding=False)\n",
    "# #             ms = MeanShift(bandwidth=bandwidth, bin_seeding=True)\n",
    "            \n",
    "# # #         ms.fit(matrix)\n",
    "# # #         labels = ms.labels_\n",
    "# # #         cluster_centers = ms.cluster_centers_\n",
    "# # #         n_clusters_ = len(np.unique(labels))\n",
    "        \n",
    "        \n",
    "    kmeans = KMeans().fit(pt)\n",
    "    labels = kmeans.labels_\n",
    "    cluster_centers = kmeans.cluster_centers_\n",
    "    n_clusters_ = len(np.unique(labels))\n",
    "    \n",
    "    print(pt['time':0])\n",
    "        \n",
    "        \n",
    "#     clusters = []\n",
    "        \n",
    "#     clus = pd.DataFrame(columns = ['N_Cluster','LON','LAT','IND_X','IND_Y','PRECIPIT'])\n",
    "\n",
    "#     for i in range(len(matrix)):\n",
    "#         clus = clus.append({'N_Cluster': labels[i],\n",
    "#                                'LON': lon[(int(matrix[i][0]),int(matrix[i][1]))],\n",
    "#                                'LAT': lat[(int(matrix[i][0]),int(matrix[i][1]))],\n",
    "#                                'IND_X': matrix[i][0],\n",
    "#                                'IND_Y': matrix[i][1],\n",
    "#                                'PRECIPIT': frames[time1][int(matrix[i][0])][int(matrix[i][1])]},ignore_index=True)          \n",
    "            \n",
    "\n",
    "#     colors = 10*['r.','g.','b.','c.','k.','y.','m.']\n",
    "\n",
    "#     for i in range(len(pt)):\n",
    "#         plt.plot(pt['time'=0[[i][1]], pt['time'=0[[i][0]], colors[labels[i]], markersize = 10)\n",
    "# #         #plt.annotate(i,(cluster_centers[:,1], cluster_centers[:,0]),ha='center')\n",
    "        \n",
    "# #         for i in range(len(matrix2)):\n",
    "# #             plt.plot(matrix2[i][1], matrix2[i][0], colors[labels[i]], markersize = 10)\n",
    "\n",
    "#     plt.title('Estimated number of clusters: %d' % n_clusters_)    \n",
    "        \n",
    "#     #plt.scatter(cluster_centers[:,1], cluster_centers[:,0],\n",
    "#     #            marker = 'x', s=150, linewidths=10, zorder=10)\n",
    "        \n",
    "#     for i, txt in enumerate(range(n_clusters_)):\n",
    "#         plt.annotate(txt,(cluster_centers[i,1],cluster_centers[i,0]),textcoords=\"offset points\",xytext=(0,10),ha='center')\n",
    "\n",
    "#     plt.show()\n",
    "        \n",
    "#     return clus\n",
    "    return n_clusters_"
   ]
  },
  {
   "cell_type": "code",
   "execution_count": 95,
   "metadata": {},
   "outputs": [
    {
     "ename": "TypeError",
     "evalue": "cannot do slice indexing on <class 'pandas.core.indexes.range.RangeIndex'> with these indexers [time] of <class 'str'>",
     "output_type": "error",
     "traceback": [
      "\u001b[0;31m---------------------------------------------------------------------------\u001b[0m",
      "\u001b[0;31mTypeError\u001b[0m                                 Traceback (most recent call last)",
      "\u001b[0;32m<ipython-input-95-6cbb42fe6559>\u001b[0m in \u001b[0;36m<module>\u001b[0;34m\u001b[0m\n\u001b[0;32m----> 1\u001b[0;31m \u001b[0mclusters\u001b[0m \u001b[0;34m=\u001b[0m \u001b[0mclusterization\u001b[0m\u001b[0;34m(\u001b[0m\u001b[0;36m0\u001b[0m\u001b[0;34m,\u001b[0m\u001b[0;36m1\u001b[0m\u001b[0;34m)\u001b[0m\u001b[0;34m\u001b[0m\u001b[0;34m\u001b[0m\u001b[0m\n\u001b[0m\u001b[1;32m      2\u001b[0m \u001b[0mclusters\u001b[0m\u001b[0;34m\u001b[0m\u001b[0;34m\u001b[0m\u001b[0m\n",
      "\u001b[0;32m<ipython-input-94-52da369f7e49>\u001b[0m in \u001b[0;36mclusterization\u001b[0;34m(time1, time2)\u001b[0m\n\u001b[1;32m     71\u001b[0m     \u001b[0mn_clusters_\u001b[0m \u001b[0;34m=\u001b[0m \u001b[0mlen\u001b[0m\u001b[0;34m(\u001b[0m\u001b[0mnp\u001b[0m\u001b[0;34m.\u001b[0m\u001b[0munique\u001b[0m\u001b[0;34m(\u001b[0m\u001b[0mlabels\u001b[0m\u001b[0;34m)\u001b[0m\u001b[0;34m)\u001b[0m\u001b[0;34m\u001b[0m\u001b[0;34m\u001b[0m\u001b[0m\n\u001b[1;32m     72\u001b[0m \u001b[0;34m\u001b[0m\u001b[0m\n\u001b[0;32m---> 73\u001b[0;31m     \u001b[0mprint\u001b[0m\u001b[0;34m(\u001b[0m\u001b[0mpt\u001b[0m\u001b[0;34m[\u001b[0m\u001b[0;34m'time'\u001b[0m\u001b[0;34m:\u001b[0m\u001b[0;36m0\u001b[0m\u001b[0;34m]\u001b[0m\u001b[0;34m)\u001b[0m\u001b[0;34m\u001b[0m\u001b[0;34m\u001b[0m\u001b[0m\n\u001b[0m\u001b[1;32m     74\u001b[0m \u001b[0;34m\u001b[0m\u001b[0m\n\u001b[1;32m     75\u001b[0m \u001b[0;34m\u001b[0m\u001b[0m\n",
      "\u001b[0;32m/ssd/miniconda3/envs/cap394/lib/python3.6/site-packages/pandas/core/frame.py\u001b[0m in \u001b[0;36m__getitem__\u001b[0;34m(self, key)\u001b[0m\n\u001b[1;32m   2954\u001b[0m \u001b[0;34m\u001b[0m\u001b[0m\n\u001b[1;32m   2955\u001b[0m         \u001b[0;31m# Do we have a slicer (on rows)?\u001b[0m\u001b[0;34m\u001b[0m\u001b[0;34m\u001b[0m\u001b[0;34m\u001b[0m\u001b[0m\n\u001b[0;32m-> 2956\u001b[0;31m         \u001b[0mindexer\u001b[0m \u001b[0;34m=\u001b[0m \u001b[0mconvert_to_index_sliceable\u001b[0m\u001b[0;34m(\u001b[0m\u001b[0mself\u001b[0m\u001b[0;34m,\u001b[0m \u001b[0mkey\u001b[0m\u001b[0;34m)\u001b[0m\u001b[0;34m\u001b[0m\u001b[0;34m\u001b[0m\u001b[0m\n\u001b[0m\u001b[1;32m   2957\u001b[0m         \u001b[0;32mif\u001b[0m \u001b[0mindexer\u001b[0m \u001b[0;32mis\u001b[0m \u001b[0;32mnot\u001b[0m \u001b[0;32mNone\u001b[0m\u001b[0;34m:\u001b[0m\u001b[0;34m\u001b[0m\u001b[0;34m\u001b[0m\u001b[0m\n\u001b[1;32m   2958\u001b[0m             \u001b[0;32mreturn\u001b[0m \u001b[0mself\u001b[0m\u001b[0;34m.\u001b[0m\u001b[0m_slice\u001b[0m\u001b[0;34m(\u001b[0m\u001b[0mindexer\u001b[0m\u001b[0;34m,\u001b[0m \u001b[0maxis\u001b[0m\u001b[0;34m=\u001b[0m\u001b[0;36m0\u001b[0m\u001b[0;34m)\u001b[0m\u001b[0;34m\u001b[0m\u001b[0;34m\u001b[0m\u001b[0m\n",
      "\u001b[0;32m/ssd/miniconda3/envs/cap394/lib/python3.6/site-packages/pandas/core/indexing.py\u001b[0m in \u001b[0;36mconvert_to_index_sliceable\u001b[0;34m(obj, key)\u001b[0m\n\u001b[1;32m   2331\u001b[0m     \u001b[0midx\u001b[0m \u001b[0;34m=\u001b[0m \u001b[0mobj\u001b[0m\u001b[0;34m.\u001b[0m\u001b[0mindex\u001b[0m\u001b[0;34m\u001b[0m\u001b[0;34m\u001b[0m\u001b[0m\n\u001b[1;32m   2332\u001b[0m     \u001b[0;32mif\u001b[0m \u001b[0misinstance\u001b[0m\u001b[0;34m(\u001b[0m\u001b[0mkey\u001b[0m\u001b[0;34m,\u001b[0m \u001b[0mslice\u001b[0m\u001b[0;34m)\u001b[0m\u001b[0;34m:\u001b[0m\u001b[0;34m\u001b[0m\u001b[0;34m\u001b[0m\u001b[0m\n\u001b[0;32m-> 2333\u001b[0;31m         \u001b[0;32mreturn\u001b[0m \u001b[0midx\u001b[0m\u001b[0;34m.\u001b[0m\u001b[0m_convert_slice_indexer\u001b[0m\u001b[0;34m(\u001b[0m\u001b[0mkey\u001b[0m\u001b[0;34m,\u001b[0m \u001b[0mkind\u001b[0m\u001b[0;34m=\u001b[0m\u001b[0;34m\"getitem\"\u001b[0m\u001b[0;34m)\u001b[0m\u001b[0;34m\u001b[0m\u001b[0;34m\u001b[0m\u001b[0m\n\u001b[0m\u001b[1;32m   2334\u001b[0m \u001b[0;34m\u001b[0m\u001b[0m\n\u001b[1;32m   2335\u001b[0m     \u001b[0;32melif\u001b[0m \u001b[0misinstance\u001b[0m\u001b[0;34m(\u001b[0m\u001b[0mkey\u001b[0m\u001b[0;34m,\u001b[0m \u001b[0mstr\u001b[0m\u001b[0;34m)\u001b[0m\u001b[0;34m:\u001b[0m\u001b[0;34m\u001b[0m\u001b[0;34m\u001b[0m\u001b[0m\n",
      "\u001b[0;32m/ssd/miniconda3/envs/cap394/lib/python3.6/site-packages/pandas/core/indexes/base.py\u001b[0m in \u001b[0;36m_convert_slice_indexer\u001b[0;34m(self, key, kind)\u001b[0m\n\u001b[1;32m   3181\u001b[0m             \u001b[0;32mif\u001b[0m \u001b[0mself\u001b[0m\u001b[0;34m.\u001b[0m\u001b[0mis_integer\u001b[0m\u001b[0;34m(\u001b[0m\u001b[0;34m)\u001b[0m \u001b[0;32mor\u001b[0m \u001b[0mis_index_slice\u001b[0m\u001b[0;34m:\u001b[0m\u001b[0;34m\u001b[0m\u001b[0;34m\u001b[0m\u001b[0m\n\u001b[1;32m   3182\u001b[0m                 return slice(\n\u001b[0;32m-> 3183\u001b[0;31m                     \u001b[0mself\u001b[0m\u001b[0;34m.\u001b[0m\u001b[0m_validate_indexer\u001b[0m\u001b[0;34m(\u001b[0m\u001b[0;34m\"slice\"\u001b[0m\u001b[0;34m,\u001b[0m \u001b[0mkey\u001b[0m\u001b[0;34m.\u001b[0m\u001b[0mstart\u001b[0m\u001b[0;34m,\u001b[0m \u001b[0mkind\u001b[0m\u001b[0;34m)\u001b[0m\u001b[0;34m,\u001b[0m\u001b[0;34m\u001b[0m\u001b[0;34m\u001b[0m\u001b[0m\n\u001b[0m\u001b[1;32m   3184\u001b[0m                     \u001b[0mself\u001b[0m\u001b[0;34m.\u001b[0m\u001b[0m_validate_indexer\u001b[0m\u001b[0;34m(\u001b[0m\u001b[0;34m\"slice\"\u001b[0m\u001b[0;34m,\u001b[0m \u001b[0mkey\u001b[0m\u001b[0;34m.\u001b[0m\u001b[0mstop\u001b[0m\u001b[0;34m,\u001b[0m \u001b[0mkind\u001b[0m\u001b[0;34m)\u001b[0m\u001b[0;34m,\u001b[0m\u001b[0;34m\u001b[0m\u001b[0;34m\u001b[0m\u001b[0m\n\u001b[1;32m   3185\u001b[0m                     \u001b[0mself\u001b[0m\u001b[0;34m.\u001b[0m\u001b[0m_validate_indexer\u001b[0m\u001b[0;34m(\u001b[0m\u001b[0;34m\"slice\"\u001b[0m\u001b[0;34m,\u001b[0m \u001b[0mkey\u001b[0m\u001b[0;34m.\u001b[0m\u001b[0mstep\u001b[0m\u001b[0;34m,\u001b[0m \u001b[0mkind\u001b[0m\u001b[0;34m)\u001b[0m\u001b[0;34m,\u001b[0m\u001b[0;34m\u001b[0m\u001b[0;34m\u001b[0m\u001b[0m\n",
      "\u001b[0;32m/ssd/miniconda3/envs/cap394/lib/python3.6/site-packages/pandas/core/indexes/base.py\u001b[0m in \u001b[0;36m_validate_indexer\u001b[0;34m(self, form, key, kind)\u001b[0m\n\u001b[1;32m   5062\u001b[0m             \u001b[0;32mpass\u001b[0m\u001b[0;34m\u001b[0m\u001b[0;34m\u001b[0m\u001b[0m\n\u001b[1;32m   5063\u001b[0m         \u001b[0;32melif\u001b[0m \u001b[0mkind\u001b[0m \u001b[0;32min\u001b[0m \u001b[0;34m[\u001b[0m\u001b[0;34m\"iloc\"\u001b[0m\u001b[0;34m,\u001b[0m \u001b[0;34m\"getitem\"\u001b[0m\u001b[0;34m]\u001b[0m\u001b[0;34m:\u001b[0m\u001b[0;34m\u001b[0m\u001b[0;34m\u001b[0m\u001b[0m\n\u001b[0;32m-> 5064\u001b[0;31m             \u001b[0mself\u001b[0m\u001b[0;34m.\u001b[0m\u001b[0m_invalid_indexer\u001b[0m\u001b[0;34m(\u001b[0m\u001b[0mform\u001b[0m\u001b[0;34m,\u001b[0m \u001b[0mkey\u001b[0m\u001b[0;34m)\u001b[0m\u001b[0;34m\u001b[0m\u001b[0;34m\u001b[0m\u001b[0m\n\u001b[0m\u001b[1;32m   5065\u001b[0m         \u001b[0;32mreturn\u001b[0m \u001b[0mkey\u001b[0m\u001b[0;34m\u001b[0m\u001b[0;34m\u001b[0m\u001b[0m\n\u001b[1;32m   5066\u001b[0m \u001b[0;34m\u001b[0m\u001b[0m\n",
      "\u001b[0;32m/ssd/miniconda3/envs/cap394/lib/python3.6/site-packages/pandas/core/indexes/base.py\u001b[0m in \u001b[0;36m_invalid_indexer\u001b[0;34m(self, form, key)\u001b[0m\n\u001b[1;32m   3331\u001b[0m             \u001b[0;34m\"cannot do {form} indexing on {klass} with these \"\u001b[0m\u001b[0;34m\u001b[0m\u001b[0;34m\u001b[0m\u001b[0m\n\u001b[1;32m   3332\u001b[0m             \"indexers [{key}] of {kind}\".format(\n\u001b[0;32m-> 3333\u001b[0;31m                 \u001b[0mform\u001b[0m\u001b[0;34m=\u001b[0m\u001b[0mform\u001b[0m\u001b[0;34m,\u001b[0m \u001b[0mklass\u001b[0m\u001b[0;34m=\u001b[0m\u001b[0mtype\u001b[0m\u001b[0;34m(\u001b[0m\u001b[0mself\u001b[0m\u001b[0;34m)\u001b[0m\u001b[0;34m,\u001b[0m \u001b[0mkey\u001b[0m\u001b[0;34m=\u001b[0m\u001b[0mkey\u001b[0m\u001b[0;34m,\u001b[0m \u001b[0mkind\u001b[0m\u001b[0;34m=\u001b[0m\u001b[0mtype\u001b[0m\u001b[0;34m(\u001b[0m\u001b[0mkey\u001b[0m\u001b[0;34m)\u001b[0m\u001b[0;34m\u001b[0m\u001b[0;34m\u001b[0m\u001b[0m\n\u001b[0m\u001b[1;32m   3334\u001b[0m             )\n\u001b[1;32m   3335\u001b[0m         )\n",
      "\u001b[0;31mTypeError\u001b[0m: cannot do slice indexing on <class 'pandas.core.indexes.range.RangeIndex'> with these indexers [time] of <class 'str'>"
     ]
    }
   ],
   "source": [
    "clusters = clusterization(0,1)\n",
    "clusters"
   ]
  },
  {
   "cell_type": "code",
   "execution_count": null,
   "metadata": {},
   "outputs": [],
   "source": [
    "pt = np.zeros( (2, 140, 2 ) )\n",
    "    \n",
    "pt.shape"
   ]
  },
  {
   "cell_type": "code",
   "execution_count": null,
   "metadata": {},
   "outputs": [],
   "source": [
    "clusters = clusterization(1)"
   ]
  },
  {
   "cell_type": "code",
   "execution_count": null,
   "metadata": {},
   "outputs": [],
   "source": [
    "clusters = clusterization(2)"
   ]
  },
  {
   "cell_type": "code",
   "execution_count": null,
   "metadata": {},
   "outputs": [],
   "source": [
    "def centroid_clusters(clus):\n",
    "    nclusters = (clus['N_Cluster'].unique())\n",
    "    \n",
    "    cclusters = []\n",
    "    \n",
    "    for i in sorted(nclusters):\n",
    "        temp = clus.loc[clus['N_Cluster'] == i].mean()\n",
    "        temp = temp[['N_Cluster','LON', 'LAT','PRECIPIT']].values\n",
    "        cclusters.append(temp)\n",
    "    \n",
    "    return cclusters"
   ]
  },
  {
   "cell_type": "code",
   "execution_count": null,
   "metadata": {},
   "outputs": [],
   "source": [
    "clusters"
   ]
  },
  {
   "cell_type": "code",
   "execution_count": null,
   "metadata": {},
   "outputs": [],
   "source": [
    "clusters = clusterization(4)"
   ]
  },
  {
   "cell_type": "code",
   "execution_count": null,
   "metadata": {},
   "outputs": [],
   "source": [
    "centroid = centroid_clusters(clusters)\n",
    "centroid"
   ]
  },
  {
   "cell_type": "code",
   "execution_count": null,
   "metadata": {},
   "outputs": [],
   "source": [
    "clusters.head()"
   ]
  },
  {
   "cell_type": "code",
   "execution_count": null,
   "metadata": {},
   "outputs": [],
   "source": [
    "centro = centroid[1][1],centroid[1][2]\n",
    "centro"
   ]
  },
  {
   "cell_type": "code",
   "execution_count": null,
   "metadata": {},
   "outputs": [],
   "source": [
    "    my_coords = [-3.148556, -59.992000]     ## RADAR T1 SIPAM COORDS\n",
    "    zoom_scale = 2.2                        ## ZOOM SCALE\n",
    "\n",
    "    bbox = [my_coords[0]-zoom_scale,my_coords[0]+zoom_scale,\\\n",
    "            my_coords[1]-zoom_scale,my_coords[1]+zoom_scale]\n",
    "\n",
    "\n",
    "    fig, axes = plt.subplots(nrows=1,ncols=1,figsize=(10,10),dpi=100)\n",
    "    label = 'Rain rate in ' + runit+ ''\n",
    "    title = 'SIPAM Manaus S-Band Radar :' + str(start_time)\n",
    "\n",
    "    # draw filled contours.\n",
    "    clevs = [0, 1, 2.5, 5, 7.5, 10, 15, 20, 30, 40,\n",
    "             50, 70, 100]\n",
    "\n",
    "    cmap_data = [(1.0, 1.0, 1.0),\n",
    "                 (0.3137255012989044, 0.8156862854957581, 0.8156862854957581),\n",
    "                 (0.0, 1.0, 1.0),\n",
    "                 (0.0, 0.8784313797950745, 0.501960813999176),\n",
    "                 (0.0, 0.7529411911964417, 0.0),\n",
    "                 (0.501960813999176, 0.8784313797950745, 0.0),\n",
    "                 (1.0, 1.0, 0.0),\n",
    "                 (1.0, 0.6274510025978088, 0.0),\n",
    "                 (1.0, 0.0, 0.0),\n",
    "                 (1.0, 0.125490203499794, 0.501960813999176),\n",
    "                 (0.9411764740943909, 0.250980406999588, 1.0),\n",
    "                 (0.501960813999176, 0.125490203499794, 1.0),\n",
    "                 (0.250980406999588, 0.250980406999588, 1.0),\n",
    "                 (0.125490203499794, 0.125490203499794, 0.501960813999176),\n",
    "                 (0.125490203499794, 0.125490203499794, 0.125490203499794),\n",
    "                 (0.501960813999176, 0.501960813999176, 0.501960813999176),\n",
    "                 (0.8784313797950745, 0.8784313797950745, 0.8784313797950745),\n",
    "                 (0.9333333373069763, 0.8313725590705872, 0.7372549176216125),\n",
    "                 (0.8549019694328308, 0.6509804129600525, 0.47058823704719543),\n",
    "                 (0.6274510025978088, 0.42352941632270813, 0.23529411852359772),\n",
    "                 (0.4000000059604645, 0.20000000298023224, 0.0)]\n",
    "    cmap = mcolors.ListedColormap(cmap_data, 'precipitation')\n",
    "    norm = mcolors.BoundaryNorm(clevs, cmap.N)\n",
    "    ax = axes\n",
    "\n",
    "    m = Basemap(projection='merc',llcrnrlat=bbox[0],urcrnrlat=bbox[1],\\\n",
    "                llcrnrlon=bbox[2],urcrnrlon=bbox[3],lat_ts=10,resolution='i')\n",
    "\n",
    "    ## COORDS\n",
    "    xi, yi = m(lon, lat)\n",
    "    ## SIPAM RADAR\n",
    "    xm, ym = m(my_coords[1],my_coords[0])\n",
    "    radar = m.plot(xm,ym, marker='^',color='r', label='RADAR')\n",
    "\n",
    "    #T3/Manacapuru: RADAR, RADIOSONDE e ETC - Principal [-3.212929, -60.598371]\n",
    "    #Lat = 3° 12' 46.56\" S\n",
    "    #Long = 60° 35' 54.16\" W\n",
    "    #t3x,t3y = m(-60.598371,-3.212929)##-3.212929, -60.598371\n",
    "    t3x,t3y = m(centroid[0][1],centroid[0][2])\n",
    "    T3 = m.plot(t3x,t3y, marker='*',color='r', label='T3', markersize=20)\n",
    "\n",
    "    ## PRECIPTACAO\n",
    "    cs = m.pcolormesh(xi,yi,frames[0], cmap = cmap, norm = norm, ax=ax)\n",
    "\n",
    "    # # # # Add Grid Lines\n",
    "    m.drawparallels(np.arange(bbox[0],bbox[1],(bbox[1]-bbox[0])/5),labels=[1,0,0,0],rotation=45, size=(7))\n",
    "    m.drawmeridians(np.arange(bbox[2],bbox[3],(bbox[3]-bbox[2])/5),labels=[0,0,0,1],rotation=45, size=(7))\n",
    "    m.drawmapboundary(fill_color='gray')\n",
    "\n",
    "    m.drawcoastlines()\n",
    "    m.drawstates()\n",
    "    m.drawcountries()\n",
    "    #m.fillcontinents(color='#FAFAFA',lake_color='dodgerblue')\n",
    "    #m.drawlsmask(land_color='Linen', lake_color='#CCFFFF')\n",
    "    m.drawrivers(color = '#0043CB', linewidth=1)\n",
    "\n",
    "    #m.readshapefile('./data/am_municipios/13MUE250GC_SIR', 'teste')\n",
    "\n",
    "    # # # # # Add Colorbar\n",
    "    cbar = m.colorbar(cs, location='bottom', pad=\"10%\")\n",
    "    cbar.set_label(label)\n",
    "\n",
    "    # # # # # Add Title\n",
    "    plt.title(title)\n",
    "    plt.legend()\n",
    "    plt.ylabel('Longitude', labelpad=40)\n",
    "    plt.xlabel('Latitude', labelpad=60)\n",
    "\n",
    "    plt.show()"
   ]
  },
  {
   "cell_type": "code",
   "execution_count": null,
   "metadata": {},
   "outputs": [],
   "source": [
    "from lib.radar_plot import radar_plot\n",
    "img = radar_plot(rr=frames[0],runit=runit,lat=lat,lon=lon,start_time=start_time,stop_time=stop_time)"
   ]
  },
  {
   "cell_type": "code",
   "execution_count": null,
   "metadata": {},
   "outputs": [],
   "source": [
    "def getRange(data):\n",
    "    \n",
    "    rrange = np.zeros((241,241))\n",
    "    \n",
    "    for i in range(241):\n",
    "        for j in range(241):\n",
    "            if np.isnan(data[0][i][j]):\n",
    "                rrange[i][j] = data[0][i][j]\n",
    "    return rrangedly notic"
   ]
  },
  {
   "cell_type": "code",
   "execution_count": null,
   "metadata": {},
   "outputs": [],
   "source": [
    "### Without Radar range\n",
    "frame = np.nan_to_num(frames[10])"
   ]
  },
  {
   "cell_type": "markdown",
   "metadata": {},
   "source": [
    "#### 1.7 Function for create Animation (Giff File in root dir)"
   ]
  },
  {
   "cell_type": "code",
   "execution_count": null,
   "metadata": {},
   "outputs": [],
   "source": [
    "def createGiff():\n",
    "    my_coords = [-3.148556, -59.992000]     ## RADAR T1 SIPAM COORDS\n",
    "    zoom_scale = 2.2                        ## ZOOM SCALE\n",
    "\n",
    "    fig, axes = plt.subplots(nrows=1,ncols=1,figsize=(10,10),dpi=100)\n",
    "\n",
    "    # draw filled contours.\n",
    "    clevs = [0, 1, 2.5, 5, 7.5, 10, 15, 20, 30, 40,\n",
    "                 50, 70, 100]\n",
    "\n",
    "    cmap_data = [(1.0, 1.0, 1.0),\n",
    "                     (0.3137255012989044, 0.8156862854957581, 0.8156862854957581),\n",
    "                     (0.0, 1.0, 1.0),\n",
    "                     (0.0, 0.8784313797950745, 0.501960813999176),\n",
    "                     (0.0, 0.7529411911964417, 0.0),\n",
    "                     (0.501960813999176, 0.8784313797950745, 0.0),\n",
    "                     (1.0, 1.0, 0.0),\n",
    "                     (1.0, 0.6274510025978088, 0.0),\n",
    "                     (1.0, 0.0, 0.0),\n",
    "                     (1.0, 0.125490203499794, 0.501960813999176),\n",
    "                     (0.9411764740943909, 0.250980406999588, 1.0),\n",
    "                     (0.501960813999176, 0.125490203499794, 1.0),\n",
    "                     (0.250980406999588, 0.250980406999588, 1.0),\n",
    "                     (0.1254900203499794, 0.125490203499794, 0.501960813999176),\n",
    "                     (0.125490203499794, 0.125490203499794, 0.125490203499794),\n",
    "                     (0.501960813999176, 0.501960813999176, 0.501960813999176),\n",
    "                     (0.8784313797950745, 0.8784313797950745, 0.8784313797950745),\n",
    "                     (0.9333333373069763, 0.8313725590705872, 0.7372549176216125),\n",
    "                     (0.8549019694328308, 0.6509804129600525, 0.47058823704719543),\n",
    "                     (0.6274510025978088, 0.42352941632270813, 0.23529411852359772),\n",
    "                     (0.4000000059604645, 0.20000000298023224, 0.0)]\n",
    "    cmap = mcolors.ListedColormap(cmap_data, 'precipitation')\n",
    "    norm = mcolors.BoundaryNorm(clevs, cmap.N)\n",
    "    ax = axes\n",
    "\n",
    "    label = 'Rain rate in ' + runit\n",
    "    title = os.listdir(datadir+str(ddate))[0]\n",
    "\n",
    "\n",
    "    ## BASEMAP\n",
    "    bbox = [my_coords[0]-zoom_scale,my_coords[0]+zoom_scale,\\\n",
    "            my_coords[1]-zoom_scale,my_coords[1]+zoom_scale]\n",
    "\n",
    "    m = Basemap(projection='merc',llcrnrlat=bbox[0],urcrnrlat=bbox[1],\\\n",
    "                llcrnrlon=bbox[2],urcrnrlon=bbox[3],lat_ts=10,resolution='i')\n",
    "\n",
    "    ## SIPAM RADAR\n",
    "    xm, ym = m(my_coords[1],my_coords[0])\n",
    "    radar = m.plot(xm,ym, marker='^',color='r', label='RADAR')\n",
    "\n",
    "    # # # # Add Grid Lines\n",
    "    m.drawparallels(np.arange(bbox[0],bbox[1],(bbox[1]-bbox[0])/5),labels=[1,0,0,0],rotation=45, size=(7))\n",
    "    m.drawmeridians(np.arange(bbox[2],bbox[3],(bbox[3]-bbox[2])/5),labels=[0,0,0,1],rotation=45, size=(7))\n",
    "    m.drawmapboundary(fill_color='gray')\n",
    "\n",
    "    m.drawcoastlines()\n",
    "    m.drawstates()\n",
    "    m.drawcountries()\n",
    "    m.drawrivers(color = '#0043CB', linewidth=1)\n",
    "\n",
    "    # # # # # Add Title\n",
    "    plt.title(title)\n",
    "    plt.legend()\n",
    "    plt.ylabel('Longitude', labelpad=40)\n",
    "    plt.xlabel('Latitude', labelpad=60)\n",
    "\n",
    "    #CLOUDS\n",
    "    xi, yi = m(lon, lat)\n",
    "    cs = m.pcolormesh(xi,yi,frames[0],cmap = cmap, norm = norm, ax=ax)\n",
    "    cs = m.pcolormesh(xi,yi,rr)\n",
    "\n",
    "    def init():\n",
    "        return cs,\n",
    "\n",
    "    def animate(i):\n",
    "        plt.title('Tempo: ' + str(i) + ' File: '+sorted(os.listdir(datadir+str(ddate)))[i])#)\n",
    "        m.pcolormesh(xi,yi,frames[i],cmap = cmap, norm = norm, ax=ax)\n",
    "        return cs,\n",
    "\n",
    "    # # # # # Add Colorbar\n",
    "    cbar = m.colorbar(cs, location='bottom', pad=\"10%\")\n",
    "    cbar.set_label(label)\n",
    "\n",
    "    anim = animation.FuncAnimation(fig, animate, init_func=init, frames=interval,  blit=True, repeat=True, save_count=interval)\n",
    "    anim.save(os.listdir(datadir+str(ddate))[0]+'.gif', writer='imagemagick', fps=1)"
   ]
  },
  {
   "cell_type": "code",
   "execution_count": null,
   "metadata": {},
   "outputs": [],
   "source": [
    "def limiar(data):\n",
    "\n",
    "    lMax = len(data[0])\n",
    "    llim = np.zeros((data.shape[0],data.shape[1],data.shape[2]))\n",
    "    #llim[llim == 0] = np.float32('nan')\n",
    "    \n",
    "    for k in range(len(data)):\n",
    "        for i in range(lMax):\n",
    "            for j in range(lMax):\n",
    "                if data[k][i][j] > 5:\n",
    "                    llim[k][i][j] = data[k][i][j]\n",
    "                    \n",
    "    for k in range(len(data)):\n",
    "        for i in range(lMax):\n",
    "            for j in range(lMax):\n",
    "                if np.isnan(data[0][i][j]):\n",
    "                    llim[k][i][j] = data[0][i][j]\n",
    "    return llim"
   ]
  },
  {
   "cell_type": "code",
   "execution_count": null,
   "metadata": {},
   "outputs": [],
   "source": [
    "def centroid(data):\n",
    "    \n",
    "    sizeM = len(data[0])\n",
    "    \n",
    "    for k in range(len(data)):\n",
    "        maxx = np.nanmax(data[k])\n",
    "        for i in range(sizeM):\n",
    "            for j in range(sizeM):\n",
    "                if data[k][i][j] == maxx:\n",
    "                    print ('Tempo: ',k, 'max: ', maxx, 'X: ',x0[i].data, 'Y: ',y0[j].data)"
   ]
  },
  {
   "cell_type": "code",
   "execution_count": null,
   "metadata": {},
   "outputs": [],
   "source": [
    "figtime = 0\n",
    "\n",
    "plt.figure(figsize=(8,8))\n",
    "plt.title(os.listdir(datadir+str(ddate))[figtime])\n",
    "plt.scatter(lon,lat,frames[figtime])"
   ]
  },
  {
   "cell_type": "code",
   "execution_count": null,
   "metadata": {},
   "outputs": [],
   "source": [
    "for i in range(len(matrix)):\n",
    "    print('Cluster :',labels[i], 'Y :', matrix[i][1], 'Y :', matrix[i][0])"
   ]
  },
  {
   "cell_type": "markdown",
   "metadata": {},
   "source": [
    "#### RESULTS"
   ]
  },
  {
   "cell_type": "markdown",
   "metadata": {},
   "source": [
    "#### CONCLUSIONS"
   ]
  },
  {
   "cell_type": "markdown",
   "metadata": {},
   "source": [
    "#### REFERENCES"
   ]
  }
 ],
 "metadata": {
  "kernelspec": {
   "display_name": "Python 3",
   "language": "python",
   "name": "python3"
  },
  "language_info": {
   "codemirror_mode": {
    "name": "ipython",
    "version": 3
   },
   "file_extension": ".py",
   "mimetype": "text/x-python",
   "name": "python",
   "nbconvert_exporter": "python",
   "pygments_lexer": "ipython3",
   "version": "3.6.7"
  }
 },
 "nbformat": 4,
 "nbformat_minor": 2
}
